{
 "cells": [
  {
   "cell_type": "markdown",
   "metadata": {
    "toc": true
   },
   "source": [
    "<h1>Table of Contents<span class=\"tocSkip\"></span></h1>\n",
    "<div class=\"toc\"><ul class=\"toc-item\"><li><span><a href=\"#Введение\" data-toc-modified-id=\"Введение-1\"><span class=\"toc-item-num\">1&nbsp;&nbsp;</span>Введение</a></span></li><li><span><a href=\"#Открытие-файла-и-изучение-общей-информации\" data-toc-modified-id=\"Открытие-файла-и-изучение-общей-информации-2\"><span class=\"toc-item-num\">2&nbsp;&nbsp;</span>Открытие файла и изучение общей информации</a></span></li><li><span><a href=\"#Предобработка-данных\" data-toc-modified-id=\"Предобработка-данных-3\"><span class=\"toc-item-num\">3&nbsp;&nbsp;</span>Предобработка данных</a></span><ul class=\"toc-item\"><li><span><a href=\"#Общие-изменения\" data-toc-modified-id=\"Общие-изменения-3.1\"><span class=\"toc-item-num\">3.1&nbsp;&nbsp;</span>Общие изменения</a></span></li><li><span><a href=\"#Название\" data-toc-modified-id=\"Название-3.2\"><span class=\"toc-item-num\">3.2&nbsp;&nbsp;</span>Название</a></span></li><li><span><a href=\"#Платформа\" data-toc-modified-id=\"Платформа-3.3\"><span class=\"toc-item-num\">3.3&nbsp;&nbsp;</span>Платформа</a></span></li><li><span><a href=\"#Год-выпуска\" data-toc-modified-id=\"Год-выпуска-3.4\"><span class=\"toc-item-num\">3.4&nbsp;&nbsp;</span>Год выпуска</a></span></li><li><span><a href=\"#Жанр\" data-toc-modified-id=\"Жанр-3.5\"><span class=\"toc-item-num\">3.5&nbsp;&nbsp;</span>Жанр</a></span></li><li><span><a href=\"#Продажи-в-Северной-Америке\" data-toc-modified-id=\"Продажи-в-Северной-Америке-3.6\"><span class=\"toc-item-num\">3.6&nbsp;&nbsp;</span>Продажи в Северной Америке</a></span></li><li><span><a href=\"#Продажи-в-Европе\" data-toc-modified-id=\"Продажи-в-Европе-3.7\"><span class=\"toc-item-num\">3.7&nbsp;&nbsp;</span>Продажи в Европе</a></span></li><li><span><a href=\"#Продажи-в-Японии\" data-toc-modified-id=\"Продажи-в-Японии-3.8\"><span class=\"toc-item-num\">3.8&nbsp;&nbsp;</span>Продажи в Японии</a></span></li><li><span><a href=\"#Продажи-в-других-странах\" data-toc-modified-id=\"Продажи-в-других-странах-3.9\"><span class=\"toc-item-num\">3.9&nbsp;&nbsp;</span>Продажи в других странах</a></span></li><li><span><a href=\"#Оценки-критиков\" data-toc-modified-id=\"Оценки-критиков-3.10\"><span class=\"toc-item-num\">3.10&nbsp;&nbsp;</span>Оценки критиков</a></span></li><li><span><a href=\"#Оценка-пользователей\" data-toc-modified-id=\"Оценка-пользователей-3.11\"><span class=\"toc-item-num\">3.11&nbsp;&nbsp;</span>Оценка пользователей</a></span></li><li><span><a href=\"#Рейтинг-ESRB\" data-toc-modified-id=\"Рейтинг-ESRB-3.12\"><span class=\"toc-item-num\">3.12&nbsp;&nbsp;</span>Рейтинг ESRB</a></span></li><li><span><a href=\"#Общие-продажи\" data-toc-modified-id=\"Общие-продажи-3.13\"><span class=\"toc-item-num\">3.13&nbsp;&nbsp;</span>Общие продажи</a></span></li><li><span><a href=\"#Вывод\" data-toc-modified-id=\"Вывод-3.14\"><span class=\"toc-item-num\">3.14&nbsp;&nbsp;</span>Вывод</a></span></li></ul></li><li><span><a href=\"#Исследовательский-анализ-данных\" data-toc-modified-id=\"Исследовательский-анализ-данных-4\"><span class=\"toc-item-num\">4&nbsp;&nbsp;</span>Исследовательский анализ данных</a></span><ul class=\"toc-item\"><li><span><a href=\"#Гисторамма-выпуска-игр-по-годам\" data-toc-modified-id=\"Гисторамма-выпуска-игр-по-годам-4.1\"><span class=\"toc-item-num\">4.1&nbsp;&nbsp;</span>Гисторамма выпуска игр по годам</a></span></li><li><span><a href=\"#Платформы-с-наибольшими-суммарными-продажами\" data-toc-modified-id=\"Платформы-с-наибольшими-суммарными-продажами-4.2\"><span class=\"toc-item-num\">4.2&nbsp;&nbsp;</span>Платформы с наибольшими суммарными продажами</a></span></li><li><span><a href=\"#Диаграмма-размаха-по-платформам\" data-toc-modified-id=\"Диаграмма-размаха-по-платформам-4.3\"><span class=\"toc-item-num\">4.3&nbsp;&nbsp;</span>Диаграмма размаха по платформам</a></span></li><li><span><a href=\"#Влияние-отзывов-на-популярность-платформы\" data-toc-modified-id=\"Влияние-отзывов-на-популярность-платформы-4.4\"><span class=\"toc-item-num\">4.4&nbsp;&nbsp;</span>Влияние отзывов на популярность платформы</a></span><ul class=\"toc-item\"><li><span><a href=\"#PS4\" data-toc-modified-id=\"PS4-4.4.1\"><span class=\"toc-item-num\">4.4.1&nbsp;&nbsp;</span>PS4</a></span></li><li><span><a href=\"#XOne\" data-toc-modified-id=\"XOne-4.4.2\"><span class=\"toc-item-num\">4.4.2&nbsp;&nbsp;</span>XOne</a></span></li><li><span><a href=\"#WiiU\" data-toc-modified-id=\"WiiU-4.4.3\"><span class=\"toc-item-num\">4.4.3&nbsp;&nbsp;</span>WiiU</a></span></li><li><span><a href=\"#3DS\" data-toc-modified-id=\"3DS-4.4.4\"><span class=\"toc-item-num\">4.4.4&nbsp;&nbsp;</span>3DS</a></span></li></ul></li><li><span><a href=\"#Распределение-игр-по-жанрам\" data-toc-modified-id=\"Распределение-игр-по-жанрам-4.5\"><span class=\"toc-item-num\">4.5&nbsp;&nbsp;</span>Распределение игр по жанрам</a></span></li><li><span><a href=\"#Вывод\" data-toc-modified-id=\"Вывод-4.6\"><span class=\"toc-item-num\">4.6&nbsp;&nbsp;</span>Вывод</a></span></li></ul></li><li><span><a href=\"#Портреты-пользователя-по-регионам\" data-toc-modified-id=\"Портреты-пользователя-по-регионам-5\"><span class=\"toc-item-num\">5&nbsp;&nbsp;</span>Портреты пользователя по регионам</a></span><ul class=\"toc-item\"><li><span><a href=\"#NA_sales\" data-toc-modified-id=\"NA_sales-5.1\"><span class=\"toc-item-num\">5.1&nbsp;&nbsp;</span>NA_sales</a></span></li><li><span><a href=\"#EU_sales\" data-toc-modified-id=\"EU_sales-5.2\"><span class=\"toc-item-num\">5.2&nbsp;&nbsp;</span>EU_sales</a></span></li><li><span><a href=\"#JP_sales\" data-toc-modified-id=\"JP_sales-5.3\"><span class=\"toc-item-num\">5.3&nbsp;&nbsp;</span>JP_sales</a></span></li><li><span><a href=\"#Вывод\" data-toc-modified-id=\"Вывод-5.4\"><span class=\"toc-item-num\">5.4&nbsp;&nbsp;</span>Вывод</a></span></li></ul></li><li><span><a href=\"#Проверка-гипотез\" data-toc-modified-id=\"Проверка-гипотез-6\"><span class=\"toc-item-num\">6&nbsp;&nbsp;</span>Проверка гипотез</a></span><ul class=\"toc-item\"><li><span><a href=\"#Средние-пользовательские-рейтинги-платформ\" data-toc-modified-id=\"Средние-пользовательские-рейтинги-платформ-6.1\"><span class=\"toc-item-num\">6.1&nbsp;&nbsp;</span>Средние пользовательские рейтинги платформ</a></span></li><li><span><a href=\"#Средние-пользовательские-рейтинги-жанров\" data-toc-modified-id=\"Средние-пользовательские-рейтинги-жанров-6.2\"><span class=\"toc-item-num\">6.2&nbsp;&nbsp;</span>Средние пользовательские рейтинги жанров</a></span></li></ul></li><li><span><a href=\"#Общий-вывод\" data-toc-modified-id=\"Общий-вывод-7\"><span class=\"toc-item-num\">7&nbsp;&nbsp;</span>Общий вывод</a></span></li></ul></div>"
   ]
  },
  {
   "cell_type": "markdown",
   "metadata": {},
   "source": [
    "### Введение\n",
    "\n",
    "\n"
   ]
  },
  {
   "cell_type": "markdown",
   "metadata": {},
   "source": [
    "Предстоит изучить исторические данные о продажах компьютерных игр в трех регионах: Северная Америка, Европа, Япония. \n",
    "\n",
    "Цель: выявить закономерности, влияющие на высокие продажи и длительность жизни игр. \n",
    "\n",
    "Данные по 2016 год включительно (в 2016 информация может быть неполной)\n",
    "\n",
    "Описание данных\n",
    "- Name — название игры\n",
    "- Platform — платформа\n",
    "- Year_of_Release — год выпуска\n",
    "- Genre — жанр игры\n",
    "- NA_sales — продажи в Северной Америке (миллионы проданных копий)\n",
    "- EU_sales — продажи в Европе (миллионы проданных копий)\n",
    "- JP_sales — продажи в Японии (миллионы проданных копий)\n",
    "- Other_sales — продажи в других странах (миллионы проданных копий)\n",
    "- Critic_Score — оценка критиков (максимум 100)\n",
    "- User_Score — оценка пользователей (максимум 10)\n",
    "- Rating — рейтинг от организации ESRB (англ. Entertainment Software Rating Board). Эта ассоциация определяет рейтинг компьютерных игр и присваивает им подходящую возрастную категорию."
   ]
  },
  {
   "cell_type": "markdown",
   "metadata": {},
   "source": [
    "### Открытие файла и изучение общей информации"
   ]
  },
  {
   "cell_type": "code",
   "execution_count": 1,
   "metadata": {},
   "outputs": [],
   "source": [
    "import pandas as pd\n",
    "import numpy as np\n",
    "import matplotlib.pyplot as plt\n",
    "import seaborn as sns\n",
    "from scipy import stats as st"
   ]
  },
  {
   "cell_type": "code",
   "execution_count": 2,
   "metadata": {},
   "outputs": [],
   "source": [
    "try:\n",
    "     data = pd.read_csv(r\"C:\\Проекты Яндекс.Практикум\\5. Сборный проект-1. Компьютерные игры\\Датасет\\games.csv\")\n",
    "except: \n",
    "    data= pd.read_csv('/datasets/games.csv')"
   ]
  },
  {
   "cell_type": "code",
   "execution_count": 3,
   "metadata": {},
   "outputs": [
    {
     "data": {
      "text/html": [
       "<div>\n",
       "<style scoped>\n",
       "    .dataframe tbody tr th:only-of-type {\n",
       "        vertical-align: middle;\n",
       "    }\n",
       "\n",
       "    .dataframe tbody tr th {\n",
       "        vertical-align: top;\n",
       "    }\n",
       "\n",
       "    .dataframe thead th {\n",
       "        text-align: right;\n",
       "    }\n",
       "</style>\n",
       "<table border=\"1\" class=\"dataframe\">\n",
       "  <thead>\n",
       "    <tr style=\"text-align: right;\">\n",
       "      <th></th>\n",
       "      <th>Name</th>\n",
       "      <th>Platform</th>\n",
       "      <th>Year_of_Release</th>\n",
       "      <th>Genre</th>\n",
       "      <th>NA_sales</th>\n",
       "      <th>EU_sales</th>\n",
       "      <th>JP_sales</th>\n",
       "      <th>Other_sales</th>\n",
       "      <th>Critic_Score</th>\n",
       "      <th>User_Score</th>\n",
       "      <th>Rating</th>\n",
       "    </tr>\n",
       "  </thead>\n",
       "  <tbody>\n",
       "    <tr>\n",
       "      <th>0</th>\n",
       "      <td>Wii Sports</td>\n",
       "      <td>Wii</td>\n",
       "      <td>2006.0</td>\n",
       "      <td>Sports</td>\n",
       "      <td>41.36</td>\n",
       "      <td>28.96</td>\n",
       "      <td>3.77</td>\n",
       "      <td>8.45</td>\n",
       "      <td>76.0</td>\n",
       "      <td>8</td>\n",
       "      <td>E</td>\n",
       "    </tr>\n",
       "    <tr>\n",
       "      <th>1</th>\n",
       "      <td>Super Mario Bros.</td>\n",
       "      <td>NES</td>\n",
       "      <td>1985.0</td>\n",
       "      <td>Platform</td>\n",
       "      <td>29.08</td>\n",
       "      <td>3.58</td>\n",
       "      <td>6.81</td>\n",
       "      <td>0.77</td>\n",
       "      <td>NaN</td>\n",
       "      <td>NaN</td>\n",
       "      <td>NaN</td>\n",
       "    </tr>\n",
       "    <tr>\n",
       "      <th>2</th>\n",
       "      <td>Mario Kart Wii</td>\n",
       "      <td>Wii</td>\n",
       "      <td>2008.0</td>\n",
       "      <td>Racing</td>\n",
       "      <td>15.68</td>\n",
       "      <td>12.76</td>\n",
       "      <td>3.79</td>\n",
       "      <td>3.29</td>\n",
       "      <td>82.0</td>\n",
       "      <td>8.3</td>\n",
       "      <td>E</td>\n",
       "    </tr>\n",
       "    <tr>\n",
       "      <th>3</th>\n",
       "      <td>Wii Sports Resort</td>\n",
       "      <td>Wii</td>\n",
       "      <td>2009.0</td>\n",
       "      <td>Sports</td>\n",
       "      <td>15.61</td>\n",
       "      <td>10.93</td>\n",
       "      <td>3.28</td>\n",
       "      <td>2.95</td>\n",
       "      <td>80.0</td>\n",
       "      <td>8</td>\n",
       "      <td>E</td>\n",
       "    </tr>\n",
       "    <tr>\n",
       "      <th>4</th>\n",
       "      <td>Pokemon Red/Pokemon Blue</td>\n",
       "      <td>GB</td>\n",
       "      <td>1996.0</td>\n",
       "      <td>Role-Playing</td>\n",
       "      <td>11.27</td>\n",
       "      <td>8.89</td>\n",
       "      <td>10.22</td>\n",
       "      <td>1.00</td>\n",
       "      <td>NaN</td>\n",
       "      <td>NaN</td>\n",
       "      <td>NaN</td>\n",
       "    </tr>\n",
       "    <tr>\n",
       "      <th>5</th>\n",
       "      <td>Tetris</td>\n",
       "      <td>GB</td>\n",
       "      <td>1989.0</td>\n",
       "      <td>Puzzle</td>\n",
       "      <td>23.20</td>\n",
       "      <td>2.26</td>\n",
       "      <td>4.22</td>\n",
       "      <td>0.58</td>\n",
       "      <td>NaN</td>\n",
       "      <td>NaN</td>\n",
       "      <td>NaN</td>\n",
       "    </tr>\n",
       "    <tr>\n",
       "      <th>6</th>\n",
       "      <td>New Super Mario Bros.</td>\n",
       "      <td>DS</td>\n",
       "      <td>2006.0</td>\n",
       "      <td>Platform</td>\n",
       "      <td>11.28</td>\n",
       "      <td>9.14</td>\n",
       "      <td>6.50</td>\n",
       "      <td>2.88</td>\n",
       "      <td>89.0</td>\n",
       "      <td>8.5</td>\n",
       "      <td>E</td>\n",
       "    </tr>\n",
       "    <tr>\n",
       "      <th>7</th>\n",
       "      <td>Wii Play</td>\n",
       "      <td>Wii</td>\n",
       "      <td>2006.0</td>\n",
       "      <td>Misc</td>\n",
       "      <td>13.96</td>\n",
       "      <td>9.18</td>\n",
       "      <td>2.93</td>\n",
       "      <td>2.84</td>\n",
       "      <td>58.0</td>\n",
       "      <td>6.6</td>\n",
       "      <td>E</td>\n",
       "    </tr>\n",
       "    <tr>\n",
       "      <th>8</th>\n",
       "      <td>New Super Mario Bros. Wii</td>\n",
       "      <td>Wii</td>\n",
       "      <td>2009.0</td>\n",
       "      <td>Platform</td>\n",
       "      <td>14.44</td>\n",
       "      <td>6.94</td>\n",
       "      <td>4.70</td>\n",
       "      <td>2.24</td>\n",
       "      <td>87.0</td>\n",
       "      <td>8.4</td>\n",
       "      <td>E</td>\n",
       "    </tr>\n",
       "    <tr>\n",
       "      <th>9</th>\n",
       "      <td>Duck Hunt</td>\n",
       "      <td>NES</td>\n",
       "      <td>1984.0</td>\n",
       "      <td>Shooter</td>\n",
       "      <td>26.93</td>\n",
       "      <td>0.63</td>\n",
       "      <td>0.28</td>\n",
       "      <td>0.47</td>\n",
       "      <td>NaN</td>\n",
       "      <td>NaN</td>\n",
       "      <td>NaN</td>\n",
       "    </tr>\n",
       "    <tr>\n",
       "      <th>10</th>\n",
       "      <td>Nintendogs</td>\n",
       "      <td>DS</td>\n",
       "      <td>2005.0</td>\n",
       "      <td>Simulation</td>\n",
       "      <td>9.05</td>\n",
       "      <td>10.95</td>\n",
       "      <td>1.93</td>\n",
       "      <td>2.74</td>\n",
       "      <td>NaN</td>\n",
       "      <td>NaN</td>\n",
       "      <td>NaN</td>\n",
       "    </tr>\n",
       "    <tr>\n",
       "      <th>11</th>\n",
       "      <td>Mario Kart DS</td>\n",
       "      <td>DS</td>\n",
       "      <td>2005.0</td>\n",
       "      <td>Racing</td>\n",
       "      <td>9.71</td>\n",
       "      <td>7.47</td>\n",
       "      <td>4.13</td>\n",
       "      <td>1.90</td>\n",
       "      <td>91.0</td>\n",
       "      <td>8.6</td>\n",
       "      <td>E</td>\n",
       "    </tr>\n",
       "    <tr>\n",
       "      <th>12</th>\n",
       "      <td>Pokemon Gold/Pokemon Silver</td>\n",
       "      <td>GB</td>\n",
       "      <td>1999.0</td>\n",
       "      <td>Role-Playing</td>\n",
       "      <td>9.00</td>\n",
       "      <td>6.18</td>\n",
       "      <td>7.20</td>\n",
       "      <td>0.71</td>\n",
       "      <td>NaN</td>\n",
       "      <td>NaN</td>\n",
       "      <td>NaN</td>\n",
       "    </tr>\n",
       "    <tr>\n",
       "      <th>13</th>\n",
       "      <td>Wii Fit</td>\n",
       "      <td>Wii</td>\n",
       "      <td>2007.0</td>\n",
       "      <td>Sports</td>\n",
       "      <td>8.92</td>\n",
       "      <td>8.03</td>\n",
       "      <td>3.60</td>\n",
       "      <td>2.15</td>\n",
       "      <td>80.0</td>\n",
       "      <td>7.7</td>\n",
       "      <td>E</td>\n",
       "    </tr>\n",
       "    <tr>\n",
       "      <th>14</th>\n",
       "      <td>Kinect Adventures!</td>\n",
       "      <td>X360</td>\n",
       "      <td>2010.0</td>\n",
       "      <td>Misc</td>\n",
       "      <td>15.00</td>\n",
       "      <td>4.89</td>\n",
       "      <td>0.24</td>\n",
       "      <td>1.69</td>\n",
       "      <td>61.0</td>\n",
       "      <td>6.3</td>\n",
       "      <td>E</td>\n",
       "    </tr>\n",
       "    <tr>\n",
       "      <th>15</th>\n",
       "      <td>Wii Fit Plus</td>\n",
       "      <td>Wii</td>\n",
       "      <td>2009.0</td>\n",
       "      <td>Sports</td>\n",
       "      <td>9.01</td>\n",
       "      <td>8.49</td>\n",
       "      <td>2.53</td>\n",
       "      <td>1.77</td>\n",
       "      <td>80.0</td>\n",
       "      <td>7.4</td>\n",
       "      <td>E</td>\n",
       "    </tr>\n",
       "    <tr>\n",
       "      <th>16</th>\n",
       "      <td>Grand Theft Auto V</td>\n",
       "      <td>PS3</td>\n",
       "      <td>2013.0</td>\n",
       "      <td>Action</td>\n",
       "      <td>7.02</td>\n",
       "      <td>9.09</td>\n",
       "      <td>0.98</td>\n",
       "      <td>3.96</td>\n",
       "      <td>97.0</td>\n",
       "      <td>8.2</td>\n",
       "      <td>M</td>\n",
       "    </tr>\n",
       "    <tr>\n",
       "      <th>17</th>\n",
       "      <td>Grand Theft Auto: San Andreas</td>\n",
       "      <td>PS2</td>\n",
       "      <td>2004.0</td>\n",
       "      <td>Action</td>\n",
       "      <td>9.43</td>\n",
       "      <td>0.40</td>\n",
       "      <td>0.41</td>\n",
       "      <td>10.57</td>\n",
       "      <td>95.0</td>\n",
       "      <td>9</td>\n",
       "      <td>M</td>\n",
       "    </tr>\n",
       "    <tr>\n",
       "      <th>18</th>\n",
       "      <td>Super Mario World</td>\n",
       "      <td>SNES</td>\n",
       "      <td>1990.0</td>\n",
       "      <td>Platform</td>\n",
       "      <td>12.78</td>\n",
       "      <td>3.75</td>\n",
       "      <td>3.54</td>\n",
       "      <td>0.55</td>\n",
       "      <td>NaN</td>\n",
       "      <td>NaN</td>\n",
       "      <td>NaN</td>\n",
       "    </tr>\n",
       "    <tr>\n",
       "      <th>19</th>\n",
       "      <td>Brain Age: Train Your Brain in Minutes a Day</td>\n",
       "      <td>DS</td>\n",
       "      <td>2005.0</td>\n",
       "      <td>Misc</td>\n",
       "      <td>4.74</td>\n",
       "      <td>9.20</td>\n",
       "      <td>4.16</td>\n",
       "      <td>2.04</td>\n",
       "      <td>77.0</td>\n",
       "      <td>7.9</td>\n",
       "      <td>E</td>\n",
       "    </tr>\n",
       "  </tbody>\n",
       "</table>\n",
       "</div>"
      ],
      "text/plain": [
       "                                            Name Platform  Year_of_Release  \\\n",
       "0                                     Wii Sports      Wii           2006.0   \n",
       "1                              Super Mario Bros.      NES           1985.0   \n",
       "2                                 Mario Kart Wii      Wii           2008.0   \n",
       "3                              Wii Sports Resort      Wii           2009.0   \n",
       "4                       Pokemon Red/Pokemon Blue       GB           1996.0   \n",
       "5                                         Tetris       GB           1989.0   \n",
       "6                          New Super Mario Bros.       DS           2006.0   \n",
       "7                                       Wii Play      Wii           2006.0   \n",
       "8                      New Super Mario Bros. Wii      Wii           2009.0   \n",
       "9                                      Duck Hunt      NES           1984.0   \n",
       "10                                    Nintendogs       DS           2005.0   \n",
       "11                                 Mario Kart DS       DS           2005.0   \n",
       "12                   Pokemon Gold/Pokemon Silver       GB           1999.0   \n",
       "13                                       Wii Fit      Wii           2007.0   \n",
       "14                            Kinect Adventures!     X360           2010.0   \n",
       "15                                  Wii Fit Plus      Wii           2009.0   \n",
       "16                            Grand Theft Auto V      PS3           2013.0   \n",
       "17                 Grand Theft Auto: San Andreas      PS2           2004.0   \n",
       "18                             Super Mario World     SNES           1990.0   \n",
       "19  Brain Age: Train Your Brain in Minutes a Day       DS           2005.0   \n",
       "\n",
       "           Genre  NA_sales  EU_sales  JP_sales  Other_sales  Critic_Score  \\\n",
       "0         Sports     41.36     28.96      3.77         8.45          76.0   \n",
       "1       Platform     29.08      3.58      6.81         0.77           NaN   \n",
       "2         Racing     15.68     12.76      3.79         3.29          82.0   \n",
       "3         Sports     15.61     10.93      3.28         2.95          80.0   \n",
       "4   Role-Playing     11.27      8.89     10.22         1.00           NaN   \n",
       "5         Puzzle     23.20      2.26      4.22         0.58           NaN   \n",
       "6       Platform     11.28      9.14      6.50         2.88          89.0   \n",
       "7           Misc     13.96      9.18      2.93         2.84          58.0   \n",
       "8       Platform     14.44      6.94      4.70         2.24          87.0   \n",
       "9        Shooter     26.93      0.63      0.28         0.47           NaN   \n",
       "10    Simulation      9.05     10.95      1.93         2.74           NaN   \n",
       "11        Racing      9.71      7.47      4.13         1.90          91.0   \n",
       "12  Role-Playing      9.00      6.18      7.20         0.71           NaN   \n",
       "13        Sports      8.92      8.03      3.60         2.15          80.0   \n",
       "14          Misc     15.00      4.89      0.24         1.69          61.0   \n",
       "15        Sports      9.01      8.49      2.53         1.77          80.0   \n",
       "16        Action      7.02      9.09      0.98         3.96          97.0   \n",
       "17        Action      9.43      0.40      0.41        10.57          95.0   \n",
       "18      Platform     12.78      3.75      3.54         0.55           NaN   \n",
       "19          Misc      4.74      9.20      4.16         2.04          77.0   \n",
       "\n",
       "   User_Score Rating  \n",
       "0           8      E  \n",
       "1         NaN    NaN  \n",
       "2         8.3      E  \n",
       "3           8      E  \n",
       "4         NaN    NaN  \n",
       "5         NaN    NaN  \n",
       "6         8.5      E  \n",
       "7         6.6      E  \n",
       "8         8.4      E  \n",
       "9         NaN    NaN  \n",
       "10        NaN    NaN  \n",
       "11        8.6      E  \n",
       "12        NaN    NaN  \n",
       "13        7.7      E  \n",
       "14        6.3      E  \n",
       "15        7.4      E  \n",
       "16        8.2      M  \n",
       "17          9      M  \n",
       "18        NaN    NaN  \n",
       "19        7.9      E  "
      ]
     },
     "execution_count": 3,
     "metadata": {},
     "output_type": "execute_result"
    }
   ],
   "source": [
    "data.head(20)"
   ]
  },
  {
   "cell_type": "code",
   "execution_count": 4,
   "metadata": {},
   "outputs": [
    {
     "name": "stdout",
     "output_type": "stream",
     "text": [
      "<class 'pandas.core.frame.DataFrame'>\n",
      "RangeIndex: 16715 entries, 0 to 16714\n",
      "Data columns (total 11 columns):\n",
      " #   Column           Non-Null Count  Dtype  \n",
      "---  ------           --------------  -----  \n",
      " 0   Name             16713 non-null  object \n",
      " 1   Platform         16715 non-null  object \n",
      " 2   Year_of_Release  16446 non-null  float64\n",
      " 3   Genre            16713 non-null  object \n",
      " 4   NA_sales         16715 non-null  float64\n",
      " 5   EU_sales         16715 non-null  float64\n",
      " 6   JP_sales         16715 non-null  float64\n",
      " 7   Other_sales      16715 non-null  float64\n",
      " 8   Critic_Score     8137 non-null   float64\n",
      " 9   User_Score       10014 non-null  object \n",
      " 10  Rating           9949 non-null   object \n",
      "dtypes: float64(6), object(5)\n",
      "memory usage: 1.4+ MB\n"
     ]
    }
   ],
   "source": [
    "data.info()"
   ]
  },
  {
   "cell_type": "markdown",
   "metadata": {},
   "source": [
    "Открыли датасет и изучили общую информацию. \n",
    "Данные представлены минимум за 32 года (так как уже в первых строках есть год выпуска - 1984). Возможно, информация за весь период не понадобится. \n",
    "\n",
    "Предстоит предобработка: \n",
    "- откорректировать названия столбцов\n",
    "- проверить наличие дубликатов\n",
    "- удалить строки с пропусками в названии и жанре (так как только по два пропуска, эти данные не страшно потерять)\n",
    "- изменить тип данных года выпуска (int вместо float)\n",
    "- разобраться почему у столбца с оценкой пользователей тип данных object"
   ]
  },
  {
   "cell_type": "markdown",
   "metadata": {},
   "source": [
    "### Предобработка данных"
   ]
  },
  {
   "cell_type": "markdown",
   "metadata": {},
   "source": [
    "#### Общие изменения"
   ]
  },
  {
   "cell_type": "code",
   "execution_count": 5,
   "metadata": {
    "scrolled": true
   },
   "outputs": [
    {
     "data": {
      "text/plain": [
       "0"
      ]
     },
     "execution_count": 5,
     "metadata": {},
     "output_type": "execute_result"
    }
   ],
   "source": [
    "data.duplicated().sum()"
   ]
  },
  {
   "cell_type": "markdown",
   "metadata": {},
   "source": [
    "Проверили, что явных дубликатов нет"
   ]
  },
  {
   "cell_type": "code",
   "execution_count": 6,
   "metadata": {},
   "outputs": [],
   "source": [
    "data.columns = [x.lower() for x in data.columns]\n"
   ]
  },
  {
   "cell_type": "markdown",
   "metadata": {},
   "source": [
    "Привели названия столбцов к нижнему регистру.\n"
   ]
  },
  {
   "cell_type": "markdown",
   "metadata": {},
   "source": [
    "#### Название"
   ]
  },
  {
   "cell_type": "code",
   "execution_count": 7,
   "metadata": {},
   "outputs": [
    {
     "data": {
      "text/plain": [
       "count                           16713\n",
       "unique                          11559\n",
       "top       Need for Speed: Most Wanted\n",
       "freq                               12\n",
       "Name: name, dtype: object"
      ]
     },
     "execution_count": 7,
     "metadata": {},
     "output_type": "execute_result"
    }
   ],
   "source": [
    "data['name'].describe()"
   ]
  },
  {
   "cell_type": "markdown",
   "metadata": {},
   "source": [
    "11559 уникальных значений. Удалим две строки с пропусками"
   ]
  },
  {
   "cell_type": "code",
   "execution_count": 8,
   "metadata": {},
   "outputs": [],
   "source": [
    "data = data.dropna(subset =['name'])"
   ]
  },
  {
   "cell_type": "markdown",
   "metadata": {},
   "source": [
    "#### Платформа"
   ]
  },
  {
   "cell_type": "code",
   "execution_count": 9,
   "metadata": {},
   "outputs": [
    {
     "data": {
      "text/plain": [
       "count     16713\n",
       "unique       31\n",
       "top         PS2\n",
       "freq       2161\n",
       "Name: platform, dtype: object"
      ]
     },
     "execution_count": 9,
     "metadata": {},
     "output_type": "execute_result"
    }
   ],
   "source": [
    "data['platform'].describe()"
   ]
  },
  {
   "cell_type": "code",
   "execution_count": 10,
   "metadata": {},
   "outputs": [
    {
     "data": {
      "text/plain": [
       "array(['2600', '3DO', '3DS', 'DC', 'DS', 'GB', 'GBA', 'GC', 'GEN', 'GG',\n",
       "       'N64', 'NES', 'NG', 'PC', 'PCFX', 'PS', 'PS2', 'PS3', 'PS4', 'PSP',\n",
       "       'PSV', 'SAT', 'SCD', 'SNES', 'TG16', 'WS', 'Wii', 'WiiU', 'X360',\n",
       "       'XB', 'XOne'], dtype=object)"
      ]
     },
     "execution_count": 10,
     "metadata": {},
     "output_type": "execute_result"
    }
   ],
   "source": [
    "data['platform'].sort_values().unique()"
   ]
  },
  {
   "cell_type": "markdown",
   "metadata": {},
   "source": [
    "31 уникальная платформа. Повторяющихся названий нет. Есть разные версии, например, PS, PS2 (PlayStation и PlayStation-2)"
   ]
  },
  {
   "cell_type": "markdown",
   "metadata": {},
   "source": [
    "#### Год выпуска"
   ]
  },
  {
   "cell_type": "code",
   "execution_count": 11,
   "metadata": {},
   "outputs": [],
   "source": [
    "data['year_of_release'] = pd.array(data['year_of_release'], dtype=pd.Int64Dtype())"
   ]
  },
  {
   "cell_type": "markdown",
   "metadata": {},
   "source": [
    "В столбце year_of_release заменили тип данных с float на int. Не использовали метод astype , так как он не сработал из-за пропущенных значений NaN"
   ]
  },
  {
   "cell_type": "code",
   "execution_count": 12,
   "metadata": {},
   "outputs": [
    {
     "data": {
      "text/plain": [
       "<IntegerArray>\n",
       "[1980, 1981, 1982, 1983, 1984, 1985, 1986, 1987, 1988, 1989, 1990, 1991, 1992,\n",
       " 1993, 1994, 1995, 1996, 1997, 1998, 1999, 2000, 2001, 2002, 2003, 2004, 2005,\n",
       " 2006, 2007, 2008, 2009, 2010, 2011, 2012, 2013, 2014, 2015, 2016, <NA>]\n",
       "Length: 38, dtype: Int64"
      ]
     },
     "execution_count": 12,
     "metadata": {},
     "output_type": "execute_result"
    }
   ],
   "source": [
    "data['year_of_release'].sort_values().unique()"
   ]
  },
  {
   "cell_type": "markdown",
   "metadata": {},
   "source": [
    "Данные за 1980-2016 г., а также 267 пропусков. Пропуски не будем удалять. В дальнешем определим за какой период данные актуальны - строки с пропускам в столбце \"Год\" в него автоматически  не попадут"
   ]
  },
  {
   "cell_type": "markdown",
   "metadata": {},
   "source": [
    "#### Жанр"
   ]
  },
  {
   "cell_type": "code",
   "execution_count": 13,
   "metadata": {},
   "outputs": [],
   "source": [
    "data = data.dropna(subset =['genre'])"
   ]
  },
  {
   "cell_type": "code",
   "execution_count": 14,
   "metadata": {},
   "outputs": [
    {
     "data": {
      "text/plain": [
       "array(['Action', 'Adventure', 'Fighting', 'Misc', 'Platform', 'Puzzle',\n",
       "       'Racing', 'Role-Playing', 'Shooter', 'Simulation', 'Sports',\n",
       "       'Strategy'], dtype=object)"
      ]
     },
     "execution_count": 14,
     "metadata": {},
     "output_type": "execute_result"
    }
   ],
   "source": [
    "data['genre'].sort_values().unique()"
   ]
  },
  {
   "cell_type": "markdown",
   "metadata": {},
   "source": [
    "12 жанров, названия не повторяются"
   ]
  },
  {
   "cell_type": "markdown",
   "metadata": {},
   "source": [
    "#### Продажи в Северной Америке "
   ]
  },
  {
   "cell_type": "code",
   "execution_count": 15,
   "metadata": {
    "scrolled": true
   },
   "outputs": [
    {
     "data": {
      "text/plain": [
       "count    16713.000000\n",
       "mean         0.263302\n",
       "std          0.813565\n",
       "min          0.000000\n",
       "25%          0.000000\n",
       "50%          0.080000\n",
       "75%          0.240000\n",
       "max         41.360000\n",
       "Name: na_sales, dtype: float64"
      ]
     },
     "execution_count": 15,
     "metadata": {},
     "output_type": "execute_result"
    }
   ],
   "source": [
    "data['na_sales'].describe()"
   ]
  },
  {
   "cell_type": "markdown",
   "metadata": {},
   "source": [
    "Пропусков нет. Среднее и медиана различаются примерно в 3 раза. Максимальные продажи 41 млн копий."
   ]
  },
  {
   "cell_type": "markdown",
   "metadata": {},
   "source": [
    "#### Продажи в Европе"
   ]
  },
  {
   "cell_type": "code",
   "execution_count": 16,
   "metadata": {},
   "outputs": [
    {
     "data": {
      "text/plain": [
       "count    16713.000000\n",
       "mean         0.145045\n",
       "std          0.503359\n",
       "min          0.000000\n",
       "25%          0.000000\n",
       "50%          0.020000\n",
       "75%          0.110000\n",
       "max         28.960000\n",
       "Name: eu_sales, dtype: float64"
      ]
     },
     "execution_count": 16,
     "metadata": {},
     "output_type": "execute_result"
    }
   ],
   "source": [
    "data['eu_sales'].describe()"
   ]
  },
  {
   "cell_type": "markdown",
   "metadata": {},
   "source": [
    "Пропусков нет. Среднее и медиана различаются примерно в 7 раз. Максимальные продажи 30 млн копий"
   ]
  },
  {
   "cell_type": "markdown",
   "metadata": {},
   "source": [
    "#### Продажи в Японии"
   ]
  },
  {
   "cell_type": "code",
   "execution_count": 17,
   "metadata": {},
   "outputs": [
    {
     "data": {
      "text/plain": [
       "count    16713.000000\n",
       "mean         0.077625\n",
       "std          0.308871\n",
       "min          0.000000\n",
       "25%          0.000000\n",
       "50%          0.000000\n",
       "75%          0.040000\n",
       "max         10.220000\n",
       "Name: jp_sales, dtype: float64"
      ]
     },
     "execution_count": 17,
     "metadata": {},
     "output_type": "execute_result"
    }
   ],
   "source": [
    "data['jp_sales'].describe()"
   ]
  },
  {
   "cell_type": "code",
   "execution_count": 18,
   "metadata": {},
   "outputs": [
    {
     "data": {
      "text/html": [
       "<div>\n",
       "<style scoped>\n",
       "    .dataframe tbody tr th:only-of-type {\n",
       "        vertical-align: middle;\n",
       "    }\n",
       "\n",
       "    .dataframe tbody tr th {\n",
       "        vertical-align: top;\n",
       "    }\n",
       "\n",
       "    .dataframe thead th {\n",
       "        text-align: right;\n",
       "    }\n",
       "</style>\n",
       "<table border=\"1\" class=\"dataframe\">\n",
       "  <thead>\n",
       "    <tr style=\"text-align: right;\">\n",
       "      <th></th>\n",
       "      <th>name</th>\n",
       "      <th>platform</th>\n",
       "      <th>year_of_release</th>\n",
       "      <th>genre</th>\n",
       "      <th>na_sales</th>\n",
       "      <th>eu_sales</th>\n",
       "      <th>jp_sales</th>\n",
       "      <th>other_sales</th>\n",
       "      <th>critic_score</th>\n",
       "      <th>user_score</th>\n",
       "      <th>rating</th>\n",
       "    </tr>\n",
       "  </thead>\n",
       "  <tbody>\n",
       "    <tr>\n",
       "      <th>61</th>\n",
       "      <td>Just Dance 3</td>\n",
       "      <td>Wii</td>\n",
       "      <td>2011</td>\n",
       "      <td>Misc</td>\n",
       "      <td>5.95</td>\n",
       "      <td>3.11</td>\n",
       "      <td>0.0</td>\n",
       "      <td>1.06</td>\n",
       "      <td>74.0</td>\n",
       "      <td>7.8</td>\n",
       "      <td>E10+</td>\n",
       "    </tr>\n",
       "    <tr>\n",
       "      <th>85</th>\n",
       "      <td>The Sims 3</td>\n",
       "      <td>PC</td>\n",
       "      <td>2009</td>\n",
       "      <td>Simulation</td>\n",
       "      <td>0.99</td>\n",
       "      <td>6.42</td>\n",
       "      <td>0.0</td>\n",
       "      <td>0.60</td>\n",
       "      <td>86.0</td>\n",
       "      <td>7.6</td>\n",
       "      <td>T</td>\n",
       "    </tr>\n",
       "    <tr>\n",
       "      <th>89</th>\n",
       "      <td>Pac-Man</td>\n",
       "      <td>2600</td>\n",
       "      <td>1982</td>\n",
       "      <td>Puzzle</td>\n",
       "      <td>7.28</td>\n",
       "      <td>0.45</td>\n",
       "      <td>0.0</td>\n",
       "      <td>0.08</td>\n",
       "      <td>NaN</td>\n",
       "      <td>NaN</td>\n",
       "      <td>NaN</td>\n",
       "    </tr>\n",
       "    <tr>\n",
       "      <th>100</th>\n",
       "      <td>Call of Duty: World at War</td>\n",
       "      <td>X360</td>\n",
       "      <td>2008</td>\n",
       "      <td>Shooter</td>\n",
       "      <td>4.81</td>\n",
       "      <td>1.88</td>\n",
       "      <td>0.0</td>\n",
       "      <td>0.69</td>\n",
       "      <td>84.0</td>\n",
       "      <td>7.6</td>\n",
       "      <td>M</td>\n",
       "    </tr>\n",
       "    <tr>\n",
       "      <th>103</th>\n",
       "      <td>Just Dance</td>\n",
       "      <td>Wii</td>\n",
       "      <td>2009</td>\n",
       "      <td>Misc</td>\n",
       "      <td>3.48</td>\n",
       "      <td>2.99</td>\n",
       "      <td>0.0</td>\n",
       "      <td>0.73</td>\n",
       "      <td>49.0</td>\n",
       "      <td>8</td>\n",
       "      <td>E10+</td>\n",
       "    </tr>\n",
       "    <tr>\n",
       "      <th>...</th>\n",
       "      <td>...</td>\n",
       "      <td>...</td>\n",
       "      <td>...</td>\n",
       "      <td>...</td>\n",
       "      <td>...</td>\n",
       "      <td>...</td>\n",
       "      <td>...</td>\n",
       "      <td>...</td>\n",
       "      <td>...</td>\n",
       "      <td>...</td>\n",
       "      <td>...</td>\n",
       "    </tr>\n",
       "    <tr>\n",
       "      <th>16706</th>\n",
       "      <td>Men in Black II: Alien Escape</td>\n",
       "      <td>GC</td>\n",
       "      <td>2003</td>\n",
       "      <td>Shooter</td>\n",
       "      <td>0.01</td>\n",
       "      <td>0.00</td>\n",
       "      <td>0.0</td>\n",
       "      <td>0.00</td>\n",
       "      <td>NaN</td>\n",
       "      <td>tbd</td>\n",
       "      <td>T</td>\n",
       "    </tr>\n",
       "    <tr>\n",
       "      <th>16708</th>\n",
       "      <td>Woody Woodpecker in Crazy Castle 5</td>\n",
       "      <td>GBA</td>\n",
       "      <td>2002</td>\n",
       "      <td>Platform</td>\n",
       "      <td>0.01</td>\n",
       "      <td>0.00</td>\n",
       "      <td>0.0</td>\n",
       "      <td>0.00</td>\n",
       "      <td>NaN</td>\n",
       "      <td>NaN</td>\n",
       "      <td>NaN</td>\n",
       "    </tr>\n",
       "    <tr>\n",
       "      <th>16709</th>\n",
       "      <td>SCORE International Baja 1000: The Official Game</td>\n",
       "      <td>PS2</td>\n",
       "      <td>2008</td>\n",
       "      <td>Racing</td>\n",
       "      <td>0.00</td>\n",
       "      <td>0.00</td>\n",
       "      <td>0.0</td>\n",
       "      <td>0.00</td>\n",
       "      <td>NaN</td>\n",
       "      <td>NaN</td>\n",
       "      <td>NaN</td>\n",
       "    </tr>\n",
       "    <tr>\n",
       "      <th>16711</th>\n",
       "      <td>LMA Manager 2007</td>\n",
       "      <td>X360</td>\n",
       "      <td>2006</td>\n",
       "      <td>Sports</td>\n",
       "      <td>0.00</td>\n",
       "      <td>0.01</td>\n",
       "      <td>0.0</td>\n",
       "      <td>0.00</td>\n",
       "      <td>NaN</td>\n",
       "      <td>NaN</td>\n",
       "      <td>NaN</td>\n",
       "    </tr>\n",
       "    <tr>\n",
       "      <th>16713</th>\n",
       "      <td>Spirits &amp; Spells</td>\n",
       "      <td>GBA</td>\n",
       "      <td>2003</td>\n",
       "      <td>Platform</td>\n",
       "      <td>0.01</td>\n",
       "      <td>0.00</td>\n",
       "      <td>0.0</td>\n",
       "      <td>0.00</td>\n",
       "      <td>NaN</td>\n",
       "      <td>NaN</td>\n",
       "      <td>NaN</td>\n",
       "    </tr>\n",
       "  </tbody>\n",
       "</table>\n",
       "<p>10513 rows × 11 columns</p>\n",
       "</div>"
      ],
      "text/plain": [
       "                                                   name platform  \\\n",
       "61                                         Just Dance 3      Wii   \n",
       "85                                           The Sims 3       PC   \n",
       "89                                              Pac-Man     2600   \n",
       "100                          Call of Duty: World at War     X360   \n",
       "103                                          Just Dance      Wii   \n",
       "...                                                 ...      ...   \n",
       "16706                     Men in Black II: Alien Escape       GC   \n",
       "16708                Woody Woodpecker in Crazy Castle 5      GBA   \n",
       "16709  SCORE International Baja 1000: The Official Game      PS2   \n",
       "16711                                  LMA Manager 2007     X360   \n",
       "16713                                  Spirits & Spells      GBA   \n",
       "\n",
       "       year_of_release       genre  na_sales  eu_sales  jp_sales  other_sales  \\\n",
       "61                2011        Misc      5.95      3.11       0.0         1.06   \n",
       "85                2009  Simulation      0.99      6.42       0.0         0.60   \n",
       "89                1982      Puzzle      7.28      0.45       0.0         0.08   \n",
       "100               2008     Shooter      4.81      1.88       0.0         0.69   \n",
       "103               2009        Misc      3.48      2.99       0.0         0.73   \n",
       "...                ...         ...       ...       ...       ...          ...   \n",
       "16706             2003     Shooter      0.01      0.00       0.0         0.00   \n",
       "16708             2002    Platform      0.01      0.00       0.0         0.00   \n",
       "16709             2008      Racing      0.00      0.00       0.0         0.00   \n",
       "16711             2006      Sports      0.00      0.01       0.0         0.00   \n",
       "16713             2003    Platform      0.01      0.00       0.0         0.00   \n",
       "\n",
       "       critic_score user_score rating  \n",
       "61             74.0        7.8   E10+  \n",
       "85             86.0        7.6      T  \n",
       "89              NaN        NaN    NaN  \n",
       "100            84.0        7.6      M  \n",
       "103            49.0          8   E10+  \n",
       "...             ...        ...    ...  \n",
       "16706           NaN        tbd      T  \n",
       "16708           NaN        NaN    NaN  \n",
       "16709           NaN        NaN    NaN  \n",
       "16711           NaN        NaN    NaN  \n",
       "16713           NaN        NaN    NaN  \n",
       "\n",
       "[10513 rows x 11 columns]"
      ]
     },
     "execution_count": 18,
     "metadata": {},
     "output_type": "execute_result"
    }
   ],
   "source": [
    "data.query('jp_sales == 0')"
   ]
  },
  {
   "cell_type": "markdown",
   "metadata": {},
   "source": [
    "Пропусков нет. Медиана равна 0. Максимальное значение = 10 млн копий. 10513 из 16713 позиций не продавались в Японии"
   ]
  },
  {
   "cell_type": "markdown",
   "metadata": {},
   "source": [
    "#### Продажи в других странах"
   ]
  },
  {
   "cell_type": "code",
   "execution_count": 19,
   "metadata": {},
   "outputs": [
    {
     "data": {
      "text/plain": [
       "count    16713.000000\n",
       "mean         0.047343\n",
       "std          0.186742\n",
       "min          0.000000\n",
       "25%          0.000000\n",
       "50%          0.010000\n",
       "75%          0.030000\n",
       "max         10.570000\n",
       "Name: other_sales, dtype: float64"
      ]
     },
     "execution_count": 19,
     "metadata": {},
     "output_type": "execute_result"
    }
   ],
   "source": [
    "data['other_sales'].describe()"
   ]
  },
  {
   "cell_type": "markdown",
   "metadata": {},
   "source": [
    "Пропусков нет. Во всех других странах максимальное количество проданных копий, примерно, как в Японии - 10 млн"
   ]
  },
  {
   "cell_type": "markdown",
   "metadata": {},
   "source": [
    "#### Оценки критиков"
   ]
  },
  {
   "cell_type": "code",
   "execution_count": 20,
   "metadata": {},
   "outputs": [
    {
     "data": {
      "text/plain": [
       "array([13., 17., 19., 20., 21., 22., 23., 24., 25., 26., 27., 28., 29.,\n",
       "       30., 31., 32., 33., 34., 35., 36., 37., 38., 39., 40., 41., 42.,\n",
       "       43., 44., 45., 46., 47., 48., 49., 50., 51., 52., 53., 54., 55.,\n",
       "       56., 57., 58., 59., 60., 61., 62., 63., 64., 65., 66., 67., 68.,\n",
       "       69., 70., 71., 72., 73., 74., 75., 76., 77., 78., 79., 80., 81.,\n",
       "       82., 83., 84., 85., 86., 87., 88., 89., 90., 91., 92., 93., 94.,\n",
       "       95., 96., 97., 98., nan])"
      ]
     },
     "execution_count": 20,
     "metadata": {},
     "output_type": "execute_result"
    }
   ],
   "source": [
    "data['critic_score'].sort_values().unique()"
   ]
  },
  {
   "cell_type": "code",
   "execution_count": 21,
   "metadata": {},
   "outputs": [],
   "source": [
    "data['critic_score'] = pd.array(data['critic_score'], dtype=pd.Int64Dtype())"
   ]
  },
  {
   "cell_type": "markdown",
   "metadata": {},
   "source": [
    "Примерно половина значений в столбце \"Оценки критиков\" пропущена. Нет данных для заполнения - оставили, как есть. Изменили тип данных на int"
   ]
  },
  {
   "cell_type": "markdown",
   "metadata": {},
   "source": [
    "#### Оценка пользователей"
   ]
  },
  {
   "cell_type": "code",
   "execution_count": 22,
   "metadata": {
    "scrolled": true
   },
   "outputs": [
    {
     "data": {
      "text/plain": [
       "array(['8', nan, '8.3', '8.5', '6.6', '8.4', '8.6', '7.7', '6.3', '7.4',\n",
       "       '8.2', '9', '7.9', '8.1', '8.7', '7.1', '3.4', '5.3', '4.8', '3.2',\n",
       "       '8.9', '6.4', '7.8', '7.5', '2.6', '7.2', '9.2', '7', '7.3', '4.3',\n",
       "       '7.6', '5.7', '5', '9.1', '6.5', 'tbd', '8.8', '6.9', '9.4', '6.8',\n",
       "       '6.1', '6.7', '5.4', '4', '4.9', '4.5', '9.3', '6.2', '4.2', '6',\n",
       "       '3.7', '4.1', '5.8', '5.6', '5.5', '4.4', '4.6', '5.9', '3.9',\n",
       "       '3.1', '2.9', '5.2', '3.3', '4.7', '5.1', '3.5', '2.5', '1.9', '3',\n",
       "       '2.7', '2.2', '2', '9.5', '2.1', '3.6', '2.8', '1.8', '3.8', '0',\n",
       "       '1.6', '9.6', '2.4', '1.7', '1.1', '0.3', '1.5', '0.7', '1.2',\n",
       "       '2.3', '0.5', '1.3', '0.2', '0.6', '1.4', '0.9', '1', '9.7'],\n",
       "      dtype=object)"
      ]
     },
     "execution_count": 22,
     "metadata": {},
     "output_type": "execute_result"
    }
   ],
   "source": [
    "data['user_score'].unique()"
   ]
  },
  {
   "cell_type": "markdown",
   "metadata": {},
   "source": [
    "Обнаружили в оценках пользователей, значение tbd, что значит To Be Determined = \"Будет определено\", то есть оценка еще не известна."
   ]
  },
  {
   "cell_type": "code",
   "execution_count": 23,
   "metadata": {},
   "outputs": [],
   "source": [
    "data['user_score'] = data['user_score'].replace('tbd', None)                                            "
   ]
  },
  {
   "cell_type": "markdown",
   "metadata": {},
   "source": [
    "Заменили tbd пропуском"
   ]
  },
  {
   "cell_type": "code",
   "execution_count": 24,
   "metadata": {},
   "outputs": [],
   "source": [
    "data['user_score']= data['user_score'].astype(float)"
   ]
  },
  {
   "cell_type": "markdown",
   "metadata": {},
   "source": [
    "Изменили тип данных с object на float для упрощения анализа в дальнейшем."
   ]
  },
  {
   "cell_type": "markdown",
   "metadata": {},
   "source": [
    "#### Рейтинг ESRB "
   ]
  },
  {
   "cell_type": "code",
   "execution_count": 25,
   "metadata": {
    "scrolled": true
   },
   "outputs": [
    {
     "data": {
      "text/plain": [
       "array(['AO', 'E', 'E10+', 'EC', 'K-A', 'M', 'RP', 'T', nan], dtype=object)"
      ]
     },
     "execution_count": 25,
     "metadata": {},
     "output_type": "execute_result"
    }
   ],
   "source": [
    "data['rating'].sort_values().unique()"
   ]
  },
  {
   "cell_type": "code",
   "execution_count": 26,
   "metadata": {},
   "outputs": [
    {
     "data": {
      "text/html": [
       "<div>\n",
       "<style scoped>\n",
       "    .dataframe tbody tr th:only-of-type {\n",
       "        vertical-align: middle;\n",
       "    }\n",
       "\n",
       "    .dataframe tbody tr th {\n",
       "        vertical-align: top;\n",
       "    }\n",
       "\n",
       "    .dataframe thead th {\n",
       "        text-align: right;\n",
       "    }\n",
       "</style>\n",
       "<table border=\"1\" class=\"dataframe\">\n",
       "  <thead>\n",
       "    <tr style=\"text-align: right;\">\n",
       "      <th></th>\n",
       "      <th>name</th>\n",
       "      <th>platform</th>\n",
       "      <th>year_of_release</th>\n",
       "      <th>genre</th>\n",
       "      <th>na_sales</th>\n",
       "      <th>eu_sales</th>\n",
       "      <th>jp_sales</th>\n",
       "      <th>other_sales</th>\n",
       "      <th>critic_score</th>\n",
       "      <th>user_score</th>\n",
       "      <th>rating</th>\n",
       "    </tr>\n",
       "  </thead>\n",
       "  <tbody>\n",
       "    <tr>\n",
       "      <th>656</th>\n",
       "      <td>Theme Hospital</td>\n",
       "      <td>PC</td>\n",
       "      <td>1997</td>\n",
       "      <td>Strategy</td>\n",
       "      <td>2.30</td>\n",
       "      <td>0.10</td>\n",
       "      <td>0.00</td>\n",
       "      <td>0.00</td>\n",
       "      <td>&lt;NA&gt;</td>\n",
       "      <td>9.0</td>\n",
       "      <td>K-A</td>\n",
       "    </tr>\n",
       "    <tr>\n",
       "      <th>903</th>\n",
       "      <td>PaRappa The Rapper</td>\n",
       "      <td>PS</td>\n",
       "      <td>1996</td>\n",
       "      <td>Misc</td>\n",
       "      <td>0.26</td>\n",
       "      <td>0.16</td>\n",
       "      <td>1.46</td>\n",
       "      <td>0.03</td>\n",
       "      <td>92</td>\n",
       "      <td>7.4</td>\n",
       "      <td>K-A</td>\n",
       "    </tr>\n",
       "    <tr>\n",
       "      <th>16681</th>\n",
       "      <td>Worms 2</td>\n",
       "      <td>PC</td>\n",
       "      <td>1997</td>\n",
       "      <td>Strategy</td>\n",
       "      <td>0.00</td>\n",
       "      <td>0.01</td>\n",
       "      <td>0.00</td>\n",
       "      <td>0.00</td>\n",
       "      <td>&lt;NA&gt;</td>\n",
       "      <td>8.1</td>\n",
       "      <td>K-A</td>\n",
       "    </tr>\n",
       "  </tbody>\n",
       "</table>\n",
       "</div>"
      ],
      "text/plain": [
       "                     name platform  year_of_release     genre  na_sales  \\\n",
       "656        Theme Hospital       PC             1997  Strategy      2.30   \n",
       "903    PaRappa The Rapper       PS             1996      Misc      0.26   \n",
       "16681             Worms 2       PC             1997  Strategy      0.00   \n",
       "\n",
       "       eu_sales  jp_sales  other_sales  critic_score  user_score rating  \n",
       "656        0.10      0.00         0.00          <NA>         9.0    K-A  \n",
       "903        0.16      1.46         0.03            92         7.4    K-A  \n",
       "16681      0.01      0.00         0.00          <NA>         8.1    K-A  "
      ]
     },
     "execution_count": 26,
     "metadata": {},
     "output_type": "execute_result"
    }
   ],
   "source": [
    "data[data['rating'] == 'K-A']"
   ]
  },
  {
   "cell_type": "markdown",
   "metadata": {},
   "source": [
    "Рейтинг заполнен примерно у половины игр. Не ключевое значение, оставим пропуски без заполнения\n",
    "\n",
    "AO - Только для взрослых 18+\n",
    "\n",
    "E - Все\n",
    "\n",
    "E10+ - Все 10+\n",
    "\n",
    "EC - Раннее детство\n",
    "\n",
    "K-A - этот жанр был присвоен только три раза в 1996-1997 годах\n",
    "\n",
    "M - Зрелые 17+ \n",
    "\n",
    "RP - Рейтинг в ожидании\n",
    "\n",
    "T - Подросток"
   ]
  },
  {
   "cell_type": "code",
   "execution_count": 27,
   "metadata": {},
   "outputs": [],
   "source": [
    "data['rating'] = data['rating'].fillna('RP')\n",
    "                                    "
   ]
  },
  {
   "cell_type": "markdown",
   "metadata": {},
   "source": [
    "#### Общие продажи"
   ]
  },
  {
   "cell_type": "code",
   "execution_count": 28,
   "metadata": {},
   "outputs": [],
   "source": [
    "data['total_sales'] = data['na_sales']+data['eu_sales']+data['jp_sales']+data['other_sales']"
   ]
  },
  {
   "cell_type": "markdown",
   "metadata": {},
   "source": [
    "Добавили столбец с общими продажами "
   ]
  },
  {
   "cell_type": "code",
   "execution_count": 29,
   "metadata": {},
   "outputs": [
    {
     "name": "stdout",
     "output_type": "stream",
     "text": [
      "<class 'pandas.core.frame.DataFrame'>\n",
      "Int64Index: 16713 entries, 0 to 16714\n",
      "Data columns (total 12 columns):\n",
      " #   Column           Non-Null Count  Dtype  \n",
      "---  ------           --------------  -----  \n",
      " 0   name             16713 non-null  object \n",
      " 1   platform         16713 non-null  object \n",
      " 2   year_of_release  16444 non-null  Int64  \n",
      " 3   genre            16713 non-null  object \n",
      " 4   na_sales         16713 non-null  float64\n",
      " 5   eu_sales         16713 non-null  float64\n",
      " 6   jp_sales         16713 non-null  float64\n",
      " 7   other_sales      16713 non-null  float64\n",
      " 8   critic_score     8137 non-null   Int64  \n",
      " 9   user_score       8760 non-null   float64\n",
      " 10  rating           16713 non-null  object \n",
      " 11  total_sales      16713 non-null  float64\n",
      "dtypes: Int64(2), float64(6), object(4)\n",
      "memory usage: 1.7+ MB\n"
     ]
    }
   ],
   "source": [
    "data.info()"
   ]
  },
  {
   "cell_type": "markdown",
   "metadata": {},
   "source": [
    "#### Вывод"
   ]
  },
  {
   "cell_type": "markdown",
   "metadata": {},
   "source": [
    "Основные данные по платформам, жанрам и количеству проданных копий в датасете заполнены. \n",
    "\n",
    "11 тысяч уникальных названий игр. Повторы в остальных 5 тысячах значений говорят о том, что одна и та же игра выходила на разных платформах.\n",
    "\n",
    "31 платформа. Скорее всего часть отсеется, когда начнем выделять актуальный период, т к многие платформы могли устареть\n",
    "\n",
    "Данные собраны с 1980 года по 2016, пропуски примерно в 400 строках. Удалять не стали. В анализ актуального периода строки с пропусками не попадут.\n",
    "\n",
    "Данные по продажам заполненые во всех строках. Много нулей говорит о том, что каждая игра продавалась не во всех регионах. А также нули могли быть проставлены вместо значений, которые не удалось найти. \n",
    "\n",
    "Увидели, что максимальные продажи были зафиксированы в Северной Америке - 40 млн копий.\n",
    "\n",
    "В Японии максимальное значение 10 млн копий - примерно равно максимальному значению в странах, которые определены, как \"другие\".\n",
    "\n",
    "Примерно половина значений пропущена в оценках пользователей, оценках критиков и возрастном рейтинге. Вероятно, это связано с тем, что в датасете данные собраны за 36 лет: Идея ставить оценки появилась не сразу, не сразу получила распространение. Рейтинги ESRB появились только в 1994 году. Кроме того у нас собраны данные из открытых источников - во время сбора информации могли возникнуть сложности - не все данные удалось найти.\n",
    "\n",
    "\n"
   ]
  },
  {
   "cell_type": "markdown",
   "metadata": {},
   "source": [
    "\n",
    "\n",
    "### Исследовательский анализ данных"
   ]
  },
  {
   "cell_type": "markdown",
   "metadata": {},
   "source": [
    "#### Гистограмма выпуска игр по годам"
   ]
  },
  {
   "cell_type": "code",
   "execution_count": 30,
   "metadata": {},
   "outputs": [
    {
     "data": {
      "image/png": "[encoded data removed]",
      "text/plain": [
       "<Figure size 432x288 with 1 Axes>"
      ]
     },
     "metadata": {
      "needs_background": "light"
     },
     "output_type": "display_data"
    }
   ],
   "source": [
    "data['year_of_release'].plot(kind='hist', bins=40, alpha=1)\n",
    "\n",
    "plt.xlabel('Год')\n",
    "plt.ylabel('Количество')\n",
    "plt.title('Выпуск игр по годам')\n",
    "plt.show()"
   ]
  },
  {
   "cell_type": "markdown",
   "metadata": {},
   "source": [
    "Видим, что рост выпуска компьютерных игр начался в 1995 году. Примено в 2002 произошел резкий скачок. Пик был в районе 2009-2012 г. После 2012 начинается спад. Вероятно, связано с популярностью мобильных телефонов, которые вытеснили компьютерные игры\n"
   ]
  },
  {
   "cell_type": "markdown",
   "metadata": {},
   "source": [
    "#### Платформы с наибольшими суммарными продажами"
   ]
  },
  {
   "cell_type": "code",
   "execution_count": 31,
   "metadata": {},
   "outputs": [
    {
     "data": {
      "text/html": [
       "<div>\n",
       "<style scoped>\n",
       "    .dataframe tbody tr th:only-of-type {\n",
       "        vertical-align: middle;\n",
       "    }\n",
       "\n",
       "    .dataframe tbody tr th {\n",
       "        vertical-align: top;\n",
       "    }\n",
       "\n",
       "    .dataframe thead th {\n",
       "        text-align: right;\n",
       "    }\n",
       "</style>\n",
       "<table border=\"1\" class=\"dataframe\">\n",
       "  <thead>\n",
       "    <tr style=\"text-align: right;\">\n",
       "      <th></th>\n",
       "      <th>total_sales</th>\n",
       "    </tr>\n",
       "    <tr>\n",
       "      <th>platform</th>\n",
       "      <th></th>\n",
       "    </tr>\n",
       "  </thead>\n",
       "  <tbody>\n",
       "    <tr>\n",
       "      <th>PS2</th>\n",
       "      <td>1255.77</td>\n",
       "    </tr>\n",
       "    <tr>\n",
       "      <th>X360</th>\n",
       "      <td>971.42</td>\n",
       "    </tr>\n",
       "    <tr>\n",
       "      <th>PS3</th>\n",
       "      <td>939.65</td>\n",
       "    </tr>\n",
       "    <tr>\n",
       "      <th>Wii</th>\n",
       "      <td>907.51</td>\n",
       "    </tr>\n",
       "    <tr>\n",
       "      <th>DS</th>\n",
       "      <td>806.12</td>\n",
       "    </tr>\n",
       "    <tr>\n",
       "      <th>PS</th>\n",
       "      <td>730.86</td>\n",
       "    </tr>\n",
       "    <tr>\n",
       "      <th>GBA</th>\n",
       "      <td>317.85</td>\n",
       "    </tr>\n",
       "    <tr>\n",
       "      <th>PS4</th>\n",
       "      <td>314.14</td>\n",
       "    </tr>\n",
       "    <tr>\n",
       "      <th>PSP</th>\n",
       "      <td>294.05</td>\n",
       "    </tr>\n",
       "    <tr>\n",
       "      <th>PC</th>\n",
       "      <td>259.52</td>\n",
       "    </tr>\n",
       "    <tr>\n",
       "      <th>3DS</th>\n",
       "      <td>259.00</td>\n",
       "    </tr>\n",
       "    <tr>\n",
       "      <th>XB</th>\n",
       "      <td>257.74</td>\n",
       "    </tr>\n",
       "    <tr>\n",
       "      <th>GB</th>\n",
       "      <td>255.46</td>\n",
       "    </tr>\n",
       "    <tr>\n",
       "      <th>NES</th>\n",
       "      <td>251.05</td>\n",
       "    </tr>\n",
       "    <tr>\n",
       "      <th>N64</th>\n",
       "      <td>218.68</td>\n",
       "    </tr>\n",
       "    <tr>\n",
       "      <th>SNES</th>\n",
       "      <td>200.04</td>\n",
       "    </tr>\n",
       "    <tr>\n",
       "      <th>GC</th>\n",
       "      <td>198.93</td>\n",
       "    </tr>\n",
       "    <tr>\n",
       "      <th>XOne</th>\n",
       "      <td>159.32</td>\n",
       "    </tr>\n",
       "    <tr>\n",
       "      <th>2600</th>\n",
       "      <td>96.98</td>\n",
       "    </tr>\n",
       "    <tr>\n",
       "      <th>WiiU</th>\n",
       "      <td>82.19</td>\n",
       "    </tr>\n",
       "    <tr>\n",
       "      <th>PSV</th>\n",
       "      <td>54.07</td>\n",
       "    </tr>\n",
       "    <tr>\n",
       "      <th>SAT</th>\n",
       "      <td>33.59</td>\n",
       "    </tr>\n",
       "    <tr>\n",
       "      <th>GEN</th>\n",
       "      <td>28.35</td>\n",
       "    </tr>\n",
       "    <tr>\n",
       "      <th>DC</th>\n",
       "      <td>15.95</td>\n",
       "    </tr>\n",
       "    <tr>\n",
       "      <th>SCD</th>\n",
       "      <td>1.86</td>\n",
       "    </tr>\n",
       "    <tr>\n",
       "      <th>NG</th>\n",
       "      <td>1.44</td>\n",
       "    </tr>\n",
       "    <tr>\n",
       "      <th>WS</th>\n",
       "      <td>1.42</td>\n",
       "    </tr>\n",
       "    <tr>\n",
       "      <th>TG16</th>\n",
       "      <td>0.16</td>\n",
       "    </tr>\n",
       "    <tr>\n",
       "      <th>3DO</th>\n",
       "      <td>0.10</td>\n",
       "    </tr>\n",
       "    <tr>\n",
       "      <th>GG</th>\n",
       "      <td>0.04</td>\n",
       "    </tr>\n",
       "    <tr>\n",
       "      <th>PCFX</th>\n",
       "      <td>0.03</td>\n",
       "    </tr>\n",
       "  </tbody>\n",
       "</table>\n",
       "</div>"
      ],
      "text/plain": [
       "          total_sales\n",
       "platform             \n",
       "PS2           1255.77\n",
       "X360           971.42\n",
       "PS3            939.65\n",
       "Wii            907.51\n",
       "DS             806.12\n",
       "PS             730.86\n",
       "GBA            317.85\n",
       "PS4            314.14\n",
       "PSP            294.05\n",
       "PC             259.52\n",
       "3DS            259.00\n",
       "XB             257.74\n",
       "GB             255.46\n",
       "NES            251.05\n",
       "N64            218.68\n",
       "SNES           200.04\n",
       "GC             198.93\n",
       "XOne           159.32\n",
       "2600            96.98\n",
       "WiiU            82.19\n",
       "PSV             54.07\n",
       "SAT             33.59\n",
       "GEN             28.35\n",
       "DC              15.95\n",
       "SCD              1.86\n",
       "NG               1.44\n",
       "WS               1.42\n",
       "TG16             0.16\n",
       "3DO              0.10\n",
       "GG               0.04\n",
       "PCFX             0.03"
      ]
     },
     "execution_count": 31,
     "metadata": {},
     "output_type": "execute_result"
    }
   ],
   "source": [
    "data.pivot_table(index = 'platform', values = 'total_sales', aggfunc = 'sum')\\\n",
    ".sort_values(by = 'total_sales', ascending = False)\n",
    "                        "
   ]
  },
  {
   "cell_type": "markdown",
   "metadata": {},
   "source": [
    "Будем изучать первые шесть платформ, так как по ним сумма на порядок больше, чем у остальных"
   ]
  },
  {
   "cell_type": "code",
   "execution_count": 32,
   "metadata": {
    "scrolled": true
   },
   "outputs": [
    {
     "data": {
      "text/html": [
       "<div>\n",
       "<style scoped>\n",
       "    .dataframe tbody tr th:only-of-type {\n",
       "        vertical-align: middle;\n",
       "    }\n",
       "\n",
       "    .dataframe tbody tr th {\n",
       "        vertical-align: top;\n",
       "    }\n",
       "\n",
       "    .dataframe thead th {\n",
       "        text-align: right;\n",
       "    }\n",
       "</style>\n",
       "<table border=\"1\" class=\"dataframe\">\n",
       "  <thead>\n",
       "    <tr style=\"text-align: right;\">\n",
       "      <th>platform</th>\n",
       "      <th>DS</th>\n",
       "      <th>PS</th>\n",
       "      <th>PS2</th>\n",
       "      <th>PS3</th>\n",
       "      <th>Wii</th>\n",
       "      <th>X360</th>\n",
       "    </tr>\n",
       "    <tr>\n",
       "      <th>year_of_release</th>\n",
       "      <th></th>\n",
       "      <th></th>\n",
       "      <th></th>\n",
       "      <th></th>\n",
       "      <th></th>\n",
       "      <th></th>\n",
       "    </tr>\n",
       "  </thead>\n",
       "  <tbody>\n",
       "    <tr>\n",
       "      <th>1985</th>\n",
       "      <td>0.02</td>\n",
       "      <td>NaN</td>\n",
       "      <td>NaN</td>\n",
       "      <td>NaN</td>\n",
       "      <td>NaN</td>\n",
       "      <td>NaN</td>\n",
       "    </tr>\n",
       "    <tr>\n",
       "      <th>1994</th>\n",
       "      <td>NaN</td>\n",
       "      <td>6.03</td>\n",
       "      <td>NaN</td>\n",
       "      <td>NaN</td>\n",
       "      <td>NaN</td>\n",
       "      <td>NaN</td>\n",
       "    </tr>\n",
       "    <tr>\n",
       "      <th>1995</th>\n",
       "      <td>NaN</td>\n",
       "      <td>35.96</td>\n",
       "      <td>NaN</td>\n",
       "      <td>NaN</td>\n",
       "      <td>NaN</td>\n",
       "      <td>NaN</td>\n",
       "    </tr>\n",
       "    <tr>\n",
       "      <th>1996</th>\n",
       "      <td>NaN</td>\n",
       "      <td>94.70</td>\n",
       "      <td>NaN</td>\n",
       "      <td>NaN</td>\n",
       "      <td>NaN</td>\n",
       "      <td>NaN</td>\n",
       "    </tr>\n",
       "    <tr>\n",
       "      <th>1997</th>\n",
       "      <td>NaN</td>\n",
       "      <td>136.17</td>\n",
       "      <td>NaN</td>\n",
       "      <td>NaN</td>\n",
       "      <td>NaN</td>\n",
       "      <td>NaN</td>\n",
       "    </tr>\n",
       "    <tr>\n",
       "      <th>1998</th>\n",
       "      <td>NaN</td>\n",
       "      <td>169.49</td>\n",
       "      <td>NaN</td>\n",
       "      <td>NaN</td>\n",
       "      <td>NaN</td>\n",
       "      <td>NaN</td>\n",
       "    </tr>\n",
       "    <tr>\n",
       "      <th>1999</th>\n",
       "      <td>NaN</td>\n",
       "      <td>144.53</td>\n",
       "      <td>NaN</td>\n",
       "      <td>NaN</td>\n",
       "      <td>NaN</td>\n",
       "      <td>NaN</td>\n",
       "    </tr>\n",
       "    <tr>\n",
       "      <th>2000</th>\n",
       "      <td>NaN</td>\n",
       "      <td>96.37</td>\n",
       "      <td>39.17</td>\n",
       "      <td>NaN</td>\n",
       "      <td>NaN</td>\n",
       "      <td>NaN</td>\n",
       "    </tr>\n",
       "    <tr>\n",
       "      <th>2001</th>\n",
       "      <td>NaN</td>\n",
       "      <td>35.59</td>\n",
       "      <td>166.43</td>\n",
       "      <td>NaN</td>\n",
       "      <td>NaN</td>\n",
       "      <td>NaN</td>\n",
       "    </tr>\n",
       "    <tr>\n",
       "      <th>2002</th>\n",
       "      <td>NaN</td>\n",
       "      <td>6.67</td>\n",
       "      <td>205.38</td>\n",
       "      <td>NaN</td>\n",
       "      <td>NaN</td>\n",
       "      <td>NaN</td>\n",
       "    </tr>\n",
       "    <tr>\n",
       "      <th>2003</th>\n",
       "      <td>NaN</td>\n",
       "      <td>2.07</td>\n",
       "      <td>184.31</td>\n",
       "      <td>NaN</td>\n",
       "      <td>NaN</td>\n",
       "      <td>NaN</td>\n",
       "    </tr>\n",
       "    <tr>\n",
       "      <th>2004</th>\n",
       "      <td>17.27</td>\n",
       "      <td>NaN</td>\n",
       "      <td>211.81</td>\n",
       "      <td>NaN</td>\n",
       "      <td>NaN</td>\n",
       "      <td>NaN</td>\n",
       "    </tr>\n",
       "    <tr>\n",
       "      <th>2005</th>\n",
       "      <td>130.14</td>\n",
       "      <td>NaN</td>\n",
       "      <td>160.66</td>\n",
       "      <td>NaN</td>\n",
       "      <td>NaN</td>\n",
       "      <td>8.25</td>\n",
       "    </tr>\n",
       "    <tr>\n",
       "      <th>2006</th>\n",
       "      <td>119.81</td>\n",
       "      <td>NaN</td>\n",
       "      <td>103.42</td>\n",
       "      <td>20.96</td>\n",
       "      <td>137.15</td>\n",
       "      <td>51.62</td>\n",
       "    </tr>\n",
       "    <tr>\n",
       "      <th>2007</th>\n",
       "      <td>146.94</td>\n",
       "      <td>NaN</td>\n",
       "      <td>75.99</td>\n",
       "      <td>73.19</td>\n",
       "      <td>152.77</td>\n",
       "      <td>95.41</td>\n",
       "    </tr>\n",
       "    <tr>\n",
       "      <th>2008</th>\n",
       "      <td>145.31</td>\n",
       "      <td>NaN</td>\n",
       "      <td>53.90</td>\n",
       "      <td>118.52</td>\n",
       "      <td>171.32</td>\n",
       "      <td>135.26</td>\n",
       "    </tr>\n",
       "    <tr>\n",
       "      <th>2009</th>\n",
       "      <td>119.54</td>\n",
       "      <td>NaN</td>\n",
       "      <td>26.40</td>\n",
       "      <td>130.93</td>\n",
       "      <td>206.97</td>\n",
       "      <td>120.29</td>\n",
       "    </tr>\n",
       "    <tr>\n",
       "      <th>2010</th>\n",
       "      <td>85.02</td>\n",
       "      <td>NaN</td>\n",
       "      <td>5.64</td>\n",
       "      <td>142.17</td>\n",
       "      <td>127.95</td>\n",
       "      <td>170.03</td>\n",
       "    </tr>\n",
       "    <tr>\n",
       "      <th>2011</th>\n",
       "      <td>26.18</td>\n",
       "      <td>NaN</td>\n",
       "      <td>0.45</td>\n",
       "      <td>156.78</td>\n",
       "      <td>59.65</td>\n",
       "      <td>143.84</td>\n",
       "    </tr>\n",
       "    <tr>\n",
       "      <th>2012</th>\n",
       "      <td>11.01</td>\n",
       "      <td>NaN</td>\n",
       "      <td>NaN</td>\n",
       "      <td>107.36</td>\n",
       "      <td>21.71</td>\n",
       "      <td>99.74</td>\n",
       "    </tr>\n",
       "    <tr>\n",
       "      <th>2013</th>\n",
       "      <td>1.54</td>\n",
       "      <td>NaN</td>\n",
       "      <td>NaN</td>\n",
       "      <td>113.25</td>\n",
       "      <td>8.59</td>\n",
       "      <td>88.58</td>\n",
       "    </tr>\n",
       "    <tr>\n",
       "      <th>2014</th>\n",
       "      <td>NaN</td>\n",
       "      <td>NaN</td>\n",
       "      <td>NaN</td>\n",
       "      <td>47.76</td>\n",
       "      <td>3.75</td>\n",
       "      <td>34.74</td>\n",
       "    </tr>\n",
       "    <tr>\n",
       "      <th>2015</th>\n",
       "      <td>NaN</td>\n",
       "      <td>NaN</td>\n",
       "      <td>NaN</td>\n",
       "      <td>16.82</td>\n",
       "      <td>1.14</td>\n",
       "      <td>11.96</td>\n",
       "    </tr>\n",
       "    <tr>\n",
       "      <th>2016</th>\n",
       "      <td>NaN</td>\n",
       "      <td>NaN</td>\n",
       "      <td>NaN</td>\n",
       "      <td>3.60</td>\n",
       "      <td>0.18</td>\n",
       "      <td>1.52</td>\n",
       "    </tr>\n",
       "  </tbody>\n",
       "</table>\n",
       "</div>"
      ],
      "text/plain": [
       "platform             DS      PS     PS2     PS3     Wii    X360\n",
       "year_of_release                                                \n",
       "1985               0.02     NaN     NaN     NaN     NaN     NaN\n",
       "1994                NaN    6.03     NaN     NaN     NaN     NaN\n",
       "1995                NaN   35.96     NaN     NaN     NaN     NaN\n",
       "1996                NaN   94.70     NaN     NaN     NaN     NaN\n",
       "1997                NaN  136.17     NaN     NaN     NaN     NaN\n",
       "1998                NaN  169.49     NaN     NaN     NaN     NaN\n",
       "1999                NaN  144.53     NaN     NaN     NaN     NaN\n",
       "2000                NaN   96.37   39.17     NaN     NaN     NaN\n",
       "2001                NaN   35.59  166.43     NaN     NaN     NaN\n",
       "2002                NaN    6.67  205.38     NaN     NaN     NaN\n",
       "2003                NaN    2.07  184.31     NaN     NaN     NaN\n",
       "2004              17.27     NaN  211.81     NaN     NaN     NaN\n",
       "2005             130.14     NaN  160.66     NaN     NaN    8.25\n",
       "2006             119.81     NaN  103.42   20.96  137.15   51.62\n",
       "2007             146.94     NaN   75.99   73.19  152.77   95.41\n",
       "2008             145.31     NaN   53.90  118.52  171.32  135.26\n",
       "2009             119.54     NaN   26.40  130.93  206.97  120.29\n",
       "2010              85.02     NaN    5.64  142.17  127.95  170.03\n",
       "2011              26.18     NaN    0.45  156.78   59.65  143.84\n",
       "2012              11.01     NaN     NaN  107.36   21.71   99.74\n",
       "2013               1.54     NaN     NaN  113.25    8.59   88.58\n",
       "2014                NaN     NaN     NaN   47.76    3.75   34.74\n",
       "2015                NaN     NaN     NaN   16.82    1.14   11.96\n",
       "2016                NaN     NaN     NaN    3.60    0.18    1.52"
      ]
     },
     "execution_count": 32,
     "metadata": {},
     "output_type": "execute_result"
    }
   ],
   "source": [
    "data_top = data[(data['platform'] == 'PS2') | (data['platform'] == 'X360') | (data['platform'] == 'PS3') \\\n",
    "                | (data['platform'] == 'Wii') | (data['platform'] == 'DS') | (data['platform'] == 'PS')]\n",
    "\n",
    "data_top_pivot = data_top.pivot_table(index = 'year_of_release', columns = 'platform', values = 'total_sales', aggfunc = 'sum')\n",
    "data_top_pivot\n"
   ]
  },
  {
   "cell_type": "code",
   "execution_count": 33,
   "metadata": {
    "scrolled": true
   },
   "outputs": [
    {
     "data": {
      "text/plain": [
       "<AxesSubplot:title={'center':'Жизненный цикл игр'}, xlabel='year_of_release'>"
      ]
     },
     "execution_count": 33,
     "metadata": {},
     "output_type": "execute_result"
    },
    {
     "data": {
      "image/png": "[encoded data removed]",
      "text/plain": [
       "<Figure size 720x360 with 1 Axes>"
      ]
     },
     "metadata": {
      "needs_background": "light"
     },
     "output_type": "display_data"
    }
   ],
   "source": [
    "data_top_pivot.plot(figsize=(10, 5), grid=True, title='Жизненный цикл игр')"
   ]
  },
  {
   "cell_type": "code",
   "execution_count": 34,
   "metadata": {},
   "outputs": [
    {
     "data": {
      "text/html": [
       "<div>\n",
       "<style scoped>\n",
       "    .dataframe tbody tr th:only-of-type {\n",
       "        vertical-align: middle;\n",
       "    }\n",
       "\n",
       "    .dataframe tbody tr th {\n",
       "        vertical-align: top;\n",
       "    }\n",
       "\n",
       "    .dataframe thead th {\n",
       "        text-align: right;\n",
       "    }\n",
       "</style>\n",
       "<table border=\"1\" class=\"dataframe\">\n",
       "  <thead>\n",
       "    <tr style=\"text-align: right;\">\n",
       "      <th></th>\n",
       "      <th>name</th>\n",
       "      <th>platform</th>\n",
       "      <th>year_of_release</th>\n",
       "      <th>genre</th>\n",
       "      <th>na_sales</th>\n",
       "      <th>eu_sales</th>\n",
       "      <th>jp_sales</th>\n",
       "      <th>other_sales</th>\n",
       "      <th>critic_score</th>\n",
       "      <th>user_score</th>\n",
       "      <th>rating</th>\n",
       "      <th>total_sales</th>\n",
       "    </tr>\n",
       "  </thead>\n",
       "  <tbody>\n",
       "    <tr>\n",
       "      <th>15957</th>\n",
       "      <td>Strongest Tokyo University Shogi DS</td>\n",
       "      <td>DS</td>\n",
       "      <td>1985</td>\n",
       "      <td>Action</td>\n",
       "      <td>0.0</td>\n",
       "      <td>0.0</td>\n",
       "      <td>0.02</td>\n",
       "      <td>0.0</td>\n",
       "      <td>&lt;NA&gt;</td>\n",
       "      <td>NaN</td>\n",
       "      <td>RP</td>\n",
       "      <td>0.02</td>\n",
       "    </tr>\n",
       "  </tbody>\n",
       "</table>\n",
       "</div>"
      ],
      "text/plain": [
       "                                      name platform  year_of_release   genre  \\\n",
       "15957  Strongest Tokyo University Shogi DS       DS             1985  Action   \n",
       "\n",
       "       na_sales  eu_sales  jp_sales  other_sales  critic_score  user_score  \\\n",
       "15957       0.0       0.0      0.02          0.0          <NA>         NaN   \n",
       "\n",
       "      rating  total_sales  \n",
       "15957     RP         0.02  "
      ]
     },
     "execution_count": 34,
     "metadata": {},
     "output_type": "execute_result"
    }
   ],
   "source": [
    "data[data['platform'] == 'DS'].query('year_of_release == 1985')"
   ]
  },
  {
   "cell_type": "markdown",
   "metadata": {},
   "source": [
    "Построили сводную таблицу по 6 первым платформам, чтобы посмотреть, как продажи распределялись по годам:\n",
    "\n",
    " - Платформа DS - первое появление 1985 год, далее существовала с 2004 по 2013. Из данных в датасете следует, что в 1985 году на DS была выпущена игра Strongest Tokyo University Shogi DS. В интернете подтверждение этой информации не найдено. Возможно, из-за DS  в конце названия игры она попала на соответствующую платформу в датасете. Будем считать верным период 2004-2013, что подтверждает википедия\n",
    " - Платформа PS - 1994-2003\n",
    " - Платформа PS2 - 2000 - 2011\n",
    " - Платформа PS3 - 2006 - 2016 \n",
    " - Платформа Wii - 2006 - 2016\n",
    " - Платформа X360 - 2005 - 2016\n",
    "\n",
    " Также построили гистрограмму на основании сводной таблицы. На ней видно, что платформа Wii сразу стартовала с высоких позиций - примерно 140 млн проданных копий за первый год. А также, что в 2016 году объемы продаж на платформах очень низки и стримятся к нулю. Можно считать, что жизненный цикл платформ составляет 9-11 лет"
   ]
  },
  {
   "cell_type": "code",
   "execution_count": 35,
   "metadata": {},
   "outputs": [],
   "source": [
    "data_2014_2016 = data[data['year_of_release'] >= 2014]"
   ]
  },
  {
   "cell_type": "code",
   "execution_count": 36,
   "metadata": {},
   "outputs": [
    {
     "data": {
      "text/html": [
       "<div>\n",
       "<style scoped>\n",
       "    .dataframe tbody tr th:only-of-type {\n",
       "        vertical-align: middle;\n",
       "    }\n",
       "\n",
       "    .dataframe tbody tr th {\n",
       "        vertical-align: top;\n",
       "    }\n",
       "\n",
       "    .dataframe thead th {\n",
       "        text-align: right;\n",
       "    }\n",
       "</style>\n",
       "<table border=\"1\" class=\"dataframe\">\n",
       "  <thead>\n",
       "    <tr style=\"text-align: right;\">\n",
       "      <th></th>\n",
       "      <th>total_sales</th>\n",
       "    </tr>\n",
       "    <tr>\n",
       "      <th>platform</th>\n",
       "      <th></th>\n",
       "    </tr>\n",
       "  </thead>\n",
       "  <tbody>\n",
       "    <tr>\n",
       "      <th>PS4</th>\n",
       "      <td>288.15</td>\n",
       "    </tr>\n",
       "    <tr>\n",
       "      <th>XOne</th>\n",
       "      <td>140.36</td>\n",
       "    </tr>\n",
       "    <tr>\n",
       "      <th>3DS</th>\n",
       "      <td>86.68</td>\n",
       "    </tr>\n",
       "    <tr>\n",
       "      <th>PS3</th>\n",
       "      <td>68.18</td>\n",
       "    </tr>\n",
       "    <tr>\n",
       "      <th>X360</th>\n",
       "      <td>48.22</td>\n",
       "    </tr>\n",
       "    <tr>\n",
       "      <th>WiiU</th>\n",
       "      <td>42.98</td>\n",
       "    </tr>\n",
       "    <tr>\n",
       "      <th>PC</th>\n",
       "      <td>27.05</td>\n",
       "    </tr>\n",
       "    <tr>\n",
       "      <th>PSV</th>\n",
       "      <td>22.40</td>\n",
       "    </tr>\n",
       "    <tr>\n",
       "      <th>Wii</th>\n",
       "      <td>5.07</td>\n",
       "    </tr>\n",
       "    <tr>\n",
       "      <th>PSP</th>\n",
       "      <td>0.36</td>\n",
       "    </tr>\n",
       "  </tbody>\n",
       "</table>\n",
       "</div>"
      ],
      "text/plain": [
       "          total_sales\n",
       "platform             \n",
       "PS4            288.15\n",
       "XOne           140.36\n",
       "3DS             86.68\n",
       "PS3             68.18\n",
       "X360            48.22\n",
       "WiiU            42.98\n",
       "PC              27.05\n",
       "PSV             22.40\n",
       "Wii              5.07\n",
       "PSP              0.36"
      ]
     },
     "execution_count": 36,
     "metadata": {},
     "output_type": "execute_result"
    }
   ],
   "source": [
    "data_2014_2016.pivot_table(index = 'platform', values = 'total_sales', aggfunc = 'sum')\\\n",
    ".sort_values(by = 'total_sales', ascending = False)"
   ]
  },
  {
   "cell_type": "markdown",
   "metadata": {},
   "source": [
    "#### Диаграмма размаха по платформам"
   ]
  },
  {
   "cell_type": "code",
   "execution_count": 37,
   "metadata": {
    "scrolled": true
   },
   "outputs": [
    {
     "data": {
      "text/plain": [
       "<AxesSubplot:xlabel='platform', ylabel='total_sales'>"
      ]
     },
     "execution_count": 37,
     "metadata": {},
     "output_type": "execute_result"
    },
    {
     "data": {
      "image/png": "[encoded data removed]",
      "text/plain": [
       "<Figure size 432x288 with 1 Axes>"
      ]
     },
     "metadata": {
      "needs_background": "light"
     },
     "output_type": "display_data"
    }
   ],
   "source": [
    "sns.boxplot(x='platform', y='total_sales', data=data_2014_2016)\n"
   ]
  },
  {
   "cell_type": "code",
   "execution_count": 38,
   "metadata": {},
   "outputs": [
    {
     "data": {
      "text/plain": [
       "(0.0, 2.0)"
      ]
     },
     "execution_count": 38,
     "metadata": {},
     "output_type": "execute_result"
    },
    {
     "data": {
      "image/png": "[encoded data removed]",
      "text/plain": [
       "<Figure size 432x288 with 1 Axes>"
      ]
     },
     "metadata": {
      "needs_background": "light"
     },
     "output_type": "display_data"
    }
   ],
   "source": [
    "sns.boxplot(x='platform', y='total_sales', data=data_2014_2016)\n",
    "plt.ylim(0,2)"
   ]
  },
  {
   "cell_type": "markdown",
   "metadata": {},
   "source": [
    "Построили две версии диаграммы размаха общих продаж платформ за 2014-2016. На первой видны выбросы, самый заметный у PS4, 3DS.\n",
    "\n",
    "Вторая версия позволяет рассмотреть межквартильный размах и медианы. \n",
    "\n",
    "Наиболее перспективными выглядят платформы PS4, XOne, WiiU. Их третий квартиль находится в промежутке 0,5-0,75 проданных копий. При этом на первом графике видно, что эти платформы в топе по выбросам (то есть на них продавались хитовые игры, которые притягивают игроков на платформу). 3DS также оставляем в перспективных согласно первой диаграмме.\n",
    "\n",
    "Часть платформ на графике - это разные версии одной платформы. Например, логично, что PSPortable, PS3 и PSVita на низких позициях. Они уже устарели по сравнению с новой версией PS4\n",
    "\n",
    "Xbox 360 отстает от более новой Xbox One. Wii отстает от новой версии WiiU\n",
    "\n",
    "\n"
   ]
  },
  {
   "cell_type": "markdown",
   "metadata": {},
   "source": [
    "#### Влияние отзывов на популярность платформы"
   ]
  },
  {
   "cell_type": "markdown",
   "metadata": {},
   "source": [
    "##### PS4"
   ]
  },
  {
   "cell_type": "code",
   "execution_count": 39,
   "metadata": {
    "scrolled": true
   },
   "outputs": [
    {
     "data": {
      "text/plain": [
       "<AxesSubplot:xlabel='critic_score', ylabel='total_sales'>"
      ]
     },
     "execution_count": 39,
     "metadata": {},
     "output_type": "execute_result"
    },
    {
     "data": {
      "image/png": "[encoded data removed]",
      "text/plain": [
       "<Figure size 432x288 with 1 Axes>"
      ]
     },
     "metadata": {
      "needs_background": "light"
     },
     "output_type": "display_data"
    }
   ],
   "source": [
    "data_2014_2016[data_2014_2016['platform'] == 'PS4'].plot(x='critic_score', y='total_sales', \\\n",
    "                                                                    kind='scatter', alpha=0.4) "
   ]
  },
  {
   "cell_type": "code",
   "execution_count": 40,
   "metadata": {
    "scrolled": true
   },
   "outputs": [
    {
     "data": {
      "text/plain": [
       "<AxesSubplot:xlabel='user_score', ylabel='total_sales'>"
      ]
     },
     "execution_count": 40,
     "metadata": {},
     "output_type": "execute_result"
    },
    {
     "data": {
      "image/png": "[encoded data removed]",
      "text/plain": [
       "<Figure size 432x288 with 1 Axes>"
      ]
     },
     "metadata": {
      "needs_background": "light"
     },
     "output_type": "display_data"
    }
   ],
   "source": [
    "data_2014_2016[data_2014_2016['platform'] == 'PS4'].plot(x='user_score', y='total_sales', kind='scatter', alpha=0.3) "
   ]
  },
  {
   "cell_type": "code",
   "execution_count": 41,
   "metadata": {
    "scrolled": true
   },
   "outputs": [
    {
     "data": {
      "text/html": [
       "<div>\n",
       "<style scoped>\n",
       "    .dataframe tbody tr th:only-of-type {\n",
       "        vertical-align: middle;\n",
       "    }\n",
       "\n",
       "    .dataframe tbody tr th {\n",
       "        vertical-align: top;\n",
       "    }\n",
       "\n",
       "    .dataframe thead th {\n",
       "        text-align: right;\n",
       "    }\n",
       "</style>\n",
       "<table border=\"1\" class=\"dataframe\">\n",
       "  <thead>\n",
       "    <tr style=\"text-align: right;\">\n",
       "      <th></th>\n",
       "      <th>year_of_release</th>\n",
       "      <th>na_sales</th>\n",
       "      <th>eu_sales</th>\n",
       "      <th>jp_sales</th>\n",
       "      <th>other_sales</th>\n",
       "      <th>critic_score</th>\n",
       "      <th>user_score</th>\n",
       "      <th>total_sales</th>\n",
       "    </tr>\n",
       "  </thead>\n",
       "  <tbody>\n",
       "    <tr>\n",
       "      <th>year_of_release</th>\n",
       "      <td>1.000000</td>\n",
       "      <td>-0.219443</td>\n",
       "      <td>-0.195176</td>\n",
       "      <td>-0.040969</td>\n",
       "      <td>-0.219129</td>\n",
       "      <td>-0.044226</td>\n",
       "      <td>0.026116</td>\n",
       "      <td>-0.214338</td>\n",
       "    </tr>\n",
       "    <tr>\n",
       "      <th>na_sales</th>\n",
       "      <td>-0.219443</td>\n",
       "      <td>1.000000</td>\n",
       "      <td>0.784902</td>\n",
       "      <td>0.491452</td>\n",
       "      <td>0.944903</td>\n",
       "      <td>0.411638</td>\n",
       "      <td>-0.011518</td>\n",
       "      <td>0.928090</td>\n",
       "    </tr>\n",
       "    <tr>\n",
       "      <th>eu_sales</th>\n",
       "      <td>-0.195176</td>\n",
       "      <td>0.784902</td>\n",
       "      <td>1.000000</td>\n",
       "      <td>0.472101</td>\n",
       "      <td>0.944380</td>\n",
       "      <td>0.340268</td>\n",
       "      <td>-0.059389</td>\n",
       "      <td>0.958109</td>\n",
       "    </tr>\n",
       "    <tr>\n",
       "      <th>jp_sales</th>\n",
       "      <td>-0.040969</td>\n",
       "      <td>0.491452</td>\n",
       "      <td>0.472101</td>\n",
       "      <td>1.000000</td>\n",
       "      <td>0.510433</td>\n",
       "      <td>0.379041</td>\n",
       "      <td>0.182067</td>\n",
       "      <td>0.538524</td>\n",
       "    </tr>\n",
       "    <tr>\n",
       "      <th>other_sales</th>\n",
       "      <td>-0.219129</td>\n",
       "      <td>0.944903</td>\n",
       "      <td>0.944380</td>\n",
       "      <td>0.510433</td>\n",
       "      <td>1.000000</td>\n",
       "      <td>0.404645</td>\n",
       "      <td>-0.038900</td>\n",
       "      <td>0.998252</td>\n",
       "    </tr>\n",
       "    <tr>\n",
       "      <th>critic_score</th>\n",
       "      <td>-0.044226</td>\n",
       "      <td>0.411638</td>\n",
       "      <td>0.340268</td>\n",
       "      <td>0.379041</td>\n",
       "      <td>0.404645</td>\n",
       "      <td>1.000000</td>\n",
       "      <td>0.544457</td>\n",
       "      <td>0.402661</td>\n",
       "    </tr>\n",
       "    <tr>\n",
       "      <th>user_score</th>\n",
       "      <td>0.026116</td>\n",
       "      <td>-0.011518</td>\n",
       "      <td>-0.059389</td>\n",
       "      <td>0.182067</td>\n",
       "      <td>-0.038900</td>\n",
       "      <td>0.544457</td>\n",
       "      <td>1.000000</td>\n",
       "      <td>-0.035010</td>\n",
       "    </tr>\n",
       "    <tr>\n",
       "      <th>total_sales</th>\n",
       "      <td>-0.214338</td>\n",
       "      <td>0.928090</td>\n",
       "      <td>0.958109</td>\n",
       "      <td>0.538524</td>\n",
       "      <td>0.998252</td>\n",
       "      <td>0.402661</td>\n",
       "      <td>-0.035010</td>\n",
       "      <td>1.000000</td>\n",
       "    </tr>\n",
       "  </tbody>\n",
       "</table>\n",
       "</div>"
      ],
      "text/plain": [
       "                 year_of_release  na_sales  eu_sales  jp_sales  other_sales  \\\n",
       "year_of_release         1.000000 -0.219443 -0.195176 -0.040969    -0.219129   \n",
       "na_sales               -0.219443  1.000000  0.784902  0.491452     0.944903   \n",
       "eu_sales               -0.195176  0.784902  1.000000  0.472101     0.944380   \n",
       "jp_sales               -0.040969  0.491452  0.472101  1.000000     0.510433   \n",
       "other_sales            -0.219129  0.944903  0.944380  0.510433     1.000000   \n",
       "critic_score           -0.044226  0.411638  0.340268  0.379041     0.404645   \n",
       "user_score              0.026116 -0.011518 -0.059389  0.182067    -0.038900   \n",
       "total_sales            -0.214338  0.928090  0.958109  0.538524     0.998252   \n",
       "\n",
       "                 critic_score  user_score  total_sales  \n",
       "year_of_release     -0.044226    0.026116    -0.214338  \n",
       "na_sales             0.411638   -0.011518     0.928090  \n",
       "eu_sales             0.340268   -0.059389     0.958109  \n",
       "jp_sales             0.379041    0.182067     0.538524  \n",
       "other_sales          0.404645   -0.038900     0.998252  \n",
       "critic_score         1.000000    0.544457     0.402661  \n",
       "user_score           0.544457    1.000000    -0.035010  \n",
       "total_sales          0.402661   -0.035010     1.000000  "
      ]
     },
     "execution_count": 41,
     "metadata": {},
     "output_type": "execute_result"
    }
   ],
   "source": [
    "data_2014_2016[data_2014_2016['platform'] == 'PS4'].corr()"
   ]
  },
  {
   "cell_type": "markdown",
   "metadata": {},
   "source": [
    "##### XOne"
   ]
  },
  {
   "cell_type": "code",
   "execution_count": 42,
   "metadata": {},
   "outputs": [
    {
     "data": {
      "text/plain": [
       "<AxesSubplot:xlabel='critic_score', ylabel='total_sales'>"
      ]
     },
     "execution_count": 42,
     "metadata": {},
     "output_type": "execute_result"
    },
    {
     "data": {
      "image/png": "[encoded data removed]",
      "text/plain": [
       "<Figure size 432x288 with 1 Axes>"
      ]
     },
     "metadata": {
      "needs_background": "light"
     },
     "output_type": "display_data"
    }
   ],
   "source": [
    "data_2014_2016[data_2014_2016['platform'] == 'XOne'].plot(x='critic_score', y='total_sales', \\\n",
    "                                                                    kind='scatter', alpha=0.4) "
   ]
  },
  {
   "cell_type": "code",
   "execution_count": 43,
   "metadata": {},
   "outputs": [
    {
     "data": {
      "text/plain": [
       "<AxesSubplot:xlabel='user_score', ylabel='total_sales'>"
      ]
     },
     "execution_count": 43,
     "metadata": {},
     "output_type": "execute_result"
    },
    {
     "data": {
      "image/png": "[encoded data removed]",
      "text/plain": [
       "<Figure size 432x288 with 1 Axes>"
      ]
     },
     "metadata": {
      "needs_background": "light"
     },
     "output_type": "display_data"
    }
   ],
   "source": [
    "data_2014_2016[data_2014_2016['platform'] == 'XOne'].plot(x='user_score', y='total_sales', kind='scatter', alpha=0.3) "
   ]
  },
  {
   "cell_type": "code",
   "execution_count": 44,
   "metadata": {},
   "outputs": [
    {
     "data": {
      "text/html": [
       "<div>\n",
       "<style scoped>\n",
       "    .dataframe tbody tr th:only-of-type {\n",
       "        vertical-align: middle;\n",
       "    }\n",
       "\n",
       "    .dataframe tbody tr th {\n",
       "        vertical-align: top;\n",
       "    }\n",
       "\n",
       "    .dataframe thead th {\n",
       "        text-align: right;\n",
       "    }\n",
       "</style>\n",
       "<table border=\"1\" class=\"dataframe\">\n",
       "  <thead>\n",
       "    <tr style=\"text-align: right;\">\n",
       "      <th></th>\n",
       "      <th>year_of_release</th>\n",
       "      <th>na_sales</th>\n",
       "      <th>eu_sales</th>\n",
       "      <th>jp_sales</th>\n",
       "      <th>other_sales</th>\n",
       "      <th>critic_score</th>\n",
       "      <th>user_score</th>\n",
       "      <th>total_sales</th>\n",
       "    </tr>\n",
       "  </thead>\n",
       "  <tbody>\n",
       "    <tr>\n",
       "      <th>year_of_release</th>\n",
       "      <td>1.000000</td>\n",
       "      <td>-0.225464</td>\n",
       "      <td>-0.204378</td>\n",
       "      <td>-0.173475</td>\n",
       "      <td>-0.231761</td>\n",
       "      <td>-0.012092</td>\n",
       "      <td>-0.033572</td>\n",
       "      <td>-0.231327</td>\n",
       "    </tr>\n",
       "    <tr>\n",
       "      <th>na_sales</th>\n",
       "      <td>-0.225464</td>\n",
       "      <td>1.000000</td>\n",
       "      <td>0.763032</td>\n",
       "      <td>0.435269</td>\n",
       "      <td>0.987812</td>\n",
       "      <td>0.401137</td>\n",
       "      <td>-0.069160</td>\n",
       "      <td>0.969688</td>\n",
       "    </tr>\n",
       "    <tr>\n",
       "      <th>eu_sales</th>\n",
       "      <td>-0.204378</td>\n",
       "      <td>0.763032</td>\n",
       "      <td>1.000000</td>\n",
       "      <td>0.424716</td>\n",
       "      <td>0.852089</td>\n",
       "      <td>0.385121</td>\n",
       "      <td>-0.062437</td>\n",
       "      <td>0.897802</td>\n",
       "    </tr>\n",
       "    <tr>\n",
       "      <th>jp_sales</th>\n",
       "      <td>-0.173475</td>\n",
       "      <td>0.435269</td>\n",
       "      <td>0.424716</td>\n",
       "      <td>1.000000</td>\n",
       "      <td>0.450555</td>\n",
       "      <td>0.207366</td>\n",
       "      <td>0.061554</td>\n",
       "      <td>0.460953</td>\n",
       "    </tr>\n",
       "    <tr>\n",
       "      <th>other_sales</th>\n",
       "      <td>-0.231761</td>\n",
       "      <td>0.987812</td>\n",
       "      <td>0.852089</td>\n",
       "      <td>0.450555</td>\n",
       "      <td>1.000000</td>\n",
       "      <td>0.425689</td>\n",
       "      <td>-0.070909</td>\n",
       "      <td>0.995134</td>\n",
       "    </tr>\n",
       "    <tr>\n",
       "      <th>critic_score</th>\n",
       "      <td>-0.012092</td>\n",
       "      <td>0.401137</td>\n",
       "      <td>0.385121</td>\n",
       "      <td>0.207366</td>\n",
       "      <td>0.425689</td>\n",
       "      <td>1.000000</td>\n",
       "      <td>0.419111</td>\n",
       "      <td>0.428677</td>\n",
       "    </tr>\n",
       "    <tr>\n",
       "      <th>user_score</th>\n",
       "      <td>-0.033572</td>\n",
       "      <td>-0.069160</td>\n",
       "      <td>-0.062437</td>\n",
       "      <td>0.061554</td>\n",
       "      <td>-0.070909</td>\n",
       "      <td>0.419111</td>\n",
       "      <td>1.000000</td>\n",
       "      <td>-0.071466</td>\n",
       "    </tr>\n",
       "    <tr>\n",
       "      <th>total_sales</th>\n",
       "      <td>-0.231327</td>\n",
       "      <td>0.969688</td>\n",
       "      <td>0.897802</td>\n",
       "      <td>0.460953</td>\n",
       "      <td>0.995134</td>\n",
       "      <td>0.428677</td>\n",
       "      <td>-0.071466</td>\n",
       "      <td>1.000000</td>\n",
       "    </tr>\n",
       "  </tbody>\n",
       "</table>\n",
       "</div>"
      ],
      "text/plain": [
       "                 year_of_release  na_sales  eu_sales  jp_sales  other_sales  \\\n",
       "year_of_release         1.000000 -0.225464 -0.204378 -0.173475    -0.231761   \n",
       "na_sales               -0.225464  1.000000  0.763032  0.435269     0.987812   \n",
       "eu_sales               -0.204378  0.763032  1.000000  0.424716     0.852089   \n",
       "jp_sales               -0.173475  0.435269  0.424716  1.000000     0.450555   \n",
       "other_sales            -0.231761  0.987812  0.852089  0.450555     1.000000   \n",
       "critic_score           -0.012092  0.401137  0.385121  0.207366     0.425689   \n",
       "user_score             -0.033572 -0.069160 -0.062437  0.061554    -0.070909   \n",
       "total_sales            -0.231327  0.969688  0.897802  0.460953     0.995134   \n",
       "\n",
       "                 critic_score  user_score  total_sales  \n",
       "year_of_release     -0.012092   -0.033572    -0.231327  \n",
       "na_sales             0.401137   -0.069160     0.969688  \n",
       "eu_sales             0.385121   -0.062437     0.897802  \n",
       "jp_sales             0.207366    0.061554     0.460953  \n",
       "other_sales          0.425689   -0.070909     0.995134  \n",
       "critic_score         1.000000    0.419111     0.428677  \n",
       "user_score           0.419111    1.000000    -0.071466  \n",
       "total_sales          0.428677   -0.071466     1.000000  "
      ]
     },
     "execution_count": 44,
     "metadata": {},
     "output_type": "execute_result"
    }
   ],
   "source": [
    "data_2014_2016[data_2014_2016['platform'] == 'XOne'].corr()"
   ]
  },
  {
   "cell_type": "markdown",
   "metadata": {},
   "source": [
    "##### WiiU"
   ]
  },
  {
   "cell_type": "code",
   "execution_count": 45,
   "metadata": {},
   "outputs": [
    {
     "data": {
      "text/plain": [
       "<AxesSubplot:xlabel='critic_score', ylabel='total_sales'>"
      ]
     },
     "execution_count": 45,
     "metadata": {},
     "output_type": "execute_result"
    },
    {
     "data": {
      "image/png": "[encoded data removed]",
      "text/plain": [
       "<Figure size 432x288 with 1 Axes>"
      ]
     },
     "metadata": {
      "needs_background": "light"
     },
     "output_type": "display_data"
    }
   ],
   "source": [
    "data_2014_2016[data_2014_2016['platform'] == 'WiiU'].plot(x='critic_score', y='total_sales', \\\n",
    "                                                                    kind='scatter', alpha=0.4) "
   ]
  },
  {
   "cell_type": "code",
   "execution_count": 46,
   "metadata": {},
   "outputs": [
    {
     "data": {
      "text/plain": [
       "<AxesSubplot:xlabel='user_score', ylabel='total_sales'>"
      ]
     },
     "execution_count": 46,
     "metadata": {},
     "output_type": "execute_result"
    },
    {
     "data": {
      "image/png": "[encoded data removed]",
      "text/plain": [
       "<Figure size 432x288 with 1 Axes>"
      ]
     },
     "metadata": {
      "needs_background": "light"
     },
     "output_type": "display_data"
    }
   ],
   "source": [
    "data_2014_2016[data_2014_2016['platform'] == 'WiiU'].plot(x='user_score', y='total_sales', kind='scatter', alpha=0.3) "
   ]
  },
  {
   "cell_type": "code",
   "execution_count": 47,
   "metadata": {},
   "outputs": [
    {
     "data": {
      "text/html": [
       "<div>\n",
       "<style scoped>\n",
       "    .dataframe tbody tr th:only-of-type {\n",
       "        vertical-align: middle;\n",
       "    }\n",
       "\n",
       "    .dataframe tbody tr th {\n",
       "        vertical-align: top;\n",
       "    }\n",
       "\n",
       "    .dataframe thead th {\n",
       "        text-align: right;\n",
       "    }\n",
       "</style>\n",
       "<table border=\"1\" class=\"dataframe\">\n",
       "  <thead>\n",
       "    <tr style=\"text-align: right;\">\n",
       "      <th></th>\n",
       "      <th>year_of_release</th>\n",
       "      <th>na_sales</th>\n",
       "      <th>eu_sales</th>\n",
       "      <th>jp_sales</th>\n",
       "      <th>other_sales</th>\n",
       "      <th>critic_score</th>\n",
       "      <th>user_score</th>\n",
       "      <th>total_sales</th>\n",
       "    </tr>\n",
       "  </thead>\n",
       "  <tbody>\n",
       "    <tr>\n",
       "      <th>year_of_release</th>\n",
       "      <td>1.000000</td>\n",
       "      <td>-0.137767</td>\n",
       "      <td>-0.118623</td>\n",
       "      <td>-0.057475</td>\n",
       "      <td>-0.132400</td>\n",
       "      <td>0.046162</td>\n",
       "      <td>0.012272</td>\n",
       "      <td>-0.117538</td>\n",
       "    </tr>\n",
       "    <tr>\n",
       "      <th>na_sales</th>\n",
       "      <td>-0.137767</td>\n",
       "      <td>1.000000</td>\n",
       "      <td>0.967184</td>\n",
       "      <td>0.865752</td>\n",
       "      <td>0.997466</td>\n",
       "      <td>0.373162</td>\n",
       "      <td>0.402780</td>\n",
       "      <td>0.986836</td>\n",
       "    </tr>\n",
       "    <tr>\n",
       "      <th>eu_sales</th>\n",
       "      <td>-0.118623</td>\n",
       "      <td>0.967184</td>\n",
       "      <td>1.000000</td>\n",
       "      <td>0.893369</td>\n",
       "      <td>0.980793</td>\n",
       "      <td>0.387009</td>\n",
       "      <td>0.413272</td>\n",
       "      <td>0.986471</td>\n",
       "    </tr>\n",
       "    <tr>\n",
       "      <th>jp_sales</th>\n",
       "      <td>-0.057475</td>\n",
       "      <td>0.865752</td>\n",
       "      <td>0.893369</td>\n",
       "      <td>1.000000</td>\n",
       "      <td>0.878113</td>\n",
       "      <td>0.306875</td>\n",
       "      <td>0.359583</td>\n",
       "      <td>0.927670</td>\n",
       "    </tr>\n",
       "    <tr>\n",
       "      <th>other_sales</th>\n",
       "      <td>-0.132400</td>\n",
       "      <td>0.997466</td>\n",
       "      <td>0.980793</td>\n",
       "      <td>0.878113</td>\n",
       "      <td>1.000000</td>\n",
       "      <td>0.379034</td>\n",
       "      <td>0.410339</td>\n",
       "      <td>0.992516</td>\n",
       "    </tr>\n",
       "    <tr>\n",
       "      <th>critic_score</th>\n",
       "      <td>0.046162</td>\n",
       "      <td>0.373162</td>\n",
       "      <td>0.387009</td>\n",
       "      <td>0.306875</td>\n",
       "      <td>0.379034</td>\n",
       "      <td>1.000000</td>\n",
       "      <td>0.763536</td>\n",
       "      <td>0.370201</td>\n",
       "    </tr>\n",
       "    <tr>\n",
       "      <th>user_score</th>\n",
       "      <td>0.012272</td>\n",
       "      <td>0.402780</td>\n",
       "      <td>0.413272</td>\n",
       "      <td>0.359583</td>\n",
       "      <td>0.410339</td>\n",
       "      <td>0.763536</td>\n",
       "      <td>1.000000</td>\n",
       "      <td>0.405213</td>\n",
       "    </tr>\n",
       "    <tr>\n",
       "      <th>total_sales</th>\n",
       "      <td>-0.117538</td>\n",
       "      <td>0.986836</td>\n",
       "      <td>0.986471</td>\n",
       "      <td>0.927670</td>\n",
       "      <td>0.992516</td>\n",
       "      <td>0.370201</td>\n",
       "      <td>0.405213</td>\n",
       "      <td>1.000000</td>\n",
       "    </tr>\n",
       "  </tbody>\n",
       "</table>\n",
       "</div>"
      ],
      "text/plain": [
       "                 year_of_release  na_sales  eu_sales  jp_sales  other_sales  \\\n",
       "year_of_release         1.000000 -0.137767 -0.118623 -0.057475    -0.132400   \n",
       "na_sales               -0.137767  1.000000  0.967184  0.865752     0.997466   \n",
       "eu_sales               -0.118623  0.967184  1.000000  0.893369     0.980793   \n",
       "jp_sales               -0.057475  0.865752  0.893369  1.000000     0.878113   \n",
       "other_sales            -0.132400  0.997466  0.980793  0.878113     1.000000   \n",
       "critic_score            0.046162  0.373162  0.387009  0.306875     0.379034   \n",
       "user_score              0.012272  0.402780  0.413272  0.359583     0.410339   \n",
       "total_sales            -0.117538  0.986836  0.986471  0.927670     0.992516   \n",
       "\n",
       "                 critic_score  user_score  total_sales  \n",
       "year_of_release      0.046162    0.012272    -0.117538  \n",
       "na_sales             0.373162    0.402780     0.986836  \n",
       "eu_sales             0.387009    0.413272     0.986471  \n",
       "jp_sales             0.306875    0.359583     0.927670  \n",
       "other_sales          0.379034    0.410339     0.992516  \n",
       "critic_score         1.000000    0.763536     0.370201  \n",
       "user_score           0.763536    1.000000     0.405213  \n",
       "total_sales          0.370201    0.405213     1.000000  "
      ]
     },
     "execution_count": 47,
     "metadata": {},
     "output_type": "execute_result"
    }
   ],
   "source": [
    "data_2014_2016[data_2014_2016['platform'] == 'WiiU'].corr()"
   ]
  },
  {
   "cell_type": "markdown",
   "metadata": {},
   "source": [
    "#####  3DS"
   ]
  },
  {
   "cell_type": "code",
   "execution_count": 48,
   "metadata": {},
   "outputs": [
    {
     "data": {
      "text/plain": [
       "<AxesSubplot:xlabel='critic_score', ylabel='total_sales'>"
      ]
     },
     "execution_count": 48,
     "metadata": {},
     "output_type": "execute_result"
    },
    {
     "data": {
      "image/png": "[encoded data removed]",
      "text/plain": [
       "<Figure size 432x288 with 1 Axes>"
      ]
     },
     "metadata": {
      "needs_background": "light"
     },
     "output_type": "display_data"
    }
   ],
   "source": [
    "data_2014_2016[data_2014_2016['platform'] == '3DS'].plot(x='critic_score', y='total_sales', \\\n",
    "                                                                    kind='scatter', alpha=0.4) "
   ]
  },
  {
   "cell_type": "code",
   "execution_count": 49,
   "metadata": {},
   "outputs": [
    {
     "data": {
      "text/plain": [
       "<AxesSubplot:xlabel='user_score', ylabel='total_sales'>"
      ]
     },
     "execution_count": 49,
     "metadata": {},
     "output_type": "execute_result"
    },
    {
     "data": {
      "image/png": "[encoded data removed]",
      "text/plain": [
       "<Figure size 432x288 with 1 Axes>"
      ]
     },
     "metadata": {
      "needs_background": "light"
     },
     "output_type": "display_data"
    }
   ],
   "source": [
    "data_2014_2016[data_2014_2016['platform'] == '3DS'].plot(x='user_score', y='total_sales', kind='scatter', alpha=0.3) "
   ]
  },
  {
   "cell_type": "code",
   "execution_count": 50,
   "metadata": {},
   "outputs": [
    {
     "data": {
      "text/html": [
       "<div>\n",
       "<style scoped>\n",
       "    .dataframe tbody tr th:only-of-type {\n",
       "        vertical-align: middle;\n",
       "    }\n",
       "\n",
       "    .dataframe tbody tr th {\n",
       "        vertical-align: top;\n",
       "    }\n",
       "\n",
       "    .dataframe thead th {\n",
       "        text-align: right;\n",
       "    }\n",
       "</style>\n",
       "<table border=\"1\" class=\"dataframe\">\n",
       "  <thead>\n",
       "    <tr style=\"text-align: right;\">\n",
       "      <th></th>\n",
       "      <th>year_of_release</th>\n",
       "      <th>na_sales</th>\n",
       "      <th>eu_sales</th>\n",
       "      <th>jp_sales</th>\n",
       "      <th>other_sales</th>\n",
       "      <th>critic_score</th>\n",
       "      <th>user_score</th>\n",
       "      <th>total_sales</th>\n",
       "    </tr>\n",
       "  </thead>\n",
       "  <tbody>\n",
       "    <tr>\n",
       "      <th>year_of_release</th>\n",
       "      <td>1.000000</td>\n",
       "      <td>-0.064862</td>\n",
       "      <td>-0.080950</td>\n",
       "      <td>-0.065903</td>\n",
       "      <td>-0.069488</td>\n",
       "      <td>0.201100</td>\n",
       "      <td>0.265874</td>\n",
       "      <td>-0.077659</td>\n",
       "    </tr>\n",
       "    <tr>\n",
       "      <th>na_sales</th>\n",
       "      <td>-0.064862</td>\n",
       "      <td>1.000000</td>\n",
       "      <td>0.926126</td>\n",
       "      <td>0.598757</td>\n",
       "      <td>0.995141</td>\n",
       "      <td>0.363441</td>\n",
       "      <td>0.268426</td>\n",
       "      <td>0.926824</td>\n",
       "    </tr>\n",
       "    <tr>\n",
       "      <th>eu_sales</th>\n",
       "      <td>-0.080950</td>\n",
       "      <td>0.926126</td>\n",
       "      <td>1.000000</td>\n",
       "      <td>0.570443</td>\n",
       "      <td>0.957303</td>\n",
       "      <td>0.178086</td>\n",
       "      <td>0.059945</td>\n",
       "      <td>0.902940</td>\n",
       "    </tr>\n",
       "    <tr>\n",
       "      <th>jp_sales</th>\n",
       "      <td>-0.065903</td>\n",
       "      <td>0.598757</td>\n",
       "      <td>0.570443</td>\n",
       "      <td>1.000000</td>\n",
       "      <td>0.600666</td>\n",
       "      <td>0.279149</td>\n",
       "      <td>0.241692</td>\n",
       "      <td>0.844990</td>\n",
       "    </tr>\n",
       "    <tr>\n",
       "      <th>other_sales</th>\n",
       "      <td>-0.069488</td>\n",
       "      <td>0.995141</td>\n",
       "      <td>0.957303</td>\n",
       "      <td>0.600666</td>\n",
       "      <td>1.000000</td>\n",
       "      <td>0.330872</td>\n",
       "      <td>0.227101</td>\n",
       "      <td>0.933912</td>\n",
       "    </tr>\n",
       "    <tr>\n",
       "      <th>critic_score</th>\n",
       "      <td>0.201100</td>\n",
       "      <td>0.363441</td>\n",
       "      <td>0.178086</td>\n",
       "      <td>0.279149</td>\n",
       "      <td>0.330872</td>\n",
       "      <td>1.000000</td>\n",
       "      <td>0.830326</td>\n",
       "      <td>0.314117</td>\n",
       "    </tr>\n",
       "    <tr>\n",
       "      <th>user_score</th>\n",
       "      <td>0.265874</td>\n",
       "      <td>0.268426</td>\n",
       "      <td>0.059945</td>\n",
       "      <td>0.241692</td>\n",
       "      <td>0.227101</td>\n",
       "      <td>0.830326</td>\n",
       "      <td>1.000000</td>\n",
       "      <td>0.234223</td>\n",
       "    </tr>\n",
       "    <tr>\n",
       "      <th>total_sales</th>\n",
       "      <td>-0.077659</td>\n",
       "      <td>0.926824</td>\n",
       "      <td>0.902940</td>\n",
       "      <td>0.844990</td>\n",
       "      <td>0.933912</td>\n",
       "      <td>0.314117</td>\n",
       "      <td>0.234223</td>\n",
       "      <td>1.000000</td>\n",
       "    </tr>\n",
       "  </tbody>\n",
       "</table>\n",
       "</div>"
      ],
      "text/plain": [
       "                 year_of_release  na_sales  eu_sales  jp_sales  other_sales  \\\n",
       "year_of_release         1.000000 -0.064862 -0.080950 -0.065903    -0.069488   \n",
       "na_sales               -0.064862  1.000000  0.926126  0.598757     0.995141   \n",
       "eu_sales               -0.080950  0.926126  1.000000  0.570443     0.957303   \n",
       "jp_sales               -0.065903  0.598757  0.570443  1.000000     0.600666   \n",
       "other_sales            -0.069488  0.995141  0.957303  0.600666     1.000000   \n",
       "critic_score            0.201100  0.363441  0.178086  0.279149     0.330872   \n",
       "user_score              0.265874  0.268426  0.059945  0.241692     0.227101   \n",
       "total_sales            -0.077659  0.926824  0.902940  0.844990     0.933912   \n",
       "\n",
       "                 critic_score  user_score  total_sales  \n",
       "year_of_release      0.201100    0.265874    -0.077659  \n",
       "na_sales             0.363441    0.268426     0.926824  \n",
       "eu_sales             0.178086    0.059945     0.902940  \n",
       "jp_sales             0.279149    0.241692     0.844990  \n",
       "other_sales          0.330872    0.227101     0.933912  \n",
       "critic_score         1.000000    0.830326     0.314117  \n",
       "user_score           0.830326    1.000000     0.234223  \n",
       "total_sales          0.314117    0.234223     1.000000  "
      ]
     },
     "execution_count": 50,
     "metadata": {},
     "output_type": "execute_result"
    }
   ],
   "source": [
    "data_2014_2016[data_2014_2016['platform'] == '3DS'].corr()"
   ]
  },
  {
   "cell_type": "markdown",
   "metadata": {},
   "source": [
    "На примере платформы PS4, XOne, WiiU 3DS построили диаграммы рассеяния, чтобы проследить зависимость между оценками критиков и общими продажами. Прямой зависимости нет. Критики ставили хорошие оценки (будем считать хорошей от 60), но все равно продажи, были как низкими, так и высокими. Тем не менее, можно сказать, что в основном игры, которые продавались очень хорошо, удостаивались высоких оценок."
   ]
  },
  {
   "cell_type": "markdown",
   "metadata": {},
   "source": [
    "Также построили диаграммы рассеяния, чтобы проследить зависимость между оценками пользоветелей и общими продажами. Прямой зависимости нет. Пользователи могли ставить оценки 4-5, при этом игра хорошо продавалась, и наоборот."
   ]
  },
  {
   "cell_type": "markdown",
   "metadata": {},
   "source": [
    "Построили матрицы корреляции, чтобы посмотреть на коэффициент корреляции по регионам. Везде коэффициент коррекляции, как диаграммы рассеяния подтверждает, что прямой зависимости между оценками пользователей/критиков и объемами продаж нет."
   ]
  },
  {
   "cell_type": "markdown",
   "metadata": {},
   "source": [
    "#### Распределение игр по жанрам"
   ]
  },
  {
   "cell_type": "code",
   "execution_count": 51,
   "metadata": {},
   "outputs": [
    {
     "data": {
      "text/html": [
       "<div>\n",
       "<style scoped>\n",
       "    .dataframe tbody tr th:only-of-type {\n",
       "        vertical-align: middle;\n",
       "    }\n",
       "\n",
       "    .dataframe tbody tr th {\n",
       "        vertical-align: top;\n",
       "    }\n",
       "\n",
       "    .dataframe thead th {\n",
       "        text-align: right;\n",
       "    }\n",
       "</style>\n",
       "<table border=\"1\" class=\"dataframe\">\n",
       "  <thead>\n",
       "    <tr style=\"text-align: right;\">\n",
       "      <th></th>\n",
       "      <th>total_sales</th>\n",
       "    </tr>\n",
       "    <tr>\n",
       "      <th>genre</th>\n",
       "      <th></th>\n",
       "    </tr>\n",
       "  </thead>\n",
       "  <tbody>\n",
       "    <tr>\n",
       "      <th>Platform</th>\n",
       "      <td>0.932173</td>\n",
       "    </tr>\n",
       "    <tr>\n",
       "      <th>Shooter</th>\n",
       "      <td>0.795503</td>\n",
       "    </tr>\n",
       "    <tr>\n",
       "      <th>Role-Playing</th>\n",
       "      <td>0.623872</td>\n",
       "    </tr>\n",
       "    <tr>\n",
       "      <th>Racing</th>\n",
       "      <td>0.583403</td>\n",
       "    </tr>\n",
       "    <tr>\n",
       "      <th>Sports</th>\n",
       "      <td>0.566980</td>\n",
       "    </tr>\n",
       "    <tr>\n",
       "      <th>Fighting</th>\n",
       "      <td>0.527126</td>\n",
       "    </tr>\n",
       "    <tr>\n",
       "      <th>Action</th>\n",
       "      <td>0.517711</td>\n",
       "    </tr>\n",
       "    <tr>\n",
       "      <th>Misc</th>\n",
       "      <td>0.458577</td>\n",
       "    </tr>\n",
       "    <tr>\n",
       "      <th>Simulation</th>\n",
       "      <td>0.446701</td>\n",
       "    </tr>\n",
       "    <tr>\n",
       "      <th>Puzzle</th>\n",
       "      <td>0.418224</td>\n",
       "    </tr>\n",
       "    <tr>\n",
       "      <th>Strategy</th>\n",
       "      <td>0.255095</td>\n",
       "    </tr>\n",
       "    <tr>\n",
       "      <th>Adventure</th>\n",
       "      <td>0.182341</td>\n",
       "    </tr>\n",
       "  </tbody>\n",
       "</table>\n",
       "</div>"
      ],
      "text/plain": [
       "              total_sales\n",
       "genre                    \n",
       "Platform         0.932173\n",
       "Shooter          0.795503\n",
       "Role-Playing     0.623872\n",
       "Racing           0.583403\n",
       "Sports           0.566980\n",
       "Fighting         0.527126\n",
       "Action           0.517711\n",
       "Misc             0.458577\n",
       "Simulation       0.446701\n",
       "Puzzle           0.418224\n",
       "Strategy         0.255095\n",
       "Adventure        0.182341"
      ]
     },
     "execution_count": 51,
     "metadata": {},
     "output_type": "execute_result"
    }
   ],
   "source": [
    "data.pivot_table(index = 'genre', values = 'total_sales', aggfunc ='mean').\\\n",
    "sort_values(by='total_sales', ascending = False)"
   ]
  },
  {
   "cell_type": "markdown",
   "metadata": {},
   "source": [
    "Построили сводную таблицу, чтобы посмотреть рейтинг продаваемости игр по жанрам. Более популярны жанры с активными дейсвиями (Платформы, гонки, ролевые и т. д.), менее популярны - жанры на \"подумать\" (пазлы, квесты, стратегии). Платформы популярнее квестов в 5 раз"
   ]
  },
  {
   "cell_type": "markdown",
   "metadata": {},
   "source": [
    "#### Вывод"
   ]
  },
  {
   "cell_type": "markdown",
   "metadata": {},
   "source": [
    "Жизненный цикл платформы составляет примерно 10 лет. Для анализа мы взяли данные за 2006-2016 г. \n",
    "\n",
    "Самыми популярными платформами являются X360, PS3, Wii, DS, также мы включили в анализ PS4, как следующую версию после PS3. \n",
    "\n",
    "Самая популярная игра за выбранный перилд - Марио, принесла Wii около 80 млн проданных копий. При этом Wii находится на третьем месте по объему всех продаж. \n",
    "\n",
    "У успешных платформ 75% продаж не превышают 0,8-0,9 миллиона.\n",
    "\n",
    "На примере платформы X360 сделали вывод, что прямого влияния оценок пользователей и критиков на продажи нет. При этом игры с продажами более 5 млн копий имеют оценки критиков не ниже 70-80.\n",
    "\n",
    "Самыми популярными являются жанры с активными действиями - платформы, гонки. Менее популярные - игры, затрагивающие мыслительный процесс."
   ]
  },
  {
   "cell_type": "markdown",
   "metadata": {},
   "source": [
    "### Портреты пользователя по регионам\n"
   ]
  },
  {
   "cell_type": "code",
   "execution_count": 52,
   "metadata": {},
   "outputs": [
    {
     "name": "stdout",
     "output_type": "stream",
     "text": [
      "<class 'pandas.core.frame.DataFrame'>\n",
      "Int64Index: 1689 entries, 31 to 16714\n",
      "Data columns (total 12 columns):\n",
      " #   Column           Non-Null Count  Dtype  \n",
      "---  ------           --------------  -----  \n",
      " 0   name             1689 non-null   object \n",
      " 1   platform         1689 non-null   object \n",
      " 2   year_of_release  1689 non-null   Int64  \n",
      " 3   genre            1689 non-null   object \n",
      " 4   na_sales         1689 non-null   float64\n",
      " 5   eu_sales         1689 non-null   float64\n",
      " 6   jp_sales         1689 non-null   float64\n",
      " 7   other_sales      1689 non-null   float64\n",
      " 8   critic_score     718 non-null    Int64  \n",
      " 9   user_score       925 non-null    float64\n",
      " 10  rating           1689 non-null   object \n",
      " 11  total_sales      1689 non-null   float64\n",
      "dtypes: Int64(2), float64(6), object(4)\n",
      "memory usage: 239.4+ KB\n"
     ]
    }
   ],
   "source": [
    "data_2014_2016.info()"
   ]
  },
  {
   "cell_type": "markdown",
   "metadata": {},
   "source": [
    "#### NA_sales\n",
    "\n"
   ]
  },
  {
   "cell_type": "code",
   "execution_count": 53,
   "metadata": {
    "scrolled": true
   },
   "outputs": [
    {
     "data": {
      "text/html": [
       "<div>\n",
       "<style scoped>\n",
       "    .dataframe tbody tr th:only-of-type {\n",
       "        vertical-align: middle;\n",
       "    }\n",
       "\n",
       "    .dataframe tbody tr th {\n",
       "        vertical-align: top;\n",
       "    }\n",
       "\n",
       "    .dataframe thead th {\n",
       "        text-align: right;\n",
       "    }\n",
       "</style>\n",
       "<table border=\"1\" class=\"dataframe\">\n",
       "  <thead>\n",
       "    <tr style=\"text-align: right;\">\n",
       "      <th></th>\n",
       "      <th>na_sales</th>\n",
       "    </tr>\n",
       "    <tr>\n",
       "      <th>platform</th>\n",
       "      <th></th>\n",
       "    </tr>\n",
       "  </thead>\n",
       "  <tbody>\n",
       "    <tr>\n",
       "      <th>PS4</th>\n",
       "      <td>98.61</td>\n",
       "    </tr>\n",
       "    <tr>\n",
       "      <th>XOne</th>\n",
       "      <td>81.27</td>\n",
       "    </tr>\n",
       "    <tr>\n",
       "      <th>X360</th>\n",
       "      <td>28.30</td>\n",
       "    </tr>\n",
       "    <tr>\n",
       "      <th>3DS</th>\n",
       "      <td>22.64</td>\n",
       "    </tr>\n",
       "    <tr>\n",
       "      <th>PS3</th>\n",
       "      <td>22.05</td>\n",
       "    </tr>\n",
       "  </tbody>\n",
       "</table>\n",
       "</div>"
      ],
      "text/plain": [
       "          na_sales\n",
       "platform          \n",
       "PS4          98.61\n",
       "XOne         81.27\n",
       "X360         28.30\n",
       "3DS          22.64\n",
       "PS3          22.05"
      ]
     },
     "metadata": {},
     "output_type": "display_data"
    },
    {
     "data": {
      "text/html": [
       "<div>\n",
       "<style scoped>\n",
       "    .dataframe tbody tr th:only-of-type {\n",
       "        vertical-align: middle;\n",
       "    }\n",
       "\n",
       "    .dataframe tbody tr th {\n",
       "        vertical-align: top;\n",
       "    }\n",
       "\n",
       "    .dataframe thead th {\n",
       "        text-align: right;\n",
       "    }\n",
       "</style>\n",
       "<table border=\"1\" class=\"dataframe\">\n",
       "  <thead>\n",
       "    <tr style=\"text-align: right;\">\n",
       "      <th></th>\n",
       "      <th>na_sales</th>\n",
       "    </tr>\n",
       "    <tr>\n",
       "      <th>genre</th>\n",
       "      <th></th>\n",
       "    </tr>\n",
       "  </thead>\n",
       "  <tbody>\n",
       "    <tr>\n",
       "      <th>Shooter</th>\n",
       "      <td>79.02</td>\n",
       "    </tr>\n",
       "    <tr>\n",
       "      <th>Action</th>\n",
       "      <td>72.53</td>\n",
       "    </tr>\n",
       "    <tr>\n",
       "      <th>Sports</th>\n",
       "      <td>46.13</td>\n",
       "    </tr>\n",
       "    <tr>\n",
       "      <th>Role-Playing</th>\n",
       "      <td>33.47</td>\n",
       "    </tr>\n",
       "    <tr>\n",
       "      <th>Misc</th>\n",
       "      <td>15.05</td>\n",
       "    </tr>\n",
       "  </tbody>\n",
       "</table>\n",
       "</div>"
      ],
      "text/plain": [
       "              na_sales\n",
       "genre                 \n",
       "Shooter          79.02\n",
       "Action           72.53\n",
       "Sports           46.13\n",
       "Role-Playing     33.47\n",
       "Misc             15.05"
      ]
     },
     "metadata": {},
     "output_type": "display_data"
    },
    {
     "data": {
      "text/html": [
       "<div>\n",
       "<style scoped>\n",
       "    .dataframe tbody tr th:only-of-type {\n",
       "        vertical-align: middle;\n",
       "    }\n",
       "\n",
       "    .dataframe tbody tr th {\n",
       "        vertical-align: top;\n",
       "    }\n",
       "\n",
       "    .dataframe thead th {\n",
       "        text-align: right;\n",
       "    }\n",
       "</style>\n",
       "<table border=\"1\" class=\"dataframe\">\n",
       "  <thead>\n",
       "    <tr style=\"text-align: right;\">\n",
       "      <th></th>\n",
       "      <th>na_sales</th>\n",
       "    </tr>\n",
       "    <tr>\n",
       "      <th>rating</th>\n",
       "      <th></th>\n",
       "    </tr>\n",
       "  </thead>\n",
       "  <tbody>\n",
       "    <tr>\n",
       "      <th>M</th>\n",
       "      <td>96.42</td>\n",
       "    </tr>\n",
       "    <tr>\n",
       "      <th>RP</th>\n",
       "      <td>64.72</td>\n",
       "    </tr>\n",
       "    <tr>\n",
       "      <th>E</th>\n",
       "      <td>50.74</td>\n",
       "    </tr>\n",
       "    <tr>\n",
       "      <th>T</th>\n",
       "      <td>38.95</td>\n",
       "    </tr>\n",
       "    <tr>\n",
       "      <th>E10+</th>\n",
       "      <td>33.23</td>\n",
       "    </tr>\n",
       "  </tbody>\n",
       "</table>\n",
       "</div>"
      ],
      "text/plain": [
       "        na_sales\n",
       "rating          \n",
       "M          96.42\n",
       "RP         64.72\n",
       "E          50.74\n",
       "T          38.95\n",
       "E10+       33.23"
      ]
     },
     "execution_count": 53,
     "metadata": {},
     "output_type": "execute_result"
    }
   ],
   "source": [
    "display(data_2014_2016.pivot_table(index = 'platform', values = 'na_sales', aggfunc = 'sum')\\\n",
    ".sort_values(by='na_sales', ascending = False).head())\n",
    "display(data_2014_2016.pivot_table(index = 'genre', values = 'na_sales', aggfunc = 'sum')\\\n",
    ".sort_values(by='na_sales', ascending = False).head())\n",
    "data_2014_2016.pivot_table(index = 'rating', values = 'na_sales', aggfunc = 'sum')\\\n",
    ".sort_values(by='na_sales', ascending = False).head()"
   ]
  },
  {
   "cell_type": "code",
   "execution_count": 54,
   "metadata": {},
   "outputs": [
    {
     "data": {
      "text/plain": [
       "<AxesSubplot:title={'center':'Продажи в Северной Америке по рейтингу'}, xlabel='rating'>"
      ]
     },
     "execution_count": 54,
     "metadata": {},
     "output_type": "execute_result"
    },
    {
     "data": {
      "image/png": "[encoded data removed]",
      "text/plain": [
       "<Figure size 576x288 with 1 Axes>"
      ]
     },
     "metadata": {
      "needs_background": "light"
     },
     "output_type": "display_data"
    },
    {
     "data": {
      "image/png": "[encoded data removed]",
      "text/plain": [
       "<Figure size 576x288 with 1 Axes>"
      ]
     },
     "metadata": {
      "needs_background": "light"
     },
     "output_type": "display_data"
    },
    {
     "data": {
      "image/png": "[encoded data removed]",
      "text/plain": [
       "<Figure size 576x288 with 1 Axes>"
      ]
     },
     "metadata": {
      "needs_background": "light"
     },
     "output_type": "display_data"
    }
   ],
   "source": [
    "data_2014_2016.pivot_table(index = 'platform', values = 'na_sales', aggfunc = 'sum')\\\n",
    ".sort_values(by='na_sales', ascending = False)\\\n",
    ".plot(figsize=(8,4), grid=True, title='Продажи в Северной Америке по платформам')\n",
    "\n",
    "data_2014_2016.pivot_table(index = 'genre', values = 'na_sales', aggfunc = 'sum')\\\n",
    ".sort_values(by='na_sales', ascending = False)\\\n",
    ".plot(figsize=(8,4), grid=True, title='Продажи в Северной Америке по жанрам')\n",
    "\n",
    "data_2014_2016.pivot_table(index = 'rating', values = 'na_sales', aggfunc = 'sum')\\\n",
    ".sort_values(by='na_sales', ascending = False)\\\n",
    ".plot(figsize=(8,4), grid=True, title='Продажи в Северной Америке по рейтингу')"
   ]
  },
  {
   "cell_type": "markdown",
   "metadata": {},
   "source": [
    "В Северной Америке наиболее популярны платформы PS4, X360, PS3\n",
    "\n",
    "По жанрам на первыех местах активные игры: стрелялки, спортиные и misc.\n",
    "\n",
    "Больше всего в среднем продаеются игры категории от 17 лет, игры без рейтинга и для всех возрастов"
   ]
  },
  {
   "cell_type": "markdown",
   "metadata": {},
   "source": [
    "#### EU_sales"
   ]
  },
  {
   "cell_type": "code",
   "execution_count": 55,
   "metadata": {},
   "outputs": [
    {
     "data": {
      "text/html": [
       "<div>\n",
       "<style scoped>\n",
       "    .dataframe tbody tr th:only-of-type {\n",
       "        vertical-align: middle;\n",
       "    }\n",
       "\n",
       "    .dataframe tbody tr th {\n",
       "        vertical-align: top;\n",
       "    }\n",
       "\n",
       "    .dataframe thead th {\n",
       "        text-align: right;\n",
       "    }\n",
       "</style>\n",
       "<table border=\"1\" class=\"dataframe\">\n",
       "  <thead>\n",
       "    <tr style=\"text-align: right;\">\n",
       "      <th></th>\n",
       "      <th>eu_sales</th>\n",
       "    </tr>\n",
       "    <tr>\n",
       "      <th>platform</th>\n",
       "      <th></th>\n",
       "    </tr>\n",
       "  </thead>\n",
       "  <tbody>\n",
       "    <tr>\n",
       "      <th>PS4</th>\n",
       "      <td>130.04</td>\n",
       "    </tr>\n",
       "    <tr>\n",
       "      <th>XOne</th>\n",
       "      <td>46.25</td>\n",
       "    </tr>\n",
       "    <tr>\n",
       "      <th>PS3</th>\n",
       "      <td>25.54</td>\n",
       "    </tr>\n",
       "    <tr>\n",
       "      <th>PC</th>\n",
       "      <td>17.97</td>\n",
       "    </tr>\n",
       "    <tr>\n",
       "      <th>3DS</th>\n",
       "      <td>16.12</td>\n",
       "    </tr>\n",
       "  </tbody>\n",
       "</table>\n",
       "</div>"
      ],
      "text/plain": [
       "          eu_sales\n",
       "platform          \n",
       "PS4         130.04\n",
       "XOne         46.25\n",
       "PS3          25.54\n",
       "PC           17.97\n",
       "3DS          16.12"
      ]
     },
     "metadata": {},
     "output_type": "display_data"
    },
    {
     "data": {
      "text/html": [
       "<div>\n",
       "<style scoped>\n",
       "    .dataframe tbody tr th:only-of-type {\n",
       "        vertical-align: middle;\n",
       "    }\n",
       "\n",
       "    .dataframe tbody tr th {\n",
       "        vertical-align: top;\n",
       "    }\n",
       "\n",
       "    .dataframe thead th {\n",
       "        text-align: right;\n",
       "    }\n",
       "</style>\n",
       "<table border=\"1\" class=\"dataframe\">\n",
       "  <thead>\n",
       "    <tr style=\"text-align: right;\">\n",
       "      <th></th>\n",
       "      <th>eu_sales</th>\n",
       "    </tr>\n",
       "    <tr>\n",
       "      <th>genre</th>\n",
       "      <th></th>\n",
       "    </tr>\n",
       "  </thead>\n",
       "  <tbody>\n",
       "    <tr>\n",
       "      <th>Action</th>\n",
       "      <td>74.68</td>\n",
       "    </tr>\n",
       "    <tr>\n",
       "      <th>Shooter</th>\n",
       "      <td>65.52</td>\n",
       "    </tr>\n",
       "    <tr>\n",
       "      <th>Sports</th>\n",
       "      <td>45.73</td>\n",
       "    </tr>\n",
       "    <tr>\n",
       "      <th>Role-Playing</th>\n",
       "      <td>28.17</td>\n",
       "    </tr>\n",
       "    <tr>\n",
       "      <th>Racing</th>\n",
       "      <td>14.13</td>\n",
       "    </tr>\n",
       "  </tbody>\n",
       "</table>\n",
       "</div>"
      ],
      "text/plain": [
       "              eu_sales\n",
       "genre                 \n",
       "Action           74.68\n",
       "Shooter          65.52\n",
       "Sports           45.73\n",
       "Role-Playing     28.17\n",
       "Racing           14.13"
      ]
     },
     "metadata": {},
     "output_type": "display_data"
    },
    {
     "data": {
      "text/html": [
       "<div>\n",
       "<style scoped>\n",
       "    .dataframe tbody tr th:only-of-type {\n",
       "        vertical-align: middle;\n",
       "    }\n",
       "\n",
       "    .dataframe tbody tr th {\n",
       "        vertical-align: top;\n",
       "    }\n",
       "\n",
       "    .dataframe thead th {\n",
       "        text-align: right;\n",
       "    }\n",
       "</style>\n",
       "<table border=\"1\" class=\"dataframe\">\n",
       "  <thead>\n",
       "    <tr style=\"text-align: right;\">\n",
       "      <th></th>\n",
       "      <th>eu_sales</th>\n",
       "    </tr>\n",
       "    <tr>\n",
       "      <th>rating</th>\n",
       "      <th></th>\n",
       "    </tr>\n",
       "  </thead>\n",
       "  <tbody>\n",
       "    <tr>\n",
       "      <th>M</th>\n",
       "      <td>93.44</td>\n",
       "    </tr>\n",
       "    <tr>\n",
       "      <th>RP</th>\n",
       "      <td>58.95</td>\n",
       "    </tr>\n",
       "    <tr>\n",
       "      <th>E</th>\n",
       "      <td>58.06</td>\n",
       "    </tr>\n",
       "    <tr>\n",
       "      <th>T</th>\n",
       "      <td>34.07</td>\n",
       "    </tr>\n",
       "    <tr>\n",
       "      <th>E10+</th>\n",
       "      <td>26.16</td>\n",
       "    </tr>\n",
       "  </tbody>\n",
       "</table>\n",
       "</div>"
      ],
      "text/plain": [
       "        eu_sales\n",
       "rating          \n",
       "M          93.44\n",
       "RP         58.95\n",
       "E          58.06\n",
       "T          34.07\n",
       "E10+       26.16"
      ]
     },
     "execution_count": 55,
     "metadata": {},
     "output_type": "execute_result"
    }
   ],
   "source": [
    "display(data_2014_2016.pivot_table(index = 'platform', values = 'eu_sales', aggfunc = 'sum')\\\n",
    ".sort_values(by='eu_sales', ascending= False).head())\n",
    "display(data_2014_2016.pivot_table(index = 'genre', values = 'eu_sales', aggfunc = 'sum')\\\n",
    "                      .sort_values(by='eu_sales', ascending = False).head())\n",
    "data_2014_2016.pivot_table(index = 'rating', values = 'eu_sales', aggfunc = 'sum')\\\n",
    ".sort_values(by='eu_sales', ascending= False).head()"
   ]
  },
  {
   "cell_type": "code",
   "execution_count": 56,
   "metadata": {},
   "outputs": [
    {
     "data": {
      "text/plain": [
       "<AxesSubplot:title={'center':'Продажи в Европе по рейтингу'}, xlabel='rating'>"
      ]
     },
     "execution_count": 56,
     "metadata": {},
     "output_type": "execute_result"
    },
    {
     "data": {
      "image/png": "[encoded data removed]",
      "text/plain": [
       "<Figure size 576x288 with 1 Axes>"
      ]
     },
     "metadata": {
      "needs_background": "light"
     },
     "output_type": "display_data"
    },
    {
     "data": {
      "image/png": "[encoded data removed]",
      "text/plain": [
       "<Figure size 576x288 with 1 Axes>"
      ]
     },
     "metadata": {
      "needs_background": "light"
     },
     "output_type": "display_data"
    },
    {
     "data": {
      "image/png": "[encoded data removed]",
      "text/plain": [
       "<Figure size 576x288 with 1 Axes>"
      ]
     },
     "metadata": {
      "needs_background": "light"
     },
     "output_type": "display_data"
    }
   ],
   "source": [
    "data_2014_2016.pivot_table(index = 'platform', values = 'eu_sales', aggfunc = 'sum')\\\n",
    ".sort_values(by='eu_sales', ascending= False)\\\n",
    ".plot(figsize=(8,4), grid=True, title='Продажи в Европа по платформам')\n",
    "\n",
    "data_2014_2016.pivot_table(index = 'genre', values = 'eu_sales', aggfunc = 'sum')\\\n",
    ".sort_values(by='eu_sales', ascending = False)\\\n",
    ".plot(figsize=(8,4), grid=True, title='Продажи в Европе по жанрам')\n",
    "\n",
    "data_2014_2016.pivot_table(index = 'rating', values = 'eu_sales', aggfunc = 'sum')\\\n",
    ".sort_values(by='eu_sales', ascending= False)\\\n",
    ".plot(figsize=(8,4), grid=True, title='Продажи в Европе по рейтингу')"
   ]
  },
  {
   "cell_type": "markdown",
   "metadata": {},
   "source": [
    "В Европе лидируют платформы PS4 и PS3. \n",
    "\n",
    "Популярны жанры экшн и спортивные\n",
    "\n",
    "Распределение продаж по возврасам, как в Америке: от 17 лет, без рейтинга, все возраста"
   ]
  },
  {
   "cell_type": "markdown",
   "metadata": {},
   "source": [
    "#### JP_sales"
   ]
  },
  {
   "cell_type": "code",
   "execution_count": 57,
   "metadata": {},
   "outputs": [
    {
     "data": {
      "text/html": [
       "<div>\n",
       "<style scoped>\n",
       "    .dataframe tbody tr th:only-of-type {\n",
       "        vertical-align: middle;\n",
       "    }\n",
       "\n",
       "    .dataframe tbody tr th {\n",
       "        vertical-align: top;\n",
       "    }\n",
       "\n",
       "    .dataframe thead th {\n",
       "        text-align: right;\n",
       "    }\n",
       "</style>\n",
       "<table border=\"1\" class=\"dataframe\">\n",
       "  <thead>\n",
       "    <tr style=\"text-align: right;\">\n",
       "      <th></th>\n",
       "      <th>jp_sales</th>\n",
       "    </tr>\n",
       "    <tr>\n",
       "      <th>platform</th>\n",
       "      <th></th>\n",
       "    </tr>\n",
       "  </thead>\n",
       "  <tbody>\n",
       "    <tr>\n",
       "      <th>3DS</th>\n",
       "      <td>44.24</td>\n",
       "    </tr>\n",
       "    <tr>\n",
       "      <th>PS4</th>\n",
       "      <td>15.02</td>\n",
       "    </tr>\n",
       "    <tr>\n",
       "      <th>PSV</th>\n",
       "      <td>14.54</td>\n",
       "    </tr>\n",
       "    <tr>\n",
       "      <th>PS3</th>\n",
       "      <td>11.22</td>\n",
       "    </tr>\n",
       "    <tr>\n",
       "      <th>WiiU</th>\n",
       "      <td>7.31</td>\n",
       "    </tr>\n",
       "  </tbody>\n",
       "</table>\n",
       "</div>"
      ],
      "text/plain": [
       "          jp_sales\n",
       "platform          \n",
       "3DS          44.24\n",
       "PS4          15.02\n",
       "PSV          14.54\n",
       "PS3          11.22\n",
       "WiiU          7.31"
      ]
     },
     "metadata": {},
     "output_type": "display_data"
    },
    {
     "data": {
      "text/html": [
       "<div>\n",
       "<style scoped>\n",
       "    .dataframe tbody tr th:only-of-type {\n",
       "        vertical-align: middle;\n",
       "    }\n",
       "\n",
       "    .dataframe tbody tr th {\n",
       "        vertical-align: top;\n",
       "    }\n",
       "\n",
       "    .dataframe thead th {\n",
       "        text-align: right;\n",
       "    }\n",
       "</style>\n",
       "<table border=\"1\" class=\"dataframe\">\n",
       "  <thead>\n",
       "    <tr style=\"text-align: right;\">\n",
       "      <th></th>\n",
       "      <th>jp_sales</th>\n",
       "    </tr>\n",
       "    <tr>\n",
       "      <th>genre</th>\n",
       "      <th></th>\n",
       "    </tr>\n",
       "  </thead>\n",
       "  <tbody>\n",
       "    <tr>\n",
       "      <th>Role-Playing</th>\n",
       "      <td>31.16</td>\n",
       "    </tr>\n",
       "    <tr>\n",
       "      <th>Action</th>\n",
       "      <td>29.58</td>\n",
       "    </tr>\n",
       "    <tr>\n",
       "      <th>Fighting</th>\n",
       "      <td>6.37</td>\n",
       "    </tr>\n",
       "    <tr>\n",
       "      <th>Misc</th>\n",
       "      <td>5.61</td>\n",
       "    </tr>\n",
       "    <tr>\n",
       "      <th>Shooter</th>\n",
       "      <td>4.87</td>\n",
       "    </tr>\n",
       "  </tbody>\n",
       "</table>\n",
       "</div>"
      ],
      "text/plain": [
       "              jp_sales\n",
       "genre                 \n",
       "Role-Playing     31.16\n",
       "Action           29.58\n",
       "Fighting          6.37\n",
       "Misc              5.61\n",
       "Shooter           4.87"
      ]
     },
     "metadata": {},
     "output_type": "display_data"
    },
    {
     "data": {
      "text/html": [
       "<div>\n",
       "<style scoped>\n",
       "    .dataframe tbody tr th:only-of-type {\n",
       "        vertical-align: middle;\n",
       "    }\n",
       "\n",
       "    .dataframe tbody tr th {\n",
       "        vertical-align: top;\n",
       "    }\n",
       "\n",
       "    .dataframe thead th {\n",
       "        text-align: right;\n",
       "    }\n",
       "</style>\n",
       "<table border=\"1\" class=\"dataframe\">\n",
       "  <thead>\n",
       "    <tr style=\"text-align: right;\">\n",
       "      <th></th>\n",
       "      <th>jp_sales</th>\n",
       "    </tr>\n",
       "    <tr>\n",
       "      <th>rating</th>\n",
       "      <th></th>\n",
       "    </tr>\n",
       "  </thead>\n",
       "  <tbody>\n",
       "    <tr>\n",
       "      <th>RP</th>\n",
       "      <td>56.90</td>\n",
       "    </tr>\n",
       "    <tr>\n",
       "      <th>T</th>\n",
       "      <td>14.78</td>\n",
       "    </tr>\n",
       "    <tr>\n",
       "      <th>E</th>\n",
       "      <td>8.94</td>\n",
       "    </tr>\n",
       "    <tr>\n",
       "      <th>M</th>\n",
       "      <td>8.01</td>\n",
       "    </tr>\n",
       "    <tr>\n",
       "      <th>E10+</th>\n",
       "      <td>4.46</td>\n",
       "    </tr>\n",
       "  </tbody>\n",
       "</table>\n",
       "</div>"
      ],
      "text/plain": [
       "        jp_sales\n",
       "rating          \n",
       "RP         56.90\n",
       "T          14.78\n",
       "E           8.94\n",
       "M           8.01\n",
       "E10+        4.46"
      ]
     },
     "execution_count": 57,
     "metadata": {},
     "output_type": "execute_result"
    }
   ],
   "source": [
    "display(data_2014_2016.pivot_table(index = 'platform', values = 'jp_sales', aggfunc = 'sum')\\\n",
    ".sort_values(by='jp_sales', ascending= False).head())\n",
    "display(data_2014_2016.pivot_table(index = 'genre', values = 'jp_sales', aggfunc = 'sum').\\\n",
    "sort_values(by='jp_sales', ascending = False).head())\n",
    "data_2014_2016.pivot_table(index = 'rating', values = 'jp_sales', aggfunc = 'sum')\\\n",
    ".sort_values(by='jp_sales', ascending = False).head()"
   ]
  },
  {
   "cell_type": "code",
   "execution_count": 58,
   "metadata": {},
   "outputs": [
    {
     "data": {
      "text/plain": [
       "<AxesSubplot:title={'center':'Продажи в Японии по рейтингу'}, xlabel='rating'>"
      ]
     },
     "execution_count": 58,
     "metadata": {},
     "output_type": "execute_result"
    },
    {
     "data": {
      "image/png": "[encoded data removed]",
      "text/plain": [
       "<Figure size 576x288 with 1 Axes>"
      ]
     },
     "metadata": {
      "needs_background": "light"
     },
     "output_type": "display_data"
    },
    {
     "data": {
      "image/png": "[encoded data removed]",
      "text/plain": [
       "<Figure size 576x288 with 1 Axes>"
      ]
     },
     "metadata": {
      "needs_background": "light"
     },
     "output_type": "display_data"
    },
    {
     "data": {
      "image/png": "[encoded data removed]",
      "text/plain": [
       "<Figure size 576x288 with 1 Axes>"
      ]
     },
     "metadata": {
      "needs_background": "light"
     },
     "output_type": "display_data"
    }
   ],
   "source": [
    "data_2014_2016.pivot_table(index = 'platform', values = 'jp_sales', aggfunc = 'sum')\\\n",
    ".sort_values(by='jp_sales', ascending= False)\\\n",
    ".plot(figsize=(8,4), grid=True, title='Продажи в Японии по платформам')\n",
    "\n",
    "data_2014_2016.pivot_table(index = 'genre', values = 'jp_sales', aggfunc = 'sum').\\\n",
    "sort_values(by='jp_sales', ascending = False)\\\n",
    ".plot(figsize=(8,4), grid=True, title='Продажи в Японии по жанрам')\n",
    "\n",
    "\n",
    "data_2014_2016.pivot_table(index = 'rating', values = 'jp_sales', aggfunc = 'sum')\\\n",
    ".sort_values(by='jp_sales', ascending = False)\\\n",
    ".plot(figsize=(8,4), grid=True, title='Продажи в Японии по рейтингу')\n"
   ]
  },
  {
   "cell_type": "markdown",
   "metadata": {},
   "source": [
    "В Японии своя специфика.\n",
    "\n",
    "Самая популярная платформа 3DS, далее идет PSV\n",
    "\n",
    "Продаваемые жанры: ролевые и драки\n",
    "\n",
    "Успешнее всего продаются игры для тинейджеров и игры, у которых не определен жанр.\n",
    "\n",
    "\n"
   ]
  },
  {
   "cell_type": "markdown",
   "metadata": {},
   "source": [
    "#### Вывод"
   ]
  },
  {
   "cell_type": "markdown",
   "metadata": {},
   "source": [
    "В каждом регионе есть своя специфика, что закономерно, но есть и общие черты. \n",
    "\n",
    "В Северной Америке и Европе популярны плафторма PS4 и спортивные игры. Больше всего продаются игры 17+ и без рейтинга. Мы не знаем, почему у игр не проставлен рейтинг. Возможно, его упустили при сборе данных.\n",
    "\n",
    "Япония отличается. У нее популярнее всего 3DS и PSV, а последняя версия PS4 не вошла в пятерку лидеров. Ролевые игры и драки, а также игры для тинейджеров и всех возрастов. На первом месте игры без рейтинга, но неизвестно, какие возрастные ограничения за ними скрываются. Популярность игр для тинейджеров и всех возрастов говорит о том, что в Японии дети играют больше, чем в Америке и Европе\n"
   ]
  },
  {
   "cell_type": "markdown",
   "metadata": {},
   "source": [
    "### Проверка гипотез"
   ]
  },
  {
   "cell_type": "markdown",
   "metadata": {},
   "source": [
    "\n",
    "#### Средние пользовательские рейтинги платформ"
   ]
  },
  {
   "cell_type": "markdown",
   "metadata": {},
   "source": [
    "Средние пользовательские рейтинги платформ Xbox One и PC одинаковые\n",
    "\n",
    "H_0: Средний пользовательский рейтинг (user_score) платформы Xbox One = Средний пользовательский рейтинг платформы PC\n",
    "\n",
    "H_a: Средний пользовательский рейтинг (user_score) платформы Xbox One ≠ Средний пользовательский рейтинг платформы PC\n",
    "\n",
    "alpha = 0.01"
   ]
  },
  {
   "cell_type": "code",
   "execution_count": 59,
   "metadata": {},
   "outputs": [],
   "source": [
    "x_one_data = data_2014_2016[data_2014_2016['platform'] == 'XOne']\n",
    "pc_data = data_2014_2016[data_2014_2016['platform'] == 'PC']\n",
    "x_one_data =x_one_data.dropna(subset =['user_score'])\n",
    "pc_data = pc_data.dropna(subset =['user_score'])\n",
    "x_one_data_user_score = x_one_data['user_score']\n",
    "pc_data_user_score = pc_data['user_score']\n"
   ]
  },
  {
   "cell_type": "code",
   "execution_count": 60,
   "metadata": {},
   "outputs": [
    {
     "name": "stdout",
     "output_type": "stream",
     "text": [
      "0.13130164268727834\n",
      "Не получилось отвергнуть нулевую гипотезу\n"
     ]
    }
   ],
   "source": [
    "results = st.ttest_ind(x_one_data_user_score, pc_data_user_score, equal_var = False)                     \n",
    "\n",
    "alpha = .01\n",
    "                         \n",
    "print(results.pvalue)\n",
    "\n",
    "if results.pvalue < alpha:\n",
    "    \n",
    "    print(\"Отвергаем нулевую гипотезу\")\n",
    "else:\n",
    "    print(\"Не получилось отвергнуть нулевую гипотезу\") "
   ]
  },
  {
   "cell_type": "markdown",
   "metadata": {},
   "source": [
    "Для проверки гипотезы о равенстве средних пользовательских оценок для платформ XOne и PC, использовали t-тест. Отобрали данные по оценкам пользователей каждой из платформ, удалив пропущенные значения (из-за пропусков выходила ошибка). \n",
    "Параметру equal_var передали значение False, т к нет оснований утверждать, что дисперсии выборок равны и т к выборки разного размера. \n",
    "Критический уровень статистической значимости (alpha) указали 1%. Пока это сделано интуитивно. А также из-за разницы в количестве значений:  x_one_data_user_score (у нас 185 оценок пользователей платформы Xbox One) и pc_data_user_score (781 оценка платформы PC)\n",
    "\n",
    "\n",
    "В результате не удалось отвергнуть нулевую гипотезу, значит средний пользовательский рейтинг платформ Xbox One и PC одинаковые\n"
   ]
  },
  {
   "cell_type": "markdown",
   "metadata": {},
   "source": [
    "#### Средние пользовательские рейтинги жанров"
   ]
  },
  {
   "cell_type": "markdown",
   "metadata": {},
   "source": [
    "Средние пользовательские рейтинги жанров Action (англ. «действие», экшен-игры) и Sports (англ. «спортивные соревнования») разные.\n",
    "\n",
    "H_0: Средний пользовательский рейтинг (user_score) жанра Action = Средний пользовательский рейтинг жанра Sports\n",
    "\n",
    "H_a: Средний пользовательский рейтинг (user_score) жанра Action ≠ Средний пользовательский рейтинг жанра Sports\n",
    "\n",
    "alpha = 0.01\n",
    "\n",
    "\n"
   ]
  },
  {
   "cell_type": "code",
   "execution_count": 61,
   "metadata": {},
   "outputs": [],
   "source": [
    "action_data = data_2014_2016[data_2014_2016['genre'] == 'Action']\n",
    "sports_data = data_2014_2016[data_2014_2016['genre'] == 'Sports']\n",
    "action_data =action_data.dropna(subset =['user_score'])\n",
    "sports_data = sports_data.dropna(subset =['user_score'])\n",
    "action_data_user_score = action_data['user_score']\n",
    "sports_data_user_score = sports_data['user_score']"
   ]
  },
  {
   "cell_type": "code",
   "execution_count": 62,
   "metadata": {},
   "outputs": [
    {
     "name": "stdout",
     "output_type": "stream",
     "text": [
      "1.3080710852425688e-13\n",
      "Отвергаем нулевую гипотезу\n"
     ]
    }
   ],
   "source": [
    "results = st.ttest_ind(action_data_user_score, sports_data_user_score, equal_var = False)                     \n",
    "\n",
    "alpha = .01\n",
    "                         \n",
    "print(results.pvalue)\n",
    "\n",
    "if results.pvalue < alpha:\n",
    "    \n",
    "    print(\"Отвергаем нулевую гипотезу\")\n",
    "else:\n",
    "    print(\"Не получилось отвергнуть нулевую гипотезу\") "
   ]
  },
  {
   "cell_type": "markdown",
   "metadata": {},
   "source": [
    "Для проверки гипотезы о равенстве средних пользовательских оценок для жанров Action и Sports, использовали t-тест. Отобрали данные по оценкам пользователей каждого из жанров, удалив пропущенные значения.\n",
    "Параметру equal_var передали значение False, т к нет оснований утверждать, что дисперсии выборок равны, и т к выборки разного размера. \n",
    "Критический уровень статистической значимости (alpha) указали 1% из-за разницы  в количестве значений:  action_data_user_score (у нас 2019 оценок пользователей жанра Action) и sports_data_user_score (1314 оценок жанра Sports)\n",
    "\n",
    "\n",
    "В результате удалось отвергнуть нулевую гипотезу, значит средний пользовательский рейтинг жанров Action и  Sports разные"
   ]
  },
  {
   "cell_type": "markdown",
   "metadata": {},
   "source": [
    "### Общий вывод"
   ]
  },
  {
   "cell_type": "markdown",
   "metadata": {},
   "source": [
    "Целью исследования было выявить закономерности, влияющие на высокие продажи и длительность жизни игр. Из проведенной работы можно сделать выводы:\n",
    "\n",
    "- В Японии популярность платформ и жанров отличается от другие регионов. Вероятно, перспективнее начать с Европы и Северной Америки, в которых больше общих тенденций. \n",
    "- В мировых масштабах перспективны платформы: PS4, Xone, Wiiu, 3DS (3DS лидирует в Японии)\n",
    "- Лучше продаются жанры с активными действиями: стрелялки, спортивные, гонки\n",
    "- Рекомендуется разрабатывать игры, к которым будет применимо возрастное ограничение 17+.  В данных было много пропусков в рейтинге, которые заполнили значение RP (без рейтинга). RP занимает высокие места по продажам, но мы не знаем, какие возрастные ограничения реально были присвоены этим играм.\n",
    "- В поиске референсов для будущих игр не рекомендуется ориентироваться на оценки критиков и пользователей, так как нет прямой зависимости продаж от оценок. \n",
    "- При этом мы не отвергли гипотезу о том, что средние пользовательские рейтинги платформ Xbox One и PC одинаковые. Вероятно, это говорит о том, что у каждой платформы своя аудитория и свои фанаты вне зависимости от того развивается плафторма или продажи падают. \n",
    "- Удалось отвергнуть гипотезу о том, что средние пользовательские рейтинги жанров спорт и экшн одинаковые. Не смотря на то, что оба жанра достаточно популярны. \n",
    "\n",
    "\n",
    "Надо понимать, что в популярных жанрах большая конкуренция. А также определить примерную стоимость производства игр в разных жанрах."
   ]
  }
 ],
 "metadata": {
  "ExecuteTimeLog": [
   {
    "duration": 52,
    "start_time": "2022-11-28T10:26:14.096Z"
   },
   {
    "duration": 421,
    "start_time": "2022-11-28T10:29:23.023Z"
   },
   {
    "duration": 53,
    "start_time": "2022-11-28T10:29:44.761Z"
   },
   {
    "duration": 95,
    "start_time": "2022-11-28T10:29:55.599Z"
   },
   {
    "duration": 22,
    "start_time": "2022-11-28T10:30:06.089Z"
   },
   {
    "duration": 16,
    "start_time": "2022-11-28T10:30:20.976Z"
   },
   {
    "duration": 16,
    "start_time": "2022-11-28T10:33:12.707Z"
   },
   {
    "duration": 19,
    "start_time": "2022-11-28T10:33:24.685Z"
   },
   {
    "duration": 1018,
    "start_time": "2022-11-28T10:37:35.813Z"
   },
   {
    "duration": 4,
    "start_time": "2022-11-28T10:38:29.599Z"
   },
   {
    "duration": 7,
    "start_time": "2022-11-28T10:38:57.464Z"
   },
   {
    "duration": 9,
    "start_time": "2022-11-28T10:39:26.704Z"
   },
   {
    "duration": 9,
    "start_time": "2022-11-28T10:39:45.122Z"
   },
   {
    "duration": 10,
    "start_time": "2022-11-28T10:40:16.414Z"
   },
   {
    "duration": 4,
    "start_time": "2022-11-28T10:40:24.875Z"
   },
   {
    "duration": 10,
    "start_time": "2022-11-28T10:40:25.147Z"
   },
   {
    "duration": 3,
    "start_time": "2022-11-28T10:40:39.970Z"
   },
   {
    "duration": 388,
    "start_time": "2022-11-28T10:40:42.262Z"
   },
   {
    "duration": 22,
    "start_time": "2022-11-28T10:40:44.713Z"
   },
   {
    "duration": 10,
    "start_time": "2022-11-28T10:41:08.050Z"
   },
   {
    "duration": 25,
    "start_time": "2022-11-28T10:42:03.607Z"
   },
   {
    "duration": 6,
    "start_time": "2022-11-28T10:42:20.037Z"
   },
   {
    "duration": 32,
    "start_time": "2022-11-28T10:46:05.785Z"
   },
   {
    "duration": 33,
    "start_time": "2022-11-28T10:46:05.886Z"
   },
   {
    "duration": 34,
    "start_time": "2022-11-28T10:46:05.957Z"
   },
   {
    "duration": 24,
    "start_time": "2022-11-28T10:46:06.054Z"
   },
   {
    "duration": 21,
    "start_time": "2022-11-28T10:46:06.086Z"
   },
   {
    "duration": 29,
    "start_time": "2022-11-28T10:46:06.159Z"
   },
   {
    "duration": 4,
    "start_time": "2022-11-28T10:46:54.694Z"
   },
   {
    "duration": 56,
    "start_time": "2022-11-28T10:46:55.025Z"
   },
   {
    "duration": 20,
    "start_time": "2022-11-28T10:46:55.646Z"
   },
   {
    "duration": 15,
    "start_time": "2022-11-28T10:46:56.323Z"
   },
   {
    "duration": 3,
    "start_time": "2022-11-28T10:46:58.099Z"
   },
   {
    "duration": 23,
    "start_time": "2022-11-28T10:46:58.762Z"
   },
   {
    "duration": 15,
    "start_time": "2022-11-28T10:48:00.920Z"
   },
   {
    "duration": 17,
    "start_time": "2022-11-28T10:50:36.880Z"
   },
   {
    "duration": 17,
    "start_time": "2022-11-28T10:50:43.449Z"
   },
   {
    "duration": 10,
    "start_time": "2022-11-28T10:53:31.395Z"
   },
   {
    "duration": 16,
    "start_time": "2022-11-28T10:53:40.435Z"
   },
   {
    "duration": 16,
    "start_time": "2022-11-28T10:55:47.500Z"
   },
   {
    "duration": 17,
    "start_time": "2022-11-28T10:56:30.009Z"
   },
   {
    "duration": 5,
    "start_time": "2022-11-28T10:57:47.489Z"
   },
   {
    "duration": 12,
    "start_time": "2022-11-28T10:57:52.868Z"
   },
   {
    "duration": 23,
    "start_time": "2022-11-28T10:58:21.243Z"
   },
   {
    "duration": 12,
    "start_time": "2022-11-28T11:00:39.433Z"
   },
   {
    "duration": 4,
    "start_time": "2022-11-28T11:01:23.342Z"
   },
   {
    "duration": 16,
    "start_time": "2022-11-28T11:01:32.184Z"
   },
   {
    "duration": 15,
    "start_time": "2022-11-28T11:02:47.565Z"
   },
   {
    "duration": 3,
    "start_time": "2022-11-28T11:03:06.132Z"
   },
   {
    "duration": 53,
    "start_time": "2022-11-28T11:03:06.371Z"
   },
   {
    "duration": 23,
    "start_time": "2022-11-28T11:03:06.616Z"
   },
   {
    "duration": 16,
    "start_time": "2022-11-28T11:03:06.831Z"
   },
   {
    "duration": 17,
    "start_time": "2022-11-28T11:03:07.281Z"
   },
   {
    "duration": 16,
    "start_time": "2022-11-28T11:03:07.762Z"
   },
   {
    "duration": 15,
    "start_time": "2022-11-28T11:03:47.534Z"
   },
   {
    "duration": 4,
    "start_time": "2022-11-28T11:06:03.363Z"
   },
   {
    "duration": 13,
    "start_time": "2022-11-28T11:06:07.766Z"
   },
   {
    "duration": 10,
    "start_time": "2022-11-28T11:08:07.839Z"
   },
   {
    "duration": 7,
    "start_time": "2022-11-28T11:08:37.257Z"
   },
   {
    "duration": 10,
    "start_time": "2022-11-28T11:09:01.203Z"
   },
   {
    "duration": 11,
    "start_time": "2022-11-28T11:09:35.350Z"
   },
   {
    "duration": 9,
    "start_time": "2022-11-28T11:09:51.839Z"
   },
   {
    "duration": 24,
    "start_time": "2022-11-28T11:09:56.494Z"
   },
   {
    "duration": 42,
    "start_time": "2022-11-28T11:10:48.956Z"
   },
   {
    "duration": 30,
    "start_time": "2022-11-28T11:10:59.862Z"
   },
   {
    "duration": 37,
    "start_time": "2022-11-28T11:11:05.659Z"
   },
   {
    "duration": 16,
    "start_time": "2022-11-28T11:11:10.071Z"
   },
   {
    "duration": 12,
    "start_time": "2022-11-28T11:11:14.078Z"
   },
   {
    "duration": 14,
    "start_time": "2022-11-28T11:11:46.932Z"
   },
   {
    "duration": 13,
    "start_time": "2022-11-28T11:13:17.677Z"
   },
   {
    "duration": 4,
    "start_time": "2022-11-28T11:13:20.490Z"
   },
   {
    "duration": 29,
    "start_time": "2022-11-28T11:13:26.241Z"
   },
   {
    "duration": 8,
    "start_time": "2022-11-28T11:13:51.053Z"
   },
   {
    "duration": 5,
    "start_time": "2022-11-28T11:14:05.171Z"
   },
   {
    "duration": 9,
    "start_time": "2022-11-28T11:14:24.204Z"
   },
   {
    "duration": 24,
    "start_time": "2022-11-28T11:14:30.548Z"
   },
   {
    "duration": 19,
    "start_time": "2022-11-28T11:15:14.863Z"
   },
   {
    "duration": 21,
    "start_time": "2022-11-28T11:15:23.966Z"
   },
   {
    "duration": 8,
    "start_time": "2022-11-28T11:16:33.548Z"
   },
   {
    "duration": 6,
    "start_time": "2022-11-28T11:18:45.447Z"
   },
   {
    "duration": 23,
    "start_time": "2022-11-28T11:22:35.673Z"
   },
   {
    "duration": 4,
    "start_time": "2022-11-28T11:22:54.353Z"
   },
   {
    "duration": 35,
    "start_time": "2022-11-28T11:22:56.856Z"
   },
   {
    "duration": 13,
    "start_time": "2022-11-28T11:23:43.999Z"
   },
   {
    "duration": 13,
    "start_time": "2022-11-28T11:23:58.187Z"
   },
   {
    "duration": 15,
    "start_time": "2022-11-28T11:24:05.041Z"
   },
   {
    "duration": 13,
    "start_time": "2022-11-28T11:24:11.396Z"
   },
   {
    "duration": 15,
    "start_time": "2022-11-28T11:24:21.012Z"
   },
   {
    "duration": 17,
    "start_time": "2022-11-28T11:24:33.631Z"
   },
   {
    "duration": 14,
    "start_time": "2022-11-28T11:24:42.839Z"
   },
   {
    "duration": 66,
    "start_time": "2022-11-28T11:25:03.636Z"
   },
   {
    "duration": 15,
    "start_time": "2022-11-28T11:25:07.491Z"
   },
   {
    "duration": 14,
    "start_time": "2022-11-28T11:25:13.220Z"
   },
   {
    "duration": 14,
    "start_time": "2022-11-28T11:25:17.143Z"
   },
   {
    "duration": 14,
    "start_time": "2022-11-28T11:25:22.068Z"
   },
   {
    "duration": 72,
    "start_time": "2022-11-28T11:26:16.645Z"
   },
   {
    "duration": 21,
    "start_time": "2022-11-28T11:26:34.579Z"
   },
   {
    "duration": 16,
    "start_time": "2022-11-28T11:26:55.254Z"
   },
   {
    "duration": 28,
    "start_time": "2022-11-28T11:26:58.319Z"
   },
   {
    "duration": 32,
    "start_time": "2022-11-28T11:27:23.117Z"
   },
   {
    "duration": 17,
    "start_time": "2022-11-28T11:29:56.495Z"
   },
   {
    "duration": 16,
    "start_time": "2022-11-28T11:30:15.527Z"
   },
   {
    "duration": 7,
    "start_time": "2022-11-28T11:34:31.596Z"
   },
   {
    "duration": 21,
    "start_time": "2022-11-28T11:34:50.060Z"
   },
   {
    "duration": 4,
    "start_time": "2022-11-28T11:34:54.261Z"
   },
   {
    "duration": 3,
    "start_time": "2022-11-28T11:35:00.478Z"
   },
   {
    "duration": 63,
    "start_time": "2022-11-28T11:35:00.643Z"
   },
   {
    "duration": 23,
    "start_time": "2022-11-28T11:35:00.815Z"
   },
   {
    "duration": 16,
    "start_time": "2022-11-28T11:35:00.963Z"
   },
   {
    "duration": 17,
    "start_time": "2022-11-28T11:35:01.252Z"
   },
   {
    "duration": 3,
    "start_time": "2022-11-28T11:35:01.567Z"
   },
   {
    "duration": 7,
    "start_time": "2022-11-28T11:35:01.871Z"
   },
   {
    "duration": 15,
    "start_time": "2022-11-28T11:35:02.015Z"
   },
   {
    "duration": 3,
    "start_time": "2022-11-28T11:39:11.767Z"
   },
   {
    "duration": 68,
    "start_time": "2022-11-28T11:39:11.926Z"
   },
   {
    "duration": 20,
    "start_time": "2022-11-28T11:39:12.070Z"
   },
   {
    "duration": 13,
    "start_time": "2022-11-28T11:39:12.221Z"
   },
   {
    "duration": 17,
    "start_time": "2022-11-28T11:39:12.500Z"
   },
   {
    "duration": 5,
    "start_time": "2022-11-28T11:39:12.858Z"
   },
   {
    "duration": 15,
    "start_time": "2022-11-28T11:39:13.370Z"
   },
   {
    "duration": 5,
    "start_time": "2022-11-28T11:39:48.236Z"
   },
   {
    "duration": 15,
    "start_time": "2022-11-28T11:39:51.679Z"
   },
   {
    "duration": 14,
    "start_time": "2022-11-28T11:42:48.009Z"
   },
   {
    "duration": 13,
    "start_time": "2022-11-28T11:45:35.278Z"
   },
   {
    "duration": 16,
    "start_time": "2022-11-28T11:45:38.480Z"
   },
   {
    "duration": 5,
    "start_time": "2022-11-28T11:46:54.736Z"
   },
   {
    "duration": 6,
    "start_time": "2022-11-28T11:47:17.113Z"
   },
   {
    "duration": 4,
    "start_time": "2022-11-28T11:58:29.079Z"
   },
   {
    "duration": 14,
    "start_time": "2022-11-28T11:58:33.585Z"
   },
   {
    "duration": 152,
    "start_time": "2022-11-28T12:03:30.965Z"
   },
   {
    "duration": 7,
    "start_time": "2022-11-28T12:16:27.782Z"
   },
   {
    "duration": 137,
    "start_time": "2022-11-28T12:16:36.066Z"
   },
   {
    "duration": 14,
    "start_time": "2022-11-28T12:18:12.614Z"
   },
   {
    "duration": 13,
    "start_time": "2022-11-28T12:18:39.271Z"
   },
   {
    "duration": 14,
    "start_time": "2022-11-28T12:18:50.305Z"
   },
   {
    "duration": 14,
    "start_time": "2022-11-28T12:19:34.908Z"
   },
   {
    "duration": 15,
    "start_time": "2022-11-28T12:19:53.421Z"
   },
   {
    "duration": 17,
    "start_time": "2022-11-28T12:20:14.119Z"
   },
   {
    "duration": 13,
    "start_time": "2022-11-28T12:21:25.637Z"
   },
   {
    "duration": 79,
    "start_time": "2022-11-28T12:21:38.095Z"
   },
   {
    "duration": 23,
    "start_time": "2022-11-28T12:21:56.371Z"
   },
   {
    "duration": 481,
    "start_time": "2022-11-28T12:25:12.446Z"
   },
   {
    "duration": 42,
    "start_time": "2022-11-28T12:30:08.669Z"
   },
   {
    "duration": 16,
    "start_time": "2022-11-28T12:30:11.821Z"
   },
   {
    "duration": 17,
    "start_time": "2022-11-28T12:30:37.202Z"
   },
   {
    "duration": 14,
    "start_time": "2022-11-28T12:30:47.226Z"
   },
   {
    "duration": 13,
    "start_time": "2022-11-28T12:31:53.631Z"
   },
   {
    "duration": 27,
    "start_time": "2022-11-28T12:32:11.145Z"
   },
   {
    "duration": 602,
    "start_time": "2022-11-28T12:32:18.749Z"
   },
   {
    "duration": 144,
    "start_time": "2022-11-28T12:32:31.677Z"
   },
   {
    "duration": 164,
    "start_time": "2022-11-28T12:33:14.935Z"
   },
   {
    "duration": 136,
    "start_time": "2022-11-28T12:33:27.191Z"
   },
   {
    "duration": 142,
    "start_time": "2022-11-28T12:33:51.123Z"
   },
   {
    "duration": 306,
    "start_time": "2022-11-28T12:34:04.549Z"
   },
   {
    "duration": 143,
    "start_time": "2022-11-28T12:34:12.541Z"
   },
   {
    "duration": 152,
    "start_time": "2022-11-28T12:34:15.189Z"
   },
   {
    "duration": 134,
    "start_time": "2022-11-28T12:34:31.590Z"
   },
   {
    "duration": 17,
    "start_time": "2022-11-28T12:37:02.355Z"
   },
   {
    "duration": 141,
    "start_time": "2022-11-28T12:37:13.017Z"
   },
   {
    "duration": 160,
    "start_time": "2022-11-28T12:37:24.181Z"
   },
   {
    "duration": 140,
    "start_time": "2022-11-28T12:37:32.918Z"
   },
   {
    "duration": 153,
    "start_time": "2022-11-28T12:37:41.789Z"
   },
   {
    "duration": 145,
    "start_time": "2022-11-28T12:37:49.951Z"
   },
   {
    "duration": 141,
    "start_time": "2022-11-28T12:39:27.756Z"
   },
   {
    "duration": 398,
    "start_time": "2022-11-28T12:39:57.542Z"
   },
   {
    "duration": 146,
    "start_time": "2022-11-28T12:42:16.259Z"
   },
   {
    "duration": 6,
    "start_time": "2022-11-28T12:43:45.930Z"
   },
   {
    "duration": 6,
    "start_time": "2022-11-28T12:44:18.702Z"
   },
   {
    "duration": 16,
    "start_time": "2022-11-28T12:45:23.605Z"
   },
   {
    "duration": 15,
    "start_time": "2022-11-28T12:45:29.534Z"
   },
   {
    "duration": 15,
    "start_time": "2022-11-28T12:45:52.136Z"
   },
   {
    "duration": 14,
    "start_time": "2022-11-28T12:46:03.383Z"
   },
   {
    "duration": 16,
    "start_time": "2022-11-28T12:46:08.943Z"
   },
   {
    "duration": 814,
    "start_time": "2022-11-28T13:28:30.498Z"
   },
   {
    "duration": 33,
    "start_time": "2022-11-28T13:29:16.714Z"
   },
   {
    "duration": 48,
    "start_time": "2022-11-28T13:29:32.011Z"
   },
   {
    "duration": 50,
    "start_time": "2022-11-28T13:29:38.282Z"
   },
   {
    "duration": 10,
    "start_time": "2022-11-28T13:29:47.219Z"
   },
   {
    "duration": 158,
    "start_time": "2022-11-28T13:30:42.404Z"
   },
   {
    "duration": 3,
    "start_time": "2022-11-28T13:32:26.679Z"
   },
   {
    "duration": 1029,
    "start_time": "2022-11-28T13:38:19.202Z"
   },
   {
    "duration": 482,
    "start_time": "2022-11-28T13:38:26.408Z"
   },
   {
    "duration": 838,
    "start_time": "2022-11-28T13:39:20.819Z"
   },
   {
    "duration": 151,
    "start_time": "2022-11-28T13:39:27.144Z"
   },
   {
    "duration": 392,
    "start_time": "2022-11-28T13:39:46.565Z"
   },
   {
    "duration": 16,
    "start_time": "2022-11-28T13:40:30.293Z"
   },
   {
    "duration": 10355,
    "start_time": "2022-11-28T13:40:30.311Z"
   },
   {
    "duration": 3,
    "start_time": "2022-11-28T13:40:40.669Z"
   },
   {
    "duration": 60,
    "start_time": "2022-11-28T13:40:40.674Z"
   },
   {
    "duration": 21,
    "start_time": "2022-11-28T13:40:40.737Z"
   },
   {
    "duration": 19,
    "start_time": "2022-11-28T13:40:40.761Z"
   },
   {
    "duration": 3,
    "start_time": "2022-11-28T13:42:09.054Z"
   },
   {
    "duration": 57,
    "start_time": "2022-11-28T13:42:09.546Z"
   },
   {
    "duration": 23,
    "start_time": "2022-11-28T13:42:10.186Z"
   },
   {
    "duration": 23,
    "start_time": "2022-11-28T13:42:10.689Z"
   },
   {
    "duration": 26,
    "start_time": "2022-11-28T13:42:11.024Z"
   },
   {
    "duration": 5,
    "start_time": "2022-11-28T13:42:11.342Z"
   },
   {
    "duration": 6,
    "start_time": "2022-11-28T13:42:11.657Z"
   },
   {
    "duration": 13,
    "start_time": "2022-11-28T13:42:11.968Z"
   },
   {
    "duration": 8,
    "start_time": "2022-11-28T13:42:12.268Z"
   },
   {
    "duration": 7,
    "start_time": "2022-11-28T13:42:12.693Z"
   },
   {
    "duration": 23,
    "start_time": "2022-11-28T13:42:12.886Z"
   },
   {
    "duration": 23,
    "start_time": "2022-11-28T13:42:13.094Z"
   },
   {
    "duration": 148,
    "start_time": "2022-11-28T13:42:13.468Z"
   },
   {
    "duration": 28,
    "start_time": "2022-11-28T13:42:13.647Z"
   },
   {
    "duration": 163,
    "start_time": "2022-11-28T13:42:13.987Z"
   },
   {
    "duration": 154,
    "start_time": "2022-11-28T13:42:14.165Z"
   },
   {
    "duration": 157,
    "start_time": "2022-11-28T13:42:14.342Z"
   },
   {
    "duration": 171,
    "start_time": "2022-11-28T13:42:14.534Z"
   },
   {
    "duration": 510,
    "start_time": "2022-11-28T13:42:14.712Z"
   },
   {
    "duration": 7,
    "start_time": "2022-11-28T13:42:15.225Z"
   },
   {
    "duration": 19,
    "start_time": "2022-11-28T13:42:15.329Z"
   },
   {
    "duration": 10845,
    "start_time": "2022-11-28T13:42:15.527Z"
   },
   {
    "duration": 440,
    "start_time": "2022-11-28T13:44:46.743Z"
   },
   {
    "duration": 397,
    "start_time": "2022-11-28T13:45:55.807Z"
   },
   {
    "duration": 384,
    "start_time": "2022-11-28T13:46:25.140Z"
   },
   {
    "duration": 101,
    "start_time": "2022-11-28T13:48:06.276Z"
   },
   {
    "duration": 99,
    "start_time": "2022-11-28T13:48:42.627Z"
   },
   {
    "duration": 187,
    "start_time": "2022-11-28T13:50:48.096Z"
   },
   {
    "duration": 116,
    "start_time": "2022-11-28T13:51:31.332Z"
   },
   {
    "duration": 263,
    "start_time": "2022-11-28T13:52:46.854Z"
   },
   {
    "duration": 153,
    "start_time": "2022-11-28T13:52:59.940Z"
   },
   {
    "duration": 359,
    "start_time": "2022-11-28T13:54:22.535Z"
   },
   {
    "duration": 108,
    "start_time": "2022-11-28T13:54:45.701Z"
   },
   {
    "duration": 369,
    "start_time": "2022-11-28T13:55:25.866Z"
   },
   {
    "duration": 121,
    "start_time": "2022-11-28T13:56:08.839Z"
   },
   {
    "duration": 203,
    "start_time": "2022-11-28T13:57:11.134Z"
   },
   {
    "duration": 118,
    "start_time": "2022-11-28T13:57:24.180Z"
   },
   {
    "duration": 3,
    "start_time": "2022-11-28T13:59:19.981Z"
   },
   {
    "duration": 53,
    "start_time": "2022-11-28T13:59:20.285Z"
   },
   {
    "duration": 21,
    "start_time": "2022-11-28T13:59:20.510Z"
   },
   {
    "duration": 21,
    "start_time": "2022-11-28T13:59:20.713Z"
   },
   {
    "duration": 17,
    "start_time": "2022-11-28T13:59:21.187Z"
   },
   {
    "duration": 4,
    "start_time": "2022-11-28T13:59:21.633Z"
   },
   {
    "duration": 5,
    "start_time": "2022-11-28T13:59:21.993Z"
   },
   {
    "duration": 13,
    "start_time": "2022-11-28T13:59:22.929Z"
   },
   {
    "duration": 8,
    "start_time": "2022-11-28T13:59:23.364Z"
   },
   {
    "duration": 7,
    "start_time": "2022-11-28T13:59:23.827Z"
   },
   {
    "duration": 19,
    "start_time": "2022-11-28T13:59:24.090Z"
   },
   {
    "duration": 25,
    "start_time": "2022-11-28T13:59:24.317Z"
   },
   {
    "duration": 165,
    "start_time": "2022-11-28T13:59:25.422Z"
   },
   {
    "duration": 20,
    "start_time": "2022-11-28T13:59:25.607Z"
   },
   {
    "duration": 244,
    "start_time": "2022-11-28T13:59:25.939Z"
   },
   {
    "duration": 206,
    "start_time": "2022-11-28T13:59:26.186Z"
   },
   {
    "duration": 239,
    "start_time": "2022-11-28T13:59:26.395Z"
   },
   {
    "duration": 199,
    "start_time": "2022-11-28T13:59:26.637Z"
   },
   {
    "duration": 467,
    "start_time": "2022-11-28T13:59:26.839Z"
   },
   {
    "duration": 5,
    "start_time": "2022-11-28T13:59:27.308Z"
   },
   {
    "duration": 23,
    "start_time": "2022-11-28T13:59:27.315Z"
   },
   {
    "duration": 401,
    "start_time": "2022-11-28T13:59:27.383Z"
   },
   {
    "duration": 109,
    "start_time": "2022-11-28T13:59:27.787Z"
   },
   {
    "duration": 447,
    "start_time": "2022-11-28T13:59:27.898Z"
   },
   {
    "duration": 112,
    "start_time": "2022-11-28T13:59:28.356Z"
   },
   {
    "duration": 227,
    "start_time": "2022-11-28T13:59:28.470Z"
   },
   {
    "duration": 132,
    "start_time": "2022-11-28T13:59:28.699Z"
   },
   {
    "duration": 289,
    "start_time": "2022-11-28T13:59:28.833Z"
   },
   {
    "duration": 153,
    "start_time": "2022-11-28T13:59:29.125Z"
   },
   {
    "duration": 476,
    "start_time": "2022-11-28T13:59:29.281Z"
   },
   {
    "duration": 120,
    "start_time": "2022-11-28T13:59:29.759Z"
   },
   {
    "duration": 409,
    "start_time": "2022-11-28T13:59:29.881Z"
   },
   {
    "duration": 1166,
    "start_time": "2022-11-28T13:59:30.293Z"
   },
   {
    "duration": 219,
    "start_time": "2022-11-28T13:59:31.461Z"
   },
   {
    "duration": 132,
    "start_time": "2022-11-28T13:59:31.683Z"
   },
   {
    "duration": 219,
    "start_time": "2022-11-28T14:00:40.600Z"
   },
   {
    "duration": 260,
    "start_time": "2022-11-28T14:01:30.646Z"
   },
   {
    "duration": 146,
    "start_time": "2022-11-28T14:02:54.380Z"
   },
   {
    "duration": 159,
    "start_time": "2022-11-28T14:03:36.052Z"
   },
   {
    "duration": 142,
    "start_time": "2022-11-28T14:04:10.630Z"
   },
   {
    "duration": 128,
    "start_time": "2022-11-28T14:04:49.115Z"
   },
   {
    "duration": 293,
    "start_time": "2022-11-28T14:10:25.990Z"
   },
   {
    "duration": 322,
    "start_time": "2022-11-28T14:10:48.586Z"
   },
   {
    "duration": 14,
    "start_time": "2022-11-28T14:11:12.555Z"
   },
   {
    "duration": 13,
    "start_time": "2022-11-28T14:11:14.571Z"
   },
   {
    "duration": 3,
    "start_time": "2022-11-28T14:11:25.008Z"
   },
   {
    "duration": 55,
    "start_time": "2022-11-28T14:11:25.156Z"
   },
   {
    "duration": 21,
    "start_time": "2022-11-28T14:11:25.302Z"
   },
   {
    "duration": 16,
    "start_time": "2022-11-28T14:11:25.440Z"
   },
   {
    "duration": 17,
    "start_time": "2022-11-28T14:11:25.733Z"
   },
   {
    "duration": 3,
    "start_time": "2022-11-28T14:11:26.050Z"
   },
   {
    "duration": 5,
    "start_time": "2022-11-28T14:11:26.385Z"
   },
   {
    "duration": 12,
    "start_time": "2022-11-28T14:11:26.709Z"
   },
   {
    "duration": 8,
    "start_time": "2022-11-28T14:11:27.083Z"
   },
   {
    "duration": 6,
    "start_time": "2022-11-28T14:11:27.417Z"
   },
   {
    "duration": 15,
    "start_time": "2022-11-28T14:11:27.604Z"
   },
   {
    "duration": 24,
    "start_time": "2022-11-28T14:11:27.765Z"
   },
   {
    "duration": 148,
    "start_time": "2022-11-28T14:11:28.112Z"
   },
   {
    "duration": 19,
    "start_time": "2022-11-28T14:11:28.293Z"
   },
   {
    "duration": 181,
    "start_time": "2022-11-28T14:11:28.663Z"
   },
   {
    "duration": 160,
    "start_time": "2022-11-28T14:11:28.846Z"
   },
   {
    "duration": 158,
    "start_time": "2022-11-28T14:11:29.012Z"
   },
   {
    "duration": 150,
    "start_time": "2022-11-28T14:11:29.179Z"
   },
   {
    "duration": 424,
    "start_time": "2022-11-28T14:11:29.368Z"
   },
   {
    "duration": 6,
    "start_time": "2022-11-28T14:11:29.795Z"
   },
   {
    "duration": 19,
    "start_time": "2022-11-28T14:11:29.971Z"
   },
   {
    "duration": 386,
    "start_time": "2022-11-28T14:11:30.203Z"
   },
   {
    "duration": 392,
    "start_time": "2022-11-28T14:11:30.591Z"
   },
   {
    "duration": 213,
    "start_time": "2022-11-28T14:11:30.985Z"
   },
   {
    "duration": 257,
    "start_time": "2022-11-28T14:11:31.202Z"
   },
   {
    "duration": 359,
    "start_time": "2022-11-28T14:11:31.461Z"
   },
   {
    "duration": 401,
    "start_time": "2022-11-28T14:11:31.823Z"
   },
   {
    "duration": 209,
    "start_time": "2022-11-28T14:11:32.226Z"
   },
   {
    "duration": 227,
    "start_time": "2022-11-28T14:11:32.437Z"
   },
   {
    "duration": 275,
    "start_time": "2022-11-28T14:11:32.667Z"
   },
   {
    "duration": 178,
    "start_time": "2022-11-28T14:11:32.945Z"
   },
   {
    "duration": 169,
    "start_time": "2022-11-28T14:11:33.125Z"
   },
   {
    "duration": 168,
    "start_time": "2022-11-28T14:11:33.295Z"
   },
   {
    "duration": 144,
    "start_time": "2022-11-28T14:11:33.466Z"
   },
   {
    "duration": 6,
    "start_time": "2022-11-28T14:12:10.888Z"
   },
   {
    "duration": 263,
    "start_time": "2022-11-28T14:12:31.773Z"
   },
   {
    "duration": 6,
    "start_time": "2022-11-28T14:12:37.192Z"
   },
   {
    "duration": 9,
    "start_time": "2022-11-28T14:12:46.213Z"
   },
   {
    "duration": 13,
    "start_time": "2022-11-28T14:13:12.985Z"
   },
   {
    "duration": 17,
    "start_time": "2022-11-28T14:13:34.322Z"
   },
   {
    "duration": 13,
    "start_time": "2022-11-28T14:13:37.701Z"
   },
   {
    "duration": 16,
    "start_time": "2022-11-28T14:13:38.062Z"
   },
   {
    "duration": 15,
    "start_time": "2022-11-28T14:14:07.012Z"
   },
   {
    "duration": 18,
    "start_time": "2022-11-28T14:14:07.279Z"
   },
   {
    "duration": 9,
    "start_time": "2022-11-28T14:14:14.302Z"
   },
   {
    "duration": 11,
    "start_time": "2022-11-28T14:14:24.416Z"
   },
   {
    "duration": 22,
    "start_time": "2022-11-28T14:14:26.343Z"
   },
   {
    "duration": 12,
    "start_time": "2022-11-28T14:14:41.619Z"
   },
   {
    "duration": 16,
    "start_time": "2022-11-28T14:14:41.987Z"
   },
   {
    "duration": 108,
    "start_time": "2022-11-28T14:15:32.598Z"
   },
   {
    "duration": 112,
    "start_time": "2022-11-28T14:41:48.962Z"
   },
   {
    "duration": 134,
    "start_time": "2022-11-28T14:42:09.143Z"
   },
   {
    "duration": 131,
    "start_time": "2022-11-28T14:42:12.254Z"
   },
   {
    "duration": 100,
    "start_time": "2022-11-28T14:42:16.118Z"
   },
   {
    "duration": 14,
    "start_time": "2022-11-28T14:44:14.150Z"
   },
   {
    "duration": 254,
    "start_time": "2022-11-28T14:44:25.405Z"
   },
   {
    "duration": 13,
    "start_time": "2022-11-28T14:45:09.401Z"
   },
   {
    "duration": 3,
    "start_time": "2022-11-28T14:45:13.491Z"
   },
   {
    "duration": 406,
    "start_time": "2022-11-28T14:45:18.727Z"
   },
   {
    "duration": 350,
    "start_time": "2022-11-28T14:45:27.208Z"
   },
   {
    "duration": 198,
    "start_time": "2022-11-28T14:45:31.545Z"
   },
   {
    "duration": 261,
    "start_time": "2022-11-28T14:45:42.618Z"
   },
   {
    "duration": 350,
    "start_time": "2022-11-28T14:45:47.385Z"
   },
   {
    "duration": 344,
    "start_time": "2022-11-28T14:45:51.077Z"
   },
   {
    "duration": 210,
    "start_time": "2022-11-28T14:45:55.129Z"
   },
   {
    "duration": 225,
    "start_time": "2022-11-28T14:45:59.044Z"
   },
   {
    "duration": 279,
    "start_time": "2022-11-28T14:46:03.547Z"
   },
   {
    "duration": 159,
    "start_time": "2022-11-28T14:46:07.276Z"
   },
   {
    "duration": 180,
    "start_time": "2022-11-28T14:46:10.828Z"
   },
   {
    "duration": 162,
    "start_time": "2022-11-28T14:46:14.636Z"
   },
   {
    "duration": 137,
    "start_time": "2022-11-28T14:46:18.062Z"
   },
   {
    "duration": 309,
    "start_time": "2022-11-28T14:46:26.798Z"
   },
   {
    "duration": 9,
    "start_time": "2022-11-28T14:50:43.382Z"
   },
   {
    "duration": 17,
    "start_time": "2022-11-28T14:52:45.861Z"
   },
   {
    "duration": 158,
    "start_time": "2022-11-28T14:55:41.355Z"
   },
   {
    "duration": 173,
    "start_time": "2022-11-28T14:56:14.010Z"
   },
   {
    "duration": 7,
    "start_time": "2022-11-28T14:56:57.722Z"
   },
   {
    "duration": 131,
    "start_time": "2022-11-28T14:57:13.486Z"
   },
   {
    "duration": 130,
    "start_time": "2022-11-28T14:57:19.546Z"
   },
   {
    "duration": 13,
    "start_time": "2022-11-28T15:00:06.655Z"
   },
   {
    "duration": 9,
    "start_time": "2022-11-28T15:01:41.365Z"
   },
   {
    "duration": 11,
    "start_time": "2022-11-28T15:02:28.145Z"
   },
   {
    "duration": 26,
    "start_time": "2022-11-28T15:03:31.077Z"
   },
   {
    "duration": 15,
    "start_time": "2022-11-28T15:03:37.859Z"
   },
   {
    "duration": 132,
    "start_time": "2022-11-28T15:05:32.242Z"
   },
   {
    "duration": 17,
    "start_time": "2022-11-28T15:08:03.720Z"
   },
   {
    "duration": 171,
    "start_time": "2022-11-28T15:13:42.035Z"
   },
   {
    "duration": 13,
    "start_time": "2022-11-28T15:14:22.205Z"
   },
   {
    "duration": 11,
    "start_time": "2022-11-28T15:15:00.938Z"
   },
   {
    "duration": 4,
    "start_time": "2022-11-28T15:16:16.263Z"
   },
   {
    "duration": 37,
    "start_time": "2022-11-28T15:22:14.610Z"
   },
   {
    "duration": 25,
    "start_time": "2022-11-28T15:22:51.565Z"
   },
   {
    "duration": 5,
    "start_time": "2022-11-28T15:57:21.048Z"
   },
   {
    "duration": 6,
    "start_time": "2022-11-28T15:57:33.061Z"
   },
   {
    "duration": 5,
    "start_time": "2022-11-28T15:57:45.025Z"
   },
   {
    "duration": 6,
    "start_time": "2022-11-28T15:57:45.555Z"
   },
   {
    "duration": 5,
    "start_time": "2022-11-28T15:57:53.518Z"
   },
   {
    "duration": 5,
    "start_time": "2022-11-28T15:57:53.761Z"
   },
   {
    "duration": 6,
    "start_time": "2022-11-28T15:57:54.125Z"
   },
   {
    "duration": 3,
    "start_time": "2022-11-28T15:58:13.508Z"
   },
   {
    "duration": 52,
    "start_time": "2022-11-28T15:58:13.767Z"
   },
   {
    "duration": 21,
    "start_time": "2022-11-28T15:58:14.043Z"
   },
   {
    "duration": 15,
    "start_time": "2022-11-28T15:58:14.394Z"
   },
   {
    "duration": 16,
    "start_time": "2022-11-28T15:58:15.449Z"
   },
   {
    "duration": 3,
    "start_time": "2022-11-28T15:58:17.410Z"
   },
   {
    "duration": 5,
    "start_time": "2022-11-28T15:58:18.186Z"
   },
   {
    "duration": 14,
    "start_time": "2022-11-28T15:58:18.967Z"
   },
   {
    "duration": 6,
    "start_time": "2022-11-28T15:58:20.104Z"
   },
   {
    "duration": 4,
    "start_time": "2022-11-28T15:58:29.524Z"
   },
   {
    "duration": 5,
    "start_time": "2022-11-28T15:58:30.442Z"
   },
   {
    "duration": 4,
    "start_time": "2022-11-28T15:58:49.732Z"
   },
   {
    "duration": 59,
    "start_time": "2022-11-28T15:58:49.974Z"
   },
   {
    "duration": 20,
    "start_time": "2022-11-28T15:58:50.284Z"
   },
   {
    "duration": 14,
    "start_time": "2022-11-28T15:58:50.848Z"
   },
   {
    "duration": 15,
    "start_time": "2022-11-28T15:58:52.781Z"
   },
   {
    "duration": 3,
    "start_time": "2022-11-28T15:58:53.854Z"
   },
   {
    "duration": 5,
    "start_time": "2022-11-28T15:58:54.427Z"
   },
   {
    "duration": 11,
    "start_time": "2022-11-28T15:58:54.860Z"
   },
   {
    "duration": 6,
    "start_time": "2022-11-28T15:58:56.079Z"
   },
   {
    "duration": 5,
    "start_time": "2022-11-28T15:58:56.744Z"
   },
   {
    "duration": 6,
    "start_time": "2022-11-28T15:58:57.366Z"
   },
   {
    "duration": 9,
    "start_time": "2022-11-28T15:59:10.606Z"
   },
   {
    "duration": 6,
    "start_time": "2022-11-28T15:59:10.938Z"
   },
   {
    "duration": 10,
    "start_time": "2022-11-28T15:59:18.228Z"
   },
   {
    "duration": 5,
    "start_time": "2022-11-28T15:59:23.535Z"
   },
   {
    "duration": 5,
    "start_time": "2022-11-28T15:59:28.440Z"
   },
   {
    "duration": 5,
    "start_time": "2022-11-28T15:59:28.613Z"
   },
   {
    "duration": 5,
    "start_time": "2022-11-28T15:59:28.800Z"
   },
   {
    "duration": 4,
    "start_time": "2022-11-28T16:00:04.863Z"
   },
   {
    "duration": 54,
    "start_time": "2022-11-28T16:00:05.154Z"
   },
   {
    "duration": 21,
    "start_time": "2022-11-28T16:00:05.434Z"
   },
   {
    "duration": 15,
    "start_time": "2022-11-28T16:00:05.796Z"
   },
   {
    "duration": 17,
    "start_time": "2022-11-28T16:00:06.526Z"
   },
   {
    "duration": 4,
    "start_time": "2022-11-28T16:00:07.298Z"
   },
   {
    "duration": 5,
    "start_time": "2022-11-28T16:00:08.020Z"
   },
   {
    "duration": 13,
    "start_time": "2022-11-28T16:00:08.652Z"
   },
   {
    "duration": 6,
    "start_time": "2022-11-28T16:00:09.509Z"
   },
   {
    "duration": 5,
    "start_time": "2022-11-28T16:00:12.529Z"
   },
   {
    "duration": 6,
    "start_time": "2022-11-28T16:00:13.125Z"
   },
   {
    "duration": 13,
    "start_time": "2022-11-28T16:00:45.709Z"
   },
   {
    "duration": 5,
    "start_time": "2022-11-28T16:00:50.481Z"
   },
   {
    "duration": 12,
    "start_time": "2022-11-28T16:00:50.645Z"
   },
   {
    "duration": 6,
    "start_time": "2022-11-28T16:01:02.075Z"
   },
   {
    "duration": 11,
    "start_time": "2022-11-28T16:01:10.780Z"
   },
   {
    "duration": 112,
    "start_time": "2022-11-28T16:01:36.250Z"
   },
   {
    "duration": 5,
    "start_time": "2022-11-28T16:03:57.511Z"
   },
   {
    "duration": 113,
    "start_time": "2022-11-28T16:04:13.056Z"
   },
   {
    "duration": 1216,
    "start_time": "2022-11-30T09:30:06.262Z"
   },
   {
    "duration": 92,
    "start_time": "2022-11-30T09:30:07.479Z"
   },
   {
    "duration": 22,
    "start_time": "2022-11-30T09:30:07.573Z"
   },
   {
    "duration": 54,
    "start_time": "2022-11-30T09:30:07.597Z"
   },
   {
    "duration": 31,
    "start_time": "2022-11-30T09:30:07.653Z"
   },
   {
    "duration": 3,
    "start_time": "2022-11-30T09:30:10.588Z"
   },
   {
    "duration": 4,
    "start_time": "2022-11-30T09:30:10.930Z"
   },
   {
    "duration": 11,
    "start_time": "2022-11-30T09:30:11.280Z"
   },
   {
    "duration": 5,
    "start_time": "2022-11-30T09:30:11.563Z"
   },
   {
    "duration": 4,
    "start_time": "2022-11-30T09:30:11.734Z"
   },
   {
    "duration": 4,
    "start_time": "2022-11-30T09:30:11.881Z"
   },
   {
    "duration": 306,
    "start_time": "2022-11-30T09:30:12.060Z"
   },
   {
    "duration": 5,
    "start_time": "2022-11-30T09:30:12.396Z"
   },
   {
    "duration": 13,
    "start_time": "2022-11-30T09:30:12.558Z"
   },
   {
    "duration": 14,
    "start_time": "2022-11-30T09:30:12.722Z"
   },
   {
    "duration": 130,
    "start_time": "2022-11-30T09:30:13.053Z"
   },
   {
    "duration": 15,
    "start_time": "2022-11-30T09:30:13.251Z"
   },
   {
    "duration": 124,
    "start_time": "2022-11-30T09:30:13.642Z"
   },
   {
    "duration": 119,
    "start_time": "2022-11-30T09:30:13.809Z"
   },
   {
    "duration": 125,
    "start_time": "2022-11-30T09:30:14.380Z"
   },
   {
    "duration": 145,
    "start_time": "2022-11-30T09:30:14.506Z"
   },
   {
    "duration": 419,
    "start_time": "2022-11-30T09:30:14.653Z"
   },
   {
    "duration": 6,
    "start_time": "2022-11-30T09:30:15.074Z"
   },
   {
    "duration": 32,
    "start_time": "2022-11-30T09:30:15.082Z"
   },
   {
    "duration": 332,
    "start_time": "2022-11-30T09:30:15.115Z"
   },
   {
    "duration": 393,
    "start_time": "2022-11-30T09:30:15.448Z"
   },
   {
    "duration": 171,
    "start_time": "2022-11-30T09:30:15.843Z"
   },
   {
    "duration": 206,
    "start_time": "2022-11-30T09:30:16.018Z"
   },
   {
    "duration": 291,
    "start_time": "2022-11-30T09:30:16.226Z"
   },
   {
    "duration": 313,
    "start_time": "2022-11-30T09:30:16.519Z"
   },
   {
    "duration": 190,
    "start_time": "2022-11-30T09:30:16.833Z"
   },
   {
    "duration": 219,
    "start_time": "2022-11-30T09:30:17.024Z"
   },
   {
    "duration": 219,
    "start_time": "2022-11-30T09:30:17.244Z"
   },
   {
    "duration": 141,
    "start_time": "2022-11-30T09:30:17.465Z"
   },
   {
    "duration": 144,
    "start_time": "2022-11-30T09:30:17.607Z"
   },
   {
    "duration": 138,
    "start_time": "2022-11-30T09:30:17.752Z"
   },
   {
    "duration": 114,
    "start_time": "2022-11-30T09:30:17.897Z"
   },
   {
    "duration": 10,
    "start_time": "2022-11-30T09:30:18.012Z"
   },
   {
    "duration": 11,
    "start_time": "2022-11-30T09:30:18.024Z"
   },
   {
    "duration": 291,
    "start_time": "2022-11-30T09:30:18.037Z"
   },
   {
    "duration": 7,
    "start_time": "2022-11-30T09:30:18.330Z"
   },
   {
    "duration": 17,
    "start_time": "2022-11-30T09:30:18.338Z"
   },
   {
    "duration": 131,
    "start_time": "2022-11-30T09:30:18.357Z"
   },
   {
    "duration": 4,
    "start_time": "2022-11-30T09:30:18.497Z"
   },
   {
    "duration": 9,
    "start_time": "2022-11-30T09:50:00.589Z"
   },
   {
    "duration": 15,
    "start_time": "2022-11-30T09:50:14.977Z"
   },
   {
    "duration": 5,
    "start_time": "2022-11-30T09:58:10.126Z"
   },
   {
    "duration": 3,
    "start_time": "2022-11-30T09:58:56.516Z"
   },
   {
    "duration": 5,
    "start_time": "2022-11-30T09:59:06.319Z"
   },
   {
    "duration": 10,
    "start_time": "2022-11-30T09:59:33.024Z"
   },
   {
    "duration": 5,
    "start_time": "2022-11-30T11:45:31.348Z"
   },
   {
    "duration": 116,
    "start_time": "2022-11-30T11:56:48.313Z"
   },
   {
    "duration": 3,
    "start_time": "2022-11-30T11:57:36.200Z"
   },
   {
    "duration": 54,
    "start_time": "2022-11-30T11:57:36.354Z"
   },
   {
    "duration": 17,
    "start_time": "2022-11-30T11:57:36.526Z"
   },
   {
    "duration": 13,
    "start_time": "2022-11-30T11:57:36.691Z"
   },
   {
    "duration": 14,
    "start_time": "2022-11-30T11:57:37.031Z"
   },
   {
    "duration": 3,
    "start_time": "2022-11-30T11:57:37.393Z"
   },
   {
    "duration": 5,
    "start_time": "2022-11-30T11:57:37.750Z"
   },
   {
    "duration": 10,
    "start_time": "2022-11-30T11:57:38.118Z"
   },
   {
    "duration": 5,
    "start_time": "2022-11-30T11:57:38.478Z"
   },
   {
    "duration": 4,
    "start_time": "2022-11-30T11:57:38.659Z"
   },
   {
    "duration": 4,
    "start_time": "2022-11-30T11:57:38.841Z"
   },
   {
    "duration": 5,
    "start_time": "2022-11-30T11:57:39.005Z"
   },
   {
    "duration": 3,
    "start_time": "2022-11-30T11:57:39.176Z"
   },
   {
    "duration": 13,
    "start_time": "2022-11-30T11:57:39.345Z"
   },
   {
    "duration": 5,
    "start_time": "2022-11-30T11:57:39.672Z"
   },
   {
    "duration": 12,
    "start_time": "2022-11-30T11:57:39.849Z"
   },
   {
    "duration": 19,
    "start_time": "2022-11-30T11:57:40.034Z"
   },
   {
    "duration": 115,
    "start_time": "2022-11-30T11:57:40.412Z"
   },
   {
    "duration": 16,
    "start_time": "2022-11-30T11:57:40.591Z"
   },
   {
    "duration": 132,
    "start_time": "2022-11-30T11:57:41.026Z"
   },
   {
    "duration": 122,
    "start_time": "2022-11-30T11:57:41.230Z"
   },
   {
    "duration": 125,
    "start_time": "2022-11-30T11:57:41.411Z"
   },
   {
    "duration": 118,
    "start_time": "2022-11-30T11:57:41.593Z"
   },
   {
    "duration": 357,
    "start_time": "2022-11-30T11:57:41.780Z"
   },
   {
    "duration": 4,
    "start_time": "2022-11-30T11:57:42.172Z"
   },
   {
    "duration": 13,
    "start_time": "2022-11-30T11:57:42.557Z"
   },
   {
    "duration": 318,
    "start_time": "2022-11-30T11:57:42.742Z"
   },
   {
    "duration": 335,
    "start_time": "2022-11-30T11:57:43.062Z"
   },
   {
    "duration": 275,
    "start_time": "2022-11-30T11:57:43.399Z"
   },
   {
    "duration": 202,
    "start_time": "2022-11-30T11:57:43.676Z"
   },
   {
    "duration": 322,
    "start_time": "2022-11-30T11:57:43.879Z"
   },
   {
    "duration": 336,
    "start_time": "2022-11-30T11:57:44.202Z"
   },
   {
    "duration": 212,
    "start_time": "2022-11-30T11:57:44.539Z"
   },
   {
    "duration": 233,
    "start_time": "2022-11-30T11:57:44.752Z"
   },
   {
    "duration": 220,
    "start_time": "2022-11-30T11:57:44.998Z"
   },
   {
    "duration": 150,
    "start_time": "2022-11-30T11:57:45.220Z"
   },
   {
    "duration": 144,
    "start_time": "2022-11-30T11:57:45.371Z"
   },
   {
    "duration": 139,
    "start_time": "2022-11-30T11:57:45.516Z"
   },
   {
    "duration": 126,
    "start_time": "2022-11-30T11:57:45.657Z"
   },
   {
    "duration": 20,
    "start_time": "2022-11-30T11:57:45.785Z"
   },
   {
    "duration": 17,
    "start_time": "2022-11-30T11:57:45.806Z"
   },
   {
    "duration": 242,
    "start_time": "2022-11-30T11:57:45.825Z"
   },
   {
    "duration": 8,
    "start_time": "2022-11-30T11:57:46.068Z"
   },
   {
    "duration": 16,
    "start_time": "2022-11-30T11:57:46.197Z"
   },
   {
    "duration": 130,
    "start_time": "2022-11-30T11:57:47.269Z"
   },
   {
    "duration": 6,
    "start_time": "2022-11-30T11:57:47.638Z"
   },
   {
    "duration": 121,
    "start_time": "2022-11-30T11:57:48.115Z"
   },
   {
    "duration": 5,
    "start_time": "2022-11-30T11:58:06.937Z"
   },
   {
    "duration": 14,
    "start_time": "2022-11-30T12:03:10.679Z"
   },
   {
    "duration": 6,
    "start_time": "2022-11-30T12:03:51.955Z"
   },
   {
    "duration": 8,
    "start_time": "2022-11-30T12:04:06.552Z"
   },
   {
    "duration": 12,
    "start_time": "2022-11-30T12:04:18.042Z"
   },
   {
    "duration": 12,
    "start_time": "2022-11-30T12:04:56.147Z"
   },
   {
    "duration": 17,
    "start_time": "2022-11-30T12:05:53.793Z"
   },
   {
    "duration": 16,
    "start_time": "2022-11-30T12:06:04.245Z"
   },
   {
    "duration": 16,
    "start_time": "2022-11-30T12:06:22.933Z"
   },
   {
    "duration": 3,
    "start_time": "2022-11-30T12:09:00.970Z"
   },
   {
    "duration": 12,
    "start_time": "2022-11-30T12:09:06.724Z"
   },
   {
    "duration": 16,
    "start_time": "2022-11-30T13:12:13.385Z"
   },
   {
    "duration": 15,
    "start_time": "2022-11-30T13:15:43.920Z"
   },
   {
    "duration": 12,
    "start_time": "2022-11-30T13:15:53.886Z"
   },
   {
    "duration": 12,
    "start_time": "2022-11-30T13:16:00.479Z"
   },
   {
    "duration": 14,
    "start_time": "2022-11-30T13:16:20.917Z"
   },
   {
    "duration": 17,
    "start_time": "2022-11-30T13:16:53.349Z"
   },
   {
    "duration": 16,
    "start_time": "2022-11-30T13:17:16.511Z"
   },
   {
    "duration": 13,
    "start_time": "2022-11-30T13:18:09.259Z"
   },
   {
    "duration": 18,
    "start_time": "2022-11-30T13:21:37.526Z"
   },
   {
    "duration": 13,
    "start_time": "2022-11-30T13:21:43.988Z"
   },
   {
    "duration": 13,
    "start_time": "2022-11-30T13:22:00.470Z"
   },
   {
    "duration": 14,
    "start_time": "2022-11-30T13:22:50.482Z"
   },
   {
    "duration": 16,
    "start_time": "2022-11-30T13:22:50.819Z"
   },
   {
    "duration": 18,
    "start_time": "2022-11-30T13:23:05.717Z"
   },
   {
    "duration": 15,
    "start_time": "2022-11-30T13:24:31.364Z"
   },
   {
    "duration": 18,
    "start_time": "2022-11-30T13:24:58.283Z"
   },
   {
    "duration": 14,
    "start_time": "2022-11-30T13:25:23.318Z"
   },
   {
    "duration": 14,
    "start_time": "2022-11-30T13:25:29.273Z"
   },
   {
    "duration": 16,
    "start_time": "2022-11-30T13:25:51.545Z"
   },
   {
    "duration": 17,
    "start_time": "2022-11-30T13:25:57.776Z"
   },
   {
    "duration": 15,
    "start_time": "2022-11-30T13:26:01.321Z"
   },
   {
    "duration": 15,
    "start_time": "2022-11-30T13:26:10.295Z"
   },
   {
    "duration": 5,
    "start_time": "2022-11-30T13:26:13.482Z"
   },
   {
    "duration": 8,
    "start_time": "2022-11-30T13:26:13.692Z"
   },
   {
    "duration": 13,
    "start_time": "2022-11-30T13:26:13.879Z"
   },
   {
    "duration": 15,
    "start_time": "2022-11-30T13:26:14.057Z"
   },
   {
    "duration": 3,
    "start_time": "2022-11-30T13:26:19.601Z"
   },
   {
    "duration": 62,
    "start_time": "2022-11-30T13:26:19.755Z"
   },
   {
    "duration": 20,
    "start_time": "2022-11-30T13:26:20.094Z"
   },
   {
    "duration": 14,
    "start_time": "2022-11-30T13:26:20.230Z"
   },
   {
    "duration": 15,
    "start_time": "2022-11-30T13:26:20.513Z"
   },
   {
    "duration": 3,
    "start_time": "2022-11-30T13:26:20.892Z"
   },
   {
    "duration": 4,
    "start_time": "2022-11-30T13:26:21.254Z"
   },
   {
    "duration": 12,
    "start_time": "2022-11-30T13:26:21.555Z"
   },
   {
    "duration": 6,
    "start_time": "2022-11-30T13:26:21.986Z"
   },
   {
    "duration": 4,
    "start_time": "2022-11-30T13:26:22.182Z"
   },
   {
    "duration": 7,
    "start_time": "2022-11-30T13:26:22.351Z"
   },
   {
    "duration": 4,
    "start_time": "2022-11-30T13:26:22.519Z"
   },
   {
    "duration": 3,
    "start_time": "2022-11-30T13:26:22.695Z"
   },
   {
    "duration": 12,
    "start_time": "2022-11-30T13:26:22.866Z"
   },
   {
    "duration": 3,
    "start_time": "2022-11-30T13:26:29.579Z"
   },
   {
    "duration": 50,
    "start_time": "2022-11-30T13:26:29.778Z"
   },
   {
    "duration": 23,
    "start_time": "2022-11-30T13:26:29.933Z"
   },
   {
    "duration": 14,
    "start_time": "2022-11-30T13:26:30.109Z"
   },
   {
    "duration": 16,
    "start_time": "2022-11-30T13:26:30.818Z"
   },
   {
    "duration": 3,
    "start_time": "2022-11-30T13:26:32.450Z"
   },
   {
    "duration": 4,
    "start_time": "2022-11-30T13:26:33.059Z"
   },
   {
    "duration": 11,
    "start_time": "2022-11-30T13:26:33.591Z"
   },
   {
    "duration": 6,
    "start_time": "2022-11-30T13:26:34.035Z"
   },
   {
    "duration": 4,
    "start_time": "2022-11-30T13:26:34.245Z"
   },
   {
    "duration": 5,
    "start_time": "2022-11-30T13:26:34.482Z"
   },
   {
    "duration": 5,
    "start_time": "2022-11-30T13:26:34.946Z"
   },
   {
    "duration": 3,
    "start_time": "2022-11-30T13:26:35.181Z"
   },
   {
    "duration": 12,
    "start_time": "2022-11-30T13:26:35.411Z"
   },
   {
    "duration": 3,
    "start_time": "2022-11-30T13:27:20.602Z"
   },
   {
    "duration": 49,
    "start_time": "2022-11-30T13:27:20.816Z"
   },
   {
    "duration": 17,
    "start_time": "2022-11-30T13:27:21.022Z"
   },
   {
    "duration": 14,
    "start_time": "2022-11-30T13:27:21.259Z"
   },
   {
    "duration": 16,
    "start_time": "2022-11-30T13:27:22.683Z"
   },
   {
    "duration": 3,
    "start_time": "2022-11-30T13:27:23.597Z"
   },
   {
    "duration": 5,
    "start_time": "2022-11-30T13:27:24.155Z"
   },
   {
    "duration": 11,
    "start_time": "2022-11-30T13:27:24.638Z"
   },
   {
    "duration": 6,
    "start_time": "2022-11-30T13:27:25.069Z"
   },
   {
    "duration": 5,
    "start_time": "2022-11-30T13:27:25.272Z"
   },
   {
    "duration": 5,
    "start_time": "2022-11-30T13:27:25.528Z"
   },
   {
    "duration": 5,
    "start_time": "2022-11-30T13:27:25.731Z"
   },
   {
    "duration": 3,
    "start_time": "2022-11-30T13:27:25.969Z"
   },
   {
    "duration": 12,
    "start_time": "2022-11-30T13:27:26.174Z"
   },
   {
    "duration": 53,
    "start_time": "2022-11-30T13:27:33.078Z"
   },
   {
    "duration": 18,
    "start_time": "2022-11-30T13:27:33.799Z"
   },
   {
    "duration": 12,
    "start_time": "2022-11-30T13:27:34.812Z"
   },
   {
    "duration": 14,
    "start_time": "2022-11-30T13:27:36.253Z"
   },
   {
    "duration": 3,
    "start_time": "2022-11-30T13:27:37.236Z"
   },
   {
    "duration": 4,
    "start_time": "2022-11-30T13:27:37.706Z"
   },
   {
    "duration": 11,
    "start_time": "2022-11-30T13:27:38.291Z"
   },
   {
    "duration": 6,
    "start_time": "2022-11-30T13:27:38.690Z"
   },
   {
    "duration": 4,
    "start_time": "2022-11-30T13:27:39.140Z"
   },
   {
    "duration": 5,
    "start_time": "2022-11-30T13:27:39.375Z"
   },
   {
    "duration": 4,
    "start_time": "2022-11-30T13:27:39.840Z"
   },
   {
    "duration": 4,
    "start_time": "2022-11-30T13:27:40.091Z"
   },
   {
    "duration": 11,
    "start_time": "2022-11-30T13:27:40.318Z"
   },
   {
    "duration": 5,
    "start_time": "2022-11-30T13:28:01.902Z"
   },
   {
    "duration": 12,
    "start_time": "2022-11-30T13:28:06.046Z"
   },
   {
    "duration": 1397,
    "start_time": "2022-12-01T09:03:37.337Z"
   },
   {
    "duration": 193,
    "start_time": "2022-12-01T09:03:38.736Z"
   },
   {
    "duration": 28,
    "start_time": "2022-12-01T09:03:40.051Z"
   },
   {
    "duration": 17,
    "start_time": "2022-12-01T09:03:40.568Z"
   },
   {
    "duration": 17,
    "start_time": "2022-12-01T09:03:41.817Z"
   },
   {
    "duration": 4,
    "start_time": "2022-12-01T09:03:43.641Z"
   },
   {
    "duration": 5,
    "start_time": "2022-12-01T09:03:44.512Z"
   },
   {
    "duration": 13,
    "start_time": "2022-12-01T09:03:45.294Z"
   },
   {
    "duration": 6,
    "start_time": "2022-12-01T09:03:46.101Z"
   },
   {
    "duration": 5,
    "start_time": "2022-12-01T09:03:46.522Z"
   },
   {
    "duration": 5,
    "start_time": "2022-12-01T09:03:46.971Z"
   },
   {
    "duration": 5,
    "start_time": "2022-12-01T09:03:47.398Z"
   },
   {
    "duration": 4,
    "start_time": "2022-12-01T09:03:47.825Z"
   },
   {
    "duration": 6,
    "start_time": "2022-12-01T09:03:48.197Z"
   },
   {
    "duration": 109,
    "start_time": "2022-12-01T09:03:48.567Z"
   },
   {
    "duration": 6,
    "start_time": "2022-12-01T09:04:15.044Z"
   },
   {
    "duration": 7,
    "start_time": "2022-12-01T09:04:15.438Z"
   },
   {
    "duration": 16,
    "start_time": "2022-12-01T09:04:15.627Z"
   },
   {
    "duration": 21,
    "start_time": "2022-12-01T09:04:15.810Z"
   },
   {
    "duration": 168,
    "start_time": "2022-12-01T09:04:16.168Z"
   },
   {
    "duration": 26,
    "start_time": "2022-12-01T09:04:16.338Z"
   },
   {
    "duration": 159,
    "start_time": "2022-12-01T09:04:16.694Z"
   },
   {
    "duration": 161,
    "start_time": "2022-12-01T09:04:16.856Z"
   },
   {
    "duration": 158,
    "start_time": "2022-12-01T09:04:17.026Z"
   },
   {
    "duration": 165,
    "start_time": "2022-12-01T09:04:17.204Z"
   },
   {
    "duration": 414,
    "start_time": "2022-12-01T09:04:17.384Z"
   },
   {
    "duration": 5,
    "start_time": "2022-12-01T09:04:17.800Z"
   },
   {
    "duration": 18,
    "start_time": "2022-12-01T09:04:17.929Z"
   },
   {
    "duration": 369,
    "start_time": "2022-12-01T09:04:18.158Z"
   },
   {
    "duration": 452,
    "start_time": "2022-12-01T09:04:18.529Z"
   },
   {
    "duration": 225,
    "start_time": "2022-12-01T09:04:18.983Z"
   },
   {
    "duration": 263,
    "start_time": "2022-12-01T09:04:19.209Z"
   },
   {
    "duration": 407,
    "start_time": "2022-12-01T09:04:19.474Z"
   },
   {
    "duration": 396,
    "start_time": "2022-12-01T09:04:19.883Z"
   },
   {
    "duration": 218,
    "start_time": "2022-12-01T09:04:20.281Z"
   },
   {
    "duration": 255,
    "start_time": "2022-12-01T09:04:20.501Z"
   },
   {
    "duration": 283,
    "start_time": "2022-12-01T09:04:20.759Z"
   },
   {
    "duration": 160,
    "start_time": "2022-12-01T09:04:21.051Z"
   },
   {
    "duration": 172,
    "start_time": "2022-12-01T09:04:21.213Z"
   },
   {
    "duration": 145,
    "start_time": "2022-12-01T09:04:21.387Z"
   },
   {
    "duration": 148,
    "start_time": "2022-12-01T09:04:21.534Z"
   },
   {
    "duration": 15,
    "start_time": "2022-12-01T09:04:21.684Z"
   },
   {
    "duration": 26,
    "start_time": "2022-12-01T09:04:21.701Z"
   },
   {
    "duration": 356,
    "start_time": "2022-12-01T09:04:21.730Z"
   },
   {
    "duration": 8,
    "start_time": "2022-12-01T09:04:22.116Z"
   },
   {
    "duration": 25,
    "start_time": "2022-12-01T09:04:22.511Z"
   },
   {
    "duration": 148,
    "start_time": "2022-12-01T09:04:23.532Z"
   },
   {
    "duration": 7,
    "start_time": "2022-12-01T09:04:23.952Z"
   },
   {
    "duration": 145,
    "start_time": "2022-12-01T09:04:24.375Z"
   },
   {
    "duration": 7,
    "start_time": "2022-12-01T09:04:25.093Z"
   },
   {
    "duration": 12,
    "start_time": "2022-12-01T09:04:25.563Z"
   },
   {
    "duration": 15,
    "start_time": "2022-12-01T09:04:25.892Z"
   },
   {
    "duration": 19,
    "start_time": "2022-12-01T09:04:26.215Z"
   },
   {
    "duration": 20,
    "start_time": "2022-12-01T09:04:38.520Z"
   },
   {
    "duration": 14,
    "start_time": "2022-12-01T09:04:46.307Z"
   },
   {
    "duration": 17,
    "start_time": "2022-12-01T09:05:08.862Z"
   },
   {
    "duration": 18,
    "start_time": "2022-12-01T09:05:12.512Z"
   },
   {
    "duration": 26,
    "start_time": "2022-12-01T09:05:13.462Z"
   },
   {
    "duration": 20,
    "start_time": "2022-12-01T09:05:13.895Z"
   },
   {
    "duration": 14,
    "start_time": "2022-12-01T09:05:17.508Z"
   },
   {
    "duration": 15,
    "start_time": "2022-12-01T09:05:17.704Z"
   },
   {
    "duration": 14,
    "start_time": "2022-12-01T09:05:18.577Z"
   },
   {
    "duration": 14,
    "start_time": "2022-12-01T09:05:18.818Z"
   },
   {
    "duration": 5,
    "start_time": "2022-12-01T09:07:05.772Z"
   },
   {
    "duration": 11,
    "start_time": "2022-12-01T09:07:15.437Z"
   },
   {
    "duration": 17,
    "start_time": "2022-12-01T09:15:38.433Z"
   },
   {
    "duration": 15,
    "start_time": "2022-12-01T09:40:32.913Z"
   },
   {
    "duration": 22,
    "start_time": "2022-12-01T09:41:43.453Z"
   },
   {
    "duration": 15,
    "start_time": "2022-12-01T09:41:55.377Z"
   },
   {
    "duration": 17,
    "start_time": "2022-12-01T09:42:25.207Z"
   },
   {
    "duration": 15,
    "start_time": "2022-12-01T09:42:29.863Z"
   },
   {
    "duration": 20,
    "start_time": "2022-12-01T09:43:01.860Z"
   },
   {
    "duration": 17,
    "start_time": "2022-12-01T09:43:24.590Z"
   },
   {
    "duration": 154,
    "start_time": "2022-12-01T09:44:23.253Z"
   },
   {
    "duration": 21,
    "start_time": "2022-12-01T09:44:49.933Z"
   },
   {
    "duration": 15,
    "start_time": "2022-12-01T09:44:58.708Z"
   },
   {
    "duration": 19,
    "start_time": "2022-12-01T09:45:16.027Z"
   },
   {
    "duration": 16,
    "start_time": "2022-12-01T09:45:30.834Z"
   },
   {
    "duration": 15,
    "start_time": "2022-12-01T09:45:43.072Z"
   },
   {
    "duration": 16,
    "start_time": "2022-12-01T09:45:47.463Z"
   },
   {
    "duration": 17,
    "start_time": "2022-12-01T09:45:54.099Z"
   },
   {
    "duration": 15,
    "start_time": "2022-12-01T09:46:05.397Z"
   },
   {
    "duration": 3,
    "start_time": "2022-12-01T10:26:04.194Z"
   },
   {
    "duration": 55,
    "start_time": "2022-12-01T10:26:04.353Z"
   },
   {
    "duration": 24,
    "start_time": "2022-12-01T10:26:04.508Z"
   },
   {
    "duration": 16,
    "start_time": "2022-12-01T10:26:04.669Z"
   },
   {
    "duration": 18,
    "start_time": "2022-12-01T10:26:05.924Z"
   },
   {
    "duration": 3,
    "start_time": "2022-12-01T10:26:06.578Z"
   },
   {
    "duration": 16,
    "start_time": "2022-12-01T10:26:07.448Z"
   },
   {
    "duration": 3,
    "start_time": "2022-12-01T10:26:25.002Z"
   },
   {
    "duration": 51,
    "start_time": "2022-12-01T10:26:25.196Z"
   },
   {
    "duration": 21,
    "start_time": "2022-12-01T10:26:25.315Z"
   },
   {
    "duration": 14,
    "start_time": "2022-12-01T10:26:25.501Z"
   },
   {
    "duration": 17,
    "start_time": "2022-12-01T10:26:26.729Z"
   },
   {
    "duration": 4,
    "start_time": "2022-12-01T10:26:27.783Z"
   },
   {
    "duration": 11,
    "start_time": "2022-12-01T10:26:45.730Z"
   },
   {
    "duration": 6,
    "start_time": "2022-12-01T10:27:06.871Z"
   },
   {
    "duration": 15,
    "start_time": "2022-12-01T10:32:45.073Z"
   },
   {
    "duration": 7,
    "start_time": "2022-12-01T10:33:21.065Z"
   },
   {
    "duration": 64,
    "start_time": "2022-12-01T10:33:21.227Z"
   },
   {
    "duration": 35,
    "start_time": "2022-12-01T10:33:21.403Z"
   },
   {
    "duration": 20,
    "start_time": "2022-12-01T10:33:21.576Z"
   },
   {
    "duration": 25,
    "start_time": "2022-12-01T10:33:23.640Z"
   },
   {
    "duration": 7,
    "start_time": "2022-12-01T10:33:24.557Z"
   },
   {
    "duration": 15,
    "start_time": "2022-12-01T10:33:27.310Z"
   },
   {
    "duration": 9,
    "start_time": "2022-12-01T10:33:53.788Z"
   },
   {
    "duration": 11,
    "start_time": "2022-12-01T10:34:17.994Z"
   },
   {
    "duration": 7,
    "start_time": "2022-12-01T10:34:52.667Z"
   },
   {
    "duration": 13,
    "start_time": "2022-12-01T10:35:00.278Z"
   },
   {
    "duration": 23,
    "start_time": "2022-12-01T10:35:38.547Z"
   },
   {
    "duration": 5,
    "start_time": "2022-12-01T10:37:42.573Z"
   },
   {
    "duration": 6,
    "start_time": "2022-12-01T10:37:52.112Z"
   },
   {
    "duration": 30,
    "start_time": "2022-12-01T10:38:38.687Z"
   },
   {
    "duration": 17,
    "start_time": "2022-12-01T10:38:58.464Z"
   },
   {
    "duration": 15,
    "start_time": "2022-12-01T10:41:53.700Z"
   },
   {
    "duration": 16,
    "start_time": "2022-12-01T10:41:58.525Z"
   },
   {
    "duration": 17,
    "start_time": "2022-12-01T10:42:01.648Z"
   },
   {
    "duration": 17,
    "start_time": "2022-12-01T10:42:05.358Z"
   },
   {
    "duration": 16,
    "start_time": "2022-12-01T10:42:09.053Z"
   },
   {
    "duration": 23,
    "start_time": "2022-12-01T10:42:12.319Z"
   },
   {
    "duration": 16,
    "start_time": "2022-12-01T10:42:15.248Z"
   },
   {
    "duration": 19,
    "start_time": "2022-12-01T10:42:18.260Z"
   },
   {
    "duration": 19,
    "start_time": "2022-12-01T10:42:22.175Z"
   },
   {
    "duration": 18,
    "start_time": "2022-12-01T10:42:25.610Z"
   },
   {
    "duration": 10,
    "start_time": "2022-12-01T10:44:31.867Z"
   },
   {
    "duration": 16,
    "start_time": "2022-12-01T10:44:58.217Z"
   },
   {
    "duration": 18,
    "start_time": "2022-12-01T10:45:02.725Z"
   },
   {
    "duration": 11,
    "start_time": "2022-12-01T10:46:34.097Z"
   },
   {
    "duration": 571,
    "start_time": "2022-12-01T10:47:26.058Z"
   },
   {
    "duration": 252,
    "start_time": "2022-12-01T10:49:52.350Z"
   },
   {
    "duration": 738,
    "start_time": "2022-12-01T10:49:57.467Z"
   },
   {
    "duration": 143,
    "start_time": "2022-12-01T10:52:38.837Z"
   },
   {
    "duration": 634,
    "start_time": "2022-12-01T10:52:45.565Z"
   },
   {
    "duration": 281,
    "start_time": "2022-12-01T10:54:05.798Z"
   },
   {
    "duration": 758,
    "start_time": "2022-12-01T10:54:23.970Z"
   },
   {
    "duration": 646,
    "start_time": "2022-12-01T10:55:52.677Z"
   },
   {
    "duration": 679,
    "start_time": "2022-12-01T10:55:58.151Z"
   },
   {
    "duration": 20,
    "start_time": "2022-12-01T10:56:37.125Z"
   },
   {
    "duration": 5,
    "start_time": "2022-12-01T10:56:45.539Z"
   },
   {
    "duration": 17,
    "start_time": "2022-12-01T10:56:45.881Z"
   },
   {
    "duration": 8,
    "start_time": "2022-12-01T10:56:51.441Z"
   },
   {
    "duration": 9,
    "start_time": "2022-12-01T10:56:57.056Z"
   },
   {
    "duration": 9,
    "start_time": "2022-12-01T10:56:57.548Z"
   },
   {
    "duration": 15,
    "start_time": "2022-12-01T10:56:57.711Z"
   },
   {
    "duration": 11,
    "start_time": "2022-12-01T10:56:58.183Z"
   },
   {
    "duration": 6,
    "start_time": "2022-12-01T10:56:59.290Z"
   },
   {
    "duration": 10,
    "start_time": "2022-12-01T10:58:13.905Z"
   },
   {
    "duration": 9,
    "start_time": "2022-12-01T10:58:48.573Z"
   },
   {
    "duration": 10,
    "start_time": "2022-12-01T10:58:49.270Z"
   },
   {
    "duration": 9,
    "start_time": "2022-12-01T10:59:21.002Z"
   },
   {
    "duration": 116,
    "start_time": "2022-12-01T11:06:42.277Z"
   },
   {
    "duration": 299,
    "start_time": "2022-12-01T11:07:04.114Z"
   },
   {
    "duration": 126,
    "start_time": "2022-12-01T11:07:25.138Z"
   },
   {
    "duration": 9,
    "start_time": "2022-12-01T11:09:44.237Z"
   },
   {
    "duration": 27,
    "start_time": "2022-12-01T11:09:52.117Z"
   },
   {
    "duration": 11,
    "start_time": "2022-12-01T11:11:30.688Z"
   },
   {
    "duration": 26,
    "start_time": "2022-12-01T11:11:36.789Z"
   },
   {
    "duration": 11,
    "start_time": "2022-12-01T11:13:06.500Z"
   },
   {
    "duration": 10,
    "start_time": "2022-12-01T11:15:16.555Z"
   },
   {
    "duration": 11,
    "start_time": "2022-12-01T11:23:16.164Z"
   },
   {
    "duration": 9,
    "start_time": "2022-12-01T11:23:26.216Z"
   },
   {
    "duration": 18,
    "start_time": "2022-12-01T11:23:40.172Z"
   },
   {
    "duration": 25,
    "start_time": "2022-12-01T11:24:41.538Z"
   },
   {
    "duration": 11,
    "start_time": "2022-12-01T11:24:41.698Z"
   },
   {
    "duration": 6,
    "start_time": "2022-12-01T11:24:50.078Z"
   },
   {
    "duration": 7,
    "start_time": "2022-12-01T11:24:50.421Z"
   },
   {
    "duration": 5,
    "start_time": "2022-12-01T11:24:50.741Z"
   },
   {
    "duration": 4,
    "start_time": "2022-12-01T11:25:19.829Z"
   },
   {
    "duration": 7,
    "start_time": "2022-12-01T11:25:20.026Z"
   },
   {
    "duration": 9,
    "start_time": "2022-12-01T11:25:20.206Z"
   },
   {
    "duration": 6,
    "start_time": "2022-12-01T11:25:56.399Z"
   },
   {
    "duration": 10,
    "start_time": "2022-12-01T11:26:08.010Z"
   },
   {
    "duration": 13,
    "start_time": "2022-12-01T11:29:45.536Z"
   },
   {
    "duration": 20,
    "start_time": "2022-12-01T11:32:49.896Z"
   },
   {
    "duration": 17,
    "start_time": "2022-12-01T11:35:17.120Z"
   },
   {
    "duration": 3,
    "start_time": "2022-12-01T11:35:21.807Z"
   },
   {
    "duration": 54,
    "start_time": "2022-12-01T11:35:21.974Z"
   },
   {
    "duration": 23,
    "start_time": "2022-12-01T11:35:22.297Z"
   },
   {
    "duration": 16,
    "start_time": "2022-12-01T11:35:22.666Z"
   },
   {
    "duration": 19,
    "start_time": "2022-12-01T11:35:23.738Z"
   },
   {
    "duration": 4,
    "start_time": "2022-12-01T11:35:24.194Z"
   },
   {
    "duration": 20,
    "start_time": "2022-12-01T11:35:24.791Z"
   },
   {
    "duration": 9,
    "start_time": "2022-12-01T11:35:25.124Z"
   },
   {
    "duration": 13,
    "start_time": "2022-12-01T11:35:25.483Z"
   },
   {
    "duration": 15,
    "start_time": "2022-12-01T11:35:25.669Z"
   },
   {
    "duration": 11,
    "start_time": "2022-12-01T11:35:26.223Z"
   },
   {
    "duration": 9,
    "start_time": "2022-12-01T11:35:26.592Z"
   },
   {
    "duration": 15,
    "start_time": "2022-12-01T11:35:27.263Z"
   },
   {
    "duration": 19,
    "start_time": "2022-12-01T11:35:27.439Z"
   },
   {
    "duration": 15,
    "start_time": "2022-12-01T11:35:28.057Z"
   },
   {
    "duration": 10,
    "start_time": "2022-12-01T11:35:28.624Z"
   },
   {
    "duration": 14,
    "start_time": "2022-12-01T11:35:29.187Z"
   },
   {
    "duration": 44,
    "start_time": "2022-12-01T11:35:29.443Z"
   },
   {
    "duration": 12,
    "start_time": "2022-12-01T11:35:30.474Z"
   },
   {
    "duration": 9,
    "start_time": "2022-12-01T11:35:31.599Z"
   },
   {
    "duration": 5,
    "start_time": "2022-12-01T11:35:31.770Z"
   },
   {
    "duration": 6,
    "start_time": "2022-12-01T11:35:32.345Z"
   },
   {
    "duration": 6,
    "start_time": "2022-12-01T11:35:32.719Z"
   },
   {
    "duration": 14,
    "start_time": "2022-12-01T11:35:33.158Z"
   },
   {
    "duration": 4,
    "start_time": "2022-12-01T11:35:33.673Z"
   },
   {
    "duration": 5,
    "start_time": "2022-12-01T11:35:37.405Z"
   },
   {
    "duration": 10,
    "start_time": "2022-12-01T11:35:37.607Z"
   },
   {
    "duration": 12,
    "start_time": "2022-12-01T11:35:38.717Z"
   },
   {
    "duration": 19,
    "start_time": "2022-12-01T11:35:39.187Z"
   },
   {
    "duration": 23,
    "start_time": "2022-12-01T11:36:52.286Z"
   },
   {
    "duration": 6,
    "start_time": "2022-12-01T11:37:24.395Z"
   },
   {
    "duration": 19,
    "start_time": "2022-12-01T11:37:25.241Z"
   },
   {
    "duration": 139,
    "start_time": "2022-12-01T12:31:08.474Z"
   },
   {
    "duration": 417,
    "start_time": "2022-12-01T12:31:17.345Z"
   },
   {
    "duration": 382,
    "start_time": "2022-12-01T12:33:36.537Z"
   },
   {
    "duration": 518,
    "start_time": "2022-12-01T12:35:39.442Z"
   },
   {
    "duration": 143,
    "start_time": "2022-12-01T12:35:44.691Z"
   },
   {
    "duration": 467,
    "start_time": "2022-12-01T12:35:44.958Z"
   },
   {
    "duration": 417,
    "start_time": "2022-12-01T12:35:57.514Z"
   },
   {
    "duration": 158,
    "start_time": "2022-12-01T12:39:53.743Z"
   },
   {
    "duration": 153,
    "start_time": "2022-12-01T12:40:09.294Z"
   },
   {
    "duration": 164,
    "start_time": "2022-12-01T12:40:17.470Z"
   },
   {
    "duration": 155,
    "start_time": "2022-12-01T12:40:35.160Z"
   },
   {
    "duration": 17,
    "start_time": "2022-12-01T12:49:13.161Z"
   },
   {
    "duration": 22,
    "start_time": "2022-12-01T12:50:14.168Z"
   },
   {
    "duration": 13,
    "start_time": "2022-12-01T12:54:11.028Z"
   },
   {
    "duration": 15,
    "start_time": "2022-12-01T12:54:14.045Z"
   },
   {
    "duration": 15,
    "start_time": "2022-12-01T12:54:26.529Z"
   },
   {
    "duration": 17,
    "start_time": "2022-12-01T12:54:26.724Z"
   },
   {
    "duration": 5,
    "start_time": "2022-12-01T13:01:06.701Z"
   },
   {
    "duration": 15,
    "start_time": "2022-12-01T13:01:07.018Z"
   },
   {
    "duration": 10,
    "start_time": "2022-12-01T13:02:35.778Z"
   },
   {
    "duration": 17,
    "start_time": "2022-12-01T13:02:37.096Z"
   },
   {
    "duration": 17,
    "start_time": "2022-12-01T13:02:47.453Z"
   },
   {
    "duration": 9,
    "start_time": "2022-12-01T13:02:48.327Z"
   },
   {
    "duration": 17,
    "start_time": "2022-12-01T13:02:48.764Z"
   },
   {
    "duration": 108,
    "start_time": "2022-12-01T13:03:00.720Z"
   },
   {
    "duration": 12,
    "start_time": "2022-12-01T13:03:03.301Z"
   },
   {
    "duration": 303,
    "start_time": "2022-12-01T13:03:37.528Z"
   },
   {
    "duration": 13,
    "start_time": "2022-12-01T13:03:39.922Z"
   },
   {
    "duration": 12,
    "start_time": "2022-12-01T13:03:49.729Z"
   },
   {
    "duration": 314,
    "start_time": "2022-12-01T13:04:15.500Z"
   },
   {
    "duration": 12,
    "start_time": "2022-12-01T13:04:19.297Z"
   },
   {
    "duration": 7,
    "start_time": "2022-12-01T13:05:08.017Z"
   },
   {
    "duration": 27,
    "start_time": "2022-12-01T13:05:14.453Z"
   },
   {
    "duration": 106,
    "start_time": "2022-12-01T13:05:48.566Z"
   },
   {
    "duration": 12,
    "start_time": "2022-12-01T13:06:02.226Z"
   },
   {
    "duration": 12,
    "start_time": "2022-12-01T13:06:05.318Z"
   },
   {
    "duration": 36,
    "start_time": "2022-12-01T13:06:09.325Z"
   },
   {
    "duration": 27,
    "start_time": "2022-12-01T13:07:13.769Z"
   },
   {
    "duration": 13,
    "start_time": "2022-12-01T13:07:19.172Z"
   },
   {
    "duration": 147,
    "start_time": "2022-12-01T13:07:38.019Z"
   },
   {
    "duration": 17,
    "start_time": "2022-12-01T13:07:40.356Z"
   },
   {
    "duration": 160,
    "start_time": "2022-12-01T13:07:40.805Z"
   },
   {
    "duration": 323,
    "start_time": "2022-12-01T13:07:41.022Z"
   },
   {
    "duration": 166,
    "start_time": "2022-12-01T13:07:41.346Z"
   },
   {
    "duration": 424,
    "start_time": "2022-12-01T13:07:41.514Z"
   },
   {
    "duration": 11,
    "start_time": "2022-12-01T13:07:41.940Z"
   },
   {
    "duration": 15,
    "start_time": "2022-12-01T13:07:42.247Z"
   },
   {
    "duration": 14,
    "start_time": "2022-12-01T13:07:46.365Z"
   },
   {
    "duration": 203,
    "start_time": "2022-12-01T13:08:40.601Z"
   },
   {
    "duration": 13,
    "start_time": "2022-12-01T13:09:56.053Z"
   },
   {
    "duration": 164,
    "start_time": "2022-12-01T13:10:07.925Z"
   },
   {
    "duration": 15,
    "start_time": "2022-12-01T13:10:10.493Z"
   },
   {
    "duration": 178,
    "start_time": "2022-12-01T13:10:18.608Z"
   },
   {
    "duration": 17,
    "start_time": "2022-12-01T13:31:00.528Z"
   },
   {
    "duration": 81,
    "start_time": "2022-12-01T13:43:14.214Z"
   },
   {
    "duration": 74,
    "start_time": "2022-12-01T13:43:24.073Z"
   },
   {
    "duration": 81,
    "start_time": "2022-12-01T13:43:45.230Z"
   },
   {
    "duration": 109,
    "start_time": "2022-12-01T13:43:47.880Z"
   },
   {
    "duration": 99,
    "start_time": "2022-12-01T13:44:21.274Z"
   },
   {
    "duration": 74,
    "start_time": "2022-12-01T14:00:30.994Z"
   },
   {
    "duration": 1480,
    "start_time": "2022-12-01T14:00:42.653Z"
   },
   {
    "duration": 188,
    "start_time": "2022-12-01T14:00:44.136Z"
   },
   {
    "duration": 25,
    "start_time": "2022-12-01T14:00:44.325Z"
   },
   {
    "duration": 17,
    "start_time": "2022-12-01T14:00:44.352Z"
   },
   {
    "duration": 16,
    "start_time": "2022-12-01T14:00:45.396Z"
   },
   {
    "duration": 3,
    "start_time": "2022-12-01T14:00:45.692Z"
   },
   {
    "duration": 14,
    "start_time": "2022-12-01T14:00:46.988Z"
   },
   {
    "duration": 7,
    "start_time": "2022-12-01T14:00:47.839Z"
   },
   {
    "duration": 11,
    "start_time": "2022-12-01T14:00:48.144Z"
   },
   {
    "duration": 13,
    "start_time": "2022-12-01T14:00:48.317Z"
   },
   {
    "duration": 4,
    "start_time": "2022-12-01T14:00:48.777Z"
   },
   {
    "duration": 9,
    "start_time": "2022-12-01T14:00:49.090Z"
   },
   {
    "duration": 7,
    "start_time": "2022-12-01T14:00:49.572Z"
   },
   {
    "duration": 13,
    "start_time": "2022-12-01T14:00:49.725Z"
   },
   {
    "duration": 9,
    "start_time": "2022-12-01T14:00:50.237Z"
   },
   {
    "duration": 9,
    "start_time": "2022-12-01T14:00:50.741Z"
   },
   {
    "duration": 8,
    "start_time": "2022-12-01T14:00:51.426Z"
   },
   {
    "duration": 23,
    "start_time": "2022-12-01T14:00:51.644Z"
   },
   {
    "duration": 8,
    "start_time": "2022-12-01T14:00:52.252Z"
   },
   {
    "duration": 6,
    "start_time": "2022-12-01T14:00:52.904Z"
   },
   {
    "duration": 5,
    "start_time": "2022-12-01T14:00:53.271Z"
   },
   {
    "duration": 6,
    "start_time": "2022-12-01T14:00:53.893Z"
   },
   {
    "duration": 5,
    "start_time": "2022-12-01T14:00:54.305Z"
   },
   {
    "duration": 5,
    "start_time": "2022-12-01T14:00:54.731Z"
   },
   {
    "duration": 9,
    "start_time": "2022-12-01T14:00:54.955Z"
   },
   {
    "duration": 4,
    "start_time": "2022-12-01T14:00:55.170Z"
   },
   {
    "duration": 7,
    "start_time": "2022-12-01T14:00:55.394Z"
   },
   {
    "duration": 11,
    "start_time": "2022-12-01T14:00:56.029Z"
   },
   {
    "duration": 15,
    "start_time": "2022-12-01T14:00:56.245Z"
   },
   {
    "duration": 6,
    "start_time": "2022-12-01T14:00:56.901Z"
   },
   {
    "duration": 14,
    "start_time": "2022-12-01T14:00:57.335Z"
   },
   {
    "duration": 142,
    "start_time": "2022-12-01T14:00:58.354Z"
   },
   {
    "duration": 17,
    "start_time": "2022-12-01T14:00:59.004Z"
   },
   {
    "duration": 146,
    "start_time": "2022-12-01T14:00:59.532Z"
   },
   {
    "duration": 131,
    "start_time": "2022-12-01T14:00:59.810Z"
   },
   {
    "duration": 137,
    "start_time": "2022-12-01T14:01:00.051Z"
   },
   {
    "duration": 407,
    "start_time": "2022-12-01T14:01:00.265Z"
   },
   {
    "duration": 6,
    "start_time": "2022-12-01T14:01:00.727Z"
   },
   {
    "duration": 15,
    "start_time": "2022-12-01T14:01:01.073Z"
   },
   {
    "duration": 12,
    "start_time": "2022-12-01T14:01:01.619Z"
   },
   {
    "duration": 160,
    "start_time": "2022-12-01T14:01:03.056Z"
   },
   {
    "duration": 151,
    "start_time": "2022-12-01T14:01:04.456Z"
   },
   {
    "duration": 268,
    "start_time": "2022-12-01T14:01:23.598Z"
   },
   {
    "duration": 14,
    "start_time": "2022-12-01T14:03:21.746Z"
   },
   {
    "duration": 14,
    "start_time": "2022-12-01T14:17:14.972Z"
   },
   {
    "duration": 15,
    "start_time": "2022-12-01T14:17:47.764Z"
   },
   {
    "duration": 15,
    "start_time": "2022-12-01T14:17:54.501Z"
   },
   {
    "duration": 15,
    "start_time": "2022-12-01T14:18:55.198Z"
   },
   {
    "duration": 64,
    "start_time": "2022-12-01T14:40:50.436Z"
   },
   {
    "duration": 1197,
    "start_time": "2022-12-01T14:42:08.469Z"
   },
   {
    "duration": 118,
    "start_time": "2022-12-01T14:42:20.420Z"
   },
   {
    "duration": 3,
    "start_time": "2022-12-01T14:42:39.200Z"
   },
   {
    "duration": 58,
    "start_time": "2022-12-01T14:42:39.366Z"
   },
   {
    "duration": 19,
    "start_time": "2022-12-01T14:42:39.538Z"
   },
   {
    "duration": 13,
    "start_time": "2022-12-01T14:42:39.717Z"
   },
   {
    "duration": 15,
    "start_time": "2022-12-01T14:42:40.449Z"
   },
   {
    "duration": 3,
    "start_time": "2022-12-01T14:42:40.799Z"
   },
   {
    "duration": 12,
    "start_time": "2022-12-01T14:42:41.349Z"
   },
   {
    "duration": 7,
    "start_time": "2022-12-01T14:42:41.664Z"
   },
   {
    "duration": 10,
    "start_time": "2022-12-01T14:42:41.990Z"
   },
   {
    "duration": 13,
    "start_time": "2022-12-01T14:42:42.157Z"
   },
   {
    "duration": 4,
    "start_time": "2022-12-01T14:42:42.697Z"
   },
   {
    "duration": 9,
    "start_time": "2022-12-01T14:42:43.018Z"
   },
   {
    "duration": 6,
    "start_time": "2022-12-01T14:42:43.599Z"
   },
   {
    "duration": 11,
    "start_time": "2022-12-01T14:42:43.809Z"
   },
   {
    "duration": 8,
    "start_time": "2022-12-01T14:42:44.353Z"
   },
   {
    "duration": 15,
    "start_time": "2022-12-01T14:42:44.950Z"
   },
   {
    "duration": 8,
    "start_time": "2022-12-01T14:42:45.491Z"
   },
   {
    "duration": 27,
    "start_time": "2022-12-01T14:42:45.666Z"
   },
   {
    "duration": 8,
    "start_time": "2022-12-01T14:42:46.244Z"
   },
   {
    "duration": 6,
    "start_time": "2022-12-01T14:42:46.772Z"
   },
   {
    "duration": 4,
    "start_time": "2022-12-01T14:42:46.951Z"
   },
   {
    "duration": 6,
    "start_time": "2022-12-01T14:42:47.544Z"
   },
   {
    "duration": 5,
    "start_time": "2022-12-01T14:42:47.887Z"
   },
   {
    "duration": 5,
    "start_time": "2022-12-01T14:42:48.246Z"
   },
   {
    "duration": 4,
    "start_time": "2022-12-01T14:42:48.453Z"
   },
   {
    "duration": 4,
    "start_time": "2022-12-01T14:42:48.647Z"
   },
   {
    "duration": 7,
    "start_time": "2022-12-01T14:42:48.849Z"
   },
   {
    "duration": 11,
    "start_time": "2022-12-01T14:42:49.515Z"
   },
   {
    "duration": 16,
    "start_time": "2022-12-01T14:42:49.715Z"
   },
   {
    "duration": 5,
    "start_time": "2022-12-01T14:42:50.314Z"
   },
   {
    "duration": 13,
    "start_time": "2022-12-01T14:42:50.698Z"
   },
   {
    "duration": 163,
    "start_time": "2022-12-01T14:42:51.681Z"
   },
   {
    "duration": 17,
    "start_time": "2022-12-01T14:42:52.370Z"
   },
   {
    "duration": 141,
    "start_time": "2022-12-01T14:42:52.796Z"
   },
   {
    "duration": 133,
    "start_time": "2022-12-01T14:42:53.041Z"
   },
   {
    "duration": 142,
    "start_time": "2022-12-01T14:42:53.184Z"
   },
   {
    "duration": 407,
    "start_time": "2022-12-01T14:42:53.334Z"
   },
   {
    "duration": 6,
    "start_time": "2022-12-01T14:42:53.742Z"
   },
   {
    "duration": 20,
    "start_time": "2022-12-01T14:42:53.940Z"
   },
   {
    "duration": 12,
    "start_time": "2022-12-01T14:42:54.327Z"
   },
   {
    "duration": 189,
    "start_time": "2022-12-01T14:42:54.856Z"
   },
   {
    "duration": 167,
    "start_time": "2022-12-01T14:42:55.262Z"
   },
   {
    "duration": 16,
    "start_time": "2022-12-01T14:42:55.810Z"
   },
   {
    "duration": 124,
    "start_time": "2022-12-01T14:42:57.568Z"
   },
   {
    "duration": 9,
    "start_time": "2022-12-01T14:43:13.714Z"
   },
   {
    "duration": 21,
    "start_time": "2022-12-01T14:43:24.536Z"
   },
   {
    "duration": 10,
    "start_time": "2022-12-01T14:43:57.496Z"
   },
   {
    "duration": 231,
    "start_time": "2022-12-01T14:44:09.254Z"
   },
   {
    "duration": 16,
    "start_time": "2022-12-01T14:44:27.970Z"
   },
   {
    "duration": 1310,
    "start_time": "2022-12-02T11:52:34.061Z"
   },
   {
    "duration": 192,
    "start_time": "2022-12-02T11:52:35.373Z"
   },
   {
    "duration": 26,
    "start_time": "2022-12-02T11:52:35.567Z"
   },
   {
    "duration": 14,
    "start_time": "2022-12-02T11:52:35.595Z"
   },
   {
    "duration": 17,
    "start_time": "2022-12-02T11:52:35.665Z"
   },
   {
    "duration": 4,
    "start_time": "2022-12-02T11:52:37.568Z"
   },
   {
    "duration": 14,
    "start_time": "2022-12-02T11:52:38.210Z"
   },
   {
    "duration": 10,
    "start_time": "2022-12-02T11:52:39.046Z"
   },
   {
    "duration": 9,
    "start_time": "2022-12-02T11:52:39.488Z"
   },
   {
    "duration": 13,
    "start_time": "2022-12-02T11:52:39.683Z"
   },
   {
    "duration": 5,
    "start_time": "2022-12-02T11:52:40.312Z"
   },
   {
    "duration": 9,
    "start_time": "2022-12-02T11:52:40.921Z"
   },
   {
    "duration": 7,
    "start_time": "2022-12-02T11:52:41.498Z"
   },
   {
    "duration": 14,
    "start_time": "2022-12-02T11:52:41.700Z"
   },
   {
    "duration": 8,
    "start_time": "2022-12-02T11:52:42.406Z"
   },
   {
    "duration": 8,
    "start_time": "2022-12-02T11:52:42.954Z"
   },
   {
    "duration": 9,
    "start_time": "2022-12-02T11:52:43.581Z"
   },
   {
    "duration": 23,
    "start_time": "2022-12-02T11:52:43.752Z"
   },
   {
    "duration": 8,
    "start_time": "2022-12-02T11:52:44.345Z"
   },
   {
    "duration": 7,
    "start_time": "2022-12-02T11:52:44.889Z"
   },
   {
    "duration": 4,
    "start_time": "2022-12-02T11:52:45.082Z"
   },
   {
    "duration": 5,
    "start_time": "2022-12-02T11:52:45.701Z"
   },
   {
    "duration": 5,
    "start_time": "2022-12-02T11:52:46.171Z"
   },
   {
    "duration": 6,
    "start_time": "2022-12-02T11:52:46.638Z"
   },
   {
    "duration": 3,
    "start_time": "2022-12-02T11:52:46.820Z"
   },
   {
    "duration": 4,
    "start_time": "2022-12-02T11:52:47.190Z"
   },
   {
    "duration": 7,
    "start_time": "2022-12-02T11:52:47.234Z"
   },
   {
    "duration": 11,
    "start_time": "2022-12-02T11:52:47.845Z"
   },
   {
    "duration": 16,
    "start_time": "2022-12-02T11:52:48.067Z"
   },
   {
    "duration": 5,
    "start_time": "2022-12-02T11:52:48.668Z"
   },
   {
    "duration": 15,
    "start_time": "2022-12-02T11:52:49.081Z"
   },
   {
    "duration": 144,
    "start_time": "2022-12-02T11:52:50.203Z"
   },
   {
    "duration": 16,
    "start_time": "2022-12-02T11:52:50.910Z"
   },
   {
    "duration": 155,
    "start_time": "2022-12-02T11:52:51.316Z"
   },
   {
    "duration": 162,
    "start_time": "2022-12-02T11:52:51.589Z"
   },
   {
    "duration": 146,
    "start_time": "2022-12-02T11:52:51.875Z"
   },
   {
    "duration": 428,
    "start_time": "2022-12-02T11:52:52.180Z"
   },
   {
    "duration": 6,
    "start_time": "2022-12-02T11:52:52.753Z"
   },
   {
    "duration": 15,
    "start_time": "2022-12-02T11:52:53.069Z"
   },
   {
    "duration": 13,
    "start_time": "2022-12-02T11:52:53.587Z"
   },
   {
    "duration": 156,
    "start_time": "2022-12-02T11:52:54.270Z"
   },
   {
    "duration": 232,
    "start_time": "2022-12-02T11:52:54.548Z"
   },
   {
    "duration": 17,
    "start_time": "2022-12-02T11:52:54.844Z"
   },
   {
    "duration": 170,
    "start_time": "2022-12-02T11:52:55.790Z"
   },
   {
    "duration": 106,
    "start_time": "2022-12-02T11:52:56.073Z"
   },
   {
    "duration": 9,
    "start_time": "2022-12-02T11:52:56.329Z"
   },
   {
    "duration": 142,
    "start_time": "2022-12-02T11:58:20.225Z"
   },
   {
    "duration": 136,
    "start_time": "2022-12-02T11:58:42.833Z"
   },
   {
    "duration": 4,
    "start_time": "2022-12-02T12:01:57.628Z"
   },
   {
    "duration": 258,
    "start_time": "2022-12-02T12:02:05.831Z"
   },
   {
    "duration": 16,
    "start_time": "2022-12-02T12:02:28.923Z"
   },
   {
    "duration": 4,
    "start_time": "2022-12-02T12:07:57.898Z"
   },
   {
    "duration": 14,
    "start_time": "2022-12-02T12:07:59.373Z"
   },
   {
    "duration": 5,
    "start_time": "2022-12-02T12:08:16.753Z"
   },
   {
    "duration": 19,
    "start_time": "2022-12-02T12:08:17.338Z"
   },
   {
    "duration": 19,
    "start_time": "2022-12-02T12:08:32.195Z"
   },
   {
    "duration": 4,
    "start_time": "2022-12-02T12:08:37.380Z"
   },
   {
    "duration": 13,
    "start_time": "2022-12-02T12:08:37.725Z"
   },
   {
    "duration": 14,
    "start_time": "2022-12-02T12:08:46.811Z"
   },
   {
    "duration": 14,
    "start_time": "2022-12-02T12:09:00.017Z"
   },
   {
    "duration": 14,
    "start_time": "2022-12-02T12:09:19.203Z"
   },
   {
    "duration": 144,
    "start_time": "2022-12-02T12:09:25.061Z"
   },
   {
    "duration": 4,
    "start_time": "2022-12-02T12:09:25.300Z"
   },
   {
    "duration": 17,
    "start_time": "2022-12-02T12:09:25.767Z"
   },
   {
    "duration": 13,
    "start_time": "2022-12-02T12:09:26.127Z"
   },
   {
    "duration": 5,
    "start_time": "2022-12-02T12:09:58.514Z"
   },
   {
    "duration": 4,
    "start_time": "2022-12-02T12:10:16.454Z"
   },
   {
    "duration": 13,
    "start_time": "2022-12-02T12:10:32.204Z"
   },
   {
    "duration": 2,
    "start_time": "2022-12-02T12:10:51.005Z"
   },
   {
    "duration": 57,
    "start_time": "2022-12-02T12:10:51.165Z"
   },
   {
    "duration": 21,
    "start_time": "2022-12-02T12:10:51.336Z"
   },
   {
    "duration": 16,
    "start_time": "2022-12-02T12:10:51.490Z"
   },
   {
    "duration": 17,
    "start_time": "2022-12-02T12:10:52.095Z"
   },
   {
    "duration": 4,
    "start_time": "2022-12-02T12:10:52.362Z"
   },
   {
    "duration": 14,
    "start_time": "2022-12-02T12:10:52.779Z"
   },
   {
    "duration": 8,
    "start_time": "2022-12-02T12:10:53.100Z"
   },
   {
    "duration": 9,
    "start_time": "2022-12-02T12:10:53.393Z"
   },
   {
    "duration": 15,
    "start_time": "2022-12-02T12:10:53.633Z"
   },
   {
    "duration": 5,
    "start_time": "2022-12-02T12:10:54.051Z"
   },
   {
    "duration": 8,
    "start_time": "2022-12-02T12:10:54.369Z"
   },
   {
    "duration": 8,
    "start_time": "2022-12-02T12:10:54.940Z"
   },
   {
    "duration": 15,
    "start_time": "2022-12-02T12:10:55.011Z"
   },
   {
    "duration": 12,
    "start_time": "2022-12-02T12:10:55.447Z"
   },
   {
    "duration": 9,
    "start_time": "2022-12-02T12:10:55.875Z"
   },
   {
    "duration": 10,
    "start_time": "2022-12-02T12:10:56.366Z"
   },
   {
    "duration": 26,
    "start_time": "2022-12-02T12:10:56.532Z"
   },
   {
    "duration": 10,
    "start_time": "2022-12-02T12:10:57.007Z"
   },
   {
    "duration": 7,
    "start_time": "2022-12-02T12:10:57.684Z"
   },
   {
    "duration": 5,
    "start_time": "2022-12-02T12:10:57.831Z"
   },
   {
    "duration": 5,
    "start_time": "2022-12-02T12:10:58.398Z"
   },
   {
    "duration": 5,
    "start_time": "2022-12-02T12:10:58.753Z"
   },
   {
    "duration": 5,
    "start_time": "2022-12-02T12:10:59.157Z"
   },
   {
    "duration": 4,
    "start_time": "2022-12-02T12:10:59.327Z"
   },
   {
    "duration": 5,
    "start_time": "2022-12-02T12:10:59.514Z"
   },
   {
    "duration": 7,
    "start_time": "2022-12-02T12:10:59.718Z"
   },
   {
    "duration": 12,
    "start_time": "2022-12-02T12:11:00.262Z"
   },
   {
    "duration": 17,
    "start_time": "2022-12-02T12:11:00.461Z"
   },
   {
    "duration": 5,
    "start_time": "2022-12-02T12:11:01.040Z"
   },
   {
    "duration": 14,
    "start_time": "2022-12-02T12:11:01.539Z"
   },
   {
    "duration": 146,
    "start_time": "2022-12-02T12:11:02.449Z"
   },
   {
    "duration": 19,
    "start_time": "2022-12-02T12:11:03.002Z"
   },
   {
    "duration": 160,
    "start_time": "2022-12-02T12:11:03.352Z"
   },
   {
    "duration": 150,
    "start_time": "2022-12-02T12:11:03.581Z"
   },
   {
    "duration": 162,
    "start_time": "2022-12-02T12:11:03.785Z"
   },
   {
    "duration": 440,
    "start_time": "2022-12-02T12:11:03.949Z"
   },
   {
    "duration": 5,
    "start_time": "2022-12-02T12:11:04.464Z"
   },
   {
    "duration": 19,
    "start_time": "2022-12-02T12:11:04.705Z"
   },
   {
    "duration": 9,
    "start_time": "2022-12-02T12:11:05.095Z"
   },
   {
    "duration": 275,
    "start_time": "2022-12-02T12:11:05.605Z"
   },
   {
    "duration": 175,
    "start_time": "2022-12-02T12:11:05.882Z"
   },
   {
    "duration": 17,
    "start_time": "2022-12-02T12:11:06.059Z"
   },
   {
    "duration": 180,
    "start_time": "2022-12-02T12:11:08.970Z"
   },
   {
    "duration": 12,
    "start_time": "2022-12-02T12:11:09.547Z"
   },
   {
    "duration": 5,
    "start_time": "2022-12-02T12:11:17.832Z"
   },
   {
    "duration": 6,
    "start_time": "2022-12-02T12:14:48.909Z"
   },
   {
    "duration": 17,
    "start_time": "2022-12-02T12:16:19.383Z"
   },
   {
    "duration": 5,
    "start_time": "2022-12-02T12:17:19.555Z"
   },
   {
    "duration": 5,
    "start_time": "2022-12-02T12:18:26.286Z"
   },
   {
    "duration": 5,
    "start_time": "2022-12-02T12:19:02.533Z"
   },
   {
    "duration": 3,
    "start_time": "2022-12-02T12:21:01.164Z"
   },
   {
    "duration": 3,
    "start_time": "2022-12-02T12:21:11.980Z"
   },
   {
    "duration": 5,
    "start_time": "2022-12-02T12:21:30.058Z"
   },
   {
    "duration": 17,
    "start_time": "2022-12-02T12:22:03.017Z"
   },
   {
    "duration": 162,
    "start_time": "2022-12-02T12:22:04.112Z"
   },
   {
    "duration": 15,
    "start_time": "2022-12-02T12:22:05.049Z"
   },
   {
    "duration": 2,
    "start_time": "2022-12-02T12:22:14.521Z"
   },
   {
    "duration": 54,
    "start_time": "2022-12-02T12:22:14.642Z"
   },
   {
    "duration": 23,
    "start_time": "2022-12-02T12:22:14.819Z"
   },
   {
    "duration": 14,
    "start_time": "2022-12-02T12:22:14.984Z"
   },
   {
    "duration": 19,
    "start_time": "2022-12-02T12:22:15.672Z"
   },
   {
    "duration": 4,
    "start_time": "2022-12-02T12:22:16.062Z"
   },
   {
    "duration": 13,
    "start_time": "2022-12-02T12:22:16.583Z"
   },
   {
    "duration": 7,
    "start_time": "2022-12-02T12:22:16.936Z"
   },
   {
    "duration": 11,
    "start_time": "2022-12-02T12:22:17.325Z"
   },
   {
    "duration": 16,
    "start_time": "2022-12-02T12:22:17.498Z"
   },
   {
    "duration": 5,
    "start_time": "2022-12-02T12:22:18.051Z"
   },
   {
    "duration": 9,
    "start_time": "2022-12-02T12:22:18.443Z"
   },
   {
    "duration": 10,
    "start_time": "2022-12-02T12:22:18.992Z"
   },
   {
    "duration": 18,
    "start_time": "2022-12-02T12:22:19.192Z"
   },
   {
    "duration": 10,
    "start_time": "2022-12-02T12:22:19.792Z"
   },
   {
    "duration": 9,
    "start_time": "2022-12-02T12:22:20.371Z"
   },
   {
    "duration": 9,
    "start_time": "2022-12-02T12:22:20.922Z"
   },
   {
    "duration": 24,
    "start_time": "2022-12-02T12:22:21.115Z"
   },
   {
    "duration": 9,
    "start_time": "2022-12-02T12:22:21.674Z"
   },
   {
    "duration": 7,
    "start_time": "2022-12-02T12:22:22.188Z"
   },
   {
    "duration": 4,
    "start_time": "2022-12-02T12:22:22.381Z"
   },
   {
    "duration": 6,
    "start_time": "2022-12-02T12:22:22.998Z"
   },
   {
    "duration": 5,
    "start_time": "2022-12-02T12:22:23.332Z"
   },
   {
    "duration": 6,
    "start_time": "2022-12-02T12:22:23.729Z"
   },
   {
    "duration": 5,
    "start_time": "2022-12-02T12:22:23.926Z"
   },
   {
    "duration": 5,
    "start_time": "2022-12-02T12:22:24.158Z"
   },
   {
    "duration": 9,
    "start_time": "2022-12-02T12:22:24.328Z"
   },
   {
    "duration": 12,
    "start_time": "2022-12-02T12:22:24.893Z"
   },
   {
    "duration": 16,
    "start_time": "2022-12-02T12:22:25.085Z"
   },
   {
    "duration": 5,
    "start_time": "2022-12-02T12:22:25.635Z"
   },
   {
    "duration": 17,
    "start_time": "2022-12-02T12:22:26.039Z"
   },
   {
    "duration": 151,
    "start_time": "2022-12-02T12:22:27.223Z"
   },
   {
    "duration": 19,
    "start_time": "2022-12-02T12:22:27.840Z"
   },
   {
    "duration": 154,
    "start_time": "2022-12-02T12:22:28.265Z"
   },
   {
    "duration": 154,
    "start_time": "2022-12-02T12:22:28.436Z"
   },
   {
    "duration": 170,
    "start_time": "2022-12-02T12:22:28.592Z"
   },
   {
    "duration": 500,
    "start_time": "2022-12-02T12:22:28.807Z"
   },
   {
    "duration": 7,
    "start_time": "2022-12-02T12:22:29.309Z"
   },
   {
    "duration": 16,
    "start_time": "2022-12-02T12:22:29.400Z"
   },
   {
    "duration": 11,
    "start_time": "2022-12-02T12:22:29.830Z"
   },
   {
    "duration": 162,
    "start_time": "2022-12-02T12:22:30.281Z"
   },
   {
    "duration": 273,
    "start_time": "2022-12-02T12:22:30.464Z"
   },
   {
    "duration": 18,
    "start_time": "2022-12-02T12:22:30.739Z"
   },
   {
    "duration": 147,
    "start_time": "2022-12-02T12:22:31.632Z"
   },
   {
    "duration": 14,
    "start_time": "2022-12-02T12:22:33.993Z"
   },
   {
    "duration": 162,
    "start_time": "2022-12-02T12:22:48.711Z"
   },
   {
    "duration": 268,
    "start_time": "2022-12-02T12:22:52.423Z"
   },
   {
    "duration": 242,
    "start_time": "2022-12-02T12:23:27.621Z"
   },
   {
    "duration": 246,
    "start_time": "2022-12-02T12:24:31.350Z"
   },
   {
    "duration": 247,
    "start_time": "2022-12-02T12:24:37.514Z"
   },
   {
    "duration": 4,
    "start_time": "2022-12-02T12:24:51.623Z"
   },
   {
    "duration": 271,
    "start_time": "2022-12-02T12:24:53.368Z"
   },
   {
    "duration": 15,
    "start_time": "2022-12-02T12:25:14.504Z"
   },
   {
    "duration": 244,
    "start_time": "2022-12-02T12:25:18.386Z"
   },
   {
    "duration": 243,
    "start_time": "2022-12-02T12:26:21.431Z"
   },
   {
    "duration": 236,
    "start_time": "2022-12-02T12:27:03.542Z"
   },
   {
    "duration": 1213,
    "start_time": "2022-12-02T12:33:04.375Z"
   },
   {
    "duration": 284,
    "start_time": "2022-12-02T12:33:26.527Z"
   },
   {
    "duration": 3,
    "start_time": "2022-12-02T12:33:58.509Z"
   },
   {
    "duration": 53,
    "start_time": "2022-12-02T12:33:59.603Z"
   },
   {
    "duration": 21,
    "start_time": "2022-12-02T12:33:59.757Z"
   },
   {
    "duration": 14,
    "start_time": "2022-12-02T12:33:59.915Z"
   },
   {
    "duration": 17,
    "start_time": "2022-12-02T12:34:00.584Z"
   },
   {
    "duration": 4,
    "start_time": "2022-12-02T12:34:00.926Z"
   },
   {
    "duration": 13,
    "start_time": "2022-12-02T12:34:01.450Z"
   },
   {
    "duration": 8,
    "start_time": "2022-12-02T12:34:01.801Z"
   },
   {
    "duration": 10,
    "start_time": "2022-12-02T12:34:02.189Z"
   },
   {
    "duration": 15,
    "start_time": "2022-12-02T12:34:02.351Z"
   },
   {
    "duration": 5,
    "start_time": "2022-12-02T12:34:02.906Z"
   },
   {
    "duration": 8,
    "start_time": "2022-12-02T12:34:03.271Z"
   },
   {
    "duration": 10,
    "start_time": "2022-12-02T12:34:03.837Z"
   },
   {
    "duration": 16,
    "start_time": "2022-12-02T12:34:04.047Z"
   },
   {
    "duration": 9,
    "start_time": "2022-12-02T12:34:04.602Z"
   },
   {
    "duration": 9,
    "start_time": "2022-12-02T12:34:05.156Z"
   },
   {
    "duration": 9,
    "start_time": "2022-12-02T12:34:05.737Z"
   },
   {
    "duration": 23,
    "start_time": "2022-12-02T12:34:05.937Z"
   },
   {
    "duration": 8,
    "start_time": "2022-12-02T12:34:06.527Z"
   },
   {
    "duration": 7,
    "start_time": "2022-12-02T12:34:07.119Z"
   },
   {
    "duration": 5,
    "start_time": "2022-12-02T12:34:07.338Z"
   },
   {
    "duration": 7,
    "start_time": "2022-12-02T12:34:07.909Z"
   },
   {
    "duration": 5,
    "start_time": "2022-12-02T12:34:08.264Z"
   },
   {
    "duration": 5,
    "start_time": "2022-12-02T12:34:08.649Z"
   },
   {
    "duration": 5,
    "start_time": "2022-12-02T12:34:08.813Z"
   },
   {
    "duration": 6,
    "start_time": "2022-12-02T12:34:08.998Z"
   },
   {
    "duration": 8,
    "start_time": "2022-12-02T12:34:09.182Z"
   },
   {
    "duration": 14,
    "start_time": "2022-12-02T12:34:09.722Z"
   },
   {
    "duration": 15,
    "start_time": "2022-12-02T12:34:09.915Z"
   },
   {
    "duration": 6,
    "start_time": "2022-12-02T12:34:10.522Z"
   },
   {
    "duration": 23,
    "start_time": "2022-12-02T12:34:10.908Z"
   },
   {
    "duration": 179,
    "start_time": "2022-12-02T12:34:11.916Z"
   },
   {
    "duration": 19,
    "start_time": "2022-12-02T12:34:12.503Z"
   },
   {
    "duration": 157,
    "start_time": "2022-12-02T12:34:12.911Z"
   },
   {
    "duration": 144,
    "start_time": "2022-12-02T12:34:13.172Z"
   },
   {
    "duration": 147,
    "start_time": "2022-12-02T12:34:13.353Z"
   },
   {
    "duration": 432,
    "start_time": "2022-12-02T12:34:13.562Z"
   },
   {
    "duration": 6,
    "start_time": "2022-12-02T12:34:13.998Z"
   },
   {
    "duration": 16,
    "start_time": "2022-12-02T12:34:14.217Z"
   },
   {
    "duration": 10,
    "start_time": "2022-12-02T12:34:14.651Z"
   },
   {
    "duration": 160,
    "start_time": "2022-12-02T12:34:15.121Z"
   },
   {
    "duration": 166,
    "start_time": "2022-12-02T12:34:15.346Z"
   },
   {
    "duration": 18,
    "start_time": "2022-12-02T12:34:15.854Z"
   },
   {
    "duration": 164,
    "start_time": "2022-12-02T12:34:17.622Z"
   },
   {
    "duration": 14,
    "start_time": "2022-12-02T12:34:19.557Z"
   },
   {
    "duration": 248,
    "start_time": "2022-12-02T12:34:40.592Z"
   },
   {
    "duration": 19,
    "start_time": "2022-12-02T12:38:14.453Z"
   },
   {
    "duration": 25,
    "start_time": "2022-12-02T12:38:48.201Z"
   },
   {
    "duration": 267,
    "start_time": "2022-12-02T12:41:38.831Z"
   },
   {
    "duration": 16,
    "start_time": "2022-12-02T12:58:08.114Z"
   },
   {
    "duration": 15,
    "start_time": "2022-12-02T13:04:59.960Z"
   },
   {
    "duration": 19,
    "start_time": "2022-12-02T13:05:21.113Z"
   },
   {
    "duration": 145,
    "start_time": "2022-12-02T13:10:46.631Z"
   },
   {
    "duration": 172,
    "start_time": "2022-12-02T13:10:51.627Z"
   },
   {
    "duration": 299,
    "start_time": "2022-12-02T13:10:58.371Z"
   },
   {
    "duration": 152,
    "start_time": "2022-12-02T13:11:02.914Z"
   },
   {
    "duration": 17,
    "start_time": "2022-12-02T13:19:11.749Z"
   },
   {
    "duration": 3,
    "start_time": "2022-12-02T13:42:10.714Z"
   },
   {
    "duration": 3,
    "start_time": "2022-12-02T13:45:32.374Z"
   },
   {
    "duration": 53,
    "start_time": "2022-12-02T13:45:32.517Z"
   },
   {
    "duration": 21,
    "start_time": "2022-12-02T13:45:32.690Z"
   },
   {
    "duration": 16,
    "start_time": "2022-12-02T13:45:32.843Z"
   },
   {
    "duration": 24,
    "start_time": "2022-12-02T13:45:33.841Z"
   },
   {
    "duration": 4,
    "start_time": "2022-12-02T13:45:34.167Z"
   },
   {
    "duration": 16,
    "start_time": "2022-12-02T13:45:34.741Z"
   },
   {
    "duration": 9,
    "start_time": "2022-12-02T13:45:35.168Z"
   },
   {
    "duration": 10,
    "start_time": "2022-12-02T13:45:35.676Z"
   },
   {
    "duration": 15,
    "start_time": "2022-12-02T13:45:35.889Z"
   },
   {
    "duration": 6,
    "start_time": "2022-12-02T13:45:36.424Z"
   },
   {
    "duration": 10,
    "start_time": "2022-12-02T13:45:36.777Z"
   },
   {
    "duration": 7,
    "start_time": "2022-12-02T13:45:37.326Z"
   },
   {
    "duration": 14,
    "start_time": "2022-12-02T13:45:37.486Z"
   },
   {
    "duration": 8,
    "start_time": "2022-12-02T13:45:37.997Z"
   },
   {
    "duration": 9,
    "start_time": "2022-12-02T13:45:38.471Z"
   },
   {
    "duration": 11,
    "start_time": "2022-12-02T13:45:39.036Z"
   },
   {
    "duration": 27,
    "start_time": "2022-12-02T13:45:39.224Z"
   },
   {
    "duration": 9,
    "start_time": "2022-12-02T13:45:39.768Z"
   },
   {
    "duration": 6,
    "start_time": "2022-12-02T13:45:40.308Z"
   },
   {
    "duration": 4,
    "start_time": "2022-12-02T13:45:40.501Z"
   },
   {
    "duration": 5,
    "start_time": "2022-12-02T13:45:41.099Z"
   },
   {
    "duration": 5,
    "start_time": "2022-12-02T13:45:41.486Z"
   },
   {
    "duration": 6,
    "start_time": "2022-12-02T13:45:41.902Z"
   },
   {
    "duration": 5,
    "start_time": "2022-12-02T13:45:42.121Z"
   },
   {
    "duration": 5,
    "start_time": "2022-12-02T13:45:42.326Z"
   },
   {
    "duration": 7,
    "start_time": "2022-12-02T13:45:42.522Z"
   },
   {
    "duration": 12,
    "start_time": "2022-12-02T13:45:43.163Z"
   },
   {
    "duration": 16,
    "start_time": "2022-12-02T13:45:43.366Z"
   },
   {
    "duration": 5,
    "start_time": "2022-12-02T13:45:44.025Z"
   },
   {
    "duration": 14,
    "start_time": "2022-12-02T13:45:44.432Z"
   },
   {
    "duration": 150,
    "start_time": "2022-12-02T13:45:45.531Z"
   },
   {
    "duration": 17,
    "start_time": "2022-12-02T13:45:46.141Z"
   },
   {
    "duration": 155,
    "start_time": "2022-12-02T13:45:46.545Z"
   },
   {
    "duration": 149,
    "start_time": "2022-12-02T13:45:46.777Z"
   },
   {
    "duration": 150,
    "start_time": "2022-12-02T13:45:46.954Z"
   },
   {
    "duration": 414,
    "start_time": "2022-12-02T13:45:47.131Z"
   },
   {
    "duration": 6,
    "start_time": "2022-12-02T13:45:47.547Z"
   },
   {
    "duration": 14,
    "start_time": "2022-12-02T13:45:47.692Z"
   },
   {
    "duration": 9,
    "start_time": "2022-12-02T13:45:48.115Z"
   },
   {
    "duration": 154,
    "start_time": "2022-12-02T13:45:48.503Z"
   },
   {
    "duration": 188,
    "start_time": "2022-12-02T13:45:48.711Z"
   },
   {
    "duration": 22,
    "start_time": "2022-12-02T13:45:48.917Z"
   },
   {
    "duration": 147,
    "start_time": "2022-12-02T13:45:49.578Z"
   },
   {
    "duration": 147,
    "start_time": "2022-12-02T13:45:50.020Z"
   },
   {
    "duration": 17,
    "start_time": "2022-12-02T13:45:50.477Z"
   },
   {
    "duration": 15,
    "start_time": "2022-12-02T13:45:51.162Z"
   },
   {
    "duration": 14,
    "start_time": "2022-12-02T13:45:52.602Z"
   },
   {
    "duration": 15,
    "start_time": "2022-12-02T13:45:53.577Z"
   },
   {
    "duration": 14,
    "start_time": "2022-12-02T13:45:54.460Z"
   },
   {
    "duration": 18,
    "start_time": "2022-12-02T13:45:55.031Z"
   },
   {
    "duration": 15,
    "start_time": "2022-12-02T13:45:55.902Z"
   },
   {
    "duration": 14,
    "start_time": "2022-12-02T13:45:56.172Z"
   },
   {
    "duration": 15,
    "start_time": "2022-12-02T13:45:56.245Z"
   },
   {
    "duration": 15,
    "start_time": "2022-12-02T13:45:56.847Z"
   },
   {
    "duration": 15,
    "start_time": "2022-12-02T13:45:57.134Z"
   },
   {
    "duration": 15,
    "start_time": "2022-12-02T13:45:57.237Z"
   },
   {
    "duration": 8,
    "start_time": "2022-12-02T16:35:30.556Z"
   },
   {
    "duration": 11,
    "start_time": "2022-12-02T16:35:42.108Z"
   },
   {
    "duration": 6,
    "start_time": "2022-12-02T16:39:28.802Z"
   },
   {
    "duration": 4,
    "start_time": "2022-12-02T16:40:41.825Z"
   },
   {
    "duration": 54,
    "start_time": "2022-12-02T16:40:42.012Z"
   },
   {
    "duration": 20,
    "start_time": "2022-12-02T16:40:42.174Z"
   },
   {
    "duration": 17,
    "start_time": "2022-12-02T16:40:42.305Z"
   },
   {
    "duration": 18,
    "start_time": "2022-12-02T16:40:42.913Z"
   },
   {
    "duration": 4,
    "start_time": "2022-12-02T16:40:43.217Z"
   },
   {
    "duration": 13,
    "start_time": "2022-12-02T16:40:43.758Z"
   },
   {
    "duration": 8,
    "start_time": "2022-12-02T16:40:44.147Z"
   },
   {
    "duration": 10,
    "start_time": "2022-12-02T16:40:44.483Z"
   },
   {
    "duration": 14,
    "start_time": "2022-12-02T16:40:44.660Z"
   },
   {
    "duration": 5,
    "start_time": "2022-12-02T16:40:45.113Z"
   },
   {
    "duration": 9,
    "start_time": "2022-12-02T16:40:45.443Z"
   },
   {
    "duration": 9,
    "start_time": "2022-12-02T16:40:45.949Z"
   },
   {
    "duration": 15,
    "start_time": "2022-12-02T16:40:46.112Z"
   },
   {
    "duration": 9,
    "start_time": "2022-12-02T16:40:46.623Z"
   },
   {
    "duration": 11,
    "start_time": "2022-12-02T16:40:47.208Z"
   },
   {
    "duration": 9,
    "start_time": "2022-12-02T16:40:47.856Z"
   },
   {
    "duration": 23,
    "start_time": "2022-12-02T16:40:48.043Z"
   },
   {
    "duration": 8,
    "start_time": "2022-12-02T16:40:48.665Z"
   },
   {
    "duration": 7,
    "start_time": "2022-12-02T16:40:49.289Z"
   },
   {
    "duration": 5,
    "start_time": "2022-12-02T16:40:49.494Z"
   },
   {
    "duration": 6,
    "start_time": "2022-12-02T16:40:50.085Z"
   },
   {
    "duration": 4,
    "start_time": "2022-12-02T16:40:50.532Z"
   },
   {
    "duration": 6,
    "start_time": "2022-12-02T16:40:51.024Z"
   },
   {
    "duration": 4,
    "start_time": "2022-12-02T16:40:51.220Z"
   },
   {
    "duration": 5,
    "start_time": "2022-12-02T16:40:51.438Z"
   },
   {
    "duration": 10,
    "start_time": "2022-12-02T16:40:51.636Z"
   },
   {
    "duration": 14,
    "start_time": "2022-12-02T16:40:52.239Z"
   },
   {
    "duration": 16,
    "start_time": "2022-12-02T16:40:52.476Z"
   },
   {
    "duration": 4,
    "start_time": "2022-12-02T16:40:52.880Z"
   },
   {
    "duration": 5,
    "start_time": "2022-12-02T16:40:53.511Z"
   },
   {
    "duration": 21,
    "start_time": "2022-12-02T16:40:53.938Z"
   },
   {
    "duration": 136,
    "start_time": "2022-12-02T16:40:55.014Z"
   },
   {
    "duration": 16,
    "start_time": "2022-12-02T16:40:55.683Z"
   },
   {
    "duration": 149,
    "start_time": "2022-12-02T16:40:56.126Z"
   },
   {
    "duration": 135,
    "start_time": "2022-12-02T16:40:56.349Z"
   },
   {
    "duration": 149,
    "start_time": "2022-12-02T16:40:56.580Z"
   },
   {
    "duration": 540,
    "start_time": "2022-12-02T16:40:56.788Z"
   },
   {
    "duration": 11,
    "start_time": "2022-12-02T16:40:57.330Z"
   },
   {
    "duration": 15,
    "start_time": "2022-12-02T16:40:57.466Z"
   },
   {
    "duration": 10,
    "start_time": "2022-12-02T16:40:57.863Z"
   },
   {
    "duration": 158,
    "start_time": "2022-12-02T16:40:58.333Z"
   },
   {
    "duration": 152,
    "start_time": "2022-12-02T16:40:58.559Z"
   },
   {
    "duration": 20,
    "start_time": "2022-12-02T16:40:58.799Z"
   },
   {
    "duration": 146,
    "start_time": "2022-12-02T16:40:59.422Z"
   },
   {
    "duration": 142,
    "start_time": "2022-12-02T16:40:59.813Z"
   },
   {
    "duration": 15,
    "start_time": "2022-12-02T16:41:00.243Z"
   },
   {
    "duration": 16,
    "start_time": "2022-12-02T16:41:00.949Z"
   },
   {
    "duration": 13,
    "start_time": "2022-12-02T16:41:02.061Z"
   },
   {
    "duration": 15,
    "start_time": "2022-12-02T16:41:03.468Z"
   },
   {
    "duration": 16,
    "start_time": "2022-12-02T16:41:04.058Z"
   },
   {
    "duration": 16,
    "start_time": "2022-12-02T16:41:05.009Z"
   },
   {
    "duration": 14,
    "start_time": "2022-12-02T16:41:06.451Z"
   },
   {
    "duration": 16,
    "start_time": "2022-12-02T16:41:07.132Z"
   },
   {
    "duration": 15,
    "start_time": "2022-12-02T16:41:07.735Z"
   },
   {
    "duration": 15,
    "start_time": "2022-12-02T16:41:08.430Z"
   },
   {
    "duration": 15,
    "start_time": "2022-12-02T16:41:08.973Z"
   },
   {
    "duration": 14,
    "start_time": "2022-12-02T16:41:09.417Z"
   },
   {
    "duration": 14,
    "start_time": "2022-12-02T16:52:01.697Z"
   },
   {
    "duration": 9,
    "start_time": "2022-12-02T16:54:16.090Z"
   },
   {
    "duration": 161,
    "start_time": "2022-12-02T16:54:17.023Z"
   },
   {
    "duration": 151,
    "start_time": "2022-12-02T16:54:17.445Z"
   },
   {
    "duration": 15,
    "start_time": "2022-12-02T16:54:18.756Z"
   },
   {
    "duration": 142,
    "start_time": "2022-12-02T16:54:22.205Z"
   },
   {
    "duration": 165,
    "start_time": "2022-12-02T16:54:28.726Z"
   },
   {
    "duration": 17,
    "start_time": "2022-12-02T16:55:06.427Z"
   },
   {
    "duration": 18,
    "start_time": "2022-12-02T16:55:07.996Z"
   },
   {
    "duration": 13,
    "start_time": "2022-12-02T16:55:09.666Z"
   },
   {
    "duration": 15,
    "start_time": "2022-12-02T16:55:10.141Z"
   },
   {
    "duration": 16,
    "start_time": "2022-12-02T16:55:10.446Z"
   },
   {
    "duration": 14,
    "start_time": "2022-12-02T16:55:19.708Z"
   },
   {
    "duration": 14,
    "start_time": "2022-12-02T16:55:25.659Z"
   },
   {
    "duration": 14,
    "start_time": "2022-12-02T16:55:32.372Z"
   },
   {
    "duration": 14,
    "start_time": "2022-12-02T16:55:39.734Z"
   },
   {
    "duration": 14,
    "start_time": "2022-12-02T16:55:49.970Z"
   },
   {
    "duration": 13,
    "start_time": "2022-12-02T16:55:58.950Z"
   },
   {
    "duration": 14,
    "start_time": "2022-12-02T16:56:05.958Z"
   },
   {
    "duration": 16,
    "start_time": "2022-12-02T16:59:38.595Z"
   },
   {
    "duration": 1178,
    "start_time": "2022-12-03T10:08:58.328Z"
   },
   {
    "duration": 111,
    "start_time": "2022-12-03T10:08:59.508Z"
   },
   {
    "duration": 21,
    "start_time": "2022-12-03T10:08:59.620Z"
   },
   {
    "duration": 13,
    "start_time": "2022-12-03T10:08:59.643Z"
   },
   {
    "duration": 32,
    "start_time": "2022-12-03T10:08:59.657Z"
   },
   {
    "duration": 3,
    "start_time": "2022-12-03T10:08:59.789Z"
   },
   {
    "duration": 12,
    "start_time": "2022-12-03T10:09:00.336Z"
   },
   {
    "duration": 7,
    "start_time": "2022-12-03T10:09:00.719Z"
   },
   {
    "duration": 9,
    "start_time": "2022-12-03T10:09:01.064Z"
   },
   {
    "duration": 13,
    "start_time": "2022-12-03T10:09:02.135Z"
   },
   {
    "duration": 4,
    "start_time": "2022-12-03T10:09:02.657Z"
   },
   {
    "duration": 7,
    "start_time": "2022-12-03T10:09:03.026Z"
   },
   {
    "duration": 7,
    "start_time": "2022-12-03T10:09:03.788Z"
   },
   {
    "duration": 13,
    "start_time": "2022-12-03T10:09:03.988Z"
   },
   {
    "duration": 10,
    "start_time": "2022-12-03T10:09:04.572Z"
   },
   {
    "duration": 8,
    "start_time": "2022-12-03T10:09:05.170Z"
   },
   {
    "duration": 10,
    "start_time": "2022-12-03T10:09:07.158Z"
   },
   {
    "duration": 20,
    "start_time": "2022-12-03T10:09:07.333Z"
   },
   {
    "duration": 9,
    "start_time": "2022-12-03T10:09:07.933Z"
   },
   {
    "duration": 5,
    "start_time": "2022-12-03T10:09:08.549Z"
   },
   {
    "duration": 3,
    "start_time": "2022-12-03T10:09:08.725Z"
   },
   {
    "duration": 5,
    "start_time": "2022-12-03T10:09:09.354Z"
   },
   {
    "duration": 4,
    "start_time": "2022-12-03T10:09:09.739Z"
   },
   {
    "duration": 5,
    "start_time": "2022-12-03T10:09:10.157Z"
   },
   {
    "duration": 3,
    "start_time": "2022-12-03T10:09:10.333Z"
   },
   {
    "duration": 4,
    "start_time": "2022-12-03T10:09:10.547Z"
   },
   {
    "duration": 6,
    "start_time": "2022-12-03T10:09:10.746Z"
   },
   {
    "duration": 10,
    "start_time": "2022-12-03T10:09:11.338Z"
   },
   {
    "duration": 14,
    "start_time": "2022-12-03T10:09:11.510Z"
   },
   {
    "duration": 4,
    "start_time": "2022-12-03T10:09:11.920Z"
   },
   {
    "duration": 5,
    "start_time": "2022-12-03T10:09:12.562Z"
   },
   {
    "duration": 11,
    "start_time": "2022-12-03T10:09:13.026Z"
   },
   {
    "duration": 131,
    "start_time": "2022-12-03T10:09:14.075Z"
   },
   {
    "duration": 15,
    "start_time": "2022-12-03T10:09:14.717Z"
   },
   {
    "duration": 168,
    "start_time": "2022-12-03T10:09:15.164Z"
   },
   {
    "duration": 136,
    "start_time": "2022-12-03T10:09:15.391Z"
   },
   {
    "duration": 126,
    "start_time": "2022-12-03T10:09:15.597Z"
   },
   {
    "duration": 336,
    "start_time": "2022-12-03T10:09:15.842Z"
   },
   {
    "duration": 5,
    "start_time": "2022-12-03T10:09:16.290Z"
   },
   {
    "duration": 14,
    "start_time": "2022-12-03T10:09:16.500Z"
   },
   {
    "duration": 8,
    "start_time": "2022-12-03T10:09:16.909Z"
   },
   {
    "duration": 145,
    "start_time": "2022-12-03T10:09:17.347Z"
   },
   {
    "duration": 139,
    "start_time": "2022-12-03T10:09:17.570Z"
   },
   {
    "duration": 16,
    "start_time": "2022-12-03T10:09:17.788Z"
   },
   {
    "duration": 186,
    "start_time": "2022-12-03T10:09:18.467Z"
   },
   {
    "duration": 126,
    "start_time": "2022-12-03T10:09:18.883Z"
   },
   {
    "duration": 14,
    "start_time": "2022-12-03T10:09:19.366Z"
   },
   {
    "duration": 14,
    "start_time": "2022-12-03T10:09:20.052Z"
   },
   {
    "duration": 12,
    "start_time": "2022-12-03T10:09:21.396Z"
   },
   {
    "duration": 12,
    "start_time": "2022-12-03T10:09:22.020Z"
   },
   {
    "duration": 12,
    "start_time": "2022-12-03T10:09:22.240Z"
   },
   {
    "duration": 13,
    "start_time": "2022-12-03T10:09:22.479Z"
   },
   {
    "duration": 19,
    "start_time": "2022-12-03T10:09:22.957Z"
   },
   {
    "duration": 12,
    "start_time": "2022-12-03T10:09:23.208Z"
   },
   {
    "duration": 18,
    "start_time": "2022-12-03T10:09:23.438Z"
   },
   {
    "duration": 12,
    "start_time": "2022-12-03T10:09:24.096Z"
   },
   {
    "duration": 13,
    "start_time": "2022-12-03T10:09:24.320Z"
   },
   {
    "duration": 12,
    "start_time": "2022-12-03T10:09:24.623Z"
   },
   {
    "duration": 12,
    "start_time": "2022-12-03T10:10:31.592Z"
   },
   {
    "duration": 5,
    "start_time": "2022-12-03T10:38:37.910Z"
   },
   {
    "duration": 7,
    "start_time": "2022-12-03T10:39:16.529Z"
   },
   {
    "duration": 6,
    "start_time": "2022-12-03T10:40:15.161Z"
   },
   {
    "duration": 7,
    "start_time": "2022-12-03T10:40:46.280Z"
   },
   {
    "duration": 4,
    "start_time": "2022-12-03T10:42:47.929Z"
   },
   {
    "duration": 4,
    "start_time": "2022-12-03T10:43:00.616Z"
   },
   {
    "duration": 3,
    "start_time": "2022-12-03T10:43:10.046Z"
   },
   {
    "duration": 48,
    "start_time": "2022-12-03T10:43:10.209Z"
   },
   {
    "duration": 19,
    "start_time": "2022-12-03T10:43:10.356Z"
   },
   {
    "duration": 14,
    "start_time": "2022-12-03T10:43:10.502Z"
   },
   {
    "duration": 15,
    "start_time": "2022-12-03T10:43:11.135Z"
   },
   {
    "duration": 3,
    "start_time": "2022-12-03T10:43:11.466Z"
   },
   {
    "duration": 11,
    "start_time": "2022-12-03T10:43:11.950Z"
   },
   {
    "duration": 6,
    "start_time": "2022-12-03T10:43:12.267Z"
   },
   {
    "duration": 9,
    "start_time": "2022-12-03T10:43:12.611Z"
   },
   {
    "duration": 13,
    "start_time": "2022-12-03T10:43:12.810Z"
   },
   {
    "duration": 5,
    "start_time": "2022-12-03T10:43:13.333Z"
   },
   {
    "duration": 8,
    "start_time": "2022-12-03T10:43:13.722Z"
   },
   {
    "duration": 6,
    "start_time": "2022-12-03T10:43:14.286Z"
   },
   {
    "duration": 12,
    "start_time": "2022-12-03T10:43:14.460Z"
   },
   {
    "duration": 9,
    "start_time": "2022-12-03T10:43:15.025Z"
   },
   {
    "duration": 12,
    "start_time": "2022-12-03T10:43:15.596Z"
   },
   {
    "duration": 8,
    "start_time": "2022-12-03T10:43:16.145Z"
   },
   {
    "duration": 21,
    "start_time": "2022-12-03T10:43:16.336Z"
   },
   {
    "duration": 8,
    "start_time": "2022-12-03T10:43:16.852Z"
   },
   {
    "duration": 5,
    "start_time": "2022-12-03T10:43:17.404Z"
   },
   {
    "duration": 5,
    "start_time": "2022-12-03T10:43:17.623Z"
   },
   {
    "duration": 6,
    "start_time": "2022-12-03T10:43:18.292Z"
   },
   {
    "duration": 5,
    "start_time": "2022-12-03T10:43:18.595Z"
   },
   {
    "duration": 5,
    "start_time": "2022-12-03T10:43:18.962Z"
   },
   {
    "duration": 4,
    "start_time": "2022-12-03T10:43:19.159Z"
   },
   {
    "duration": 4,
    "start_time": "2022-12-03T10:43:19.368Z"
   },
   {
    "duration": 7,
    "start_time": "2022-12-03T10:43:19.550Z"
   },
   {
    "duration": 14,
    "start_time": "2022-12-03T10:43:20.117Z"
   },
   {
    "duration": 23,
    "start_time": "2022-12-03T10:43:20.293Z"
   },
   {
    "duration": 4,
    "start_time": "2022-12-03T10:43:20.658Z"
   },
   {
    "duration": 5,
    "start_time": "2022-12-03T10:43:21.120Z"
   },
   {
    "duration": 12,
    "start_time": "2022-12-03T10:43:21.569Z"
   },
   {
    "duration": 127,
    "start_time": "2022-12-03T10:43:22.607Z"
   },
   {
    "duration": 16,
    "start_time": "2022-12-03T10:43:23.394Z"
   },
   {
    "duration": 159,
    "start_time": "2022-12-03T10:43:23.794Z"
   },
   {
    "duration": 136,
    "start_time": "2022-12-03T10:43:24.020Z"
   },
   {
    "duration": 124,
    "start_time": "2022-12-03T10:43:24.212Z"
   },
   {
    "duration": 384,
    "start_time": "2022-12-03T10:43:24.409Z"
   },
   {
    "duration": 6,
    "start_time": "2022-12-03T10:43:24.849Z"
   },
   {
    "duration": 19,
    "start_time": "2022-12-03T10:43:25.026Z"
   },
   {
    "duration": 12,
    "start_time": "2022-12-03T10:43:25.418Z"
   },
   {
    "duration": 138,
    "start_time": "2022-12-03T10:43:25.802Z"
   },
   {
    "duration": 148,
    "start_time": "2022-12-03T10:43:26.011Z"
   },
   {
    "duration": 22,
    "start_time": "2022-12-03T10:43:26.410Z"
   },
   {
    "duration": 163,
    "start_time": "2022-12-03T10:43:27.022Z"
   },
   {
    "duration": 205,
    "start_time": "2022-12-03T10:43:27.425Z"
   },
   {
    "duration": 14,
    "start_time": "2022-12-03T10:43:27.873Z"
   },
   {
    "duration": 12,
    "start_time": "2022-12-03T10:43:28.448Z"
   },
   {
    "duration": 12,
    "start_time": "2022-12-03T10:43:29.529Z"
   },
   {
    "duration": 12,
    "start_time": "2022-12-03T10:43:29.891Z"
   },
   {
    "duration": 12,
    "start_time": "2022-12-03T10:43:30.162Z"
   },
   {
    "duration": 13,
    "start_time": "2022-12-03T10:43:30.320Z"
   },
   {
    "duration": 13,
    "start_time": "2022-12-03T10:43:30.976Z"
   },
   {
    "duration": 57,
    "start_time": "2022-12-03T10:43:31.169Z"
   },
   {
    "duration": 18,
    "start_time": "2022-12-03T10:43:31.423Z"
   },
   {
    "duration": 18,
    "start_time": "2022-12-03T10:43:32.077Z"
   },
   {
    "duration": 16,
    "start_time": "2022-12-03T10:43:32.365Z"
   },
   {
    "duration": 15,
    "start_time": "2022-12-03T10:43:32.591Z"
   },
   {
    "duration": 8,
    "start_time": "2022-12-03T10:43:34.516Z"
   },
   {
    "duration": 4,
    "start_time": "2022-12-03T10:43:35.044Z"
   },
   {
    "duration": 4,
    "start_time": "2022-12-03T10:43:41.874Z"
   },
   {
    "duration": 7,
    "start_time": "2022-12-03T10:43:50.638Z"
   },
   {
    "duration": 9,
    "start_time": "2022-12-03T10:44:03.455Z"
   },
   {
    "duration": 23,
    "start_time": "2022-12-03T10:44:17.071Z"
   },
   {
    "duration": 309,
    "start_time": "2022-12-03T10:44:41.150Z"
   },
   {
    "duration": 21,
    "start_time": "2022-12-03T10:45:08.448Z"
   },
   {
    "duration": 25,
    "start_time": "2022-12-03T10:45:15.907Z"
   },
   {
    "duration": 241,
    "start_time": "2022-12-03T10:45:45.834Z"
   },
   {
    "duration": 5,
    "start_time": "2022-12-03T10:46:01.979Z"
   },
   {
    "duration": 10,
    "start_time": "2022-12-03T11:44:58.614Z"
   },
   {
    "duration": 165,
    "start_time": "2022-12-03T11:44:59.790Z"
   },
   {
    "duration": 13,
    "start_time": "2022-12-03T11:45:27.433Z"
   },
   {
    "duration": 11,
    "start_time": "2022-12-03T11:45:47.660Z"
   },
   {
    "duration": 12,
    "start_time": "2022-12-03T11:46:06.027Z"
   },
   {
    "duration": 6,
    "start_time": "2022-12-03T11:46:17.940Z"
   },
   {
    "duration": 5,
    "start_time": "2022-12-03T11:46:28.108Z"
   },
   {
    "duration": 11,
    "start_time": "2022-12-03T11:49:41.701Z"
   },
   {
    "duration": 7,
    "start_time": "2022-12-03T11:51:51.947Z"
   },
   {
    "duration": 9,
    "start_time": "2022-12-03T11:52:09.345Z"
   },
   {
    "duration": 11,
    "start_time": "2022-12-03T11:53:23.315Z"
   },
   {
    "duration": 5,
    "start_time": "2022-12-03T11:53:26.391Z"
   },
   {
    "duration": 5,
    "start_time": "2022-12-03T11:53:36.144Z"
   },
   {
    "duration": 12,
    "start_time": "2022-12-03T11:54:40.931Z"
   },
   {
    "duration": 12,
    "start_time": "2022-12-03T11:54:43.406Z"
   },
   {
    "duration": 3,
    "start_time": "2022-12-03T12:01:00.697Z"
   },
   {
    "duration": 53,
    "start_time": "2022-12-03T12:01:00.857Z"
   },
   {
    "duration": 19,
    "start_time": "2022-12-03T12:01:01.035Z"
   },
   {
    "duration": 14,
    "start_time": "2022-12-03T12:01:01.210Z"
   },
   {
    "duration": 15,
    "start_time": "2022-12-03T12:01:01.949Z"
   },
   {
    "duration": 3,
    "start_time": "2022-12-03T12:01:02.349Z"
   },
   {
    "duration": 12,
    "start_time": "2022-12-03T12:01:02.949Z"
   },
   {
    "duration": 7,
    "start_time": "2022-12-03T12:01:03.337Z"
   },
   {
    "duration": 8,
    "start_time": "2022-12-03T12:01:03.826Z"
   },
   {
    "duration": 12,
    "start_time": "2022-12-03T12:01:03.979Z"
   },
   {
    "duration": 5,
    "start_time": "2022-12-03T12:01:04.594Z"
   },
   {
    "duration": 8,
    "start_time": "2022-12-03T12:01:04.980Z"
   },
   {
    "duration": 8,
    "start_time": "2022-12-03T12:01:05.559Z"
   },
   {
    "duration": 13,
    "start_time": "2022-12-03T12:01:05.853Z"
   },
   {
    "duration": 8,
    "start_time": "2022-12-03T12:01:06.396Z"
   },
   {
    "duration": 8,
    "start_time": "2022-12-03T12:01:07.035Z"
   },
   {
    "duration": 8,
    "start_time": "2022-12-03T12:01:07.700Z"
   },
   {
    "duration": 22,
    "start_time": "2022-12-03T12:01:07.922Z"
   },
   {
    "duration": 9,
    "start_time": "2022-12-03T12:01:08.594Z"
   },
   {
    "duration": 6,
    "start_time": "2022-12-03T12:01:09.176Z"
   },
   {
    "duration": 4,
    "start_time": "2022-12-03T12:01:09.367Z"
   },
   {
    "duration": 5,
    "start_time": "2022-12-03T12:01:10.063Z"
   },
   {
    "duration": 4,
    "start_time": "2022-12-03T12:01:10.466Z"
   },
   {
    "duration": 5,
    "start_time": "2022-12-03T12:01:10.922Z"
   },
   {
    "duration": 4,
    "start_time": "2022-12-03T12:01:11.097Z"
   },
   {
    "duration": 3,
    "start_time": "2022-12-03T12:01:11.297Z"
   },
   {
    "duration": 7,
    "start_time": "2022-12-03T12:01:11.516Z"
   },
   {
    "duration": 11,
    "start_time": "2022-12-03T12:01:12.148Z"
   },
   {
    "duration": 14,
    "start_time": "2022-12-03T12:01:12.328Z"
   },
   {
    "duration": 4,
    "start_time": "2022-12-03T12:01:12.891Z"
   },
   {
    "duration": 5,
    "start_time": "2022-12-03T12:01:13.425Z"
   },
   {
    "duration": 14,
    "start_time": "2022-12-03T12:01:13.810Z"
   },
   {
    "duration": 125,
    "start_time": "2022-12-03T12:01:14.981Z"
   },
   {
    "duration": 22,
    "start_time": "2022-12-03T12:01:15.818Z"
   },
   {
    "duration": 133,
    "start_time": "2022-12-03T12:01:16.294Z"
   },
   {
    "duration": 132,
    "start_time": "2022-12-03T12:01:16.533Z"
   },
   {
    "duration": 126,
    "start_time": "2022-12-03T12:01:16.792Z"
   },
   {
    "duration": 396,
    "start_time": "2022-12-03T12:01:17.059Z"
   },
   {
    "duration": 5,
    "start_time": "2022-12-03T12:01:17.595Z"
   },
   {
    "duration": 15,
    "start_time": "2022-12-03T12:01:17.833Z"
   },
   {
    "duration": 9,
    "start_time": "2022-12-03T12:01:18.605Z"
   },
   {
    "duration": 137,
    "start_time": "2022-12-03T12:01:19.366Z"
   },
   {
    "duration": 142,
    "start_time": "2022-12-03T12:01:19.699Z"
   },
   {
    "duration": 19,
    "start_time": "2022-12-03T12:01:19.956Z"
   },
   {
    "duration": 136,
    "start_time": "2022-12-03T12:01:20.602Z"
   },
   {
    "duration": 130,
    "start_time": "2022-12-03T12:01:21.057Z"
   },
   {
    "duration": 17,
    "start_time": "2022-12-03T12:01:21.555Z"
   },
   {
    "duration": 14,
    "start_time": "2022-12-03T12:01:22.694Z"
   },
   {
    "duration": 12,
    "start_time": "2022-12-03T12:01:24.081Z"
   },
   {
    "duration": 12,
    "start_time": "2022-12-03T12:01:24.861Z"
   },
   {
    "duration": 12,
    "start_time": "2022-12-03T12:01:25.257Z"
   },
   {
    "duration": 14,
    "start_time": "2022-12-03T12:01:25.640Z"
   },
   {
    "duration": 13,
    "start_time": "2022-12-03T12:01:26.216Z"
   },
   {
    "duration": 13,
    "start_time": "2022-12-03T12:01:26.396Z"
   },
   {
    "duration": 13,
    "start_time": "2022-12-03T12:01:26.665Z"
   },
   {
    "duration": 12,
    "start_time": "2022-12-03T12:01:27.047Z"
   },
   {
    "duration": 13,
    "start_time": "2022-12-03T12:01:27.178Z"
   },
   {
    "duration": 14,
    "start_time": "2022-12-03T12:01:27.358Z"
   },
   {
    "duration": 12,
    "start_time": "2022-12-03T12:01:29.032Z"
   },
   {
    "duration": 5,
    "start_time": "2022-12-03T12:01:29.328Z"
   },
   {
    "duration": 5,
    "start_time": "2022-12-03T12:01:29.641Z"
   },
   {
    "duration": 13,
    "start_time": "2022-12-03T12:01:30.020Z"
   },
   {
    "duration": 12,
    "start_time": "2022-12-03T12:14:06.007Z"
   },
   {
    "duration": 4,
    "start_time": "2022-12-03T12:14:06.735Z"
   },
   {
    "duration": 12,
    "start_time": "2022-12-03T12:15:26.599Z"
   },
   {
    "duration": 4,
    "start_time": "2022-12-03T12:15:27.549Z"
   },
   {
    "duration": 3,
    "start_time": "2022-12-03T12:15:48.876Z"
   },
   {
    "duration": 56,
    "start_time": "2022-12-03T12:15:49.059Z"
   },
   {
    "duration": 21,
    "start_time": "2022-12-03T12:15:49.249Z"
   },
   {
    "duration": 13,
    "start_time": "2022-12-03T12:15:49.443Z"
   },
   {
    "duration": 15,
    "start_time": "2022-12-03T12:15:50.157Z"
   },
   {
    "duration": 3,
    "start_time": "2022-12-03T12:15:50.539Z"
   },
   {
    "duration": 12,
    "start_time": "2022-12-03T12:15:51.109Z"
   },
   {
    "duration": 7,
    "start_time": "2022-12-03T12:15:51.480Z"
   },
   {
    "duration": 7,
    "start_time": "2022-12-03T12:15:51.868Z"
   },
   {
    "duration": 12,
    "start_time": "2022-12-03T12:15:52.067Z"
   },
   {
    "duration": 3,
    "start_time": "2022-12-03T12:15:52.626Z"
   },
   {
    "duration": 8,
    "start_time": "2022-12-03T12:15:53.005Z"
   },
   {
    "duration": 10,
    "start_time": "2022-12-03T12:15:53.564Z"
   },
   {
    "duration": 14,
    "start_time": "2022-12-03T12:15:53.745Z"
   },
   {
    "duration": 9,
    "start_time": "2022-12-03T12:15:54.328Z"
   },
   {
    "duration": 8,
    "start_time": "2022-12-03T12:15:54.887Z"
   },
   {
    "duration": 8,
    "start_time": "2022-12-03T12:15:55.459Z"
   },
   {
    "duration": 23,
    "start_time": "2022-12-03T12:15:55.647Z"
   },
   {
    "duration": 7,
    "start_time": "2022-12-03T12:15:56.250Z"
   },
   {
    "duration": 7,
    "start_time": "2022-12-03T12:15:56.890Z"
   },
   {
    "duration": 4,
    "start_time": "2022-12-03T12:15:57.098Z"
   },
   {
    "duration": 5,
    "start_time": "2022-12-03T12:15:57.696Z"
   },
   {
    "duration": 4,
    "start_time": "2022-12-03T12:15:58.095Z"
   },
   {
    "duration": 5,
    "start_time": "2022-12-03T12:15:58.509Z"
   },
   {
    "duration": 4,
    "start_time": "2022-12-03T12:15:58.736Z"
   },
   {
    "duration": 6,
    "start_time": "2022-12-03T12:15:59.137Z"
   },
   {
    "duration": 11,
    "start_time": "2022-12-03T12:15:59.823Z"
   },
   {
    "duration": 14,
    "start_time": "2022-12-03T12:16:00.022Z"
   },
   {
    "duration": 4,
    "start_time": "2022-12-03T12:16:00.436Z"
   },
   {
    "duration": 5,
    "start_time": "2022-12-03T12:16:01.013Z"
   },
   {
    "duration": 12,
    "start_time": "2022-12-03T12:16:01.398Z"
   },
   {
    "duration": 127,
    "start_time": "2022-12-03T12:16:02.456Z"
   },
   {
    "duration": 16,
    "start_time": "2022-12-03T12:16:03.075Z"
   },
   {
    "duration": 227,
    "start_time": "2022-12-03T12:16:03.457Z"
   },
   {
    "duration": 126,
    "start_time": "2022-12-03T12:16:03.696Z"
   },
   {
    "duration": 129,
    "start_time": "2022-12-03T12:16:03.895Z"
   },
   {
    "duration": 349,
    "start_time": "2022-12-03T12:16:04.092Z"
   },
   {
    "duration": 5,
    "start_time": "2022-12-03T12:16:04.501Z"
   },
   {
    "duration": 14,
    "start_time": "2022-12-03T12:16:04.721Z"
   },
   {
    "duration": 8,
    "start_time": "2022-12-03T12:16:05.124Z"
   },
   {
    "duration": 148,
    "start_time": "2022-12-03T12:16:05.614Z"
   },
   {
    "duration": 142,
    "start_time": "2022-12-03T12:16:05.992Z"
   },
   {
    "duration": 16,
    "start_time": "2022-12-03T12:16:06.375Z"
   },
   {
    "duration": 124,
    "start_time": "2022-12-03T12:16:07.231Z"
   },
   {
    "duration": 126,
    "start_time": "2022-12-03T12:16:07.696Z"
   },
   {
    "duration": 16,
    "start_time": "2022-12-03T12:16:08.563Z"
   },
   {
    "duration": 14,
    "start_time": "2022-12-03T12:16:09.378Z"
   },
   {
    "duration": 12,
    "start_time": "2022-12-03T12:16:12.314Z"
   },
   {
    "duration": 12,
    "start_time": "2022-12-03T12:16:12.758Z"
   },
   {
    "duration": 14,
    "start_time": "2022-12-03T12:16:12.801Z"
   },
   {
    "duration": 14,
    "start_time": "2022-12-03T12:16:12.977Z"
   },
   {
    "duration": 14,
    "start_time": "2022-12-03T12:16:13.480Z"
   },
   {
    "duration": 17,
    "start_time": "2022-12-03T12:16:13.652Z"
   },
   {
    "duration": 14,
    "start_time": "2022-12-03T12:16:13.843Z"
   },
   {
    "duration": 13,
    "start_time": "2022-12-03T12:16:14.559Z"
   },
   {
    "duration": 12,
    "start_time": "2022-12-03T12:16:14.735Z"
   },
   {
    "duration": 14,
    "start_time": "2022-12-03T12:16:14.904Z"
   },
   {
    "duration": 12,
    "start_time": "2022-12-03T12:16:23.092Z"
   },
   {
    "duration": 13,
    "start_time": "2022-12-03T12:16:23.234Z"
   },
   {
    "duration": 13,
    "start_time": "2022-12-03T12:16:23.803Z"
   },
   {
    "duration": 13,
    "start_time": "2022-12-03T12:16:23.979Z"
   },
   {
    "duration": 13,
    "start_time": "2022-12-03T12:16:24.137Z"
   },
   {
    "duration": 12,
    "start_time": "2022-12-03T12:16:26.569Z"
   },
   {
    "duration": 6,
    "start_time": "2022-12-03T12:16:26.778Z"
   },
   {
    "duration": 5,
    "start_time": "2022-12-03T12:18:33.321Z"
   },
   {
    "duration": 5,
    "start_time": "2022-12-03T12:18:45.201Z"
   },
   {
    "duration": 5,
    "start_time": "2022-12-03T12:18:50.478Z"
   },
   {
    "duration": 4,
    "start_time": "2022-12-03T12:24:58.239Z"
   },
   {
    "duration": 5,
    "start_time": "2022-12-03T12:26:51.609Z"
   },
   {
    "duration": 5,
    "start_time": "2022-12-03T12:29:38.580Z"
   },
   {
    "duration": 5,
    "start_time": "2022-12-03T12:29:47.213Z"
   },
   {
    "duration": 5,
    "start_time": "2022-12-03T12:30:38.396Z"
   },
   {
    "duration": 4,
    "start_time": "2022-12-03T12:38:44.712Z"
   },
   {
    "duration": 7,
    "start_time": "2022-12-03T12:39:55.606Z"
   },
   {
    "duration": 5,
    "start_time": "2022-12-03T13:09:09.524Z"
   },
   {
    "duration": 6,
    "start_time": "2022-12-03T13:10:14.998Z"
   },
   {
    "duration": 14,
    "start_time": "2022-12-03T13:34:26.073Z"
   },
   {
    "duration": 5,
    "start_time": "2022-12-03T13:34:43.200Z"
   },
   {
    "duration": 4,
    "start_time": "2022-12-03T13:34:47.462Z"
   },
   {
    "duration": 5,
    "start_time": "2022-12-03T13:34:54.463Z"
   },
   {
    "duration": 6,
    "start_time": "2022-12-03T13:35:00.709Z"
   },
   {
    "duration": 5,
    "start_time": "2022-12-03T13:35:07.651Z"
   },
   {
    "duration": 11,
    "start_time": "2022-12-03T13:35:27.139Z"
   },
   {
    "duration": 5,
    "start_time": "2022-12-03T13:35:27.414Z"
   },
   {
    "duration": 5,
    "start_time": "2022-12-03T14:11:50.310Z"
   },
   {
    "duration": 5,
    "start_time": "2022-12-03T14:11:58.091Z"
   },
   {
    "duration": 5,
    "start_time": "2022-12-03T14:12:53.571Z"
   },
   {
    "duration": 5,
    "start_time": "2022-12-03T14:13:23.199Z"
   },
   {
    "duration": 3,
    "start_time": "2022-12-03T14:14:41.335Z"
   },
   {
    "duration": 50,
    "start_time": "2022-12-03T14:14:41.571Z"
   },
   {
    "duration": 18,
    "start_time": "2022-12-03T14:14:41.815Z"
   },
   {
    "duration": 13,
    "start_time": "2022-12-03T14:14:44.856Z"
   },
   {
    "duration": 17,
    "start_time": "2022-12-03T14:15:16.873Z"
   },
   {
    "duration": 3,
    "start_time": "2022-12-03T14:15:17.614Z"
   },
   {
    "duration": 12,
    "start_time": "2022-12-03T14:15:19.700Z"
   },
   {
    "duration": 7,
    "start_time": "2022-12-03T14:15:23.408Z"
   },
   {
    "duration": 11,
    "start_time": "2022-12-03T14:15:23.768Z"
   },
   {
    "duration": 14,
    "start_time": "2022-12-03T14:15:23.932Z"
   },
   {
    "duration": 4,
    "start_time": "2022-12-03T14:15:32.002Z"
   },
   {
    "duration": 8,
    "start_time": "2022-12-03T14:16:00.033Z"
   },
   {
    "duration": 7,
    "start_time": "2022-12-03T14:16:14.702Z"
   },
   {
    "duration": 13,
    "start_time": "2022-12-03T14:16:14.856Z"
   },
   {
    "duration": 8,
    "start_time": "2022-12-03T14:16:17.439Z"
   },
   {
    "duration": 8,
    "start_time": "2022-12-03T14:16:21.113Z"
   },
   {
    "duration": 9,
    "start_time": "2022-12-03T14:16:26.868Z"
   },
   {
    "duration": 23,
    "start_time": "2022-12-03T14:16:30.386Z"
   },
   {
    "duration": 9,
    "start_time": "2022-12-03T14:16:37.256Z"
   },
   {
    "duration": 6,
    "start_time": "2022-12-03T14:16:41.389Z"
   },
   {
    "duration": 4,
    "start_time": "2022-12-03T14:16:41.631Z"
   },
   {
    "duration": 4,
    "start_time": "2022-12-03T14:16:47.876Z"
   },
   {
    "duration": 5,
    "start_time": "2022-12-03T14:17:02.658Z"
   },
   {
    "duration": 5,
    "start_time": "2022-12-03T14:17:06.062Z"
   },
   {
    "duration": 3,
    "start_time": "2022-12-03T14:17:07.589Z"
   },
   {
    "duration": 5,
    "start_time": "2022-12-03T14:17:13.188Z"
   },
   {
    "duration": 10,
    "start_time": "2022-12-03T14:17:19.981Z"
   },
   {
    "duration": 14,
    "start_time": "2022-12-03T14:17:20.654Z"
   },
   {
    "duration": 5,
    "start_time": "2022-12-03T14:17:21.001Z"
   },
   {
    "duration": 4,
    "start_time": "2022-12-03T14:17:41.174Z"
   },
   {
    "duration": 13,
    "start_time": "2022-12-03T14:17:44.697Z"
   },
   {
    "duration": 125,
    "start_time": "2022-12-03T14:19:21.647Z"
   },
   {
    "duration": 16,
    "start_time": "2022-12-03T14:19:34.820Z"
   },
   {
    "duration": 178,
    "start_time": "2022-12-03T14:19:45.211Z"
   },
   {
    "duration": 128,
    "start_time": "2022-12-03T14:19:47.821Z"
   },
   {
    "duration": 126,
    "start_time": "2022-12-03T14:19:47.974Z"
   },
   {
    "duration": 453,
    "start_time": "2022-12-03T14:19:48.183Z"
   },
   {
    "duration": 5,
    "start_time": "2022-12-03T14:19:49.664Z"
   },
   {
    "duration": 5,
    "start_time": "2022-12-03T14:20:14.680Z"
   },
   {
    "duration": 12,
    "start_time": "2022-12-03T14:20:14.903Z"
   },
   {
    "duration": 8,
    "start_time": "2022-12-03T14:20:26.292Z"
   },
   {
    "duration": 140,
    "start_time": "2022-12-03T14:20:27.577Z"
   },
   {
    "duration": 130,
    "start_time": "2022-12-03T14:20:33.809Z"
   },
   {
    "duration": 13,
    "start_time": "2022-12-03T14:20:34.035Z"
   },
   {
    "duration": 128,
    "start_time": "2022-12-03T14:21:22.602Z"
   },
   {
    "duration": 126,
    "start_time": "2022-12-03T14:21:24.054Z"
   },
   {
    "duration": 13,
    "start_time": "2022-12-03T14:21:38.304Z"
   },
   {
    "duration": 16,
    "start_time": "2022-12-03T14:22:04.270Z"
   },
   {
    "duration": 11,
    "start_time": "2022-12-03T14:23:08.551Z"
   },
   {
    "duration": 13,
    "start_time": "2022-12-03T14:23:09.381Z"
   },
   {
    "duration": 13,
    "start_time": "2022-12-03T14:23:09.572Z"
   },
   {
    "duration": 13,
    "start_time": "2022-12-03T14:23:09.754Z"
   },
   {
    "duration": 12,
    "start_time": "2022-12-03T14:23:28.091Z"
   },
   {
    "duration": 12,
    "start_time": "2022-12-03T14:23:28.292Z"
   },
   {
    "duration": 13,
    "start_time": "2022-12-03T14:23:28.471Z"
   },
   {
    "duration": 13,
    "start_time": "2022-12-03T14:23:44.650Z"
   },
   {
    "duration": 13,
    "start_time": "2022-12-03T14:23:44.794Z"
   },
   {
    "duration": 15,
    "start_time": "2022-12-03T14:23:45.211Z"
   },
   {
    "duration": 11,
    "start_time": "2022-12-03T14:24:57.898Z"
   },
   {
    "duration": 5,
    "start_time": "2022-12-03T14:24:58.095Z"
   },
   {
    "duration": 1345,
    "start_time": "2022-12-03T16:21:15.486Z"
   },
   {
    "duration": 111,
    "start_time": "2022-12-03T16:21:16.840Z"
   },
   {
    "duration": 24,
    "start_time": "2022-12-03T16:21:16.954Z"
   },
   {
    "duration": 29,
    "start_time": "2022-12-03T16:21:16.981Z"
   },
   {
    "duration": 17,
    "start_time": "2022-12-03T16:21:17.012Z"
   },
   {
    "duration": 3,
    "start_time": "2022-12-03T16:21:17.030Z"
   },
   {
    "duration": 30,
    "start_time": "2022-12-03T16:21:17.034Z"
   },
   {
    "duration": 6,
    "start_time": "2022-12-03T16:21:17.066Z"
   },
   {
    "duration": 9,
    "start_time": "2022-12-03T16:21:17.074Z"
   },
   {
    "duration": 13,
    "start_time": "2022-12-03T16:21:17.085Z"
   },
   {
    "duration": 5,
    "start_time": "2022-12-03T16:21:17.099Z"
   },
   {
    "duration": 14,
    "start_time": "2022-12-03T16:21:17.105Z"
   },
   {
    "duration": 23,
    "start_time": "2022-12-03T16:21:17.120Z"
   },
   {
    "duration": 17,
    "start_time": "2022-12-03T16:21:17.144Z"
   },
   {
    "duration": 8,
    "start_time": "2022-12-03T16:21:17.163Z"
   },
   {
    "duration": 7,
    "start_time": "2022-12-03T16:21:17.173Z"
   },
   {
    "duration": 7,
    "start_time": "2022-12-03T16:21:17.182Z"
   },
   {
    "duration": 53,
    "start_time": "2022-12-03T16:21:17.190Z"
   },
   {
    "duration": 9,
    "start_time": "2022-12-03T16:21:17.252Z"
   },
   {
    "duration": 7,
    "start_time": "2022-12-03T16:21:17.262Z"
   },
   {
    "duration": 4,
    "start_time": "2022-12-03T16:21:17.271Z"
   },
   {
    "duration": 6,
    "start_time": "2022-12-03T16:21:17.277Z"
   },
   {
    "duration": 7,
    "start_time": "2022-12-03T16:21:17.285Z"
   },
   {
    "duration": 6,
    "start_time": "2022-12-03T16:21:17.293Z"
   },
   {
    "duration": 16,
    "start_time": "2022-12-03T16:21:17.301Z"
   },
   {
    "duration": 15,
    "start_time": "2022-12-03T16:21:17.318Z"
   },
   {
    "duration": 19,
    "start_time": "2022-12-03T16:21:17.338Z"
   },
   {
    "duration": 15,
    "start_time": "2022-12-03T16:21:17.360Z"
   },
   {
    "duration": 4,
    "start_time": "2022-12-03T16:21:17.377Z"
   },
   {
    "duration": 5,
    "start_time": "2022-12-03T16:21:17.384Z"
   },
   {
    "duration": 12,
    "start_time": "2022-12-03T16:21:17.391Z"
   },
   {
    "duration": 169,
    "start_time": "2022-12-03T16:21:17.405Z"
   },
   {
    "duration": 15,
    "start_time": "2022-12-03T16:21:17.576Z"
   },
   {
    "duration": 165,
    "start_time": "2022-12-03T16:21:17.593Z"
   },
   {
    "duration": 138,
    "start_time": "2022-12-03T16:21:17.760Z"
   },
   {
    "duration": 140,
    "start_time": "2022-12-03T16:21:17.900Z"
   },
   {
    "duration": 363,
    "start_time": "2022-12-03T16:21:18.042Z"
   },
   {
    "duration": 4,
    "start_time": "2022-12-03T16:21:18.407Z"
   },
   {
    "duration": 34,
    "start_time": "2022-12-03T16:21:18.413Z"
   },
   {
    "duration": 17,
    "start_time": "2022-12-03T16:21:18.449Z"
   },
   {
    "duration": 141,
    "start_time": "2022-12-03T16:21:18.467Z"
   },
   {
    "duration": 162,
    "start_time": "2022-12-03T16:21:18.610Z"
   },
   {
    "duration": 15,
    "start_time": "2022-12-03T16:21:18.774Z"
   },
   {
    "duration": 224,
    "start_time": "2022-12-03T16:21:18.791Z"
   },
   {
    "duration": 167,
    "start_time": "2022-12-03T16:21:19.017Z"
   },
   {
    "duration": 21,
    "start_time": "2022-12-03T16:21:19.187Z"
   },
   {
    "duration": 42,
    "start_time": "2022-12-03T16:21:19.210Z"
   },
   {
    "duration": 15,
    "start_time": "2022-12-03T16:21:19.255Z"
   },
   {
    "duration": 25,
    "start_time": "2022-12-03T16:21:19.272Z"
   },
   {
    "duration": 33,
    "start_time": "2022-12-03T16:21:19.300Z"
   },
   {
    "duration": 29,
    "start_time": "2022-12-03T16:21:19.335Z"
   },
   {
    "duration": 27,
    "start_time": "2022-12-03T16:21:19.366Z"
   },
   {
    "duration": 38,
    "start_time": "2022-12-03T16:21:19.394Z"
   },
   {
    "duration": 43,
    "start_time": "2022-12-03T16:21:19.434Z"
   },
   {
    "duration": 23,
    "start_time": "2022-12-03T16:21:19.478Z"
   },
   {
    "duration": 26,
    "start_time": "2022-12-03T16:21:19.503Z"
   },
   {
    "duration": 32,
    "start_time": "2022-12-03T16:21:19.531Z"
   },
   {
    "duration": 26,
    "start_time": "2022-12-03T16:21:19.565Z"
   },
   {
    "duration": 29,
    "start_time": "2022-12-03T16:21:19.593Z"
   },
   {
    "duration": 47,
    "start_time": "2022-12-03T16:21:19.624Z"
   },
   {
    "duration": 15,
    "start_time": "2022-12-03T16:21:19.673Z"
   },
   {
    "duration": 1424,
    "start_time": "2022-12-05T09:59:33.013Z"
   },
   {
    "duration": 106,
    "start_time": "2022-12-05T09:59:34.439Z"
   },
   {
    "duration": 26,
    "start_time": "2022-12-05T09:59:34.547Z"
   },
   {
    "duration": 25,
    "start_time": "2022-12-05T09:59:34.575Z"
   },
   {
    "duration": 16,
    "start_time": "2022-12-05T09:59:34.649Z"
   },
   {
    "duration": 3,
    "start_time": "2022-12-05T09:59:35.008Z"
   },
   {
    "duration": 13,
    "start_time": "2022-12-05T09:59:36.250Z"
   },
   {
    "duration": 8,
    "start_time": "2022-12-05T09:59:36.890Z"
   },
   {
    "duration": 8,
    "start_time": "2022-12-05T09:59:37.248Z"
   },
   {
    "duration": 13,
    "start_time": "2022-12-05T09:59:37.412Z"
   },
   {
    "duration": 4,
    "start_time": "2022-12-05T09:59:37.957Z"
   },
   {
    "duration": 10,
    "start_time": "2022-12-05T09:59:38.349Z"
   },
   {
    "duration": 7,
    "start_time": "2022-12-05T09:59:38.902Z"
   },
   {
    "duration": 14,
    "start_time": "2022-12-05T09:59:39.155Z"
   },
   {
    "duration": 10,
    "start_time": "2022-12-05T09:59:40.051Z"
   },
   {
    "duration": 9,
    "start_time": "2022-12-05T09:59:40.604Z"
   },
   {
    "duration": 10,
    "start_time": "2022-12-05T09:59:41.216Z"
   },
   {
    "duration": 24,
    "start_time": "2022-12-05T09:59:41.448Z"
   },
   {
    "duration": 8,
    "start_time": "2022-12-05T09:59:42.058Z"
   },
   {
    "duration": 7,
    "start_time": "2022-12-05T09:59:42.870Z"
   },
   {
    "duration": 5,
    "start_time": "2022-12-05T09:59:43.151Z"
   },
   {
    "duration": 5,
    "start_time": "2022-12-05T09:59:43.948Z"
   },
   {
    "duration": 5,
    "start_time": "2022-12-05T09:59:44.360Z"
   },
   {
    "duration": 7,
    "start_time": "2022-12-05T09:59:46.772Z"
   },
   {
    "duration": 3,
    "start_time": "2022-12-05T09:59:46.951Z"
   },
   {
    "duration": 6,
    "start_time": "2022-12-05T09:59:47.118Z"
   },
   {
    "duration": 4,
    "start_time": "2022-12-05T10:00:00.773Z"
   },
   {
    "duration": 4,
    "start_time": "2022-12-05T10:00:05.849Z"
   },
   {
    "duration": 62,
    "start_time": "2022-12-05T10:00:06.165Z"
   },
   {
    "duration": 28,
    "start_time": "2022-12-05T10:00:06.346Z"
   },
   {
    "duration": 19,
    "start_time": "2022-12-05T10:00:06.493Z"
   },
   {
    "duration": 15,
    "start_time": "2022-12-05T10:00:07.318Z"
   },
   {
    "duration": 4,
    "start_time": "2022-12-05T10:00:07.670Z"
   },
   {
    "duration": 14,
    "start_time": "2022-12-05T10:00:08.403Z"
   },
   {
    "duration": 8,
    "start_time": "2022-12-05T10:00:08.766Z"
   },
   {
    "duration": 10,
    "start_time": "2022-12-05T10:00:09.145Z"
   },
   {
    "duration": 17,
    "start_time": "2022-12-05T10:00:09.311Z"
   },
   {
    "duration": 5,
    "start_time": "2022-12-05T10:00:09.909Z"
   },
   {
    "duration": 8,
    "start_time": "2022-12-05T10:00:10.313Z"
   },
   {
    "duration": 8,
    "start_time": "2022-12-05T10:00:10.883Z"
   },
   {
    "duration": 13,
    "start_time": "2022-12-05T10:00:11.071Z"
   },
   {
    "duration": 10,
    "start_time": "2022-12-05T10:00:11.846Z"
   },
   {
    "duration": 9,
    "start_time": "2022-12-05T10:00:12.390Z"
   },
   {
    "duration": 9,
    "start_time": "2022-12-05T10:00:12.956Z"
   },
   {
    "duration": 23,
    "start_time": "2022-12-05T10:00:13.157Z"
   },
   {
    "duration": 8,
    "start_time": "2022-12-05T10:00:13.749Z"
   },
   {
    "duration": 7,
    "start_time": "2022-12-05T10:00:14.300Z"
   },
   {
    "duration": 4,
    "start_time": "2022-12-05T10:00:14.513Z"
   },
   {
    "duration": 5,
    "start_time": "2022-12-05T10:00:15.147Z"
   },
   {
    "duration": 5,
    "start_time": "2022-12-05T10:00:15.518Z"
   },
   {
    "duration": 5,
    "start_time": "2022-12-05T10:00:17.219Z"
   },
   {
    "duration": 6,
    "start_time": "2022-12-05T10:00:17.850Z"
   },
   {
    "duration": 14,
    "start_time": "2022-12-05T10:00:32.667Z"
   },
   {
    "duration": 11,
    "start_time": "2022-12-05T10:04:34.006Z"
   },
   {
    "duration": 22,
    "start_time": "2022-12-05T10:04:34.194Z"
   },
   {
    "duration": 4,
    "start_time": "2022-12-05T10:04:34.760Z"
   },
   {
    "duration": 6,
    "start_time": "2022-12-05T10:04:35.396Z"
   },
   {
    "duration": 15,
    "start_time": "2022-12-05T10:04:35.822Z"
   },
   {
    "duration": 156,
    "start_time": "2022-12-05T10:04:37.700Z"
   },
   {
    "duration": 20,
    "start_time": "2022-12-05T10:04:39.025Z"
   },
   {
    "duration": 171,
    "start_time": "2022-12-05T10:04:39.628Z"
   },
   {
    "duration": 151,
    "start_time": "2022-12-05T10:04:39.972Z"
   },
   {
    "duration": 174,
    "start_time": "2022-12-05T10:04:40.254Z"
   },
   {
    "duration": 432,
    "start_time": "2022-12-05T10:04:40.592Z"
   },
   {
    "duration": 3,
    "start_time": "2022-12-05T10:04:54.301Z"
   },
   {
    "duration": 52,
    "start_time": "2022-12-05T10:04:58.556Z"
   },
   {
    "duration": 20,
    "start_time": "2022-12-05T10:04:58.811Z"
   },
   {
    "duration": 16,
    "start_time": "2022-12-05T10:04:59.236Z"
   },
   {
    "duration": 15,
    "start_time": "2022-12-05T10:05:02.860Z"
   },
   {
    "duration": 7,
    "start_time": "2022-12-05T10:05:03.334Z"
   },
   {
    "duration": 14,
    "start_time": "2022-12-05T10:05:10.507Z"
   },
   {
    "duration": 7,
    "start_time": "2022-12-05T10:05:11.028Z"
   },
   {
    "duration": 9,
    "start_time": "2022-12-05T10:05:11.479Z"
   },
   {
    "duration": 14,
    "start_time": "2022-12-05T10:05:11.717Z"
   },
   {
    "duration": 5,
    "start_time": "2022-12-05T10:05:12.453Z"
   },
   {
    "duration": 8,
    "start_time": "2022-12-05T10:05:12.896Z"
   },
   {
    "duration": 8,
    "start_time": "2022-12-05T10:05:13.542Z"
   },
   {
    "duration": 14,
    "start_time": "2022-12-05T10:05:13.757Z"
   },
   {
    "duration": 9,
    "start_time": "2022-12-05T10:05:14.656Z"
   },
   {
    "duration": 9,
    "start_time": "2022-12-05T10:05:15.692Z"
   },
   {
    "duration": 9,
    "start_time": "2022-12-05T10:05:16.456Z"
   },
   {
    "duration": 28,
    "start_time": "2022-12-05T10:05:16.692Z"
   },
   {
    "duration": 9,
    "start_time": "2022-12-05T10:05:17.436Z"
   },
   {
    "duration": 7,
    "start_time": "2022-12-05T10:05:18.302Z"
   },
   {
    "duration": 5,
    "start_time": "2022-12-05T10:05:18.697Z"
   },
   {
    "duration": 6,
    "start_time": "2022-12-05T10:05:19.716Z"
   },
   {
    "duration": 5,
    "start_time": "2022-12-05T10:05:20.243Z"
   },
   {
    "duration": 5,
    "start_time": "2022-12-05T10:05:24.579Z"
   },
   {
    "duration": 12,
    "start_time": "2022-12-05T10:05:36.533Z"
   },
   {
    "duration": 15,
    "start_time": "2022-12-05T10:05:36.908Z"
   },
   {
    "duration": 16,
    "start_time": "2022-12-05T10:06:04.055Z"
   },
   {
    "duration": 4,
    "start_time": "2022-12-05T10:06:09.772Z"
   },
   {
    "duration": 5,
    "start_time": "2022-12-05T10:06:10.508Z"
   },
   {
    "duration": 15,
    "start_time": "2022-12-05T10:06:15.256Z"
   },
   {
    "duration": 153,
    "start_time": "2022-12-05T10:06:18.679Z"
   },
   {
    "duration": 545,
    "start_time": "2022-12-05T10:07:26.298Z"
   },
   {
    "duration": 447,
    "start_time": "2022-12-05T10:07:45.028Z"
   },
   {
    "duration": 115,
    "start_time": "2022-12-05T10:08:53.194Z"
   },
   {
    "duration": 116,
    "start_time": "2022-12-05T10:10:21.319Z"
   },
   {
    "duration": 137,
    "start_time": "2022-12-05T10:11:48.505Z"
   },
   {
    "duration": 232,
    "start_time": "2022-12-05T10:14:27.011Z"
   },
   {
    "duration": 194,
    "start_time": "2022-12-05T10:15:17.241Z"
   },
   {
    "duration": 154,
    "start_time": "2022-12-05T10:15:44.334Z"
   },
   {
    "duration": 175,
    "start_time": "2022-12-05T10:15:47.298Z"
   },
   {
    "duration": 170,
    "start_time": "2022-12-05T10:15:51.841Z"
   },
   {
    "duration": 162,
    "start_time": "2022-12-05T10:15:56.675Z"
   },
   {
    "duration": 170,
    "start_time": "2022-12-05T10:16:05.163Z"
   },
   {
    "duration": 261,
    "start_time": "2022-12-05T10:17:09.560Z"
   },
   {
    "duration": 178,
    "start_time": "2022-12-05T10:17:38.436Z"
   },
   {
    "duration": 171,
    "start_time": "2022-12-05T10:17:59.158Z"
   },
   {
    "duration": 165,
    "start_time": "2022-12-05T10:18:11.232Z"
   },
   {
    "duration": 194,
    "start_time": "2022-12-05T10:18:47.513Z"
   },
   {
    "duration": 179,
    "start_time": "2022-12-05T10:18:53.635Z"
   },
   {
    "duration": 175,
    "start_time": "2022-12-05T10:19:33.424Z"
   },
   {
    "duration": 238,
    "start_time": "2022-12-05T10:22:06.307Z"
   },
   {
    "duration": 186,
    "start_time": "2022-12-05T10:22:56.134Z"
   },
   {
    "duration": 188,
    "start_time": "2022-12-05T10:24:24.108Z"
   },
   {
    "duration": 177,
    "start_time": "2022-12-05T10:24:31.856Z"
   },
   {
    "duration": 303,
    "start_time": "2022-12-05T10:24:44.706Z"
   },
   {
    "duration": 217,
    "start_time": "2022-12-05T10:25:37.221Z"
   },
   {
    "duration": 225,
    "start_time": "2022-12-05T10:25:46.713Z"
   },
   {
    "duration": 198,
    "start_time": "2022-12-05T10:25:51.648Z"
   },
   {
    "duration": 563,
    "start_time": "2022-12-05T10:25:57.060Z"
   },
   {
    "duration": 198,
    "start_time": "2022-12-05T10:25:59.481Z"
   },
   {
    "duration": 209,
    "start_time": "2022-12-05T10:26:04.767Z"
   },
   {
    "duration": 313,
    "start_time": "2022-12-05T10:38:04.341Z"
   },
   {
    "duration": 24,
    "start_time": "2022-12-05T10:43:12.861Z"
   },
   {
    "duration": 7,
    "start_time": "2022-12-05T11:28:20.881Z"
   },
   {
    "duration": 82,
    "start_time": "2022-12-05T11:28:56.475Z"
   },
   {
    "duration": 12,
    "start_time": "2022-12-05T11:28:59.372Z"
   },
   {
    "duration": 19,
    "start_time": "2022-12-05T11:29:04.760Z"
   },
   {
    "duration": 42,
    "start_time": "2022-12-05T11:29:11.586Z"
   },
   {
    "duration": 35,
    "start_time": "2022-12-05T11:29:22.360Z"
   },
   {
    "duration": 23,
    "start_time": "2022-12-05T11:30:00.551Z"
   },
   {
    "duration": 31,
    "start_time": "2022-12-05T11:30:30.117Z"
   },
   {
    "duration": 29,
    "start_time": "2022-12-05T11:31:00.976Z"
   },
   {
    "duration": 162,
    "start_time": "2022-12-05T11:31:12.276Z"
   },
   {
    "duration": 29,
    "start_time": "2022-12-05T11:31:16.779Z"
   },
   {
    "duration": 28,
    "start_time": "2022-12-05T11:32:18.959Z"
   },
   {
    "duration": 763,
    "start_time": "2022-12-05T11:50:38.726Z"
   },
   {
    "duration": 24,
    "start_time": "2022-12-05T11:50:48.948Z"
   },
   {
    "duration": 908,
    "start_time": "2022-12-05T11:50:53.198Z"
   },
   {
    "duration": 746,
    "start_time": "2022-12-05T11:51:13.442Z"
   },
   {
    "duration": 778,
    "start_time": "2022-12-05T11:51:21.580Z"
   },
   {
    "duration": 759,
    "start_time": "2022-12-05T11:51:41.029Z"
   },
   {
    "duration": 32,
    "start_time": "2022-12-05T12:07:47.075Z"
   },
   {
    "duration": 30,
    "start_time": "2022-12-05T12:07:52.267Z"
   },
   {
    "duration": 156,
    "start_time": "2022-12-05T12:09:13.167Z"
   },
   {
    "duration": 1010,
    "start_time": "2022-12-05T12:11:09.607Z"
   },
   {
    "duration": 28,
    "start_time": "2022-12-05T12:11:22.414Z"
   },
   {
    "duration": 57,
    "start_time": "2022-12-05T12:14:45.162Z"
   },
   {
    "duration": 25,
    "start_time": "2022-12-05T12:14:54.353Z"
   },
   {
    "duration": 26,
    "start_time": "2022-12-05T12:16:35.457Z"
   },
   {
    "duration": 28,
    "start_time": "2022-12-05T12:20:39.290Z"
   },
   {
    "duration": 24,
    "start_time": "2022-12-05T12:22:39.683Z"
   },
   {
    "duration": 37,
    "start_time": "2022-12-05T12:24:08.127Z"
   },
   {
    "duration": 1128,
    "start_time": "2022-12-05T12:24:18.430Z"
   },
   {
    "duration": 27,
    "start_time": "2022-12-05T12:24:30.217Z"
   },
   {
    "duration": 17,
    "start_time": "2022-12-05T12:25:26.192Z"
   },
   {
    "duration": 10,
    "start_time": "2022-12-05T12:25:33.159Z"
   },
   {
    "duration": 11,
    "start_time": "2022-12-05T12:26:04.880Z"
   },
   {
    "duration": 293,
    "start_time": "2022-12-05T12:26:07.272Z"
   },
   {
    "duration": 281,
    "start_time": "2022-12-05T12:27:04.539Z"
   },
   {
    "duration": 304,
    "start_time": "2022-12-05T12:29:04.806Z"
   },
   {
    "duration": 387,
    "start_time": "2022-12-05T12:29:14.114Z"
   },
   {
    "duration": 22,
    "start_time": "2022-12-05T12:31:20.426Z"
   },
   {
    "duration": 40,
    "start_time": "2022-12-05T12:31:24.682Z"
   },
   {
    "duration": 4,
    "start_time": "2022-12-05T12:32:02.269Z"
   },
   {
    "duration": 307,
    "start_time": "2022-12-05T12:32:04.385Z"
   },
   {
    "duration": 314,
    "start_time": "2022-12-05T12:33:21.429Z"
   },
   {
    "duration": 262,
    "start_time": "2022-12-05T12:33:26.156Z"
   },
   {
    "duration": 317,
    "start_time": "2022-12-05T12:33:32.967Z"
   },
   {
    "duration": 220,
    "start_time": "2022-12-05T12:33:42.039Z"
   },
   {
    "duration": 13,
    "start_time": "2022-12-05T12:37:34.342Z"
   },
   {
    "duration": 14,
    "start_time": "2022-12-05T12:39:40.857Z"
   },
   {
    "duration": 1994,
    "start_time": "2022-12-05T12:40:01.966Z"
   },
   {
    "duration": 817,
    "start_time": "2022-12-05T12:40:04.501Z"
   },
   {
    "duration": 870,
    "start_time": "2022-12-05T12:40:18.729Z"
   },
   {
    "duration": 22,
    "start_time": "2022-12-05T12:44:01.459Z"
   },
   {
    "duration": 14,
    "start_time": "2022-12-05T12:45:52.021Z"
   },
   {
    "duration": 21,
    "start_time": "2022-12-05T12:45:57.186Z"
   },
   {
    "duration": 6,
    "start_time": "2022-12-05T13:32:01.077Z"
   },
   {
    "duration": 5,
    "start_time": "2022-12-05T13:33:02.791Z"
   },
   {
    "duration": 6,
    "start_time": "2022-12-05T13:33:11.140Z"
   },
   {
    "duration": 16,
    "start_time": "2022-12-05T13:33:15.984Z"
   },
   {
    "duration": 6,
    "start_time": "2022-12-05T13:37:18.159Z"
   },
   {
    "duration": 15,
    "start_time": "2022-12-05T13:37:19.969Z"
   },
   {
    "duration": 16,
    "start_time": "2022-12-05T13:38:13.006Z"
   },
   {
    "duration": 14,
    "start_time": "2022-12-05T13:44:03.215Z"
   },
   {
    "duration": 251,
    "start_time": "2022-12-05T13:44:06.701Z"
   },
   {
    "duration": 233,
    "start_time": "2022-12-05T13:44:11.214Z"
   },
   {
    "duration": 19,
    "start_time": "2022-12-05T13:44:21.801Z"
   },
   {
    "duration": 17,
    "start_time": "2022-12-05T13:47:24.894Z"
   },
   {
    "duration": 293,
    "start_time": "2022-12-05T13:47:25.350Z"
   },
   {
    "duration": 26,
    "start_time": "2022-12-05T13:47:42.562Z"
   },
   {
    "duration": 394,
    "start_time": "2022-12-05T13:47:59.874Z"
   },
   {
    "duration": 305,
    "start_time": "2022-12-05T13:48:03.793Z"
   },
   {
    "duration": 375,
    "start_time": "2022-12-05T13:48:13.729Z"
   },
   {
    "duration": 196,
    "start_time": "2022-12-05T13:48:36.030Z"
   },
   {
    "duration": 342,
    "start_time": "2022-12-05T13:48:42.416Z"
   },
   {
    "duration": 383,
    "start_time": "2022-12-05T13:50:24.079Z"
   },
   {
    "duration": 77,
    "start_time": "2022-12-05T13:51:21.025Z"
   },
   {
    "duration": 54,
    "start_time": "2022-12-05T13:51:28.643Z"
   },
   {
    "duration": 6,
    "start_time": "2022-12-05T13:52:10.217Z"
   },
   {
    "duration": 15,
    "start_time": "2022-12-05T13:52:10.996Z"
   },
   {
    "duration": 265,
    "start_time": "2022-12-05T13:52:16.192Z"
   },
   {
    "duration": 250,
    "start_time": "2022-12-05T13:52:20.165Z"
   },
   {
    "duration": 16,
    "start_time": "2022-12-05T13:52:55.391Z"
   },
   {
    "duration": 307,
    "start_time": "2022-12-05T13:53:35.742Z"
   },
   {
    "duration": 13,
    "start_time": "2022-12-05T13:53:39.999Z"
   },
   {
    "duration": 72,
    "start_time": "2022-12-05T13:53:46.725Z"
   },
   {
    "duration": 302,
    "start_time": "2022-12-05T13:53:50.712Z"
   },
   {
    "duration": 421,
    "start_time": "2022-12-05T13:53:57.074Z"
   },
   {
    "duration": 236,
    "start_time": "2022-12-05T13:54:17.896Z"
   },
   {
    "duration": 25,
    "start_time": "2022-12-05T13:54:18.135Z"
   },
   {
    "duration": 304,
    "start_time": "2022-12-05T13:54:18.270Z"
   },
   {
    "duration": 319,
    "start_time": "2022-12-05T13:55:08.893Z"
   },
   {
    "duration": 285,
    "start_time": "2022-12-05T13:55:18.891Z"
   },
   {
    "duration": 231,
    "start_time": "2022-12-05T13:55:44.822Z"
   },
   {
    "duration": 217,
    "start_time": "2022-12-05T13:56:22.924Z"
   },
   {
    "duration": 240,
    "start_time": "2022-12-05T13:59:16.957Z"
   },
   {
    "duration": 252,
    "start_time": "2022-12-05T13:59:20.920Z"
   },
   {
    "duration": 398,
    "start_time": "2022-12-05T13:59:25.223Z"
   },
   {
    "duration": 256,
    "start_time": "2022-12-05T13:59:29.965Z"
   },
   {
    "duration": 27,
    "start_time": "2022-12-05T13:59:45.779Z"
   },
   {
    "duration": 279,
    "start_time": "2022-12-05T13:59:46.017Z"
   },
   {
    "duration": 238,
    "start_time": "2022-12-05T14:05:56.195Z"
   },
   {
    "duration": 289,
    "start_time": "2022-12-05T14:06:08.328Z"
   },
   {
    "duration": 264,
    "start_time": "2022-12-05T14:06:12.316Z"
   },
   {
    "duration": 292,
    "start_time": "2022-12-05T14:06:15.585Z"
   },
   {
    "duration": 25,
    "start_time": "2022-12-05T14:18:09.936Z"
   },
   {
    "duration": 281,
    "start_time": "2022-12-05T14:18:10.458Z"
   },
   {
    "duration": 10,
    "start_time": "2022-12-05T14:20:08.367Z"
   },
   {
    "duration": 180,
    "start_time": "2022-12-05T14:22:38.973Z"
   },
   {
    "duration": 864,
    "start_time": "2022-12-05T14:23:10.660Z"
   },
   {
    "duration": 672,
    "start_time": "2022-12-05T14:23:48.700Z"
   },
   {
    "duration": 841,
    "start_time": "2022-12-05T14:23:52.793Z"
   },
   {
    "duration": 1030,
    "start_time": "2022-12-05T14:24:04.502Z"
   },
   {
    "duration": 866,
    "start_time": "2022-12-05T14:25:59.187Z"
   },
   {
    "duration": 890,
    "start_time": "2022-12-05T14:26:47.815Z"
   },
   {
    "duration": 880,
    "start_time": "2022-12-05T14:26:57.705Z"
   },
   {
    "duration": 885,
    "start_time": "2022-12-05T14:27:04.908Z"
   },
   {
    "duration": 28,
    "start_time": "2022-12-05T14:27:47.606Z"
   },
   {
    "duration": 30,
    "start_time": "2022-12-05T14:27:56.587Z"
   },
   {
    "duration": 1099,
    "start_time": "2022-12-05T14:28:01.992Z"
   },
   {
    "duration": 939,
    "start_time": "2022-12-05T14:28:16.139Z"
   },
   {
    "duration": 890,
    "start_time": "2022-12-05T14:28:24.616Z"
   },
   {
    "duration": 638,
    "start_time": "2022-12-05T14:29:39.450Z"
   },
   {
    "duration": 651,
    "start_time": "2022-12-05T14:30:47.406Z"
   },
   {
    "duration": 671,
    "start_time": "2022-12-05T14:30:52.201Z"
   },
   {
    "duration": 331,
    "start_time": "2022-12-05T14:32:43.003Z"
   },
   {
    "duration": 881,
    "start_time": "2022-12-05T14:34:59.543Z"
   },
   {
    "duration": 10,
    "start_time": "2022-12-05T14:35:06.547Z"
   },
   {
    "duration": 297,
    "start_time": "2022-12-05T14:35:11.056Z"
   },
   {
    "duration": 292,
    "start_time": "2022-12-05T14:37:10.849Z"
   },
   {
    "duration": 892,
    "start_time": "2022-12-05T14:37:21.168Z"
   },
   {
    "duration": 934,
    "start_time": "2022-12-05T14:37:27.687Z"
   },
   {
    "duration": 1085,
    "start_time": "2022-12-05T14:37:34.151Z"
   },
   {
    "duration": 905,
    "start_time": "2022-12-05T14:37:38.210Z"
   },
   {
    "duration": 298,
    "start_time": "2022-12-05T14:38:32.238Z"
   },
   {
    "duration": 294,
    "start_time": "2022-12-05T14:39:46.347Z"
   },
   {
    "duration": 296,
    "start_time": "2022-12-05T14:41:21.839Z"
   },
   {
    "duration": 297,
    "start_time": "2022-12-05T14:41:40.433Z"
   },
   {
    "duration": 299,
    "start_time": "2022-12-05T14:42:19.317Z"
   },
   {
    "duration": 335,
    "start_time": "2022-12-05T14:43:48.577Z"
   },
   {
    "duration": 717,
    "start_time": "2022-12-05T14:45:59.267Z"
   },
   {
    "duration": 816,
    "start_time": "2022-12-05T14:46:27.328Z"
   },
   {
    "duration": 26,
    "start_time": "2022-12-05T14:56:12.982Z"
   },
   {
    "duration": 10,
    "start_time": "2022-12-05T15:06:51.422Z"
   },
   {
    "duration": 9,
    "start_time": "2022-12-05T15:06:51.804Z"
   },
   {
    "duration": 12,
    "start_time": "2022-12-05T15:06:52.174Z"
   },
   {
    "duration": 156,
    "start_time": "2022-12-05T15:07:11.787Z"
   },
   {
    "duration": 55,
    "start_time": "2022-12-05T15:07:20.878Z"
   },
   {
    "duration": 57,
    "start_time": "2022-12-05T15:07:26.612Z"
   },
   {
    "duration": 52,
    "start_time": "2022-12-05T15:07:42.690Z"
   },
   {
    "duration": 141,
    "start_time": "2022-12-05T15:07:47.437Z"
   },
   {
    "duration": 15,
    "start_time": "2022-12-05T15:07:57.036Z"
   },
   {
    "duration": 164,
    "start_time": "2022-12-05T15:13:47.340Z"
   },
   {
    "duration": 151,
    "start_time": "2022-12-05T15:13:55.552Z"
   },
   {
    "duration": 15,
    "start_time": "2022-12-05T15:13:59.732Z"
   },
   {
    "duration": 167,
    "start_time": "2022-12-05T15:16:49.741Z"
   },
   {
    "duration": 147,
    "start_time": "2022-12-05T15:16:50.297Z"
   },
   {
    "duration": 17,
    "start_time": "2022-12-05T15:16:51.005Z"
   },
   {
    "duration": 206,
    "start_time": "2022-12-05T15:16:53.865Z"
   },
   {
    "duration": 160,
    "start_time": "2022-12-05T15:16:54.463Z"
   },
   {
    "duration": 17,
    "start_time": "2022-12-05T15:16:54.626Z"
   },
   {
    "duration": 159,
    "start_time": "2022-12-05T15:16:57.182Z"
   },
   {
    "duration": 174,
    "start_time": "2022-12-05T15:16:57.343Z"
   },
   {
    "duration": 16,
    "start_time": "2022-12-05T15:16:57.519Z"
   },
   {
    "duration": 149,
    "start_time": "2022-12-05T16:13:51.894Z"
   },
   {
    "duration": 16,
    "start_time": "2022-12-05T16:13:52.220Z"
   },
   {
    "duration": 13,
    "start_time": "2022-12-05T16:14:26.053Z"
   },
   {
    "duration": 14,
    "start_time": "2022-12-05T16:14:32.843Z"
   },
   {
    "duration": 16,
    "start_time": "2022-12-05T16:14:38.213Z"
   },
   {
    "duration": 15,
    "start_time": "2022-12-05T16:14:44.571Z"
   },
   {
    "duration": 15,
    "start_time": "2022-12-05T16:14:51.944Z"
   },
   {
    "duration": 15,
    "start_time": "2022-12-05T16:15:03.821Z"
   },
   {
    "duration": 15,
    "start_time": "2022-12-05T16:15:10.616Z"
   },
   {
    "duration": 193,
    "start_time": "2022-12-05T16:15:16.785Z"
   },
   {
    "duration": 15,
    "start_time": "2022-12-05T16:15:32.133Z"
   },
   {
    "duration": 15,
    "start_time": "2022-12-05T16:15:37.268Z"
   },
   {
    "duration": 15,
    "start_time": "2022-12-05T16:15:42.848Z"
   },
   {
    "duration": 17,
    "start_time": "2022-12-05T16:15:47.646Z"
   },
   {
    "duration": 14,
    "start_time": "2022-12-05T16:15:54.511Z"
   },
   {
    "duration": 15,
    "start_time": "2022-12-05T16:16:00.518Z"
   },
   {
    "duration": 5,
    "start_time": "2022-12-05T16:17:44.051Z"
   },
   {
    "duration": 15,
    "start_time": "2022-12-05T16:18:25.966Z"
   },
   {
    "duration": 19,
    "start_time": "2022-12-05T16:18:30.221Z"
   },
   {
    "duration": 55,
    "start_time": "2022-12-05T16:18:34.411Z"
   },
   {
    "duration": 17,
    "start_time": "2022-12-05T16:18:38.480Z"
   },
   {
    "duration": 14,
    "start_time": "2022-12-05T16:18:44.342Z"
   },
   {
    "duration": 14,
    "start_time": "2022-12-05T16:18:52.555Z"
   },
   {
    "duration": 14,
    "start_time": "2022-12-05T16:18:57.392Z"
   },
   {
    "duration": 15,
    "start_time": "2022-12-05T16:19:02.386Z"
   },
   {
    "duration": 17,
    "start_time": "2022-12-05T16:19:04.871Z"
   },
   {
    "duration": 57,
    "start_time": "2022-12-05T16:19:10.237Z"
   },
   {
    "duration": 49,
    "start_time": "2022-12-05T16:19:12.877Z"
   },
   {
    "duration": 17,
    "start_time": "2022-12-05T16:19:24.048Z"
   },
   {
    "duration": 20,
    "start_time": "2022-12-05T16:19:26.907Z"
   },
   {
    "duration": 5,
    "start_time": "2022-12-05T16:19:35.541Z"
   },
   {
    "duration": 3,
    "start_time": "2022-12-05T16:19:43.647Z"
   },
   {
    "duration": 51,
    "start_time": "2022-12-05T16:19:43.959Z"
   },
   {
    "duration": 22,
    "start_time": "2022-12-05T16:19:44.136Z"
   },
   {
    "duration": 15,
    "start_time": "2022-12-05T16:19:44.323Z"
   },
   {
    "duration": 17,
    "start_time": "2022-12-05T16:19:45.220Z"
   },
   {
    "duration": 3,
    "start_time": "2022-12-05T16:19:45.542Z"
   },
   {
    "duration": 14,
    "start_time": "2022-12-05T16:19:46.250Z"
   },
   {
    "duration": 9,
    "start_time": "2022-12-05T16:19:46.600Z"
   },
   {
    "duration": 10,
    "start_time": "2022-12-05T16:19:46.952Z"
   },
   {
    "duration": 12,
    "start_time": "2022-12-05T16:19:47.134Z"
   },
   {
    "duration": 5,
    "start_time": "2022-12-05T16:19:47.662Z"
   },
   {
    "duration": 8,
    "start_time": "2022-12-05T16:19:48.004Z"
   },
   {
    "duration": 8,
    "start_time": "2022-12-05T16:19:48.561Z"
   },
   {
    "duration": 13,
    "start_time": "2022-12-05T16:19:48.747Z"
   },
   {
    "duration": 10,
    "start_time": "2022-12-05T16:19:49.460Z"
   },
   {
    "duration": 10,
    "start_time": "2022-12-05T16:19:50.037Z"
   },
   {
    "duration": 10,
    "start_time": "2022-12-05T16:19:50.609Z"
   },
   {
    "duration": 29,
    "start_time": "2022-12-05T16:19:50.811Z"
   },
   {
    "duration": 9,
    "start_time": "2022-12-05T16:19:51.406Z"
   },
   {
    "duration": 7,
    "start_time": "2022-12-05T16:19:52.004Z"
   },
   {
    "duration": 5,
    "start_time": "2022-12-05T16:19:52.180Z"
   },
   {
    "duration": 4,
    "start_time": "2022-12-05T16:19:52.715Z"
   },
   {
    "duration": 4,
    "start_time": "2022-12-05T16:19:53.137Z"
   },
   {
    "duration": 6,
    "start_time": "2022-12-05T16:19:53.717Z"
   },
   {
    "duration": 10,
    "start_time": "2022-12-05T16:19:54.660Z"
   },
   {
    "duration": 16,
    "start_time": "2022-12-05T16:19:54.852Z"
   },
   {
    "duration": 5,
    "start_time": "2022-12-05T16:19:55.224Z"
   },
   {
    "duration": 6,
    "start_time": "2022-12-05T16:19:55.936Z"
   },
   {
    "duration": 5,
    "start_time": "2022-12-05T16:20:03.538Z"
   },
   {
    "duration": 15,
    "start_time": "2022-12-05T16:20:03.864Z"
   },
   {
    "duration": 216,
    "start_time": "2022-12-05T16:20:04.867Z"
   },
   {
    "duration": 19,
    "start_time": "2022-12-05T16:20:05.993Z"
   },
   {
    "duration": 38,
    "start_time": "2022-12-05T16:20:06.350Z"
   },
   {
    "duration": 245,
    "start_time": "2022-12-05T16:20:06.552Z"
   },
   {
    "duration": 25,
    "start_time": "2022-12-05T16:20:06.799Z"
   },
   {
    "duration": 5,
    "start_time": "2022-12-05T16:20:07.513Z"
   },
   {
    "duration": 15,
    "start_time": "2022-12-05T16:20:08.060Z"
   },
   {
    "duration": 237,
    "start_time": "2022-12-05T16:20:08.829Z"
   },
   {
    "duration": 273,
    "start_time": "2022-12-05T16:20:09.068Z"
   },
   {
    "duration": 150,
    "start_time": "2022-12-05T16:20:10.250Z"
   },
   {
    "duration": 149,
    "start_time": "2022-12-05T16:20:10.436Z"
   },
   {
    "duration": 16,
    "start_time": "2022-12-05T16:20:10.628Z"
   },
   {
    "duration": 158,
    "start_time": "2022-12-05T16:20:11.007Z"
   },
   {
    "duration": 152,
    "start_time": "2022-12-05T16:20:11.246Z"
   },
   {
    "duration": 16,
    "start_time": "2022-12-05T16:20:11.445Z"
   },
   {
    "duration": 150,
    "start_time": "2022-12-05T16:20:11.807Z"
   },
   {
    "duration": 146,
    "start_time": "2022-12-05T16:20:12.004Z"
   },
   {
    "duration": 16,
    "start_time": "2022-12-05T16:20:12.207Z"
   },
   {
    "duration": 154,
    "start_time": "2022-12-05T16:20:12.554Z"
   },
   {
    "duration": 156,
    "start_time": "2022-12-05T16:20:12.752Z"
   },
   {
    "duration": 15,
    "start_time": "2022-12-05T16:20:12.937Z"
   },
   {
    "duration": 17,
    "start_time": "2022-12-05T16:20:15.691Z"
   },
   {
    "duration": 11,
    "start_time": "2022-12-05T16:20:17.654Z"
   },
   {
    "duration": 14,
    "start_time": "2022-12-05T16:20:18.102Z"
   },
   {
    "duration": 15,
    "start_time": "2022-12-05T16:20:18.652Z"
   },
   {
    "duration": 16,
    "start_time": "2022-12-05T16:20:19.256Z"
   },
   {
    "duration": 15,
    "start_time": "2022-12-05T16:20:21.378Z"
   },
   {
    "duration": 15,
    "start_time": "2022-12-05T16:20:21.559Z"
   },
   {
    "duration": 18,
    "start_time": "2022-12-05T16:20:21.764Z"
   },
   {
    "duration": 14,
    "start_time": "2022-12-05T16:20:22.287Z"
   },
   {
    "duration": 14,
    "start_time": "2022-12-05T16:20:22.474Z"
   },
   {
    "duration": 15,
    "start_time": "2022-12-05T16:20:22.636Z"
   },
   {
    "duration": 13,
    "start_time": "2022-12-05T16:21:30.310Z"
   },
   {
    "duration": 15,
    "start_time": "2022-12-05T16:21:54.595Z"
   },
   {
    "duration": 15,
    "start_time": "2022-12-05T16:22:03.725Z"
   },
   {
    "duration": 17,
    "start_time": "2022-12-05T16:22:07.707Z"
   },
   {
    "duration": 15,
    "start_time": "2022-12-05T16:22:12.737Z"
   },
   {
    "duration": 19,
    "start_time": "2022-12-05T16:22:24.912Z"
   },
   {
    "duration": 17,
    "start_time": "2022-12-05T16:24:08.206Z"
   },
   {
    "duration": 15,
    "start_time": "2022-12-05T16:24:31.233Z"
   },
   {
    "duration": 15,
    "start_time": "2022-12-05T16:26:22.270Z"
   },
   {
    "duration": 26,
    "start_time": "2022-12-05T16:26:52.735Z"
   },
   {
    "duration": 41,
    "start_time": "2022-12-05T16:27:13.557Z"
   },
   {
    "duration": 26,
    "start_time": "2022-12-05T16:27:38.610Z"
   },
   {
    "duration": 35,
    "start_time": "2022-12-05T16:27:45.451Z"
   },
   {
    "duration": 30,
    "start_time": "2022-12-05T16:28:05.947Z"
   },
   {
    "duration": 38,
    "start_time": "2022-12-05T16:28:12.789Z"
   },
   {
    "duration": 1019,
    "start_time": "2022-12-05T16:32:27.474Z"
   },
   {
    "duration": 856,
    "start_time": "2022-12-05T16:33:05.795Z"
   },
   {
    "duration": 47,
    "start_time": "2022-12-05T16:33:12.593Z"
   },
   {
    "duration": 46,
    "start_time": "2022-12-05T16:33:15.977Z"
   },
   {
    "duration": 15,
    "start_time": "2022-12-05T16:33:20.384Z"
   },
   {
    "duration": 40,
    "start_time": "2022-12-05T16:33:20.749Z"
   },
   {
    "duration": 39,
    "start_time": "2022-12-05T16:33:27.524Z"
   },
   {
    "duration": 12,
    "start_time": "2022-12-05T16:33:31.341Z"
   },
   {
    "duration": 51,
    "start_time": "2022-12-05T16:33:32.187Z"
   },
   {
    "duration": 307,
    "start_time": "2022-12-05T16:34:32.462Z"
   },
   {
    "duration": 170,
    "start_time": "2022-12-05T16:34:48.507Z"
   },
   {
    "duration": 17,
    "start_time": "2022-12-05T16:34:58.371Z"
   },
   {
    "duration": 19,
    "start_time": "2022-12-05T16:35:15.421Z"
   },
   {
    "duration": 407,
    "start_time": "2022-12-05T16:37:51.403Z"
   },
   {
    "duration": 228,
    "start_time": "2022-12-05T16:38:52.882Z"
   },
   {
    "duration": 165,
    "start_time": "2022-12-05T16:39:00.962Z"
   },
   {
    "duration": 123,
    "start_time": "2022-12-05T16:39:07.940Z"
   },
   {
    "duration": 164,
    "start_time": "2022-12-05T16:39:12.009Z"
   },
   {
    "duration": 231,
    "start_time": "2022-12-05T16:40:23.803Z"
   },
   {
    "duration": 239,
    "start_time": "2022-12-05T16:40:42.788Z"
   },
   {
    "duration": 20,
    "start_time": "2022-12-05T16:40:45.070Z"
   },
   {
    "duration": 347,
    "start_time": "2022-12-05T16:41:01.079Z"
   },
   {
    "duration": 260,
    "start_time": "2022-12-05T16:41:05.087Z"
   },
   {
    "duration": 163,
    "start_time": "2022-12-05T16:41:48.143Z"
   },
   {
    "duration": 166,
    "start_time": "2022-12-05T16:42:18.667Z"
   },
   {
    "duration": 43,
    "start_time": "2022-12-05T16:42:58.543Z"
   },
   {
    "duration": 59,
    "start_time": "2022-12-05T16:43:09.444Z"
   },
   {
    "duration": 51,
    "start_time": "2022-12-05T16:43:12.442Z"
   },
   {
    "duration": 47,
    "start_time": "2022-12-05T16:43:29.071Z"
   },
   {
    "duration": 47,
    "start_time": "2022-12-05T16:43:34.246Z"
   },
   {
    "duration": 176,
    "start_time": "2022-12-05T16:43:45.509Z"
   },
   {
    "duration": 395,
    "start_time": "2022-12-05T16:44:17.558Z"
   },
   {
    "duration": 343,
    "start_time": "2022-12-05T16:44:27.658Z"
   },
   {
    "duration": 448,
    "start_time": "2022-12-05T16:44:36.016Z"
   },
   {
    "duration": 351,
    "start_time": "2022-12-05T16:44:41.569Z"
   },
   {
    "duration": 361,
    "start_time": "2022-12-05T16:45:03.925Z"
   },
   {
    "duration": 356,
    "start_time": "2022-12-05T16:45:23.586Z"
   },
   {
    "duration": 499,
    "start_time": "2022-12-05T16:46:02.301Z"
   },
   {
    "duration": 499,
    "start_time": "2022-12-05T16:49:36.864Z"
   },
   {
    "duration": 556,
    "start_time": "2022-12-05T16:52:06.573Z"
   },
   {
    "duration": 4,
    "start_time": "2022-12-05T17:06:58.125Z"
   },
   {
    "duration": 74,
    "start_time": "2022-12-05T17:06:58.132Z"
   },
   {
    "duration": 28,
    "start_time": "2022-12-05T17:06:58.208Z"
   },
   {
    "duration": 21,
    "start_time": "2022-12-05T17:06:58.237Z"
   },
   {
    "duration": 3,
    "start_time": "2022-12-05T17:07:14.064Z"
   },
   {
    "duration": 57,
    "start_time": "2022-12-05T17:07:14.373Z"
   },
   {
    "duration": 23,
    "start_time": "2022-12-05T17:07:14.535Z"
   },
   {
    "duration": 15,
    "start_time": "2022-12-05T17:07:14.708Z"
   },
   {
    "duration": 17,
    "start_time": "2022-12-05T17:07:15.572Z"
   },
   {
    "duration": 4,
    "start_time": "2022-12-05T17:07:15.882Z"
   },
   {
    "duration": 13,
    "start_time": "2022-12-05T17:07:16.507Z"
   },
   {
    "duration": 9,
    "start_time": "2022-12-05T17:07:16.854Z"
   },
   {
    "duration": 9,
    "start_time": "2022-12-05T17:07:17.210Z"
   },
   {
    "duration": 15,
    "start_time": "2022-12-05T17:07:17.377Z"
   },
   {
    "duration": 5,
    "start_time": "2022-12-05T17:07:17.897Z"
   },
   {
    "duration": 9,
    "start_time": "2022-12-05T17:07:18.271Z"
   },
   {
    "duration": 8,
    "start_time": "2022-12-05T17:07:18.824Z"
   },
   {
    "duration": 14,
    "start_time": "2022-12-05T17:07:19.009Z"
   },
   {
    "duration": 9,
    "start_time": "2022-12-05T17:07:19.692Z"
   },
   {
    "duration": 10,
    "start_time": "2022-12-05T17:07:20.221Z"
   },
   {
    "duration": 10,
    "start_time": "2022-12-05T17:07:20.725Z"
   },
   {
    "duration": 26,
    "start_time": "2022-12-05T17:07:20.907Z"
   },
   {
    "duration": 9,
    "start_time": "2022-12-05T17:07:21.387Z"
   },
   {
    "duration": 10,
    "start_time": "2022-12-05T17:07:21.920Z"
   },
   {
    "duration": 5,
    "start_time": "2022-12-05T17:07:22.093Z"
   },
   {
    "duration": 7,
    "start_time": "2022-12-05T17:07:22.588Z"
   },
   {
    "duration": 5,
    "start_time": "2022-12-05T17:07:22.925Z"
   },
   {
    "duration": 5,
    "start_time": "2022-12-05T17:07:23.477Z"
   },
   {
    "duration": 11,
    "start_time": "2022-12-05T17:07:24.397Z"
   },
   {
    "duration": 16,
    "start_time": "2022-12-05T17:07:24.569Z"
   },
   {
    "duration": 6,
    "start_time": "2022-12-05T17:07:24.941Z"
   },
   {
    "duration": 5,
    "start_time": "2022-12-05T17:07:25.513Z"
   },
   {
    "duration": 14,
    "start_time": "2022-12-05T17:07:25.897Z"
   },
   {
    "duration": 210,
    "start_time": "2022-12-05T17:07:27.128Z"
   },
   {
    "duration": 18,
    "start_time": "2022-12-05T17:07:28.292Z"
   },
   {
    "duration": 37,
    "start_time": "2022-12-05T17:07:28.690Z"
   },
   {
    "duration": 239,
    "start_time": "2022-12-05T17:07:28.902Z"
   },
   {
    "duration": 20,
    "start_time": "2022-12-05T17:07:29.143Z"
   },
   {
    "duration": 6,
    "start_time": "2022-12-05T17:07:30.000Z"
   },
   {
    "duration": 15,
    "start_time": "2022-12-05T17:07:30.575Z"
   },
   {
    "duration": 258,
    "start_time": "2022-12-05T17:07:31.344Z"
   },
   {
    "duration": 271,
    "start_time": "2022-12-05T17:07:31.605Z"
   },
   {
    "duration": 161,
    "start_time": "2022-12-05T17:07:32.578Z"
   },
   {
    "duration": 178,
    "start_time": "2022-12-05T17:07:32.765Z"
   },
   {
    "duration": 18,
    "start_time": "2022-12-05T17:07:32.982Z"
   },
   {
    "duration": 386,
    "start_time": "2022-12-05T17:07:33.401Z"
   },
   {
    "duration": 159,
    "start_time": "2022-12-05T17:07:33.790Z"
   },
   {
    "duration": 17,
    "start_time": "2022-12-05T17:07:33.951Z"
   },
   {
    "duration": 167,
    "start_time": "2022-12-05T17:07:34.232Z"
   },
   {
    "duration": 148,
    "start_time": "2022-12-05T17:07:34.459Z"
   },
   {
    "duration": 15,
    "start_time": "2022-12-05T17:07:34.656Z"
   },
   {
    "duration": 186,
    "start_time": "2022-12-05T17:07:35.090Z"
   },
   {
    "duration": 166,
    "start_time": "2022-12-05T17:07:35.340Z"
   },
   {
    "duration": 16,
    "start_time": "2022-12-05T17:07:35.558Z"
   },
   {
    "duration": 16,
    "start_time": "2022-12-05T17:07:37.006Z"
   },
   {
    "duration": 12,
    "start_time": "2022-12-05T17:07:39.444Z"
   },
   {
    "duration": 36,
    "start_time": "2022-12-05T17:07:39.807Z"
   },
   {
    "duration": 532,
    "start_time": "2022-12-05T17:07:40.006Z"
   },
   {
    "duration": 36,
    "start_time": "2022-12-05T17:07:40.558Z"
   },
   {
    "duration": 478,
    "start_time": "2022-12-05T17:07:40.764Z"
   },
   {
    "duration": 43,
    "start_time": "2022-12-05T17:07:41.383Z"
   },
   {
    "duration": 469,
    "start_time": "2022-12-05T17:07:41.576Z"
   },
   {
    "duration": 63,
    "start_time": "2022-12-05T17:07:43.609Z"
   },
   {
    "duration": 11,
    "start_time": "2022-12-05T17:08:47.144Z"
   },
   {
    "duration": 5,
    "start_time": "2022-12-05T17:08:50.420Z"
   },
   {
    "duration": 5,
    "start_time": "2022-12-05T17:09:32.810Z"
   },
   {
    "duration": 5,
    "start_time": "2022-12-05T17:09:35.554Z"
   },
   {
    "duration": 10,
    "start_time": "2022-12-05T17:11:18.889Z"
   },
   {
    "duration": 5,
    "start_time": "2022-12-05T17:11:19.381Z"
   },
   {
    "duration": 6,
    "start_time": "2022-12-05T17:12:48.492Z"
   },
   {
    "duration": 18,
    "start_time": "2022-12-05T17:12:48.823Z"
   },
   {
    "duration": 216,
    "start_time": "2022-12-05T17:13:17.011Z"
   },
   {
    "duration": 19,
    "start_time": "2022-12-05T17:13:18.459Z"
   },
   {
    "duration": 43,
    "start_time": "2022-12-05T17:13:19.074Z"
   },
   {
    "duration": 231,
    "start_time": "2022-12-05T17:13:19.416Z"
   },
   {
    "duration": 21,
    "start_time": "2022-12-05T17:13:19.655Z"
   },
   {
    "duration": 5,
    "start_time": "2022-12-05T17:13:22.255Z"
   },
   {
    "duration": 16,
    "start_time": "2022-12-05T17:13:23.183Z"
   },
   {
    "duration": 259,
    "start_time": "2022-12-05T17:13:24.075Z"
   },
   {
    "duration": 251,
    "start_time": "2022-12-05T17:13:24.336Z"
   },
   {
    "duration": 213,
    "start_time": "2022-12-05T17:13:26.301Z"
   },
   {
    "duration": 203,
    "start_time": "2022-12-05T17:13:26.517Z"
   },
   {
    "duration": 15,
    "start_time": "2022-12-05T17:13:26.824Z"
   },
   {
    "duration": 149,
    "start_time": "2022-12-05T17:13:27.428Z"
   },
   {
    "duration": 159,
    "start_time": "2022-12-05T17:13:27.774Z"
   },
   {
    "duration": 20,
    "start_time": "2022-12-05T17:13:28.028Z"
   },
   {
    "duration": 150,
    "start_time": "2022-12-05T17:13:28.669Z"
   },
   {
    "duration": 149,
    "start_time": "2022-12-05T17:13:28.862Z"
   },
   {
    "duration": 15,
    "start_time": "2022-12-05T17:13:29.091Z"
   },
   {
    "duration": 155,
    "start_time": "2022-12-05T17:13:29.462Z"
   },
   {
    "duration": 164,
    "start_time": "2022-12-05T17:13:29.706Z"
   },
   {
    "duration": 16,
    "start_time": "2022-12-05T17:13:29.966Z"
   },
   {
    "duration": 16,
    "start_time": "2022-12-05T17:13:32.218Z"
   },
   {
    "duration": 13,
    "start_time": "2022-12-05T17:13:34.084Z"
   },
   {
    "duration": 38,
    "start_time": "2022-12-05T17:13:34.546Z"
   },
   {
    "duration": 503,
    "start_time": "2022-12-05T17:13:34.834Z"
   },
   {
    "duration": 36,
    "start_time": "2022-12-05T17:13:35.574Z"
   },
   {
    "duration": 784,
    "start_time": "2022-12-05T17:13:35.769Z"
   },
   {
    "duration": 62,
    "start_time": "2022-12-05T17:13:36.555Z"
   },
   {
    "duration": 461,
    "start_time": "2022-12-05T17:13:36.634Z"
   },
   {
    "duration": 11,
    "start_time": "2022-12-05T17:13:39.661Z"
   },
   {
    "duration": 6,
    "start_time": "2022-12-05T17:13:40.413Z"
   },
   {
    "duration": 12,
    "start_time": "2022-12-05T17:13:42.560Z"
   },
   {
    "duration": 6,
    "start_time": "2022-12-05T17:13:42.788Z"
   },
   {
    "duration": 28,
    "start_time": "2022-12-05T17:31:07.938Z"
   },
   {
    "duration": 15,
    "start_time": "2022-12-05T17:32:30.752Z"
   },
   {
    "duration": 22,
    "start_time": "2022-12-05T17:33:08.478Z"
   },
   {
    "duration": 17,
    "start_time": "2022-12-05T17:35:31.612Z"
   },
   {
    "duration": 5,
    "start_time": "2022-12-05T17:37:28.543Z"
   },
   {
    "duration": 6,
    "start_time": "2022-12-05T17:37:31.316Z"
   },
   {
    "duration": 5,
    "start_time": "2022-12-05T17:37:38.300Z"
   },
   {
    "duration": 16,
    "start_time": "2022-12-05T17:43:46.088Z"
   },
   {
    "duration": 20,
    "start_time": "2022-12-05T17:44:06.552Z"
   },
   {
    "duration": 3,
    "start_time": "2022-12-05T17:52:12.319Z"
   },
   {
    "duration": 1276,
    "start_time": "2022-12-05T17:55:24.458Z"
   },
   {
    "duration": 55,
    "start_time": "2022-12-05T17:55:25.736Z"
   },
   {
    "duration": 33,
    "start_time": "2022-12-05T17:55:25.793Z"
   },
   {
    "duration": 23,
    "start_time": "2022-12-05T17:55:25.830Z"
   },
   {
    "duration": 17,
    "start_time": "2022-12-05T17:55:25.855Z"
   },
   {
    "duration": 4,
    "start_time": "2022-12-05T17:55:25.873Z"
   },
   {
    "duration": 46,
    "start_time": "2022-12-05T17:55:25.879Z"
   },
   {
    "duration": 8,
    "start_time": "2022-12-05T17:55:25.928Z"
   },
   {
    "duration": 19,
    "start_time": "2022-12-05T17:55:25.937Z"
   },
   {
    "duration": 16,
    "start_time": "2022-12-05T17:55:25.959Z"
   },
   {
    "duration": 4,
    "start_time": "2022-12-05T17:55:25.977Z"
   },
   {
    "duration": 38,
    "start_time": "2022-12-05T17:55:25.983Z"
   },
   {
    "duration": 26,
    "start_time": "2022-12-05T17:55:26.023Z"
   },
   {
    "duration": 14,
    "start_time": "2022-12-05T17:55:26.051Z"
   },
   {
    "duration": 10,
    "start_time": "2022-12-05T17:55:26.067Z"
   },
   {
    "duration": 38,
    "start_time": "2022-12-05T17:55:26.078Z"
   },
   {
    "duration": 11,
    "start_time": "2022-12-05T17:55:26.118Z"
   },
   {
    "duration": 40,
    "start_time": "2022-12-05T17:55:26.131Z"
   },
   {
    "duration": 10,
    "start_time": "2022-12-05T17:55:26.173Z"
   },
   {
    "duration": 32,
    "start_time": "2022-12-05T17:55:26.213Z"
   },
   {
    "duration": 8,
    "start_time": "2022-12-05T17:55:26.247Z"
   },
   {
    "duration": 8,
    "start_time": "2022-12-05T17:55:26.259Z"
   },
   {
    "duration": 11,
    "start_time": "2022-12-05T17:55:26.269Z"
   },
   {
    "duration": 24,
    "start_time": "2022-12-05T17:55:26.282Z"
   },
   {
    "duration": 45,
    "start_time": "2022-12-05T17:55:26.308Z"
   },
   {
    "duration": 26,
    "start_time": "2022-12-05T17:55:26.356Z"
   },
   {
    "duration": 6,
    "start_time": "2022-12-05T17:55:26.384Z"
   },
   {
    "duration": 16,
    "start_time": "2022-12-05T17:55:26.394Z"
   },
   {
    "duration": 48,
    "start_time": "2022-12-05T17:55:26.412Z"
   },
   {
    "duration": 246,
    "start_time": "2022-12-05T17:55:26.462Z"
   },
   {
    "duration": 24,
    "start_time": "2022-12-05T17:55:26.712Z"
   },
   {
    "duration": 75,
    "start_time": "2022-12-05T17:55:26.738Z"
   },
   {
    "duration": 283,
    "start_time": "2022-12-05T17:55:26.815Z"
   },
   {
    "duration": 35,
    "start_time": "2022-12-05T17:55:27.100Z"
   },
   {
    "duration": 17,
    "start_time": "2022-12-05T17:55:27.137Z"
   },
   {
    "duration": 17,
    "start_time": "2022-12-05T17:55:27.156Z"
   },
   {
    "duration": 297,
    "start_time": "2022-12-05T17:55:27.175Z"
   },
   {
    "duration": 284,
    "start_time": "2022-12-05T17:55:27.475Z"
   },
   {
    "duration": 196,
    "start_time": "2022-12-05T17:55:27.761Z"
   },
   {
    "duration": 300,
    "start_time": "2022-12-05T17:55:27.959Z"
   },
   {
    "duration": 22,
    "start_time": "2022-12-05T17:55:28.261Z"
   },
   {
    "duration": 219,
    "start_time": "2022-12-05T17:55:28.285Z"
   },
   {
    "duration": 199,
    "start_time": "2022-12-05T17:55:28.506Z"
   },
   {
    "duration": 27,
    "start_time": "2022-12-05T17:55:28.707Z"
   },
   {
    "duration": 199,
    "start_time": "2022-12-05T17:55:28.736Z"
   },
   {
    "duration": 176,
    "start_time": "2022-12-05T17:55:28.937Z"
   },
   {
    "duration": 20,
    "start_time": "2022-12-05T17:55:29.115Z"
   },
   {
    "duration": 206,
    "start_time": "2022-12-05T17:55:29.137Z"
   },
   {
    "duration": 189,
    "start_time": "2022-12-05T17:55:29.346Z"
   },
   {
    "duration": 14,
    "start_time": "2022-12-05T17:55:29.537Z"
   },
   {
    "duration": 19,
    "start_time": "2022-12-05T17:55:29.553Z"
   },
   {
    "duration": 38,
    "start_time": "2022-12-05T17:55:29.574Z"
   },
   {
    "duration": 41,
    "start_time": "2022-12-05T17:55:29.615Z"
   },
   {
    "duration": 590,
    "start_time": "2022-12-05T17:55:29.658Z"
   },
   {
    "duration": 40,
    "start_time": "2022-12-05T17:55:30.249Z"
   },
   {
    "duration": 583,
    "start_time": "2022-12-05T17:55:30.291Z"
   },
   {
    "duration": 62,
    "start_time": "2022-12-05T17:55:30.876Z"
   },
   {
    "duration": 650,
    "start_time": "2022-12-05T17:55:30.940Z"
   },
   {
    "duration": 26,
    "start_time": "2022-12-05T17:55:31.592Z"
   },
   {
    "duration": 14,
    "start_time": "2022-12-05T17:55:31.621Z"
   },
   {
    "duration": 18,
    "start_time": "2022-12-05T17:55:31.637Z"
   },
   {
    "duration": 8,
    "start_time": "2022-12-05T17:55:31.657Z"
   }
  ],
  "kernelspec": {
   "display_name": "Python 3 (ipykernel)",
   "language": "python",
   "name": "python3"
  },
  "language_info": {
   "codemirror_mode": {
    "name": "ipython",
    "version": 3
   },
   "file_extension": ".py",
   "mimetype": "text/x-python",
   "name": "python",
   "nbconvert_exporter": "python",
   "pygments_lexer": "ipython3",
   "version": "3.9.5"
  },
  "toc": {
   "base_numbering": 1,
   "nav_menu": {
    "height": "712px",
    "width": "412px"
   },
   "number_sections": true,
   "sideBar": true,
   "skip_h1_title": true,
   "title_cell": "Table of Contents",
   "title_sidebar": "Contents",
   "toc_cell": true,
   "toc_position": {
    "height": "calc(100% - 180px)",
    "left": "10px",
    "top": "150px",
    "width": "382.2px"
   },
   "toc_section_display": true,
   "toc_window_display": true
  }
 },
 "nbformat": 4,
 "nbformat_minor": 4
}
