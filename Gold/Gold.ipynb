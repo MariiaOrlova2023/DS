{
 "cells": [
  {
   "cell_type": "markdown",
   "metadata": {
    "toc": true
   },
   "source": [
    "<h1>Содержание<span class=\"tocSkip\"></span></h1>\n",
    "<div class=\"toc\"><ul class=\"toc-item\"><li><span><a href=\"#Подготовка-данных\" data-toc-modified-id=\"Подготовка-данных-1\"><span class=\"toc-item-num\">1&nbsp;&nbsp;</span>Подготовка данных</a></span><ul class=\"toc-item\"><li><span><a href=\"#Откройте-файлы-и-изучите-их\" data-toc-modified-id=\"Откройте-файлы-и-изучите-их-1.1\"><span class=\"toc-item-num\">1.1&nbsp;&nbsp;</span>Откройте файлы и изучите их</a></span><ul class=\"toc-item\"><li><ul class=\"toc-item\"><li><span><a href=\"#train\" data-toc-modified-id=\"train-1.1.0.1\"><span class=\"toc-item-num\">1.1.0.1&nbsp;&nbsp;</span>train</a></span></li><li><span><a href=\"#test\" data-toc-modified-id=\"test-1.1.0.2\"><span class=\"toc-item-num\">1.1.0.2&nbsp;&nbsp;</span>test</a></span></li><li><span><a href=\"#full\" data-toc-modified-id=\"full-1.1.0.3\"><span class=\"toc-item-num\">1.1.0.3&nbsp;&nbsp;</span>full</a></span></li></ul></li></ul></li><li><span><a href=\"#Проверьте,-что-эффективность-обогащения-рассчитана-правильно\" data-toc-modified-id=\"Проверьте,-что-эффективность-обогащения-рассчитана-правильно-1.2\"><span class=\"toc-item-num\">1.2&nbsp;&nbsp;</span>Проверьте, что эффективность обогащения рассчитана правильно</a></span></li><li><span><a href=\"#Проанализируйте-признаки,-недоступные-в-тестовой-выборке.\" data-toc-modified-id=\"Проанализируйте-признаки,-недоступные-в-тестовой-выборке.-1.3\"><span class=\"toc-item-num\">1.3&nbsp;&nbsp;</span>Проанализируйте признаки, недоступные в тестовой выборке.</a></span></li><li><span><a href=\"#Проведите-предобработку-данных\" data-toc-modified-id=\"Проведите-предобработку-данных-1.4\"><span class=\"toc-item-num\">1.4&nbsp;&nbsp;</span>Проведите предобработку данных</a></span><ul class=\"toc-item\"><li><span><a href=\"#Корреляция\" data-toc-modified-id=\"Корреляция-1.4.1\"><span class=\"toc-item-num\">1.4.1&nbsp;&nbsp;</span>Корреляция</a></span></li><li><span><a href=\"#Заполнение-пропусков\" data-toc-modified-id=\"Заполнение-пропусков-1.4.2\"><span class=\"toc-item-num\">1.4.2&nbsp;&nbsp;</span>Заполнение пропусков</a></span></li></ul></li><li><span><a href=\"#Вывод\" data-toc-modified-id=\"Вывод-1.5\"><span class=\"toc-item-num\">1.5&nbsp;&nbsp;</span>Вывод</a></span></li></ul></li><li><span><a href=\"#Анализ-данных\" data-toc-modified-id=\"Анализ-данных-2\"><span class=\"toc-item-num\">2&nbsp;&nbsp;</span>Анализ данных</a></span><ul class=\"toc-item\"><li><ul class=\"toc-item\"><li><span><a href=\"#2.1-Посмотрите,-как-меняется-концентрация-металлов-(Au,-Ag,-Pb)-на-различных-этапах-очистки.-Опишите-выводы\" data-toc-modified-id=\"2.1-Посмотрите,-как-меняется-концентрация-металлов-(Au,-Ag,-Pb)-на-различных-этапах-очистки.-Опишите-выводы-2.0.1\"><span class=\"toc-item-num\">2.0.1&nbsp;&nbsp;</span>2.1 Посмотрите, как меняется концентрация металлов (Au, Ag, Pb) на различных этапах очистки. Опишите выводы</a></span><ul class=\"toc-item\"><li><span><a href=\"#Серебро.-Основное\" data-toc-modified-id=\"Серебро.-Основное-2.0.1.1\"><span class=\"toc-item-num\">2.0.1.1&nbsp;&nbsp;</span>Серебро. Основное</a></span></li><li><span><a href=\"#Серебро.-Хвосты\" data-toc-modified-id=\"Серебро.-Хвосты-2.0.1.2\"><span class=\"toc-item-num\">2.0.1.2&nbsp;&nbsp;</span>Серебро. Хвосты</a></span></li><li><span><a href=\"#Свинец.-Основное\" data-toc-modified-id=\"Свинец.-Основное-2.0.1.3\"><span class=\"toc-item-num\">2.0.1.3&nbsp;&nbsp;</span>Свинец. Основное</a></span></li><li><span><a href=\"#Свинец.-Хвосты\" data-toc-modified-id=\"Свинец.-Хвосты-2.0.1.4\"><span class=\"toc-item-num\">2.0.1.4&nbsp;&nbsp;</span>Свинец. Хвосты</a></span></li><li><span><a href=\"#Золото.-Основное\" data-toc-modified-id=\"Золото.-Основное-2.0.1.5\"><span class=\"toc-item-num\">2.0.1.5&nbsp;&nbsp;</span>Золото. Основное</a></span></li><li><span><a href=\"#Золото.-Хвосты\" data-toc-modified-id=\"Золото.-Хвосты-2.0.1.6\"><span class=\"toc-item-num\">2.0.1.6&nbsp;&nbsp;</span>Золото. Хвосты</a></span></li></ul></li></ul></li><li><span><a href=\"#2.2-Сравните-распределения-размеров-гранул-сырья-на-обучающей-и-тестовой-выборках.-Если-распределения-сильно-отличаются-друг-от-друга,-оценка-модели-будет-неправильной\" data-toc-modified-id=\"2.2-Сравните-распределения-размеров-гранул-сырья-на-обучающей-и-тестовой-выборках.-Если-распределения-сильно-отличаются-друг-от-друга,-оценка-модели-будет-неправильной-2.1\"><span class=\"toc-item-num\">2.1&nbsp;&nbsp;</span>2.2 Сравните распределения размеров гранул сырья на обучающей и тестовой выборках. Если распределения сильно отличаются друг от друга, оценка модели будет неправильной</a></span></li><li><span><a href=\"#2.3-Исследуйте-суммарную-концентрацию-всех-веществ-на-разных-стадиях:-в-сырье,-в-черновом-и-финальном-концентратах\" data-toc-modified-id=\"2.3-Исследуйте-суммарную-концентрацию-всех-веществ-на-разных-стадиях:-в-сырье,-в-черновом-и-финальном-концентратах-2.2\"><span class=\"toc-item-num\">2.2&nbsp;&nbsp;</span>2.3 Исследуйте суммарную концентрацию всех веществ на разных стадиях: в сырье, в черновом и финальном концентратах</a></span><ul class=\"toc-item\"><li><ul class=\"toc-item\"><li><span><a href=\"#Вывод\" data-toc-modified-id=\"Вывод-2.2.0.1\"><span class=\"toc-item-num\">2.2.0.1&nbsp;&nbsp;</span>Вывод</a></span></li></ul></li></ul></li></ul></li><li><span><a href=\"#Модель\" data-toc-modified-id=\"Модель-3\"><span class=\"toc-item-num\">3&nbsp;&nbsp;</span>Модель</a></span><ul class=\"toc-item\"><li><ul class=\"toc-item\"><li><span><a href=\"#3.1-Напишите-функцию-для-вычисления-итоговой-sMAPE\" data-toc-modified-id=\"3.1-Напишите-функцию-для-вычисления-итоговой-sMAPE-3.0.1\"><span class=\"toc-item-num\">3.0.1&nbsp;&nbsp;</span>3.1 Напишите функцию для вычисления итоговой sMAPE</a></span></li><li><span><a href=\"#3.2-Обучите-разные-модели-и-оцените-их-качество-кросс-валидацией.-Выберите-лучшую-модель-и-проверьте-её-на-тестовой-выборке.-Опишите-выводы\" data-toc-modified-id=\"3.2-Обучите-разные-модели-и-оцените-их-качество-кросс-валидацией.-Выберите-лучшую-модель-и-проверьте-её-на-тестовой-выборке.-Опишите-выводы-3.0.2\"><span class=\"toc-item-num\">3.0.2&nbsp;&nbsp;</span>3.2 Обучите разные модели и оцените их качество кросс-валидацией. Выберите лучшую модель и проверьте её на тестовой выборке. Опишите выводы</a></span><ul class=\"toc-item\"><li><span><a href=\"#Линейная-регрессия\" data-toc-modified-id=\"Линейная-регрессия-3.0.2.1\"><span class=\"toc-item-num\">3.0.2.1&nbsp;&nbsp;</span>Линейная регрессия</a></span></li><li><span><a href=\"#Дерево-решений\" data-toc-modified-id=\"Дерево-решений-3.0.2.2\"><span class=\"toc-item-num\">3.0.2.2&nbsp;&nbsp;</span>Дерево решений</a></span></li><li><span><a href=\"#Случайный-лес\" data-toc-modified-id=\"Случайный-лес-3.0.2.3\"><span class=\"toc-item-num\">3.0.2.3&nbsp;&nbsp;</span>Случайный лес</a></span></li><li><span><a href=\"#Тестирование-модели\" data-toc-modified-id=\"Тестирование-модели-3.0.2.4\"><span class=\"toc-item-num\">3.0.2.4&nbsp;&nbsp;</span>Тестирование модели</a></span></li><li><span><a href=\"#Вывод\" data-toc-modified-id=\"Вывод-3.0.2.5\"><span class=\"toc-item-num\">3.0.2.5&nbsp;&nbsp;</span>Вывод</a></span></li></ul></li></ul></li></ul></li><li><span><a href=\"#Общий-вывод\" data-toc-modified-id=\"Общий-вывод-4\"><span class=\"toc-item-num\">4&nbsp;&nbsp;</span>Общий вывод</a></span></li></ul></div>"
   ]
  },
  {
   "cell_type": "markdown",
   "metadata": {},
   "source": [
    "# Восстановление золота из руды"
   ]
  },
  {
   "cell_type": "markdown",
   "metadata": {},
   "source": [
    "Задача:  подготовить прототип модели машинного обучения. \n",
    "\n",
    "Заказчик: компания разрабатывающая решения для эффективной работы промышленных предприятий.\n",
    "\n",
    "Модель должна предсказать коэффициент восстановления золота из золотосодержащей руды. Есть данные с параметрами добычи и очистки. \n",
    "\n",
    "Модель поможет оптимизировать производство, чтобы не запускать предприятие с убыточными характеристиками.\n",
    "\n",
    "Вам нужно:\n",
    "\n",
    "1. Подготовить данные;\n",
    "2. Провести исследовательский анализ данных;\n",
    "3. Построить и обучить модель."
   ]
  },
  {
   "cell_type": "markdown",
   "metadata": {},
   "source": [
    "## Подготовка данных"
   ]
  },
  {
   "cell_type": "markdown",
   "metadata": {},
   "source": [
    "### Откройте файлы и изучите их"
   ]
  },
  {
   "cell_type": "code",
   "execution_count": 1,
   "metadata": {},
   "outputs": [],
   "source": [
    "import pandas as pd\n",
    "import numpy as np\n",
    "import matplotlib.pyplot as plt\n",
    "import seaborn as sns\n",
    "\n",
    "from sklearn.linear_model import LinearRegression\n",
    "from sklearn.ensemble import RandomForestRegressor\n",
    "from sklearn.tree import DecisionTreeRegressor\n",
    "from sklearn.model_selection import train_test_split\n",
    "from sklearn.preprocessing import StandardScaler\n",
    "\n",
    "from sklearn.model_selection import cross_val_score\n",
    "from sklearn.metrics import make_scorer, mean_absolute_error\n",
    "\n",
    "from sklearn.dummy import DummyRegressor"
   ]
  },
  {
   "cell_type": "markdown",
   "metadata": {},
   "source": [
    "##### train"
   ]
  },
  {
   "cell_type": "code",
   "execution_count": 2,
   "metadata": {},
   "outputs": [
    {
     "data": {
      "text/html": [
       "<div>\n",
       "<style scoped>\n",
       "    .dataframe tbody tr th:only-of-type {\n",
       "        vertical-align: middle;\n",
       "    }\n",
       "\n",
       "    .dataframe tbody tr th {\n",
       "        vertical-align: top;\n",
       "    }\n",
       "\n",
       "    .dataframe thead th {\n",
       "        text-align: right;\n",
       "    }\n",
       "</style>\n",
       "<table border=\"1\" class=\"dataframe\">\n",
       "  <thead>\n",
       "    <tr style=\"text-align: right;\">\n",
       "      <th></th>\n",
       "      <th>final.output.concentrate_ag</th>\n",
       "      <th>final.output.concentrate_pb</th>\n",
       "      <th>final.output.concentrate_sol</th>\n",
       "      <th>final.output.concentrate_au</th>\n",
       "      <th>final.output.recovery</th>\n",
       "      <th>final.output.tail_ag</th>\n",
       "      <th>final.output.tail_pb</th>\n",
       "      <th>final.output.tail_sol</th>\n",
       "      <th>final.output.tail_au</th>\n",
       "      <th>primary_cleaner.input.sulfate</th>\n",
       "      <th>...</th>\n",
       "      <th>secondary_cleaner.state.floatbank4_a_air</th>\n",
       "      <th>secondary_cleaner.state.floatbank4_a_level</th>\n",
       "      <th>secondary_cleaner.state.floatbank4_b_air</th>\n",
       "      <th>secondary_cleaner.state.floatbank4_b_level</th>\n",
       "      <th>secondary_cleaner.state.floatbank5_a_air</th>\n",
       "      <th>secondary_cleaner.state.floatbank5_a_level</th>\n",
       "      <th>secondary_cleaner.state.floatbank5_b_air</th>\n",
       "      <th>secondary_cleaner.state.floatbank5_b_level</th>\n",
       "      <th>secondary_cleaner.state.floatbank6_a_air</th>\n",
       "      <th>secondary_cleaner.state.floatbank6_a_level</th>\n",
       "    </tr>\n",
       "    <tr>\n",
       "      <th>date</th>\n",
       "      <th></th>\n",
       "      <th></th>\n",
       "      <th></th>\n",
       "      <th></th>\n",
       "      <th></th>\n",
       "      <th></th>\n",
       "      <th></th>\n",
       "      <th></th>\n",
       "      <th></th>\n",
       "      <th></th>\n",
       "      <th></th>\n",
       "      <th></th>\n",
       "      <th></th>\n",
       "      <th></th>\n",
       "      <th></th>\n",
       "      <th></th>\n",
       "      <th></th>\n",
       "      <th></th>\n",
       "      <th></th>\n",
       "      <th></th>\n",
       "      <th></th>\n",
       "    </tr>\n",
       "  </thead>\n",
       "  <tbody>\n",
       "    <tr>\n",
       "      <th>2016-01-15 00:00:00</th>\n",
       "      <td>6.055403</td>\n",
       "      <td>9.889648</td>\n",
       "      <td>5.507324</td>\n",
       "      <td>42.192020</td>\n",
       "      <td>70.541216</td>\n",
       "      <td>10.411962</td>\n",
       "      <td>0.895447</td>\n",
       "      <td>16.904297</td>\n",
       "      <td>2.143149</td>\n",
       "      <td>127.092003</td>\n",
       "      <td>...</td>\n",
       "      <td>14.016835</td>\n",
       "      <td>-502.488007</td>\n",
       "      <td>12.099931</td>\n",
       "      <td>-504.715942</td>\n",
       "      <td>9.925633</td>\n",
       "      <td>-498.310211</td>\n",
       "      <td>8.079666</td>\n",
       "      <td>-500.470978</td>\n",
       "      <td>14.151341</td>\n",
       "      <td>-605.841980</td>\n",
       "    </tr>\n",
       "    <tr>\n",
       "      <th>2016-01-15 01:00:00</th>\n",
       "      <td>6.029369</td>\n",
       "      <td>9.968944</td>\n",
       "      <td>5.257781</td>\n",
       "      <td>42.701629</td>\n",
       "      <td>69.266198</td>\n",
       "      <td>10.462676</td>\n",
       "      <td>0.927452</td>\n",
       "      <td>16.634514</td>\n",
       "      <td>2.224930</td>\n",
       "      <td>125.629232</td>\n",
       "      <td>...</td>\n",
       "      <td>13.992281</td>\n",
       "      <td>-505.503262</td>\n",
       "      <td>11.950531</td>\n",
       "      <td>-501.331529</td>\n",
       "      <td>10.039245</td>\n",
       "      <td>-500.169983</td>\n",
       "      <td>7.984757</td>\n",
       "      <td>-500.582168</td>\n",
       "      <td>13.998353</td>\n",
       "      <td>-599.787184</td>\n",
       "    </tr>\n",
       "    <tr>\n",
       "      <th>2016-01-15 02:00:00</th>\n",
       "      <td>6.055926</td>\n",
       "      <td>10.213995</td>\n",
       "      <td>5.383759</td>\n",
       "      <td>42.657501</td>\n",
       "      <td>68.116445</td>\n",
       "      <td>10.507046</td>\n",
       "      <td>0.953716</td>\n",
       "      <td>16.208849</td>\n",
       "      <td>2.257889</td>\n",
       "      <td>123.819808</td>\n",
       "      <td>...</td>\n",
       "      <td>14.015015</td>\n",
       "      <td>-502.520901</td>\n",
       "      <td>11.912783</td>\n",
       "      <td>-501.133383</td>\n",
       "      <td>10.070913</td>\n",
       "      <td>-500.129135</td>\n",
       "      <td>8.013877</td>\n",
       "      <td>-500.517572</td>\n",
       "      <td>14.028663</td>\n",
       "      <td>-601.427363</td>\n",
       "    </tr>\n",
       "    <tr>\n",
       "      <th>2016-01-15 03:00:00</th>\n",
       "      <td>6.047977</td>\n",
       "      <td>9.977019</td>\n",
       "      <td>4.858634</td>\n",
       "      <td>42.689819</td>\n",
       "      <td>68.347543</td>\n",
       "      <td>10.422762</td>\n",
       "      <td>0.883763</td>\n",
       "      <td>16.532835</td>\n",
       "      <td>2.146849</td>\n",
       "      <td>122.270188</td>\n",
       "      <td>...</td>\n",
       "      <td>14.036510</td>\n",
       "      <td>-500.857308</td>\n",
       "      <td>11.999550</td>\n",
       "      <td>-501.193686</td>\n",
       "      <td>9.970366</td>\n",
       "      <td>-499.201640</td>\n",
       "      <td>7.977324</td>\n",
       "      <td>-500.255908</td>\n",
       "      <td>14.005551</td>\n",
       "      <td>-599.996129</td>\n",
       "    </tr>\n",
       "    <tr>\n",
       "      <th>2016-01-15 04:00:00</th>\n",
       "      <td>6.148599</td>\n",
       "      <td>10.142511</td>\n",
       "      <td>4.939416</td>\n",
       "      <td>42.774141</td>\n",
       "      <td>66.927016</td>\n",
       "      <td>10.360302</td>\n",
       "      <td>0.792826</td>\n",
       "      <td>16.525686</td>\n",
       "      <td>2.055292</td>\n",
       "      <td>117.988169</td>\n",
       "      <td>...</td>\n",
       "      <td>14.027298</td>\n",
       "      <td>-499.838632</td>\n",
       "      <td>11.953070</td>\n",
       "      <td>-501.053894</td>\n",
       "      <td>9.925709</td>\n",
       "      <td>-501.686727</td>\n",
       "      <td>7.894242</td>\n",
       "      <td>-500.356035</td>\n",
       "      <td>13.996647</td>\n",
       "      <td>-601.496691</td>\n",
       "    </tr>\n",
       "  </tbody>\n",
       "</table>\n",
       "<p>5 rows × 86 columns</p>\n",
       "</div>"
      ],
      "text/plain": [
       "                     final.output.concentrate_ag  final.output.concentrate_pb  \\\n",
       "date                                                                            \n",
       "2016-01-15 00:00:00                     6.055403                     9.889648   \n",
       "2016-01-15 01:00:00                     6.029369                     9.968944   \n",
       "2016-01-15 02:00:00                     6.055926                    10.213995   \n",
       "2016-01-15 03:00:00                     6.047977                     9.977019   \n",
       "2016-01-15 04:00:00                     6.148599                    10.142511   \n",
       "\n",
       "                     final.output.concentrate_sol  \\\n",
       "date                                                \n",
       "2016-01-15 00:00:00                      5.507324   \n",
       "2016-01-15 01:00:00                      5.257781   \n",
       "2016-01-15 02:00:00                      5.383759   \n",
       "2016-01-15 03:00:00                      4.858634   \n",
       "2016-01-15 04:00:00                      4.939416   \n",
       "\n",
       "                     final.output.concentrate_au  final.output.recovery  \\\n",
       "date                                                                      \n",
       "2016-01-15 00:00:00                    42.192020              70.541216   \n",
       "2016-01-15 01:00:00                    42.701629              69.266198   \n",
       "2016-01-15 02:00:00                    42.657501              68.116445   \n",
       "2016-01-15 03:00:00                    42.689819              68.347543   \n",
       "2016-01-15 04:00:00                    42.774141              66.927016   \n",
       "\n",
       "                     final.output.tail_ag  final.output.tail_pb  \\\n",
       "date                                                              \n",
       "2016-01-15 00:00:00             10.411962              0.895447   \n",
       "2016-01-15 01:00:00             10.462676              0.927452   \n",
       "2016-01-15 02:00:00             10.507046              0.953716   \n",
       "2016-01-15 03:00:00             10.422762              0.883763   \n",
       "2016-01-15 04:00:00             10.360302              0.792826   \n",
       "\n",
       "                     final.output.tail_sol  final.output.tail_au  \\\n",
       "date                                                               \n",
       "2016-01-15 00:00:00              16.904297              2.143149   \n",
       "2016-01-15 01:00:00              16.634514              2.224930   \n",
       "2016-01-15 02:00:00              16.208849              2.257889   \n",
       "2016-01-15 03:00:00              16.532835              2.146849   \n",
       "2016-01-15 04:00:00              16.525686              2.055292   \n",
       "\n",
       "                     primary_cleaner.input.sulfate  ...  \\\n",
       "date                                                ...   \n",
       "2016-01-15 00:00:00                     127.092003  ...   \n",
       "2016-01-15 01:00:00                     125.629232  ...   \n",
       "2016-01-15 02:00:00                     123.819808  ...   \n",
       "2016-01-15 03:00:00                     122.270188  ...   \n",
       "2016-01-15 04:00:00                     117.988169  ...   \n",
       "\n",
       "                     secondary_cleaner.state.floatbank4_a_air  \\\n",
       "date                                                            \n",
       "2016-01-15 00:00:00                                 14.016835   \n",
       "2016-01-15 01:00:00                                 13.992281   \n",
       "2016-01-15 02:00:00                                 14.015015   \n",
       "2016-01-15 03:00:00                                 14.036510   \n",
       "2016-01-15 04:00:00                                 14.027298   \n",
       "\n",
       "                     secondary_cleaner.state.floatbank4_a_level  \\\n",
       "date                                                              \n",
       "2016-01-15 00:00:00                                 -502.488007   \n",
       "2016-01-15 01:00:00                                 -505.503262   \n",
       "2016-01-15 02:00:00                                 -502.520901   \n",
       "2016-01-15 03:00:00                                 -500.857308   \n",
       "2016-01-15 04:00:00                                 -499.838632   \n",
       "\n",
       "                     secondary_cleaner.state.floatbank4_b_air  \\\n",
       "date                                                            \n",
       "2016-01-15 00:00:00                                 12.099931   \n",
       "2016-01-15 01:00:00                                 11.950531   \n",
       "2016-01-15 02:00:00                                 11.912783   \n",
       "2016-01-15 03:00:00                                 11.999550   \n",
       "2016-01-15 04:00:00                                 11.953070   \n",
       "\n",
       "                     secondary_cleaner.state.floatbank4_b_level  \\\n",
       "date                                                              \n",
       "2016-01-15 00:00:00                                 -504.715942   \n",
       "2016-01-15 01:00:00                                 -501.331529   \n",
       "2016-01-15 02:00:00                                 -501.133383   \n",
       "2016-01-15 03:00:00                                 -501.193686   \n",
       "2016-01-15 04:00:00                                 -501.053894   \n",
       "\n",
       "                     secondary_cleaner.state.floatbank5_a_air  \\\n",
       "date                                                            \n",
       "2016-01-15 00:00:00                                  9.925633   \n",
       "2016-01-15 01:00:00                                 10.039245   \n",
       "2016-01-15 02:00:00                                 10.070913   \n",
       "2016-01-15 03:00:00                                  9.970366   \n",
       "2016-01-15 04:00:00                                  9.925709   \n",
       "\n",
       "                     secondary_cleaner.state.floatbank5_a_level  \\\n",
       "date                                                              \n",
       "2016-01-15 00:00:00                                 -498.310211   \n",
       "2016-01-15 01:00:00                                 -500.169983   \n",
       "2016-01-15 02:00:00                                 -500.129135   \n",
       "2016-01-15 03:00:00                                 -499.201640   \n",
       "2016-01-15 04:00:00                                 -501.686727   \n",
       "\n",
       "                     secondary_cleaner.state.floatbank5_b_air  \\\n",
       "date                                                            \n",
       "2016-01-15 00:00:00                                  8.079666   \n",
       "2016-01-15 01:00:00                                  7.984757   \n",
       "2016-01-15 02:00:00                                  8.013877   \n",
       "2016-01-15 03:00:00                                  7.977324   \n",
       "2016-01-15 04:00:00                                  7.894242   \n",
       "\n",
       "                     secondary_cleaner.state.floatbank5_b_level  \\\n",
       "date                                                              \n",
       "2016-01-15 00:00:00                                 -500.470978   \n",
       "2016-01-15 01:00:00                                 -500.582168   \n",
       "2016-01-15 02:00:00                                 -500.517572   \n",
       "2016-01-15 03:00:00                                 -500.255908   \n",
       "2016-01-15 04:00:00                                 -500.356035   \n",
       "\n",
       "                     secondary_cleaner.state.floatbank6_a_air  \\\n",
       "date                                                            \n",
       "2016-01-15 00:00:00                                 14.151341   \n",
       "2016-01-15 01:00:00                                 13.998353   \n",
       "2016-01-15 02:00:00                                 14.028663   \n",
       "2016-01-15 03:00:00                                 14.005551   \n",
       "2016-01-15 04:00:00                                 13.996647   \n",
       "\n",
       "                     secondary_cleaner.state.floatbank6_a_level  \n",
       "date                                                             \n",
       "2016-01-15 00:00:00                                 -605.841980  \n",
       "2016-01-15 01:00:00                                 -599.787184  \n",
       "2016-01-15 02:00:00                                 -601.427363  \n",
       "2016-01-15 03:00:00                                 -599.996129  \n",
       "2016-01-15 04:00:00                                 -601.496691  \n",
       "\n",
       "[5 rows x 86 columns]"
      ]
     },
     "execution_count": 2,
     "metadata": {},
     "output_type": "execute_result"
    }
   ],
   "source": [
    "try:\n",
    "     df_train = pd.read_csv(r\"C:\\Проекты Яндекс.Практикум\\9. Сборный проект-2. Очистка золота\\Датасет\\gold_recovery_train_new.csv\", index_col='date', parse_dates=True)\n",
    "except: \n",
    "    df_train = pd.read_csv('/datasets/gold_recovery_train_new.csv', index_col='date', parse_dates=True)\n",
    "df_train.head()"
   ]
  },
  {
   "cell_type": "code",
   "execution_count": 3,
   "metadata": {
    "scrolled": false
   },
   "outputs": [
    {
     "name": "stdout",
     "output_type": "stream",
     "text": [
      "<class 'pandas.core.frame.DataFrame'>\n",
      "DatetimeIndex: 14149 entries, 2016-01-15 00:00:00 to 2018-08-18 10:59:59\n",
      "Data columns (total 86 columns):\n",
      " #   Column                                              Non-Null Count  Dtype  \n",
      "---  ------                                              --------------  -----  \n",
      " 0   final.output.concentrate_ag                         14148 non-null  float64\n",
      " 1   final.output.concentrate_pb                         14148 non-null  float64\n",
      " 2   final.output.concentrate_sol                        13938 non-null  float64\n",
      " 3   final.output.concentrate_au                         14149 non-null  float64\n",
      " 4   final.output.recovery                               14149 non-null  float64\n",
      " 5   final.output.tail_ag                                14149 non-null  float64\n",
      " 6   final.output.tail_pb                                14049 non-null  float64\n",
      " 7   final.output.tail_sol                               14144 non-null  float64\n",
      " 8   final.output.tail_au                                14149 non-null  float64\n",
      " 9   primary_cleaner.input.sulfate                       14129 non-null  float64\n",
      " 10  primary_cleaner.input.depressant                    14117 non-null  float64\n",
      " 11  primary_cleaner.input.feed_size                     14149 non-null  float64\n",
      " 12  primary_cleaner.input.xanthate                      14049 non-null  float64\n",
      " 13  primary_cleaner.output.concentrate_ag               14149 non-null  float64\n",
      " 14  primary_cleaner.output.concentrate_pb               14063 non-null  float64\n",
      " 15  primary_cleaner.output.concentrate_sol              13863 non-null  float64\n",
      " 16  primary_cleaner.output.concentrate_au               14149 non-null  float64\n",
      " 17  primary_cleaner.output.tail_ag                      14148 non-null  float64\n",
      " 18  primary_cleaner.output.tail_pb                      14134 non-null  float64\n",
      " 19  primary_cleaner.output.tail_sol                     14103 non-null  float64\n",
      " 20  primary_cleaner.output.tail_au                      14149 non-null  float64\n",
      " 21  primary_cleaner.state.floatbank8_a_air              14145 non-null  float64\n",
      " 22  primary_cleaner.state.floatbank8_a_level            14148 non-null  float64\n",
      " 23  primary_cleaner.state.floatbank8_b_air              14145 non-null  float64\n",
      " 24  primary_cleaner.state.floatbank8_b_level            14148 non-null  float64\n",
      " 25  primary_cleaner.state.floatbank8_c_air              14147 non-null  float64\n",
      " 26  primary_cleaner.state.floatbank8_c_level            14148 non-null  float64\n",
      " 27  primary_cleaner.state.floatbank8_d_air              14146 non-null  float64\n",
      " 28  primary_cleaner.state.floatbank8_d_level            14148 non-null  float64\n",
      " 29  rougher.calculation.sulfate_to_au_concentrate       14148 non-null  float64\n",
      " 30  rougher.calculation.floatbank10_sulfate_to_au_feed  14148 non-null  float64\n",
      " 31  rougher.calculation.floatbank11_sulfate_to_au_feed  14148 non-null  float64\n",
      " 32  rougher.calculation.au_pb_ratio                     14149 non-null  float64\n",
      " 33  rougher.input.feed_ag                               14149 non-null  float64\n",
      " 34  rougher.input.feed_pb                               14049 non-null  float64\n",
      " 35  rougher.input.feed_rate                             14141 non-null  float64\n",
      " 36  rougher.input.feed_size                             14005 non-null  float64\n",
      " 37  rougher.input.feed_sol                              14071 non-null  float64\n",
      " 38  rougher.input.feed_au                               14149 non-null  float64\n",
      " 39  rougher.input.floatbank10_sulfate                   14120 non-null  float64\n",
      " 40  rougher.input.floatbank10_xanthate                  14141 non-null  float64\n",
      " 41  rougher.input.floatbank11_sulfate                   14113 non-null  float64\n",
      " 42  rougher.input.floatbank11_xanthate                  13721 non-null  float64\n",
      " 43  rougher.output.concentrate_ag                       14149 non-null  float64\n",
      " 44  rougher.output.concentrate_pb                       14149 non-null  float64\n",
      " 45  rougher.output.concentrate_sol                      14127 non-null  float64\n",
      " 46  rougher.output.concentrate_au                       14149 non-null  float64\n",
      " 47  rougher.output.recovery                             14149 non-null  float64\n",
      " 48  rougher.output.tail_ag                              14148 non-null  float64\n",
      " 49  rougher.output.tail_pb                              14149 non-null  float64\n",
      " 50  rougher.output.tail_sol                             14149 non-null  float64\n",
      " 51  rougher.output.tail_au                              14149 non-null  float64\n",
      " 52  rougher.state.floatbank10_a_air                     14148 non-null  float64\n",
      " 53  rougher.state.floatbank10_a_level                   14148 non-null  float64\n",
      " 54  rougher.state.floatbank10_b_air                     14148 non-null  float64\n",
      " 55  rougher.state.floatbank10_b_level                   14148 non-null  float64\n",
      " 56  rougher.state.floatbank10_c_air                     14148 non-null  float64\n",
      " 57  rougher.state.floatbank10_c_level                   14148 non-null  float64\n",
      " 58  rougher.state.floatbank10_d_air                     14149 non-null  float64\n",
      " 59  rougher.state.floatbank10_d_level                   14149 non-null  float64\n",
      " 60  rougher.state.floatbank10_e_air                     13713 non-null  float64\n",
      " 61  rougher.state.floatbank10_e_level                   14149 non-null  float64\n",
      " 62  rougher.state.floatbank10_f_air                     14149 non-null  float64\n",
      " 63  rougher.state.floatbank10_f_level                   14149 non-null  float64\n",
      " 64  secondary_cleaner.output.tail_ag                    14147 non-null  float64\n",
      " 65  secondary_cleaner.output.tail_pb                    14139 non-null  float64\n",
      " 66  secondary_cleaner.output.tail_sol                   12544 non-null  float64\n",
      " 67  secondary_cleaner.output.tail_au                    14149 non-null  float64\n",
      " 68  secondary_cleaner.state.floatbank2_a_air            13932 non-null  float64\n",
      " 69  secondary_cleaner.state.floatbank2_a_level          14148 non-null  float64\n",
      " 70  secondary_cleaner.state.floatbank2_b_air            14128 non-null  float64\n",
      " 71  secondary_cleaner.state.floatbank2_b_level          14148 non-null  float64\n",
      " 72  secondary_cleaner.state.floatbank3_a_air            14145 non-null  float64\n",
      " 73  secondary_cleaner.state.floatbank3_a_level          14148 non-null  float64\n",
      " 74  secondary_cleaner.state.floatbank3_b_air            14148 non-null  float64\n",
      " 75  secondary_cleaner.state.floatbank3_b_level          14148 non-null  float64\n",
      " 76  secondary_cleaner.state.floatbank4_a_air            14143 non-null  float64\n",
      " 77  secondary_cleaner.state.floatbank4_a_level          14148 non-null  float64\n",
      " 78  secondary_cleaner.state.floatbank4_b_air            14148 non-null  float64\n",
      " 79  secondary_cleaner.state.floatbank4_b_level          14148 non-null  float64\n",
      " 80  secondary_cleaner.state.floatbank5_a_air            14148 non-null  float64\n",
      " 81  secondary_cleaner.state.floatbank5_a_level          14148 non-null  float64\n",
      " 82  secondary_cleaner.state.floatbank5_b_air            14148 non-null  float64\n",
      " 83  secondary_cleaner.state.floatbank5_b_level          14148 non-null  float64\n",
      " 84  secondary_cleaner.state.floatbank6_a_air            14147 non-null  float64\n",
      " 85  secondary_cleaner.state.floatbank6_a_level          14148 non-null  float64\n",
      "dtypes: float64(86)\n",
      "memory usage: 9.4 MB\n"
     ]
    }
   ],
   "source": [
    "df_train.info()"
   ]
  },
  {
   "cell_type": "markdown",
   "metadata": {},
   "source": [
    "##### test"
   ]
  },
  {
   "cell_type": "code",
   "execution_count": 4,
   "metadata": {},
   "outputs": [
    {
     "data": {
      "text/html": [
       "<div>\n",
       "<style scoped>\n",
       "    .dataframe tbody tr th:only-of-type {\n",
       "        vertical-align: middle;\n",
       "    }\n",
       "\n",
       "    .dataframe tbody tr th {\n",
       "        vertical-align: top;\n",
       "    }\n",
       "\n",
       "    .dataframe thead th {\n",
       "        text-align: right;\n",
       "    }\n",
       "</style>\n",
       "<table border=\"1\" class=\"dataframe\">\n",
       "  <thead>\n",
       "    <tr style=\"text-align: right;\">\n",
       "      <th></th>\n",
       "      <th>primary_cleaner.input.sulfate</th>\n",
       "      <th>primary_cleaner.input.depressant</th>\n",
       "      <th>primary_cleaner.input.feed_size</th>\n",
       "      <th>primary_cleaner.input.xanthate</th>\n",
       "      <th>primary_cleaner.state.floatbank8_a_air</th>\n",
       "      <th>primary_cleaner.state.floatbank8_a_level</th>\n",
       "      <th>primary_cleaner.state.floatbank8_b_air</th>\n",
       "      <th>primary_cleaner.state.floatbank8_b_level</th>\n",
       "      <th>primary_cleaner.state.floatbank8_c_air</th>\n",
       "      <th>primary_cleaner.state.floatbank8_c_level</th>\n",
       "      <th>...</th>\n",
       "      <th>secondary_cleaner.state.floatbank4_a_air</th>\n",
       "      <th>secondary_cleaner.state.floatbank4_a_level</th>\n",
       "      <th>secondary_cleaner.state.floatbank4_b_air</th>\n",
       "      <th>secondary_cleaner.state.floatbank4_b_level</th>\n",
       "      <th>secondary_cleaner.state.floatbank5_a_air</th>\n",
       "      <th>secondary_cleaner.state.floatbank5_a_level</th>\n",
       "      <th>secondary_cleaner.state.floatbank5_b_air</th>\n",
       "      <th>secondary_cleaner.state.floatbank5_b_level</th>\n",
       "      <th>secondary_cleaner.state.floatbank6_a_air</th>\n",
       "      <th>secondary_cleaner.state.floatbank6_a_level</th>\n",
       "    </tr>\n",
       "    <tr>\n",
       "      <th>date</th>\n",
       "      <th></th>\n",
       "      <th></th>\n",
       "      <th></th>\n",
       "      <th></th>\n",
       "      <th></th>\n",
       "      <th></th>\n",
       "      <th></th>\n",
       "      <th></th>\n",
       "      <th></th>\n",
       "      <th></th>\n",
       "      <th></th>\n",
       "      <th></th>\n",
       "      <th></th>\n",
       "      <th></th>\n",
       "      <th></th>\n",
       "      <th></th>\n",
       "      <th></th>\n",
       "      <th></th>\n",
       "      <th></th>\n",
       "      <th></th>\n",
       "      <th></th>\n",
       "    </tr>\n",
       "  </thead>\n",
       "  <tbody>\n",
       "    <tr>\n",
       "      <th>2016-09-01 00:59:59</th>\n",
       "      <td>210.800909</td>\n",
       "      <td>14.993118</td>\n",
       "      <td>8.080000</td>\n",
       "      <td>1.005021</td>\n",
       "      <td>1398.981301</td>\n",
       "      <td>-500.225577</td>\n",
       "      <td>1399.144926</td>\n",
       "      <td>-499.919735</td>\n",
       "      <td>1400.102998</td>\n",
       "      <td>-500.704369</td>\n",
       "      <td>...</td>\n",
       "      <td>12.023554</td>\n",
       "      <td>-497.795834</td>\n",
       "      <td>8.016656</td>\n",
       "      <td>-501.289139</td>\n",
       "      <td>7.946562</td>\n",
       "      <td>-432.317850</td>\n",
       "      <td>4.872511</td>\n",
       "      <td>-500.037437</td>\n",
       "      <td>26.705889</td>\n",
       "      <td>-499.709414</td>\n",
       "    </tr>\n",
       "    <tr>\n",
       "      <th>2016-09-01 01:59:59</th>\n",
       "      <td>215.392455</td>\n",
       "      <td>14.987471</td>\n",
       "      <td>8.080000</td>\n",
       "      <td>0.990469</td>\n",
       "      <td>1398.777912</td>\n",
       "      <td>-500.057435</td>\n",
       "      <td>1398.055362</td>\n",
       "      <td>-499.778182</td>\n",
       "      <td>1396.151033</td>\n",
       "      <td>-499.240168</td>\n",
       "      <td>...</td>\n",
       "      <td>12.058140</td>\n",
       "      <td>-498.695773</td>\n",
       "      <td>8.130979</td>\n",
       "      <td>-499.634209</td>\n",
       "      <td>7.958270</td>\n",
       "      <td>-525.839648</td>\n",
       "      <td>4.878850</td>\n",
       "      <td>-500.162375</td>\n",
       "      <td>25.019940</td>\n",
       "      <td>-499.819438</td>\n",
       "    </tr>\n",
       "    <tr>\n",
       "      <th>2016-09-01 02:59:59</th>\n",
       "      <td>215.259946</td>\n",
       "      <td>12.884934</td>\n",
       "      <td>7.786667</td>\n",
       "      <td>0.996043</td>\n",
       "      <td>1398.493666</td>\n",
       "      <td>-500.868360</td>\n",
       "      <td>1398.860436</td>\n",
       "      <td>-499.764529</td>\n",
       "      <td>1398.075709</td>\n",
       "      <td>-502.151509</td>\n",
       "      <td>...</td>\n",
       "      <td>11.962366</td>\n",
       "      <td>-498.767484</td>\n",
       "      <td>8.096893</td>\n",
       "      <td>-500.827423</td>\n",
       "      <td>8.071056</td>\n",
       "      <td>-500.801673</td>\n",
       "      <td>4.905125</td>\n",
       "      <td>-499.828510</td>\n",
       "      <td>24.994862</td>\n",
       "      <td>-500.622559</td>\n",
       "    </tr>\n",
       "    <tr>\n",
       "      <th>2016-09-01 03:59:59</th>\n",
       "      <td>215.336236</td>\n",
       "      <td>12.006805</td>\n",
       "      <td>7.640000</td>\n",
       "      <td>0.863514</td>\n",
       "      <td>1399.618111</td>\n",
       "      <td>-498.863574</td>\n",
       "      <td>1397.440120</td>\n",
       "      <td>-499.211024</td>\n",
       "      <td>1400.129303</td>\n",
       "      <td>-498.355873</td>\n",
       "      <td>...</td>\n",
       "      <td>12.033091</td>\n",
       "      <td>-498.350935</td>\n",
       "      <td>8.074946</td>\n",
       "      <td>-499.474407</td>\n",
       "      <td>7.897085</td>\n",
       "      <td>-500.868509</td>\n",
       "      <td>4.931400</td>\n",
       "      <td>-499.963623</td>\n",
       "      <td>24.948919</td>\n",
       "      <td>-498.709987</td>\n",
       "    </tr>\n",
       "    <tr>\n",
       "      <th>2016-09-01 04:59:59</th>\n",
       "      <td>199.099327</td>\n",
       "      <td>10.682530</td>\n",
       "      <td>7.530000</td>\n",
       "      <td>0.805575</td>\n",
       "      <td>1401.268123</td>\n",
       "      <td>-500.808305</td>\n",
       "      <td>1398.128818</td>\n",
       "      <td>-499.504543</td>\n",
       "      <td>1402.172226</td>\n",
       "      <td>-500.810606</td>\n",
       "      <td>...</td>\n",
       "      <td>12.025367</td>\n",
       "      <td>-500.786497</td>\n",
       "      <td>8.054678</td>\n",
       "      <td>-500.397500</td>\n",
       "      <td>8.107890</td>\n",
       "      <td>-509.526725</td>\n",
       "      <td>4.957674</td>\n",
       "      <td>-500.360026</td>\n",
       "      <td>25.003331</td>\n",
       "      <td>-500.856333</td>\n",
       "    </tr>\n",
       "  </tbody>\n",
       "</table>\n",
       "<p>5 rows × 52 columns</p>\n",
       "</div>"
      ],
      "text/plain": [
       "                     primary_cleaner.input.sulfate  \\\n",
       "date                                                 \n",
       "2016-09-01 00:59:59                     210.800909   \n",
       "2016-09-01 01:59:59                     215.392455   \n",
       "2016-09-01 02:59:59                     215.259946   \n",
       "2016-09-01 03:59:59                     215.336236   \n",
       "2016-09-01 04:59:59                     199.099327   \n",
       "\n",
       "                     primary_cleaner.input.depressant  \\\n",
       "date                                                    \n",
       "2016-09-01 00:59:59                         14.993118   \n",
       "2016-09-01 01:59:59                         14.987471   \n",
       "2016-09-01 02:59:59                         12.884934   \n",
       "2016-09-01 03:59:59                         12.006805   \n",
       "2016-09-01 04:59:59                         10.682530   \n",
       "\n",
       "                     primary_cleaner.input.feed_size  \\\n",
       "date                                                   \n",
       "2016-09-01 00:59:59                         8.080000   \n",
       "2016-09-01 01:59:59                         8.080000   \n",
       "2016-09-01 02:59:59                         7.786667   \n",
       "2016-09-01 03:59:59                         7.640000   \n",
       "2016-09-01 04:59:59                         7.530000   \n",
       "\n",
       "                     primary_cleaner.input.xanthate  \\\n",
       "date                                                  \n",
       "2016-09-01 00:59:59                        1.005021   \n",
       "2016-09-01 01:59:59                        0.990469   \n",
       "2016-09-01 02:59:59                        0.996043   \n",
       "2016-09-01 03:59:59                        0.863514   \n",
       "2016-09-01 04:59:59                        0.805575   \n",
       "\n",
       "                     primary_cleaner.state.floatbank8_a_air  \\\n",
       "date                                                          \n",
       "2016-09-01 00:59:59                             1398.981301   \n",
       "2016-09-01 01:59:59                             1398.777912   \n",
       "2016-09-01 02:59:59                             1398.493666   \n",
       "2016-09-01 03:59:59                             1399.618111   \n",
       "2016-09-01 04:59:59                             1401.268123   \n",
       "\n",
       "                     primary_cleaner.state.floatbank8_a_level  \\\n",
       "date                                                            \n",
       "2016-09-01 00:59:59                               -500.225577   \n",
       "2016-09-01 01:59:59                               -500.057435   \n",
       "2016-09-01 02:59:59                               -500.868360   \n",
       "2016-09-01 03:59:59                               -498.863574   \n",
       "2016-09-01 04:59:59                               -500.808305   \n",
       "\n",
       "                     primary_cleaner.state.floatbank8_b_air  \\\n",
       "date                                                          \n",
       "2016-09-01 00:59:59                             1399.144926   \n",
       "2016-09-01 01:59:59                             1398.055362   \n",
       "2016-09-01 02:59:59                             1398.860436   \n",
       "2016-09-01 03:59:59                             1397.440120   \n",
       "2016-09-01 04:59:59                             1398.128818   \n",
       "\n",
       "                     primary_cleaner.state.floatbank8_b_level  \\\n",
       "date                                                            \n",
       "2016-09-01 00:59:59                               -499.919735   \n",
       "2016-09-01 01:59:59                               -499.778182   \n",
       "2016-09-01 02:59:59                               -499.764529   \n",
       "2016-09-01 03:59:59                               -499.211024   \n",
       "2016-09-01 04:59:59                               -499.504543   \n",
       "\n",
       "                     primary_cleaner.state.floatbank8_c_air  \\\n",
       "date                                                          \n",
       "2016-09-01 00:59:59                             1400.102998   \n",
       "2016-09-01 01:59:59                             1396.151033   \n",
       "2016-09-01 02:59:59                             1398.075709   \n",
       "2016-09-01 03:59:59                             1400.129303   \n",
       "2016-09-01 04:59:59                             1402.172226   \n",
       "\n",
       "                     primary_cleaner.state.floatbank8_c_level  ...  \\\n",
       "date                                                           ...   \n",
       "2016-09-01 00:59:59                               -500.704369  ...   \n",
       "2016-09-01 01:59:59                               -499.240168  ...   \n",
       "2016-09-01 02:59:59                               -502.151509  ...   \n",
       "2016-09-01 03:59:59                               -498.355873  ...   \n",
       "2016-09-01 04:59:59                               -500.810606  ...   \n",
       "\n",
       "                     secondary_cleaner.state.floatbank4_a_air  \\\n",
       "date                                                            \n",
       "2016-09-01 00:59:59                                 12.023554   \n",
       "2016-09-01 01:59:59                                 12.058140   \n",
       "2016-09-01 02:59:59                                 11.962366   \n",
       "2016-09-01 03:59:59                                 12.033091   \n",
       "2016-09-01 04:59:59                                 12.025367   \n",
       "\n",
       "                     secondary_cleaner.state.floatbank4_a_level  \\\n",
       "date                                                              \n",
       "2016-09-01 00:59:59                                 -497.795834   \n",
       "2016-09-01 01:59:59                                 -498.695773   \n",
       "2016-09-01 02:59:59                                 -498.767484   \n",
       "2016-09-01 03:59:59                                 -498.350935   \n",
       "2016-09-01 04:59:59                                 -500.786497   \n",
       "\n",
       "                     secondary_cleaner.state.floatbank4_b_air  \\\n",
       "date                                                            \n",
       "2016-09-01 00:59:59                                  8.016656   \n",
       "2016-09-01 01:59:59                                  8.130979   \n",
       "2016-09-01 02:59:59                                  8.096893   \n",
       "2016-09-01 03:59:59                                  8.074946   \n",
       "2016-09-01 04:59:59                                  8.054678   \n",
       "\n",
       "                     secondary_cleaner.state.floatbank4_b_level  \\\n",
       "date                                                              \n",
       "2016-09-01 00:59:59                                 -501.289139   \n",
       "2016-09-01 01:59:59                                 -499.634209   \n",
       "2016-09-01 02:59:59                                 -500.827423   \n",
       "2016-09-01 03:59:59                                 -499.474407   \n",
       "2016-09-01 04:59:59                                 -500.397500   \n",
       "\n",
       "                     secondary_cleaner.state.floatbank5_a_air  \\\n",
       "date                                                            \n",
       "2016-09-01 00:59:59                                  7.946562   \n",
       "2016-09-01 01:59:59                                  7.958270   \n",
       "2016-09-01 02:59:59                                  8.071056   \n",
       "2016-09-01 03:59:59                                  7.897085   \n",
       "2016-09-01 04:59:59                                  8.107890   \n",
       "\n",
       "                     secondary_cleaner.state.floatbank5_a_level  \\\n",
       "date                                                              \n",
       "2016-09-01 00:59:59                                 -432.317850   \n",
       "2016-09-01 01:59:59                                 -525.839648   \n",
       "2016-09-01 02:59:59                                 -500.801673   \n",
       "2016-09-01 03:59:59                                 -500.868509   \n",
       "2016-09-01 04:59:59                                 -509.526725   \n",
       "\n",
       "                     secondary_cleaner.state.floatbank5_b_air  \\\n",
       "date                                                            \n",
       "2016-09-01 00:59:59                                  4.872511   \n",
       "2016-09-01 01:59:59                                  4.878850   \n",
       "2016-09-01 02:59:59                                  4.905125   \n",
       "2016-09-01 03:59:59                                  4.931400   \n",
       "2016-09-01 04:59:59                                  4.957674   \n",
       "\n",
       "                     secondary_cleaner.state.floatbank5_b_level  \\\n",
       "date                                                              \n",
       "2016-09-01 00:59:59                                 -500.037437   \n",
       "2016-09-01 01:59:59                                 -500.162375   \n",
       "2016-09-01 02:59:59                                 -499.828510   \n",
       "2016-09-01 03:59:59                                 -499.963623   \n",
       "2016-09-01 04:59:59                                 -500.360026   \n",
       "\n",
       "                     secondary_cleaner.state.floatbank6_a_air  \\\n",
       "date                                                            \n",
       "2016-09-01 00:59:59                                 26.705889   \n",
       "2016-09-01 01:59:59                                 25.019940   \n",
       "2016-09-01 02:59:59                                 24.994862   \n",
       "2016-09-01 03:59:59                                 24.948919   \n",
       "2016-09-01 04:59:59                                 25.003331   \n",
       "\n",
       "                     secondary_cleaner.state.floatbank6_a_level  \n",
       "date                                                             \n",
       "2016-09-01 00:59:59                                 -499.709414  \n",
       "2016-09-01 01:59:59                                 -499.819438  \n",
       "2016-09-01 02:59:59                                 -500.622559  \n",
       "2016-09-01 03:59:59                                 -498.709987  \n",
       "2016-09-01 04:59:59                                 -500.856333  \n",
       "\n",
       "[5 rows x 52 columns]"
      ]
     },
     "execution_count": 4,
     "metadata": {},
     "output_type": "execute_result"
    }
   ],
   "source": [
    "try:\n",
    "     df_test = pd.read_csv(r\"C:\\Проекты Яндекс.Практикум\\9. Сборный проект-2. Очистка золота\\Датасет\\gold_recovery_train_new.csv\", index_col='date', parse_dates=True)\n",
    "except: \n",
    "    df_test = pd.read_csv('/datasets/gold_recovery_test_new.csv', index_col='date', parse_dates=True)\n",
    "df_test.head()"
   ]
  },
  {
   "cell_type": "code",
   "execution_count": 5,
   "metadata": {
    "scrolled": false
   },
   "outputs": [
    {
     "name": "stdout",
     "output_type": "stream",
     "text": [
      "<class 'pandas.core.frame.DataFrame'>\n",
      "DatetimeIndex: 5290 entries, 2016-09-01 00:59:59 to 2017-12-31 23:59:59\n",
      "Data columns (total 52 columns):\n",
      " #   Column                                      Non-Null Count  Dtype  \n",
      "---  ------                                      --------------  -----  \n",
      " 0   primary_cleaner.input.sulfate               5286 non-null   float64\n",
      " 1   primary_cleaner.input.depressant            5285 non-null   float64\n",
      " 2   primary_cleaner.input.feed_size             5290 non-null   float64\n",
      " 3   primary_cleaner.input.xanthate              5286 non-null   float64\n",
      " 4   primary_cleaner.state.floatbank8_a_air      5290 non-null   float64\n",
      " 5   primary_cleaner.state.floatbank8_a_level    5290 non-null   float64\n",
      " 6   primary_cleaner.state.floatbank8_b_air      5290 non-null   float64\n",
      " 7   primary_cleaner.state.floatbank8_b_level    5290 non-null   float64\n",
      " 8   primary_cleaner.state.floatbank8_c_air      5290 non-null   float64\n",
      " 9   primary_cleaner.state.floatbank8_c_level    5290 non-null   float64\n",
      " 10  primary_cleaner.state.floatbank8_d_air      5290 non-null   float64\n",
      " 11  primary_cleaner.state.floatbank8_d_level    5290 non-null   float64\n",
      " 12  rougher.input.feed_ag                       5290 non-null   float64\n",
      " 13  rougher.input.feed_pb                       5290 non-null   float64\n",
      " 14  rougher.input.feed_rate                     5287 non-null   float64\n",
      " 15  rougher.input.feed_size                     5289 non-null   float64\n",
      " 16  rougher.input.feed_sol                      5269 non-null   float64\n",
      " 17  rougher.input.feed_au                       5290 non-null   float64\n",
      " 18  rougher.input.floatbank10_sulfate           5285 non-null   float64\n",
      " 19  rougher.input.floatbank10_xanthate          5290 non-null   float64\n",
      " 20  rougher.input.floatbank11_sulfate           5282 non-null   float64\n",
      " 21  rougher.input.floatbank11_xanthate          5265 non-null   float64\n",
      " 22  rougher.state.floatbank10_a_air             5290 non-null   float64\n",
      " 23  rougher.state.floatbank10_a_level           5290 non-null   float64\n",
      " 24  rougher.state.floatbank10_b_air             5290 non-null   float64\n",
      " 25  rougher.state.floatbank10_b_level           5290 non-null   float64\n",
      " 26  rougher.state.floatbank10_c_air             5290 non-null   float64\n",
      " 27  rougher.state.floatbank10_c_level           5290 non-null   float64\n",
      " 28  rougher.state.floatbank10_d_air             5290 non-null   float64\n",
      " 29  rougher.state.floatbank10_d_level           5290 non-null   float64\n",
      " 30  rougher.state.floatbank10_e_air             5290 non-null   float64\n",
      " 31  rougher.state.floatbank10_e_level           5290 non-null   float64\n",
      " 32  rougher.state.floatbank10_f_air             5290 non-null   float64\n",
      " 33  rougher.state.floatbank10_f_level           5290 non-null   float64\n",
      " 34  secondary_cleaner.state.floatbank2_a_air    5287 non-null   float64\n",
      " 35  secondary_cleaner.state.floatbank2_a_level  5290 non-null   float64\n",
      " 36  secondary_cleaner.state.floatbank2_b_air    5288 non-null   float64\n",
      " 37  secondary_cleaner.state.floatbank2_b_level  5290 non-null   float64\n",
      " 38  secondary_cleaner.state.floatbank3_a_air    5281 non-null   float64\n",
      " 39  secondary_cleaner.state.floatbank3_a_level  5290 non-null   float64\n",
      " 40  secondary_cleaner.state.floatbank3_b_air    5290 non-null   float64\n",
      " 41  secondary_cleaner.state.floatbank3_b_level  5290 non-null   float64\n",
      " 42  secondary_cleaner.state.floatbank4_a_air    5290 non-null   float64\n",
      " 43  secondary_cleaner.state.floatbank4_a_level  5290 non-null   float64\n",
      " 44  secondary_cleaner.state.floatbank4_b_air    5290 non-null   float64\n",
      " 45  secondary_cleaner.state.floatbank4_b_level  5290 non-null   float64\n",
      " 46  secondary_cleaner.state.floatbank5_a_air    5290 non-null   float64\n",
      " 47  secondary_cleaner.state.floatbank5_a_level  5290 non-null   float64\n",
      " 48  secondary_cleaner.state.floatbank5_b_air    5290 non-null   float64\n",
      " 49  secondary_cleaner.state.floatbank5_b_level  5290 non-null   float64\n",
      " 50  secondary_cleaner.state.floatbank6_a_air    5290 non-null   float64\n",
      " 51  secondary_cleaner.state.floatbank6_a_level  5290 non-null   float64\n",
      "dtypes: float64(52)\n",
      "memory usage: 2.1 MB\n"
     ]
    }
   ],
   "source": [
    "df_test.info()"
   ]
  },
  {
   "cell_type": "markdown",
   "metadata": {},
   "source": [
    "##### full"
   ]
  },
  {
   "cell_type": "code",
   "execution_count": 6,
   "metadata": {},
   "outputs": [
    {
     "data": {
      "text/html": [
       "<div>\n",
       "<style scoped>\n",
       "    .dataframe tbody tr th:only-of-type {\n",
       "        vertical-align: middle;\n",
       "    }\n",
       "\n",
       "    .dataframe tbody tr th {\n",
       "        vertical-align: top;\n",
       "    }\n",
       "\n",
       "    .dataframe thead th {\n",
       "        text-align: right;\n",
       "    }\n",
       "</style>\n",
       "<table border=\"1\" class=\"dataframe\">\n",
       "  <thead>\n",
       "    <tr style=\"text-align: right;\">\n",
       "      <th></th>\n",
       "      <th>final.output.concentrate_ag</th>\n",
       "      <th>final.output.concentrate_pb</th>\n",
       "      <th>final.output.concentrate_sol</th>\n",
       "      <th>final.output.concentrate_au</th>\n",
       "      <th>final.output.recovery</th>\n",
       "      <th>final.output.tail_ag</th>\n",
       "      <th>final.output.tail_pb</th>\n",
       "      <th>final.output.tail_sol</th>\n",
       "      <th>final.output.tail_au</th>\n",
       "      <th>primary_cleaner.input.sulfate</th>\n",
       "      <th>...</th>\n",
       "      <th>secondary_cleaner.state.floatbank4_a_air</th>\n",
       "      <th>secondary_cleaner.state.floatbank4_a_level</th>\n",
       "      <th>secondary_cleaner.state.floatbank4_b_air</th>\n",
       "      <th>secondary_cleaner.state.floatbank4_b_level</th>\n",
       "      <th>secondary_cleaner.state.floatbank5_a_air</th>\n",
       "      <th>secondary_cleaner.state.floatbank5_a_level</th>\n",
       "      <th>secondary_cleaner.state.floatbank5_b_air</th>\n",
       "      <th>secondary_cleaner.state.floatbank5_b_level</th>\n",
       "      <th>secondary_cleaner.state.floatbank6_a_air</th>\n",
       "      <th>secondary_cleaner.state.floatbank6_a_level</th>\n",
       "    </tr>\n",
       "    <tr>\n",
       "      <th>date</th>\n",
       "      <th></th>\n",
       "      <th></th>\n",
       "      <th></th>\n",
       "      <th></th>\n",
       "      <th></th>\n",
       "      <th></th>\n",
       "      <th></th>\n",
       "      <th></th>\n",
       "      <th></th>\n",
       "      <th></th>\n",
       "      <th></th>\n",
       "      <th></th>\n",
       "      <th></th>\n",
       "      <th></th>\n",
       "      <th></th>\n",
       "      <th></th>\n",
       "      <th></th>\n",
       "      <th></th>\n",
       "      <th></th>\n",
       "      <th></th>\n",
       "      <th></th>\n",
       "    </tr>\n",
       "  </thead>\n",
       "  <tbody>\n",
       "    <tr>\n",
       "      <th>2016-01-15 00:00:00</th>\n",
       "      <td>6.055403</td>\n",
       "      <td>9.889648</td>\n",
       "      <td>5.507324</td>\n",
       "      <td>42.192020</td>\n",
       "      <td>70.541216</td>\n",
       "      <td>10.411962</td>\n",
       "      <td>0.895447</td>\n",
       "      <td>16.904297</td>\n",
       "      <td>2.143149</td>\n",
       "      <td>127.092003</td>\n",
       "      <td>...</td>\n",
       "      <td>14.016835</td>\n",
       "      <td>-502.488007</td>\n",
       "      <td>12.099931</td>\n",
       "      <td>-504.715942</td>\n",
       "      <td>9.925633</td>\n",
       "      <td>-498.310211</td>\n",
       "      <td>8.079666</td>\n",
       "      <td>-500.470978</td>\n",
       "      <td>14.151341</td>\n",
       "      <td>-605.841980</td>\n",
       "    </tr>\n",
       "    <tr>\n",
       "      <th>2016-01-15 01:00:00</th>\n",
       "      <td>6.029369</td>\n",
       "      <td>9.968944</td>\n",
       "      <td>5.257781</td>\n",
       "      <td>42.701629</td>\n",
       "      <td>69.266198</td>\n",
       "      <td>10.462676</td>\n",
       "      <td>0.927452</td>\n",
       "      <td>16.634514</td>\n",
       "      <td>2.224930</td>\n",
       "      <td>125.629232</td>\n",
       "      <td>...</td>\n",
       "      <td>13.992281</td>\n",
       "      <td>-505.503262</td>\n",
       "      <td>11.950531</td>\n",
       "      <td>-501.331529</td>\n",
       "      <td>10.039245</td>\n",
       "      <td>-500.169983</td>\n",
       "      <td>7.984757</td>\n",
       "      <td>-500.582168</td>\n",
       "      <td>13.998353</td>\n",
       "      <td>-599.787184</td>\n",
       "    </tr>\n",
       "    <tr>\n",
       "      <th>2016-01-15 02:00:00</th>\n",
       "      <td>6.055926</td>\n",
       "      <td>10.213995</td>\n",
       "      <td>5.383759</td>\n",
       "      <td>42.657501</td>\n",
       "      <td>68.116445</td>\n",
       "      <td>10.507046</td>\n",
       "      <td>0.953716</td>\n",
       "      <td>16.208849</td>\n",
       "      <td>2.257889</td>\n",
       "      <td>123.819808</td>\n",
       "      <td>...</td>\n",
       "      <td>14.015015</td>\n",
       "      <td>-502.520901</td>\n",
       "      <td>11.912783</td>\n",
       "      <td>-501.133383</td>\n",
       "      <td>10.070913</td>\n",
       "      <td>-500.129135</td>\n",
       "      <td>8.013877</td>\n",
       "      <td>-500.517572</td>\n",
       "      <td>14.028663</td>\n",
       "      <td>-601.427363</td>\n",
       "    </tr>\n",
       "    <tr>\n",
       "      <th>2016-01-15 03:00:00</th>\n",
       "      <td>6.047977</td>\n",
       "      <td>9.977019</td>\n",
       "      <td>4.858634</td>\n",
       "      <td>42.689819</td>\n",
       "      <td>68.347543</td>\n",
       "      <td>10.422762</td>\n",
       "      <td>0.883763</td>\n",
       "      <td>16.532835</td>\n",
       "      <td>2.146849</td>\n",
       "      <td>122.270188</td>\n",
       "      <td>...</td>\n",
       "      <td>14.036510</td>\n",
       "      <td>-500.857308</td>\n",
       "      <td>11.999550</td>\n",
       "      <td>-501.193686</td>\n",
       "      <td>9.970366</td>\n",
       "      <td>-499.201640</td>\n",
       "      <td>7.977324</td>\n",
       "      <td>-500.255908</td>\n",
       "      <td>14.005551</td>\n",
       "      <td>-599.996129</td>\n",
       "    </tr>\n",
       "    <tr>\n",
       "      <th>2016-01-15 04:00:00</th>\n",
       "      <td>6.148599</td>\n",
       "      <td>10.142511</td>\n",
       "      <td>4.939416</td>\n",
       "      <td>42.774141</td>\n",
       "      <td>66.927016</td>\n",
       "      <td>10.360302</td>\n",
       "      <td>0.792826</td>\n",
       "      <td>16.525686</td>\n",
       "      <td>2.055292</td>\n",
       "      <td>117.988169</td>\n",
       "      <td>...</td>\n",
       "      <td>14.027298</td>\n",
       "      <td>-499.838632</td>\n",
       "      <td>11.953070</td>\n",
       "      <td>-501.053894</td>\n",
       "      <td>9.925709</td>\n",
       "      <td>-501.686727</td>\n",
       "      <td>7.894242</td>\n",
       "      <td>-500.356035</td>\n",
       "      <td>13.996647</td>\n",
       "      <td>-601.496691</td>\n",
       "    </tr>\n",
       "  </tbody>\n",
       "</table>\n",
       "<p>5 rows × 86 columns</p>\n",
       "</div>"
      ],
      "text/plain": [
       "                     final.output.concentrate_ag  final.output.concentrate_pb  \\\n",
       "date                                                                            \n",
       "2016-01-15 00:00:00                     6.055403                     9.889648   \n",
       "2016-01-15 01:00:00                     6.029369                     9.968944   \n",
       "2016-01-15 02:00:00                     6.055926                    10.213995   \n",
       "2016-01-15 03:00:00                     6.047977                     9.977019   \n",
       "2016-01-15 04:00:00                     6.148599                    10.142511   \n",
       "\n",
       "                     final.output.concentrate_sol  \\\n",
       "date                                                \n",
       "2016-01-15 00:00:00                      5.507324   \n",
       "2016-01-15 01:00:00                      5.257781   \n",
       "2016-01-15 02:00:00                      5.383759   \n",
       "2016-01-15 03:00:00                      4.858634   \n",
       "2016-01-15 04:00:00                      4.939416   \n",
       "\n",
       "                     final.output.concentrate_au  final.output.recovery  \\\n",
       "date                                                                      \n",
       "2016-01-15 00:00:00                    42.192020              70.541216   \n",
       "2016-01-15 01:00:00                    42.701629              69.266198   \n",
       "2016-01-15 02:00:00                    42.657501              68.116445   \n",
       "2016-01-15 03:00:00                    42.689819              68.347543   \n",
       "2016-01-15 04:00:00                    42.774141              66.927016   \n",
       "\n",
       "                     final.output.tail_ag  final.output.tail_pb  \\\n",
       "date                                                              \n",
       "2016-01-15 00:00:00             10.411962              0.895447   \n",
       "2016-01-15 01:00:00             10.462676              0.927452   \n",
       "2016-01-15 02:00:00             10.507046              0.953716   \n",
       "2016-01-15 03:00:00             10.422762              0.883763   \n",
       "2016-01-15 04:00:00             10.360302              0.792826   \n",
       "\n",
       "                     final.output.tail_sol  final.output.tail_au  \\\n",
       "date                                                               \n",
       "2016-01-15 00:00:00              16.904297              2.143149   \n",
       "2016-01-15 01:00:00              16.634514              2.224930   \n",
       "2016-01-15 02:00:00              16.208849              2.257889   \n",
       "2016-01-15 03:00:00              16.532835              2.146849   \n",
       "2016-01-15 04:00:00              16.525686              2.055292   \n",
       "\n",
       "                     primary_cleaner.input.sulfate  ...  \\\n",
       "date                                                ...   \n",
       "2016-01-15 00:00:00                     127.092003  ...   \n",
       "2016-01-15 01:00:00                     125.629232  ...   \n",
       "2016-01-15 02:00:00                     123.819808  ...   \n",
       "2016-01-15 03:00:00                     122.270188  ...   \n",
       "2016-01-15 04:00:00                     117.988169  ...   \n",
       "\n",
       "                     secondary_cleaner.state.floatbank4_a_air  \\\n",
       "date                                                            \n",
       "2016-01-15 00:00:00                                 14.016835   \n",
       "2016-01-15 01:00:00                                 13.992281   \n",
       "2016-01-15 02:00:00                                 14.015015   \n",
       "2016-01-15 03:00:00                                 14.036510   \n",
       "2016-01-15 04:00:00                                 14.027298   \n",
       "\n",
       "                     secondary_cleaner.state.floatbank4_a_level  \\\n",
       "date                                                              \n",
       "2016-01-15 00:00:00                                 -502.488007   \n",
       "2016-01-15 01:00:00                                 -505.503262   \n",
       "2016-01-15 02:00:00                                 -502.520901   \n",
       "2016-01-15 03:00:00                                 -500.857308   \n",
       "2016-01-15 04:00:00                                 -499.838632   \n",
       "\n",
       "                     secondary_cleaner.state.floatbank4_b_air  \\\n",
       "date                                                            \n",
       "2016-01-15 00:00:00                                 12.099931   \n",
       "2016-01-15 01:00:00                                 11.950531   \n",
       "2016-01-15 02:00:00                                 11.912783   \n",
       "2016-01-15 03:00:00                                 11.999550   \n",
       "2016-01-15 04:00:00                                 11.953070   \n",
       "\n",
       "                     secondary_cleaner.state.floatbank4_b_level  \\\n",
       "date                                                              \n",
       "2016-01-15 00:00:00                                 -504.715942   \n",
       "2016-01-15 01:00:00                                 -501.331529   \n",
       "2016-01-15 02:00:00                                 -501.133383   \n",
       "2016-01-15 03:00:00                                 -501.193686   \n",
       "2016-01-15 04:00:00                                 -501.053894   \n",
       "\n",
       "                     secondary_cleaner.state.floatbank5_a_air  \\\n",
       "date                                                            \n",
       "2016-01-15 00:00:00                                  9.925633   \n",
       "2016-01-15 01:00:00                                 10.039245   \n",
       "2016-01-15 02:00:00                                 10.070913   \n",
       "2016-01-15 03:00:00                                  9.970366   \n",
       "2016-01-15 04:00:00                                  9.925709   \n",
       "\n",
       "                     secondary_cleaner.state.floatbank5_a_level  \\\n",
       "date                                                              \n",
       "2016-01-15 00:00:00                                 -498.310211   \n",
       "2016-01-15 01:00:00                                 -500.169983   \n",
       "2016-01-15 02:00:00                                 -500.129135   \n",
       "2016-01-15 03:00:00                                 -499.201640   \n",
       "2016-01-15 04:00:00                                 -501.686727   \n",
       "\n",
       "                     secondary_cleaner.state.floatbank5_b_air  \\\n",
       "date                                                            \n",
       "2016-01-15 00:00:00                                  8.079666   \n",
       "2016-01-15 01:00:00                                  7.984757   \n",
       "2016-01-15 02:00:00                                  8.013877   \n",
       "2016-01-15 03:00:00                                  7.977324   \n",
       "2016-01-15 04:00:00                                  7.894242   \n",
       "\n",
       "                     secondary_cleaner.state.floatbank5_b_level  \\\n",
       "date                                                              \n",
       "2016-01-15 00:00:00                                 -500.470978   \n",
       "2016-01-15 01:00:00                                 -500.582168   \n",
       "2016-01-15 02:00:00                                 -500.517572   \n",
       "2016-01-15 03:00:00                                 -500.255908   \n",
       "2016-01-15 04:00:00                                 -500.356035   \n",
       "\n",
       "                     secondary_cleaner.state.floatbank6_a_air  \\\n",
       "date                                                            \n",
       "2016-01-15 00:00:00                                 14.151341   \n",
       "2016-01-15 01:00:00                                 13.998353   \n",
       "2016-01-15 02:00:00                                 14.028663   \n",
       "2016-01-15 03:00:00                                 14.005551   \n",
       "2016-01-15 04:00:00                                 13.996647   \n",
       "\n",
       "                     secondary_cleaner.state.floatbank6_a_level  \n",
       "date                                                             \n",
       "2016-01-15 00:00:00                                 -605.841980  \n",
       "2016-01-15 01:00:00                                 -599.787184  \n",
       "2016-01-15 02:00:00                                 -601.427363  \n",
       "2016-01-15 03:00:00                                 -599.996129  \n",
       "2016-01-15 04:00:00                                 -601.496691  \n",
       "\n",
       "[5 rows x 86 columns]"
      ]
     },
     "execution_count": 6,
     "metadata": {},
     "output_type": "execute_result"
    }
   ],
   "source": [
    "try:\n",
    "     df_full = pd.read_csv(r\"C:\\Проекты Яндекс.Практикум\\9. Сборный проект-2. Очистка золота\\Датасет\\gold_recovery_full_new.csv\", index_col='date', parse_dates=True)\n",
    "except: \n",
    "    df_full = pd.read_csv('/datasets/gold_recovery_full_new.csv', index_col='date', parse_dates=True)\n",
    "df_full.head()\n"
   ]
  },
  {
   "cell_type": "code",
   "execution_count": 7,
   "metadata": {
    "scrolled": false
   },
   "outputs": [
    {
     "name": "stdout",
     "output_type": "stream",
     "text": [
      "<class 'pandas.core.frame.DataFrame'>\n",
      "DatetimeIndex: 19439 entries, 2016-01-15 00:00:00 to 2018-08-18 10:59:59\n",
      "Data columns (total 86 columns):\n",
      " #   Column                                              Non-Null Count  Dtype  \n",
      "---  ------                                              --------------  -----  \n",
      " 0   final.output.concentrate_ag                         19438 non-null  float64\n",
      " 1   final.output.concentrate_pb                         19438 non-null  float64\n",
      " 2   final.output.concentrate_sol                        19228 non-null  float64\n",
      " 3   final.output.concentrate_au                         19439 non-null  float64\n",
      " 4   final.output.recovery                               19439 non-null  float64\n",
      " 5   final.output.tail_ag                                19438 non-null  float64\n",
      " 6   final.output.tail_pb                                19338 non-null  float64\n",
      " 7   final.output.tail_sol                               19433 non-null  float64\n",
      " 8   final.output.tail_au                                19439 non-null  float64\n",
      " 9   primary_cleaner.input.sulfate                       19415 non-null  float64\n",
      " 10  primary_cleaner.input.depressant                    19402 non-null  float64\n",
      " 11  primary_cleaner.input.feed_size                     19439 non-null  float64\n",
      " 12  primary_cleaner.input.xanthate                      19335 non-null  float64\n",
      " 13  primary_cleaner.output.concentrate_ag               19439 non-null  float64\n",
      " 14  primary_cleaner.output.concentrate_pb               19323 non-null  float64\n",
      " 15  primary_cleaner.output.concentrate_sol              19069 non-null  float64\n",
      " 16  primary_cleaner.output.concentrate_au               19439 non-null  float64\n",
      " 17  primary_cleaner.output.tail_ag                      19435 non-null  float64\n",
      " 18  primary_cleaner.output.tail_pb                      19418 non-null  float64\n",
      " 19  primary_cleaner.output.tail_sol                     19377 non-null  float64\n",
      " 20  primary_cleaner.output.tail_au                      19439 non-null  float64\n",
      " 21  primary_cleaner.state.floatbank8_a_air              19435 non-null  float64\n",
      " 22  primary_cleaner.state.floatbank8_a_level            19438 non-null  float64\n",
      " 23  primary_cleaner.state.floatbank8_b_air              19435 non-null  float64\n",
      " 24  primary_cleaner.state.floatbank8_b_level            19438 non-null  float64\n",
      " 25  primary_cleaner.state.floatbank8_c_air              19437 non-null  float64\n",
      " 26  primary_cleaner.state.floatbank8_c_level            19438 non-null  float64\n",
      " 27  primary_cleaner.state.floatbank8_d_air              19436 non-null  float64\n",
      " 28  primary_cleaner.state.floatbank8_d_level            19438 non-null  float64\n",
      " 29  rougher.calculation.sulfate_to_au_concentrate       19437 non-null  float64\n",
      " 30  rougher.calculation.floatbank10_sulfate_to_au_feed  19437 non-null  float64\n",
      " 31  rougher.calculation.floatbank11_sulfate_to_au_feed  19437 non-null  float64\n",
      " 32  rougher.calculation.au_pb_ratio                     19439 non-null  float64\n",
      " 33  rougher.input.feed_ag                               19439 non-null  float64\n",
      " 34  rougher.input.feed_pb                               19339 non-null  float64\n",
      " 35  rougher.input.feed_rate                             19428 non-null  float64\n",
      " 36  rougher.input.feed_size                             19294 non-null  float64\n",
      " 37  rougher.input.feed_sol                              19340 non-null  float64\n",
      " 38  rougher.input.feed_au                               19439 non-null  float64\n",
      " 39  rougher.input.floatbank10_sulfate                   19405 non-null  float64\n",
      " 40  rougher.input.floatbank10_xanthate                  19431 non-null  float64\n",
      " 41  rougher.input.floatbank11_sulfate                   19395 non-null  float64\n",
      " 42  rougher.input.floatbank11_xanthate                  18986 non-null  float64\n",
      " 43  rougher.output.concentrate_ag                       19439 non-null  float64\n",
      " 44  rougher.output.concentrate_pb                       19439 non-null  float64\n",
      " 45  rougher.output.concentrate_sol                      19416 non-null  float64\n",
      " 46  rougher.output.concentrate_au                       19439 non-null  float64\n",
      " 47  rougher.output.recovery                             19439 non-null  float64\n",
      " 48  rougher.output.tail_ag                              19438 non-null  float64\n",
      " 49  rougher.output.tail_pb                              19439 non-null  float64\n",
      " 50  rougher.output.tail_sol                             19439 non-null  float64\n",
      " 51  rougher.output.tail_au                              19439 non-null  float64\n",
      " 52  rougher.state.floatbank10_a_air                     19438 non-null  float64\n",
      " 53  rougher.state.floatbank10_a_level                   19438 non-null  float64\n",
      " 54  rougher.state.floatbank10_b_air                     19438 non-null  float64\n",
      " 55  rougher.state.floatbank10_b_level                   19438 non-null  float64\n",
      " 56  rougher.state.floatbank10_c_air                     19438 non-null  float64\n",
      " 57  rougher.state.floatbank10_c_level                   19438 non-null  float64\n",
      " 58  rougher.state.floatbank10_d_air                     19439 non-null  float64\n",
      " 59  rougher.state.floatbank10_d_level                   19439 non-null  float64\n",
      " 60  rougher.state.floatbank10_e_air                     19003 non-null  float64\n",
      " 61  rougher.state.floatbank10_e_level                   19439 non-null  float64\n",
      " 62  rougher.state.floatbank10_f_air                     19439 non-null  float64\n",
      " 63  rougher.state.floatbank10_f_level                   19439 non-null  float64\n",
      " 64  secondary_cleaner.output.tail_ag                    19437 non-null  float64\n",
      " 65  secondary_cleaner.output.tail_pb                    19427 non-null  float64\n",
      " 66  secondary_cleaner.output.tail_sol                   17691 non-null  float64\n",
      " 67  secondary_cleaner.output.tail_au                    19439 non-null  float64\n",
      " 68  secondary_cleaner.state.floatbank2_a_air            19219 non-null  float64\n",
      " 69  secondary_cleaner.state.floatbank2_a_level          19438 non-null  float64\n",
      " 70  secondary_cleaner.state.floatbank2_b_air            19416 non-null  float64\n",
      " 71  secondary_cleaner.state.floatbank2_b_level          19438 non-null  float64\n",
      " 72  secondary_cleaner.state.floatbank3_a_air            19426 non-null  float64\n",
      " 73  secondary_cleaner.state.floatbank3_a_level          19438 non-null  float64\n",
      " 74  secondary_cleaner.state.floatbank3_b_air            19438 non-null  float64\n",
      " 75  secondary_cleaner.state.floatbank3_b_level          19438 non-null  float64\n",
      " 76  secondary_cleaner.state.floatbank4_a_air            19433 non-null  float64\n",
      " 77  secondary_cleaner.state.floatbank4_a_level          19438 non-null  float64\n",
      " 78  secondary_cleaner.state.floatbank4_b_air            19438 non-null  float64\n",
      " 79  secondary_cleaner.state.floatbank4_b_level          19438 non-null  float64\n",
      " 80  secondary_cleaner.state.floatbank5_a_air            19438 non-null  float64\n",
      " 81  secondary_cleaner.state.floatbank5_a_level          19438 non-null  float64\n",
      " 82  secondary_cleaner.state.floatbank5_b_air            19438 non-null  float64\n",
      " 83  secondary_cleaner.state.floatbank5_b_level          19438 non-null  float64\n",
      " 84  secondary_cleaner.state.floatbank6_a_air            19437 non-null  float64\n",
      " 85  secondary_cleaner.state.floatbank6_a_level          19438 non-null  float64\n",
      "dtypes: float64(86)\n",
      "memory usage: 12.9 MB\n"
     ]
    }
   ],
   "source": [
    "df_full.info()"
   ]
  },
  {
   "cell_type": "markdown",
   "metadata": {},
   "source": [
    "**Загрузили необходимые библиотеки. Октрыли файлы с данными. В тестовой выборке не хватает 34 столбцов по сравнению с обучающей и полной выборками. Во всех выборках есть пропуски в столбцах.**"
   ]
  },
  {
   "cell_type": "markdown",
   "metadata": {},
   "source": [
    "### Проверьте, что эффективность обогащения рассчитана правильно"
   ]
  },
  {
   "cell_type": "code",
   "execution_count": 8,
   "metadata": {},
   "outputs": [],
   "source": [
    "c = df_train['rougher.output.concentrate_au']\n",
    "f = df_train['rougher.input.feed_au']\n",
    "t = df_train['rougher.output.tail_au']"
   ]
  },
  {
   "cell_type": "markdown",
   "metadata": {},
   "source": [
    "Обозначили переменные для расчета эффективности обогащения на стадии флотации"
   ]
  },
  {
   "cell_type": "code",
   "execution_count": 9,
   "metadata": {
    "scrolled": true
   },
   "outputs": [
    {
     "data": {
      "text/plain": [
       "date\n",
       "2016-01-15 00:00:00    87.107763\n",
       "2016-01-15 01:00:00    86.843261\n",
       "2016-01-15 02:00:00    86.842308\n",
       "2016-01-15 03:00:00    87.226430\n",
       "2016-01-15 04:00:00    86.688794\n",
       "                         ...    \n",
       "2018-08-18 06:59:59    89.574376\n",
       "2018-08-18 07:59:59    87.724007\n",
       "2018-08-18 08:59:59    88.890579\n",
       "2018-08-18 09:59:59    89.858126\n",
       "2018-08-18 10:59:59    89.514960\n",
       "Name: recovery_calcul, Length: 14149, dtype: float64"
      ]
     },
     "execution_count": 9,
     "metadata": {},
     "output_type": "execute_result"
    }
   ],
   "source": [
    "df_train ['recovery_calcul']= ((c*(f-t))/(f*(c-t)))*100\n",
    "df_train ['recovery_calcul']"
   ]
  },
  {
   "cell_type": "markdown",
   "metadata": {},
   "source": [
    "Добавили столбец 'recovery_calcul', в котором посчитали эффективность. В дальнейшем этот столбец будет удален"
   ]
  },
  {
   "cell_type": "code",
   "execution_count": 10,
   "metadata": {
    "scrolled": true
   },
   "outputs": [
    {
     "data": {
      "text/plain": [
       "date\n",
       "2017-02-18 09:59:59    7.105427e-14\n",
       "2018-06-12 17:59:59    7.105427e-14\n",
       "2016-02-24 05:00:00    7.105427e-14\n",
       "2018-05-12 15:59:59    7.105427e-14\n",
       "2017-02-14 12:59:59    7.105427e-14\n",
       "                           ...     \n",
       "2018-03-05 16:59:59   -5.684342e-14\n",
       "2016-05-10 09:59:59   -5.684342e-14\n",
       "2016-08-11 20:59:59   -7.105427e-14\n",
       "2018-02-26 23:59:59   -7.105427e-14\n",
       "2018-05-31 08:59:59   -8.526513e-14\n",
       "Length: 14149, dtype: float64"
      ]
     },
     "execution_count": 10,
     "metadata": {},
     "output_type": "execute_result"
    }
   ],
   "source": [
    "(df_train ['recovery_calcul'] - df_train ['rougher.output.recovery']).sort_values(ascending=False)"
   ]
  },
  {
   "cell_type": "markdown",
   "metadata": {},
   "source": [
    "Посчитали разницу между эффективностью рассчитанной по формуле и заданной. Видим, что разница ничтожно мала, так как самое большое значение = 7.105427e-14 = 7.105427 ∙ 10-14 = 7.105427 ∙ 0.00000000000001 = 0.0000000000000711\n",
    "\n",
    "Отрицательные разницы так же малы. \n",
    "Делаем вывод, что расчеты произведены верно"
   ]
  },
  {
   "cell_type": "code",
   "execution_count": 11,
   "metadata": {
    "scrolled": true
   },
   "outputs": [
    {
     "data": {
      "text/plain": [
       "9.73512347450521e-15"
      ]
     },
     "execution_count": 11,
     "metadata": {},
     "output_type": "execute_result"
    }
   ],
   "source": [
    "mae = mean_absolute_error(df_train ['rougher.output.recovery'], df_train ['recovery_calcul'])\n",
    "mae"
   ]
  },
  {
   "cell_type": "markdown",
   "metadata": {},
   "source": [
    "Рассчитали среднее абсолютное отклонение между эффективностью рассчитанной по формуле и заданной. Получается, в среднем ошибка в каждой строке составляет 0.00000000000000974. "
   ]
  },
  {
   "cell_type": "code",
   "execution_count": 12,
   "metadata": {},
   "outputs": [],
   "source": [
    "df_train = df_train.drop('recovery_calcul', axis=1)"
   ]
  },
  {
   "cell_type": "markdown",
   "metadata": {},
   "source": [
    "Удалили рассчетный столбец 'recovery_calcul' из выборки"
   ]
  },
  {
   "cell_type": "markdown",
   "metadata": {},
   "source": [
    "### Проанализируйте признаки, недоступные в тестовой выборке."
   ]
  },
  {
   "cell_type": "code",
   "execution_count": 13,
   "metadata": {},
   "outputs": [],
   "source": [
    "df_full_columns = list(df_full.columns.values )"
   ]
  },
  {
   "cell_type": "code",
   "execution_count": 14,
   "metadata": {},
   "outputs": [],
   "source": [
    "df_test_columns = list(df_test.columns.values )"
   ]
  },
  {
   "cell_type": "code",
   "execution_count": 15,
   "metadata": {
    "scrolled": true
   },
   "outputs": [],
   "source": [
    "excess = list(set(df_full_columns) - set(df_test_columns))\n",
    "excess.remove('final.output.recovery')\n",
    "excess.remove('rougher.output.recovery')"
   ]
  },
  {
   "cell_type": "markdown",
   "metadata": {},
   "source": [
    "Вывели список столбцов, недоступных в тестовой выборке. Они относятся к output - типу продукта. То есть выходные данные после прохождения того или иного этапа. Этой информацией можно принебречь, так как есть информация о  параметрах, характеризующих состояние этапов и параметры сырья на входе: rougher.input.\n",
    "\n",
    "Из категории output нам важны только эффективность обогащения на этапе флотации и финального продукта. \n",
    "\n",
    "Соответственно, удаляем  все столбцы, которых нет в обучающей выборке за исключением final.output.recovery и rougher.output.recovery"
   ]
  },
  {
   "cell_type": "code",
   "execution_count": 16,
   "metadata": {},
   "outputs": [],
   "source": [
    "columns = ['final.output.recovery','rougher.output.recovery']\n",
    "\n",
    "df_test = df_test.join(df_full[columns])"
   ]
  },
  {
   "cell_type": "markdown",
   "metadata": {},
   "source": [
    "Добавляем в тестовую выборку значения final.output.recovery и rougher.output.recovery из выборки full"
   ]
  },
  {
   "cell_type": "markdown",
   "metadata": {},
   "source": [
    "### Проведите предобработку данных"
   ]
  },
  {
   "cell_type": "markdown",
   "metadata": {},
   "source": [
    "#### Корреляция"
   ]
  },
  {
   "cell_type": "code",
   "execution_count": 17,
   "metadata": {
    "scrolled": true
   },
   "outputs": [
    {
     "data": {
      "text/html": [
       "<div>\n",
       "<style scoped>\n",
       "    .dataframe tbody tr th:only-of-type {\n",
       "        vertical-align: middle;\n",
       "    }\n",
       "\n",
       "    .dataframe tbody tr th {\n",
       "        vertical-align: top;\n",
       "    }\n",
       "\n",
       "    .dataframe thead th {\n",
       "        text-align: right;\n",
       "    }\n",
       "</style>\n",
       "<table border=\"1\" class=\"dataframe\">\n",
       "  <thead>\n",
       "    <tr style=\"text-align: right;\">\n",
       "      <th></th>\n",
       "      <th>final.output.concentrate_ag</th>\n",
       "      <th>final.output.concentrate_pb</th>\n",
       "      <th>final.output.concentrate_sol</th>\n",
       "      <th>final.output.concentrate_au</th>\n",
       "      <th>final.output.recovery</th>\n",
       "      <th>final.output.tail_ag</th>\n",
       "      <th>final.output.tail_pb</th>\n",
       "      <th>final.output.tail_sol</th>\n",
       "      <th>final.output.tail_au</th>\n",
       "      <th>primary_cleaner.input.sulfate</th>\n",
       "      <th>...</th>\n",
       "      <th>secondary_cleaner.state.floatbank4_a_air</th>\n",
       "      <th>secondary_cleaner.state.floatbank4_a_level</th>\n",
       "      <th>secondary_cleaner.state.floatbank4_b_air</th>\n",
       "      <th>secondary_cleaner.state.floatbank4_b_level</th>\n",
       "      <th>secondary_cleaner.state.floatbank5_a_air</th>\n",
       "      <th>secondary_cleaner.state.floatbank5_a_level</th>\n",
       "      <th>secondary_cleaner.state.floatbank5_b_air</th>\n",
       "      <th>secondary_cleaner.state.floatbank5_b_level</th>\n",
       "      <th>secondary_cleaner.state.floatbank6_a_air</th>\n",
       "      <th>secondary_cleaner.state.floatbank6_a_level</th>\n",
       "    </tr>\n",
       "  </thead>\n",
       "  <tbody>\n",
       "    <tr>\n",
       "      <th>final.output.concentrate_ag</th>\n",
       "      <td>0.00</td>\n",
       "      <td>0.02</td>\n",
       "      <td>0.35</td>\n",
       "      <td>-0.10</td>\n",
       "      <td>0.13</td>\n",
       "      <td>0.29</td>\n",
       "      <td>-0.10</td>\n",
       "      <td>0.05</td>\n",
       "      <td>0.19</td>\n",
       "      <td>0.02</td>\n",
       "      <td>...</td>\n",
       "      <td>0.04</td>\n",
       "      <td>0.17</td>\n",
       "      <td>0.02</td>\n",
       "      <td>0.01</td>\n",
       "      <td>0.01</td>\n",
       "      <td>0.23</td>\n",
       "      <td>0.02</td>\n",
       "      <td>0.20</td>\n",
       "      <td>0.17</td>\n",
       "      <td>0.06</td>\n",
       "    </tr>\n",
       "    <tr>\n",
       "      <th>final.output.concentrate_pb</th>\n",
       "      <td>0.02</td>\n",
       "      <td>0.00</td>\n",
       "      <td>-0.01</td>\n",
       "      <td>0.32</td>\n",
       "      <td>0.09</td>\n",
       "      <td>-0.10</td>\n",
       "      <td>0.24</td>\n",
       "      <td>0.07</td>\n",
       "      <td>0.03</td>\n",
       "      <td>0.12</td>\n",
       "      <td>...</td>\n",
       "      <td>-0.00</td>\n",
       "      <td>-0.04</td>\n",
       "      <td>0.09</td>\n",
       "      <td>0.07</td>\n",
       "      <td>0.10</td>\n",
       "      <td>-0.10</td>\n",
       "      <td>0.12</td>\n",
       "      <td>-0.12</td>\n",
       "      <td>-0.02</td>\n",
       "      <td>0.08</td>\n",
       "    </tr>\n",
       "    <tr>\n",
       "      <th>final.output.concentrate_sol</th>\n",
       "      <td>0.35</td>\n",
       "      <td>-0.01</td>\n",
       "      <td>0.00</td>\n",
       "      <td>0.22</td>\n",
       "      <td>0.25</td>\n",
       "      <td>0.23</td>\n",
       "      <td>0.26</td>\n",
       "      <td>-0.02</td>\n",
       "      <td>0.24</td>\n",
       "      <td>0.34</td>\n",
       "      <td>...</td>\n",
       "      <td>-0.01</td>\n",
       "      <td>0.27</td>\n",
       "      <td>0.03</td>\n",
       "      <td>0.13</td>\n",
       "      <td>0.03</td>\n",
       "      <td>0.25</td>\n",
       "      <td>0.02</td>\n",
       "      <td>0.23</td>\n",
       "      <td>0.23</td>\n",
       "      <td>-0.28</td>\n",
       "    </tr>\n",
       "    <tr>\n",
       "      <th>final.output.concentrate_au</th>\n",
       "      <td>-0.10</td>\n",
       "      <td>0.32</td>\n",
       "      <td>0.22</td>\n",
       "      <td>0.00</td>\n",
       "      <td>0.25</td>\n",
       "      <td>0.08</td>\n",
       "      <td>0.07</td>\n",
       "      <td>0.10</td>\n",
       "      <td>-0.07</td>\n",
       "      <td>0.11</td>\n",
       "      <td>...</td>\n",
       "      <td>0.04</td>\n",
       "      <td>-0.04</td>\n",
       "      <td>0.00</td>\n",
       "      <td>-0.01</td>\n",
       "      <td>0.01</td>\n",
       "      <td>-0.10</td>\n",
       "      <td>-0.01</td>\n",
       "      <td>-0.09</td>\n",
       "      <td>-0.12</td>\n",
       "      <td>-0.03</td>\n",
       "    </tr>\n",
       "    <tr>\n",
       "      <th>final.output.recovery</th>\n",
       "      <td>0.13</td>\n",
       "      <td>0.09</td>\n",
       "      <td>0.25</td>\n",
       "      <td>0.25</td>\n",
       "      <td>0.00</td>\n",
       "      <td>0.15</td>\n",
       "      <td>-0.15</td>\n",
       "      <td>-0.09</td>\n",
       "      <td>-0.44</td>\n",
       "      <td>0.40</td>\n",
       "      <td>...</td>\n",
       "      <td>0.21</td>\n",
       "      <td>0.06</td>\n",
       "      <td>0.17</td>\n",
       "      <td>-0.09</td>\n",
       "      <td>0.10</td>\n",
       "      <td>0.02</td>\n",
       "      <td>0.07</td>\n",
       "      <td>0.04</td>\n",
       "      <td>-0.03</td>\n",
       "      <td>-0.04</td>\n",
       "    </tr>\n",
       "  </tbody>\n",
       "</table>\n",
       "<p>5 rows × 86 columns</p>\n",
       "</div>"
      ],
      "text/plain": [
       "                              final.output.concentrate_ag  \\\n",
       "final.output.concentrate_ag                          0.00   \n",
       "final.output.concentrate_pb                          0.02   \n",
       "final.output.concentrate_sol                         0.35   \n",
       "final.output.concentrate_au                         -0.10   \n",
       "final.output.recovery                                0.13   \n",
       "\n",
       "                              final.output.concentrate_pb  \\\n",
       "final.output.concentrate_ag                          0.02   \n",
       "final.output.concentrate_pb                          0.00   \n",
       "final.output.concentrate_sol                        -0.01   \n",
       "final.output.concentrate_au                          0.32   \n",
       "final.output.recovery                                0.09   \n",
       "\n",
       "                              final.output.concentrate_sol  \\\n",
       "final.output.concentrate_ag                           0.35   \n",
       "final.output.concentrate_pb                          -0.01   \n",
       "final.output.concentrate_sol                          0.00   \n",
       "final.output.concentrate_au                           0.22   \n",
       "final.output.recovery                                 0.25   \n",
       "\n",
       "                              final.output.concentrate_au  \\\n",
       "final.output.concentrate_ag                         -0.10   \n",
       "final.output.concentrate_pb                          0.32   \n",
       "final.output.concentrate_sol                         0.22   \n",
       "final.output.concentrate_au                          0.00   \n",
       "final.output.recovery                                0.25   \n",
       "\n",
       "                              final.output.recovery  final.output.tail_ag  \\\n",
       "final.output.concentrate_ag                    0.13                  0.29   \n",
       "final.output.concentrate_pb                    0.09                 -0.10   \n",
       "final.output.concentrate_sol                   0.25                  0.23   \n",
       "final.output.concentrate_au                    0.25                  0.08   \n",
       "final.output.recovery                          0.00                  0.15   \n",
       "\n",
       "                              final.output.tail_pb  final.output.tail_sol  \\\n",
       "final.output.concentrate_ag                  -0.10                   0.05   \n",
       "final.output.concentrate_pb                   0.24                   0.07   \n",
       "final.output.concentrate_sol                  0.26                  -0.02   \n",
       "final.output.concentrate_au                   0.07                   0.10   \n",
       "final.output.recovery                        -0.15                  -0.09   \n",
       "\n",
       "                              final.output.tail_au  \\\n",
       "final.output.concentrate_ag                   0.19   \n",
       "final.output.concentrate_pb                   0.03   \n",
       "final.output.concentrate_sol                  0.24   \n",
       "final.output.concentrate_au                  -0.07   \n",
       "final.output.recovery                        -0.44   \n",
       "\n",
       "                              primary_cleaner.input.sulfate  ...  \\\n",
       "final.output.concentrate_ag                            0.02  ...   \n",
       "final.output.concentrate_pb                            0.12  ...   \n",
       "final.output.concentrate_sol                           0.34  ...   \n",
       "final.output.concentrate_au                            0.11  ...   \n",
       "final.output.recovery                                  0.40  ...   \n",
       "\n",
       "                              secondary_cleaner.state.floatbank4_a_air  \\\n",
       "final.output.concentrate_ag                                       0.04   \n",
       "final.output.concentrate_pb                                      -0.00   \n",
       "final.output.concentrate_sol                                     -0.01   \n",
       "final.output.concentrate_au                                       0.04   \n",
       "final.output.recovery                                             0.21   \n",
       "\n",
       "                              secondary_cleaner.state.floatbank4_a_level  \\\n",
       "final.output.concentrate_ag                                         0.17   \n",
       "final.output.concentrate_pb                                        -0.04   \n",
       "final.output.concentrate_sol                                        0.27   \n",
       "final.output.concentrate_au                                        -0.04   \n",
       "final.output.recovery                                               0.06   \n",
       "\n",
       "                              secondary_cleaner.state.floatbank4_b_air  \\\n",
       "final.output.concentrate_ag                                       0.02   \n",
       "final.output.concentrate_pb                                       0.09   \n",
       "final.output.concentrate_sol                                      0.03   \n",
       "final.output.concentrate_au                                       0.00   \n",
       "final.output.recovery                                             0.17   \n",
       "\n",
       "                              secondary_cleaner.state.floatbank4_b_level  \\\n",
       "final.output.concentrate_ag                                         0.01   \n",
       "final.output.concentrate_pb                                         0.07   \n",
       "final.output.concentrate_sol                                        0.13   \n",
       "final.output.concentrate_au                                        -0.01   \n",
       "final.output.recovery                                              -0.09   \n",
       "\n",
       "                              secondary_cleaner.state.floatbank5_a_air  \\\n",
       "final.output.concentrate_ag                                       0.01   \n",
       "final.output.concentrate_pb                                       0.10   \n",
       "final.output.concentrate_sol                                      0.03   \n",
       "final.output.concentrate_au                                       0.01   \n",
       "final.output.recovery                                             0.10   \n",
       "\n",
       "                              secondary_cleaner.state.floatbank5_a_level  \\\n",
       "final.output.concentrate_ag                                         0.23   \n",
       "final.output.concentrate_pb                                        -0.10   \n",
       "final.output.concentrate_sol                                        0.25   \n",
       "final.output.concentrate_au                                        -0.10   \n",
       "final.output.recovery                                               0.02   \n",
       "\n",
       "                              secondary_cleaner.state.floatbank5_b_air  \\\n",
       "final.output.concentrate_ag                                       0.02   \n",
       "final.output.concentrate_pb                                       0.12   \n",
       "final.output.concentrate_sol                                      0.02   \n",
       "final.output.concentrate_au                                      -0.01   \n",
       "final.output.recovery                                             0.07   \n",
       "\n",
       "                              secondary_cleaner.state.floatbank5_b_level  \\\n",
       "final.output.concentrate_ag                                         0.20   \n",
       "final.output.concentrate_pb                                        -0.12   \n",
       "final.output.concentrate_sol                                        0.23   \n",
       "final.output.concentrate_au                                        -0.09   \n",
       "final.output.recovery                                               0.04   \n",
       "\n",
       "                              secondary_cleaner.state.floatbank6_a_air  \\\n",
       "final.output.concentrate_ag                                       0.17   \n",
       "final.output.concentrate_pb                                      -0.02   \n",
       "final.output.concentrate_sol                                      0.23   \n",
       "final.output.concentrate_au                                      -0.12   \n",
       "final.output.recovery                                            -0.03   \n",
       "\n",
       "                              secondary_cleaner.state.floatbank6_a_level  \n",
       "final.output.concentrate_ag                                         0.06  \n",
       "final.output.concentrate_pb                                         0.08  \n",
       "final.output.concentrate_sol                                       -0.28  \n",
       "final.output.concentrate_au                                        -0.03  \n",
       "final.output.recovery                                              -0.04  \n",
       "\n",
       "[5 rows x 86 columns]"
      ]
     },
     "execution_count": 17,
     "metadata": {},
     "output_type": "execute_result"
    }
   ],
   "source": [
    "corr_mat = round(df_train.corr(),2)\n",
    "# Построили корреляционную матрицу и округлили значения\n",
    "\n",
    "for x in range(corr_mat.shape[0]):\n",
    "    corr_mat.iloc[x,x] = 0.0\n",
    "#убрали единицы из диагонали, чтобы они не мешали отфильтровать максимальные значения\n",
    "    \n",
    "corr_mat.head()"
   ]
  },
  {
   "cell_type": "code",
   "execution_count": 18,
   "metadata": {
    "scrolled": true
   },
   "outputs": [
    {
     "data": {
      "text/html": [
       "<div>\n",
       "<style scoped>\n",
       "    .dataframe tbody tr th:only-of-type {\n",
       "        vertical-align: middle;\n",
       "    }\n",
       "\n",
       "    .dataframe tbody tr th {\n",
       "        vertical-align: top;\n",
       "    }\n",
       "\n",
       "    .dataframe thead th {\n",
       "        text-align: right;\n",
       "    }\n",
       "</style>\n",
       "<table border=\"1\" class=\"dataframe\">\n",
       "  <thead>\n",
       "    <tr style=\"text-align: right;\">\n",
       "      <th></th>\n",
       "      <th>colname</th>\n",
       "      <th>cor</th>\n",
       "    </tr>\n",
       "  </thead>\n",
       "  <tbody>\n",
       "    <tr>\n",
       "      <th>rougher.state.floatbank10_f_level</th>\n",
       "      <td>rougher.state.floatbank10_e_level</td>\n",
       "      <td>0.99</td>\n",
       "    </tr>\n",
       "    <tr>\n",
       "      <th>rougher.state.floatbank10_e_level</th>\n",
       "      <td>rougher.state.floatbank10_f_level</td>\n",
       "      <td>0.99</td>\n",
       "    </tr>\n",
       "    <tr>\n",
       "      <th>rougher.state.floatbank10_d_level</th>\n",
       "      <td>rougher.state.floatbank10_c_level</td>\n",
       "      <td>0.99</td>\n",
       "    </tr>\n",
       "    <tr>\n",
       "      <th>rougher.state.floatbank10_c_level</th>\n",
       "      <td>rougher.state.floatbank10_b_level</td>\n",
       "      <td>0.99</td>\n",
       "    </tr>\n",
       "    <tr>\n",
       "      <th>rougher.state.floatbank10_b_level</th>\n",
       "      <td>rougher.state.floatbank10_c_level</td>\n",
       "      <td>0.99</td>\n",
       "    </tr>\n",
       "    <tr>\n",
       "      <th>rougher.calculation.floatbank11_sulfate_to_au_feed</th>\n",
       "      <td>rougher.calculation.floatbank10_sulfate_to_au_...</td>\n",
       "      <td>0.97</td>\n",
       "    </tr>\n",
       "    <tr>\n",
       "      <th>rougher.calculation.floatbank10_sulfate_to_au_feed</th>\n",
       "      <td>rougher.calculation.floatbank11_sulfate_to_au_...</td>\n",
       "      <td>0.97</td>\n",
       "    </tr>\n",
       "    <tr>\n",
       "      <th>primary_cleaner.state.floatbank8_c_level</th>\n",
       "      <td>primary_cleaner.state.floatbank8_a_level</td>\n",
       "      <td>0.96</td>\n",
       "    </tr>\n",
       "    <tr>\n",
       "      <th>primary_cleaner.state.floatbank8_b_level</th>\n",
       "      <td>primary_cleaner.state.floatbank8_a_level</td>\n",
       "      <td>0.96</td>\n",
       "    </tr>\n",
       "    <tr>\n",
       "      <th>primary_cleaner.state.floatbank8_a_level</th>\n",
       "      <td>primary_cleaner.state.floatbank8_b_level</td>\n",
       "      <td>0.96</td>\n",
       "    </tr>\n",
       "    <tr>\n",
       "      <th>primary_cleaner.state.floatbank8_b_air</th>\n",
       "      <td>primary_cleaner.state.floatbank8_a_air</td>\n",
       "      <td>0.95</td>\n",
       "    </tr>\n",
       "    <tr>\n",
       "      <th>primary_cleaner.state.floatbank8_a_air</th>\n",
       "      <td>primary_cleaner.state.floatbank8_b_air</td>\n",
       "      <td>0.95</td>\n",
       "    </tr>\n",
       "    <tr>\n",
       "      <th>primary_cleaner.output.tail_ag</th>\n",
       "      <td>primary_cleaner.output.tail_pb</td>\n",
       "      <td>0.94</td>\n",
       "    </tr>\n",
       "    <tr>\n",
       "      <th>rougher.state.floatbank10_b_air</th>\n",
       "      <td>rougher.state.floatbank10_c_air</td>\n",
       "      <td>0.94</td>\n",
       "    </tr>\n",
       "    <tr>\n",
       "      <th>primary_cleaner.state.floatbank8_c_air</th>\n",
       "      <td>primary_cleaner.state.floatbank8_b_air</td>\n",
       "      <td>0.94</td>\n",
       "    </tr>\n",
       "    <tr>\n",
       "      <th>primary_cleaner.output.tail_pb</th>\n",
       "      <td>primary_cleaner.output.tail_ag</td>\n",
       "      <td>0.94</td>\n",
       "    </tr>\n",
       "    <tr>\n",
       "      <th>rougher.state.floatbank10_c_air</th>\n",
       "      <td>rougher.state.floatbank10_b_air</td>\n",
       "      <td>0.94</td>\n",
       "    </tr>\n",
       "    <tr>\n",
       "      <th>rougher.input.floatbank11_xanthate</th>\n",
       "      <td>rougher.input.floatbank10_xanthate</td>\n",
       "      <td>0.94</td>\n",
       "    </tr>\n",
       "    <tr>\n",
       "      <th>rougher.state.floatbank10_e_air</th>\n",
       "      <td>rougher.state.floatbank10_f_air</td>\n",
       "      <td>0.94</td>\n",
       "    </tr>\n",
       "    <tr>\n",
       "      <th>rougher.state.floatbank10_f_air</th>\n",
       "      <td>rougher.state.floatbank10_e_air</td>\n",
       "      <td>0.94</td>\n",
       "    </tr>\n",
       "    <tr>\n",
       "      <th>rougher.input.floatbank10_xanthate</th>\n",
       "      <td>rougher.input.floatbank11_xanthate</td>\n",
       "      <td>0.94</td>\n",
       "    </tr>\n",
       "    <tr>\n",
       "      <th>rougher.state.floatbank10_d_air</th>\n",
       "      <td>rougher.state.floatbank10_b_air</td>\n",
       "      <td>0.93</td>\n",
       "    </tr>\n",
       "    <tr>\n",
       "      <th>secondary_cleaner.state.floatbank2_b_level</th>\n",
       "      <td>secondary_cleaner.state.floatbank2_a_level</td>\n",
       "      <td>0.90</td>\n",
       "    </tr>\n",
       "    <tr>\n",
       "      <th>secondary_cleaner.state.floatbank2_a_level</th>\n",
       "      <td>secondary_cleaner.state.floatbank2_b_level</td>\n",
       "      <td>0.90</td>\n",
       "    </tr>\n",
       "    <tr>\n",
       "      <th>rougher.output.concentrate_au</th>\n",
       "      <td>rougher.output.concentrate_sol</td>\n",
       "      <td>0.89</td>\n",
       "    </tr>\n",
       "    <tr>\n",
       "      <th>secondary_cleaner.state.floatbank5_a_air</th>\n",
       "      <td>secondary_cleaner.state.floatbank5_b_air</td>\n",
       "      <td>0.89</td>\n",
       "    </tr>\n",
       "    <tr>\n",
       "      <th>secondary_cleaner.state.floatbank5_b_air</th>\n",
       "      <td>secondary_cleaner.state.floatbank5_a_air</td>\n",
       "      <td>0.89</td>\n",
       "    </tr>\n",
       "    <tr>\n",
       "      <th>rougher.output.concentrate_sol</th>\n",
       "      <td>rougher.output.concentrate_au</td>\n",
       "      <td>0.89</td>\n",
       "    </tr>\n",
       "    <tr>\n",
       "      <th>secondary_cleaner.state.floatbank2_a_air</th>\n",
       "      <td>secondary_cleaner.state.floatbank2_b_air</td>\n",
       "      <td>0.88</td>\n",
       "    </tr>\n",
       "    <tr>\n",
       "      <th>secondary_cleaner.state.floatbank2_b_air</th>\n",
       "      <td>secondary_cleaner.state.floatbank2_a_air</td>\n",
       "      <td>0.88</td>\n",
       "    </tr>\n",
       "    <tr>\n",
       "      <th>secondary_cleaner.state.floatbank4_b_air</th>\n",
       "      <td>secondary_cleaner.state.floatbank5_b_air</td>\n",
       "      <td>0.88</td>\n",
       "    </tr>\n",
       "    <tr>\n",
       "      <th>secondary_cleaner.state.floatbank5_a_level</th>\n",
       "      <td>secondary_cleaner.state.floatbank5_b_level</td>\n",
       "      <td>0.88</td>\n",
       "    </tr>\n",
       "    <tr>\n",
       "      <th>secondary_cleaner.state.floatbank5_b_level</th>\n",
       "      <td>secondary_cleaner.state.floatbank5_a_level</td>\n",
       "      <td>0.88</td>\n",
       "    </tr>\n",
       "    <tr>\n",
       "      <th>rougher.input.feed_au</th>\n",
       "      <td>rougher.input.feed_ag</td>\n",
       "      <td>0.85</td>\n",
       "    </tr>\n",
       "    <tr>\n",
       "      <th>rougher.input.feed_ag</th>\n",
       "      <td>rougher.input.feed_au</td>\n",
       "      <td>0.85</td>\n",
       "    </tr>\n",
       "    <tr>\n",
       "      <th>secondary_cleaner.state.floatbank4_a_air</th>\n",
       "      <td>secondary_cleaner.state.floatbank4_b_air</td>\n",
       "      <td>0.84</td>\n",
       "    </tr>\n",
       "    <tr>\n",
       "      <th>rougher.output.tail_au</th>\n",
       "      <td>rougher.output.tail_ag</td>\n",
       "      <td>0.81</td>\n",
       "    </tr>\n",
       "    <tr>\n",
       "      <th>rougher.output.tail_ag</th>\n",
       "      <td>rougher.output.tail_au</td>\n",
       "      <td>0.81</td>\n",
       "    </tr>\n",
       "    <tr>\n",
       "      <th>rougher.input.floatbank10_sulfate</th>\n",
       "      <td>rougher.input.floatbank11_sulfate</td>\n",
       "      <td>0.80</td>\n",
       "    </tr>\n",
       "    <tr>\n",
       "      <th>rougher.input.floatbank11_sulfate</th>\n",
       "      <td>rougher.input.floatbank10_sulfate</td>\n",
       "      <td>0.80</td>\n",
       "    </tr>\n",
       "  </tbody>\n",
       "</table>\n",
       "</div>"
      ],
      "text/plain": [
       "                                                                                             colname   \\\n",
       "rougher.state.floatbank10_f_level                                   rougher.state.floatbank10_e_level   \n",
       "rougher.state.floatbank10_e_level                                   rougher.state.floatbank10_f_level   \n",
       "rougher.state.floatbank10_d_level                                   rougher.state.floatbank10_c_level   \n",
       "rougher.state.floatbank10_c_level                                   rougher.state.floatbank10_b_level   \n",
       "rougher.state.floatbank10_b_level                                   rougher.state.floatbank10_c_level   \n",
       "rougher.calculation.floatbank11_sulfate_to_au_feed  rougher.calculation.floatbank10_sulfate_to_au_...   \n",
       "rougher.calculation.floatbank10_sulfate_to_au_feed  rougher.calculation.floatbank11_sulfate_to_au_...   \n",
       "primary_cleaner.state.floatbank8_c_level                     primary_cleaner.state.floatbank8_a_level   \n",
       "primary_cleaner.state.floatbank8_b_level                     primary_cleaner.state.floatbank8_a_level   \n",
       "primary_cleaner.state.floatbank8_a_level                     primary_cleaner.state.floatbank8_b_level   \n",
       "primary_cleaner.state.floatbank8_b_air                         primary_cleaner.state.floatbank8_a_air   \n",
       "primary_cleaner.state.floatbank8_a_air                         primary_cleaner.state.floatbank8_b_air   \n",
       "primary_cleaner.output.tail_ag                                         primary_cleaner.output.tail_pb   \n",
       "rougher.state.floatbank10_b_air                                       rougher.state.floatbank10_c_air   \n",
       "primary_cleaner.state.floatbank8_c_air                         primary_cleaner.state.floatbank8_b_air   \n",
       "primary_cleaner.output.tail_pb                                         primary_cleaner.output.tail_ag   \n",
       "rougher.state.floatbank10_c_air                                       rougher.state.floatbank10_b_air   \n",
       "rougher.input.floatbank11_xanthate                                 rougher.input.floatbank10_xanthate   \n",
       "rougher.state.floatbank10_e_air                                       rougher.state.floatbank10_f_air   \n",
       "rougher.state.floatbank10_f_air                                       rougher.state.floatbank10_e_air   \n",
       "rougher.input.floatbank10_xanthate                                 rougher.input.floatbank11_xanthate   \n",
       "rougher.state.floatbank10_d_air                                       rougher.state.floatbank10_b_air   \n",
       "secondary_cleaner.state.floatbank2_b_level                 secondary_cleaner.state.floatbank2_a_level   \n",
       "secondary_cleaner.state.floatbank2_a_level                 secondary_cleaner.state.floatbank2_b_level   \n",
       "rougher.output.concentrate_au                                          rougher.output.concentrate_sol   \n",
       "secondary_cleaner.state.floatbank5_a_air                     secondary_cleaner.state.floatbank5_b_air   \n",
       "secondary_cleaner.state.floatbank5_b_air                     secondary_cleaner.state.floatbank5_a_air   \n",
       "rougher.output.concentrate_sol                                          rougher.output.concentrate_au   \n",
       "secondary_cleaner.state.floatbank2_a_air                     secondary_cleaner.state.floatbank2_b_air   \n",
       "secondary_cleaner.state.floatbank2_b_air                     secondary_cleaner.state.floatbank2_a_air   \n",
       "secondary_cleaner.state.floatbank4_b_air                     secondary_cleaner.state.floatbank5_b_air   \n",
       "secondary_cleaner.state.floatbank5_a_level                 secondary_cleaner.state.floatbank5_b_level   \n",
       "secondary_cleaner.state.floatbank5_b_level                 secondary_cleaner.state.floatbank5_a_level   \n",
       "rougher.input.feed_au                                                           rougher.input.feed_ag   \n",
       "rougher.input.feed_ag                                                           rougher.input.feed_au   \n",
       "secondary_cleaner.state.floatbank4_a_air                     secondary_cleaner.state.floatbank4_b_air   \n",
       "rougher.output.tail_au                                                         rougher.output.tail_ag   \n",
       "rougher.output.tail_ag                                                         rougher.output.tail_au   \n",
       "rougher.input.floatbank10_sulfate                                   rougher.input.floatbank11_sulfate   \n",
       "rougher.input.floatbank11_sulfate                                   rougher.input.floatbank10_sulfate   \n",
       "\n",
       "                                                     cor  \n",
       "rougher.state.floatbank10_f_level                   0.99  \n",
       "rougher.state.floatbank10_e_level                   0.99  \n",
       "rougher.state.floatbank10_d_level                   0.99  \n",
       "rougher.state.floatbank10_c_level                   0.99  \n",
       "rougher.state.floatbank10_b_level                   0.99  \n",
       "rougher.calculation.floatbank11_sulfate_to_au_feed  0.97  \n",
       "rougher.calculation.floatbank10_sulfate_to_au_feed  0.97  \n",
       "primary_cleaner.state.floatbank8_c_level            0.96  \n",
       "primary_cleaner.state.floatbank8_b_level            0.96  \n",
       "primary_cleaner.state.floatbank8_a_level            0.96  \n",
       "primary_cleaner.state.floatbank8_b_air              0.95  \n",
       "primary_cleaner.state.floatbank8_a_air              0.95  \n",
       "primary_cleaner.output.tail_ag                      0.94  \n",
       "rougher.state.floatbank10_b_air                     0.94  \n",
       "primary_cleaner.state.floatbank8_c_air              0.94  \n",
       "primary_cleaner.output.tail_pb                      0.94  \n",
       "rougher.state.floatbank10_c_air                     0.94  \n",
       "rougher.input.floatbank11_xanthate                  0.94  \n",
       "rougher.state.floatbank10_e_air                     0.94  \n",
       "rougher.state.floatbank10_f_air                     0.94  \n",
       "rougher.input.floatbank10_xanthate                  0.94  \n",
       "rougher.state.floatbank10_d_air                     0.93  \n",
       "secondary_cleaner.state.floatbank2_b_level          0.90  \n",
       "secondary_cleaner.state.floatbank2_a_level          0.90  \n",
       "rougher.output.concentrate_au                       0.89  \n",
       "secondary_cleaner.state.floatbank5_a_air            0.89  \n",
       "secondary_cleaner.state.floatbank5_b_air            0.89  \n",
       "rougher.output.concentrate_sol                      0.89  \n",
       "secondary_cleaner.state.floatbank2_a_air            0.88  \n",
       "secondary_cleaner.state.floatbank2_b_air            0.88  \n",
       "secondary_cleaner.state.floatbank4_b_air            0.88  \n",
       "secondary_cleaner.state.floatbank5_a_level          0.88  \n",
       "secondary_cleaner.state.floatbank5_b_level          0.88  \n",
       "rougher.input.feed_au                               0.85  \n",
       "rougher.input.feed_ag                               0.85  \n",
       "secondary_cleaner.state.floatbank4_a_air            0.84  \n",
       "rougher.output.tail_au                              0.81  \n",
       "rougher.output.tail_ag                              0.81  \n",
       "rougher.input.floatbank10_sulfate                   0.80  \n",
       "rougher.input.floatbank11_sulfate                   0.80  "
      ]
     },
     "execution_count": 18,
     "metadata": {},
     "output_type": "execute_result"
    }
   ],
   "source": [
    "pc=corr_mat.abs().idxmax()\n",
    "cormax=corr_mat.loc[pc.index,pc.values]\n",
    "df_cor=pd.DataFrame({'colname ': pc,'cor': np.diagonal(cormax)})\n",
    "df_corr_sort = df_cor.sort_values(by=['cor'], ascending = False)\n",
    "df_corr_sort.head(40)"
   ]
  },
  {
   "cell_type": "markdown",
   "metadata": {},
   "source": [
    "Вывели пары с максимальными значениями корреляции. Увидели, что есть высокие значения."
   ]
  },
  {
   "cell_type": "code",
   "execution_count": 19,
   "metadata": {
    "scrolled": true
   },
   "outputs": [
    {
     "data": {
      "text/html": [
       "<div>\n",
       "<style scoped>\n",
       "    .dataframe tbody tr th:only-of-type {\n",
       "        vertical-align: middle;\n",
       "    }\n",
       "\n",
       "    .dataframe tbody tr th {\n",
       "        vertical-align: top;\n",
       "    }\n",
       "\n",
       "    .dataframe thead th {\n",
       "        text-align: right;\n",
       "    }\n",
       "</style>\n",
       "<table border=\"1\" class=\"dataframe\">\n",
       "  <thead>\n",
       "    <tr style=\"text-align: right;\">\n",
       "      <th></th>\n",
       "      <th>colname</th>\n",
       "      <th>cor</th>\n",
       "    </tr>\n",
       "  </thead>\n",
       "  <tbody>\n",
       "    <tr>\n",
       "      <th>rougher.state.floatbank10_f_level</th>\n",
       "      <td>rougher.state.floatbank10_e_level</td>\n",
       "      <td>0.99</td>\n",
       "    </tr>\n",
       "    <tr>\n",
       "      <th>rougher.state.floatbank10_e_level</th>\n",
       "      <td>rougher.state.floatbank10_f_level</td>\n",
       "      <td>0.99</td>\n",
       "    </tr>\n",
       "    <tr>\n",
       "      <th>rougher.state.floatbank10_d_level</th>\n",
       "      <td>rougher.state.floatbank10_c_level</td>\n",
       "      <td>0.99</td>\n",
       "    </tr>\n",
       "    <tr>\n",
       "      <th>rougher.state.floatbank10_c_level</th>\n",
       "      <td>rougher.state.floatbank10_b_level</td>\n",
       "      <td>0.99</td>\n",
       "    </tr>\n",
       "    <tr>\n",
       "      <th>rougher.state.floatbank10_b_level</th>\n",
       "      <td>rougher.state.floatbank10_c_level</td>\n",
       "      <td>0.99</td>\n",
       "    </tr>\n",
       "    <tr>\n",
       "      <th>rougher.calculation.floatbank11_sulfate_to_au_feed</th>\n",
       "      <td>rougher.calculation.floatbank10_sulfate_to_au_...</td>\n",
       "      <td>0.97</td>\n",
       "    </tr>\n",
       "    <tr>\n",
       "      <th>rougher.calculation.floatbank10_sulfate_to_au_feed</th>\n",
       "      <td>rougher.calculation.floatbank11_sulfate_to_au_...</td>\n",
       "      <td>0.97</td>\n",
       "    </tr>\n",
       "    <tr>\n",
       "      <th>primary_cleaner.state.floatbank8_c_level</th>\n",
       "      <td>primary_cleaner.state.floatbank8_a_level</td>\n",
       "      <td>0.96</td>\n",
       "    </tr>\n",
       "    <tr>\n",
       "      <th>primary_cleaner.state.floatbank8_b_level</th>\n",
       "      <td>primary_cleaner.state.floatbank8_a_level</td>\n",
       "      <td>0.96</td>\n",
       "    </tr>\n",
       "    <tr>\n",
       "      <th>primary_cleaner.state.floatbank8_a_level</th>\n",
       "      <td>primary_cleaner.state.floatbank8_b_level</td>\n",
       "      <td>0.96</td>\n",
       "    </tr>\n",
       "  </tbody>\n",
       "</table>\n",
       "</div>"
      ],
      "text/plain": [
       "                                                                                             colname   \\\n",
       "rougher.state.floatbank10_f_level                                   rougher.state.floatbank10_e_level   \n",
       "rougher.state.floatbank10_e_level                                   rougher.state.floatbank10_f_level   \n",
       "rougher.state.floatbank10_d_level                                   rougher.state.floatbank10_c_level   \n",
       "rougher.state.floatbank10_c_level                                   rougher.state.floatbank10_b_level   \n",
       "rougher.state.floatbank10_b_level                                   rougher.state.floatbank10_c_level   \n",
       "rougher.calculation.floatbank11_sulfate_to_au_feed  rougher.calculation.floatbank10_sulfate_to_au_...   \n",
       "rougher.calculation.floatbank10_sulfate_to_au_feed  rougher.calculation.floatbank11_sulfate_to_au_...   \n",
       "primary_cleaner.state.floatbank8_c_level                     primary_cleaner.state.floatbank8_a_level   \n",
       "primary_cleaner.state.floatbank8_b_level                     primary_cleaner.state.floatbank8_a_level   \n",
       "primary_cleaner.state.floatbank8_a_level                     primary_cleaner.state.floatbank8_b_level   \n",
       "\n",
       "                                                     cor  \n",
       "rougher.state.floatbank10_f_level                   0.99  \n",
       "rougher.state.floatbank10_e_level                   0.99  \n",
       "rougher.state.floatbank10_d_level                   0.99  \n",
       "rougher.state.floatbank10_c_level                   0.99  \n",
       "rougher.state.floatbank10_b_level                   0.99  \n",
       "rougher.calculation.floatbank11_sulfate_to_au_feed  0.97  \n",
       "rougher.calculation.floatbank10_sulfate_to_au_feed  0.97  \n",
       "primary_cleaner.state.floatbank8_c_level            0.96  \n",
       "primary_cleaner.state.floatbank8_b_level            0.96  \n",
       "primary_cleaner.state.floatbank8_a_level            0.96  "
      ]
     },
     "execution_count": 19,
     "metadata": {},
     "output_type": "execute_result"
    }
   ],
   "source": [
    "df_corr_sort[df_corr_sort['cor'] > 0.95]"
   ]
  },
  {
   "cell_type": "markdown",
   "metadata": {},
   "source": [
    "Вывели только те пары, у которых корреляция больше 0.95. Это взаимозависимые характеристики этапов флотации и первичной очистки. Удалим по одному значению из пары:\n"
   ]
  },
  {
   "cell_type": "code",
   "execution_count": 20,
   "metadata": {},
   "outputs": [],
   "source": [
    "df_train = df_train.drop(['rougher.state.floatbank10_b_level', 'rougher.state.floatbank10_d_level', \\\n",
    "                          'rougher.state.floatbank10_f_level', 'primary_cleaner.state.floatbank8_a_level'],axis=1)"
   ]
  },
  {
   "cell_type": "code",
   "execution_count": 21,
   "metadata": {},
   "outputs": [],
   "source": [
    "df_test = df_test.drop(['rougher.state.floatbank10_b_level', 'rougher.state.floatbank10_d_level', \\\n",
    "                          'rougher.state.floatbank10_f_level', 'primary_cleaner.state.floatbank8_a_level'],axis=1)"
   ]
  },
  {
   "cell_type": "markdown",
   "metadata": {},
   "source": [
    "#### Заполнение пропусков"
   ]
  },
  {
   "cell_type": "code",
   "execution_count": 22,
   "metadata": {},
   "outputs": [],
   "source": [
    "df_train = df_train.fillna(method=\"ffill\")"
   ]
  },
  {
   "cell_type": "code",
   "execution_count": 23,
   "metadata": {},
   "outputs": [],
   "source": [
    "df_test = df_test.fillna(method=\"ffill\")"
   ]
  },
  {
   "cell_type": "markdown",
   "metadata": {},
   "source": [
    "Заполнили пропуски медианами"
   ]
  },
  {
   "cell_type": "markdown",
   "metadata": {},
   "source": [
    "### Вывод"
   ]
  },
  {
   "cell_type": "markdown",
   "metadata": {},
   "source": [
    "Изучили датасеты с тремя наборами данных: \n",
    "- Обучающий\n",
    "- Тестовый\n",
    "- Полный\n",
    "\n",
    "Обнаружили, что тестовый набор не содержит в себе признаки продуктов на выходе после каждого из этапов. Удалили эту информацию, как лишнюю из обучающей выборки.\n",
    "\n",
    "Целевыми признаками в дальнейшем будет считать эффективность обогащения после флотации (rougher.output.recovery) и финального продукт (final.output.recovery). \n",
    "\n",
    "Проверили по формуле, что эффективность обогащения в датасетах посчитана корректно.\n",
    "\n",
    "Удалили сильно коррелирующие признаки: rougher.state.floatbank10_b_level', 'rougher.state.floatbank10_d_level', 'rougher.state.floatbank10_f_level', 'primary_cleaner.state.floatbank8_a_level, которые характеризуют стадии флотации и первичной очистки. Коррелция у них больше 0.95\n",
    "\n",
    "Заполнили пропуски в столбцах медианами"
   ]
  },
  {
   "cell_type": "markdown",
   "metadata": {},
   "source": [
    "## Анализ данных"
   ]
  },
  {
   "cell_type": "markdown",
   "metadata": {},
   "source": [
    "#### 2.1 Посмотрите, как меняется концентрация металлов (Au, Ag, Pb) на различных этапах очистки. Опишите выводы"
   ]
  },
  {
   "cell_type": "code",
   "execution_count": 24,
   "metadata": {},
   "outputs": [
    {
     "name": "stdout",
     "output_type": "stream",
     "text": [
      "<class 'pandas.core.frame.DataFrame'>\n",
      "DatetimeIndex: 14149 entries, 2016-01-15 00:00:00 to 2018-08-18 10:59:59\n",
      "Data columns (total 82 columns):\n",
      " #   Column                                              Non-Null Count  Dtype  \n",
      "---  ------                                              --------------  -----  \n",
      " 0   final.output.concentrate_ag                         14149 non-null  float64\n",
      " 1   final.output.concentrate_pb                         14149 non-null  float64\n",
      " 2   final.output.concentrate_sol                        14149 non-null  float64\n",
      " 3   final.output.concentrate_au                         14149 non-null  float64\n",
      " 4   final.output.recovery                               14149 non-null  float64\n",
      " 5   final.output.tail_ag                                14149 non-null  float64\n",
      " 6   final.output.tail_pb                                14149 non-null  float64\n",
      " 7   final.output.tail_sol                               14149 non-null  float64\n",
      " 8   final.output.tail_au                                14149 non-null  float64\n",
      " 9   primary_cleaner.input.sulfate                       14149 non-null  float64\n",
      " 10  primary_cleaner.input.depressant                    14149 non-null  float64\n",
      " 11  primary_cleaner.input.feed_size                     14149 non-null  float64\n",
      " 12  primary_cleaner.input.xanthate                      14149 non-null  float64\n",
      " 13  primary_cleaner.output.concentrate_ag               14149 non-null  float64\n",
      " 14  primary_cleaner.output.concentrate_pb               14149 non-null  float64\n",
      " 15  primary_cleaner.output.concentrate_sol              14149 non-null  float64\n",
      " 16  primary_cleaner.output.concentrate_au               14149 non-null  float64\n",
      " 17  primary_cleaner.output.tail_ag                      14149 non-null  float64\n",
      " 18  primary_cleaner.output.tail_pb                      14149 non-null  float64\n",
      " 19  primary_cleaner.output.tail_sol                     14149 non-null  float64\n",
      " 20  primary_cleaner.output.tail_au                      14149 non-null  float64\n",
      " 21  primary_cleaner.state.floatbank8_a_air              14149 non-null  float64\n",
      " 22  primary_cleaner.state.floatbank8_b_air              14149 non-null  float64\n",
      " 23  primary_cleaner.state.floatbank8_b_level            14149 non-null  float64\n",
      " 24  primary_cleaner.state.floatbank8_c_air              14149 non-null  float64\n",
      " 25  primary_cleaner.state.floatbank8_c_level            14149 non-null  float64\n",
      " 26  primary_cleaner.state.floatbank8_d_air              14149 non-null  float64\n",
      " 27  primary_cleaner.state.floatbank8_d_level            14149 non-null  float64\n",
      " 28  rougher.calculation.sulfate_to_au_concentrate       14149 non-null  float64\n",
      " 29  rougher.calculation.floatbank10_sulfate_to_au_feed  14149 non-null  float64\n",
      " 30  rougher.calculation.floatbank11_sulfate_to_au_feed  14149 non-null  float64\n",
      " 31  rougher.calculation.au_pb_ratio                     14149 non-null  float64\n",
      " 32  rougher.input.feed_ag                               14149 non-null  float64\n",
      " 33  rougher.input.feed_pb                               14149 non-null  float64\n",
      " 34  rougher.input.feed_rate                             14149 non-null  float64\n",
      " 35  rougher.input.feed_size                             14149 non-null  float64\n",
      " 36  rougher.input.feed_sol                              14149 non-null  float64\n",
      " 37  rougher.input.feed_au                               14149 non-null  float64\n",
      " 38  rougher.input.floatbank10_sulfate                   14149 non-null  float64\n",
      " 39  rougher.input.floatbank10_xanthate                  14149 non-null  float64\n",
      " 40  rougher.input.floatbank11_sulfate                   14149 non-null  float64\n",
      " 41  rougher.input.floatbank11_xanthate                  14149 non-null  float64\n",
      " 42  rougher.output.concentrate_ag                       14149 non-null  float64\n",
      " 43  rougher.output.concentrate_pb                       14149 non-null  float64\n",
      " 44  rougher.output.concentrate_sol                      14149 non-null  float64\n",
      " 45  rougher.output.concentrate_au                       14149 non-null  float64\n",
      " 46  rougher.output.recovery                             14149 non-null  float64\n",
      " 47  rougher.output.tail_ag                              14149 non-null  float64\n",
      " 48  rougher.output.tail_pb                              14149 non-null  float64\n",
      " 49  rougher.output.tail_sol                             14149 non-null  float64\n",
      " 50  rougher.output.tail_au                              14149 non-null  float64\n",
      " 51  rougher.state.floatbank10_a_air                     14149 non-null  float64\n",
      " 52  rougher.state.floatbank10_a_level                   14149 non-null  float64\n",
      " 53  rougher.state.floatbank10_b_air                     14149 non-null  float64\n",
      " 54  rougher.state.floatbank10_c_air                     14149 non-null  float64\n",
      " 55  rougher.state.floatbank10_c_level                   14149 non-null  float64\n",
      " 56  rougher.state.floatbank10_d_air                     14149 non-null  float64\n",
      " 57  rougher.state.floatbank10_e_air                     14149 non-null  float64\n",
      " 58  rougher.state.floatbank10_e_level                   14149 non-null  float64\n",
      " 59  rougher.state.floatbank10_f_air                     14149 non-null  float64\n",
      " 60  secondary_cleaner.output.tail_ag                    14149 non-null  float64\n",
      " 61  secondary_cleaner.output.tail_pb                    14149 non-null  float64\n",
      " 62  secondary_cleaner.output.tail_sol                   14149 non-null  float64\n",
      " 63  secondary_cleaner.output.tail_au                    14149 non-null  float64\n",
      " 64  secondary_cleaner.state.floatbank2_a_air            14149 non-null  float64\n",
      " 65  secondary_cleaner.state.floatbank2_a_level          14149 non-null  float64\n",
      " 66  secondary_cleaner.state.floatbank2_b_air            14149 non-null  float64\n",
      " 67  secondary_cleaner.state.floatbank2_b_level          14149 non-null  float64\n",
      " 68  secondary_cleaner.state.floatbank3_a_air            14149 non-null  float64\n",
      " 69  secondary_cleaner.state.floatbank3_a_level          14149 non-null  float64\n",
      " 70  secondary_cleaner.state.floatbank3_b_air            14149 non-null  float64\n",
      " 71  secondary_cleaner.state.floatbank3_b_level          14149 non-null  float64\n",
      " 72  secondary_cleaner.state.floatbank4_a_air            14149 non-null  float64\n",
      " 73  secondary_cleaner.state.floatbank4_a_level          14149 non-null  float64\n",
      " 74  secondary_cleaner.state.floatbank4_b_air            14149 non-null  float64\n",
      " 75  secondary_cleaner.state.floatbank4_b_level          14149 non-null  float64\n",
      " 76  secondary_cleaner.state.floatbank5_a_air            14149 non-null  float64\n",
      " 77  secondary_cleaner.state.floatbank5_a_level          14149 non-null  float64\n",
      " 78  secondary_cleaner.state.floatbank5_b_air            14149 non-null  float64\n",
      " 79  secondary_cleaner.state.floatbank5_b_level          14149 non-null  float64\n",
      " 80  secondary_cleaner.state.floatbank6_a_air            14149 non-null  float64\n",
      " 81  secondary_cleaner.state.floatbank6_a_level          14149 non-null  float64\n",
      "dtypes: float64(82)\n",
      "memory usage: 9.0 MB\n"
     ]
    }
   ],
   "source": [
    "df_train.info()"
   ]
  },
  {
   "cell_type": "markdown",
   "metadata": {},
   "source": [
    "##### Серебро. Основное"
   ]
  },
  {
   "cell_type": "code",
   "execution_count": 25,
   "metadata": {},
   "outputs": [
    {
     "data": {
      "image/png": "[encoded data removed]",
      "text/plain": [
       "<Figure size 720x360 with 1 Axes>"
      ]
     },
     "metadata": {
      "needs_background": "light"
     },
     "output_type": "display_data"
    }
   ],
   "source": [
    "df_train['rougher.input.feed_ag'].plot(kind='hist', bins=40, alpha=1, figsize =(10, 5), label = 'Флотация, сырье')\n",
    "df_train['rougher.output.concentrate_ag'].plot(kind='hist', bins=40, alpha=1, figsize =(10, 5), label = 'Флотация, продукт')\n",
    "df_train['primary_cleaner.output.concentrate_ag'].plot(kind='hist', bins=40, alpha=1, figsize =(10, 5), label = 'Перв. очистка, продукт')\n",
    "df_train['final.output.concentrate_ag'].plot(kind='hist', bins=40, alpha=1, figsize =(10, 5), label = 'Финальная, продукт')\n",
    "\n",
    "plt.xlabel('Концентрация серебра')\n",
    "plt.ylabel('Количество')\n",
    "plt.title('Концентрация серебра по этапам')\n",
    "plt.legend()\n",
    "plt.show()"
   ]
  },
  {
   "cell_type": "markdown",
   "metadata": {},
   "source": [
    "##### Серебро. Хвосты"
   ]
  },
  {
   "cell_type": "code",
   "execution_count": 26,
   "metadata": {
    "scrolled": false
   },
   "outputs": [
    {
     "data": {
      "image/png": "[encoded data removed]",
      "text/plain": [
       "<Figure size 720x360 with 1 Axes>"
      ]
     },
     "metadata": {
      "needs_background": "light"
     },
     "output_type": "display_data"
    }
   ],
   "source": [
    "df_train['rougher.output.tail_ag'].plot(kind='hist', bins=40, alpha=1, figsize =(10, 5), label = 'Флотация, хвосты')\n",
    "df_train['primary_cleaner.output.tail_ag'].plot(kind='hist', bins=40, alpha=1, figsize =(10, 5), label = 'Перв. очистка, хвосты')\n",
    "df_train['secondary_cleaner.output.tail_ag'].plot(kind='hist', bins=40, alpha=1, figsize =(10, 5), label = 'Втор. очистка, хвосты')\n",
    "df_train['final.output.tail_ag'].plot(kind='hist', bins=40, alpha=1, figsize =(10, 5), label = 'Финальная, хвосты')\n",
    "\n",
    "plt.xlabel('Концентрация серебра')\n",
    "plt.ylabel('Количество')\n",
    "plt.title('Концентрация серебра в ХВОСТАХ по этапам')\n",
    "plt.legend()\n",
    "plt.show()"
   ]
  },
  {
   "cell_type": "markdown",
   "metadata": {},
   "source": [
    "После флотации концентрация серебра в продукте увеличвается, на последующих этапах уменьшается ниже, чем на входе. В отвальных хвостах, концентрация сначала тоже растет, но потом снижается. Теме не менее оставшись больше, чем на входе"
   ]
  },
  {
   "cell_type": "markdown",
   "metadata": {},
   "source": [
    "##### Свинец. Основное"
   ]
  },
  {
   "cell_type": "code",
   "execution_count": 27,
   "metadata": {
    "scrolled": false
   },
   "outputs": [
    {
     "data": {
      "image/png": "[encoded data removed]",
      "text/plain": [
       "<Figure size 720x360 with 1 Axes>"
      ]
     },
     "metadata": {
      "needs_background": "light"
     },
     "output_type": "display_data"
    }
   ],
   "source": [
    "df_train['rougher.input.feed_pb'].plot(kind='hist', bins=40, alpha=1, figsize =(10, 5), label = 'Флотация, сырье')\n",
    "df_train['rougher.output.concentrate_pb'].plot(kind='hist', bins=40, alpha=1, figsize =(10, 5), label = 'Флотация, продукт')\n",
    "df_train['primary_cleaner.output.concentrate_pb'].plot(kind='hist', bins=40, alpha=1, figsize =(10, 5), label = 'Перв. очистка, продукт')\n",
    "df_train['final.output.concentrate_pb'].plot(kind='hist', bins=40, alpha=1, figsize =(10, 5), label = 'Финальная, продукт')\n",
    "\n",
    "plt.xlabel('Концентрация свинца')\n",
    "plt.ylabel('Количество')\n",
    "plt.title('Концентрация свинца по этапам')\n",
    "plt.legend()\n",
    "plt.show()"
   ]
  },
  {
   "cell_type": "markdown",
   "metadata": {},
   "source": [
    "##### Свинец. Хвосты"
   ]
  },
  {
   "cell_type": "code",
   "execution_count": 28,
   "metadata": {},
   "outputs": [
    {
     "data": {
      "image/png": "[encoded data removed]",
      "text/plain": [
       "<Figure size 720x360 with 1 Axes>"
      ]
     },
     "metadata": {
      "needs_background": "light"
     },
     "output_type": "display_data"
    }
   ],
   "source": [
    "df_train['rougher.output.tail_pb'].plot(kind='hist', bins=40, alpha=1, figsize =(10, 5), label = 'Флотация, хвосты')\n",
    "df_train['primary_cleaner.output.tail_pb'].plot(kind='hist', bins=40, alpha=1, figsize =(10, 5), label = 'Перв. очистка, хвосты')\n",
    "df_train['secondary_cleaner.output.tail_pb'].plot(kind='hist', bins=40, alpha=1, figsize =(10, 5), label = 'Втор. очистка, хвосты')\n",
    "df_train['final.output.tail_pb'].plot(kind='hist', bins=40, alpha=1, figsize =(10, 5), label = 'Финальная, хвосты')\n",
    "\n",
    "plt.xlabel('Концентрация свинца')\n",
    "plt.ylabel('Количество')\n",
    "plt.title('Концентрация свинца в ХВОСТАХ по этапам')\n",
    "plt.legend()\n",
    "plt.show()"
   ]
  },
  {
   "cell_type": "markdown",
   "metadata": {},
   "source": [
    "Концентрация свинца в процессе обработки и в основном продукте, и в отвальных хвостах увеличивается."
   ]
  },
  {
   "cell_type": "markdown",
   "metadata": {},
   "source": [
    "##### Золото. Основное"
   ]
  },
  {
   "cell_type": "code",
   "execution_count": 29,
   "metadata": {},
   "outputs": [
    {
     "data": {
      "image/png": "[encoded data removed]",
      "text/plain": [
       "<Figure size 720x360 with 1 Axes>"
      ]
     },
     "metadata": {
      "needs_background": "light"
     },
     "output_type": "display_data"
    }
   ],
   "source": [
    "df_train['rougher.input.feed_au'].plot(kind='hist', bins=40, alpha=1, figsize =(10, 5), label = 'Флотация, сырье')\n",
    "df_train['rougher.output.concentrate_au'].plot(kind='hist', bins=40, alpha=1, figsize =(10, 5), label = 'Флотация, продукт')\n",
    "df_train['primary_cleaner.output.concentrate_au'].plot(kind='hist', bins=40, alpha=1, figsize =(10, 5), label = 'Перв. очистка, продукт')\n",
    "df_train['final.output.concentrate_au'].plot(kind='hist', bins=40, alpha=1, figsize =(10, 5), label = 'Финальная, продукт')\n",
    "\n",
    "plt.xlabel('Концентрация золота')\n",
    "plt.ylabel('Количество')\n",
    "plt.title('Концентрация золота по этапам')\n",
    "plt.legend()\n",
    "plt.show()"
   ]
  },
  {
   "cell_type": "markdown",
   "metadata": {},
   "source": [
    "##### Золото. Хвосты"
   ]
  },
  {
   "cell_type": "code",
   "execution_count": 30,
   "metadata": {
    "scrolled": false
   },
   "outputs": [
    {
     "data": {
      "image/png": "[encoded data removed]",
      "text/plain": [
       "<Figure size 720x360 with 1 Axes>"
      ]
     },
     "metadata": {
      "needs_background": "light"
     },
     "output_type": "display_data"
    }
   ],
   "source": [
    "df_train['rougher.output.tail_au'].plot(kind='hist', bins=40, alpha=1, figsize =(10, 5), label = 'Флотация, хвосты')\n",
    "df_train['primary_cleaner.output.tail_au'].plot(kind='hist', bins=40, alpha=1, figsize =(10, 5), label = 'Перв. очистка, хвосты')\n",
    "df_train['secondary_cleaner.output.tail_au'].plot(kind='hist', bins=40, alpha=1, figsize =(10, 5), label = 'Втор. очистка, хвосты')\n",
    "df_train['final.output.tail_au'].plot(kind='hist', bins=40, alpha=1, figsize =(10, 5), label = 'Финальная, хвосты')\n",
    "\n",
    "plt.xlabel('Концентрация золота')\n",
    "plt.ylabel('Количество')\n",
    "plt.title('Концентрация золота в ХВОСТАХ по этапам')\n",
    "plt.legend()\n",
    "plt.show()"
   ]
  },
  {
   "cell_type": "markdown",
   "metadata": {},
   "source": [
    "Концентрация золота в процессе обработки увеличивается. Ощутимо на каждом этапе. В отвальных хвостах тоже увеличивается, но не так заметно"
   ]
  },
  {
   "cell_type": "markdown",
   "metadata": {},
   "source": [
    "### 2.2 Сравните распределения размеров гранул сырья на обучающей и тестовой выборках. Если распределения сильно отличаются друг от друга, оценка модели будет неправильной"
   ]
  },
  {
   "cell_type": "code",
   "execution_count": 31,
   "metadata": {
    "scrolled": false
   },
   "outputs": [
    {
     "data": {
      "image/png": "[encoded data removed]",
      "text/plain": [
       "<Figure size 720x360 with 1 Axes>"
      ]
     },
     "metadata": {
      "needs_background": "light"
     },
     "output_type": "display_data"
    }
   ],
   "source": [
    "plt.figure(figsize=(10,5))\n",
    "sns.kdeplot(data=df_train, x='rougher.input.feed_size')\n",
    "sns.kdeplot(data=df_test, x='rougher.input.feed_size')\n",
    "\n",
    "plt.xlabel('Размер гранул')\n",
    "plt.ylabel('Плотность')\n",
    "plt.title('Распределение размеров гранул сырья перед флотацией')\n",
    "plt.legend(labels=['train',  'test'])\n",
    "plt.show()"
   ]
  },
  {
   "cell_type": "code",
   "execution_count": 32,
   "metadata": {},
   "outputs": [
    {
     "data": {
      "image/png": "[encoded data removed]",
      "text/plain": [
       "<Figure size 720x360 with 1 Axes>"
      ]
     },
     "metadata": {
      "needs_background": "light"
     },
     "output_type": "display_data"
    }
   ],
   "source": [
    "plt.figure(figsize=(10,5))\n",
    "sns.kdeplot(data=df_train, x='primary_cleaner.input.feed_size')\n",
    "sns.kdeplot(data=df_test, x='primary_cleaner.input.feed_size')\n",
    "\n",
    "plt.xlabel('Размер гранул')\n",
    "plt.ylabel('Плотность')\n",
    "plt.title('Распределение размеров гранул сырья перед первичной очисткой')\n",
    "plt.legend(labels=['train',  'test'])\n",
    "plt.show()"
   ]
  },
  {
   "cell_type": "markdown",
   "metadata": {},
   "source": [
    "Построили два графика распределения:\n",
    "- для размера гранул сырья перед флотацией\n",
    "- для размера гранул сырья перед первичной очисткой (то есть уже после флотации).\n",
    "\n",
    "Увидели, что размер уменьшился. Перед флотацией пиковое значение составляло 30-40, а в крайнем правом положении доходило до 500. Перед очисткой пиковое значение примерно 7 и в крайнем правом положении доходит до 16. Очевидно в процессе флотации гранулы уменьшаются"
   ]
  },
  {
   "cell_type": "markdown",
   "metadata": {},
   "source": [
    "Посмотрели распределение размера гранул продукта на входе на обучающей и тестовой выборках. Распределения не сильно отличаются друг от друга, значит оценка моделей будет корректной"
   ]
  },
  {
   "cell_type": "markdown",
   "metadata": {},
   "source": [
    "### 2.3 Исследуйте суммарную концентрацию всех веществ на разных стадиях: в сырье, в черновом и финальном концентратах"
   ]
  },
  {
   "cell_type": "code",
   "execution_count": 33,
   "metadata": {},
   "outputs": [],
   "source": [
    "rougher_input_feed = df_train['rougher.input.feed_ag'] + df_train['rougher.input.feed_pb'] \\\n",
    "+ df_train['rougher.input.feed_au']+df_train['rougher.input.feed_sol']\n",
    "\n",
    "rougher_output_concentrate = df_train['rougher.output.concentrate_ag']  + df_train['rougher.output.concentrate_pb'] +df_train['rougher.output.concentrate_au'] \\\n",
    "+ df_train['rougher.output.concentrate_sol']\n",
    "\n",
    "primary_cleaner_output_concentrate = df_train['primary_cleaner.output.concentrate_ag']+ df_train['primary_cleaner.output.concentrate_pb'] \\\n",
    "+df_train['primary_cleaner.output.concentrate_au'] + df_train['primary_cleaner.output.concentrate_sol']\n",
    "\n",
    "final_output_concentrate = df_train['final.output.concentrate_ag'] + df_train['final.output.concentrate_pb'] \\\n",
    "+ df_train['final.output.concentrate_au'] + df_train['final.output.concentrate_sol']"
   ]
  },
  {
   "cell_type": "code",
   "execution_count": 34,
   "metadata": {},
   "outputs": [
    {
     "data": {
      "image/png": "[encoded data removed]",
      "text/plain": [
       "<Figure size 720x360 with 1 Axes>"
      ]
     },
     "metadata": {
      "needs_background": "light"
     },
     "output_type": "display_data"
    }
   ],
   "source": [
    "plt.figure(figsize=(10,5))\n",
    "sns.kdeplot(rougher_input_feed)\n",
    "sns.kdeplot(rougher_output_concentrate)\n",
    "sns.kdeplot(primary_cleaner_output_concentrate)\n",
    "sns.kdeplot(final_output_concentrate)\n",
    "\n",
    "plt.xlabel('Концентрация веществ')\n",
    "plt.ylabel('Плотность')\n",
    "plt.title('Распределение концентрации веществ на разных стадиях')\n",
    "plt.legend(labels=['Сырье',  'Флотация', 'Первичная очистка', 'Финал'])\n",
    "plt.show()"
   ]
  },
  {
   "cell_type": "code",
   "execution_count": 35,
   "metadata": {},
   "outputs": [],
   "source": [
    "df_train = df_train[df_train['rougher.input.feed_ag']>0]\n",
    "df_train = df_train[df_train['rougher.output.concentrate_ag']>0]\n",
    "df_train = df_train[df_train['primary_cleaner.output.concentrate_ag']>0]\n",
    "df_train = df_train[df_train['final.output.concentrate_ag']>0]\n",
    "df_train = df_train[df_train['rougher.input.feed_pb']>0]\n",
    "df_train = df_train[df_train['rougher.output.concentrate_pb']>0]\n",
    "df_train = df_train[df_train['primary_cleaner.output.concentrate_pb']>0]\n",
    "df_train = df_train[df_train['final.output.concentrate_pb']>0]\n",
    "df_train = df_train[df_train['rougher.input.feed_au']>0]\n",
    "df_train = df_train[df_train['rougher.output.concentrate_au']>0]\n",
    "df_train = df_train[df_train['primary_cleaner.output.concentrate_au']>0]\n",
    "df_train = df_train[df_train['final.output.concentrate_au']>0]\n",
    "df_train = df_train[df_train['rougher.input.feed_sol']>0]\n",
    "df_train = df_train[df_train['rougher.output.concentrate_sol']>0]\n",
    "df_train = df_train[df_train['primary_cleaner.output.concentrate_sol']>0]\n",
    "df_train = df_train[df_train['final.output.concentrate_sol']>0]"
   ]
  },
  {
   "cell_type": "markdown",
   "metadata": {},
   "source": [
    "Построили график распределения суммы концентрации веществ на разных стадиях обработки. На всех графиках есть некоторый всплеск в районе нуля, который можно интерпритировать, как выброс.\n",
    "\n",
    "Удалили строки, в которых концентрация <= 0. "
   ]
  },
  {
   "cell_type": "code",
   "execution_count": 36,
   "metadata": {},
   "outputs": [],
   "source": [
    "df_train = df_train.drop(excess, axis=1)"
   ]
  },
  {
   "cell_type": "markdown",
   "metadata": {},
   "source": [
    "Удалили из обучающей выборки столбцы, которых нет в тестовой выборке. К этой операции подготовились в пункте 1.3"
   ]
  },
  {
   "cell_type": "markdown",
   "metadata": {},
   "source": [
    "##### Вывод"
   ]
  },
  {
   "cell_type": "markdown",
   "metadata": {},
   "source": [
    "Изучили изменение концентрации веществ в процессе обработки. \n",
    "\n",
    "- Убедились, что концетрация золота заметно растет от этапа к этапу. Не только в основном продукте, но и в отвальных хвостах.  \n",
    "- Концентрация свинца увеличевается, но изменения незначительные по сравнению с золотом\n",
    "- Серебро и сульфаты уменьшаются"
   ]
  },
  {
   "cell_type": "markdown",
   "metadata": {},
   "source": [
    "## Модель"
   ]
  },
  {
   "cell_type": "markdown",
   "metadata": {},
   "source": [
    "#### 3.1 Напишите функцию для вычисления итоговой sMAPE"
   ]
  },
  {
   "cell_type": "code",
   "execution_count": 37,
   "metadata": {},
   "outputs": [],
   "source": [
    "def smape(predict, target):\n",
    "    return 100/len(predict) * np.sum(2 * np.abs(target - predict) / (np.abs(predict) + np.abs(target)))\n",
    "\n",
    "smape_score = make_scorer(smape, greater_is_better=False)"
   ]
  },
  {
   "cell_type": "markdown",
   "metadata": {},
   "source": [
    "#### 3.2 Обучите разные модели и оцените их качество кросс-валидацией. Выберите лучшую модель и проверьте её на тестовой выборке. Опишите выводы"
   ]
  },
  {
   "cell_type": "markdown",
   "metadata": {},
   "source": [
    "##### Линейная регрессия"
   ]
  },
  {
   "cell_type": "code",
   "execution_count": 38,
   "metadata": {},
   "outputs": [],
   "source": [
    "features = df_train.drop(['rougher.output.recovery', 'final.output.recovery'],axis=1)\n",
    "target_rougher  = df_train['rougher.output.recovery']\n",
    "target_final  = df_train['final.output.recovery']\n",
    "\n",
    "features_test = df_test.drop(['rougher.output.recovery', 'final.output.recovery'],axis=1)\n",
    "target_rougher_test  = df_test['rougher.output.recovery']\n",
    "target_final_test  = df_test['final.output.recovery']\n",
    "\n",
    "scaler = StandardScaler()\n",
    "scaler.fit(features)\n",
    "\n",
    "features = scaler.transform(features)\n",
    "features_test = scaler.transform(features_test)"
   ]
  },
  {
   "cell_type": "code",
   "execution_count": 39,
   "metadata": {
    "scrolled": true
   },
   "outputs": [
    {
     "name": "stdout",
     "output_type": "stream",
     "text": [
      "Средняя оценка качества модели на стадии флотации: 10.3552792469324\n"
     ]
    }
   ],
   "source": [
    "model_lin = LinearRegression()\n",
    "model_lin.fit(features, target_rougher)\n",
    "    \n",
    "scores_rougher_lin = []\n",
    "scores_rougher_lin = cross_val_score(model_lin, features, target_rougher, scoring = smape_score, cv=3, n_jobs=-1) \n",
    "scores_rougher_lin = -scores_rougher_lin.mean()\n",
    "\n",
    "print('Средняя оценка качества модели на стадии флотации:', scores_rougher_lin)"
   ]
  },
  {
   "cell_type": "code",
   "execution_count": 40,
   "metadata": {},
   "outputs": [
    {
     "name": "stdout",
     "output_type": "stream",
     "text": [
      "Средняя оценка качества моделе на финальной стадии: 13.253354920028526\n"
     ]
    }
   ],
   "source": [
    "model_lin.fit(features, target_final)\n",
    "\n",
    "scores_final_lin = []\n",
    "scores_final_lin  = cross_val_score(model_lin, features, target_final, scoring = smape_score, cv=3, n_jobs=-1) \n",
    "scores_final_lin = -scores_final_lin.mean()\n",
    "\n",
    "print('Средняя оценка качества моделе на финальной стадии:',scores_final_lin)"
   ]
  },
  {
   "cell_type": "code",
   "execution_count": 41,
   "metadata": {
    "scrolled": true
   },
   "outputs": [
    {
     "name": "stdout",
     "output_type": "stream",
     "text": [
      "Итоговая оценка качества на модели линейной регрессии: 12.528836001754494\n"
     ]
    }
   ],
   "source": [
    "result_smape_lin = 0.25*scores_rougher_lin + 0.75*scores_final_lin\n",
    "print('Итоговая оценка качества на модели линейной регрессии:', result_smape_lin)"
   ]
  },
  {
   "cell_type": "markdown",
   "metadata": {},
   "source": [
    "##### Дерево решений"
   ]
  },
  {
   "cell_type": "code",
   "execution_count": 42,
   "metadata": {},
   "outputs": [
    {
     "name": "stdout",
     "output_type": "stream",
     "text": [
      "Средняя оценка качества модели на стадии флотации: 8.130634592683073 max_depth = 2\n"
     ]
    }
   ],
   "source": [
    "best_model = None\n",
    "best_result = 100\n",
    "best_depth = 0\n",
    "for depth in range(2, 11):\n",
    "    model = DecisionTreeRegressor(random_state=12345, max_depth=depth)\n",
    "    model.fit(features, target_rougher)\n",
    "    scores_rougher_tree = cross_val_score(model, features, target_rougher, scoring = smape_score,  cv=3, n_jobs=-1) \n",
    "    result = -scores_rougher_tree.mean()\n",
    "    if result < best_result:\n",
    "        best_model = model\n",
    "        best_result =  result \n",
    "        best_depth = depth\n",
    "scores_rougher_tree =  best_result                \n",
    "print('Средняя оценка качества модели на стадии флотации:', scores_rougher_tree, \"max_depth =\", best_depth )"
   ]
  },
  {
   "cell_type": "code",
   "execution_count": 43,
   "metadata": {},
   "outputs": [
    {
     "name": "stdout",
     "output_type": "stream",
     "text": [
      "Средняя оценка качества модели на финальной стадии: 10.726885703263136 max_depth = 2\n"
     ]
    }
   ],
   "source": [
    "best_model = None\n",
    "best_result = 100\n",
    "best_depth = 0\n",
    "for depth in range(2, 11):\n",
    "    model_tree = DecisionTreeRegressor(random_state=12345, max_depth=depth)\n",
    "    model_tree.fit(features, target_final)\n",
    "    scores_final_tree = cross_val_score(model_tree, features, target_final, scoring = smape_score,  cv=3, n_jobs=-1) \n",
    "    result = -scores_final_tree.mean()\n",
    "    if result < best_result:\n",
    "        best_model = model\n",
    "        best_result =  result \n",
    "        best_depth = depthcross_val_score\n",
    "scores_final_tree =  best_result    \n",
    "print('Средняя оценка качества модели на финальной стадии:', scores_final_tree, \"max_depth =\", best_depth )    "
   ]
  },
  {
   "cell_type": "code",
   "execution_count": 44,
   "metadata": {},
   "outputs": [
    {
     "name": "stdout",
     "output_type": "stream",
     "text": [
      "Итоговая оценка качества на моделе Дерево решений: 10.07782292561812\n"
     ]
    }
   ],
   "source": [
    "result_smape_tree = 0.25*scores_rougher_tree + 0.75*scores_final_tree\n",
    "print('Итоговая оценка качества на моделе Дерево решений:', result_smape_tree)"
   ]
  },
  {
   "cell_type": "markdown",
   "metadata": {},
   "source": [
    "##### Случайный лес"
   ]
  },
  {
   "cell_type": "code",
   "execution_count": 45,
   "metadata": {},
   "outputs": [
    {
     "name": "stdout",
     "output_type": "stream",
     "text": [
      "Средняя оценка качества модели на стадии флотации: 7.880862897979564 n_estimators: 61 depth 3\n"
     ]
    }
   ],
   "source": [
    "best_model = None\n",
    "best_result = 100\n",
    "best_est = 0\n",
    "best_depth = 0\n",
    "for depth in range(2, 11):\n",
    "    for est in range(1, 80, 20):\n",
    "        model_for = RandomForestRegressor(random_state=12345, n_estimators=est, max_depth=depth) \n",
    "        model_for.fit(features, target_rougher) \n",
    "        scores_rougher_for = cross_val_score(model_for, features, target_rougher, scoring = smape_score,  cv=3, n_jobs=-1) \n",
    "        result =  -scores_rougher_for.mean()\n",
    "        if result < best_result:\n",
    "            best_model = model\n",
    "            best_result =  result \n",
    "            best_est = est\n",
    "            best_depth = depth\n",
    "scores_rougher_for = best_result\n",
    "print('Средняя оценка качества модели на стадии флотации:',  scores_rougher_for, 'n_estimators:',  best_est, 'depth', best_depth) "
   ]
  },
  {
   "cell_type": "code",
   "execution_count": 46,
   "metadata": {},
   "outputs": [
    {
     "name": "stdout",
     "output_type": "stream",
     "text": [
      "Средняя оценка качества модели на финальной стадии: 9.940918227993429 n_estimators: 1 depth 2\n"
     ]
    }
   ],
   "source": [
    "best_model = None\n",
    "best_result = 100\n",
    "best_est = 0\n",
    "best_depth = 0\n",
    "for depth in range(2, 11):\n",
    "    for est in range(1, 80, 20):\n",
    "        model_for = RandomForestRegressor(random_state=12345, n_estimators=est, max_depth=depth) \n",
    "        model_for.fit(features, target_final) \n",
    "        scores_final_for = cross_val_score(model_for, features, target_final, scoring = smape_score,  cv=3, n_jobs=-1) \n",
    "        result =  -scores_final_for.mean()\n",
    "        if result < best_result:\n",
    "            best_model = model\n",
    "            best_result =  result \n",
    "            best_est = est\n",
    "            best_depth = depth\n",
    "scores_final_for = best_result\n",
    "print('Средняя оценка качества модели на финальной стадии:',  scores_final_for, 'n_estimators:',  best_est, 'depth', best_depth) "
   ]
  },
  {
   "cell_type": "code",
   "execution_count": 47,
   "metadata": {},
   "outputs": [
    {
     "name": "stdout",
     "output_type": "stream",
     "text": [
      "Итоговая оценка качества на моделе Случайный лес: 9.425904395489962\n"
     ]
    }
   ],
   "source": [
    "result_smape_for = 0.25*scores_rougher_for + 0.75*scores_final_for\n",
    "print('Итоговая оценка качества на моделе Случайный лес:', result_smape_for)"
   ]
  },
  {
   "cell_type": "markdown",
   "metadata": {},
   "source": [
    "**Выбор модели**\n",
    "\n",
    "Применили кросс-валидацию на трех моделях: линейная регрессия, дерево решений и случайный лес с подбором гиперпараметров отдельно для этапа флотации и финальной стадии. \n",
    "\n",
    "Лучшие результате итогового SMAPE показал случайный лес = 9.43\n",
    "\n",
    "- Для флотации гиперпараметры:  n_estimators: 61 depth 3\n",
    "- Для финальной стадии: n_estimators: 1 depth 2\n",
    "\n",
    "Дерево решений итоговое SMAPE = 10.1\n",
    "\n",
    "Линейная регрессия итоговое SMAPE = 12.53\n",
    "\n",
    "**На тестовой выборке будем использовать Случайный лес**"
   ]
  },
  {
   "cell_type": "markdown",
   "metadata": {},
   "source": [
    "##### Тестирование модели"
   ]
  },
  {
   "cell_type": "code",
   "execution_count": 48,
   "metadata": {},
   "outputs": [
    {
     "name": "stdout",
     "output_type": "stream",
     "text": [
      "SMAPE на стадии флотации 7.5429544014297125\n"
     ]
    }
   ],
   "source": [
    "model_for_rougher_test = RandomForestRegressor(random_state=12345, n_estimators=61, max_depth=3) \n",
    "model_for_rougher_test.fit(features_test, target_rougher_test) \n",
    "predicted_rougher_test = model_for_rougher_test.predict(features_test)\n",
    "rougher_smape_for_test =  smape(predicted_rougher_test, target_rougher_test)\n",
    "print('SMAPE на стадии флотации', rougher_smape_for_test)"
   ]
  },
  {
   "cell_type": "code",
   "execution_count": 49,
   "metadata": {},
   "outputs": [
    {
     "name": "stdout",
     "output_type": "stream",
     "text": [
      "SMAPE на финальной стадии 8.657039900111156\n"
     ]
    }
   ],
   "source": [
    "model_for_final_test = RandomForestRegressor(random_state=12345, n_estimators=1, max_depth=2) \n",
    "model_for_final_test .fit(features_test, target_final_test) \n",
    "predicted_final_test = model_for_final_test .predict(features_test)\n",
    "final_smape_for_test  = smape(predicted_final_test, target_final_test)\n",
    "print('SMAPE на финальной стадии', final_smape_for_test )"
   ]
  },
  {
   "cell_type": "code",
   "execution_count": 50,
   "metadata": {},
   "outputs": [
    {
     "name": "stdout",
     "output_type": "stream",
     "text": [
      "Итоговая оценка качества на Случайном лесе для тестовой выборки: 8.378518525440795\n"
     ]
    }
   ],
   "source": [
    "result_smape_for_test = 0.25*rougher_smape_for_test + 0.75*final_smape_for_test\n",
    "print('Итоговая оценка качества на Случайном лесе для тестовой выборки:', result_smape_for_test)"
   ]
  },
  {
   "cell_type": "markdown",
   "metadata": {},
   "source": [
    "Проверили модель на тестовой выборке, получили итоговое SMAPE = 8.38"
   ]
  },
  {
   "cell_type": "code",
   "execution_count": 51,
   "metadata": {},
   "outputs": [
    {
     "data": {
      "text/plain": [
       "8.782646809148407"
      ]
     },
     "execution_count": 51,
     "metadata": {},
     "output_type": "execute_result"
    }
   ],
   "source": [
    "model_dummy = DummyRegressor(strategy='mean')\n",
    "model_dummy.fit(features_test, target_rougher_test)\n",
    "predicted_dummy_rougher = model_dummy.predict(features_test)\n",
    "dummy_smape_rougher = smape(predicted_dummy_rougher, target_rougher_test)\n",
    "dummy_smape_rougher"
   ]
  },
  {
   "cell_type": "code",
   "execution_count": 52,
   "metadata": {},
   "outputs": [
    {
     "data": {
      "text/plain": [
       "9.370995594347834"
      ]
     },
     "execution_count": 52,
     "metadata": {},
     "output_type": "execute_result"
    }
   ],
   "source": [
    "model_dummy.fit(features_test, target_final_test)\n",
    "predicted_dummy_final = model_dummy.predict(features_test)\n",
    "dummy_smape_final = smape(predicted_dummy_final, target_final_test)\n",
    "dummy_smape_final"
   ]
  },
  {
   "cell_type": "code",
   "execution_count": 53,
   "metadata": {},
   "outputs": [
    {
     "name": "stdout",
     "output_type": "stream",
     "text": [
      "Итоговая оценка качества на константной моделе для тестовой выборки: 9.223908398047978\n"
     ]
    }
   ],
   "source": [
    "dummy_smape_test = 0.25*dummy_smape_rougher + 0.75*dummy_smape_final\n",
    "print('Итоговая оценка качества на константной моделе для тестовой выборки:', dummy_smape_test )"
   ]
  },
  {
   "cell_type": "markdown",
   "metadata": {},
   "source": [
    "Применили константную модель на тестовой выборке, получили итоговое SMAPE = 9.22"
   ]
  },
  {
   "cell_type": "markdown",
   "metadata": {},
   "source": [
    "##### Вывод"
   ]
  },
  {
   "cell_type": "markdown",
   "metadata": {},
   "source": [
    "В третьей части проекта создали функцию для расчета симметричного среднего абсолютного процентного отклонения (sMAPE). Обучили модели (линейная регрессия, дерево решений, случайный лес). По результатам итогового SMAPE для дальнейшей работы выбрали Случайный лес (SMAPE = 9.43)\n",
    "\n",
    "Выбранную модель проверили на тестовой выборке, а также сравнили с Константой моделью. В результате  SMAPE на тесте = 8.38, что больше, чем у Константной модели (SMAPE = 9.22)\n",
    "\n",
    "Модель прошла проверку на адекватность."
   ]
  },
  {
   "cell_type": "markdown",
   "metadata": {},
   "source": [
    "## Общий вывод"
   ]
  },
  {
   "cell_type": "markdown",
   "metadata": {},
   "source": [
    "На входе получили три датасета: обучающий, тестовый и полный (объединяющий информацию и обучающего и тестового)\n",
    "\n",
    "Целевыми признаками определили эффективность обогащения после флотации (rougher.output.recovery) и финального продукт (final.output.recovery). \n",
    "\n",
    "Удалили сильно коррелирующие признаки, а также заполнили пропуски в столбцах предыдущими значениями.\n",
    "\n",
    "Изучили изменение концентрации веществ в процессе обработки. \n",
    "\n",
    "- Убедились, что концетрация золота растет от этапа к этапу \n",
    "- Концентрация свинца увеличевается, но изменения незначительные по сравнению с золотом\n",
    "- Серебро и сульфаты уменьшаются\n",
    "\n",
    "Удалили выбросы в концентрации веществ (значения меньшие или равные нулю)\n",
    "\n",
    "\n",
    "Построили фунцию для расчета симметричного среднего абсолютного процентного отклонения (sMAPE).\n",
    "\n",
    "На обучающем датасете проверили модели:\n",
    "\n",
    "- линейная регрессия\n",
    "- дерево решений\n",
    "- случайный лес\n",
    "\n",
    "Лучший результат SMAPE = 9.43 показал Случайный лес и был выбран для дальнейшей проверке на тестовом датасете:\n",
    "- Для флотации гиперпараметры: n_estimators: 61 depth 3\n",
    "- Для финальной стадии: n_estimators: 1 depth 2\n",
    "\n",
    "На тесте проверили модель, получив SMAPE = 8.38.\n",
    "Также сравнили полученный результат с SMAPE константной модели (9.22). Результат обученной модели лучше"
   ]
  }
 ],
 "metadata": {
  "ExecuteTimeLog": [
   {
    "duration": 1797,
    "start_time": "2023-01-31T09:05:05.674Z"
   },
   {
    "duration": 6,
    "start_time": "2023-01-31T09:05:30.552Z"
   },
   {
    "duration": 922,
    "start_time": "2023-01-31T09:05:57.647Z"
   },
   {
    "duration": 441,
    "start_time": "2023-01-31T09:06:40.432Z"
   },
   {
    "duration": 1882,
    "start_time": "2023-01-31T09:06:40.875Z"
   },
   {
    "duration": 26,
    "start_time": "2023-01-31T09:06:50.958Z"
   },
   {
    "duration": 265,
    "start_time": "2023-01-31T09:07:10.303Z"
   },
   {
    "duration": 18,
    "start_time": "2023-01-31T09:07:29.298Z"
   },
   {
    "duration": 24,
    "start_time": "2023-01-31T09:07:49.533Z"
   },
   {
    "duration": 22,
    "start_time": "2023-01-31T09:09:11.758Z"
   },
   {
    "duration": 17,
    "start_time": "2023-01-31T09:09:18.394Z"
   },
   {
    "duration": 22,
    "start_time": "2023-01-31T09:09:32.934Z"
   },
   {
    "duration": 20,
    "start_time": "2023-01-31T09:09:49.778Z"
   },
   {
    "duration": 18,
    "start_time": "2023-01-31T09:57:50.572Z"
   },
   {
    "duration": 14201,
    "start_time": "2023-01-31T09:58:05.652Z"
   },
   {
    "duration": 684,
    "start_time": "2023-01-31T09:58:19.856Z"
   },
   {
    "duration": 1454,
    "start_time": "2023-01-31T10:05:50.463Z"
   },
   {
    "duration": 111,
    "start_time": "2023-01-31T10:17:49.197Z"
   },
   {
    "duration": 10,
    "start_time": "2023-01-31T10:17:55.529Z"
   },
   {
    "duration": 10,
    "start_time": "2023-01-31T10:18:04.773Z"
   },
   {
    "duration": 4,
    "start_time": "2023-01-31T10:18:08.886Z"
   },
   {
    "duration": 842,
    "start_time": "2023-01-31T10:18:09.034Z"
   },
   {
    "duration": 29,
    "start_time": "2023-01-31T10:18:09.878Z"
   },
   {
    "duration": 20,
    "start_time": "2023-01-31T10:18:09.909Z"
   },
   {
    "duration": 228,
    "start_time": "2023-01-31T10:18:09.931Z"
   },
   {
    "duration": 445,
    "start_time": "2023-01-31T10:34:21.628Z"
   },
   {
    "duration": 22,
    "start_time": "2023-01-31T10:34:28.100Z"
   },
   {
    "duration": 1657,
    "start_time": "2023-02-01T12:28:58.854Z"
   },
   {
    "duration": 860,
    "start_time": "2023-02-01T12:29:00.513Z"
   },
   {
    "duration": 28,
    "start_time": "2023-02-01T12:29:01.376Z"
   },
   {
    "duration": 18,
    "start_time": "2023-02-01T12:29:01.406Z"
   },
   {
    "duration": 243,
    "start_time": "2023-02-01T12:29:01.426Z"
   },
   {
    "duration": 545,
    "start_time": "2023-02-01T12:29:01.671Z"
   },
   {
    "duration": 25,
    "start_time": "2023-02-01T12:29:08.227Z"
   },
   {
    "duration": 2044,
    "start_time": "2023-02-01T12:29:59.321Z"
   },
   {
    "duration": 20,
    "start_time": "2023-02-01T12:30:05.716Z"
   },
   {
    "duration": 23,
    "start_time": "2023-02-01T12:30:29.854Z"
   },
   {
    "duration": 38,
    "start_time": "2023-02-01T12:31:14.027Z"
   },
   {
    "duration": 23,
    "start_time": "2023-02-01T12:31:57.736Z"
   },
   {
    "duration": 167,
    "start_time": "2023-02-01T12:42:31.301Z"
   },
   {
    "duration": 22,
    "start_time": "2023-02-01T12:42:46.209Z"
   },
   {
    "duration": 13,
    "start_time": "2023-02-01T12:43:27.296Z"
   },
   {
    "duration": 17,
    "start_time": "2023-02-01T12:43:44.138Z"
   },
   {
    "duration": 1731,
    "start_time": "2023-02-01T14:06:17.189Z"
   },
   {
    "duration": 880,
    "start_time": "2023-02-01T14:06:18.923Z"
   },
   {
    "duration": 28,
    "start_time": "2023-02-01T14:06:19.805Z"
   },
   {
    "duration": 21,
    "start_time": "2023-02-01T14:06:19.836Z"
   },
   {
    "duration": 243,
    "start_time": "2023-02-01T14:06:19.860Z"
   },
   {
    "duration": 1080,
    "start_time": "2023-02-01T14:06:20.104Z"
   },
   {
    "duration": 15,
    "start_time": "2023-02-01T14:06:21.186Z"
   },
   {
    "duration": 24,
    "start_time": "2023-02-01T14:06:21.203Z"
   },
   {
    "duration": 2530,
    "start_time": "2023-02-01T14:06:21.229Z"
   },
   {
    "duration": 20,
    "start_time": "2023-02-01T14:06:23.762Z"
   },
   {
    "duration": 24,
    "start_time": "2023-02-01T14:06:23.784Z"
   },
   {
    "duration": 50,
    "start_time": "2023-02-01T14:06:23.809Z"
   },
   {
    "duration": 118,
    "start_time": "2023-02-01T14:10:14.869Z"
   },
   {
    "duration": 13,
    "start_time": "2023-02-01T14:10:27.097Z"
   },
   {
    "duration": 9,
    "start_time": "2023-02-01T14:12:04.293Z"
   },
   {
    "duration": 3,
    "start_time": "2023-02-01T14:12:25.607Z"
   },
   {
    "duration": 3,
    "start_time": "2023-02-01T14:12:27.972Z"
   },
   {
    "duration": 4,
    "start_time": "2023-02-01T14:12:37.333Z"
   },
   {
    "duration": 19,
    "start_time": "2023-02-01T14:12:41.485Z"
   },
   {
    "duration": 3,
    "start_time": "2023-02-01T14:12:45.257Z"
   },
   {
    "duration": 17,
    "start_time": "2023-02-01T14:12:52.261Z"
   },
   {
    "duration": 16,
    "start_time": "2023-02-01T14:13:01.796Z"
   },
   {
    "duration": 2,
    "start_time": "2023-02-01T14:13:07.679Z"
   },
   {
    "duration": 61,
    "start_time": "2023-02-01T14:19:14.222Z"
   },
   {
    "duration": 15,
    "start_time": "2023-02-01T14:19:16.921Z"
   },
   {
    "duration": 5,
    "start_time": "2023-02-01T14:19:24.086Z"
   },
   {
    "duration": 77,
    "start_time": "2023-02-01T14:19:41.565Z"
   },
   {
    "duration": 26,
    "start_time": "2023-02-01T14:19:44.969Z"
   },
   {
    "duration": 22,
    "start_time": "2023-02-01T14:19:51.767Z"
   },
   {
    "duration": 6,
    "start_time": "2023-02-01T14:19:55.469Z"
   },
   {
    "duration": 23,
    "start_time": "2023-02-01T14:25:36.376Z"
   },
   {
    "duration": 24,
    "start_time": "2023-02-01T14:25:41.259Z"
   },
   {
    "duration": 3,
    "start_time": "2023-02-01T14:25:48.759Z"
   },
   {
    "duration": 24,
    "start_time": "2023-02-01T14:33:36.463Z"
   },
   {
    "duration": 24,
    "start_time": "2023-02-01T14:35:02.710Z"
   },
   {
    "duration": 23,
    "start_time": "2023-02-01T14:35:06.025Z"
   },
   {
    "duration": 3,
    "start_time": "2023-02-01T14:35:08.511Z"
   },
   {
    "duration": 23,
    "start_time": "2023-02-01T14:35:24.445Z"
   },
   {
    "duration": 23,
    "start_time": "2023-02-01T14:35:26.945Z"
   },
   {
    "duration": 25,
    "start_time": "2023-02-01T14:35:32.459Z"
   },
   {
    "duration": 4,
    "start_time": "2023-02-01T14:37:35.063Z"
   },
   {
    "duration": 7,
    "start_time": "2023-02-01T14:37:35.198Z"
   },
   {
    "duration": 8,
    "start_time": "2023-02-01T14:37:40.979Z"
   },
   {
    "duration": 4,
    "start_time": "2023-02-01T14:43:59.280Z"
   },
   {
    "duration": 8,
    "start_time": "2023-02-01T14:43:59.593Z"
   },
   {
    "duration": 8,
    "start_time": "2023-02-01T14:43:59.777Z"
   },
   {
    "duration": 20,
    "start_time": "2023-02-01T14:44:31.787Z"
   },
   {
    "duration": 17,
    "start_time": "2023-02-01T14:44:44.537Z"
   },
   {
    "duration": 10,
    "start_time": "2023-02-01T14:47:29.848Z"
   },
   {
    "duration": 11,
    "start_time": "2023-02-01T14:47:40.441Z"
   },
   {
    "duration": 2,
    "start_time": "2023-02-01T14:47:42.531Z"
   },
   {
    "duration": 9,
    "start_time": "2023-02-01T14:47:50.622Z"
   },
   {
    "duration": 4,
    "start_time": "2023-02-01T14:49:01.649Z"
   },
   {
    "duration": 13,
    "start_time": "2023-02-01T14:49:21.104Z"
   },
   {
    "duration": 10,
    "start_time": "2023-02-01T14:50:24.273Z"
   },
   {
    "duration": 10,
    "start_time": "2023-02-01T14:50:36.819Z"
   },
   {
    "duration": 5,
    "start_time": "2023-02-01T14:50:43.729Z"
   },
   {
    "duration": 3,
    "start_time": "2023-02-01T14:50:47.834Z"
   },
   {
    "duration": 5,
    "start_time": "2023-02-01T14:50:50.841Z"
   },
   {
    "duration": 2,
    "start_time": "2023-02-01T14:51:11.502Z"
   },
   {
    "duration": 4,
    "start_time": "2023-02-01T14:53:19.013Z"
   },
   {
    "duration": 5,
    "start_time": "2023-02-01T14:53:24.696Z"
   },
   {
    "duration": 5,
    "start_time": "2023-02-01T14:54:24.984Z"
   },
   {
    "duration": 7,
    "start_time": "2023-02-01T14:54:31.699Z"
   },
   {
    "duration": 6,
    "start_time": "2023-02-01T14:55:00.246Z"
   },
   {
    "duration": 4,
    "start_time": "2023-02-01T14:57:04.372Z"
   },
   {
    "duration": 3,
    "start_time": "2023-02-01T14:58:09.791Z"
   },
   {
    "duration": 9,
    "start_time": "2023-02-01T14:58:18.955Z"
   },
   {
    "duration": 15,
    "start_time": "2023-02-01T14:59:02.411Z"
   },
   {
    "duration": 6,
    "start_time": "2023-02-01T14:59:18.646Z"
   },
   {
    "duration": 3,
    "start_time": "2023-02-01T14:59:18.881Z"
   },
   {
    "duration": 14,
    "start_time": "2023-02-01T14:59:23.202Z"
   },
   {
    "duration": 6,
    "start_time": "2023-02-01T14:59:50.940Z"
   },
   {
    "duration": 6,
    "start_time": "2023-02-01T14:59:58.330Z"
   },
   {
    "duration": 7,
    "start_time": "2023-02-01T15:00:37.789Z"
   },
   {
    "duration": 15,
    "start_time": "2023-02-01T15:00:59.789Z"
   },
   {
    "duration": 6,
    "start_time": "2023-02-01T15:01:07.588Z"
   },
   {
    "duration": 4,
    "start_time": "2023-02-01T15:02:09.492Z"
   },
   {
    "duration": 3,
    "start_time": "2023-02-01T15:02:13.927Z"
   },
   {
    "duration": 7,
    "start_time": "2023-02-01T15:02:16.925Z"
   },
   {
    "duration": 3,
    "start_time": "2023-02-01T15:02:22.960Z"
   },
   {
    "duration": 7,
    "start_time": "2023-02-01T15:02:23.109Z"
   },
   {
    "duration": 7,
    "start_time": "2023-02-01T15:02:54.976Z"
   },
   {
    "duration": 15,
    "start_time": "2023-02-01T15:03:15.423Z"
   },
   {
    "duration": 10,
    "start_time": "2023-02-01T15:03:18.388Z"
   },
   {
    "duration": 7,
    "start_time": "2023-02-01T15:03:24.095Z"
   },
   {
    "duration": 9,
    "start_time": "2023-02-01T15:03:24.240Z"
   },
   {
    "duration": 3,
    "start_time": "2023-02-01T15:03:37.945Z"
   },
   {
    "duration": 3,
    "start_time": "2023-02-01T15:03:38.868Z"
   },
   {
    "duration": 12,
    "start_time": "2023-02-01T15:03:39.024Z"
   },
   {
    "duration": 9,
    "start_time": "2023-02-01T15:03:42.030Z"
   },
   {
    "duration": 13,
    "start_time": "2023-02-01T15:03:47.793Z"
   },
   {
    "duration": 7,
    "start_time": "2023-02-01T15:03:51.863Z"
   },
   {
    "duration": 7,
    "start_time": "2023-02-01T15:03:55.958Z"
   },
   {
    "duration": 12,
    "start_time": "2023-02-01T15:04:58.690Z"
   },
   {
    "duration": 12,
    "start_time": "2023-02-01T15:05:04.808Z"
   },
   {
    "duration": 17,
    "start_time": "2023-02-01T15:06:39.839Z"
   },
   {
    "duration": 7,
    "start_time": "2023-02-01T15:06:45.292Z"
   },
   {
    "duration": 9,
    "start_time": "2023-02-01T15:07:23.101Z"
   },
   {
    "duration": 8,
    "start_time": "2023-02-01T15:07:29.062Z"
   },
   {
    "duration": 7,
    "start_time": "2023-02-01T15:07:31.688Z"
   },
   {
    "duration": 5,
    "start_time": "2023-02-01T15:07:35.203Z"
   },
   {
    "duration": 8,
    "start_time": "2023-02-01T15:07:35.488Z"
   },
   {
    "duration": 8,
    "start_time": "2023-02-01T15:07:35.744Z"
   },
   {
    "duration": 10,
    "start_time": "2023-02-01T15:07:41.741Z"
   },
   {
    "duration": 4,
    "start_time": "2023-02-01T15:07:47.321Z"
   },
   {
    "duration": 3,
    "start_time": "2023-02-01T15:07:47.593Z"
   },
   {
    "duration": 7,
    "start_time": "2023-02-01T15:07:47.844Z"
   },
   {
    "duration": 6,
    "start_time": "2023-02-01T15:07:48.097Z"
   },
   {
    "duration": 191,
    "start_time": "2023-02-01T15:53:24.497Z"
   },
   {
    "duration": 3,
    "start_time": "2023-02-01T15:53:37.663Z"
   },
   {
    "duration": 7,
    "start_time": "2023-02-01T15:53:44.029Z"
   },
   {
    "duration": 7,
    "start_time": "2023-02-01T15:53:53.689Z"
   },
   {
    "duration": 7,
    "start_time": "2023-02-01T15:54:09.065Z"
   },
   {
    "duration": 12,
    "start_time": "2023-02-01T15:55:04.051Z"
   },
   {
    "duration": 4,
    "start_time": "2023-02-01T16:00:43.104Z"
   },
   {
    "duration": 311,
    "start_time": "2023-02-01T16:00:43.301Z"
   },
   {
    "duration": 27,
    "start_time": "2023-02-01T16:00:43.615Z"
   },
   {
    "duration": 26,
    "start_time": "2023-02-01T16:00:43.644Z"
   },
   {
    "duration": 190,
    "start_time": "2023-02-01T16:00:43.761Z"
   },
   {
    "duration": 107,
    "start_time": "2023-02-01T16:00:44.652Z"
   },
   {
    "duration": 18,
    "start_time": "2023-02-01T16:00:44.897Z"
   },
   {
    "duration": 23,
    "start_time": "2023-02-01T16:00:45.522Z"
   },
   {
    "duration": 389,
    "start_time": "2023-02-01T16:00:48.608Z"
   },
   {
    "duration": 3,
    "start_time": "2023-02-01T16:00:49.000Z"
   },
   {
    "duration": 3,
    "start_time": "2023-02-01T16:00:49.707Z"
   },
   {
    "duration": 9,
    "start_time": "2023-02-01T16:00:52.393Z"
   },
   {
    "duration": 3,
    "start_time": "2023-02-01T16:01:03.158Z"
   },
   {
    "duration": 5,
    "start_time": "2023-02-01T16:01:06.396Z"
   },
   {
    "duration": 57,
    "start_time": "2023-02-01T16:02:05.634Z"
   },
   {
    "duration": 4,
    "start_time": "2023-02-01T16:02:08.408Z"
   },
   {
    "duration": 8,
    "start_time": "2023-02-01T16:02:11.449Z"
   },
   {
    "duration": 6,
    "start_time": "2023-02-01T16:02:59.159Z"
   },
   {
    "duration": 1677,
    "start_time": "2023-02-02T14:07:16.510Z"
   },
   {
    "duration": 1024,
    "start_time": "2023-02-02T14:07:18.189Z"
   },
   {
    "duration": 25,
    "start_time": "2023-02-02T14:07:19.215Z"
   },
   {
    "duration": 18,
    "start_time": "2023-02-02T14:07:19.242Z"
   },
   {
    "duration": 213,
    "start_time": "2023-02-02T14:07:19.262Z"
   },
   {
    "duration": 842,
    "start_time": "2023-02-02T14:07:19.476Z"
   },
   {
    "duration": 13,
    "start_time": "2023-02-02T14:07:20.320Z"
   },
   {
    "duration": 25,
    "start_time": "2023-02-02T14:07:20.335Z"
   },
   {
    "duration": 1911,
    "start_time": "2023-02-02T14:07:20.362Z"
   },
   {
    "duration": 3,
    "start_time": "2023-02-02T14:07:22.275Z"
   },
   {
    "duration": 16,
    "start_time": "2023-02-02T14:07:22.279Z"
   },
   {
    "duration": 17,
    "start_time": "2023-02-02T14:07:22.297Z"
   },
   {
    "duration": 11,
    "start_time": "2023-02-02T14:07:22.315Z"
   },
   {
    "duration": 15,
    "start_time": "2023-02-02T14:07:22.327Z"
   },
   {
    "duration": 14,
    "start_time": "2023-02-02T14:07:22.344Z"
   },
   {
    "duration": 27,
    "start_time": "2023-02-02T14:07:22.360Z"
   },
   {
    "duration": 16,
    "start_time": "2023-02-02T14:21:25.819Z"
   },
   {
    "duration": 170,
    "start_time": "2023-02-02T14:29:18.627Z"
   },
   {
    "duration": 4,
    "start_time": "2023-02-02T14:32:35.002Z"
   },
   {
    "duration": 43,
    "start_time": "2023-02-02T14:36:04.658Z"
   },
   {
    "duration": 57,
    "start_time": "2023-02-02T14:36:14.637Z"
   },
   {
    "duration": 55,
    "start_time": "2023-02-02T14:36:19.962Z"
   },
   {
    "duration": 889,
    "start_time": "2023-02-02T14:36:25.047Z"
   },
   {
    "duration": 1113,
    "start_time": "2023-02-02T14:37:46.195Z"
   },
   {
    "duration": 60,
    "start_time": "2023-02-02T14:41:40.502Z"
   },
   {
    "duration": 17,
    "start_time": "2023-02-02T14:41:48.076Z"
   },
   {
    "duration": 52,
    "start_time": "2023-02-02T14:43:23.726Z"
   },
   {
    "duration": 841,
    "start_time": "2023-02-02T14:43:27.531Z"
   },
   {
    "duration": 794,
    "start_time": "2023-02-02T14:43:35.729Z"
   },
   {
    "duration": 5,
    "start_time": "2023-02-02T14:44:19.907Z"
   },
   {
    "duration": 855,
    "start_time": "2023-02-02T14:54:23.304Z"
   },
   {
    "duration": 4,
    "start_time": "2023-02-02T14:54:50.543Z"
   },
   {
    "duration": 50,
    "start_time": "2023-02-02T15:41:27.207Z"
   },
   {
    "duration": 1511,
    "start_time": "2023-02-02T15:41:31.868Z"
   },
   {
    "duration": 1516,
    "start_time": "2023-02-02T15:41:33.382Z"
   },
   {
    "duration": 21,
    "start_time": "2023-02-02T15:41:34.900Z"
   },
   {
    "duration": 16,
    "start_time": "2023-02-02T15:41:34.922Z"
   },
   {
    "duration": 208,
    "start_time": "2023-02-02T15:41:34.939Z"
   },
   {
    "duration": 173,
    "start_time": "2023-02-02T15:41:35.153Z"
   },
   {
    "duration": 3,
    "start_time": "2023-02-02T15:41:35.327Z"
   },
   {
    "duration": 20,
    "start_time": "2023-02-02T15:41:35.332Z"
   },
   {
    "duration": 73,
    "start_time": "2023-02-02T15:41:35.929Z"
   },
   {
    "duration": 9,
    "start_time": "2023-02-02T15:41:36.090Z"
   },
   {
    "duration": 155,
    "start_time": "2023-02-02T15:41:37.743Z"
   },
   {
    "duration": 12,
    "start_time": "2023-02-02T15:41:37.900Z"
   },
   {
    "duration": 18,
    "start_time": "2023-02-02T15:41:38.039Z"
   },
   {
    "duration": 543,
    "start_time": "2023-02-02T15:41:38.673Z"
   },
   {
    "duration": 2,
    "start_time": "2023-02-02T15:41:39.218Z"
   },
   {
    "duration": 23,
    "start_time": "2023-02-02T15:41:39.222Z"
   },
   {
    "duration": 6,
    "start_time": "2023-02-02T15:41:39.362Z"
   },
   {
    "duration": 1155,
    "start_time": "2023-02-02T15:41:55.052Z"
   },
   {
    "duration": 1184,
    "start_time": "2023-02-02T15:44:11.177Z"
   },
   {
    "duration": 1163,
    "start_time": "2023-02-02T15:47:10.924Z"
   },
   {
    "duration": 9,
    "start_time": "2023-02-02T15:47:23.454Z"
   },
   {
    "duration": 1116,
    "start_time": "2023-02-02T15:47:28.603Z"
   },
   {
    "duration": 1520,
    "start_time": "2023-02-03T11:23:29.875Z"
   },
   {
    "duration": 857,
    "start_time": "2023-02-03T11:23:31.397Z"
   },
   {
    "duration": 23,
    "start_time": "2023-02-03T11:23:32.256Z"
   },
   {
    "duration": 20,
    "start_time": "2023-02-03T11:23:32.281Z"
   },
   {
    "duration": 189,
    "start_time": "2023-02-03T11:23:32.303Z"
   },
   {
    "duration": 164,
    "start_time": "2023-02-03T11:23:32.494Z"
   },
   {
    "duration": 2,
    "start_time": "2023-02-03T11:23:32.660Z"
   },
   {
    "duration": 12,
    "start_time": "2023-02-03T11:23:32.663Z"
   },
   {
    "duration": 1037,
    "start_time": "2023-02-03T11:23:32.676Z"
   },
   {
    "duration": 0,
    "start_time": "2023-02-03T11:23:33.715Z"
   },
   {
    "duration": 0,
    "start_time": "2023-02-03T11:23:33.716Z"
   },
   {
    "duration": 0,
    "start_time": "2023-02-03T11:23:33.717Z"
   },
   {
    "duration": 0,
    "start_time": "2023-02-03T11:23:33.718Z"
   },
   {
    "duration": 0,
    "start_time": "2023-02-03T11:23:33.719Z"
   },
   {
    "duration": 0,
    "start_time": "2023-02-03T11:23:33.721Z"
   },
   {
    "duration": 0,
    "start_time": "2023-02-03T11:23:33.722Z"
   },
   {
    "duration": 0,
    "start_time": "2023-02-03T11:23:33.723Z"
   },
   {
    "duration": 3,
    "start_time": "2023-02-03T12:00:33.067Z"
   },
   {
    "duration": 936,
    "start_time": "2023-02-03T12:04:25.565Z"
   },
   {
    "duration": 7,
    "start_time": "2023-02-03T12:04:35.351Z"
   },
   {
    "duration": 12136,
    "start_time": "2023-02-03T12:04:47.401Z"
   },
   {
    "duration": 822,
    "start_time": "2023-02-03T12:05:14.934Z"
   },
   {
    "duration": 3,
    "start_time": "2023-02-03T12:05:55.029Z"
   },
   {
    "duration": 7,
    "start_time": "2023-02-03T12:05:57.862Z"
   },
   {
    "duration": 9,
    "start_time": "2023-02-03T12:06:25.028Z"
   },
   {
    "duration": 3,
    "start_time": "2023-02-03T12:06:28.150Z"
   },
   {
    "duration": 8,
    "start_time": "2023-02-03T12:06:28.622Z"
   },
   {
    "duration": 8,
    "start_time": "2023-02-03T12:07:18.839Z"
   },
   {
    "duration": 8,
    "start_time": "2023-02-03T12:07:23.714Z"
   },
   {
    "duration": 6,
    "start_time": "2023-02-03T12:07:25.835Z"
   },
   {
    "duration": 6,
    "start_time": "2023-02-03T12:08:06.659Z"
   },
   {
    "duration": 6,
    "start_time": "2023-02-03T12:09:38.218Z"
   },
   {
    "duration": 433,
    "start_time": "2023-02-03T12:09:39.512Z"
   },
   {
    "duration": 13,
    "start_time": "2023-02-03T12:09:39.947Z"
   },
   {
    "duration": 20,
    "start_time": "2023-02-03T12:09:39.961Z"
   },
   {
    "duration": 1895,
    "start_time": "2023-02-03T12:09:40.836Z"
   },
   {
    "duration": 2,
    "start_time": "2023-02-03T12:09:42.733Z"
   },
   {
    "duration": 23,
    "start_time": "2023-02-03T12:09:42.737Z"
   },
   {
    "duration": 28,
    "start_time": "2023-02-03T12:09:42.761Z"
   },
   {
    "duration": 7,
    "start_time": "2023-02-03T12:10:06.753Z"
   },
   {
    "duration": 286,
    "start_time": "2023-02-03T12:21:29.639Z"
   },
   {
    "duration": 32,
    "start_time": "2023-02-03T12:21:30.579Z"
   },
   {
    "duration": 98,
    "start_time": "2023-02-03T12:21:42.506Z"
   },
   {
    "duration": 12,
    "start_time": "2023-02-03T12:21:43.462Z"
   },
   {
    "duration": 23,
    "start_time": "2023-02-03T12:21:46.655Z"
   },
   {
    "duration": 347,
    "start_time": "2023-02-03T12:21:52.107Z"
   },
   {
    "duration": 2,
    "start_time": "2023-02-03T12:21:52.609Z"
   },
   {
    "duration": 2,
    "start_time": "2023-02-03T12:21:53.638Z"
   },
   {
    "duration": 6,
    "start_time": "2023-02-03T12:21:54.512Z"
   },
   {
    "duration": 401,
    "start_time": "2023-02-03T12:22:15.969Z"
   },
   {
    "duration": 1313,
    "start_time": "2023-02-03T13:29:42.192Z"
   },
   {
    "duration": 275,
    "start_time": "2023-02-03T13:29:43.507Z"
   },
   {
    "duration": 41,
    "start_time": "2023-02-03T13:29:43.784Z"
   },
   {
    "duration": 25,
    "start_time": "2023-02-03T13:29:43.827Z"
   },
   {
    "duration": 5,
    "start_time": "2023-02-03T13:29:43.854Z"
   },
   {
    "duration": 31,
    "start_time": "2023-02-03T13:29:43.861Z"
   },
   {
    "duration": 7,
    "start_time": "2023-02-03T13:29:43.894Z"
   },
   {
    "duration": 107,
    "start_time": "2023-02-03T13:29:43.903Z"
   },
   {
    "duration": 16,
    "start_time": "2023-02-03T13:29:44.012Z"
   },
   {
    "duration": 30,
    "start_time": "2023-02-03T13:29:44.031Z"
   },
   {
    "duration": 345,
    "start_time": "2023-02-03T13:29:44.063Z"
   },
   {
    "duration": 3,
    "start_time": "2023-02-03T13:29:44.409Z"
   },
   {
    "duration": 6,
    "start_time": "2023-02-03T13:29:44.413Z"
   },
   {
    "duration": 13,
    "start_time": "2023-02-03T13:29:44.421Z"
   },
   {
    "duration": 3,
    "start_time": "2023-02-03T13:34:28.171Z"
   },
   {
    "duration": 5,
    "start_time": "2023-02-03T13:34:32.026Z"
   },
   {
    "duration": 52,
    "start_time": "2023-02-03T13:36:11.285Z"
   },
   {
    "duration": 4,
    "start_time": "2023-02-03T13:36:34.772Z"
   },
   {
    "duration": 15,
    "start_time": "2023-02-03T13:36:40.824Z"
   },
   {
    "duration": 12,
    "start_time": "2023-02-03T13:36:51.532Z"
   },
   {
    "duration": 163,
    "start_time": "2023-02-03T13:38:56.476Z"
   },
   {
    "duration": 5,
    "start_time": "2023-02-03T13:39:02.541Z"
   },
   {
    "duration": 11,
    "start_time": "2023-02-03T13:39:13.901Z"
   },
   {
    "duration": 5,
    "start_time": "2023-02-03T13:39:46.821Z"
   },
   {
    "duration": 16,
    "start_time": "2023-02-03T13:39:48.673Z"
   },
   {
    "duration": 11,
    "start_time": "2023-02-03T13:39:48.806Z"
   },
   {
    "duration": 1432,
    "start_time": "2023-02-03T13:40:05.224Z"
   },
   {
    "duration": 258,
    "start_time": "2023-02-03T13:40:06.658Z"
   },
   {
    "duration": 23,
    "start_time": "2023-02-03T13:40:06.918Z"
   },
   {
    "duration": 14,
    "start_time": "2023-02-03T13:40:06.943Z"
   },
   {
    "duration": 3,
    "start_time": "2023-02-03T13:40:06.959Z"
   },
   {
    "duration": 12,
    "start_time": "2023-02-03T13:40:06.992Z"
   },
   {
    "duration": 6,
    "start_time": "2023-02-03T13:40:07.005Z"
   },
   {
    "duration": 75,
    "start_time": "2023-02-03T13:40:07.012Z"
   },
   {
    "duration": 12,
    "start_time": "2023-02-03T13:40:07.092Z"
   },
   {
    "duration": 25,
    "start_time": "2023-02-03T13:40:07.106Z"
   },
   {
    "duration": 387,
    "start_time": "2023-02-03T13:40:07.133Z"
   },
   {
    "duration": 4,
    "start_time": "2023-02-03T13:40:07.522Z"
   },
   {
    "duration": 13,
    "start_time": "2023-02-03T13:40:07.529Z"
   },
   {
    "duration": 8,
    "start_time": "2023-02-03T13:40:07.545Z"
   },
   {
    "duration": 40,
    "start_time": "2023-02-03T13:40:07.554Z"
   },
   {
    "duration": 12,
    "start_time": "2023-02-03T13:40:07.596Z"
   },
   {
    "duration": 28,
    "start_time": "2023-02-03T13:40:07.609Z"
   },
   {
    "duration": 32,
    "start_time": "2023-02-03T13:40:07.639Z"
   },
   {
    "duration": 4,
    "start_time": "2023-02-03T13:40:36.857Z"
   },
   {
    "duration": 126,
    "start_time": "2023-02-03T13:40:42.713Z"
   },
   {
    "duration": 11,
    "start_time": "2023-02-03T13:40:44.619Z"
   },
   {
    "duration": 1308,
    "start_time": "2023-02-03T13:40:55.827Z"
   },
   {
    "duration": 266,
    "start_time": "2023-02-03T13:40:57.137Z"
   },
   {
    "duration": 24,
    "start_time": "2023-02-03T13:40:57.405Z"
   },
   {
    "duration": 18,
    "start_time": "2023-02-03T13:40:57.432Z"
   },
   {
    "duration": 3,
    "start_time": "2023-02-03T13:40:57.452Z"
   },
   {
    "duration": 36,
    "start_time": "2023-02-03T13:40:57.457Z"
   },
   {
    "duration": 6,
    "start_time": "2023-02-03T13:40:57.495Z"
   },
   {
    "duration": 74,
    "start_time": "2023-02-03T13:40:57.503Z"
   },
   {
    "duration": 17,
    "start_time": "2023-02-03T13:40:57.579Z"
   },
   {
    "duration": 28,
    "start_time": "2023-02-03T13:40:57.598Z"
   },
   {
    "duration": 360,
    "start_time": "2023-02-03T13:40:57.627Z"
   },
   {
    "duration": 3,
    "start_time": "2023-02-03T13:40:57.989Z"
   },
   {
    "duration": 5,
    "start_time": "2023-02-03T13:40:57.994Z"
   },
   {
    "duration": 25,
    "start_time": "2023-02-03T13:40:58.001Z"
   },
   {
    "duration": 13,
    "start_time": "2023-02-03T13:40:58.028Z"
   },
   {
    "duration": 27,
    "start_time": "2023-02-03T13:41:18.857Z"
   },
   {
    "duration": 125,
    "start_time": "2023-02-03T13:42:39.891Z"
   },
   {
    "duration": 15,
    "start_time": "2023-02-03T13:43:52.403Z"
   },
   {
    "duration": 1331,
    "start_time": "2023-02-03T13:44:01.081Z"
   },
   {
    "duration": 290,
    "start_time": "2023-02-03T13:44:02.414Z"
   },
   {
    "duration": 25,
    "start_time": "2023-02-03T13:44:02.709Z"
   },
   {
    "duration": 15,
    "start_time": "2023-02-03T13:44:02.736Z"
   },
   {
    "duration": 4,
    "start_time": "2023-02-03T13:44:02.753Z"
   },
   {
    "duration": 36,
    "start_time": "2023-02-03T13:44:02.758Z"
   },
   {
    "duration": 9,
    "start_time": "2023-02-03T13:44:02.801Z"
   },
   {
    "duration": 95,
    "start_time": "2023-02-03T13:44:02.812Z"
   },
   {
    "duration": 12,
    "start_time": "2023-02-03T13:44:02.909Z"
   },
   {
    "duration": 20,
    "start_time": "2023-02-03T13:44:02.924Z"
   },
   {
    "duration": 370,
    "start_time": "2023-02-03T13:44:02.945Z"
   },
   {
    "duration": 3,
    "start_time": "2023-02-03T13:44:03.316Z"
   },
   {
    "duration": 18,
    "start_time": "2023-02-03T13:44:03.321Z"
   },
   {
    "duration": 26,
    "start_time": "2023-02-03T13:44:03.340Z"
   },
   {
    "duration": 278,
    "start_time": "2023-02-03T13:44:55.578Z"
   },
   {
    "duration": 28,
    "start_time": "2023-02-03T13:44:59.975Z"
   },
   {
    "duration": 19,
    "start_time": "2023-02-03T13:45:00.105Z"
   },
   {
    "duration": 6,
    "start_time": "2023-02-03T13:45:00.400Z"
   },
   {
    "duration": 9,
    "start_time": "2023-02-03T13:45:00.524Z"
   },
   {
    "duration": 7,
    "start_time": "2023-02-03T13:45:00.670Z"
   },
   {
    "duration": 108,
    "start_time": "2023-02-03T13:45:01.854Z"
   },
   {
    "duration": 12,
    "start_time": "2023-02-03T13:45:01.976Z"
   },
   {
    "duration": 20,
    "start_time": "2023-02-03T13:45:02.143Z"
   },
   {
    "duration": 364,
    "start_time": "2023-02-03T13:45:02.769Z"
   },
   {
    "duration": 2,
    "start_time": "2023-02-03T13:45:03.134Z"
   },
   {
    "duration": 15,
    "start_time": "2023-02-03T13:45:03.138Z"
   },
   {
    "duration": 18,
    "start_time": "2023-02-03T13:45:04.589Z"
   },
   {
    "duration": 1491,
    "start_time": "2023-02-03T13:52:37.762Z"
   },
   {
    "duration": 316,
    "start_time": "2023-02-03T13:52:39.255Z"
   },
   {
    "duration": 45,
    "start_time": "2023-02-03T13:52:39.574Z"
   },
   {
    "duration": 102,
    "start_time": "2023-02-03T13:52:39.621Z"
   },
   {
    "duration": 13,
    "start_time": "2023-02-03T13:52:39.725Z"
   },
   {
    "duration": 411,
    "start_time": "2023-02-03T13:52:39.741Z"
   },
   {
    "duration": 25,
    "start_time": "2023-02-03T13:52:40.155Z"
   },
   {
    "duration": 8,
    "start_time": "2023-02-03T13:52:40.194Z"
   },
   {
    "duration": 23,
    "start_time": "2023-02-03T13:52:40.204Z"
   },
   {
    "duration": 8,
    "start_time": "2023-02-03T13:52:40.230Z"
   },
   {
    "duration": 7,
    "start_time": "2023-02-03T13:52:40.241Z"
   },
   {
    "duration": 12,
    "start_time": "2023-02-03T13:52:40.250Z"
   },
   {
    "duration": 35,
    "start_time": "2023-02-03T13:52:40.264Z"
   },
   {
    "duration": 135,
    "start_time": "2023-02-03T13:52:40.303Z"
   },
   {
    "duration": 18,
    "start_time": "2023-02-03T13:52:48.058Z"
   },
   {
    "duration": 1478,
    "start_time": "2023-02-03T13:53:01.120Z"
   },
   {
    "duration": 330,
    "start_time": "2023-02-03T13:53:02.600Z"
   },
   {
    "duration": 22,
    "start_time": "2023-02-03T13:53:02.937Z"
   },
   {
    "duration": 137,
    "start_time": "2023-02-03T13:53:02.961Z"
   },
   {
    "duration": 14,
    "start_time": "2023-02-03T13:53:03.100Z"
   },
   {
    "duration": 380,
    "start_time": "2023-02-03T13:53:03.118Z"
   },
   {
    "duration": 23,
    "start_time": "2023-02-03T13:53:03.502Z"
   },
   {
    "duration": 5,
    "start_time": "2023-02-03T13:53:03.527Z"
   },
   {
    "duration": 16,
    "start_time": "2023-02-03T13:53:03.535Z"
   },
   {
    "duration": 8,
    "start_time": "2023-02-03T13:53:03.553Z"
   },
   {
    "duration": 61,
    "start_time": "2023-02-03T13:53:03.563Z"
   },
   {
    "duration": 13,
    "start_time": "2023-02-03T13:53:03.625Z"
   },
   {
    "duration": 29,
    "start_time": "2023-02-03T13:53:03.641Z"
   },
   {
    "duration": 124,
    "start_time": "2023-02-03T13:53:03.672Z"
   },
   {
    "duration": 6,
    "start_time": "2023-02-03T13:54:46.541Z"
   },
   {
    "duration": 19,
    "start_time": "2023-02-03T13:54:48.761Z"
   },
   {
    "duration": 1406,
    "start_time": "2023-02-03T13:54:53.417Z"
   },
   {
    "duration": 328,
    "start_time": "2023-02-03T13:54:54.825Z"
   },
   {
    "duration": 16,
    "start_time": "2023-02-03T13:54:55.155Z"
   },
   {
    "duration": 124,
    "start_time": "2023-02-03T13:54:55.174Z"
   },
   {
    "duration": 18,
    "start_time": "2023-02-03T13:54:55.301Z"
   },
   {
    "duration": 430,
    "start_time": "2023-02-03T13:54:55.321Z"
   },
   {
    "duration": 16,
    "start_time": "2023-02-03T13:54:55.754Z"
   },
   {
    "duration": 23,
    "start_time": "2023-02-03T13:54:55.772Z"
   },
   {
    "duration": 34,
    "start_time": "2023-02-03T13:54:55.796Z"
   },
   {
    "duration": 14,
    "start_time": "2023-02-03T13:54:55.834Z"
   },
   {
    "duration": 7,
    "start_time": "2023-02-03T13:54:55.850Z"
   },
   {
    "duration": 11,
    "start_time": "2023-02-03T13:54:55.859Z"
   },
   {
    "duration": 9,
    "start_time": "2023-02-03T13:54:55.872Z"
   },
   {
    "duration": 29,
    "start_time": "2023-02-03T13:54:55.884Z"
   },
   {
    "duration": 23,
    "start_time": "2023-02-03T13:55:25.486Z"
   },
   {
    "duration": 10,
    "start_time": "2023-02-03T13:55:57.465Z"
   },
   {
    "duration": 123,
    "start_time": "2023-02-03T13:56:42.137Z"
   },
   {
    "duration": 1293,
    "start_time": "2023-02-03T13:56:48.450Z"
   },
   {
    "duration": 301,
    "start_time": "2023-02-03T13:56:49.745Z"
   },
   {
    "duration": 16,
    "start_time": "2023-02-03T13:56:50.047Z"
   },
   {
    "duration": 102,
    "start_time": "2023-02-03T13:56:50.065Z"
   },
   {
    "duration": 11,
    "start_time": "2023-02-03T13:56:50.168Z"
   },
   {
    "duration": 384,
    "start_time": "2023-02-03T13:56:50.194Z"
   },
   {
    "duration": 29,
    "start_time": "2023-02-03T13:56:50.579Z"
   },
   {
    "duration": 3,
    "start_time": "2023-02-03T13:56:50.610Z"
   },
   {
    "duration": 14,
    "start_time": "2023-02-03T13:56:50.615Z"
   },
   {
    "duration": 8,
    "start_time": "2023-02-03T13:56:50.631Z"
   },
   {
    "duration": 22,
    "start_time": "2023-02-03T13:56:50.640Z"
   },
   {
    "duration": 3,
    "start_time": "2023-02-03T13:56:50.664Z"
   },
   {
    "duration": 26,
    "start_time": "2023-02-03T13:56:50.668Z"
   },
   {
    "duration": 21,
    "start_time": "2023-02-03T13:56:50.697Z"
   },
   {
    "duration": 18,
    "start_time": "2023-02-03T13:56:50.720Z"
   },
   {
    "duration": 29,
    "start_time": "2023-02-03T13:56:50.740Z"
   },
   {
    "duration": 7,
    "start_time": "2023-02-03T14:08:56.467Z"
   },
   {
    "duration": 110,
    "start_time": "2023-02-03T14:11:03.657Z"
   },
   {
    "duration": 200,
    "start_time": "2023-02-03T14:11:15.028Z"
   },
   {
    "duration": 96,
    "start_time": "2023-02-03T14:12:29.705Z"
   },
   {
    "duration": 155,
    "start_time": "2023-02-03T14:12:39.852Z"
   },
   {
    "duration": 115,
    "start_time": "2023-02-03T14:13:42.826Z"
   },
   {
    "duration": 109,
    "start_time": "2023-02-03T14:27:04.818Z"
   },
   {
    "duration": 9,
    "start_time": "2023-02-03T14:27:21.900Z"
   },
   {
    "duration": 343,
    "start_time": "2023-02-03T14:28:16.669Z"
   },
   {
    "duration": 6,
    "start_time": "2023-02-03T14:28:17.924Z"
   },
   {
    "duration": 324,
    "start_time": "2023-02-03T14:28:38.960Z"
   },
   {
    "duration": 5,
    "start_time": "2023-02-03T14:28:43.786Z"
   },
   {
    "duration": 346,
    "start_time": "2023-02-03T14:29:14.922Z"
   },
   {
    "duration": 103,
    "start_time": "2023-02-03T14:29:35.131Z"
   },
   {
    "duration": 7,
    "start_time": "2023-02-03T14:29:46.527Z"
   },
   {
    "duration": 6,
    "start_time": "2023-02-03T14:29:52.525Z"
   },
   {
    "duration": 99,
    "start_time": "2023-02-03T14:29:58.204Z"
   },
   {
    "duration": 142,
    "start_time": "2023-02-03T14:30:26.611Z"
   },
   {
    "duration": 876,
    "start_time": "2023-02-03T14:30:49.427Z"
   },
   {
    "duration": 110,
    "start_time": "2023-02-03T14:30:53.748Z"
   },
   {
    "duration": 7,
    "start_time": "2023-02-03T14:34:05.375Z"
   },
   {
    "duration": 15,
    "start_time": "2023-02-03T14:34:11.437Z"
   },
   {
    "duration": 5,
    "start_time": "2023-02-03T14:34:24.315Z"
   },
   {
    "duration": 105,
    "start_time": "2023-02-03T14:34:29.478Z"
   },
   {
    "duration": 103,
    "start_time": "2023-02-03T14:34:36.570Z"
   },
   {
    "duration": 3,
    "start_time": "2023-02-03T14:59:13.265Z"
   },
   {
    "duration": 313,
    "start_time": "2023-02-03T14:59:13.642Z"
   },
   {
    "duration": 22,
    "start_time": "2023-02-03T14:59:15.781Z"
   },
   {
    "duration": 6,
    "start_time": "2023-02-03T14:59:40.492Z"
   },
   {
    "duration": 304,
    "start_time": "2023-02-03T14:59:40.827Z"
   },
   {
    "duration": 14,
    "start_time": "2023-02-03T14:59:41.133Z"
   },
   {
    "duration": 94,
    "start_time": "2023-02-03T14:59:41.272Z"
   },
   {
    "duration": 11,
    "start_time": "2023-02-03T14:59:41.707Z"
   },
   {
    "duration": 384,
    "start_time": "2023-02-03T14:59:42.214Z"
   },
   {
    "duration": 19,
    "start_time": "2023-02-03T14:59:46.203Z"
   },
   {
    "duration": 4,
    "start_time": "2023-02-03T15:00:29.852Z"
   },
   {
    "duration": 72,
    "start_time": "2023-02-03T15:01:09.008Z"
   },
   {
    "duration": 917,
    "start_time": "2023-02-03T15:01:13.031Z"
   },
   {
    "duration": 59,
    "start_time": "2023-02-03T15:01:22.329Z"
   },
   {
    "duration": 3,
    "start_time": "2023-02-03T15:01:33.346Z"
   },
   {
    "duration": 836,
    "start_time": "2023-02-03T15:01:36.202Z"
   },
   {
    "duration": 407,
    "start_time": "2023-02-03T15:02:05.565Z"
   },
   {
    "duration": 895,
    "start_time": "2023-02-03T15:02:10.629Z"
   },
   {
    "duration": 100,
    "start_time": "2023-02-03T15:02:24.561Z"
   },
   {
    "duration": 894,
    "start_time": "2023-02-03T15:02:28.929Z"
   },
   {
    "duration": 55,
    "start_time": "2023-02-03T15:02:40.485Z"
   },
   {
    "duration": 977,
    "start_time": "2023-02-03T15:02:44.678Z"
   },
   {
    "duration": 308,
    "start_time": "2023-02-03T15:02:53.423Z"
   },
   {
    "duration": 323,
    "start_time": "2023-02-03T15:03:01.206Z"
   },
   {
    "duration": 32,
    "start_time": "2023-02-03T15:03:09.274Z"
   },
   {
    "duration": 20,
    "start_time": "2023-02-03T15:03:24.105Z"
   },
   {
    "duration": 1341,
    "start_time": "2023-02-03T15:05:10.087Z"
   },
   {
    "duration": 321,
    "start_time": "2023-02-03T15:05:11.432Z"
   },
   {
    "duration": 18,
    "start_time": "2023-02-03T15:05:11.755Z"
   },
   {
    "duration": 121,
    "start_time": "2023-02-03T15:05:11.775Z"
   },
   {
    "duration": 12,
    "start_time": "2023-02-03T15:05:11.898Z"
   },
   {
    "duration": 384,
    "start_time": "2023-02-03T15:05:11.912Z"
   },
   {
    "duration": 14,
    "start_time": "2023-02-03T15:05:12.297Z"
   },
   {
    "duration": 3,
    "start_time": "2023-02-03T15:05:12.312Z"
   },
   {
    "duration": 22,
    "start_time": "2023-02-03T15:05:12.316Z"
   },
   {
    "duration": 11,
    "start_time": "2023-02-03T15:05:12.340Z"
   },
   {
    "duration": 22,
    "start_time": "2023-02-03T15:05:12.353Z"
   },
   {
    "duration": 2,
    "start_time": "2023-02-03T15:05:12.392Z"
   },
   {
    "duration": 5,
    "start_time": "2023-02-03T15:05:12.396Z"
   },
   {
    "duration": 7,
    "start_time": "2023-02-03T15:05:12.403Z"
   },
   {
    "duration": 9,
    "start_time": "2023-02-03T15:05:12.411Z"
   },
   {
    "duration": 124,
    "start_time": "2023-02-03T15:05:12.421Z"
   },
   {
    "duration": 0,
    "start_time": "2023-02-03T15:05:12.547Z"
   },
   {
    "duration": 0,
    "start_time": "2023-02-03T15:05:12.548Z"
   },
   {
    "duration": 0,
    "start_time": "2023-02-03T15:05:12.549Z"
   },
   {
    "duration": 0,
    "start_time": "2023-02-03T15:05:12.550Z"
   },
   {
    "duration": 0,
    "start_time": "2023-02-03T15:05:12.551Z"
   },
   {
    "duration": 0,
    "start_time": "2023-02-03T15:05:12.552Z"
   },
   {
    "duration": 95,
    "start_time": "2023-02-03T15:07:54.604Z"
   },
   {
    "duration": 6,
    "start_time": "2023-02-03T15:07:54.801Z"
   },
   {
    "duration": 4,
    "start_time": "2023-02-03T15:07:59.893Z"
   },
   {
    "duration": 295,
    "start_time": "2023-02-03T15:08:00.079Z"
   },
   {
    "duration": 28,
    "start_time": "2023-02-03T15:08:00.376Z"
   },
   {
    "duration": 93,
    "start_time": "2023-02-03T15:08:00.521Z"
   },
   {
    "duration": 11,
    "start_time": "2023-02-03T15:08:00.839Z"
   },
   {
    "duration": 381,
    "start_time": "2023-02-03T15:08:01.161Z"
   },
   {
    "duration": 16,
    "start_time": "2023-02-03T15:08:01.543Z"
   },
   {
    "duration": 3,
    "start_time": "2023-02-03T15:08:03.707Z"
   },
   {
    "duration": 8,
    "start_time": "2023-02-03T15:08:03.865Z"
   },
   {
    "duration": 6,
    "start_time": "2023-02-03T15:08:04.239Z"
   },
   {
    "duration": 14,
    "start_time": "2023-02-03T15:08:04.415Z"
   },
   {
    "duration": 2,
    "start_time": "2023-02-03T15:08:04.719Z"
   },
   {
    "duration": 3,
    "start_time": "2023-02-03T15:08:04.903Z"
   },
   {
    "duration": 5,
    "start_time": "2023-02-03T15:08:05.074Z"
   },
   {
    "duration": 5,
    "start_time": "2023-02-03T15:08:05.587Z"
   },
   {
    "duration": 12,
    "start_time": "2023-02-03T15:08:07.227Z"
   },
   {
    "duration": 95,
    "start_time": "2023-02-03T15:08:07.996Z"
   },
   {
    "duration": 5,
    "start_time": "2023-02-03T15:08:08.145Z"
   },
   {
    "duration": 5,
    "start_time": "2023-02-03T15:08:08.479Z"
   },
   {
    "duration": 1684,
    "start_time": "2023-02-15T08:38:22.770Z"
   },
   {
    "duration": 52,
    "start_time": "2023-02-15T08:39:44.044Z"
   },
   {
    "duration": 65,
    "start_time": "2023-02-15T08:39:53.760Z"
   },
   {
    "duration": 116,
    "start_time": "2023-02-15T08:40:00.397Z"
   },
   {
    "duration": 4,
    "start_time": "2023-02-15T08:40:08.997Z"
   },
   {
    "duration": 73,
    "start_time": "2023-02-15T08:40:10.275Z"
   },
   {
    "duration": 10,
    "start_time": "2023-02-15T08:40:10.660Z"
   },
   {
    "duration": 925,
    "start_time": "2023-02-15T08:40:36.017Z"
   },
   {
    "duration": 18,
    "start_time": "2023-02-15T08:40:42.706Z"
   },
   {
    "duration": 414,
    "start_time": "2023-02-15T08:40:55.191Z"
   },
   {
    "duration": 14,
    "start_time": "2023-02-15T08:40:57.194Z"
   },
   {
    "duration": 1827,
    "start_time": "2023-02-15T08:41:09.489Z"
   },
   {
    "duration": 17,
    "start_time": "2023-02-15T08:41:11.318Z"
   },
   {
    "duration": 3,
    "start_time": "2023-02-15T08:41:14.919Z"
   },
   {
    "duration": 11,
    "start_time": "2023-02-15T08:41:15.944Z"
   },
   {
    "duration": 8,
    "start_time": "2023-02-15T08:41:19.931Z"
   },
   {
    "duration": 17,
    "start_time": "2023-02-15T08:41:20.876Z"
   },
   {
    "duration": 942,
    "start_time": "2023-02-15T08:41:22.245Z"
   },
   {
    "duration": 4,
    "start_time": "2023-02-15T08:41:49.327Z"
   },
   {
    "duration": 353,
    "start_time": "2023-02-15T08:41:49.844Z"
   },
   {
    "duration": 16,
    "start_time": "2023-02-15T08:41:50.199Z"
   },
   {
    "duration": 99,
    "start_time": "2023-02-15T08:41:50.388Z"
   },
   {
    "duration": 13,
    "start_time": "2023-02-15T08:41:50.581Z"
   },
   {
    "duration": 393,
    "start_time": "2023-02-15T08:41:50.966Z"
   },
   {
    "duration": 17,
    "start_time": "2023-02-15T08:41:51.361Z"
   },
   {
    "duration": 3,
    "start_time": "2023-02-15T08:41:52.020Z"
   },
   {
    "duration": 11,
    "start_time": "2023-02-15T08:41:52.479Z"
   },
   {
    "duration": 9,
    "start_time": "2023-02-15T08:41:52.985Z"
   },
   {
    "duration": 4,
    "start_time": "2023-02-15T08:41:53.879Z"
   },
   {
    "duration": 5,
    "start_time": "2023-02-15T08:41:59.278Z"
   },
   {
    "duration": 53,
    "start_time": "2023-02-15T12:22:15.333Z"
   },
   {
    "duration": 1649,
    "start_time": "2023-02-15T12:22:24.542Z"
   },
   {
    "duration": 1468,
    "start_time": "2023-02-15T12:22:26.192Z"
   },
   {
    "duration": 17,
    "start_time": "2023-02-15T12:22:27.661Z"
   },
   {
    "duration": 183,
    "start_time": "2023-02-15T12:22:27.680Z"
   },
   {
    "duration": 12,
    "start_time": "2023-02-15T12:22:27.865Z"
   },
   {
    "duration": 628,
    "start_time": "2023-02-15T12:22:27.878Z"
   },
   {
    "duration": 38,
    "start_time": "2023-02-15T12:22:28.508Z"
   },
   {
    "duration": 5,
    "start_time": "2023-02-15T12:22:28.548Z"
   },
   {
    "duration": 41,
    "start_time": "2023-02-15T12:22:28.965Z"
   },
   {
    "duration": 8,
    "start_time": "2023-02-15T12:22:29.385Z"
   },
   {
    "duration": 5,
    "start_time": "2023-02-15T12:22:30.373Z"
   },
   {
    "duration": 24,
    "start_time": "2023-02-15T12:24:22.096Z"
   },
   {
    "duration": 19,
    "start_time": "2023-02-15T12:58:20.481Z"
   },
   {
    "duration": 30,
    "start_time": "2023-02-15T13:01:27.752Z"
   },
   {
    "duration": 20,
    "start_time": "2023-02-15T13:01:41.204Z"
   },
   {
    "duration": 20,
    "start_time": "2023-02-15T13:02:07.418Z"
   },
   {
    "duration": 5,
    "start_time": "2023-02-15T13:02:34.269Z"
   },
   {
    "duration": 284,
    "start_time": "2023-02-15T13:02:34.794Z"
   },
   {
    "duration": 17,
    "start_time": "2023-02-15T13:02:35.080Z"
   },
   {
    "duration": 87,
    "start_time": "2023-02-15T13:02:35.345Z"
   },
   {
    "duration": 12,
    "start_time": "2023-02-15T13:02:35.532Z"
   },
   {
    "duration": 355,
    "start_time": "2023-02-15T13:02:35.902Z"
   },
   {
    "duration": 24,
    "start_time": "2023-02-15T13:02:36.259Z"
   },
   {
    "duration": 3,
    "start_time": "2023-02-15T13:02:36.889Z"
   },
   {
    "duration": 11,
    "start_time": "2023-02-15T13:02:37.310Z"
   },
   {
    "duration": 10,
    "start_time": "2023-02-15T13:02:37.749Z"
   },
   {
    "duration": 6,
    "start_time": "2023-02-15T13:02:38.180Z"
   },
   {
    "duration": 13,
    "start_time": "2023-02-15T13:02:38.628Z"
   },
   {
    "duration": 25,
    "start_time": "2023-02-15T13:02:56.993Z"
   },
   {
    "duration": 19,
    "start_time": "2023-02-15T13:03:00.881Z"
   },
   {
    "duration": 18,
    "start_time": "2023-02-15T13:03:06.945Z"
   },
   {
    "duration": 19,
    "start_time": "2023-02-15T13:03:16.725Z"
   },
   {
    "duration": 19,
    "start_time": "2023-02-15T13:03:20.002Z"
   },
   {
    "duration": 20,
    "start_time": "2023-02-15T13:03:28.441Z"
   },
   {
    "duration": 3,
    "start_time": "2023-02-15T13:11:39.832Z"
   },
   {
    "duration": 17,
    "start_time": "2023-02-15T13:11:51.194Z"
   },
   {
    "duration": 18,
    "start_time": "2023-02-15T13:11:58.558Z"
   },
   {
    "duration": 3,
    "start_time": "2023-02-15T13:12:10.738Z"
   },
   {
    "duration": 18,
    "start_time": "2023-02-15T13:12:21.078Z"
   },
   {
    "duration": 17,
    "start_time": "2023-02-15T13:12:28.878Z"
   },
   {
    "duration": 1270,
    "start_time": "2023-02-15T13:22:19.958Z"
   },
   {
    "duration": 1168,
    "start_time": "2023-02-15T13:22:42.993Z"
   },
   {
    "duration": 1090,
    "start_time": "2023-02-15T13:22:46.676Z"
   },
   {
    "duration": 6006,
    "start_time": "2023-02-15T13:23:13.398Z"
   },
   {
    "duration": 6076,
    "start_time": "2023-02-15T13:23:51.201Z"
   },
   {
    "duration": 2565,
    "start_time": "2023-02-15T13:24:23.673Z"
   },
   {
    "duration": 1218,
    "start_time": "2023-02-15T13:24:42.357Z"
   },
   {
    "duration": 1515,
    "start_time": "2023-02-15T13:25:01.857Z"
   },
   {
    "duration": 9,
    "start_time": "2023-02-15T13:25:56.529Z"
   },
   {
    "duration": 6042,
    "start_time": "2023-02-15T13:26:53.661Z"
   },
   {
    "duration": 257,
    "start_time": "2023-02-15T13:27:22.004Z"
   },
   {
    "duration": 161,
    "start_time": "2023-02-15T13:27:52.023Z"
   },
   {
    "duration": 153,
    "start_time": "2023-02-15T13:28:11.499Z"
   },
   {
    "duration": 168,
    "start_time": "2023-02-15T13:28:52.798Z"
   },
   {
    "duration": 3,
    "start_time": "2023-02-15T13:29:33.603Z"
   },
   {
    "duration": 289,
    "start_time": "2023-02-15T13:29:34.588Z"
   },
   {
    "duration": 16,
    "start_time": "2023-02-15T13:29:35.495Z"
   },
   {
    "duration": 128,
    "start_time": "2023-02-15T13:29:36.928Z"
   },
   {
    "duration": 13,
    "start_time": "2023-02-15T13:29:37.493Z"
   },
   {
    "duration": 376,
    "start_time": "2023-02-15T13:29:39.064Z"
   },
   {
    "duration": 17,
    "start_time": "2023-02-15T13:29:40.080Z"
   },
   {
    "duration": 3,
    "start_time": "2023-02-15T13:29:45.716Z"
   },
   {
    "duration": 9,
    "start_time": "2023-02-15T13:29:46.059Z"
   },
   {
    "duration": 8,
    "start_time": "2023-02-15T13:29:49.064Z"
   },
   {
    "duration": 5,
    "start_time": "2023-02-15T13:29:49.435Z"
   },
   {
    "duration": 11,
    "start_time": "2023-02-15T13:29:51.602Z"
   },
   {
    "duration": 185,
    "start_time": "2023-02-15T13:30:00.140Z"
   },
   {
    "duration": 8,
    "start_time": "2023-02-15T13:41:38.648Z"
   },
   {
    "duration": 3,
    "start_time": "2023-02-15T13:41:45.839Z"
   },
   {
    "duration": 2,
    "start_time": "2023-02-15T13:41:46.059Z"
   },
   {
    "duration": 3,
    "start_time": "2023-02-15T13:41:46.277Z"
   },
   {
    "duration": 7,
    "start_time": "2023-02-15T13:41:48.095Z"
   },
   {
    "duration": 4,
    "start_time": "2023-02-15T13:41:48.835Z"
   },
   {
    "duration": 150,
    "start_time": "2023-02-15T13:43:01.854Z"
   },
   {
    "duration": 15,
    "start_time": "2023-02-15T13:43:02.485Z"
   },
   {
    "duration": 10,
    "start_time": "2023-02-15T13:43:04.472Z"
   },
   {
    "duration": 5,
    "start_time": "2023-02-15T13:43:07.320Z"
   },
   {
    "duration": 5,
    "start_time": "2023-02-15T13:43:36.910Z"
   },
   {
    "duration": 8,
    "start_time": "2023-02-15T13:43:47.310Z"
   },
   {
    "duration": 5,
    "start_time": "2023-02-15T13:43:49.842Z"
   },
   {
    "duration": 13,
    "start_time": "2023-02-15T13:47:18.101Z"
   },
   {
    "duration": 9,
    "start_time": "2023-02-15T13:47:33.574Z"
   },
   {
    "duration": 4,
    "start_time": "2023-02-15T13:48:20.536Z"
   },
   {
    "duration": 291,
    "start_time": "2023-02-15T13:48:21.189Z"
   },
   {
    "duration": 15,
    "start_time": "2023-02-15T13:48:21.482Z"
   },
   {
    "duration": 88,
    "start_time": "2023-02-15T13:48:21.739Z"
   },
   {
    "duration": 12,
    "start_time": "2023-02-15T13:48:21.926Z"
   },
   {
    "duration": 380,
    "start_time": "2023-02-15T13:48:22.275Z"
   },
   {
    "duration": 16,
    "start_time": "2023-02-15T13:48:22.657Z"
   },
   {
    "duration": 3,
    "start_time": "2023-02-15T13:48:23.206Z"
   },
   {
    "duration": 9,
    "start_time": "2023-02-15T13:48:23.588Z"
   },
   {
    "duration": 8,
    "start_time": "2023-02-15T13:48:23.956Z"
   },
   {
    "duration": 5,
    "start_time": "2023-02-15T13:48:24.364Z"
   },
   {
    "duration": 13,
    "start_time": "2023-02-15T13:48:24.757Z"
   },
   {
    "duration": 3,
    "start_time": "2023-02-15T13:48:25.957Z"
   },
   {
    "duration": 3,
    "start_time": "2023-02-15T13:48:26.167Z"
   },
   {
    "duration": 3,
    "start_time": "2023-02-15T13:48:26.403Z"
   },
   {
    "duration": 6,
    "start_time": "2023-02-15T13:48:27.527Z"
   },
   {
    "duration": 5,
    "start_time": "2023-02-15T13:48:35.591Z"
   },
   {
    "duration": 149,
    "start_time": "2023-02-15T13:48:38.063Z"
   },
   {
    "duration": 16,
    "start_time": "2023-02-15T13:48:38.260Z"
   },
   {
    "duration": 8,
    "start_time": "2023-02-15T13:48:39.088Z"
   },
   {
    "duration": 5,
    "start_time": "2023-02-15T13:48:39.441Z"
   },
   {
    "duration": 5,
    "start_time": "2023-02-15T13:48:40.760Z"
   },
   {
    "duration": 4,
    "start_time": "2023-02-15T13:48:40.949Z"
   },
   {
    "duration": 8,
    "start_time": "2023-02-15T13:48:43.841Z"
   },
   {
    "duration": 14,
    "start_time": "2023-02-15T13:49:10.915Z"
   },
   {
    "duration": 26,
    "start_time": "2023-02-15T13:49:26.611Z"
   },
   {
    "duration": 9,
    "start_time": "2023-02-15T13:50:33.423Z"
   },
   {
    "duration": 9,
    "start_time": "2023-02-15T13:50:47.571Z"
   },
   {
    "duration": 14,
    "start_time": "2023-02-15T13:50:51.338Z"
   },
   {
    "duration": 12,
    "start_time": "2023-02-15T13:53:33.152Z"
   },
   {
    "duration": 10,
    "start_time": "2023-02-15T13:53:42.365Z"
   },
   {
    "duration": 9,
    "start_time": "2023-02-15T13:54:12.724Z"
   },
   {
    "duration": 14,
    "start_time": "2023-02-15T13:54:24.073Z"
   },
   {
    "duration": 13,
    "start_time": "2023-02-15T13:54:37.945Z"
   },
   {
    "duration": 14,
    "start_time": "2023-02-15T13:55:12.647Z"
   },
   {
    "duration": 4,
    "start_time": "2023-02-15T13:55:24.483Z"
   },
   {
    "duration": 281,
    "start_time": "2023-02-15T13:55:24.975Z"
   },
   {
    "duration": 15,
    "start_time": "2023-02-15T13:55:25.258Z"
   },
   {
    "duration": 86,
    "start_time": "2023-02-15T13:55:25.423Z"
   },
   {
    "duration": 11,
    "start_time": "2023-02-15T13:55:25.598Z"
   },
   {
    "duration": 336,
    "start_time": "2023-02-15T13:55:25.877Z"
   },
   {
    "duration": 17,
    "start_time": "2023-02-15T13:55:26.216Z"
   },
   {
    "duration": 3,
    "start_time": "2023-02-15T13:55:26.592Z"
   },
   {
    "duration": 10,
    "start_time": "2023-02-15T13:55:26.929Z"
   },
   {
    "duration": 8,
    "start_time": "2023-02-15T13:55:27.274Z"
   },
   {
    "duration": 5,
    "start_time": "2023-02-15T13:55:27.648Z"
   },
   {
    "duration": 11,
    "start_time": "2023-02-15T13:55:28.015Z"
   },
   {
    "duration": 3,
    "start_time": "2023-02-15T13:55:29.062Z"
   },
   {
    "duration": 3,
    "start_time": "2023-02-15T13:55:29.294Z"
   },
   {
    "duration": 3,
    "start_time": "2023-02-15T13:55:29.411Z"
   },
   {
    "duration": 6,
    "start_time": "2023-02-15T13:55:30.276Z"
   },
   {
    "duration": 7,
    "start_time": "2023-02-15T13:55:30.886Z"
   },
   {
    "duration": 26,
    "start_time": "2023-02-15T13:55:31.102Z"
   },
   {
    "duration": 160,
    "start_time": "2023-02-15T13:55:43.004Z"
   },
   {
    "duration": 15,
    "start_time": "2023-02-15T13:55:43.708Z"
   },
   {
    "duration": 11,
    "start_time": "2023-02-15T13:55:44.200Z"
   },
   {
    "duration": 8,
    "start_time": "2023-02-15T13:55:45.077Z"
   },
   {
    "duration": 5,
    "start_time": "2023-02-15T13:55:46.021Z"
   },
   {
    "duration": 5,
    "start_time": "2023-02-15T13:55:47.241Z"
   },
   {
    "duration": 16,
    "start_time": "2023-02-15T13:55:50.400Z"
   },
   {
    "duration": 415,
    "start_time": "2023-02-15T13:55:51.321Z"
   },
   {
    "duration": 413,
    "start_time": "2023-02-15T13:56:23.703Z"
   },
   {
    "duration": 599,
    "start_time": "2023-02-15T13:56:36.614Z"
   },
   {
    "duration": 456,
    "start_time": "2023-02-15T13:56:46.496Z"
   },
   {
    "duration": 426,
    "start_time": "2023-02-15T13:56:52.292Z"
   },
   {
    "duration": 540,
    "start_time": "2023-02-15T13:56:56.116Z"
   },
   {
    "duration": 486,
    "start_time": "2023-02-15T13:57:01.209Z"
   },
   {
    "duration": 408,
    "start_time": "2023-02-15T13:57:04.484Z"
   },
   {
    "duration": 155,
    "start_time": "2023-02-15T13:57:10.061Z"
   },
   {
    "duration": 166,
    "start_time": "2023-02-15T13:57:12.753Z"
   },
   {
    "duration": 181,
    "start_time": "2023-02-15T13:57:19.866Z"
   },
   {
    "duration": 12,
    "start_time": "2023-02-15T14:06:56.950Z"
   },
   {
    "duration": 4,
    "start_time": "2023-02-15T14:07:04.560Z"
   },
   {
    "duration": 378,
    "start_time": "2023-02-15T14:07:09.762Z"
   },
   {
    "duration": 373,
    "start_time": "2023-02-15T14:07:25.988Z"
   },
   {
    "duration": 491,
    "start_time": "2023-02-15T14:07:39.338Z"
   },
   {
    "duration": 312,
    "start_time": "2023-02-15T14:07:43.336Z"
   },
   {
    "duration": 474,
    "start_time": "2023-02-15T14:07:53.056Z"
   },
   {
    "duration": 395,
    "start_time": "2023-02-15T14:08:03.979Z"
   },
   {
    "duration": 470,
    "start_time": "2023-02-15T14:08:43.307Z"
   },
   {
    "duration": 389,
    "start_time": "2023-02-15T14:09:07.286Z"
   },
   {
    "duration": 334,
    "start_time": "2023-02-15T14:09:44.549Z"
   },
   {
    "duration": 326,
    "start_time": "2023-02-15T14:09:53.539Z"
   },
   {
    "duration": 384,
    "start_time": "2023-02-15T14:10:17.787Z"
   },
   {
    "duration": 353,
    "start_time": "2023-02-15T14:10:28.828Z"
   },
   {
    "duration": 417,
    "start_time": "2023-02-15T14:10:49.678Z"
   },
   {
    "duration": 393,
    "start_time": "2023-02-15T14:10:56.076Z"
   },
   {
    "duration": 418,
    "start_time": "2023-02-15T14:11:06.471Z"
   },
   {
    "duration": 369,
    "start_time": "2023-02-15T14:11:22.525Z"
   },
   {
    "duration": 404,
    "start_time": "2023-02-15T14:11:37.168Z"
   },
   {
    "duration": 412,
    "start_time": "2023-02-15T14:50:44.367Z"
   },
   {
    "duration": 356,
    "start_time": "2023-02-15T14:52:10.218Z"
   },
   {
    "duration": 393,
    "start_time": "2023-02-15T14:52:27.479Z"
   },
   {
    "duration": 340,
    "start_time": "2023-02-15T14:52:33.046Z"
   },
   {
    "duration": 414,
    "start_time": "2023-02-15T14:52:51.788Z"
   },
   {
    "duration": 402,
    "start_time": "2023-02-15T14:52:59.892Z"
   },
   {
    "duration": 368,
    "start_time": "2023-02-15T14:53:22.347Z"
   },
   {
    "duration": 328,
    "start_time": "2023-02-15T14:53:33.550Z"
   },
   {
    "duration": 366,
    "start_time": "2023-02-15T14:54:25.739Z"
   },
   {
    "duration": 487,
    "start_time": "2023-02-15T14:54:34.160Z"
   },
   {
    "duration": 129,
    "start_time": "2023-02-15T14:55:07.275Z"
   },
   {
    "duration": 407,
    "start_time": "2023-02-15T14:56:35.449Z"
   },
   {
    "duration": 366,
    "start_time": "2023-02-15T14:57:02.102Z"
   },
   {
    "duration": 403,
    "start_time": "2023-02-15T14:57:06.455Z"
   },
   {
    "duration": 399,
    "start_time": "2023-02-15T14:57:09.198Z"
   },
   {
    "duration": 6,
    "start_time": "2023-02-15T14:57:37.124Z"
   },
   {
    "duration": 352,
    "start_time": "2023-02-15T14:59:36.545Z"
   },
   {
    "duration": 440,
    "start_time": "2023-02-15T14:59:43.741Z"
   },
   {
    "duration": 371,
    "start_time": "2023-02-15T15:01:03.150Z"
   },
   {
    "duration": 353,
    "start_time": "2023-02-15T15:05:21.438Z"
   },
   {
    "duration": 446,
    "start_time": "2023-02-15T15:06:51.898Z"
   },
   {
    "duration": 5,
    "start_time": "2023-02-15T15:07:08.587Z"
   },
   {
    "duration": 484,
    "start_time": "2023-02-15T15:08:00.059Z"
   },
   {
    "duration": 495,
    "start_time": "2023-02-15T15:08:07.394Z"
   },
   {
    "duration": 467,
    "start_time": "2023-02-15T15:08:16.632Z"
   },
   {
    "duration": 386,
    "start_time": "2023-02-15T15:08:22.211Z"
   },
   {
    "duration": 75,
    "start_time": "2023-02-15T15:08:58.064Z"
   },
   {
    "duration": 349,
    "start_time": "2023-02-15T15:09:24.250Z"
   },
   {
    "duration": 469,
    "start_time": "2023-02-15T15:09:43.192Z"
   },
   {
    "duration": 388,
    "start_time": "2023-02-15T15:09:50.717Z"
   },
   {
    "duration": 513,
    "start_time": "2023-02-15T15:10:36.649Z"
   },
   {
    "duration": 533,
    "start_time": "2023-02-15T15:10:43.405Z"
   },
   {
    "duration": 1112,
    "start_time": "2023-02-15T15:23:47.724Z"
   },
   {
    "duration": 1307,
    "start_time": "2023-02-15T15:24:01.942Z"
   },
   {
    "duration": 1300,
    "start_time": "2023-02-15T15:24:17.197Z"
   },
   {
    "duration": 962,
    "start_time": "2023-02-15T15:27:05.036Z"
   },
   {
    "duration": 1080,
    "start_time": "2023-02-15T15:27:50.025Z"
   },
   {
    "duration": 1043,
    "start_time": "2023-02-15T15:28:34.372Z"
   },
   {
    "duration": 1100,
    "start_time": "2023-02-15T15:29:18.587Z"
   },
   {
    "duration": 81,
    "start_time": "2023-02-15T15:36:08.263Z"
   },
   {
    "duration": 83,
    "start_time": "2023-02-15T15:36:17.742Z"
   },
   {
    "duration": 580,
    "start_time": "2023-02-15T15:36:23.806Z"
   },
   {
    "duration": 142,
    "start_time": "2023-02-15T15:41:03.718Z"
   },
   {
    "duration": 420,
    "start_time": "2023-02-15T15:41:52.206Z"
   },
   {
    "duration": 5,
    "start_time": "2023-02-15T16:30:34.659Z"
   },
   {
    "duration": 345,
    "start_time": "2023-02-15T16:30:35.218Z"
   },
   {
    "duration": 16,
    "start_time": "2023-02-15T16:30:35.565Z"
   },
   {
    "duration": 127,
    "start_time": "2023-02-15T16:30:35.781Z"
   },
   {
    "duration": 13,
    "start_time": "2023-02-15T16:30:35.981Z"
   },
   {
    "duration": 442,
    "start_time": "2023-02-15T16:30:36.387Z"
   },
   {
    "duration": 19,
    "start_time": "2023-02-15T16:30:36.832Z"
   },
   {
    "duration": 5,
    "start_time": "2023-02-15T16:30:37.661Z"
   },
   {
    "duration": 8,
    "start_time": "2023-02-15T16:30:38.073Z"
   },
   {
    "duration": 8,
    "start_time": "2023-02-15T16:30:38.535Z"
   },
   {
    "duration": 5,
    "start_time": "2023-02-15T16:30:38.995Z"
   },
   {
    "duration": 13,
    "start_time": "2023-02-15T16:30:39.644Z"
   },
   {
    "duration": 2,
    "start_time": "2023-02-15T16:30:40.866Z"
   },
   {
    "duration": 3,
    "start_time": "2023-02-15T16:30:41.061Z"
   },
   {
    "duration": 3,
    "start_time": "2023-02-15T16:30:41.300Z"
   },
   {
    "duration": 7,
    "start_time": "2023-02-15T16:30:43.100Z"
   },
   {
    "duration": 7,
    "start_time": "2023-02-15T16:30:44.689Z"
   },
   {
    "duration": 4,
    "start_time": "2023-02-15T16:30:50.110Z"
   },
   {
    "duration": 319,
    "start_time": "2023-02-15T16:30:50.858Z"
   },
   {
    "duration": 16,
    "start_time": "2023-02-15T16:30:51.178Z"
   },
   {
    "duration": 123,
    "start_time": "2023-02-15T16:30:51.670Z"
   },
   {
    "duration": 13,
    "start_time": "2023-02-15T16:30:51.997Z"
   },
   {
    "duration": 419,
    "start_time": "2023-02-15T16:30:52.802Z"
   },
   {
    "duration": 17,
    "start_time": "2023-02-15T16:30:53.224Z"
   },
   {
    "duration": 4,
    "start_time": "2023-02-15T16:30:55.432Z"
   },
   {
    "duration": 10,
    "start_time": "2023-02-15T16:30:55.971Z"
   },
   {
    "duration": 8,
    "start_time": "2023-02-15T16:30:56.502Z"
   },
   {
    "duration": 5,
    "start_time": "2023-02-15T16:30:57.090Z"
   },
   {
    "duration": 10,
    "start_time": "2023-02-15T16:30:57.720Z"
   },
   {
    "duration": 3,
    "start_time": "2023-02-15T16:31:00.863Z"
   },
   {
    "duration": 4,
    "start_time": "2023-02-15T16:31:02.292Z"
   },
   {
    "duration": 3,
    "start_time": "2023-02-15T16:31:03.763Z"
   },
   {
    "duration": 6,
    "start_time": "2023-02-15T16:31:09.830Z"
   },
   {
    "duration": 340,
    "start_time": "2023-02-15T16:32:37.743Z"
   },
   {
    "duration": 16,
    "start_time": "2023-02-15T16:32:40.158Z"
   },
   {
    "duration": 9,
    "start_time": "2023-02-15T16:32:43.741Z"
   },
   {
    "duration": 5,
    "start_time": "2023-02-15T16:32:48.099Z"
   },
   {
    "duration": 7,
    "start_time": "2023-02-15T16:32:50.837Z"
   },
   {
    "duration": 6,
    "start_time": "2023-02-15T16:32:51.096Z"
   },
   {
    "duration": 16,
    "start_time": "2023-02-15T16:32:57.111Z"
   },
   {
    "duration": 421,
    "start_time": "2023-02-15T16:33:08.173Z"
   },
   {
    "duration": 437,
    "start_time": "2023-02-15T16:33:35.556Z"
   },
   {
    "duration": 557,
    "start_time": "2023-02-15T16:33:45.766Z"
   },
   {
    "duration": 425,
    "start_time": "2023-02-15T16:33:57.734Z"
   },
   {
    "duration": 416,
    "start_time": "2023-02-15T16:34:08.030Z"
   },
   {
    "duration": 430,
    "start_time": "2023-02-15T16:34:20.195Z"
   },
   {
    "duration": 369,
    "start_time": "2023-02-15T16:34:29.132Z"
   },
   {
    "duration": 410,
    "start_time": "2023-02-15T16:34:29.556Z"
   },
   {
    "duration": 1300,
    "start_time": "2023-02-15T16:34:34.023Z"
   },
   {
    "duration": 1290,
    "start_time": "2023-02-15T16:34:35.325Z"
   },
   {
    "duration": 1370,
    "start_time": "2023-02-15T16:34:36.618Z"
   },
   {
    "duration": 1250,
    "start_time": "2023-02-15T16:34:37.989Z"
   },
   {
    "duration": 8,
    "start_time": "2023-02-15T16:34:39.241Z"
   },
   {
    "duration": 954,
    "start_time": "2023-02-15T16:35:11.834Z"
   },
   {
    "duration": 1044,
    "start_time": "2023-02-15T16:35:25.154Z"
   },
   {
    "duration": 1099,
    "start_time": "2023-02-15T16:35:36.597Z"
   },
   {
    "duration": 1254,
    "start_time": "2023-02-15T16:35:51.851Z"
   },
   {
    "duration": 6,
    "start_time": "2023-02-15T16:37:28.273Z"
   },
   {
    "duration": 347,
    "start_time": "2023-02-15T16:37:47.857Z"
   },
   {
    "duration": 371,
    "start_time": "2023-02-15T16:38:12.796Z"
   },
   {
    "duration": 8,
    "start_time": "2023-02-15T16:38:17.536Z"
   },
   {
    "duration": 316,
    "start_time": "2023-02-15T16:38:18.228Z"
   },
   {
    "duration": 14,
    "start_time": "2023-02-15T16:39:08.133Z"
   },
   {
    "duration": 6,
    "start_time": "2023-02-15T16:39:14.007Z"
   },
   {
    "duration": 403,
    "start_time": "2023-02-15T16:39:14.650Z"
   },
   {
    "duration": 6,
    "start_time": "2023-02-15T16:39:59.095Z"
   },
   {
    "duration": 345,
    "start_time": "2023-02-15T16:40:00.282Z"
   },
   {
    "duration": 12,
    "start_time": "2023-02-15T16:40:50.861Z"
   },
   {
    "duration": 341,
    "start_time": "2023-02-15T16:40:52.916Z"
   },
   {
    "duration": 82,
    "start_time": "2023-02-15T16:48:11.886Z"
   },
   {
    "duration": 11,
    "start_time": "2023-02-15T16:48:20.532Z"
   },
   {
    "duration": 11,
    "start_time": "2023-02-15T16:48:23.683Z"
   },
   {
    "duration": 3,
    "start_time": "2023-02-15T16:49:03.770Z"
   },
   {
    "duration": 327,
    "start_time": "2023-02-15T16:49:04.625Z"
   },
   {
    "duration": 17,
    "start_time": "2023-02-15T16:49:04.954Z"
   },
   {
    "duration": 135,
    "start_time": "2023-02-15T16:49:05.421Z"
   },
   {
    "duration": 12,
    "start_time": "2023-02-15T16:49:05.650Z"
   },
   {
    "duration": 390,
    "start_time": "2023-02-15T16:49:06.073Z"
   },
   {
    "duration": 16,
    "start_time": "2023-02-15T16:49:06.465Z"
   },
   {
    "duration": 2,
    "start_time": "2023-02-15T16:49:07.466Z"
   },
   {
    "duration": 9,
    "start_time": "2023-02-15T16:49:07.928Z"
   },
   {
    "duration": 8,
    "start_time": "2023-02-15T16:49:08.387Z"
   },
   {
    "duration": 6,
    "start_time": "2023-02-15T16:49:08.813Z"
   },
   {
    "duration": 11,
    "start_time": "2023-02-15T16:49:09.245Z"
   },
   {
    "duration": 3,
    "start_time": "2023-02-15T16:49:10.410Z"
   },
   {
    "duration": 3,
    "start_time": "2023-02-15T16:49:11.504Z"
   },
   {
    "duration": 3,
    "start_time": "2023-02-15T16:49:11.682Z"
   },
   {
    "duration": 6,
    "start_time": "2023-02-15T16:49:12.643Z"
   },
   {
    "duration": 338,
    "start_time": "2023-02-15T16:49:14.083Z"
   },
   {
    "duration": 22,
    "start_time": "2023-02-15T16:49:14.424Z"
   },
   {
    "duration": 9,
    "start_time": "2023-02-15T16:49:14.664Z"
   },
   {
    "duration": 5,
    "start_time": "2023-02-15T16:49:15.446Z"
   },
   {
    "duration": 6,
    "start_time": "2023-02-15T16:49:15.959Z"
   },
   {
    "duration": 4,
    "start_time": "2023-02-15T16:49:16.186Z"
   },
   {
    "duration": 15,
    "start_time": "2023-02-15T16:49:18.845Z"
   },
   {
    "duration": 421,
    "start_time": "2023-02-15T16:49:19.192Z"
   },
   {
    "duration": 567,
    "start_time": "2023-02-15T16:49:19.915Z"
   },
   {
    "duration": 423,
    "start_time": "2023-02-15T16:49:20.545Z"
   },
   {
    "duration": 415,
    "start_time": "2023-02-15T16:49:21.345Z"
   },
   {
    "duration": 423,
    "start_time": "2023-02-15T16:49:22.366Z"
   },
   {
    "duration": 419,
    "start_time": "2023-02-15T16:49:23.541Z"
   },
   {
    "duration": 612,
    "start_time": "2023-02-15T16:49:29.793Z"
   },
   {
    "duration": 454,
    "start_time": "2023-02-15T16:49:30.565Z"
   },
   {
    "duration": 1017,
    "start_time": "2023-02-15T16:49:38.069Z"
   },
   {
    "duration": 1021,
    "start_time": "2023-02-15T16:49:40.572Z"
   },
   {
    "duration": 1002,
    "start_time": "2023-02-15T16:49:42.541Z"
   },
   {
    "duration": 1000,
    "start_time": "2023-02-15T16:49:44.286Z"
   },
   {
    "duration": 10,
    "start_time": "2023-02-15T16:50:43.064Z"
   },
   {
    "duration": 35,
    "start_time": "2023-02-15T16:50:54.634Z"
   },
   {
    "duration": 79,
    "start_time": "2023-02-15T16:51:35.218Z"
   },
   {
    "duration": 1116,
    "start_time": "2023-02-15T16:51:42.581Z"
   },
   {
    "duration": 4,
    "start_time": "2023-02-15T16:51:54.464Z"
   },
   {
    "duration": 12,
    "start_time": "2023-02-15T16:51:57.173Z"
   },
   {
    "duration": 936,
    "start_time": "2023-02-15T16:52:17.646Z"
   },
   {
    "duration": 99,
    "start_time": "2023-02-15T16:54:39.551Z"
   },
   {
    "duration": 87,
    "start_time": "2023-02-15T16:55:02.599Z"
   },
   {
    "duration": 108,
    "start_time": "2023-02-15T16:55:22.357Z"
   },
   {
    "duration": 10,
    "start_time": "2023-02-15T16:55:38.621Z"
   },
   {
    "duration": 6,
    "start_time": "2023-02-15T16:55:50.574Z"
   },
   {
    "duration": 24,
    "start_time": "2023-02-15T16:56:06.701Z"
   },
   {
    "duration": 94,
    "start_time": "2023-02-15T16:56:20.783Z"
   },
   {
    "duration": 65,
    "start_time": "2023-02-15T16:56:24.103Z"
   },
   {
    "duration": 78,
    "start_time": "2023-02-15T16:57:02.654Z"
   },
   {
    "duration": 73,
    "start_time": "2023-02-15T16:57:05.980Z"
   },
   {
    "duration": 11,
    "start_time": "2023-02-15T16:57:09.175Z"
   },
   {
    "duration": 41,
    "start_time": "2023-02-15T16:57:26.050Z"
   },
   {
    "duration": 25,
    "start_time": "2023-02-15T16:57:34.843Z"
   },
   {
    "duration": 7,
    "start_time": "2023-02-15T16:57:58.150Z"
   },
   {
    "duration": 11,
    "start_time": "2023-02-15T16:57:58.723Z"
   },
   {
    "duration": 40,
    "start_time": "2023-02-15T17:03:19.308Z"
   },
   {
    "duration": 967,
    "start_time": "2023-02-15T17:03:28.514Z"
   },
   {
    "duration": 970,
    "start_time": "2023-02-15T17:03:45.150Z"
   },
   {
    "duration": 4,
    "start_time": "2023-02-15T17:14:30.845Z"
   },
   {
    "duration": 30,
    "start_time": "2023-02-15T17:27:14.886Z"
   },
   {
    "duration": 23,
    "start_time": "2023-02-15T17:27:33.492Z"
   },
   {
    "duration": 27,
    "start_time": "2023-02-15T17:27:41.378Z"
   },
   {
    "duration": 9,
    "start_time": "2023-02-15T17:27:56.463Z"
   },
   {
    "duration": 10,
    "start_time": "2023-02-15T17:28:06.921Z"
   },
   {
    "duration": 4,
    "start_time": "2023-02-15T17:28:12.015Z"
   },
   {
    "duration": 14,
    "start_time": "2023-02-15T17:28:42.393Z"
   },
   {
    "duration": 12,
    "start_time": "2023-02-15T17:28:55.644Z"
   },
   {
    "duration": 4,
    "start_time": "2023-02-15T17:31:00.408Z"
   },
   {
    "duration": 330,
    "start_time": "2023-02-15T17:31:01.353Z"
   },
   {
    "duration": 27,
    "start_time": "2023-02-15T17:31:01.685Z"
   },
   {
    "duration": 122,
    "start_time": "2023-02-15T17:31:02.164Z"
   },
   {
    "duration": 19,
    "start_time": "2023-02-15T17:31:02.444Z"
   },
   {
    "duration": 423,
    "start_time": "2023-02-15T17:31:02.980Z"
   },
   {
    "duration": 18,
    "start_time": "2023-02-15T17:31:03.405Z"
   },
   {
    "duration": 2,
    "start_time": "2023-02-15T17:31:05.985Z"
   },
   {
    "duration": 11,
    "start_time": "2023-02-15T17:31:06.524Z"
   },
   {
    "duration": 7,
    "start_time": "2023-02-15T17:31:07.334Z"
   },
   {
    "duration": 5,
    "start_time": "2023-02-15T17:31:07.988Z"
   },
   {
    "duration": 12,
    "start_time": "2023-02-15T17:31:10.641Z"
   },
   {
    "duration": 2,
    "start_time": "2023-02-15T17:31:14.383Z"
   },
   {
    "duration": 3,
    "start_time": "2023-02-15T17:31:16.019Z"
   },
   {
    "duration": 4,
    "start_time": "2023-02-15T17:31:18.513Z"
   },
   {
    "duration": 16,
    "start_time": "2023-02-15T17:31:28.793Z"
   },
   {
    "duration": 11,
    "start_time": "2023-02-15T17:31:41.315Z"
   },
   {
    "duration": 5,
    "start_time": "2023-02-15T17:32:22.950Z"
   },
   {
    "duration": 330,
    "start_time": "2023-02-15T17:33:11.836Z"
   },
   {
    "duration": 16,
    "start_time": "2023-02-15T17:33:12.337Z"
   },
   {
    "duration": 11,
    "start_time": "2023-02-15T17:33:12.951Z"
   },
   {
    "duration": 5,
    "start_time": "2023-02-15T17:33:13.389Z"
   },
   {
    "duration": 14,
    "start_time": "2023-02-15T17:33:13.597Z"
   },
   {
    "duration": 4,
    "start_time": "2023-02-15T17:33:23.304Z"
   },
   {
    "duration": 334,
    "start_time": "2023-02-15T17:33:23.821Z"
   },
   {
    "duration": 16,
    "start_time": "2023-02-15T17:33:24.157Z"
   },
   {
    "duration": 120,
    "start_time": "2023-02-15T17:33:24.393Z"
   },
   {
    "duration": 13,
    "start_time": "2023-02-15T17:33:24.619Z"
   },
   {
    "duration": 407,
    "start_time": "2023-02-15T17:33:24.990Z"
   },
   {
    "duration": 25,
    "start_time": "2023-02-15T17:33:25.399Z"
   },
   {
    "duration": 2,
    "start_time": "2023-02-15T17:33:26.485Z"
   },
   {
    "duration": 8,
    "start_time": "2023-02-15T17:33:26.889Z"
   },
   {
    "duration": 8,
    "start_time": "2023-02-15T17:33:27.303Z"
   },
   {
    "duration": 5,
    "start_time": "2023-02-15T17:33:27.756Z"
   },
   {
    "duration": 10,
    "start_time": "2023-02-15T17:33:28.238Z"
   },
   {
    "duration": 3,
    "start_time": "2023-02-15T17:33:30.135Z"
   },
   {
    "duration": 3,
    "start_time": "2023-02-15T17:33:30.373Z"
   },
   {
    "duration": 3,
    "start_time": "2023-02-15T17:33:30.503Z"
   },
   {
    "duration": 7,
    "start_time": "2023-02-15T17:33:31.312Z"
   },
   {
    "duration": 339,
    "start_time": "2023-02-15T17:33:33.184Z"
   },
   {
    "duration": 14,
    "start_time": "2023-02-15T17:33:35.366Z"
   },
   {
    "duration": 10,
    "start_time": "2023-02-15T17:33:36.937Z"
   },
   {
    "duration": 5,
    "start_time": "2023-02-15T17:33:38.974Z"
   },
   {
    "duration": 5,
    "start_time": "2023-02-15T17:33:39.335Z"
   },
   {
    "duration": 7,
    "start_time": "2023-02-15T17:33:43.954Z"
   },
   {
    "duration": 4,
    "start_time": "2023-02-15T17:33:44.135Z"
   },
   {
    "duration": 16,
    "start_time": "2023-02-15T17:33:51.044Z"
   },
   {
    "duration": 405,
    "start_time": "2023-02-15T17:33:51.431Z"
   },
   {
    "duration": 565,
    "start_time": "2023-02-15T17:33:52.178Z"
   },
   {
    "duration": 446,
    "start_time": "2023-02-15T17:33:52.745Z"
   },
   {
    "duration": 422,
    "start_time": "2023-02-15T17:33:53.193Z"
   },
   {
    "duration": 432,
    "start_time": "2023-02-15T17:33:53.617Z"
   },
   {
    "duration": 569,
    "start_time": "2023-02-15T17:33:54.051Z"
   },
   {
    "duration": 372,
    "start_time": "2023-02-15T17:33:54.622Z"
   },
   {
    "duration": 425,
    "start_time": "2023-02-15T17:33:54.996Z"
   },
   {
    "duration": 1113,
    "start_time": "2023-02-15T17:33:55.964Z"
   },
   {
    "duration": 1037,
    "start_time": "2023-02-15T17:33:57.079Z"
   },
   {
    "duration": 968,
    "start_time": "2023-02-15T17:33:58.118Z"
   },
   {
    "duration": 1002,
    "start_time": "2023-02-15T17:33:59.088Z"
   },
   {
    "duration": 45,
    "start_time": "2023-02-15T17:34:00.092Z"
   },
   {
    "duration": 4,
    "start_time": "2023-02-15T17:34:00.139Z"
   },
   {
    "duration": 4,
    "start_time": "2023-02-15T17:34:02.541Z"
   },
   {
    "duration": 29,
    "start_time": "2023-02-15T17:34:12.241Z"
   },
   {
    "duration": 1472,
    "start_time": "2023-02-15T17:35:12.142Z"
   },
   {
    "duration": 1366,
    "start_time": "2023-02-15T17:35:18.651Z"
   },
   {
    "duration": 1795,
    "start_time": "2023-02-15T17:36:23.115Z"
   },
   {
    "duration": 1178,
    "start_time": "2023-02-15T17:36:31.635Z"
   },
   {
    "duration": 9,
    "start_time": "2023-02-15T17:36:37.660Z"
   },
   {
    "duration": 5,
    "start_time": "2023-02-15T17:36:44.299Z"
   },
   {
    "duration": 1275,
    "start_time": "2023-02-15T17:36:54.235Z"
   },
   {
    "duration": 1435,
    "start_time": "2023-02-15T17:37:03.076Z"
   },
   {
    "duration": 550,
    "start_time": "2023-02-15T17:37:14.067Z"
   },
   {
    "duration": 686,
    "start_time": "2023-02-15T17:37:15.329Z"
   },
   {
    "duration": 3,
    "start_time": "2023-02-15T17:37:17.149Z"
   },
   {
    "duration": 11249,
    "start_time": "2023-02-15T17:39:19.415Z"
   },
   {
    "duration": 11193,
    "start_time": "2023-02-15T17:39:30.666Z"
   },
   {
    "duration": 3,
    "start_time": "2023-02-15T17:39:41.861Z"
   },
   {
    "duration": 14102,
    "start_time": "2023-02-15T17:39:55.020Z"
   },
   {
    "duration": 10897,
    "start_time": "2023-02-15T17:40:32.711Z"
   },
   {
    "duration": 11089,
    "start_time": "2023-02-15T17:40:43.610Z"
   },
   {
    "duration": 3,
    "start_time": "2023-02-15T17:40:54.701Z"
   },
   {
    "duration": 1436,
    "start_time": "2023-02-15T17:42:59.241Z"
   },
   {
    "duration": 320,
    "start_time": "2023-02-15T17:43:00.679Z"
   },
   {
    "duration": 24,
    "start_time": "2023-02-15T17:43:01.000Z"
   },
   {
    "duration": 137,
    "start_time": "2023-02-15T17:43:01.027Z"
   },
   {
    "duration": 12,
    "start_time": "2023-02-15T17:43:01.167Z"
   },
   {
    "duration": 401,
    "start_time": "2023-02-15T17:43:01.181Z"
   },
   {
    "duration": 16,
    "start_time": "2023-02-15T17:43:01.583Z"
   },
   {
    "duration": 3,
    "start_time": "2023-02-15T17:43:01.610Z"
   },
   {
    "duration": 43,
    "start_time": "2023-02-15T17:43:01.614Z"
   },
   {
    "duration": 17,
    "start_time": "2023-02-15T17:43:01.658Z"
   },
   {
    "duration": 14,
    "start_time": "2023-02-15T17:43:01.676Z"
   },
   {
    "duration": 44,
    "start_time": "2023-02-15T17:43:01.691Z"
   },
   {
    "duration": 12,
    "start_time": "2023-02-15T17:43:01.737Z"
   },
   {
    "duration": 19,
    "start_time": "2023-02-15T17:43:01.752Z"
   },
   {
    "duration": 7,
    "start_time": "2023-02-15T17:43:01.772Z"
   },
   {
    "duration": 26,
    "start_time": "2023-02-15T17:43:01.780Z"
   },
   {
    "duration": 342,
    "start_time": "2023-02-15T17:43:01.808Z"
   },
   {
    "duration": 15,
    "start_time": "2023-02-15T17:43:02.151Z"
   },
   {
    "duration": 14,
    "start_time": "2023-02-15T17:43:02.168Z"
   },
   {
    "duration": 9,
    "start_time": "2023-02-15T17:43:02.184Z"
   },
   {
    "duration": 12,
    "start_time": "2023-02-15T17:43:02.211Z"
   },
   {
    "duration": 39,
    "start_time": "2023-02-15T17:43:02.225Z"
   },
   {
    "duration": 9,
    "start_time": "2023-02-15T17:43:02.266Z"
   },
   {
    "duration": 26,
    "start_time": "2023-02-15T17:43:02.276Z"
   },
   {
    "duration": 437,
    "start_time": "2023-02-15T17:43:02.304Z"
   },
   {
    "duration": 517,
    "start_time": "2023-02-15T17:43:02.743Z"
   },
   {
    "duration": 439,
    "start_time": "2023-02-15T17:43:03.262Z"
   },
   {
    "duration": 423,
    "start_time": "2023-02-15T17:43:03.703Z"
   },
   {
    "duration": 511,
    "start_time": "2023-02-15T17:43:04.128Z"
   },
   {
    "duration": 471,
    "start_time": "2023-02-15T17:43:04.641Z"
   },
   {
    "duration": 491,
    "start_time": "2023-02-15T17:43:05.113Z"
   },
   {
    "duration": 506,
    "start_time": "2023-02-15T17:43:05.606Z"
   },
   {
    "duration": 970,
    "start_time": "2023-02-15T17:43:06.114Z"
   },
   {
    "duration": 1008,
    "start_time": "2023-02-15T17:43:07.086Z"
   },
   {
    "duration": 1099,
    "start_time": "2023-02-15T17:43:08.095Z"
   },
   {
    "duration": 986,
    "start_time": "2023-02-15T17:43:09.195Z"
   },
   {
    "duration": 50,
    "start_time": "2023-02-15T17:43:10.182Z"
   },
   {
    "duration": 4,
    "start_time": "2023-02-15T17:43:10.234Z"
   },
   {
    "duration": 5,
    "start_time": "2023-02-15T17:43:10.240Z"
   },
   {
    "duration": 35,
    "start_time": "2023-02-15T17:43:10.246Z"
   },
   {
    "duration": 536,
    "start_time": "2023-02-15T17:43:10.284Z"
   },
   {
    "duration": 797,
    "start_time": "2023-02-15T17:43:10.822Z"
   },
   {
    "duration": 8,
    "start_time": "2023-02-15T17:43:11.710Z"
   },
   {
    "duration": 11201,
    "start_time": "2023-02-15T17:43:11.720Z"
   },
   {
    "duration": 11182,
    "start_time": "2023-02-15T17:43:22.923Z"
   },
   {
    "duration": 4,
    "start_time": "2023-02-15T17:43:34.107Z"
   },
   {
    "duration": 5975976,
    "start_time": "2023-02-15T17:43:34.113Z"
   },
   {
    "duration": 6181769,
    "start_time": "2023-02-15T19:23:10.091Z"
   },
   {
    "duration": 3,
    "start_time": "2023-02-15T21:06:11.862Z"
   },
   {
    "duration": 132,
    "start_time": "2023-02-15T21:06:11.867Z"
   },
   {
    "duration": 0,
    "start_time": "2023-02-15T21:06:12.001Z"
   },
   {
    "duration": 0,
    "start_time": "2023-02-15T21:06:12.003Z"
   },
   {
    "duration": 3,
    "start_time": "2023-02-16T05:01:17.254Z"
   },
   {
    "duration": 4,
    "start_time": "2023-02-16T05:01:32.863Z"
   },
   {
    "duration": 1257,
    "start_time": "2023-02-16T05:01:42.464Z"
   },
   {
    "duration": 130,
    "start_time": "2023-02-16T05:01:54.949Z"
   },
   {
    "duration": 1479,
    "start_time": "2023-02-16T05:02:39.895Z"
   },
   {
    "duration": 329,
    "start_time": "2023-02-16T05:02:41.376Z"
   },
   {
    "duration": 17,
    "start_time": "2023-02-16T05:02:41.706Z"
   },
   {
    "duration": 117,
    "start_time": "2023-02-16T05:02:41.725Z"
   },
   {
    "duration": 11,
    "start_time": "2023-02-16T05:02:41.843Z"
   },
   {
    "duration": 372,
    "start_time": "2023-02-16T05:02:41.856Z"
   },
   {
    "duration": 16,
    "start_time": "2023-02-16T05:02:42.229Z"
   },
   {
    "duration": 3,
    "start_time": "2023-02-16T05:02:42.246Z"
   },
   {
    "duration": 13,
    "start_time": "2023-02-16T05:02:42.250Z"
   },
   {
    "duration": 7,
    "start_time": "2023-02-16T05:02:42.265Z"
   },
   {
    "duration": 4,
    "start_time": "2023-02-16T05:02:42.273Z"
   },
   {
    "duration": 41,
    "start_time": "2023-02-16T05:02:42.278Z"
   },
   {
    "duration": 3,
    "start_time": "2023-02-16T05:02:42.320Z"
   },
   {
    "duration": 6,
    "start_time": "2023-02-16T05:02:42.324Z"
   },
   {
    "duration": 5,
    "start_time": "2023-02-16T05:02:42.332Z"
   },
   {
    "duration": 10,
    "start_time": "2023-02-16T05:02:42.338Z"
   },
   {
    "duration": 342,
    "start_time": "2023-02-16T05:02:42.349Z"
   },
   {
    "duration": 18,
    "start_time": "2023-02-16T05:02:42.692Z"
   },
   {
    "duration": 7,
    "start_time": "2023-02-16T05:02:42.712Z"
   },
   {
    "duration": 7,
    "start_time": "2023-02-16T05:02:42.721Z"
   },
   {
    "duration": 7,
    "start_time": "2023-02-16T05:02:42.730Z"
   },
   {
    "duration": 7,
    "start_time": "2023-02-16T05:02:42.739Z"
   },
   {
    "duration": 4,
    "start_time": "2023-02-16T05:02:42.747Z"
   },
   {
    "duration": 15,
    "start_time": "2023-02-16T05:02:42.752Z"
   },
   {
    "duration": 453,
    "start_time": "2023-02-16T05:02:42.768Z"
   },
   {
    "duration": 468,
    "start_time": "2023-02-16T05:02:43.223Z"
   },
   {
    "duration": 411,
    "start_time": "2023-02-16T05:02:43.693Z"
   },
   {
    "duration": 403,
    "start_time": "2023-02-16T05:02:44.109Z"
   },
   {
    "duration": 488,
    "start_time": "2023-02-16T05:02:44.513Z"
   },
   {
    "duration": 406,
    "start_time": "2023-02-16T05:02:45.002Z"
   },
   {
    "duration": 423,
    "start_time": "2023-02-16T05:02:45.409Z"
   },
   {
    "duration": 378,
    "start_time": "2023-02-16T05:02:45.834Z"
   },
   {
    "duration": 968,
    "start_time": "2023-02-16T05:02:46.213Z"
   },
   {
    "duration": 1003,
    "start_time": "2023-02-16T05:02:47.183Z"
   },
   {
    "duration": 992,
    "start_time": "2023-02-16T05:02:48.187Z"
   },
   {
    "duration": 995,
    "start_time": "2023-02-16T05:02:49.181Z"
   },
   {
    "duration": 48,
    "start_time": "2023-02-16T05:02:50.178Z"
   },
   {
    "duration": 4,
    "start_time": "2023-02-16T05:02:50.227Z"
   },
   {
    "duration": 8,
    "start_time": "2023-02-16T05:02:50.232Z"
   },
   {
    "duration": 21,
    "start_time": "2023-02-16T05:02:50.241Z"
   },
   {
    "duration": 547,
    "start_time": "2023-02-16T05:02:50.263Z"
   },
   {
    "duration": 606,
    "start_time": "2023-02-16T05:02:50.812Z"
   },
   {
    "duration": 93,
    "start_time": "2023-02-16T05:02:51.419Z"
   },
   {
    "duration": 10816,
    "start_time": "2023-02-16T05:02:51.514Z"
   },
   {
    "duration": 10852,
    "start_time": "2023-02-16T05:03:02.332Z"
   },
   {
    "duration": 3,
    "start_time": "2023-02-16T05:03:13.186Z"
   },
   {
    "duration": 797906,
    "start_time": "2023-02-16T05:03:13.191Z"
   },
   {
    "duration": 822146,
    "start_time": "2023-02-16T05:16:31.098Z"
   },
   {
    "duration": 3,
    "start_time": "2023-02-16T05:30:13.246Z"
   },
   {
    "duration": 131,
    "start_time": "2023-02-16T05:30:13.250Z"
   },
   {
    "duration": 0,
    "start_time": "2023-02-16T05:30:13.382Z"
   },
   {
    "duration": 0,
    "start_time": "2023-02-16T05:30:13.383Z"
   },
   {
    "duration": 3117,
    "start_time": "2023-02-16T07:45:38.910Z"
   },
   {
    "duration": 46,
    "start_time": "2023-02-16T07:47:44.584Z"
   },
   {
    "duration": 3147,
    "start_time": "2023-02-16T07:48:54.538Z"
   },
   {
    "duration": 3143,
    "start_time": "2023-02-16T07:49:07.011Z"
   },
   {
    "duration": 3267,
    "start_time": "2023-02-16T07:49:29.906Z"
   },
   {
    "duration": 47,
    "start_time": "2023-02-16T07:49:37.317Z"
   },
   {
    "duration": 43,
    "start_time": "2023-02-16T07:49:41.078Z"
   },
   {
    "duration": 3134,
    "start_time": "2023-02-16T07:50:35.158Z"
   },
   {
    "duration": 43,
    "start_time": "2023-02-16T07:50:59.953Z"
   },
   {
    "duration": 3,
    "start_time": "2023-02-16T07:51:45.019Z"
   },
   {
    "duration": 3,
    "start_time": "2023-02-16T07:51:49.086Z"
   },
   {
    "duration": 4,
    "start_time": "2023-02-16T07:54:20.521Z"
   },
   {
    "duration": 8,
    "start_time": "2023-02-16T07:57:53.835Z"
   },
   {
    "duration": 12,
    "start_time": "2023-02-16T08:00:17.100Z"
   },
   {
    "duration": 6,
    "start_time": "2023-02-16T08:00:33.822Z"
   },
   {
    "duration": 6,
    "start_time": "2023-02-16T08:00:49.461Z"
   },
   {
    "duration": 7,
    "start_time": "2023-02-16T08:00:53.447Z"
   },
   {
    "duration": 10,
    "start_time": "2023-02-16T08:01:42.972Z"
   },
   {
    "duration": 7,
    "start_time": "2023-02-16T08:02:07.383Z"
   },
   {
    "duration": 12,
    "start_time": "2023-02-16T08:02:26.737Z"
   },
   {
    "duration": 4,
    "start_time": "2023-02-16T08:02:34.430Z"
   },
   {
    "duration": 1466,
    "start_time": "2023-02-16T08:12:33.794Z"
   },
   {
    "duration": 330,
    "start_time": "2023-02-16T08:12:35.262Z"
   },
   {
    "duration": 23,
    "start_time": "2023-02-16T08:12:35.593Z"
   },
   {
    "duration": 120,
    "start_time": "2023-02-16T08:12:35.618Z"
   },
   {
    "duration": 11,
    "start_time": "2023-02-16T08:12:35.740Z"
   },
   {
    "duration": 390,
    "start_time": "2023-02-16T08:12:35.752Z"
   },
   {
    "duration": 16,
    "start_time": "2023-02-16T08:12:36.143Z"
   },
   {
    "duration": 25,
    "start_time": "2023-02-16T08:12:36.161Z"
   },
   {
    "duration": 18,
    "start_time": "2023-02-16T08:12:36.187Z"
   },
   {
    "duration": 22,
    "start_time": "2023-02-16T08:12:36.208Z"
   },
   {
    "duration": 5,
    "start_time": "2023-02-16T08:12:36.232Z"
   },
   {
    "duration": 32,
    "start_time": "2023-02-16T08:12:36.239Z"
   },
   {
    "duration": 3,
    "start_time": "2023-02-16T08:12:36.273Z"
   },
   {
    "duration": 7,
    "start_time": "2023-02-16T08:12:36.278Z"
   },
   {
    "duration": 4,
    "start_time": "2023-02-16T08:12:36.287Z"
   },
   {
    "duration": 12,
    "start_time": "2023-02-16T08:12:36.293Z"
   },
   {
    "duration": 348,
    "start_time": "2023-02-16T08:12:36.307Z"
   },
   {
    "duration": 17,
    "start_time": "2023-02-16T08:12:36.657Z"
   },
   {
    "duration": 28,
    "start_time": "2023-02-16T08:12:36.676Z"
   },
   {
    "duration": 20,
    "start_time": "2023-02-16T08:12:36.706Z"
   },
   {
    "duration": 34,
    "start_time": "2023-02-16T08:12:36.728Z"
   },
   {
    "duration": 14,
    "start_time": "2023-02-16T08:12:36.764Z"
   },
   {
    "duration": 32,
    "start_time": "2023-02-16T08:12:36.780Z"
   },
   {
    "duration": 23,
    "start_time": "2023-02-16T08:12:36.814Z"
   },
   {
    "duration": 441,
    "start_time": "2023-02-16T08:12:36.839Z"
   },
   {
    "duration": 492,
    "start_time": "2023-02-16T08:12:37.282Z"
   },
   {
    "duration": 432,
    "start_time": "2023-02-16T08:12:37.775Z"
   },
   {
    "duration": 417,
    "start_time": "2023-02-16T08:12:38.212Z"
   },
   {
    "duration": 507,
    "start_time": "2023-02-16T08:12:38.630Z"
   },
   {
    "duration": 437,
    "start_time": "2023-02-16T08:12:39.138Z"
   },
   {
    "duration": 415,
    "start_time": "2023-02-16T08:12:39.576Z"
   },
   {
    "duration": 413,
    "start_time": "2023-02-16T08:12:39.993Z"
   },
   {
    "duration": 978,
    "start_time": "2023-02-16T08:12:40.407Z"
   },
   {
    "duration": 1017,
    "start_time": "2023-02-16T08:12:41.386Z"
   },
   {
    "duration": 1088,
    "start_time": "2023-02-16T08:12:42.405Z"
   },
   {
    "duration": 988,
    "start_time": "2023-02-16T08:12:43.495Z"
   },
   {
    "duration": 52,
    "start_time": "2023-02-16T08:12:44.484Z"
   },
   {
    "duration": 4,
    "start_time": "2023-02-16T08:12:44.537Z"
   },
   {
    "duration": 6,
    "start_time": "2023-02-16T08:12:44.543Z"
   },
   {
    "duration": 22,
    "start_time": "2023-02-16T08:12:44.550Z"
   },
   {
    "duration": 645,
    "start_time": "2023-02-16T08:12:44.574Z"
   },
   {
    "duration": 798,
    "start_time": "2023-02-16T08:12:45.220Z"
   },
   {
    "duration": 190,
    "start_time": "2023-02-16T08:12:46.020Z"
   },
   {
    "duration": 11002,
    "start_time": "2023-02-16T08:12:46.212Z"
   },
   {
    "duration": 11169,
    "start_time": "2023-02-16T08:12:57.216Z"
   },
   {
    "duration": 3,
    "start_time": "2023-02-16T08:13:08.387Z"
   },
   {
    "duration": 825600,
    "start_time": "2023-02-16T08:13:08.392Z"
   },
   {
    "duration": 849232,
    "start_time": "2023-02-16T08:26:53.994Z"
   },
   {
    "duration": 4,
    "start_time": "2023-02-16T08:41:03.227Z"
   },
   {
    "duration": 3199,
    "start_time": "2023-02-16T08:41:03.233Z"
   },
   {
    "duration": 43,
    "start_time": "2023-02-16T08:41:06.434Z"
   },
   {
    "duration": 3,
    "start_time": "2023-02-16T08:41:06.479Z"
   },
   {
    "duration": 10,
    "start_time": "2023-02-16T08:41:06.483Z"
   },
   {
    "duration": 14,
    "start_time": "2023-02-16T08:41:06.510Z"
   },
   {
    "duration": 4,
    "start_time": "2023-02-16T08:41:06.526Z"
   },
   {
    "duration": 259,
    "start_time": "2023-02-16T18:35:04.969Z"
   },
   {
    "duration": 1658,
    "start_time": "2023-02-16T18:35:14.519Z"
   },
   {
    "duration": 1686,
    "start_time": "2023-02-16T18:35:16.179Z"
   },
   {
    "duration": 20,
    "start_time": "2023-02-16T18:35:17.867Z"
   },
   {
    "duration": 212,
    "start_time": "2023-02-16T18:35:17.890Z"
   },
   {
    "duration": 16,
    "start_time": "2023-02-16T18:35:18.104Z"
   },
   {
    "duration": 686,
    "start_time": "2023-02-16T18:35:18.122Z"
   },
   {
    "duration": 18,
    "start_time": "2023-02-16T18:35:18.810Z"
   },
   {
    "duration": 3,
    "start_time": "2023-02-16T18:35:18.829Z"
   },
   {
    "duration": 22,
    "start_time": "2023-02-16T18:35:18.834Z"
   },
   {
    "duration": 7,
    "start_time": "2023-02-16T18:35:18.857Z"
   },
   {
    "duration": 5,
    "start_time": "2023-02-16T18:35:18.890Z"
   },
   {
    "duration": 16,
    "start_time": "2023-02-16T18:35:19.267Z"
   },
   {
    "duration": 3,
    "start_time": "2023-02-16T18:35:20.606Z"
   },
   {
    "duration": 3,
    "start_time": "2023-02-16T18:35:20.783Z"
   },
   {
    "duration": 5,
    "start_time": "2023-02-16T18:35:20.986Z"
   },
   {
    "duration": 6,
    "start_time": "2023-02-16T18:35:22.185Z"
   },
   {
    "duration": 321,
    "start_time": "2023-02-16T18:35:23.933Z"
   },
   {
    "duration": 18,
    "start_time": "2023-02-16T18:35:24.256Z"
   },
   {
    "duration": 9,
    "start_time": "2023-02-16T18:35:24.531Z"
   },
   {
    "duration": 6,
    "start_time": "2023-02-16T18:35:24.975Z"
   },
   {
    "duration": 6,
    "start_time": "2023-02-16T18:35:25.129Z"
   },
   {
    "duration": 7,
    "start_time": "2023-02-16T18:35:26.176Z"
   },
   {
    "duration": 3,
    "start_time": "2023-02-16T18:35:26.392Z"
   },
   {
    "duration": 15,
    "start_time": "2023-02-16T18:35:28.524Z"
   },
   {
    "duration": 568,
    "start_time": "2023-02-16T18:35:28.953Z"
   },
   {
    "duration": 488,
    "start_time": "2023-02-16T18:35:31.031Z"
   },
   {
    "duration": 508,
    "start_time": "2023-02-16T18:35:31.522Z"
   },
   {
    "duration": 476,
    "start_time": "2023-02-16T18:35:32.031Z"
   },
   {
    "duration": 570,
    "start_time": "2023-02-16T18:35:32.509Z"
   },
   {
    "duration": 484,
    "start_time": "2023-02-16T18:35:33.081Z"
   },
   {
    "duration": 383,
    "start_time": "2023-02-16T18:35:34.684Z"
   },
   {
    "duration": 435,
    "start_time": "2023-02-16T18:35:35.160Z"
   },
   {
    "duration": 72,
    "start_time": "2023-02-16T18:35:44.594Z"
   },
   {
    "duration": 6,
    "start_time": "2023-02-16T18:35:53.517Z"
   },
   {
    "duration": 5,
    "start_time": "2023-02-16T18:35:59.452Z"
   },
   {
    "duration": 10,
    "start_time": "2023-02-16T18:36:20.952Z"
   },
   {
    "duration": 410,
    "start_time": "2023-02-16T18:36:42.830Z"
   },
   {
    "duration": 487,
    "start_time": "2023-02-16T18:37:27.229Z"
   },
   {
    "duration": 5,
    "start_time": "2023-02-16T18:43:32.293Z"
   },
   {
    "duration": 5,
    "start_time": "2023-02-16T18:44:33.868Z"
   },
   {
    "duration": 4,
    "start_time": "2023-02-16T18:45:24.170Z"
   },
   {
    "duration": 4,
    "start_time": "2023-02-16T18:46:14.814Z"
   },
   {
    "duration": 7,
    "start_time": "2023-02-16T18:46:44.512Z"
   },
   {
    "duration": 1026,
    "start_time": "2023-02-16T18:47:47.509Z"
   },
   {
    "duration": 52,
    "start_time": "2023-02-16T18:48:25.053Z"
   },
   {
    "duration": 1137,
    "start_time": "2023-02-16T18:48:30.530Z"
   },
   {
    "duration": 3,
    "start_time": "2023-02-16T18:49:42.878Z"
   },
   {
    "duration": 324,
    "start_time": "2023-02-16T18:49:43.789Z"
   },
   {
    "duration": 119,
    "start_time": "2023-02-16T18:49:44.115Z"
   },
   {
    "duration": 125,
    "start_time": "2023-02-16T18:49:44.361Z"
   },
   {
    "duration": 12,
    "start_time": "2023-02-16T18:49:44.542Z"
   },
   {
    "duration": 434,
    "start_time": "2023-02-16T18:49:44.908Z"
   },
   {
    "duration": 24,
    "start_time": "2023-02-16T18:49:45.344Z"
   },
   {
    "duration": 3,
    "start_time": "2023-02-16T18:49:46.290Z"
   },
   {
    "duration": 11,
    "start_time": "2023-02-16T18:49:46.588Z"
   },
   {
    "duration": 8,
    "start_time": "2023-02-16T18:49:46.909Z"
   },
   {
    "duration": 5,
    "start_time": "2023-02-16T18:49:47.209Z"
   },
   {
    "duration": 16,
    "start_time": "2023-02-16T18:49:47.555Z"
   },
   {
    "duration": 2,
    "start_time": "2023-02-16T18:49:48.853Z"
   },
   {
    "duration": 3,
    "start_time": "2023-02-16T18:49:49.077Z"
   },
   {
    "duration": 3,
    "start_time": "2023-02-16T18:49:49.240Z"
   },
   {
    "duration": 6,
    "start_time": "2023-02-16T18:49:50.415Z"
   },
   {
    "duration": 283,
    "start_time": "2023-02-16T18:49:52.560Z"
   },
   {
    "duration": 15,
    "start_time": "2023-02-16T18:49:52.845Z"
   },
   {
    "duration": 9,
    "start_time": "2023-02-16T18:49:53.160Z"
   },
   {
    "duration": 6,
    "start_time": "2023-02-16T18:49:53.633Z"
   },
   {
    "duration": 6,
    "start_time": "2023-02-16T18:49:53.917Z"
   },
   {
    "duration": 7,
    "start_time": "2023-02-16T18:49:54.879Z"
   },
   {
    "duration": 5,
    "start_time": "2023-02-16T18:49:55.039Z"
   },
   {
    "duration": 16,
    "start_time": "2023-02-16T18:49:57.002Z"
   },
   {
    "duration": 514,
    "start_time": "2023-02-16T18:49:57.412Z"
   },
   {
    "duration": 461,
    "start_time": "2023-02-16T18:49:58.671Z"
   },
   {
    "duration": 494,
    "start_time": "2023-02-16T18:49:59.332Z"
   },
   {
    "duration": 579,
    "start_time": "2023-02-16T18:49:59.829Z"
   },
   {
    "duration": 470,
    "start_time": "2023-02-16T18:50:00.410Z"
   },
   {
    "duration": 480,
    "start_time": "2023-02-16T18:50:00.882Z"
   },
   {
    "duration": 440,
    "start_time": "2023-02-16T18:50:01.413Z"
   },
   {
    "duration": 416,
    "start_time": "2023-02-16T18:50:01.855Z"
   },
   {
    "duration": 7,
    "start_time": "2023-02-16T18:50:04.863Z"
   },
   {
    "duration": 1022,
    "start_time": "2023-02-16T18:50:05.642Z"
   },
   {
    "duration": 46,
    "start_time": "2023-02-16T18:50:09.205Z"
   },
   {
    "duration": 1023,
    "start_time": "2023-02-16T18:50:12.515Z"
   },
   {
    "duration": 71,
    "start_time": "2023-02-16T18:52:35.072Z"
   },
   {
    "duration": 4,
    "start_time": "2023-02-16T18:53:32.659Z"
   },
   {
    "duration": 8,
    "start_time": "2023-02-16T18:53:43.430Z"
   },
   {
    "duration": 1167,
    "start_time": "2023-02-16T18:53:44.980Z"
   },
   {
    "duration": 9,
    "start_time": "2023-02-16T18:54:29.401Z"
   },
   {
    "duration": 1026,
    "start_time": "2023-02-16T18:54:30.324Z"
   },
   {
    "duration": 6,
    "start_time": "2023-02-16T18:54:40.266Z"
   },
   {
    "duration": 117,
    "start_time": "2023-02-16T18:55:16.192Z"
   },
   {
    "duration": 1548,
    "start_time": "2023-02-16T18:55:47.264Z"
   },
   {
    "duration": 301,
    "start_time": "2023-02-16T18:55:48.814Z"
   },
   {
    "duration": 17,
    "start_time": "2023-02-16T18:55:49.117Z"
   },
   {
    "duration": 116,
    "start_time": "2023-02-16T18:55:49.136Z"
   },
   {
    "duration": 10,
    "start_time": "2023-02-16T18:55:49.254Z"
   },
   {
    "duration": 389,
    "start_time": "2023-02-16T18:55:49.265Z"
   },
   {
    "duration": 16,
    "start_time": "2023-02-16T18:55:49.655Z"
   },
   {
    "duration": 2,
    "start_time": "2023-02-16T18:55:49.673Z"
   },
   {
    "duration": 16,
    "start_time": "2023-02-16T18:55:49.677Z"
   },
   {
    "duration": 6,
    "start_time": "2023-02-16T18:55:49.695Z"
   },
   {
    "duration": 4,
    "start_time": "2023-02-16T18:55:49.703Z"
   },
   {
    "duration": 46,
    "start_time": "2023-02-16T18:55:49.708Z"
   },
   {
    "duration": 3,
    "start_time": "2023-02-16T18:55:49.755Z"
   },
   {
    "duration": 9,
    "start_time": "2023-02-16T18:55:49.762Z"
   },
   {
    "duration": 11,
    "start_time": "2023-02-16T18:55:49.773Z"
   },
   {
    "duration": 10,
    "start_time": "2023-02-16T18:55:49.785Z"
   },
   {
    "duration": 281,
    "start_time": "2023-02-16T18:55:49.797Z"
   },
   {
    "duration": 14,
    "start_time": "2023-02-16T18:55:50.080Z"
   },
   {
    "duration": 27,
    "start_time": "2023-02-16T18:55:50.096Z"
   },
   {
    "duration": 15,
    "start_time": "2023-02-16T18:55:50.126Z"
   },
   {
    "duration": 19,
    "start_time": "2023-02-16T18:55:50.143Z"
   },
   {
    "duration": 15,
    "start_time": "2023-02-16T18:55:50.164Z"
   },
   {
    "duration": 5,
    "start_time": "2023-02-16T18:55:50.181Z"
   },
   {
    "duration": 16,
    "start_time": "2023-02-16T18:55:50.188Z"
   },
   {
    "duration": 460,
    "start_time": "2023-02-16T18:55:50.206Z"
   },
   {
    "duration": 546,
    "start_time": "2023-02-16T18:55:50.668Z"
   },
   {
    "duration": 479,
    "start_time": "2023-02-16T18:55:51.215Z"
   },
   {
    "duration": 466,
    "start_time": "2023-02-16T18:55:51.696Z"
   },
   {
    "duration": 542,
    "start_time": "2023-02-16T18:55:52.164Z"
   },
   {
    "duration": 425,
    "start_time": "2023-02-16T18:55:52.708Z"
   },
   {
    "duration": 414,
    "start_time": "2023-02-16T18:55:53.135Z"
   },
   {
    "duration": 401,
    "start_time": "2023-02-16T18:55:53.550Z"
   },
   {
    "duration": 7,
    "start_time": "2023-02-16T18:55:53.953Z"
   },
   {
    "duration": 1071,
    "start_time": "2023-02-16T18:55:53.961Z"
   },
   {
    "duration": 56,
    "start_time": "2023-02-16T18:55:55.034Z"
   },
   {
    "duration": 5,
    "start_time": "2023-02-16T18:55:55.092Z"
   },
   {
    "duration": 6,
    "start_time": "2023-02-16T18:55:55.099Z"
   },
   {
    "duration": 24,
    "start_time": "2023-02-16T18:55:55.106Z"
   },
   {
    "duration": 623,
    "start_time": "2023-02-16T18:55:55.131Z"
   },
   {
    "duration": 997,
    "start_time": "2023-02-16T18:55:55.757Z"
   },
   {
    "duration": 93,
    "start_time": "2023-02-16T18:55:56.761Z"
   },
   {
    "duration": 9900,
    "start_time": "2023-02-16T18:55:56.856Z"
   },
   {
    "duration": 9785,
    "start_time": "2023-02-16T18:56:06.758Z"
   },
   {
    "duration": 11,
    "start_time": "2023-02-16T18:56:16.544Z"
   },
   {
    "duration": 752804,
    "start_time": "2023-02-16T18:56:16.556Z"
   },
   {
    "duration": 780601,
    "start_time": "2023-02-16T19:08:49.366Z"
   },
   {
    "duration": 3,
    "start_time": "2023-02-16T19:21:49.968Z"
   },
   {
    "duration": 2808,
    "start_time": "2023-02-16T19:21:49.973Z"
   },
   {
    "duration": 41,
    "start_time": "2023-02-16T19:21:52.783Z"
   },
   {
    "duration": 4,
    "start_time": "2023-02-16T19:21:52.825Z"
   },
   {
    "duration": 31,
    "start_time": "2023-02-16T19:21:52.830Z"
   },
   {
    "duration": 8,
    "start_time": "2023-02-16T19:21:52.863Z"
   },
   {
    "duration": 8,
    "start_time": "2023-02-16T19:21:52.872Z"
   }
  ],
  "kernelspec": {
   "display_name": "Python 3 (ipykernel)",
   "language": "python",
   "name": "python3"
  },
  "language_info": {
   "codemirror_mode": {
    "name": "ipython",
    "version": 3
   },
   "file_extension": ".py",
   "mimetype": "text/x-python",
   "name": "python",
   "nbconvert_exporter": "python",
   "pygments_lexer": "ipython3",
   "version": "3.10.9"
  },
  "toc": {
   "base_numbering": 1,
   "nav_menu": {},
   "number_sections": true,
   "sideBar": true,
   "skip_h1_title": true,
   "title_cell": "Содержание",
   "title_sidebar": "Contents",
   "toc_cell": true,
   "toc_position": {
    "height": "756.25px",
    "left": "434.992px",
    "top": "111.855px",
    "width": "322.188px"
   },
   "toc_section_display": true,
   "toc_window_display": true
  },
  "widgets": {
   "application/vnd.jupyter.widget-state+json": {
    "state": {},
    "version_major": 2,
    "version_minor": 0
   }
  }
 },
 "nbformat": 4,
 "nbformat_minor": 2
}
