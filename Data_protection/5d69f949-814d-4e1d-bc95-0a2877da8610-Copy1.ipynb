{
 "cells": [
  {
   "cell_type": "markdown",
   "metadata": {
    "toc": true
   },
   "source": [
    "<h1>Содержание<span class=\"tocSkip\"></span></h1>\n",
    "<div class=\"toc\"><ul class=\"toc-item\"><li><span><a href=\"#Загрузка-данных\" data-toc-modified-id=\"Загрузка-данных-1\"><span class=\"toc-item-num\">1&nbsp;&nbsp;</span>Загрузка данных</a></span></li><li><span><a href=\"#Умножение-матриц\" data-toc-modified-id=\"Умножение-матриц-2\"><span class=\"toc-item-num\">2&nbsp;&nbsp;</span>Умножение матриц</a></span></li><li><span><a href=\"#Алгоритм-преобразования\" data-toc-modified-id=\"Алгоритм-преобразования-3\"><span class=\"toc-item-num\">3&nbsp;&nbsp;</span>Алгоритм преобразования</a></span></li><li><span><a href=\"#Проверка-алгоритма\" data-toc-modified-id=\"Проверка-алгоритма-4\"><span class=\"toc-item-num\">4&nbsp;&nbsp;</span>Проверка алгоритма</a></span></li><li><span><a href=\"#Чек-лист-проверки\" data-toc-modified-id=\"Чек-лист-проверки-5\"><span class=\"toc-item-num\">5&nbsp;&nbsp;</span>Чек-лист проверки</a></span></li></ul></div>"
   ]
  },
  {
   "cell_type": "markdown",
   "metadata": {},
   "source": [
    "# Защита персональных данных клиентов"
   ]
  },
  {
   "cell_type": "markdown",
   "metadata": {},
   "source": [
    "Вам нужно защитить данные клиентов страховой компании «Хоть потоп». Разработайте такой метод преобразования данных, чтобы по ним было сложно восстановить персональную информацию. Обоснуйте корректность его работы.\n",
    "\n",
    "Нужно защитить данные, чтобы при преобразовании качество моделей машинного обучения не ухудшилось. Подбирать наилучшую модель не требуется."
   ]
  },
  {
   "cell_type": "markdown",
   "metadata": {},
   "source": [
    "## Загрузка данных"
   ]
  },
  {
   "cell_type": "code",
   "execution_count": 1,
   "metadata": {},
   "outputs": [],
   "source": [
    "%%capture\n",
    "import sys\n",
    "\n",
    "!\"{sys.executable}\" -m pip install phik"
   ]
  },
  {
   "cell_type": "code",
   "execution_count": 2,
   "metadata": {},
   "outputs": [],
   "source": [
    "import pandas as pd\n",
    "import numpy as np\n",
    "import seaborn as sns\n",
    "import matplotlib.pyplot as plt\n",
    "import phik\n",
    "\n",
    "from sklearn.metrics import r2_score"
   ]
  },
  {
   "cell_type": "code",
   "execution_count": 3,
   "metadata": {},
   "outputs": [],
   "source": [
    "try:\n",
    "     df = pd.read_csv(r\"C:\\Проекты Яндекс.Практикум\\10. Линейная алгебра. Страховые выплаты\\Датасет\\insurance.csv\")\n",
    "except: \n",
    "    df = pd.read_csv('/datasets/insurance.csv')"
   ]
  },
  {
   "cell_type": "code",
   "execution_count": 4,
   "metadata": {},
   "outputs": [
    {
     "data": {
      "text/html": [
       "<div>\n",
       "<style scoped>\n",
       "    .dataframe tbody tr th:only-of-type {\n",
       "        vertical-align: middle;\n",
       "    }\n",
       "\n",
       "    .dataframe tbody tr th {\n",
       "        vertical-align: top;\n",
       "    }\n",
       "\n",
       "    .dataframe thead th {\n",
       "        text-align: right;\n",
       "    }\n",
       "</style>\n",
       "<table border=\"1\" class=\"dataframe\">\n",
       "  <thead>\n",
       "    <tr style=\"text-align: right;\">\n",
       "      <th></th>\n",
       "      <th>Пол</th>\n",
       "      <th>Возраст</th>\n",
       "      <th>Зарплата</th>\n",
       "      <th>Члены семьи</th>\n",
       "      <th>Страховые выплаты</th>\n",
       "    </tr>\n",
       "  </thead>\n",
       "  <tbody>\n",
       "    <tr>\n",
       "      <th>0</th>\n",
       "      <td>1</td>\n",
       "      <td>41.0</td>\n",
       "      <td>49600.0</td>\n",
       "      <td>1</td>\n",
       "      <td>0</td>\n",
       "    </tr>\n",
       "    <tr>\n",
       "      <th>1</th>\n",
       "      <td>0</td>\n",
       "      <td>46.0</td>\n",
       "      <td>38000.0</td>\n",
       "      <td>1</td>\n",
       "      <td>1</td>\n",
       "    </tr>\n",
       "    <tr>\n",
       "      <th>2</th>\n",
       "      <td>0</td>\n",
       "      <td>29.0</td>\n",
       "      <td>21000.0</td>\n",
       "      <td>0</td>\n",
       "      <td>0</td>\n",
       "    </tr>\n",
       "    <tr>\n",
       "      <th>3</th>\n",
       "      <td>0</td>\n",
       "      <td>21.0</td>\n",
       "      <td>41700.0</td>\n",
       "      <td>2</td>\n",
       "      <td>0</td>\n",
       "    </tr>\n",
       "    <tr>\n",
       "      <th>4</th>\n",
       "      <td>1</td>\n",
       "      <td>28.0</td>\n",
       "      <td>26100.0</td>\n",
       "      <td>0</td>\n",
       "      <td>0</td>\n",
       "    </tr>\n",
       "  </tbody>\n",
       "</table>\n",
       "</div>"
      ],
      "text/plain": [
       "   Пол  Возраст  Зарплата  Члены семьи  Страховые выплаты\n",
       "0    1     41.0   49600.0            1                  0\n",
       "1    0     46.0   38000.0            1                  1\n",
       "2    0     29.0   21000.0            0                  0\n",
       "3    0     21.0   41700.0            2                  0\n",
       "4    1     28.0   26100.0            0                  0"
      ]
     },
     "execution_count": 4,
     "metadata": {},
     "output_type": "execute_result"
    }
   ],
   "source": [
    "df.head()"
   ]
  },
  {
   "cell_type": "code",
   "execution_count": 5,
   "metadata": {},
   "outputs": [
    {
     "name": "stdout",
     "output_type": "stream",
     "text": [
      "<class 'pandas.core.frame.DataFrame'>\n",
      "RangeIndex: 5000 entries, 0 to 4999\n",
      "Data columns (total 5 columns):\n",
      " #   Column             Non-Null Count  Dtype  \n",
      "---  ------             --------------  -----  \n",
      " 0   Пол                5000 non-null   int64  \n",
      " 1   Возраст            5000 non-null   float64\n",
      " 2   Зарплата           5000 non-null   float64\n",
      " 3   Члены семьи        5000 non-null   int64  \n",
      " 4   Страховые выплаты  5000 non-null   int64  \n",
      "dtypes: float64(2), int64(3)\n",
      "memory usage: 195.4 KB\n"
     ]
    }
   ],
   "source": [
    "df.info()"
   ]
  },
  {
   "cell_type": "code",
   "execution_count": 6,
   "metadata": {},
   "outputs": [
    {
     "data": {
      "text/plain": [
       "array([1, 0], dtype=int64)"
      ]
     },
     "execution_count": 6,
     "metadata": {},
     "output_type": "execute_result"
    }
   ],
   "source": [
    "df['Пол'].unique()"
   ]
  },
  {
   "cell_type": "code",
   "execution_count": 7,
   "metadata": {},
   "outputs": [
    {
     "data": {
      "text/plain": [
       "array([18., 19., 20., 21., 22., 23., 24., 25., 26., 27., 28., 29., 30.,\n",
       "       31., 32., 33., 34., 35., 36., 37., 38., 39., 40., 41., 42., 43.,\n",
       "       44., 45., 46., 47., 48., 49., 50., 51., 52., 53., 54., 55., 56.,\n",
       "       57., 58., 59., 60., 61., 62., 65.])"
      ]
     },
     "execution_count": 7,
     "metadata": {},
     "output_type": "execute_result"
    }
   ],
   "source": [
    "df['Возраст'].sort_values().unique()"
   ]
  },
  {
   "cell_type": "code",
   "execution_count": 8,
   "metadata": {},
   "outputs": [
    {
     "data": {
      "text/plain": [
       "count     5000.000000\n",
       "mean     39916.360000\n",
       "std       9900.083569\n",
       "min       5300.000000\n",
       "25%      33300.000000\n",
       "50%      40200.000000\n",
       "75%      46600.000000\n",
       "max      79000.000000\n",
       "Name: Зарплата, dtype: float64"
      ]
     },
     "execution_count": 8,
     "metadata": {},
     "output_type": "execute_result"
    }
   ],
   "source": [
    "df['Зарплата'].describe()"
   ]
  },
  {
   "cell_type": "code",
   "execution_count": 9,
   "metadata": {},
   "outputs": [
    {
     "data": {
      "text/plain": [
       "array([0, 1, 2, 3, 4, 5, 6], dtype=int64)"
      ]
     },
     "execution_count": 9,
     "metadata": {},
     "output_type": "execute_result"
    }
   ],
   "source": [
    "df['Члены семьи'].sort_values().unique()"
   ]
  },
  {
   "cell_type": "code",
   "execution_count": 10,
   "metadata": {},
   "outputs": [
    {
     "data": {
      "text/plain": [
       "array([0, 1, 2, 3, 4, 5], dtype=int64)"
      ]
     },
     "execution_count": 10,
     "metadata": {},
     "output_type": "execute_result"
    }
   ],
   "source": [
    "df['Страховые выплаты'].sort_values().unique()"
   ]
  },
  {
   "cell_type": "code",
   "execution_count": 11,
   "metadata": {},
   "outputs": [
    {
     "data": {
      "text/plain": [
       "153"
      ]
     },
     "execution_count": 11,
     "metadata": {},
     "output_type": "execute_result"
    }
   ],
   "source": [
    "df.duplicated().sum()"
   ]
  },
  {
   "cell_type": "markdown",
   "metadata": {},
   "source": [
    "Загружены необходимые библиотеки и датасет. \n",
    "\n",
    "Таблица состоит из пяти колонок: \n",
    "\n",
    "- Пол\n",
    "- Возраст\n",
    "- Зарплата\n",
    "- Члены семьи \n",
    "- Страховые выплаты\n",
    "\n",
    "Всего 5000 строк, без пропусков. Есть 153 полных дубликата, но так как признаков всего 5, то данные могут повторяться и у разных людей. Удалять дубликаты не будем.\n",
    "\n",
    "Посмотрели уникальные значения по каждому столбцу, чтобы убедиться, что нет очевидно нереалистичных значений."
   ]
  },
  {
   "cell_type": "code",
   "execution_count": 12,
   "metadata": {
    "scrolled": true
   },
   "outputs": [
    {
     "data": {
      "image/png": "[encoded data removed]",
      "text/plain": [
       "<Figure size 640x480 with 2 Axes>"
      ]
     },
     "metadata": {},
     "output_type": "display_data"
    }
   ],
   "source": [
    "corr_mat = round(df.corr(),2)\n",
    "# Построили корреляционную матрицу и округлили значения\n",
    "\n",
    "for x in range(corr_mat.shape[0]):\n",
    "    corr_mat.iloc[x,x] = 0.0\n",
    "#убрали единицы из диагонали, чтобы они не мешали отфильтровать максимальные значения\n",
    "    \n",
    "sns.heatmap(corr_mat,  annot=True)\n",
    "plt.title('Корреляция Пирсона')\n",
    "plt.show()"
   ]
  },
  {
   "cell_type": "markdown",
   "metadata": {},
   "source": [
    "Построили матрицу корреляции Пирсона, чтобы посмотреть на взаимосвять признаков между собой, а также на целевой признак. Самое заметное влияние возраста на количество страховых выплат, равное 0.65. В остальных случаях зависимость стремится к нулю."
   ]
  },
  {
   "cell_type": "code",
   "execution_count": 13,
   "metadata": {},
   "outputs": [
    {
     "data": {
      "image/png": "[encoded data removed]",
      "text/plain": [
       "<Figure size 640x480 with 2 Axes>"
      ]
     },
     "metadata": {},
     "output_type": "display_data"
    }
   ],
   "source": [
    "interval_cols = ['Возраст', 'Зарплата', 'Члены семьи', 'Страховые выплаты' ]\n",
    "phik_overview = df.phik_matrix(interval_cols=interval_cols)\n",
    "for x in range(phik_overview.shape[0]):\n",
    "    phik_overview.iloc[x,x] = 0.0\n",
    "sns.heatmap(phik_overview,  annot=True)\n",
    "plt.title('Phik корреляция')\n",
    "plt.show()"
   ]
  },
  {
   "cell_type": "markdown",
   "metadata": {},
   "source": [
    "Построили матрицу Phik корреляции. На ней зависимость возраста на количество страховых выплат еще заметнее и стремится  к 1. "
   ]
  },
  {
   "cell_type": "code",
   "execution_count": 14,
   "metadata": {
    "scrolled": false
   },
   "outputs": [
    {
     "data": {
      "image/png": "[encoded data removed]",
      "text/plain": [
       "<Figure size 640x480 with 1 Axes>"
      ]
     },
     "metadata": {},
     "output_type": "display_data"
    }
   ],
   "source": [
    "df.plot(x='Возраст', y='Страховые выплаты', kind='scatter', alpha=0.4) \n",
    "plt.xlabel('Количество страховых выплат')\n",
    "plt.ylabel('Возраст')\n",
    "plt.title('Зависимость количества страховых выплат от возраста')\n",
    "plt.show()"
   ]
  },
  {
   "cell_type": "markdown",
   "metadata": {},
   "source": [
    "Построили диаграмму рассеяния, чтобы рассмотреть влияние возраста на страховые выплаты более пристально. Видим, что с возрастом количество страховых выплат увеличивается. В возрасте с 18 до 42-43 у людей не наблюдаются выплаты. Можно предположить, что за более долгую жизнь, у человека произошло больше событий и отсюда больше выплат. "
   ]
  },
  {
   "cell_type": "code",
   "execution_count": 15,
   "metadata": {},
   "outputs": [
    {
     "data": {
      "text/plain": [
       "0.0"
      ]
     },
     "execution_count": 15,
     "metadata": {},
     "output_type": "execute_result"
    }
   ],
   "source": [
    "pd.options.display.float_format = '{:,.2f}'.format\n",
    "max(df['Возраст'] % 1)"
   ]
  },
  {
   "cell_type": "markdown",
   "metadata": {},
   "source": [
    "Проверили в столбце Возраст, имеющем тип float, дробную часть значений. Все значения целые."
   ]
  },
  {
   "cell_type": "code",
   "execution_count": 16,
   "metadata": {
    "scrolled": true
   },
   "outputs": [
    {
     "data": {
      "text/plain": [
       "0.999999999992724"
      ]
     },
     "execution_count": 16,
     "metadata": {},
     "output_type": "execute_result"
    }
   ],
   "source": [
    "pd.options.display.float_format = '{:,.2f}'.format\n",
    "max(df['Зарплата'] % 1)"
   ]
  },
  {
   "cell_type": "markdown",
   "metadata": {},
   "source": [
    "Проверили в столбце Зарплата, имеющем тип float, дробную часть значений. Все значения целые"
   ]
  },
  {
   "cell_type": "code",
   "execution_count": 17,
   "metadata": {},
   "outputs": [],
   "source": [
    "df['Пол'] = df['Пол'].astype(np.int8)"
   ]
  },
  {
   "cell_type": "code",
   "execution_count": 18,
   "metadata": {},
   "outputs": [],
   "source": [
    "df['Возраст'] = df['Возраст'].astype(np.int8)"
   ]
  },
  {
   "cell_type": "code",
   "execution_count": 19,
   "metadata": {},
   "outputs": [],
   "source": [
    "df['Зарплата'] = round(df['Зарплата']).astype(np.int32)"
   ]
  },
  {
   "cell_type": "code",
   "execution_count": 20,
   "metadata": {},
   "outputs": [],
   "source": [
    "df['Члены семьи'] = df['Члены семьи'].astype(np.int8)"
   ]
  },
  {
   "cell_type": "code",
   "execution_count": 21,
   "metadata": {},
   "outputs": [],
   "source": [
    "df['Страховые выплаты'] = df['Страховые выплаты'].astype(np.int8)"
   ]
  },
  {
   "cell_type": "code",
   "execution_count": 22,
   "metadata": {},
   "outputs": [
    {
     "data": {
      "text/html": [
       "<div>\n",
       "<style scoped>\n",
       "    .dataframe tbody tr th:only-of-type {\n",
       "        vertical-align: middle;\n",
       "    }\n",
       "\n",
       "    .dataframe tbody tr th {\n",
       "        vertical-align: top;\n",
       "    }\n",
       "\n",
       "    .dataframe thead th {\n",
       "        text-align: right;\n",
       "    }\n",
       "</style>\n",
       "<table border=\"1\" class=\"dataframe\">\n",
       "  <thead>\n",
       "    <tr style=\"text-align: right;\">\n",
       "      <th></th>\n",
       "      <th>Пол</th>\n",
       "      <th>Возраст</th>\n",
       "      <th>Зарплата</th>\n",
       "      <th>Члены семьи</th>\n",
       "      <th>Страховые выплаты</th>\n",
       "    </tr>\n",
       "  </thead>\n",
       "  <tbody>\n",
       "    <tr>\n",
       "      <th>0</th>\n",
       "      <td>1</td>\n",
       "      <td>41</td>\n",
       "      <td>49600</td>\n",
       "      <td>1</td>\n",
       "      <td>0</td>\n",
       "    </tr>\n",
       "    <tr>\n",
       "      <th>1</th>\n",
       "      <td>0</td>\n",
       "      <td>46</td>\n",
       "      <td>38000</td>\n",
       "      <td>1</td>\n",
       "      <td>1</td>\n",
       "    </tr>\n",
       "    <tr>\n",
       "      <th>2</th>\n",
       "      <td>0</td>\n",
       "      <td>29</td>\n",
       "      <td>21000</td>\n",
       "      <td>0</td>\n",
       "      <td>0</td>\n",
       "    </tr>\n",
       "    <tr>\n",
       "      <th>3</th>\n",
       "      <td>0</td>\n",
       "      <td>21</td>\n",
       "      <td>41700</td>\n",
       "      <td>2</td>\n",
       "      <td>0</td>\n",
       "    </tr>\n",
       "    <tr>\n",
       "      <th>4</th>\n",
       "      <td>1</td>\n",
       "      <td>28</td>\n",
       "      <td>26100</td>\n",
       "      <td>0</td>\n",
       "      <td>0</td>\n",
       "    </tr>\n",
       "  </tbody>\n",
       "</table>\n",
       "</div>"
      ],
      "text/plain": [
       "   Пол  Возраст  Зарплата  Члены семьи  Страховые выплаты\n",
       "0    1       41     49600            1                  0\n",
       "1    0       46     38000            1                  1\n",
       "2    0       29     21000            0                  0\n",
       "3    0       21     41700            2                  0\n",
       "4    1       28     26100            0                  0"
      ]
     },
     "execution_count": 22,
     "metadata": {},
     "output_type": "execute_result"
    }
   ],
   "source": [
    "df.head()"
   ]
  },
  {
   "cell_type": "code",
   "execution_count": 23,
   "metadata": {
    "scrolled": true
   },
   "outputs": [
    {
     "name": "stdout",
     "output_type": "stream",
     "text": [
      "<class 'pandas.core.frame.DataFrame'>\n",
      "RangeIndex: 5000 entries, 0 to 4999\n",
      "Data columns (total 5 columns):\n",
      " #   Column             Non-Null Count  Dtype\n",
      "---  ------             --------------  -----\n",
      " 0   Пол                5000 non-null   int8 \n",
      " 1   Возраст            5000 non-null   int8 \n",
      " 2   Зарплата           5000 non-null   int32\n",
      " 3   Члены семьи        5000 non-null   int8 \n",
      " 4   Страховые выплаты  5000 non-null   int8 \n",
      "dtypes: int32(1), int8(4)\n",
      "memory usage: 39.2 KB\n"
     ]
    }
   ],
   "source": [
    "df.info()"
   ]
  },
  {
   "cell_type": "markdown",
   "metadata": {},
   "source": [
    "У всех столбцов поменяли тип данных. В том числе для экономии ресурсов. Все столбцы кроме зарплаты имеют значения в диапазоне до 127, поэтому могут быть переведены в тип int8. Столбец Зарплата по своим максимальным значениям можно перевести в int32. Так"
   ]
  },
  {
   "cell_type": "markdown",
   "metadata": {},
   "source": [
    "## Умножение матриц"
   ]
  },
  {
   "cell_type": "markdown",
   "metadata": {},
   "source": [
    "Предсказания:\n",
    "\n",
    "$$\n",
    "a = Xw\n",
    "$$\n",
    "\n",
    "Задача обучения:\n",
    "\n",
    "$$\n",
    "w = \\arg\\min_w MSE(Xw, y)\n",
    "$$\n",
    "\n",
    "Формула обучения:\n",
    "\n",
    "$$\n",
    "w = (X^T X)^{-1} X^T y\n",
    "$$"
   ]
  },
  {
   "cell_type": "markdown",
   "metadata": {},
   "source": [
    "**При умножении признаков на обратимую матрицу качество линейной регрессии не изменится**\n",
    "\n",
    "**Обоснование:**  "
   ]
  },
  {
   "cell_type": "markdown",
   "metadata": {},
   "source": [
    "$$\n",
    "w = (X^T X)^{-1} X^T y\n",
    "$$\n",
    "\n",
    "Умножим X на обратимую матрицу P и рассчитаем, чему в такому случае будет равен вектор весов, который обозначим заглавной буквой W\n",
    "\n",
    "$$\n",
    "W = ((PX)^T XP)^{-1} (PX)^T y \n",
    "$$\n",
    "\n",
    "Раскроем скобки\n",
    "\n",
    "\n",
    "$$\n",
    "W = P^{-1} (X^T X)^{-1} (P^T) ^{-1} P^T  X^T y \n",
    "$$\n",
    "\n",
    "\n",
    "Умножение матрицы на обратную равно единичной матрице (E), в нашем случае это \n",
    "\n",
    "$$\n",
    "(P^T) ^{-1}P^T = E\n",
    "$$\n",
    "\n",
    "Значит\n",
    "\n",
    "$$ \n",
    "W = P^{-1} (X^T X)^{-1} E X^T y \n",
    "$$\n",
    "\n",
    "В то же время матрица, умноженная на единичную матрицу равна сама себе, значит E можем сократить\n",
    "\n",
    "$$ \n",
    "W = P^{-1} (X^T X)^{-1} X^T y \n",
    "$$\n",
    "\n",
    "Внутри видим знакомую комбинацию $$(X^T X)^{-1} X^T y $$ , равную w\n",
    "\n",
    "Заменим в формуле\n",
    "\n",
    "$$\n",
    "W =  P^{-1}w\n",
    "$$\n",
    "\n",
    "Подставим значение вектора весов W  в формулу предсказания\n",
    "\n",
    "$$\n",
    "a = XP P^{-1}w\n",
    "$$\n",
    "\n",
    "так как $$ P P^{-1} = E$$ и Е сокращается, то\n",
    "\n",
    "$$\n",
    "a = Xw\n",
    "$$"
   ]
  },
  {
   "cell_type": "markdown",
   "metadata": {},
   "source": [
    "**Вывод:** Умножение признаков на обратимую матрицу не изменяет предсказание, а значит не влияет на качество линейной регрессии"
   ]
  },
  {
   "cell_type": "markdown",
   "metadata": {},
   "source": [
    "## Алгоритм преобразования"
   ]
  },
  {
   "cell_type": "markdown",
   "metadata": {},
   "source": [
    "**Алгоритм**\n",
    "\n",
    "Умножим признаки на обратимую матрицу"
   ]
  },
  {
   "cell_type": "markdown",
   "metadata": {},
   "source": [
    "**Обоснование**"
   ]
  },
  {
   "cell_type": "markdown",
   "metadata": {},
   "source": [
    "Создадим матрицу из случаныйх чисел, так чтобы высота матрицы была равна ширине матрицы признаков, то есть 4. Матрица будет квадратной, так как только для квадратной матрицы можно вычислить обратную.  \n",
    "\n",
    "- Умножая матрицу признаков на любую квадратную обратимую матрицу, мы получаем новую матрицу признаков. Эта новая матрица с зашифрованными значениями. То есть понять по ней какая у человека реальная зарплата или количество детей (как в нашем датасете) мы не сможем. Данные защищены.\n",
    "- На первый взгляд это уже новые признаки и предсказания по ним должны получиться другие.\n",
    "- Посмотрим на один из последних этапов доказательства раздела выше  $$ a = XPwP^{-1} $$ Именно здесь  видно, что в в предсказании происходит умножение нашей матрицы-ключа на обратную ей, в резльтате получается единица, не влияющая на результат и значение предсказаний не изменяется. Поэтому мы и используем обратимую матрицу, чтобы в определенных моментах она превратилась в единицу.\n",
    "- Если мы захотим посмотреть реальные данные признаков (Х), нам понадобятся матрица зашифрованных данных (D, если XP = D) и матрица-ключ (P). Операция \"деление\" между матрицами не предусмотрена и логичное X = D/P, нам провести не удастся. Но деление заменяют умножение на обратную матрицу. То есть $$ X = D P^{-1} $$\n",
    "- Выходит, имея зашифрованнкю матрицу и матрицу-ключ, к которой мы вычислим обратную, мы можем вычислить и матрицу реальных признаков"
   ]
  },
  {
   "cell_type": "code",
   "execution_count": 24,
   "metadata": {},
   "outputs": [
    {
     "data": {
      "text/plain": [
       "array([[-0.34048257,  0.07238606, -0.18766756,  0.56032172],\n",
       "       [ 0.03217158,  0.17426273, -0.15549598, -0.02144772],\n",
       "       [ 0.31367292, -0.05093834, -0.01608579, -0.20911528],\n",
       "       [ 0.18766756, -0.15013405,  0.42627346, -0.45844504]])"
      ]
     },
     "execution_count": 24,
     "metadata": {},
     "output_type": "execute_result"
    }
   ],
   "source": [
    "def rev_m (random, count, size_1):\n",
    "    try:\n",
    "        r= np.random.RandomState(random)\n",
    "        random_m = r.randint(count, size = (size_1, size_1))\n",
    "        rev_matrix = np.linalg.inv(random_m)\n",
    "        return rev_matrix\n",
    "    except:     \n",
    "        return rev_m ()  \n",
    "    \n",
    "\n",
    "count = 10\n",
    "size_1 = 4\n",
    "random = 42\n",
    "\n",
    "\n",
    "reverse_matrix = rev_m (random = random , count=count, size_1=size_1)\n",
    "reverse_matrix"
   ]
  },
  {
   "cell_type": "markdown",
   "metadata": {},
   "source": [
    "Создали функцию для создания обратимой матрицы. И сразу создали обратимую матрицу, которую будем использовать в качестве ключа далее"
   ]
  },
  {
   "cell_type": "markdown",
   "metadata": {},
   "source": [
    "Отделим признаки от целевого признака, а также отдельно запишем признаки, умноженные на обратимую матрицу."
   ]
  },
  {
   "cell_type": "code",
   "execution_count": 25,
   "metadata": {},
   "outputs": [],
   "source": [
    "features = df.drop('Страховые выплаты', axis=1)\n",
    "target = df['Страховые выплаты']"
   ]
  },
  {
   "cell_type": "code",
   "execution_count": 26,
   "metadata": {},
   "outputs": [],
   "source": [
    "reverse_features = features.dot(reverse_matrix)"
   ]
  },
  {
   "cell_type": "markdown",
   "metadata": {},
   "source": [
    "## Проверка алгоритма"
   ]
  },
  {
   "cell_type": "code",
   "execution_count": 27,
   "metadata": {},
   "outputs": [],
   "source": [
    "class LinearRegression:\n",
    "    def fit(self, train_features, train_target):\n",
    "        X = np.concatenate((np.ones((train_features.shape[0], 1)), train_features), axis=1)\n",
    "        y = train_target\n",
    "        w = ((np.linalg.inv(X.T.dot(X))).dot(X.T)).dot(y)\n",
    "        self.w = w[1:]\n",
    "        self.w0 = w[0]\n",
    "\n",
    "    def predict(self, test_features):\n",
    "        return test_features.dot(self.w) + self.w0"
   ]
  },
  {
   "cell_type": "code",
   "execution_count": 28,
   "metadata": {},
   "outputs": [
    {
     "name": "stdout",
     "output_type": "stream",
     "text": [
      "0.6270326719379382\n"
     ]
    }
   ],
   "source": [
    "model = LinearRegression()\n",
    "model.fit(features, target)\n",
    "predictions = model.predict(features)\n",
    "print(r2_score(target, round(predictions)))"
   ]
  },
  {
   "cell_type": "code",
   "execution_count": 29,
   "metadata": {},
   "outputs": [
    {
     "name": "stdout",
     "output_type": "stream",
     "text": [
      "0.6270326719379382\n"
     ]
    }
   ],
   "source": [
    "model = LinearRegression()\n",
    "model.fit(reverse_features, target)\n",
    "predictions_reverse = model.predict(reverse_features)\n",
    "print(r2_score(target, round(predictions_reverse)))"
   ]
  },
  {
   "cell_type": "code",
   "execution_count": 30,
   "metadata": {
    "scrolled": true
   },
   "outputs": [
    {
     "name": "stdout",
     "output_type": "stream",
     "text": [
      "7.882583474838611e-14\n"
     ]
    }
   ],
   "source": [
    "print(r2_score(target, predictions) - r2_score(target, predictions_reverse))"
   ]
  },
  {
   "cell_type": "markdown",
   "metadata": {},
   "source": [
    "Создали и обучили модель:\n",
    "- на обучающей выборке\n",
    "- на обучающей выборке, с признаками, умноженными на обратимую матрицу.\n",
    "Рассчитали значение метрики R2 для обеих версий. Разница в значениях минимальная, при вычетании равна нулю.\n",
    "\n",
    "**Вывод:** Умножение признаков на обратимую матрицу позволяет защитить данные клиента без потери качества модели."
   ]
  },
  {
   "cell_type": "markdown",
   "metadata": {},
   "source": [
    "Проверим, что с помощью матрицы-ключа, можно расшифровать признаки"
   ]
  },
  {
   "cell_type": "markdown",
   "metadata": {},
   "source": [
    "D = predictions_reverse, P = reverse_matrix"
   ]
  },
  {
   "cell_type": "code",
   "execution_count": 31,
   "metadata": {
    "scrolled": true
   },
   "outputs": [
    {
     "data": {
      "text/html": [
       "<div>\n",
       "<style scoped>\n",
       "    .dataframe tbody tr th:only-of-type {\n",
       "        vertical-align: middle;\n",
       "    }\n",
       "\n",
       "    .dataframe tbody tr th {\n",
       "        vertical-align: top;\n",
       "    }\n",
       "\n",
       "    .dataframe thead th {\n",
       "        text-align: right;\n",
       "    }\n",
       "</style>\n",
       "<table border=\"1\" class=\"dataframe\">\n",
       "  <thead>\n",
       "    <tr style=\"text-align: right;\">\n",
       "      <th></th>\n",
       "      <th>0</th>\n",
       "      <th>1</th>\n",
       "      <th>2</th>\n",
       "      <th>3</th>\n",
       "    </tr>\n",
       "  </thead>\n",
       "  <tbody>\n",
       "    <tr>\n",
       "      <th>0</th>\n",
       "      <td>15,559.34</td>\n",
       "      <td>-2,519.47</td>\n",
       "      <td>-803.99</td>\n",
       "      <td>-10,372.90</td>\n",
       "    </tr>\n",
       "    <tr>\n",
       "      <th>1</th>\n",
       "      <td>11,921.24</td>\n",
       "      <td>-1,927.79</td>\n",
       "      <td>-617.99</td>\n",
       "      <td>-7,947.83</td>\n",
       "    </tr>\n",
       "    <tr>\n",
       "      <th>2</th>\n",
       "      <td>6,588.06</td>\n",
       "      <td>-1,064.65</td>\n",
       "      <td>-342.31</td>\n",
       "      <td>-4,392.04</td>\n",
       "    </tr>\n",
       "    <tr>\n",
       "      <th>3</th>\n",
       "      <td>13,081.21</td>\n",
       "      <td>-2,120.77</td>\n",
       "      <td>-673.19</td>\n",
       "      <td>-8,721.47</td>\n",
       "    </tr>\n",
       "    <tr>\n",
       "      <th>4</th>\n",
       "      <td>8,187.42</td>\n",
       "      <td>-1,324.54</td>\n",
       "      <td>-424.38</td>\n",
       "      <td>-5,457.95</td>\n",
       "    </tr>\n",
       "  </tbody>\n",
       "</table>\n",
       "</div>"
      ],
      "text/plain": [
       "          0         1       2          3\n",
       "0 15,559.34 -2,519.47 -803.99 -10,372.90\n",
       "1 11,921.24 -1,927.79 -617.99  -7,947.83\n",
       "2  6,588.06 -1,064.65 -342.31  -4,392.04\n",
       "3 13,081.21 -2,120.77 -673.19  -8,721.47\n",
       "4  8,187.42 -1,324.54 -424.38  -5,457.95"
      ]
     },
     "execution_count": 31,
     "metadata": {},
     "output_type": "execute_result"
    }
   ],
   "source": [
    "reverse_features.head()"
   ]
  },
  {
   "cell_type": "code",
   "execution_count": 32,
   "metadata": {},
   "outputs": [
    {
     "data": {
      "text/plain": [
       "array([[6., 3., 7., 4.],\n",
       "       [6., 9., 2., 6.],\n",
       "       [7., 4., 3., 7.],\n",
       "       [7., 2., 5., 4.]])"
      ]
     },
     "execution_count": 32,
     "metadata": {},
     "output_type": "execute_result"
    }
   ],
   "source": [
    "np.linalg.inv(reverse_matrix)"
   ]
  },
  {
   "cell_type": "code",
   "execution_count": 33,
   "metadata": {
    "scrolled": true
   },
   "outputs": [
    {
     "data": {
      "text/html": [
       "<div>\n",
       "<style scoped>\n",
       "    .dataframe tbody tr th:only-of-type {\n",
       "        vertical-align: middle;\n",
       "    }\n",
       "\n",
       "    .dataframe tbody tr th {\n",
       "        vertical-align: top;\n",
       "    }\n",
       "\n",
       "    .dataframe thead th {\n",
       "        text-align: right;\n",
       "    }\n",
       "</style>\n",
       "<table border=\"1\" class=\"dataframe\">\n",
       "  <thead>\n",
       "    <tr style=\"text-align: right;\">\n",
       "      <th></th>\n",
       "      <th>Пол</th>\n",
       "      <th>Возраст</th>\n",
       "      <th>Зарплата</th>\n",
       "      <th>Члены семьи</th>\n",
       "    </tr>\n",
       "  </thead>\n",
       "  <tbody>\n",
       "    <tr>\n",
       "      <th>0</th>\n",
       "      <td>1</td>\n",
       "      <td>41</td>\n",
       "      <td>49600</td>\n",
       "      <td>1</td>\n",
       "    </tr>\n",
       "    <tr>\n",
       "      <th>1</th>\n",
       "      <td>0</td>\n",
       "      <td>46</td>\n",
       "      <td>38000</td>\n",
       "      <td>1</td>\n",
       "    </tr>\n",
       "    <tr>\n",
       "      <th>2</th>\n",
       "      <td>0</td>\n",
       "      <td>29</td>\n",
       "      <td>21000</td>\n",
       "      <td>0</td>\n",
       "    </tr>\n",
       "    <tr>\n",
       "      <th>3</th>\n",
       "      <td>0</td>\n",
       "      <td>21</td>\n",
       "      <td>41700</td>\n",
       "      <td>2</td>\n",
       "    </tr>\n",
       "    <tr>\n",
       "      <th>4</th>\n",
       "      <td>1</td>\n",
       "      <td>28</td>\n",
       "      <td>26100</td>\n",
       "      <td>0</td>\n",
       "    </tr>\n",
       "  </tbody>\n",
       "</table>\n",
       "</div>"
      ],
      "text/plain": [
       "   Пол  Возраст  Зарплата  Члены семьи\n",
       "0    1       41     49600            1\n",
       "1    0       46     38000            1\n",
       "2    0       29     21000            0\n",
       "3    0       21     41700            2\n",
       "4    1       28     26100            0"
      ]
     },
     "execution_count": 33,
     "metadata": {},
     "output_type": "execute_result"
    }
   ],
   "source": [
    "x = round(reverse_features@np.linalg.inv(reverse_matrix)).astype(int)\n",
    "\n",
    "x.columns = [\"Пол\", \"Возраст\", 'Зарплата', 'Члены семьи']\n",
    "x.head()"
   ]
  },
  {
   "cell_type": "code",
   "execution_count": 34,
   "metadata": {
    "scrolled": true
   },
   "outputs": [
    {
     "data": {
      "text/html": [
       "<div>\n",
       "<style scoped>\n",
       "    .dataframe tbody tr th:only-of-type {\n",
       "        vertical-align: middle;\n",
       "    }\n",
       "\n",
       "    .dataframe tbody tr th {\n",
       "        vertical-align: top;\n",
       "    }\n",
       "\n",
       "    .dataframe thead th {\n",
       "        text-align: right;\n",
       "    }\n",
       "</style>\n",
       "<table border=\"1\" class=\"dataframe\">\n",
       "  <thead>\n",
       "    <tr style=\"text-align: right;\">\n",
       "      <th></th>\n",
       "      <th>Пол</th>\n",
       "      <th>Возраст</th>\n",
       "      <th>Зарплата</th>\n",
       "      <th>Члены семьи</th>\n",
       "    </tr>\n",
       "  </thead>\n",
       "  <tbody>\n",
       "    <tr>\n",
       "      <th>0</th>\n",
       "      <td>1</td>\n",
       "      <td>41</td>\n",
       "      <td>49600</td>\n",
       "      <td>1</td>\n",
       "    </tr>\n",
       "    <tr>\n",
       "      <th>1</th>\n",
       "      <td>0</td>\n",
       "      <td>46</td>\n",
       "      <td>38000</td>\n",
       "      <td>1</td>\n",
       "    </tr>\n",
       "    <tr>\n",
       "      <th>2</th>\n",
       "      <td>0</td>\n",
       "      <td>29</td>\n",
       "      <td>21000</td>\n",
       "      <td>0</td>\n",
       "    </tr>\n",
       "    <tr>\n",
       "      <th>3</th>\n",
       "      <td>0</td>\n",
       "      <td>21</td>\n",
       "      <td>41700</td>\n",
       "      <td>2</td>\n",
       "    </tr>\n",
       "    <tr>\n",
       "      <th>4</th>\n",
       "      <td>1</td>\n",
       "      <td>28</td>\n",
       "      <td>26100</td>\n",
       "      <td>0</td>\n",
       "    </tr>\n",
       "  </tbody>\n",
       "</table>\n",
       "</div>"
      ],
      "text/plain": [
       "   Пол  Возраст  Зарплата  Члены семьи\n",
       "0    1       41     49600            1\n",
       "1    0       46     38000            1\n",
       "2    0       29     21000            0\n",
       "3    0       21     41700            2\n",
       "4    1       28     26100            0"
      ]
     },
     "execution_count": 34,
     "metadata": {},
     "output_type": "execute_result"
    }
   ],
   "source": [
    "features.head()"
   ]
  },
  {
   "cell_type": "code",
   "execution_count": 35,
   "metadata": {},
   "outputs": [
    {
     "data": {
      "text/plain": [
       "Пол            0\n",
       "Возраст        0\n",
       "Зарплата       0\n",
       "Члены семьи    0\n",
       "dtype: int64"
      ]
     },
     "execution_count": 35,
     "metadata": {},
     "output_type": "execute_result"
    }
   ],
   "source": [
    "(features != x).sum()"
   ]
  },
  {
   "cell_type": "markdown",
   "metadata": {},
   "source": [
    "Создадим алгоритм для шифровки и дешифровки признаков"
   ]
  },
  {
   "cell_type": "code",
   "execution_count": 36,
   "metadata": {},
   "outputs": [],
   "source": [
    "class LinearRegression:\n",
    "    def fit(self, train_features, train_target):\n",
    "        X = np.concatenate((np.ones((train_features.shape[0], 1)), train_features), axis=1)\n",
    "        y = train_target\n",
    "        w = ((np.linalg.inv(X.T.dot(X))).dot(X.T)).dot(y)\n",
    "        self.w = w[1:]\n",
    "        self.w0 = w[0]\n",
    "\n",
    "    def predict(self, train_features):\n",
    "        return train_features.dot(self.w) + self.w0\n",
    "    \n",
    "class Encryption:\n",
    "    def __init__(self, random_number, count):\n",
    "        self.random_number = random_number\n",
    "        self.count = count\n",
    "\n",
    "    def key (self, train_features):     \n",
    "        try:\n",
    "            r = np.random.RandomState(self.random_number)\n",
    "            random_m = r.randint(self.count, size = (train_features.shape[1],train_features.shape[1]))\n",
    "            self.rev_matrix = np.linalg.inv(random_m)\n",
    "        except:\n",
    "            reverse ()            \n",
    "        return self.rev_matrix\n",
    "    \n",
    "    def reverse (self, train_features):              \n",
    "        return  train_features.dot(self.rev_matrix)\n",
    "    \n",
    "    def decoding (self, reverse_features):\n",
    "        return reverse_features@np.linalg.inv(self.rev_matrix)"
   ]
  },
  {
   "cell_type": "code",
   "execution_count": 37,
   "metadata": {},
   "outputs": [
    {
     "data": {
      "text/plain": [
       "'Предсказания'"
      ]
     },
     "metadata": {},
     "output_type": "display_data"
    },
    {
     "data": {
      "text/plain": [
       "0    1.00\n",
       "1    1.00\n",
       "2    0.00\n",
       "3   -0.00\n",
       "4    0.00\n",
       "dtype: float64"
      ]
     },
     "metadata": {},
     "output_type": "display_data"
    },
    {
     "name": "stdout",
     "output_type": "stream",
     "text": [
      " \n"
     ]
    },
    {
     "data": {
      "text/plain": [
       "'R2'"
      ]
     },
     "metadata": {},
     "output_type": "display_data"
    },
    {
     "data": {
      "text/plain": [
       "0.6270326719379382"
      ]
     },
     "metadata": {},
     "output_type": "display_data"
    },
    {
     "name": "stdout",
     "output_type": "stream",
     "text": [
      " \n"
     ]
    },
    {
     "data": {
      "text/plain": [
       "'Расшифрованные данные'"
      ]
     },
     "metadata": {},
     "output_type": "display_data"
    },
    {
     "data": {
      "text/html": [
       "<div>\n",
       "<style scoped>\n",
       "    .dataframe tbody tr th:only-of-type {\n",
       "        vertical-align: middle;\n",
       "    }\n",
       "\n",
       "    .dataframe tbody tr th {\n",
       "        vertical-align: top;\n",
       "    }\n",
       "\n",
       "    .dataframe thead th {\n",
       "        text-align: right;\n",
       "    }\n",
       "</style>\n",
       "<table border=\"1\" class=\"dataframe\">\n",
       "  <thead>\n",
       "    <tr style=\"text-align: right;\">\n",
       "      <th></th>\n",
       "      <th>0</th>\n",
       "      <th>1</th>\n",
       "      <th>2</th>\n",
       "      <th>3</th>\n",
       "    </tr>\n",
       "  </thead>\n",
       "  <tbody>\n",
       "    <tr>\n",
       "      <th>0</th>\n",
       "      <td>1.00</td>\n",
       "      <td>41.00</td>\n",
       "      <td>49,600.00</td>\n",
       "      <td>1.00</td>\n",
       "    </tr>\n",
       "    <tr>\n",
       "      <th>1</th>\n",
       "      <td>-0.00</td>\n",
       "      <td>46.00</td>\n",
       "      <td>38,000.00</td>\n",
       "      <td>1.00</td>\n",
       "    </tr>\n",
       "    <tr>\n",
       "      <th>2</th>\n",
       "      <td>-0.00</td>\n",
       "      <td>29.00</td>\n",
       "      <td>21,000.00</td>\n",
       "      <td>-0.00</td>\n",
       "    </tr>\n",
       "    <tr>\n",
       "      <th>3</th>\n",
       "      <td>-0.00</td>\n",
       "      <td>21.00</td>\n",
       "      <td>41,700.00</td>\n",
       "      <td>2.00</td>\n",
       "    </tr>\n",
       "    <tr>\n",
       "      <th>4</th>\n",
       "      <td>1.00</td>\n",
       "      <td>28.00</td>\n",
       "      <td>26,100.00</td>\n",
       "      <td>-0.00</td>\n",
       "    </tr>\n",
       "  </tbody>\n",
       "</table>\n",
       "</div>"
      ],
      "text/plain": [
       "      0     1         2     3\n",
       "0  1.00 41.00 49,600.00  1.00\n",
       "1 -0.00 46.00 38,000.00  1.00\n",
       "2 -0.00 29.00 21,000.00 -0.00\n",
       "3 -0.00 21.00 41,700.00  2.00\n",
       "4  1.00 28.00 26,100.00 -0.00"
      ]
     },
     "metadata": {},
     "output_type": "display_data"
    }
   ],
   "source": [
    "reverse_method = Encryption(10, 42)\n",
    "reverse_key = reverse_method.key(features)\n",
    "reverse_features = reverse_method.reverse(features)\n",
    "\n",
    "model = LinearRegression()\n",
    "model.fit(reverse_features, target)\n",
    "predictions_reverse = model.predict(reverse_features)\n",
    "\n",
    "decoding_features = reverse_method.decoding(reverse_features)\n",
    "\n",
    "display(\"Предсказания\", round(predictions_reverse).head())\n",
    "print(\" \")\n",
    "display(\"R2\", r2_score(target, round(predictions_reverse)))\n",
    "print(\" \")\n",
    "display(\"Расшифрованные данные\", round(decoding_features).head())"
   ]
  }
 ],
 "metadata": {
  "ExecuteTimeLog": [
   {
    "duration": 403,
    "start_time": "2023-03-02T09:45:40.708Z"
   },
   {
    "duration": 132,
    "start_time": "2023-03-02T09:46:05.309Z"
   },
   {
    "duration": 35,
    "start_time": "2023-03-02T09:46:11.776Z"
   },
   {
    "duration": 10,
    "start_time": "2023-03-02T09:46:20.325Z"
   },
   {
    "duration": 49,
    "start_time": "2023-03-03T11:53:25.262Z"
   },
   {
    "duration": 1102,
    "start_time": "2023-03-03T11:53:29.318Z"
   },
   {
    "duration": 108,
    "start_time": "2023-03-03T11:53:30.422Z"
   },
   {
    "duration": 17,
    "start_time": "2023-03-03T11:53:30.532Z"
   },
   {
    "duration": 27,
    "start_time": "2023-03-03T11:53:30.551Z"
   },
   {
    "duration": 15,
    "start_time": "2023-03-03T11:53:30.579Z"
   },
   {
    "duration": 36,
    "start_time": "2023-03-03T11:53:30.596Z"
   },
   {
    "duration": 31,
    "start_time": "2023-03-03T11:53:30.635Z"
   },
   {
    "duration": 15,
    "start_time": "2023-03-03T11:53:30.668Z"
   },
   {
    "duration": 7,
    "start_time": "2023-03-03T11:53:30.791Z"
   },
   {
    "duration": 7,
    "start_time": "2023-03-03T11:53:31.013Z"
   },
   {
    "duration": 21,
    "start_time": "2023-03-03T11:53:31.943Z"
   },
   {
    "duration": 6,
    "start_time": "2023-03-03T12:27:05.057Z"
   },
   {
    "duration": 11,
    "start_time": "2023-03-03T12:28:10.969Z"
   },
   {
    "duration": 47,
    "start_time": "2023-03-03T12:28:23.376Z"
   },
   {
    "duration": 7,
    "start_time": "2023-03-03T12:28:31.010Z"
   },
   {
    "duration": 3,
    "start_time": "2023-03-03T12:32:47.702Z"
   },
   {
    "duration": 7,
    "start_time": "2023-03-03T12:32:47.882Z"
   },
   {
    "duration": 3,
    "start_time": "2023-03-03T12:32:56.990Z"
   },
   {
    "duration": 5,
    "start_time": "2023-03-03T12:32:59.318Z"
   },
   {
    "duration": 5,
    "start_time": "2023-03-03T12:33:01.882Z"
   },
   {
    "duration": 4,
    "start_time": "2023-03-03T12:33:09.835Z"
   },
   {
    "duration": 5,
    "start_time": "2023-03-03T12:33:25.722Z"
   },
   {
    "duration": 4,
    "start_time": "2023-03-03T12:33:55.420Z"
   },
   {
    "duration": 4,
    "start_time": "2023-03-03T12:34:00.034Z"
   },
   {
    "duration": 3,
    "start_time": "2023-03-03T12:34:10.436Z"
   },
   {
    "duration": 4,
    "start_time": "2023-03-03T12:34:10.696Z"
   },
   {
    "duration": 7,
    "start_time": "2023-03-03T12:36:48.838Z"
   },
   {
    "duration": 694,
    "start_time": "2023-03-03T12:37:32.966Z"
   },
   {
    "duration": 71,
    "start_time": "2023-03-03T12:37:52.670Z"
   },
   {
    "duration": 4,
    "start_time": "2023-03-03T12:37:55.220Z"
   },
   {
    "duration": 9,
    "start_time": "2023-03-03T12:38:22.276Z"
   },
   {
    "duration": 58,
    "start_time": "2023-03-03T12:38:36.878Z"
   },
   {
    "duration": 9,
    "start_time": "2023-03-03T12:38:43.911Z"
   },
   {
    "duration": 11,
    "start_time": "2023-03-03T12:41:28.667Z"
   },
   {
    "duration": 5,
    "start_time": "2023-03-03T12:41:39.777Z"
   },
   {
    "duration": 5,
    "start_time": "2023-03-03T12:42:16.489Z"
   },
   {
    "duration": 28,
    "start_time": "2023-03-03T12:42:20.769Z"
   },
   {
    "duration": 4,
    "start_time": "2023-03-03T12:42:54.020Z"
   },
   {
    "duration": 8,
    "start_time": "2023-03-03T12:43:14.574Z"
   },
   {
    "duration": 4,
    "start_time": "2023-03-03T12:45:49.215Z"
   },
   {
    "duration": 4,
    "start_time": "2023-03-03T12:45:55.337Z"
   },
   {
    "duration": 6,
    "start_time": "2023-03-03T12:46:06.764Z"
   },
   {
    "duration": 4,
    "start_time": "2023-03-03T12:46:14.780Z"
   },
   {
    "duration": 4,
    "start_time": "2023-03-03T12:46:25.424Z"
   },
   {
    "duration": 10,
    "start_time": "2023-03-03T12:46:31.854Z"
   },
   {
    "duration": 87,
    "start_time": "2023-03-03T12:46:45.418Z"
   },
   {
    "duration": 13,
    "start_time": "2023-03-03T12:46:52.970Z"
   },
   {
    "duration": 10,
    "start_time": "2023-03-03T12:47:12.776Z"
   },
   {
    "duration": 9,
    "start_time": "2023-03-03T12:47:40.722Z"
   },
   {
    "duration": 1394,
    "start_time": "2023-03-06T09:54:26.509Z"
   },
   {
    "duration": 151,
    "start_time": "2023-03-06T09:54:27.905Z"
   },
   {
    "duration": 18,
    "start_time": "2023-03-06T09:54:28.057Z"
   },
   {
    "duration": 26,
    "start_time": "2023-03-06T09:54:28.083Z"
   },
   {
    "duration": 14,
    "start_time": "2023-03-06T09:54:28.305Z"
   },
   {
    "duration": 7,
    "start_time": "2023-03-06T09:54:28.720Z"
   },
   {
    "duration": 11,
    "start_time": "2023-03-06T09:54:29.116Z"
   },
   {
    "duration": 5,
    "start_time": "2023-03-06T09:54:29.425Z"
   },
   {
    "duration": 6,
    "start_time": "2023-03-06T09:54:29.634Z"
   },
   {
    "duration": 12,
    "start_time": "2023-03-06T09:54:29.817Z"
   },
   {
    "duration": 16,
    "start_time": "2023-03-06T09:54:30.425Z"
   },
   {
    "duration": 18,
    "start_time": "2023-03-06T09:54:30.601Z"
   },
   {
    "duration": 6,
    "start_time": "2023-03-06T09:54:31.321Z"
   },
   {
    "duration": 17,
    "start_time": "2023-03-06T09:54:31.447Z"
   },
   {
    "duration": 10,
    "start_time": "2023-03-06T09:54:31.610Z"
   },
   {
    "duration": 10,
    "start_time": "2023-03-06T10:01:41.206Z"
   },
   {
    "duration": 130,
    "start_time": "2023-03-06T10:01:49.924Z"
   },
   {
    "duration": 6,
    "start_time": "2023-03-06T10:01:57.241Z"
   },
   {
    "duration": 14,
    "start_time": "2023-03-06T10:03:54.818Z"
   },
   {
    "duration": 140,
    "start_time": "2023-03-06T10:04:32.588Z"
   },
   {
    "duration": 118,
    "start_time": "2023-03-06T10:04:38.915Z"
   },
   {
    "duration": 49,
    "start_time": "2023-03-06T10:04:55.510Z"
   },
   {
    "duration": 17,
    "start_time": "2023-03-06T10:05:03.299Z"
   },
   {
    "duration": 11,
    "start_time": "2023-03-06T10:06:34.839Z"
   },
   {
    "duration": 7,
    "start_time": "2023-03-06T10:08:58.631Z"
   },
   {
    "duration": 15,
    "start_time": "2023-03-06T10:09:23.400Z"
   },
   {
    "duration": 8,
    "start_time": "2023-03-06T10:09:40.109Z"
   },
   {
    "duration": 10,
    "start_time": "2023-03-06T10:09:42.599Z"
   },
   {
    "duration": 17,
    "start_time": "2023-03-06T10:09:47.316Z"
   },
   {
    "duration": 7,
    "start_time": "2023-03-06T10:09:59.132Z"
   },
   {
    "duration": 8,
    "start_time": "2023-03-06T10:10:02.194Z"
   },
   {
    "duration": 8,
    "start_time": "2023-03-06T10:10:04.508Z"
   },
   {
    "duration": 5,
    "start_time": "2023-03-06T10:10:26.512Z"
   },
   {
    "duration": 7,
    "start_time": "2023-03-06T10:10:30.040Z"
   },
   {
    "duration": 14,
    "start_time": "2023-03-06T10:10:33.495Z"
   },
   {
    "duration": 17,
    "start_time": "2023-03-06T10:10:36.583Z"
   },
   {
    "duration": 12,
    "start_time": "2023-03-06T10:11:13.193Z"
   },
   {
    "duration": 5,
    "start_time": "2023-03-06T10:11:33.308Z"
   },
   {
    "duration": 12,
    "start_time": "2023-03-06T10:16:23.390Z"
   },
   {
    "duration": 12,
    "start_time": "2023-03-06T10:16:37.407Z"
   },
   {
    "duration": 7,
    "start_time": "2023-03-06T10:16:50.424Z"
   },
   {
    "duration": 12,
    "start_time": "2023-03-06T10:17:05.524Z"
   },
   {
    "duration": 11,
    "start_time": "2023-03-06T10:17:16.608Z"
   },
   {
    "duration": 4,
    "start_time": "2023-03-06T10:17:32.603Z"
   },
   {
    "duration": 23,
    "start_time": "2023-03-06T10:17:33.383Z"
   },
   {
    "duration": 10,
    "start_time": "2023-03-06T10:17:33.510Z"
   },
   {
    "duration": 13,
    "start_time": "2023-03-06T10:17:40.953Z"
   },
   {
    "duration": 5,
    "start_time": "2023-03-06T10:18:16.517Z"
   },
   {
    "duration": 3,
    "start_time": "2023-03-06T10:18:23.733Z"
   },
   {
    "duration": 8,
    "start_time": "2023-03-06T10:18:58.515Z"
   },
   {
    "duration": 11,
    "start_time": "2023-03-06T10:19:00.305Z"
   },
   {
    "duration": 7,
    "start_time": "2023-03-06T10:19:01.300Z"
   },
   {
    "duration": 15,
    "start_time": "2023-03-06T10:19:01.596Z"
   },
   {
    "duration": 12,
    "start_time": "2023-03-06T10:19:01.730Z"
   },
   {
    "duration": 16,
    "start_time": "2023-03-06T10:20:40.239Z"
   },
   {
    "duration": 2314,
    "start_time": "2023-03-07T12:57:23.219Z"
   },
   {
    "duration": 177,
    "start_time": "2023-03-07T12:57:25.535Z"
   },
   {
    "duration": 17,
    "start_time": "2023-03-07T12:57:25.713Z"
   },
   {
    "duration": 17,
    "start_time": "2023-03-07T12:57:25.732Z"
   },
   {
    "duration": 14,
    "start_time": "2023-03-07T12:57:25.758Z"
   },
   {
    "duration": 15,
    "start_time": "2023-03-07T12:57:25.774Z"
   },
   {
    "duration": 32,
    "start_time": "2023-03-07T12:57:25.791Z"
   },
   {
    "duration": 15,
    "start_time": "2023-03-07T12:57:25.825Z"
   },
   {
    "duration": 19,
    "start_time": "2023-03-07T12:57:25.841Z"
   },
   {
    "duration": 13,
    "start_time": "2023-03-07T12:57:25.867Z"
   },
   {
    "duration": 15,
    "start_time": "2023-03-07T12:57:27.109Z"
   },
   {
    "duration": 1154,
    "start_time": "2023-03-07T12:57:38.398Z"
   },
   {
    "duration": 6,
    "start_time": "2023-03-07T12:57:39.994Z"
   },
   {
    "duration": 6,
    "start_time": "2023-03-07T12:57:41.405Z"
   },
   {
    "duration": 21,
    "start_time": "2023-03-07T12:57:45.441Z"
   },
   {
    "duration": 29,
    "start_time": "2023-03-07T12:58:08.527Z"
   },
   {
    "duration": 8,
    "start_time": "2023-03-07T12:59:14.887Z"
   },
   {
    "duration": 1840,
    "start_time": "2023-03-07T12:59:43.686Z"
   },
   {
    "duration": 7,
    "start_time": "2023-03-07T12:59:49.991Z"
   },
   {
    "duration": 7,
    "start_time": "2023-03-07T13:00:24.787Z"
   },
   {
    "duration": 8,
    "start_time": "2023-03-07T13:00:45.081Z"
   },
   {
    "duration": 1121,
    "start_time": "2023-03-09T07:10:43.429Z"
   },
   {
    "duration": 122,
    "start_time": "2023-03-09T07:10:44.552Z"
   },
   {
    "duration": 17,
    "start_time": "2023-03-09T07:10:44.675Z"
   },
   {
    "duration": 15,
    "start_time": "2023-03-09T07:10:44.694Z"
   },
   {
    "duration": 5,
    "start_time": "2023-03-09T07:10:44.710Z"
   },
   {
    "duration": 10,
    "start_time": "2023-03-09T07:10:44.716Z"
   },
   {
    "duration": 26,
    "start_time": "2023-03-09T07:10:44.728Z"
   },
   {
    "duration": 5,
    "start_time": "2023-03-09T07:10:44.756Z"
   },
   {
    "duration": 15,
    "start_time": "2023-03-09T07:10:44.763Z"
   },
   {
    "duration": 8,
    "start_time": "2023-03-09T07:10:44.781Z"
   },
   {
    "duration": 19,
    "start_time": "2023-03-09T07:10:44.790Z"
   },
   {
    "duration": 594,
    "start_time": "2023-03-09T07:10:44.811Z"
   },
   {
    "duration": 6,
    "start_time": "2023-03-09T07:10:45.407Z"
   },
   {
    "duration": 5,
    "start_time": "2023-03-09T07:10:45.415Z"
   },
   {
    "duration": 39,
    "start_time": "2023-03-09T07:10:45.422Z"
   },
   {
    "duration": 4,
    "start_time": "2023-03-09T07:10:45.462Z"
   },
   {
    "duration": 53,
    "start_time": "2023-03-09T07:10:45.468Z"
   },
   {
    "duration": 9,
    "start_time": "2023-03-09T07:10:45.523Z"
   },
   {
    "duration": 8,
    "start_time": "2023-03-09T07:10:45.533Z"
   },
   {
    "duration": 6,
    "start_time": "2023-03-09T07:10:45.543Z"
   },
   {
    "duration": 11,
    "start_time": "2023-03-09T07:10:45.550Z"
   },
   {
    "duration": 14,
    "start_time": "2023-03-09T07:10:45.563Z"
   },
   {
    "duration": 7,
    "start_time": "2023-03-09T07:10:45.578Z"
   },
   {
    "duration": 70,
    "start_time": "2023-03-09T07:10:45.587Z"
   },
   {
    "duration": 97,
    "start_time": "2023-03-09T07:10:45.659Z"
   },
   {
    "duration": 6,
    "start_time": "2023-03-09T07:10:45.759Z"
   },
   {
    "duration": 12,
    "start_time": "2023-03-09T07:10:45.767Z"
   },
   {
    "duration": 78,
    "start_time": "2023-03-09T07:10:45.783Z"
   },
   {
    "duration": 5,
    "start_time": "2023-03-09T07:10:45.954Z"
   },
   {
    "duration": 95,
    "start_time": "2023-03-09T07:10:45.961Z"
   },
   {
    "duration": 4,
    "start_time": "2023-03-09T07:10:46.058Z"
   },
   {
    "duration": 94,
    "start_time": "2023-03-09T07:10:46.064Z"
   },
   {
    "duration": 9,
    "start_time": "2023-03-09T07:10:46.159Z"
   },
   {
    "duration": 186,
    "start_time": "2023-03-09T07:10:46.170Z"
   },
   {
    "duration": 285,
    "start_time": "2023-03-09T07:13:00.083Z"
   },
   {
    "duration": 3,
    "start_time": "2023-03-09T07:13:15.584Z"
   },
   {
    "duration": 165,
    "start_time": "2023-03-09T07:13:25.916Z"
   },
   {
    "duration": 72,
    "start_time": "2023-03-09T07:15:06.496Z"
   },
   {
    "duration": 14,
    "start_time": "2023-03-09T07:15:11.647Z"
   },
   {
    "duration": 7,
    "start_time": "2023-03-09T07:15:44.858Z"
   },
   {
    "duration": 5,
    "start_time": "2023-03-09T07:15:53.473Z"
   },
   {
    "duration": 6,
    "start_time": "2023-03-09T07:18:40.895Z"
   },
   {
    "duration": 11,
    "start_time": "2023-03-09T07:19:18.474Z"
   },
   {
    "duration": 7,
    "start_time": "2023-03-09T07:19:21.302Z"
   },
   {
    "duration": 6,
    "start_time": "2023-03-09T07:19:25.946Z"
   },
   {
    "duration": 5,
    "start_time": "2023-03-09T07:19:28.707Z"
   },
   {
    "duration": 1318,
    "start_time": "2023-03-09T07:19:34.537Z"
   },
   {
    "duration": 61,
    "start_time": "2023-03-09T07:19:35.857Z"
   },
   {
    "duration": 14,
    "start_time": "2023-03-09T07:19:35.919Z"
   },
   {
    "duration": 13,
    "start_time": "2023-03-09T07:19:35.936Z"
   },
   {
    "duration": 9,
    "start_time": "2023-03-09T07:19:35.950Z"
   },
   {
    "duration": 9,
    "start_time": "2023-03-09T07:19:35.961Z"
   },
   {
    "duration": 14,
    "start_time": "2023-03-09T07:19:35.972Z"
   },
   {
    "duration": 10,
    "start_time": "2023-03-09T07:19:35.988Z"
   },
   {
    "duration": 10,
    "start_time": "2023-03-09T07:19:35.999Z"
   },
   {
    "duration": 6,
    "start_time": "2023-03-09T07:19:36.011Z"
   },
   {
    "duration": 30,
    "start_time": "2023-03-09T07:19:36.019Z"
   },
   {
    "duration": 165,
    "start_time": "2023-03-09T07:19:36.054Z"
   },
   {
    "duration": 6,
    "start_time": "2023-03-09T07:19:36.221Z"
   },
   {
    "duration": 5,
    "start_time": "2023-03-09T07:19:36.228Z"
   },
   {
    "duration": 32,
    "start_time": "2023-03-09T07:19:36.234Z"
   },
   {
    "duration": 4,
    "start_time": "2023-03-09T07:19:36.269Z"
   },
   {
    "duration": 5,
    "start_time": "2023-03-09T07:19:36.275Z"
   },
   {
    "duration": 12,
    "start_time": "2023-03-09T07:19:36.281Z"
   },
   {
    "duration": 17,
    "start_time": "2023-03-09T07:19:36.294Z"
   },
   {
    "duration": 6,
    "start_time": "2023-03-09T07:19:36.313Z"
   },
   {
    "duration": 14,
    "start_time": "2023-03-09T07:19:36.320Z"
   },
   {
    "duration": 24,
    "start_time": "2023-03-09T07:19:36.335Z"
   },
   {
    "duration": 8,
    "start_time": "2023-03-09T07:19:36.361Z"
   },
   {
    "duration": 5,
    "start_time": "2023-03-09T07:19:36.372Z"
   },
   {
    "duration": 5,
    "start_time": "2023-03-09T07:19:36.453Z"
   },
   {
    "duration": 5,
    "start_time": "2023-03-09T07:19:36.461Z"
   },
   {
    "duration": 90,
    "start_time": "2023-03-09T07:19:36.468Z"
   },
   {
    "duration": 7,
    "start_time": "2023-03-09T07:19:36.653Z"
   },
   {
    "duration": 5,
    "start_time": "2023-03-09T07:19:36.753Z"
   },
   {
    "duration": 102,
    "start_time": "2023-03-09T07:19:36.760Z"
   },
   {
    "duration": 9,
    "start_time": "2023-03-09T07:19:36.864Z"
   },
   {
    "duration": 86,
    "start_time": "2023-03-09T07:19:36.875Z"
   },
   {
    "duration": 8,
    "start_time": "2023-03-09T07:19:36.963Z"
   },
   {
    "duration": 100,
    "start_time": "2023-03-09T07:19:37.053Z"
   },
   {
    "duration": 7,
    "start_time": "2023-03-09T07:20:01.439Z"
   },
   {
    "duration": 9,
    "start_time": "2023-03-09T07:20:06.299Z"
   },
   {
    "duration": 6,
    "start_time": "2023-03-09T07:20:11.999Z"
   },
   {
    "duration": 6,
    "start_time": "2023-03-09T07:20:12.835Z"
   },
   {
    "duration": 7,
    "start_time": "2023-03-09T07:24:23.222Z"
   },
   {
    "duration": 6,
    "start_time": "2023-03-09T07:24:26.129Z"
   },
   {
    "duration": 133,
    "start_time": "2023-03-09T07:29:30.730Z"
   },
   {
    "duration": 3264,
    "start_time": "2023-03-09T07:29:47.921Z"
   },
   {
    "duration": 13,
    "start_time": "2023-03-09T07:29:51.190Z"
   },
   {
    "duration": 2294,
    "start_time": "2023-03-09T07:30:09.999Z"
   },
   {
    "duration": 25,
    "start_time": "2023-03-09T07:30:12.296Z"
   },
   {
    "duration": 17,
    "start_time": "2023-03-09T07:30:12.322Z"
   },
   {
    "duration": 15,
    "start_time": "2023-03-09T07:31:05.394Z"
   },
   {
    "duration": 26,
    "start_time": "2023-03-09T07:35:09.041Z"
   },
   {
    "duration": 4,
    "start_time": "2023-03-09T07:35:11.928Z"
   },
   {
    "duration": 110,
    "start_time": "2023-03-09T07:35:12.561Z"
   },
   {
    "duration": 4,
    "start_time": "2023-03-09T07:35:42.088Z"
   },
   {
    "duration": 61,
    "start_time": "2023-03-09T07:35:42.261Z"
   },
   {
    "duration": 8,
    "start_time": "2023-03-09T07:35:42.430Z"
   },
   {
    "duration": 16,
    "start_time": "2023-03-09T07:35:42.661Z"
   },
   {
    "duration": 5,
    "start_time": "2023-03-09T07:35:42.757Z"
   },
   {
    "duration": 7,
    "start_time": "2023-03-09T07:35:43.202Z"
   },
   {
    "duration": 14,
    "start_time": "2023-03-09T07:35:43.409Z"
   },
   {
    "duration": 7,
    "start_time": "2023-03-09T07:35:43.577Z"
   },
   {
    "duration": 10,
    "start_time": "2023-03-09T07:35:43.901Z"
   },
   {
    "duration": 8,
    "start_time": "2023-03-09T07:35:44.522Z"
   },
   {
    "duration": 19,
    "start_time": "2023-03-09T07:35:44.846Z"
   },
   {
    "duration": 180,
    "start_time": "2023-03-09T07:35:47.082Z"
   },
   {
    "duration": 2223,
    "start_time": "2023-03-09T07:35:50.760Z"
   },
   {
    "duration": 3,
    "start_time": "2023-03-09T07:35:52.986Z"
   },
   {
    "duration": 11,
    "start_time": "2023-03-09T07:35:52.991Z"
   },
   {
    "duration": 116,
    "start_time": "2023-03-09T07:35:53.490Z"
   },
   {
    "duration": 167,
    "start_time": "2023-03-09T07:36:11.029Z"
   },
   {
    "duration": 2603,
    "start_time": "2023-03-09T07:36:41.856Z"
   },
   {
    "duration": 5,
    "start_time": "2023-03-09T07:36:54.109Z"
   },
   {
    "duration": 171,
    "start_time": "2023-03-09T07:37:16.813Z"
   },
   {
    "duration": 14,
    "start_time": "2023-03-09T08:11:31.582Z"
   },
   {
    "duration": 147,
    "start_time": "2023-03-09T08:11:39.150Z"
   },
   {
    "duration": 101,
    "start_time": "2023-03-09T08:14:30.494Z"
   },
   {
    "duration": 32,
    "start_time": "2023-03-09T08:14:51.452Z"
   },
   {
    "duration": 18,
    "start_time": "2023-03-09T08:14:55.527Z"
   },
   {
    "duration": 400,
    "start_time": "2023-03-09T08:15:05.530Z"
   },
   {
    "duration": 558,
    "start_time": "2023-03-09T08:15:38.261Z"
   },
   {
    "duration": 442,
    "start_time": "2023-03-09T08:16:14.437Z"
   },
   {
    "duration": 129,
    "start_time": "2023-03-09T08:16:42.135Z"
   },
   {
    "duration": 449,
    "start_time": "2023-03-09T08:16:43.291Z"
   },
   {
    "duration": 475,
    "start_time": "2023-03-09T08:17:01.287Z"
   },
   {
    "duration": 442,
    "start_time": "2023-03-09T08:17:04.948Z"
   },
   {
    "duration": 542,
    "start_time": "2023-03-09T08:17:51.636Z"
   },
   {
    "duration": 535,
    "start_time": "2023-03-09T08:18:34.019Z"
   },
   {
    "duration": 426,
    "start_time": "2023-03-09T08:18:53.434Z"
   },
   {
    "duration": 12,
    "start_time": "2023-03-09T08:24:03.087Z"
   },
   {
    "duration": 118,
    "start_time": "2023-03-09T08:24:24.773Z"
   },
   {
    "duration": 429,
    "start_time": "2023-03-09T08:25:31.741Z"
   },
   {
    "duration": 597,
    "start_time": "2023-03-09T08:25:44.990Z"
   },
   {
    "duration": 2253,
    "start_time": "2023-03-09T08:29:08.562Z"
   },
   {
    "duration": 1510,
    "start_time": "2023-03-09T08:29:10.818Z"
   },
   {
    "duration": 65,
    "start_time": "2023-03-09T08:29:12.330Z"
   },
   {
    "duration": 14,
    "start_time": "2023-03-09T08:29:12.397Z"
   },
   {
    "duration": 12,
    "start_time": "2023-03-09T08:29:12.413Z"
   },
   {
    "duration": 12,
    "start_time": "2023-03-09T08:29:12.426Z"
   },
   {
    "duration": 8,
    "start_time": "2023-03-09T08:29:12.440Z"
   },
   {
    "duration": 32,
    "start_time": "2023-03-09T08:29:12.451Z"
   },
   {
    "duration": 11,
    "start_time": "2023-03-09T08:29:12.485Z"
   },
   {
    "duration": 6,
    "start_time": "2023-03-09T08:29:12.499Z"
   },
   {
    "duration": 8,
    "start_time": "2023-03-09T08:29:12.507Z"
   },
   {
    "duration": 465,
    "start_time": "2023-03-09T08:29:12.517Z"
   },
   {
    "duration": 500,
    "start_time": "2023-03-09T08:29:12.985Z"
   },
   {
    "duration": 157,
    "start_time": "2023-03-09T08:29:13.487Z"
   },
   {
    "duration": 7,
    "start_time": "2023-03-09T08:29:13.653Z"
   },
   {
    "duration": 14,
    "start_time": "2023-03-09T08:29:13.662Z"
   },
   {
    "duration": 6,
    "start_time": "2023-03-09T08:29:13.678Z"
   },
   {
    "duration": 5,
    "start_time": "2023-03-09T08:29:13.686Z"
   },
   {
    "duration": 8,
    "start_time": "2023-03-09T08:29:13.693Z"
   },
   {
    "duration": 6,
    "start_time": "2023-03-09T08:29:13.703Z"
   },
   {
    "duration": 7,
    "start_time": "2023-03-09T08:29:13.710Z"
   },
   {
    "duration": 9,
    "start_time": "2023-03-09T08:29:13.754Z"
   },
   {
    "duration": 22,
    "start_time": "2023-03-09T08:29:13.765Z"
   },
   {
    "duration": 11,
    "start_time": "2023-03-09T08:29:13.789Z"
   },
   {
    "duration": 55,
    "start_time": "2023-03-09T08:29:13.802Z"
   },
   {
    "duration": 3,
    "start_time": "2023-03-09T08:29:13.860Z"
   },
   {
    "duration": 89,
    "start_time": "2023-03-09T08:29:13.865Z"
   },
   {
    "duration": 17,
    "start_time": "2023-03-09T08:29:13.959Z"
   },
   {
    "duration": 82,
    "start_time": "2023-03-09T08:29:13.978Z"
   },
   {
    "duration": 6,
    "start_time": "2023-03-09T08:29:14.063Z"
   },
   {
    "duration": 92,
    "start_time": "2023-03-09T08:29:14.072Z"
   },
   {
    "duration": 5,
    "start_time": "2023-03-09T08:29:14.167Z"
   },
   {
    "duration": 19,
    "start_time": "2023-03-09T08:29:14.254Z"
   },
   {
    "duration": 9,
    "start_time": "2023-03-09T08:29:14.353Z"
   },
   {
    "duration": 197,
    "start_time": "2023-03-09T08:29:14.365Z"
   },
   {
    "duration": 565,
    "start_time": "2023-03-09T08:32:15.510Z"
   },
   {
    "duration": 698,
    "start_time": "2023-03-09T08:33:18.960Z"
   },
   {
    "duration": 76,
    "start_time": "2023-03-09T12:59:40.593Z"
   },
   {
    "duration": 2290,
    "start_time": "2023-03-09T12:59:46.634Z"
   },
   {
    "duration": 5,
    "start_time": "2023-03-09T12:59:48.927Z"
   },
   {
    "duration": 80,
    "start_time": "2023-03-09T12:59:48.934Z"
   },
   {
    "duration": 11,
    "start_time": "2023-03-09T12:59:49.017Z"
   },
   {
    "duration": 15,
    "start_time": "2023-03-09T12:59:49.030Z"
   },
   {
    "duration": 5,
    "start_time": "2023-03-09T12:59:49.047Z"
   },
   {
    "duration": 7,
    "start_time": "2023-03-09T12:59:49.055Z"
   },
   {
    "duration": 11,
    "start_time": "2023-03-09T12:59:49.064Z"
   },
   {
    "duration": 6,
    "start_time": "2023-03-09T12:59:49.077Z"
   },
   {
    "duration": 6,
    "start_time": "2023-03-09T12:59:49.086Z"
   },
   {
    "duration": 12,
    "start_time": "2023-03-09T12:59:49.094Z"
   },
   {
    "duration": 483,
    "start_time": "2023-03-09T12:59:49.107Z"
   },
   {
    "duration": 481,
    "start_time": "2023-03-09T12:59:49.592Z"
   },
   {
    "duration": 172,
    "start_time": "2023-03-09T12:59:50.074Z"
   },
   {
    "duration": 9,
    "start_time": "2023-03-09T12:59:50.248Z"
   },
   {
    "duration": 6,
    "start_time": "2023-03-09T12:59:50.561Z"
   },
   {
    "duration": 4,
    "start_time": "2023-03-09T12:59:51.438Z"
   },
   {
    "duration": 4,
    "start_time": "2023-03-09T12:59:51.650Z"
   },
   {
    "duration": 4,
    "start_time": "2023-03-09T12:59:52.011Z"
   },
   {
    "duration": 4,
    "start_time": "2023-03-09T12:59:52.335Z"
   },
   {
    "duration": 3,
    "start_time": "2023-03-09T12:59:52.502Z"
   },
   {
    "duration": 8,
    "start_time": "2023-03-09T12:59:53.072Z"
   },
   {
    "duration": 13,
    "start_time": "2023-03-09T12:59:53.640Z"
   },
   {
    "duration": 85,
    "start_time": "2023-03-09T13:00:00.955Z"
   },
   {
    "duration": 5,
    "start_time": "2023-03-09T13:00:09.431Z"
   },
   {
    "duration": 5,
    "start_time": "2023-03-09T13:00:13.573Z"
   },
   {
    "duration": 112,
    "start_time": "2023-03-09T13:00:13.716Z"
   },
   {
    "duration": 7,
    "start_time": "2023-03-09T13:00:42.286Z"
   },
   {
    "duration": 4,
    "start_time": "2023-03-09T13:00:46.453Z"
   },
   {
    "duration": 3,
    "start_time": "2023-03-09T13:00:46.560Z"
   },
   {
    "duration": 4,
    "start_time": "2023-03-09T13:00:49.961Z"
   },
   {
    "duration": 7,
    "start_time": "2023-03-09T13:00:50.306Z"
   },
   {
    "duration": 8,
    "start_time": "2023-03-09T13:00:50.467Z"
   },
   {
    "duration": 4,
    "start_time": "2023-03-09T13:00:50.654Z"
   },
   {
    "duration": 11,
    "start_time": "2023-03-09T13:00:51.364Z"
   },
   {
    "duration": 4,
    "start_time": "2023-03-09T13:00:51.727Z"
   },
   {
    "duration": 15,
    "start_time": "2023-03-09T13:00:51.914Z"
   },
   {
    "duration": 6,
    "start_time": "2023-03-09T13:00:55.751Z"
   },
   {
    "duration": 65,
    "start_time": "2023-03-09T13:00:56.088Z"
   },
   {
    "duration": 7,
    "start_time": "2023-03-09T13:03:27.024Z"
   },
   {
    "duration": 8,
    "start_time": "2023-03-09T13:03:47.121Z"
   },
   {
    "duration": 8,
    "start_time": "2023-03-09T13:03:57.701Z"
   },
   {
    "duration": 7,
    "start_time": "2023-03-09T13:04:51.871Z"
   },
   {
    "duration": 7,
    "start_time": "2023-03-09T13:04:55.295Z"
   },
   {
    "duration": 7,
    "start_time": "2023-03-09T13:05:52.465Z"
   },
   {
    "duration": 9,
    "start_time": "2023-03-09T13:06:21.173Z"
   },
   {
    "duration": 22,
    "start_time": "2023-03-09T13:07:13.147Z"
   },
   {
    "duration": 23,
    "start_time": "2023-03-09T13:07:26.393Z"
   },
   {
    "duration": 19,
    "start_time": "2023-03-09T13:07:34.912Z"
   },
   {
    "duration": 2183,
    "start_time": "2023-03-09T13:18:45.924Z"
   },
   {
    "duration": 2151,
    "start_time": "2023-03-09T13:18:48.109Z"
   },
   {
    "duration": 62,
    "start_time": "2023-03-09T13:18:50.262Z"
   },
   {
    "duration": 18,
    "start_time": "2023-03-09T13:18:50.352Z"
   },
   {
    "duration": 17,
    "start_time": "2023-03-09T13:18:50.372Z"
   },
   {
    "duration": 6,
    "start_time": "2023-03-09T13:18:50.391Z"
   },
   {
    "duration": 7,
    "start_time": "2023-03-09T13:18:50.454Z"
   },
   {
    "duration": 12,
    "start_time": "2023-03-09T13:18:50.463Z"
   },
   {
    "duration": 5,
    "start_time": "2023-03-09T13:18:50.477Z"
   },
   {
    "duration": 8,
    "start_time": "2023-03-09T13:18:50.485Z"
   },
   {
    "duration": 59,
    "start_time": "2023-03-09T13:18:50.495Z"
   },
   {
    "duration": 465,
    "start_time": "2023-03-09T13:18:50.556Z"
   },
   {
    "duration": 485,
    "start_time": "2023-03-09T13:18:51.023Z"
   },
   {
    "duration": 146,
    "start_time": "2023-03-09T13:18:51.509Z"
   },
   {
    "duration": 5,
    "start_time": "2023-03-09T13:18:51.657Z"
   },
   {
    "duration": 26,
    "start_time": "2023-03-09T13:18:51.663Z"
   },
   {
    "duration": 4,
    "start_time": "2023-03-09T13:18:51.691Z"
   },
   {
    "duration": 8,
    "start_time": "2023-03-09T13:18:51.697Z"
   },
   {
    "duration": 16,
    "start_time": "2023-03-09T13:18:51.707Z"
   },
   {
    "duration": 6,
    "start_time": "2023-03-09T13:18:51.725Z"
   },
   {
    "duration": 5,
    "start_time": "2023-03-09T13:18:51.732Z"
   },
   {
    "duration": 9,
    "start_time": "2023-03-09T13:18:51.738Z"
   },
   {
    "duration": 11,
    "start_time": "2023-03-09T13:18:51.753Z"
   },
   {
    "duration": 6,
    "start_time": "2023-03-09T13:18:51.765Z"
   },
   {
    "duration": 116,
    "start_time": "2023-03-09T13:18:51.772Z"
   },
   {
    "duration": 0,
    "start_time": "2023-03-09T13:18:51.889Z"
   },
   {
    "duration": 0,
    "start_time": "2023-03-09T13:18:51.891Z"
   },
   {
    "duration": 0,
    "start_time": "2023-03-09T13:18:51.892Z"
   },
   {
    "duration": 0,
    "start_time": "2023-03-09T13:18:51.893Z"
   },
   {
    "duration": 0,
    "start_time": "2023-03-09T13:18:51.894Z"
   },
   {
    "duration": 0,
    "start_time": "2023-03-09T13:18:51.895Z"
   },
   {
    "duration": 0,
    "start_time": "2023-03-09T13:18:51.896Z"
   },
   {
    "duration": 0,
    "start_time": "2023-03-09T13:18:51.897Z"
   },
   {
    "duration": 0,
    "start_time": "2023-03-09T13:18:51.898Z"
   },
   {
    "duration": 870,
    "start_time": "2023-03-09T13:20:41.290Z"
   },
   {
    "duration": 859,
    "start_time": "2023-03-09T13:20:58.513Z"
   },
   {
    "duration": 1020,
    "start_time": "2023-03-09T13:21:37.994Z"
   },
   {
    "duration": 845,
    "start_time": "2023-03-09T13:21:56.322Z"
   },
   {
    "duration": 7,
    "start_time": "2023-03-09T13:22:10.450Z"
   },
   {
    "duration": 11,
    "start_time": "2023-03-09T13:23:48.922Z"
   },
   {
    "duration": 81,
    "start_time": "2023-03-09T13:24:18.679Z"
   },
   {
    "duration": 71,
    "start_time": "2023-03-09T13:24:36.067Z"
   },
   {
    "duration": 896,
    "start_time": "2023-03-09T13:25:00.817Z"
   },
   {
    "duration": 68,
    "start_time": "2023-03-09T13:28:46.089Z"
   },
   {
    "duration": 11,
    "start_time": "2023-03-09T13:29:12.724Z"
   },
   {
    "duration": 13,
    "start_time": "2023-03-09T13:29:26.543Z"
   },
   {
    "duration": 102,
    "start_time": "2023-03-09T13:29:35.294Z"
   },
   {
    "duration": 184,
    "start_time": "2023-03-09T13:30:02.890Z"
   },
   {
    "duration": 103,
    "start_time": "2023-03-09T13:30:15.202Z"
   },
   {
    "duration": 10,
    "start_time": "2023-03-09T13:30:40.999Z"
   },
   {
    "duration": 334,
    "start_time": "2023-03-09T13:31:01.051Z"
   },
   {
    "duration": 11,
    "start_time": "2023-03-09T13:31:12.073Z"
   },
   {
    "duration": 12,
    "start_time": "2023-03-09T13:31:26.900Z"
   },
   {
    "duration": 10,
    "start_time": "2023-03-09T13:33:55.193Z"
   },
   {
    "duration": 11,
    "start_time": "2023-03-09T13:35:04.893Z"
   },
   {
    "duration": 9,
    "start_time": "2023-03-09T13:36:19.020Z"
   },
   {
    "duration": 9,
    "start_time": "2023-03-09T13:36:27.402Z"
   },
   {
    "duration": 9,
    "start_time": "2023-03-09T13:37:24.778Z"
   },
   {
    "duration": 11,
    "start_time": "2023-03-09T13:37:43.002Z"
   },
   {
    "duration": 7,
    "start_time": "2023-03-09T13:38:05.638Z"
   },
   {
    "duration": 7,
    "start_time": "2023-03-09T13:38:51.914Z"
   },
   {
    "duration": 8,
    "start_time": "2023-03-09T13:39:02.278Z"
   },
   {
    "duration": 8,
    "start_time": "2023-03-09T13:39:36.209Z"
   },
   {
    "duration": 4,
    "start_time": "2023-03-09T13:39:53.796Z"
   },
   {
    "duration": 4,
    "start_time": "2023-03-09T13:39:54.223Z"
   },
   {
    "duration": 6,
    "start_time": "2023-03-09T13:39:59.408Z"
   },
   {
    "duration": 11,
    "start_time": "2023-03-09T13:39:59.836Z"
   },
   {
    "duration": 7,
    "start_time": "2023-03-09T13:40:00.304Z"
   },
   {
    "duration": 6,
    "start_time": "2023-03-09T13:40:00.538Z"
   },
   {
    "duration": 2208,
    "start_time": "2023-03-09T13:40:09.365Z"
   },
   {
    "duration": 1460,
    "start_time": "2023-03-09T13:40:11.575Z"
   },
   {
    "duration": 91,
    "start_time": "2023-03-09T13:40:13.037Z"
   },
   {
    "duration": 14,
    "start_time": "2023-03-09T13:40:13.130Z"
   },
   {
    "duration": 12,
    "start_time": "2023-03-09T13:40:13.146Z"
   },
   {
    "duration": 4,
    "start_time": "2023-03-09T13:40:13.160Z"
   },
   {
    "duration": 10,
    "start_time": "2023-03-09T13:40:13.166Z"
   },
   {
    "duration": 19,
    "start_time": "2023-03-09T13:40:13.178Z"
   },
   {
    "duration": 5,
    "start_time": "2023-03-09T13:40:13.199Z"
   },
   {
    "duration": 17,
    "start_time": "2023-03-09T13:40:13.207Z"
   },
   {
    "duration": 15,
    "start_time": "2023-03-09T13:40:13.226Z"
   },
   {
    "duration": 410,
    "start_time": "2023-03-09T13:40:13.243Z"
   },
   {
    "duration": 504,
    "start_time": "2023-03-09T13:40:13.655Z"
   },
   {
    "duration": 151,
    "start_time": "2023-03-09T13:40:14.161Z"
   },
   {
    "duration": 5,
    "start_time": "2023-03-09T13:40:14.314Z"
   },
   {
    "duration": 7,
    "start_time": "2023-03-09T13:40:14.321Z"
   },
   {
    "duration": 5,
    "start_time": "2023-03-09T13:40:14.330Z"
   },
   {
    "duration": 4,
    "start_time": "2023-03-09T13:40:14.354Z"
   },
   {
    "duration": 5,
    "start_time": "2023-03-09T13:40:14.359Z"
   },
   {
    "duration": 9,
    "start_time": "2023-03-09T13:40:14.366Z"
   },
   {
    "duration": 15,
    "start_time": "2023-03-09T13:40:14.377Z"
   },
   {
    "duration": 9,
    "start_time": "2023-03-09T13:40:14.393Z"
   },
   {
    "duration": 12,
    "start_time": "2023-03-09T13:40:14.404Z"
   },
   {
    "duration": 37,
    "start_time": "2023-03-09T13:40:14.418Z"
   },
   {
    "duration": 5,
    "start_time": "2023-03-09T13:40:14.457Z"
   },
   {
    "duration": 4,
    "start_time": "2023-03-09T13:40:14.467Z"
   },
   {
    "duration": 6,
    "start_time": "2023-03-09T13:40:14.553Z"
   },
   {
    "duration": 9,
    "start_time": "2023-03-09T13:40:14.563Z"
   },
   {
    "duration": 87,
    "start_time": "2023-03-09T13:40:14.574Z"
   },
   {
    "duration": 101,
    "start_time": "2023-03-09T13:40:14.663Z"
   },
   {
    "duration": 10,
    "start_time": "2023-03-09T13:40:14.854Z"
   },
   {
    "duration": 13,
    "start_time": "2023-03-09T13:40:14.866Z"
   },
   {
    "duration": 74,
    "start_time": "2023-03-09T13:40:14.881Z"
   },
   {
    "duration": 8,
    "start_time": "2023-03-09T13:40:14.957Z"
   },
   {
    "duration": 97,
    "start_time": "2023-03-09T13:40:14.967Z"
   },
   {
    "duration": 8,
    "start_time": "2023-03-09T13:41:38.680Z"
   },
   {
    "duration": 9,
    "start_time": "2023-03-09T13:42:12.617Z"
   },
   {
    "duration": 12,
    "start_time": "2023-03-09T13:44:10.042Z"
   },
   {
    "duration": 4,
    "start_time": "2023-03-09T13:44:41.358Z"
   },
   {
    "duration": 3,
    "start_time": "2023-03-09T13:44:42.960Z"
   },
   {
    "duration": 3,
    "start_time": "2023-03-09T13:44:43.141Z"
   },
   {
    "duration": 8,
    "start_time": "2023-03-09T13:44:43.476Z"
   },
   {
    "duration": 5,
    "start_time": "2023-03-09T13:44:48.592Z"
   },
   {
    "duration": 11,
    "start_time": "2023-03-09T13:44:49.008Z"
   },
   {
    "duration": 6,
    "start_time": "2023-03-09T13:44:49.193Z"
   },
   {
    "duration": 6,
    "start_time": "2023-03-09T13:44:49.371Z"
   },
   {
    "duration": 8,
    "start_time": "2023-03-09T13:44:50.663Z"
   },
   {
    "duration": 5,
    "start_time": "2023-03-09T13:44:52.852Z"
   },
   {
    "duration": 12,
    "start_time": "2023-03-09T13:44:53.332Z"
   },
   {
    "duration": 161,
    "start_time": "2023-03-09T13:45:21.619Z"
   },
   {
    "duration": 8,
    "start_time": "2023-03-09T13:46:07.414Z"
   },
   {
    "duration": 107,
    "start_time": "2023-03-09T13:47:45.492Z"
   },
   {
    "duration": 18,
    "start_time": "2023-03-09T13:48:24.869Z"
   },
   {
    "duration": 16,
    "start_time": "2023-03-09T13:48:28.562Z"
   },
   {
    "duration": 11,
    "start_time": "2023-03-09T13:48:43.664Z"
   },
   {
    "duration": 12,
    "start_time": "2023-03-09T13:48:46.017Z"
   },
   {
    "duration": 10,
    "start_time": "2023-03-09T13:49:13.177Z"
   },
   {
    "duration": 7,
    "start_time": "2023-03-09T13:49:17.109Z"
   },
   {
    "duration": 12,
    "start_time": "2023-03-09T13:49:35.190Z"
   },
   {
    "duration": 11,
    "start_time": "2023-03-09T13:49:41.070Z"
   },
   {
    "duration": 11,
    "start_time": "2023-03-09T13:51:18.966Z"
   },
   {
    "duration": 13,
    "start_time": "2023-03-09T13:51:30.916Z"
   },
   {
    "duration": 75,
    "start_time": "2023-03-09T13:51:56.098Z"
   },
   {
    "duration": 10,
    "start_time": "2023-03-09T13:52:04.463Z"
   },
   {
    "duration": 10,
    "start_time": "2023-03-09T13:52:08.894Z"
   },
   {
    "duration": 4,
    "start_time": "2023-03-09T13:52:27.452Z"
   },
   {
    "duration": 9,
    "start_time": "2023-03-09T13:52:34.849Z"
   },
   {
    "duration": 12,
    "start_time": "2023-03-09T13:52:39.059Z"
   },
   {
    "duration": 10,
    "start_time": "2023-03-09T13:52:39.620Z"
   },
   {
    "duration": 17,
    "start_time": "2023-03-09T13:53:32.845Z"
   },
   {
    "duration": 16,
    "start_time": "2023-03-09T13:53:53.693Z"
   },
   {
    "duration": 7,
    "start_time": "2023-03-09T13:53:58.252Z"
   },
   {
    "duration": 7,
    "start_time": "2023-03-09T13:54:00.676Z"
   },
   {
    "duration": 17,
    "start_time": "2023-03-09T13:54:03.994Z"
   },
   {
    "duration": 13,
    "start_time": "2023-03-09T13:54:11.149Z"
   },
   {
    "duration": 15,
    "start_time": "2023-03-09T13:54:37.478Z"
   },
   {
    "duration": 13,
    "start_time": "2023-03-09T13:55:07.194Z"
   },
   {
    "duration": 8,
    "start_time": "2023-03-09T13:55:08.464Z"
   },
   {
    "duration": 8,
    "start_time": "2023-03-09T13:55:25.820Z"
   },
   {
    "duration": 11,
    "start_time": "2023-03-09T13:59:04.699Z"
   },
   {
    "duration": 2055,
    "start_time": "2023-03-09T13:59:13.950Z"
   },
   {
    "duration": 1305,
    "start_time": "2023-03-09T13:59:16.007Z"
   },
   {
    "duration": 66,
    "start_time": "2023-03-09T13:59:17.314Z"
   },
   {
    "duration": 12,
    "start_time": "2023-03-09T13:59:17.382Z"
   },
   {
    "duration": 17,
    "start_time": "2023-03-09T13:59:17.396Z"
   },
   {
    "duration": 5,
    "start_time": "2023-03-09T13:59:17.415Z"
   },
   {
    "duration": 8,
    "start_time": "2023-03-09T13:59:17.421Z"
   },
   {
    "duration": 10,
    "start_time": "2023-03-09T13:59:17.431Z"
   },
   {
    "duration": 13,
    "start_time": "2023-03-09T13:59:17.442Z"
   },
   {
    "duration": 8,
    "start_time": "2023-03-09T13:59:17.458Z"
   },
   {
    "duration": 5,
    "start_time": "2023-03-09T13:59:17.468Z"
   },
   {
    "duration": 385,
    "start_time": "2023-03-09T13:59:17.475Z"
   },
   {
    "duration": 475,
    "start_time": "2023-03-09T13:59:17.861Z"
   },
   {
    "duration": 149,
    "start_time": "2023-03-09T13:59:18.338Z"
   },
   {
    "duration": 5,
    "start_time": "2023-03-09T13:59:18.489Z"
   },
   {
    "duration": 8,
    "start_time": "2023-03-09T13:59:18.496Z"
   },
   {
    "duration": 4,
    "start_time": "2023-03-09T13:59:18.506Z"
   },
   {
    "duration": 5,
    "start_time": "2023-03-09T13:59:18.511Z"
   },
   {
    "duration": 5,
    "start_time": "2023-03-09T13:59:18.518Z"
   },
   {
    "duration": 36,
    "start_time": "2023-03-09T13:59:18.525Z"
   },
   {
    "duration": 13,
    "start_time": "2023-03-09T13:59:18.563Z"
   },
   {
    "duration": 11,
    "start_time": "2023-03-09T13:59:18.578Z"
   },
   {
    "duration": 13,
    "start_time": "2023-03-09T13:59:18.591Z"
   },
   {
    "duration": 8,
    "start_time": "2023-03-09T13:59:18.606Z"
   },
   {
    "duration": 6,
    "start_time": "2023-03-09T13:59:18.653Z"
   },
   {
    "duration": 7,
    "start_time": "2023-03-09T13:59:18.661Z"
   },
   {
    "duration": 84,
    "start_time": "2023-03-09T13:59:18.670Z"
   },
   {
    "duration": 14,
    "start_time": "2023-03-09T13:59:18.758Z"
   },
   {
    "duration": 89,
    "start_time": "2023-03-09T13:59:18.773Z"
   },
   {
    "duration": 8,
    "start_time": "2023-03-09T13:59:18.954Z"
   },
   {
    "duration": 98,
    "start_time": "2023-03-09T13:59:18.963Z"
   },
   {
    "duration": 8,
    "start_time": "2023-03-09T13:59:19.062Z"
   },
   {
    "duration": 88,
    "start_time": "2023-03-09T13:59:19.072Z"
   },
   {
    "duration": 9,
    "start_time": "2023-03-09T13:59:19.162Z"
   },
   {
    "duration": 94,
    "start_time": "2023-03-09T13:59:19.173Z"
   },
   {
    "duration": 6,
    "start_time": "2023-03-09T13:59:19.269Z"
   },
   {
    "duration": 185,
    "start_time": "2023-03-09T13:59:19.277Z"
   },
   {
    "duration": 151,
    "start_time": "2023-03-09T13:59:57.303Z"
   },
   {
    "duration": 154,
    "start_time": "2023-03-09T14:00:05.801Z"
   },
   {
    "duration": 113,
    "start_time": "2023-03-09T14:00:11.350Z"
   },
   {
    "duration": 3007,
    "start_time": "2023-03-09T15:54:40.158Z"
   },
   {
    "duration": 1570,
    "start_time": "2023-03-09T15:54:43.167Z"
   },
   {
    "duration": 99,
    "start_time": "2023-03-09T15:54:44.739Z"
   },
   {
    "duration": 13,
    "start_time": "2023-03-09T15:54:44.841Z"
   },
   {
    "duration": 31,
    "start_time": "2023-03-09T15:54:44.856Z"
   },
   {
    "duration": 5,
    "start_time": "2023-03-09T15:54:44.889Z"
   },
   {
    "duration": 10,
    "start_time": "2023-03-09T15:54:44.896Z"
   },
   {
    "duration": 14,
    "start_time": "2023-03-09T15:54:44.908Z"
   },
   {
    "duration": 5,
    "start_time": "2023-03-09T15:54:44.924Z"
   },
   {
    "duration": 11,
    "start_time": "2023-03-09T15:54:44.932Z"
   },
   {
    "duration": 19,
    "start_time": "2023-03-09T15:54:44.944Z"
   },
   {
    "duration": 455,
    "start_time": "2023-03-09T15:54:44.965Z"
   },
   {
    "duration": 455,
    "start_time": "2023-03-09T15:54:45.421Z"
   },
   {
    "duration": 148,
    "start_time": "2023-03-09T15:54:45.879Z"
   },
   {
    "duration": 6,
    "start_time": "2023-03-09T15:54:46.029Z"
   },
   {
    "duration": 11,
    "start_time": "2023-03-09T15:54:46.037Z"
   },
   {
    "duration": 5,
    "start_time": "2023-03-09T15:54:46.050Z"
   },
   {
    "duration": 11,
    "start_time": "2023-03-09T15:54:46.057Z"
   },
   {
    "duration": 4,
    "start_time": "2023-03-09T15:54:46.089Z"
   },
   {
    "duration": 16,
    "start_time": "2023-03-09T15:54:46.095Z"
   },
   {
    "duration": 6,
    "start_time": "2023-03-09T15:54:46.113Z"
   },
   {
    "duration": 15,
    "start_time": "2023-03-09T15:54:46.121Z"
   },
   {
    "duration": 15,
    "start_time": "2023-03-09T15:54:46.138Z"
   },
   {
    "duration": 8,
    "start_time": "2023-03-09T15:54:46.155Z"
   },
   {
    "duration": 16,
    "start_time": "2023-03-09T15:54:46.191Z"
   },
   {
    "duration": 82,
    "start_time": "2023-03-09T15:54:46.209Z"
   },
   {
    "duration": 8,
    "start_time": "2023-03-09T15:54:46.293Z"
   },
   {
    "duration": 86,
    "start_time": "2023-03-09T15:54:46.306Z"
   },
   {
    "duration": 104,
    "start_time": "2023-03-09T15:54:46.397Z"
   },
   {
    "duration": 188,
    "start_time": "2023-03-09T15:54:46.506Z"
   },
   {
    "duration": 11,
    "start_time": "2023-03-09T15:54:46.695Z"
   },
   {
    "duration": 7,
    "start_time": "2023-03-09T15:54:46.708Z"
   },
   {
    "duration": 77,
    "start_time": "2023-03-09T15:54:46.718Z"
   },
   {
    "duration": 7,
    "start_time": "2023-03-09T15:54:46.797Z"
   },
   {
    "duration": 89,
    "start_time": "2023-03-09T15:54:46.807Z"
   },
   {
    "duration": 9,
    "start_time": "2023-03-09T15:54:46.899Z"
   },
   {
    "duration": 186,
    "start_time": "2023-03-09T15:54:46.910Z"
   },
   {
    "duration": 8,
    "start_time": "2023-03-09T16:18:48.767Z"
   },
   {
    "duration": 111,
    "start_time": "2023-03-09T16:20:56.263Z"
   },
   {
    "duration": 9,
    "start_time": "2023-03-09T16:21:06.012Z"
   },
   {
    "duration": 10,
    "start_time": "2023-03-09T16:25:58.808Z"
   },
   {
    "duration": 4,
    "start_time": "2023-03-09T16:26:02.870Z"
   },
   {
    "duration": 4,
    "start_time": "2023-03-09T16:26:08.371Z"
   },
   {
    "duration": 56,
    "start_time": "2023-03-09T16:26:46.148Z"
   },
   {
    "duration": 54,
    "start_time": "2023-03-09T16:26:58.793Z"
   },
   {
    "duration": 44,
    "start_time": "2023-03-09T16:27:29.290Z"
   },
   {
    "duration": 63,
    "start_time": "2023-03-09T16:27:39.476Z"
   },
   {
    "duration": 6,
    "start_time": "2023-03-09T16:27:46.731Z"
   },
   {
    "duration": 10,
    "start_time": "2023-03-09T16:35:57.949Z"
   },
   {
    "duration": 10,
    "start_time": "2023-03-09T16:36:02.026Z"
   },
   {
    "duration": 10,
    "start_time": "2023-03-09T16:36:43.352Z"
   },
   {
    "duration": 5,
    "start_time": "2023-03-09T16:37:23.693Z"
   },
   {
    "duration": 10,
    "start_time": "2023-03-09T16:37:25.497Z"
   },
   {
    "duration": 6,
    "start_time": "2023-03-09T16:37:27.353Z"
   },
   {
    "duration": 11,
    "start_time": "2023-03-09T16:37:28.786Z"
   },
   {
    "duration": 11,
    "start_time": "2023-03-09T16:37:44.220Z"
   },
   {
    "duration": 6,
    "start_time": "2023-03-09T16:38:12.745Z"
   },
   {
    "duration": 12,
    "start_time": "2023-03-09T16:38:15.637Z"
   },
   {
    "duration": 14,
    "start_time": "2023-03-09T16:38:48.339Z"
   },
   {
    "duration": 844,
    "start_time": "2023-03-09T16:39:05.983Z"
   },
   {
    "duration": 861,
    "start_time": "2023-03-09T16:39:44.542Z"
   },
   {
    "duration": 6,
    "start_time": "2023-03-09T16:39:51.987Z"
   },
   {
    "duration": 807,
    "start_time": "2023-03-09T16:39:53.683Z"
   },
   {
    "duration": 6,
    "start_time": "2023-03-09T16:41:56.717Z"
   },
   {
    "duration": 192,
    "start_time": "2023-03-09T16:41:57.313Z"
   },
   {
    "duration": 6,
    "start_time": "2023-03-09T16:42:06.973Z"
   },
   {
    "duration": 6,
    "start_time": "2023-03-09T16:42:28.297Z"
   },
   {
    "duration": 194,
    "start_time": "2023-03-09T16:42:38.934Z"
   },
   {
    "duration": 11,
    "start_time": "2023-03-09T16:43:29.375Z"
   },
   {
    "duration": 6,
    "start_time": "2023-03-09T16:44:44.140Z"
   },
   {
    "duration": 10,
    "start_time": "2023-03-09T16:44:45.392Z"
   },
   {
    "duration": 11,
    "start_time": "2023-03-09T16:44:53.308Z"
   },
   {
    "duration": 6,
    "start_time": "2023-03-09T16:45:38.300Z"
   },
   {
    "duration": 10,
    "start_time": "2023-03-09T16:45:38.674Z"
   },
   {
    "duration": 6,
    "start_time": "2023-03-09T16:46:15.738Z"
   },
   {
    "duration": 12,
    "start_time": "2023-03-09T16:46:16.324Z"
   },
   {
    "duration": 7,
    "start_time": "2023-03-09T16:50:25.810Z"
   },
   {
    "duration": 13,
    "start_time": "2023-03-09T16:50:26.658Z"
   },
   {
    "duration": 15,
    "start_time": "2023-03-09T16:51:00.466Z"
   },
   {
    "duration": 7,
    "start_time": "2023-03-09T16:51:14.189Z"
   },
   {
    "duration": 15,
    "start_time": "2023-03-09T16:51:14.953Z"
   },
   {
    "duration": 10,
    "start_time": "2023-03-09T16:51:25.730Z"
   },
   {
    "duration": 192,
    "start_time": "2023-03-09T16:51:38.126Z"
   },
   {
    "duration": 7,
    "start_time": "2023-03-09T16:52:21.810Z"
   },
   {
    "duration": 213,
    "start_time": "2023-03-09T16:52:22.440Z"
   },
   {
    "duration": 192,
    "start_time": "2023-03-09T16:53:58.126Z"
   },
   {
    "duration": 6,
    "start_time": "2023-03-09T16:54:28.581Z"
   },
   {
    "duration": 198,
    "start_time": "2023-03-09T16:54:28.876Z"
   },
   {
    "duration": 5,
    "start_time": "2023-03-09T16:54:40.224Z"
   },
   {
    "duration": 181,
    "start_time": "2023-03-09T16:54:40.778Z"
   },
   {
    "duration": 5,
    "start_time": "2023-03-09T16:55:35.723Z"
   },
   {
    "duration": 193,
    "start_time": "2023-03-09T16:55:36.047Z"
   },
   {
    "duration": 4,
    "start_time": "2023-03-09T16:59:04.740Z"
   },
   {
    "duration": 4,
    "start_time": "2023-03-09T16:59:05.583Z"
   },
   {
    "duration": 170,
    "start_time": "2023-03-09T16:59:07.679Z"
   },
   {
    "duration": 69,
    "start_time": "2023-03-09T16:59:48.306Z"
   },
   {
    "duration": 60,
    "start_time": "2023-03-09T17:00:00.175Z"
   },
   {
    "duration": 52,
    "start_time": "2023-03-09T17:00:09.276Z"
   },
   {
    "duration": 4,
    "start_time": "2023-03-09T17:00:17.419Z"
   },
   {
    "duration": 213,
    "start_time": "2023-03-09T17:00:18.478Z"
   },
   {
    "duration": 4,
    "start_time": "2023-03-09T17:00:39.451Z"
   },
   {
    "duration": 188,
    "start_time": "2023-03-09T17:00:40.702Z"
   },
   {
    "duration": 4,
    "start_time": "2023-03-09T17:01:47.631Z"
   },
   {
    "duration": 5,
    "start_time": "2023-03-09T17:01:48.441Z"
   },
   {
    "duration": 5,
    "start_time": "2023-03-09T17:02:02.789Z"
   },
   {
    "duration": 190,
    "start_time": "2023-03-09T17:02:03.512Z"
   },
   {
    "duration": 4,
    "start_time": "2023-03-09T17:03:18.018Z"
   },
   {
    "duration": 229,
    "start_time": "2023-03-09T17:03:18.796Z"
   },
   {
    "duration": 5,
    "start_time": "2023-03-09T17:03:34.249Z"
   },
   {
    "duration": 179,
    "start_time": "2023-03-09T17:03:34.649Z"
   },
   {
    "duration": 223,
    "start_time": "2023-03-09T17:04:27.089Z"
   },
   {
    "duration": 12,
    "start_time": "2023-03-09T17:04:41.884Z"
   },
   {
    "duration": 10,
    "start_time": "2023-03-09T17:04:49.029Z"
   },
   {
    "duration": 4,
    "start_time": "2023-03-09T17:06:44.993Z"
   },
   {
    "duration": 14,
    "start_time": "2023-03-09T17:06:46.793Z"
   },
   {
    "duration": 4,
    "start_time": "2023-03-09T17:07:00.478Z"
   },
   {
    "duration": 11,
    "start_time": "2023-03-09T17:07:01.118Z"
   },
   {
    "duration": 5,
    "start_time": "2023-03-09T17:07:21.452Z"
   },
   {
    "duration": 9,
    "start_time": "2023-03-09T17:07:22.997Z"
   },
   {
    "duration": 4,
    "start_time": "2023-03-09T17:08:00.082Z"
   },
   {
    "duration": 11,
    "start_time": "2023-03-09T17:08:01.489Z"
   },
   {
    "duration": 11,
    "start_time": "2023-03-09T17:08:11.916Z"
   },
   {
    "duration": 12,
    "start_time": "2023-03-09T17:10:56.239Z"
   },
   {
    "duration": 5,
    "start_time": "2023-03-09T17:11:22.375Z"
   },
   {
    "duration": 13,
    "start_time": "2023-03-09T17:11:22.822Z"
   },
   {
    "duration": 6,
    "start_time": "2023-03-09T17:11:30.711Z"
   },
   {
    "duration": 197,
    "start_time": "2023-03-09T17:11:31.552Z"
   },
   {
    "duration": 195,
    "start_time": "2023-03-09T17:12:07.312Z"
   },
   {
    "duration": 6,
    "start_time": "2023-03-09T17:12:27.710Z"
   },
   {
    "duration": 208,
    "start_time": "2023-03-09T17:12:28.315Z"
   },
   {
    "duration": 51,
    "start_time": "2023-03-09T17:12:47.629Z"
   },
   {
    "duration": 206,
    "start_time": "2023-03-09T17:12:48.238Z"
   },
   {
    "duration": 47,
    "start_time": "2023-03-09T17:12:59.108Z"
   },
   {
    "duration": 51,
    "start_time": "2023-03-09T17:13:23.925Z"
   },
   {
    "duration": 50,
    "start_time": "2023-03-09T17:13:41.180Z"
   },
   {
    "duration": 47,
    "start_time": "2023-03-09T17:13:48.079Z"
   },
   {
    "duration": 52,
    "start_time": "2023-03-09T17:14:18.995Z"
   },
   {
    "duration": 55,
    "start_time": "2023-03-09T17:14:36.313Z"
   },
   {
    "duration": 205,
    "start_time": "2023-03-09T17:14:37.007Z"
   },
   {
    "duration": 5,
    "start_time": "2023-03-09T17:15:08.074Z"
   },
   {
    "duration": 206,
    "start_time": "2023-03-09T17:15:08.825Z"
   },
   {
    "duration": 2136,
    "start_time": "2023-03-09T17:15:19.552Z"
   },
   {
    "duration": 1354,
    "start_time": "2023-03-09T17:15:21.690Z"
   },
   {
    "duration": 54,
    "start_time": "2023-03-09T17:15:23.046Z"
   },
   {
    "duration": 14,
    "start_time": "2023-03-09T17:15:23.101Z"
   },
   {
    "duration": 18,
    "start_time": "2023-03-09T17:15:23.118Z"
   },
   {
    "duration": 7,
    "start_time": "2023-03-09T17:15:23.138Z"
   },
   {
    "duration": 8,
    "start_time": "2023-03-09T17:15:23.146Z"
   },
   {
    "duration": 9,
    "start_time": "2023-03-09T17:15:23.155Z"
   },
   {
    "duration": 4,
    "start_time": "2023-03-09T17:15:23.166Z"
   },
   {
    "duration": 21,
    "start_time": "2023-03-09T17:15:23.172Z"
   },
   {
    "duration": 9,
    "start_time": "2023-03-09T17:15:23.195Z"
   },
   {
    "duration": 374,
    "start_time": "2023-03-09T17:15:23.205Z"
   },
   {
    "duration": 489,
    "start_time": "2023-03-09T17:15:23.581Z"
   },
   {
    "duration": 145,
    "start_time": "2023-03-09T17:15:24.073Z"
   },
   {
    "duration": 5,
    "start_time": "2023-03-09T17:15:24.219Z"
   },
   {
    "duration": 7,
    "start_time": "2023-03-09T17:15:24.226Z"
   },
   {
    "duration": 4,
    "start_time": "2023-03-09T17:15:24.234Z"
   },
   {
    "duration": 6,
    "start_time": "2023-03-09T17:15:24.239Z"
   },
   {
    "duration": 6,
    "start_time": "2023-03-09T17:15:24.247Z"
   },
   {
    "duration": 7,
    "start_time": "2023-03-09T17:15:24.254Z"
   },
   {
    "duration": 27,
    "start_time": "2023-03-09T17:15:24.263Z"
   },
   {
    "duration": 10,
    "start_time": "2023-03-09T17:15:24.291Z"
   },
   {
    "duration": 12,
    "start_time": "2023-03-09T17:15:24.303Z"
   },
   {
    "duration": 8,
    "start_time": "2023-03-09T17:15:24.317Z"
   },
   {
    "duration": 65,
    "start_time": "2023-03-09T17:15:24.327Z"
   },
   {
    "duration": 96,
    "start_time": "2023-03-09T17:15:24.394Z"
   },
   {
    "duration": 6,
    "start_time": "2023-03-09T17:15:24.492Z"
   },
   {
    "duration": 91,
    "start_time": "2023-03-09T17:15:24.499Z"
   },
   {
    "duration": 102,
    "start_time": "2023-03-09T17:15:24.593Z"
   },
   {
    "duration": 203,
    "start_time": "2023-03-09T17:15:24.697Z"
   },
   {
    "duration": 17,
    "start_time": "2023-03-09T17:15:24.902Z"
   },
   {
    "duration": 7,
    "start_time": "2023-03-09T17:15:24.921Z"
   },
   {
    "duration": 71,
    "start_time": "2023-03-09T17:15:24.930Z"
   },
   {
    "duration": 91,
    "start_time": "2023-03-09T17:15:25.004Z"
   },
   {
    "duration": 7,
    "start_time": "2023-03-09T17:15:25.097Z"
   },
   {
    "duration": 12,
    "start_time": "2023-03-09T17:15:25.106Z"
   },
   {
    "duration": 178,
    "start_time": "2023-03-09T17:15:25.119Z"
   },
   {
    "duration": 9,
    "start_time": "2023-03-09T17:16:00.857Z"
   },
   {
    "duration": 153,
    "start_time": "2023-03-09T17:16:01.838Z"
   },
   {
    "duration": 6,
    "start_time": "2023-03-09T17:16:15.479Z"
   },
   {
    "duration": 142,
    "start_time": "2023-03-09T17:16:16.258Z"
   },
   {
    "duration": 110,
    "start_time": "2023-03-09T17:17:03.619Z"
   },
   {
    "duration": 6,
    "start_time": "2023-03-09T17:17:07.023Z"
   },
   {
    "duration": 11,
    "start_time": "2023-03-09T17:17:07.332Z"
   },
   {
    "duration": 71,
    "start_time": "2023-03-09T17:17:17.220Z"
   },
   {
    "duration": 152,
    "start_time": "2023-03-09T17:17:31.038Z"
   },
   {
    "duration": 6,
    "start_time": "2023-03-09T17:19:28.243Z"
   },
   {
    "duration": 183,
    "start_time": "2023-03-09T17:19:29.908Z"
   },
   {
    "duration": 10,
    "start_time": "2023-03-09T17:21:07.686Z"
   },
   {
    "duration": 220,
    "start_time": "2023-03-09T17:21:08.433Z"
   },
   {
    "duration": 5,
    "start_time": "2023-03-09T17:21:32.875Z"
   },
   {
    "duration": 182,
    "start_time": "2023-03-09T17:21:33.521Z"
   },
   {
    "duration": 5,
    "start_time": "2023-03-09T17:21:41.283Z"
   },
   {
    "duration": 220,
    "start_time": "2023-03-09T17:21:42.223Z"
   },
   {
    "duration": 6,
    "start_time": "2023-03-09T17:22:01.159Z"
   },
   {
    "duration": 150,
    "start_time": "2023-03-09T17:22:07.155Z"
   },
   {
    "duration": 6,
    "start_time": "2023-03-09T17:22:22.577Z"
   },
   {
    "duration": 199,
    "start_time": "2023-03-09T17:22:23.460Z"
   },
   {
    "duration": 9,
    "start_time": "2023-03-09T17:22:31.091Z"
   },
   {
    "duration": 204,
    "start_time": "2023-03-09T17:22:31.588Z"
   },
   {
    "duration": 6,
    "start_time": "2023-03-09T17:23:37.414Z"
   },
   {
    "duration": 364,
    "start_time": "2023-03-09T17:23:37.774Z"
   },
   {
    "duration": 7,
    "start_time": "2023-03-09T17:23:53.721Z"
   },
   {
    "duration": 39,
    "start_time": "2023-03-09T17:23:54.063Z"
   },
   {
    "duration": 6,
    "start_time": "2023-03-09T17:25:09.526Z"
   },
   {
    "duration": 204,
    "start_time": "2023-03-09T17:25:10.092Z"
   },
   {
    "duration": 49,
    "start_time": "2023-03-09T17:26:44.862Z"
   },
   {
    "duration": 6,
    "start_time": "2023-03-09T17:26:55.803Z"
   },
   {
    "duration": 198,
    "start_time": "2023-03-09T17:26:57.305Z"
   },
   {
    "duration": 2222,
    "start_time": "2023-03-09T17:28:27.151Z"
   },
   {
    "duration": 1380,
    "start_time": "2023-03-09T17:28:29.377Z"
   },
   {
    "duration": 52,
    "start_time": "2023-03-09T17:28:30.758Z"
   },
   {
    "duration": 12,
    "start_time": "2023-03-09T17:28:30.813Z"
   },
   {
    "duration": 29,
    "start_time": "2023-03-09T17:28:30.826Z"
   },
   {
    "duration": 24,
    "start_time": "2023-03-09T17:28:30.857Z"
   },
   {
    "duration": 47,
    "start_time": "2023-03-09T17:28:30.883Z"
   },
   {
    "duration": 36,
    "start_time": "2023-03-09T17:28:30.931Z"
   },
   {
    "duration": 29,
    "start_time": "2023-03-09T17:28:30.969Z"
   },
   {
    "duration": 25,
    "start_time": "2023-03-09T17:28:31.002Z"
   },
   {
    "duration": 34,
    "start_time": "2023-03-09T17:28:31.029Z"
   },
   {
    "duration": 429,
    "start_time": "2023-03-09T17:28:31.066Z"
   },
   {
    "duration": 484,
    "start_time": "2023-03-09T17:28:31.497Z"
   },
   {
    "duration": 153,
    "start_time": "2023-03-09T17:28:31.983Z"
   },
   {
    "duration": 5,
    "start_time": "2023-03-09T17:28:32.138Z"
   },
   {
    "duration": 12,
    "start_time": "2023-03-09T17:28:32.145Z"
   },
   {
    "duration": 6,
    "start_time": "2023-03-09T17:28:32.159Z"
   },
   {
    "duration": 22,
    "start_time": "2023-03-09T17:28:32.167Z"
   },
   {
    "duration": 4,
    "start_time": "2023-03-09T17:28:32.191Z"
   },
   {
    "duration": 6,
    "start_time": "2023-03-09T17:28:32.196Z"
   },
   {
    "duration": 6,
    "start_time": "2023-03-09T17:28:32.203Z"
   },
   {
    "duration": 12,
    "start_time": "2023-03-09T17:28:32.211Z"
   },
   {
    "duration": 16,
    "start_time": "2023-03-09T17:28:32.225Z"
   },
   {
    "duration": 23,
    "start_time": "2023-03-09T17:28:32.243Z"
   },
   {
    "duration": 6,
    "start_time": "2023-03-09T17:28:32.290Z"
   },
   {
    "duration": 98,
    "start_time": "2023-03-09T17:28:32.298Z"
   },
   {
    "duration": 6,
    "start_time": "2023-03-09T17:28:32.398Z"
   },
   {
    "duration": 97,
    "start_time": "2023-03-09T17:28:32.409Z"
   },
   {
    "duration": 196,
    "start_time": "2023-03-09T17:28:32.509Z"
   },
   {
    "duration": 87,
    "start_time": "2023-03-09T17:28:32.709Z"
   },
   {
    "duration": 105,
    "start_time": "2023-03-09T17:28:32.805Z"
   },
   {
    "duration": 18,
    "start_time": "2023-03-09T17:28:32.911Z"
   },
   {
    "duration": 74,
    "start_time": "2023-03-09T17:28:32.931Z"
   },
   {
    "duration": 87,
    "start_time": "2023-03-09T17:28:33.007Z"
   },
   {
    "duration": 17,
    "start_time": "2023-03-09T17:28:33.097Z"
   },
   {
    "duration": 11,
    "start_time": "2023-03-09T17:28:33.193Z"
   },
   {
    "duration": 193,
    "start_time": "2023-03-09T17:28:33.206Z"
   },
   {
    "duration": 10,
    "start_time": "2023-03-09T17:29:29.464Z"
   },
   {
    "duration": 115,
    "start_time": "2023-03-09T17:29:30.183Z"
   },
   {
    "duration": 7,
    "start_time": "2023-03-09T17:29:38.947Z"
   },
   {
    "duration": 195,
    "start_time": "2023-03-09T17:29:39.994Z"
   },
   {
    "duration": 6,
    "start_time": "2023-03-09T17:33:43.872Z"
   },
   {
    "duration": 178,
    "start_time": "2023-03-09T17:33:46.014Z"
   },
   {
    "duration": 9,
    "start_time": "2023-03-09T17:34:56.943Z"
   },
   {
    "duration": 128,
    "start_time": "2023-03-09T17:34:58.259Z"
   },
   {
    "duration": 11,
    "start_time": "2023-03-09T17:36:23.858Z"
   },
   {
    "duration": 7,
    "start_time": "2023-03-09T17:36:28.114Z"
   },
   {
    "duration": 11,
    "start_time": "2023-03-09T17:36:28.971Z"
   },
   {
    "duration": 156,
    "start_time": "2023-03-09T17:36:53.542Z"
   },
   {
    "duration": 7,
    "start_time": "2023-03-09T17:36:58.106Z"
   },
   {
    "duration": 145,
    "start_time": "2023-03-09T17:36:58.545Z"
   },
   {
    "duration": 198,
    "start_time": "2023-03-09T17:37:30.595Z"
   },
   {
    "duration": 5,
    "start_time": "2023-03-09T17:44:57.596Z"
   },
   {
    "duration": 2207,
    "start_time": "2023-03-09T17:45:04.015Z"
   },
   {
    "duration": 1416,
    "start_time": "2023-03-09T17:45:06.225Z"
   },
   {
    "duration": 53,
    "start_time": "2023-03-09T17:45:07.643Z"
   },
   {
    "duration": 14,
    "start_time": "2023-03-09T17:45:07.698Z"
   },
   {
    "duration": 13,
    "start_time": "2023-03-09T17:45:07.714Z"
   },
   {
    "duration": 8,
    "start_time": "2023-03-09T17:45:07.729Z"
   },
   {
    "duration": 13,
    "start_time": "2023-03-09T17:45:07.739Z"
   },
   {
    "duration": 9,
    "start_time": "2023-03-09T17:45:07.754Z"
   },
   {
    "duration": 25,
    "start_time": "2023-03-09T17:45:07.765Z"
   },
   {
    "duration": 5,
    "start_time": "2023-03-09T17:45:07.793Z"
   },
   {
    "duration": 8,
    "start_time": "2023-03-09T17:45:07.799Z"
   },
   {
    "duration": 402,
    "start_time": "2023-03-09T17:45:07.809Z"
   },
   {
    "duration": 455,
    "start_time": "2023-03-09T17:45:08.213Z"
   },
   {
    "duration": 155,
    "start_time": "2023-03-09T17:45:08.669Z"
   },
   {
    "duration": 6,
    "start_time": "2023-03-09T17:45:08.827Z"
   },
   {
    "duration": 8,
    "start_time": "2023-03-09T17:45:08.834Z"
   },
   {
    "duration": 5,
    "start_time": "2023-03-09T17:45:08.844Z"
   },
   {
    "duration": 7,
    "start_time": "2023-03-09T17:45:08.851Z"
   },
   {
    "duration": 7,
    "start_time": "2023-03-09T17:45:08.859Z"
   },
   {
    "duration": 23,
    "start_time": "2023-03-09T17:45:08.868Z"
   },
   {
    "duration": 6,
    "start_time": "2023-03-09T17:45:08.893Z"
   },
   {
    "duration": 9,
    "start_time": "2023-03-09T17:45:08.901Z"
   },
   {
    "duration": 12,
    "start_time": "2023-03-09T17:45:08.912Z"
   },
   {
    "duration": 7,
    "start_time": "2023-03-09T17:45:08.925Z"
   },
   {
    "duration": 60,
    "start_time": "2023-03-09T17:45:08.934Z"
   },
   {
    "duration": 11,
    "start_time": "2023-03-09T17:45:08.996Z"
   },
   {
    "duration": 83,
    "start_time": "2023-03-09T17:45:09.009Z"
   },
   {
    "duration": 95,
    "start_time": "2023-03-09T17:45:09.097Z"
   },
   {
    "duration": 105,
    "start_time": "2023-03-09T17:45:09.195Z"
   },
   {
    "duration": 101,
    "start_time": "2023-03-09T17:45:09.302Z"
   },
   {
    "duration": 14,
    "start_time": "2023-03-09T17:45:09.489Z"
   },
   {
    "duration": 9,
    "start_time": "2023-03-09T17:45:09.505Z"
   },
   {
    "duration": 76,
    "start_time": "2023-03-09T17:45:09.516Z"
   },
   {
    "duration": 11,
    "start_time": "2023-03-09T17:45:09.594Z"
   },
   {
    "duration": 84,
    "start_time": "2023-03-09T17:45:09.607Z"
   },
   {
    "duration": 9,
    "start_time": "2023-03-09T17:45:09.693Z"
   },
   {
    "duration": 188,
    "start_time": "2023-03-09T17:45:09.704Z"
   },
   {
    "duration": 2389,
    "start_time": "2023-03-09T18:01:29.549Z"
   },
   {
    "duration": 1452,
    "start_time": "2023-03-09T18:01:31.941Z"
   },
   {
    "duration": 49,
    "start_time": "2023-03-09T18:01:33.396Z"
   },
   {
    "duration": 12,
    "start_time": "2023-03-09T18:01:33.448Z"
   },
   {
    "duration": 18,
    "start_time": "2023-03-09T18:01:33.462Z"
   },
   {
    "duration": 6,
    "start_time": "2023-03-09T18:01:33.482Z"
   },
   {
    "duration": 23,
    "start_time": "2023-03-09T18:01:33.490Z"
   },
   {
    "duration": 23,
    "start_time": "2023-03-09T18:01:33.515Z"
   },
   {
    "duration": 7,
    "start_time": "2023-03-09T18:01:33.539Z"
   },
   {
    "duration": 10,
    "start_time": "2023-03-09T18:01:33.549Z"
   },
   {
    "duration": 29,
    "start_time": "2023-03-09T18:01:33.561Z"
   },
   {
    "duration": 409,
    "start_time": "2023-03-09T18:01:33.592Z"
   },
   {
    "duration": 491,
    "start_time": "2023-03-09T18:01:34.003Z"
   },
   {
    "duration": 166,
    "start_time": "2023-03-09T18:01:34.496Z"
   },
   {
    "duration": 6,
    "start_time": "2023-03-09T18:01:34.666Z"
   },
   {
    "duration": 19,
    "start_time": "2023-03-09T18:01:34.674Z"
   },
   {
    "duration": 11,
    "start_time": "2023-03-09T18:01:34.694Z"
   },
   {
    "duration": 5,
    "start_time": "2023-03-09T18:01:34.707Z"
   },
   {
    "duration": 10,
    "start_time": "2023-03-09T18:01:34.714Z"
   },
   {
    "duration": 6,
    "start_time": "2023-03-09T18:01:34.726Z"
   },
   {
    "duration": 15,
    "start_time": "2023-03-09T18:01:34.733Z"
   },
   {
    "duration": 13,
    "start_time": "2023-03-09T18:01:34.750Z"
   },
   {
    "duration": 25,
    "start_time": "2023-03-09T18:01:34.765Z"
   },
   {
    "duration": 14,
    "start_time": "2023-03-09T18:01:34.792Z"
   },
   {
    "duration": 81,
    "start_time": "2023-03-09T18:01:34.809Z"
   },
   {
    "duration": 4,
    "start_time": "2023-03-09T18:01:34.892Z"
   },
   {
    "duration": 92,
    "start_time": "2023-03-09T18:01:34.898Z"
   },
   {
    "duration": 26,
    "start_time": "2023-03-09T18:01:34.995Z"
   },
   {
    "duration": 177,
    "start_time": "2023-03-09T18:01:35.023Z"
   },
   {
    "duration": 199,
    "start_time": "2023-03-09T18:01:35.202Z"
   },
   {
    "duration": 11,
    "start_time": "2023-03-09T18:01:35.403Z"
   },
   {
    "duration": 11,
    "start_time": "2023-03-09T18:01:35.416Z"
   },
   {
    "duration": 71,
    "start_time": "2023-03-09T18:01:35.430Z"
   },
   {
    "duration": 89,
    "start_time": "2023-03-09T18:01:35.503Z"
   },
   {
    "duration": 20,
    "start_time": "2023-03-09T18:01:35.594Z"
   },
   {
    "duration": 7,
    "start_time": "2023-03-09T18:01:35.615Z"
   },
   {
    "duration": 182,
    "start_time": "2023-03-09T18:01:35.624Z"
   }
  ],
  "kernelspec": {
   "display_name": "Python 3 (ipykernel)",
   "language": "python",
   "name": "python3"
  },
  "language_info": {
   "codemirror_mode": {
    "name": "ipython",
    "version": 3
   },
   "file_extension": ".py",
   "mimetype": "text/x-python",
   "name": "python",
   "nbconvert_exporter": "python",
   "pygments_lexer": "ipython3",
   "version": "3.10.9"
  },
  "toc": {
   "base_numbering": 1,
   "nav_menu": {},
   "number_sections": true,
   "sideBar": true,
   "skip_h1_title": true,
   "title_cell": "Содержание",
   "title_sidebar": "Contents",
   "toc_cell": true,
   "toc_position": {
    "height": "calc(100% - 180px)",
    "left": "10px",
    "top": "150px",
    "width": "412.969px"
   },
   "toc_section_display": true,
   "toc_window_display": true
  }
 },
 "nbformat": 4,
 "nbformat_minor": 2
}
