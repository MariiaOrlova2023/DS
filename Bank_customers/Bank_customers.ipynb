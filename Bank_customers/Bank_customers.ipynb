{
 "cells": [
  {
   "cell_type": "markdown",
   "metadata": {
    "toc": true
   },
   "source": [
    "<h1>Содержание<span class=\"tocSkip\"></span></h1>\n",
    "<div class=\"toc\"><ul class=\"toc-item\"><li><span><a href=\"#Подготовка-данных\" data-toc-modified-id=\"Подготовка-данных-1\"><span class=\"toc-item-num\">1&nbsp;&nbsp;</span>Подготовка данных</a></span></li><li><span><a href=\"#Исследование-задачи\" data-toc-modified-id=\"Исследование-задачи-2\"><span class=\"toc-item-num\">2&nbsp;&nbsp;</span>Исследование задачи</a></span><ul class=\"toc-item\"><li><span><a href=\"#Разделение-на-выборки\" data-toc-modified-id=\"Разделение-на-выборки-2.1\"><span class=\"toc-item-num\">2.1&nbsp;&nbsp;</span>Разделение на выборки</a></span></li><li><span><a href=\"#OHE---кодирование\" data-toc-modified-id=\"OHE---кодирование-2.2\"><span class=\"toc-item-num\">2.2&nbsp;&nbsp;</span>OHE - кодирование</a></span></li><li><span><a href=\"#Масштабирование\" data-toc-modified-id=\"Масштабирование-2.3\"><span class=\"toc-item-num\">2.3&nbsp;&nbsp;</span>Масштабирование</a></span></li><li><span><a href=\"#Логистическая-регрессия\" data-toc-modified-id=\"Логистическая-регрессия-2.4\"><span class=\"toc-item-num\">2.4&nbsp;&nbsp;</span>Логистическая регрессия</a></span></li><li><span><a href=\"#Случайный-лес\" data-toc-modified-id=\"Случайный-лес-2.5\"><span class=\"toc-item-num\">2.5&nbsp;&nbsp;</span>Случайный лес</a></span></li><li><span><a href=\"#Дерево-решений\" data-toc-modified-id=\"Дерево-решений-2.6\"><span class=\"toc-item-num\">2.6&nbsp;&nbsp;</span>Дерево решений</a></span></li><li><span><a href=\"#Вывод\" data-toc-modified-id=\"Вывод-2.7\"><span class=\"toc-item-num\">2.7&nbsp;&nbsp;</span>Вывод</a></span></li></ul></li><li><span><a href=\"#Борьба-с-дисбалансом\" data-toc-modified-id=\"Борьба-с-дисбалансом-3\"><span class=\"toc-item-num\">3&nbsp;&nbsp;</span>Борьба с дисбалансом</a></span><ul class=\"toc-item\"><li><span><a href=\"#Взвешивание-классов\" data-toc-modified-id=\"Взвешивание-классов-3.1\"><span class=\"toc-item-num\">3.1&nbsp;&nbsp;</span>Взвешивание классов</a></span><ul class=\"toc-item\"><li><span><a href=\"#Логистическая-регрессия\" data-toc-modified-id=\"Логистическая-регрессия-3.1.1\"><span class=\"toc-item-num\">3.1.1&nbsp;&nbsp;</span>Логистическая регрессия</a></span></li><li><span><a href=\"#Случайный-лес\" data-toc-modified-id=\"Случайный-лес-3.1.2\"><span class=\"toc-item-num\">3.1.2&nbsp;&nbsp;</span>Случайный лес</a></span></li><li><span><a href=\"#Дерево-решений\" data-toc-modified-id=\"Дерево-решений-3.1.3\"><span class=\"toc-item-num\">3.1.3&nbsp;&nbsp;</span>Дерево решений</a></span></li><li><span><a href=\"#Вывод\" data-toc-modified-id=\"Вывод-3.1.4\"><span class=\"toc-item-num\">3.1.4&nbsp;&nbsp;</span>Вывод</a></span></li></ul></li><li><span><a href=\"#Увеличение-выборки\" data-toc-modified-id=\"Увеличение-выборки-3.2\"><span class=\"toc-item-num\">3.2&nbsp;&nbsp;</span>Увеличение выборки</a></span><ul class=\"toc-item\"><li><span><a href=\"#Логистическая-регрессия\" data-toc-modified-id=\"Логистическая-регрессия-3.2.1\"><span class=\"toc-item-num\">3.2.1&nbsp;&nbsp;</span>Логистическая регрессия</a></span></li><li><span><a href=\"#Случайный-лес\" data-toc-modified-id=\"Случайный-лес-3.2.2\"><span class=\"toc-item-num\">3.2.2&nbsp;&nbsp;</span>Случайный лес</a></span></li><li><span><a href=\"#Дерево-решений\" data-toc-modified-id=\"Дерево-решений-3.2.3\"><span class=\"toc-item-num\">3.2.3&nbsp;&nbsp;</span>Дерево решений</a></span></li><li><span><a href=\"#Вывод\" data-toc-modified-id=\"Вывод-3.2.4\"><span class=\"toc-item-num\">3.2.4&nbsp;&nbsp;</span>Вывод</a></span></li></ul></li><li><span><a href=\"#Уменьшение-выборки\" data-toc-modified-id=\"Уменьшение-выборки-3.3\"><span class=\"toc-item-num\">3.3&nbsp;&nbsp;</span>Уменьшение выборки</a></span><ul class=\"toc-item\"><li><span><a href=\"#Логистическая-регрессия\" data-toc-modified-id=\"Логистическая-регрессия-3.3.1\"><span class=\"toc-item-num\">3.3.1&nbsp;&nbsp;</span>Логистическая регрессия</a></span></li><li><span><a href=\"#Случайный-лес\" data-toc-modified-id=\"Случайный-лес-3.3.2\"><span class=\"toc-item-num\">3.3.2&nbsp;&nbsp;</span>Случайный лес</a></span></li><li><span><a href=\"#Дерево-решений\" data-toc-modified-id=\"Дерево-решений-3.3.3\"><span class=\"toc-item-num\">3.3.3&nbsp;&nbsp;</span>Дерево решений</a></span></li><li><span><a href=\"#Вывод\" data-toc-modified-id=\"Вывод-3.3.4\"><span class=\"toc-item-num\">3.3.4&nbsp;&nbsp;</span>Вывод</a></span></li></ul></li><li><span><a href=\"#Вывод-по-работе-с-дисбалансом\" data-toc-modified-id=\"Вывод-по-работе-с-дисбалансом-3.4\"><span class=\"toc-item-num\">3.4&nbsp;&nbsp;</span>Вывод по работе с дисбалансом</a></span></li></ul></li><li><span><a href=\"#Тестирование-модели\" data-toc-modified-id=\"Тестирование-модели-4\"><span class=\"toc-item-num\">4&nbsp;&nbsp;</span>Тестирование модели</a></span></li></ul></div>"
   ]
  },
  {
   "cell_type": "markdown",
   "metadata": {},
   "source": [
    "# Отток клиентов"
   ]
  },
  {
   "cell_type": "markdown",
   "metadata": {},
   "source": [
    "Из «Бета-Банка» стали уходить клиенты. Каждый месяц. Немного, но заметно. Банковские маркетологи посчитали: сохранять текущих клиентов дешевле, чем привлекать новых.\n",
    "\n",
    "Нужно спрогнозировать, уйдёт клиент из банка в ближайшее время или нет. Вам предоставлены исторические данные о поведении клиентов и расторжении договоров с банком. \n",
    "\n",
    "**Описание данных**\n",
    "\n",
    "Признаки:\n",
    "- RowNumber — индекс строки в данных\n",
    "- CustomerId — уникальный идентификатор клиента\n",
    "- Surname — фамилия\n",
    "- CreditScore — кредитный рейтинг\n",
    "- Geography — страна проживания\n",
    "- Gender — пол\n",
    "- Age — возраст\n",
    "- Tenure — сколько лет человек является клиентом банка\n",
    "- Balance — баланс на счёте\n",
    "- NumOfProducts — количество продуктов банка, используемых клиентом\n",
    "- HasCrCard — наличие кредитной карты\n",
    "- IsActiveMember — активность клиента\n",
    "- EstimatedSalary — предполагаемая зарплата\n",
    "\n",
    "Целевой признак\n",
    "- Exited — факт ухода клиента"
   ]
  },
  {
   "cell_type": "markdown",
   "metadata": {},
   "source": [
    "## Подготовка данных"
   ]
  },
  {
   "cell_type": "code",
   "execution_count": 1,
   "metadata": {},
   "outputs": [],
   "source": [
    "import pandas as pd\n",
    "import numpy as np\n",
    "import re\n",
    "\n",
    "import matplotlib.pyplot as plt\n",
    "\n",
    "from sklearn.tree import DecisionTreeClassifier\n",
    "from sklearn.ensemble import RandomForestClassifier\n",
    "from sklearn.linear_model import LogisticRegression \n",
    "from sklearn.model_selection import train_test_split\n",
    "from sklearn.preprocessing import OneHotEncoder, StandardScaler\n",
    "from sklearn.dummy import DummyClassifier\n",
    "\n",
    "from sklearn.metrics import (\n",
    "    f1_score, \n",
    "    roc_curve, \n",
    "    recall_score, \n",
    "    precision_score, \n",
    "    roc_auc_score\n",
    ")\n",
    "\n",
    "from imblearn.over_sampling import SMOTE\n",
    "from imblearn.under_sampling import RandomUnderSampler\n",
    "\n",
    "import warnings\n",
    "warnings.filterwarnings('ignore')"
   ]
  },
  {
   "cell_type": "code",
   "execution_count": 2,
   "metadata": {},
   "outputs": [],
   "source": [
    "try:\n",
    "     df = pd.read_csv(r\"C:\\Проекты Яндекс.Практикум\\7. Обучение с учителем. Отток клиентов банка\\Датасет\\Churn.csv\")\n",
    "except: \n",
    "    df = pd.read_csv('/datasets/Churn.csv')"
   ]
  },
  {
   "cell_type": "code",
   "execution_count": 3,
   "metadata": {},
   "outputs": [
    {
     "data": {
      "text/html": [
       "<div>\n",
       "<style scoped>\n",
       "    .dataframe tbody tr th:only-of-type {\n",
       "        vertical-align: middle;\n",
       "    }\n",
       "\n",
       "    .dataframe tbody tr th {\n",
       "        vertical-align: top;\n",
       "    }\n",
       "\n",
       "    .dataframe thead th {\n",
       "        text-align: right;\n",
       "    }\n",
       "</style>\n",
       "<table border=\"1\" class=\"dataframe\">\n",
       "  <thead>\n",
       "    <tr style=\"text-align: right;\">\n",
       "      <th></th>\n",
       "      <th>RowNumber</th>\n",
       "      <th>CustomerId</th>\n",
       "      <th>Surname</th>\n",
       "      <th>CreditScore</th>\n",
       "      <th>Geography</th>\n",
       "      <th>Gender</th>\n",
       "      <th>Age</th>\n",
       "      <th>Tenure</th>\n",
       "      <th>Balance</th>\n",
       "      <th>NumOfProducts</th>\n",
       "      <th>HasCrCard</th>\n",
       "      <th>IsActiveMember</th>\n",
       "      <th>EstimatedSalary</th>\n",
       "      <th>Exited</th>\n",
       "    </tr>\n",
       "  </thead>\n",
       "  <tbody>\n",
       "    <tr>\n",
       "      <th>0</th>\n",
       "      <td>1</td>\n",
       "      <td>15634602</td>\n",
       "      <td>Hargrave</td>\n",
       "      <td>619</td>\n",
       "      <td>France</td>\n",
       "      <td>Female</td>\n",
       "      <td>42</td>\n",
       "      <td>2.0</td>\n",
       "      <td>0.00</td>\n",
       "      <td>1</td>\n",
       "      <td>1</td>\n",
       "      <td>1</td>\n",
       "      <td>101348.88</td>\n",
       "      <td>1</td>\n",
       "    </tr>\n",
       "    <tr>\n",
       "      <th>1</th>\n",
       "      <td>2</td>\n",
       "      <td>15647311</td>\n",
       "      <td>Hill</td>\n",
       "      <td>608</td>\n",
       "      <td>Spain</td>\n",
       "      <td>Female</td>\n",
       "      <td>41</td>\n",
       "      <td>1.0</td>\n",
       "      <td>83807.86</td>\n",
       "      <td>1</td>\n",
       "      <td>0</td>\n",
       "      <td>1</td>\n",
       "      <td>112542.58</td>\n",
       "      <td>0</td>\n",
       "    </tr>\n",
       "    <tr>\n",
       "      <th>2</th>\n",
       "      <td>3</td>\n",
       "      <td>15619304</td>\n",
       "      <td>Onio</td>\n",
       "      <td>502</td>\n",
       "      <td>France</td>\n",
       "      <td>Female</td>\n",
       "      <td>42</td>\n",
       "      <td>8.0</td>\n",
       "      <td>159660.80</td>\n",
       "      <td>3</td>\n",
       "      <td>1</td>\n",
       "      <td>0</td>\n",
       "      <td>113931.57</td>\n",
       "      <td>1</td>\n",
       "    </tr>\n",
       "    <tr>\n",
       "      <th>3</th>\n",
       "      <td>4</td>\n",
       "      <td>15701354</td>\n",
       "      <td>Boni</td>\n",
       "      <td>699</td>\n",
       "      <td>France</td>\n",
       "      <td>Female</td>\n",
       "      <td>39</td>\n",
       "      <td>1.0</td>\n",
       "      <td>0.00</td>\n",
       "      <td>2</td>\n",
       "      <td>0</td>\n",
       "      <td>0</td>\n",
       "      <td>93826.63</td>\n",
       "      <td>0</td>\n",
       "    </tr>\n",
       "    <tr>\n",
       "      <th>4</th>\n",
       "      <td>5</td>\n",
       "      <td>15737888</td>\n",
       "      <td>Mitchell</td>\n",
       "      <td>850</td>\n",
       "      <td>Spain</td>\n",
       "      <td>Female</td>\n",
       "      <td>43</td>\n",
       "      <td>2.0</td>\n",
       "      <td>125510.82</td>\n",
       "      <td>1</td>\n",
       "      <td>1</td>\n",
       "      <td>1</td>\n",
       "      <td>79084.10</td>\n",
       "      <td>0</td>\n",
       "    </tr>\n",
       "    <tr>\n",
       "      <th>5</th>\n",
       "      <td>6</td>\n",
       "      <td>15574012</td>\n",
       "      <td>Chu</td>\n",
       "      <td>645</td>\n",
       "      <td>Spain</td>\n",
       "      <td>Male</td>\n",
       "      <td>44</td>\n",
       "      <td>8.0</td>\n",
       "      <td>113755.78</td>\n",
       "      <td>2</td>\n",
       "      <td>1</td>\n",
       "      <td>0</td>\n",
       "      <td>149756.71</td>\n",
       "      <td>1</td>\n",
       "    </tr>\n",
       "    <tr>\n",
       "      <th>6</th>\n",
       "      <td>7</td>\n",
       "      <td>15592531</td>\n",
       "      <td>Bartlett</td>\n",
       "      <td>822</td>\n",
       "      <td>France</td>\n",
       "      <td>Male</td>\n",
       "      <td>50</td>\n",
       "      <td>7.0</td>\n",
       "      <td>0.00</td>\n",
       "      <td>2</td>\n",
       "      <td>1</td>\n",
       "      <td>1</td>\n",
       "      <td>10062.80</td>\n",
       "      <td>0</td>\n",
       "    </tr>\n",
       "    <tr>\n",
       "      <th>7</th>\n",
       "      <td>8</td>\n",
       "      <td>15656148</td>\n",
       "      <td>Obinna</td>\n",
       "      <td>376</td>\n",
       "      <td>Germany</td>\n",
       "      <td>Female</td>\n",
       "      <td>29</td>\n",
       "      <td>4.0</td>\n",
       "      <td>115046.74</td>\n",
       "      <td>4</td>\n",
       "      <td>1</td>\n",
       "      <td>0</td>\n",
       "      <td>119346.88</td>\n",
       "      <td>1</td>\n",
       "    </tr>\n",
       "    <tr>\n",
       "      <th>8</th>\n",
       "      <td>9</td>\n",
       "      <td>15792365</td>\n",
       "      <td>He</td>\n",
       "      <td>501</td>\n",
       "      <td>France</td>\n",
       "      <td>Male</td>\n",
       "      <td>44</td>\n",
       "      <td>4.0</td>\n",
       "      <td>142051.07</td>\n",
       "      <td>2</td>\n",
       "      <td>0</td>\n",
       "      <td>1</td>\n",
       "      <td>74940.50</td>\n",
       "      <td>0</td>\n",
       "    </tr>\n",
       "    <tr>\n",
       "      <th>9</th>\n",
       "      <td>10</td>\n",
       "      <td>15592389</td>\n",
       "      <td>H?</td>\n",
       "      <td>684</td>\n",
       "      <td>France</td>\n",
       "      <td>Male</td>\n",
       "      <td>27</td>\n",
       "      <td>2.0</td>\n",
       "      <td>134603.88</td>\n",
       "      <td>1</td>\n",
       "      <td>1</td>\n",
       "      <td>1</td>\n",
       "      <td>71725.73</td>\n",
       "      <td>0</td>\n",
       "    </tr>\n",
       "  </tbody>\n",
       "</table>\n",
       "</div>"
      ],
      "text/plain": [
       "   RowNumber  CustomerId   Surname  CreditScore Geography  Gender  Age  \\\n",
       "0          1    15634602  Hargrave          619    France  Female   42   \n",
       "1          2    15647311      Hill          608     Spain  Female   41   \n",
       "2          3    15619304      Onio          502    France  Female   42   \n",
       "3          4    15701354      Boni          699    France  Female   39   \n",
       "4          5    15737888  Mitchell          850     Spain  Female   43   \n",
       "5          6    15574012       Chu          645     Spain    Male   44   \n",
       "6          7    15592531  Bartlett          822    France    Male   50   \n",
       "7          8    15656148    Obinna          376   Germany  Female   29   \n",
       "8          9    15792365        He          501    France    Male   44   \n",
       "9         10    15592389        H?          684    France    Male   27   \n",
       "\n",
       "   Tenure    Balance  NumOfProducts  HasCrCard  IsActiveMember  \\\n",
       "0     2.0       0.00              1          1               1   \n",
       "1     1.0   83807.86              1          0               1   \n",
       "2     8.0  159660.80              3          1               0   \n",
       "3     1.0       0.00              2          0               0   \n",
       "4     2.0  125510.82              1          1               1   \n",
       "5     8.0  113755.78              2          1               0   \n",
       "6     7.0       0.00              2          1               1   \n",
       "7     4.0  115046.74              4          1               0   \n",
       "8     4.0  142051.07              2          0               1   \n",
       "9     2.0  134603.88              1          1               1   \n",
       "\n",
       "   EstimatedSalary  Exited  \n",
       "0        101348.88       1  \n",
       "1        112542.58       0  \n",
       "2        113931.57       1  \n",
       "3         93826.63       0  \n",
       "4         79084.10       0  \n",
       "5        149756.71       1  \n",
       "6         10062.80       0  \n",
       "7        119346.88       1  \n",
       "8         74940.50       0  \n",
       "9         71725.73       0  "
      ]
     },
     "execution_count": 3,
     "metadata": {},
     "output_type": "execute_result"
    }
   ],
   "source": [
    "df.head(10)"
   ]
  },
  {
   "cell_type": "code",
   "execution_count": 4,
   "metadata": {
    "scrolled": true
   },
   "outputs": [
    {
     "name": "stdout",
     "output_type": "stream",
     "text": [
      "<class 'pandas.core.frame.DataFrame'>\n",
      "RangeIndex: 10000 entries, 0 to 9999\n",
      "Data columns (total 14 columns):\n",
      " #   Column           Non-Null Count  Dtype  \n",
      "---  ------           --------------  -----  \n",
      " 0   RowNumber        10000 non-null  int64  \n",
      " 1   CustomerId       10000 non-null  int64  \n",
      " 2   Surname          10000 non-null  object \n",
      " 3   CreditScore      10000 non-null  int64  \n",
      " 4   Geography        10000 non-null  object \n",
      " 5   Gender           10000 non-null  object \n",
      " 6   Age              10000 non-null  int64  \n",
      " 7   Tenure           9091 non-null   float64\n",
      " 8   Balance          10000 non-null  float64\n",
      " 9   NumOfProducts    10000 non-null  int64  \n",
      " 10  HasCrCard        10000 non-null  int64  \n",
      " 11  IsActiveMember   10000 non-null  int64  \n",
      " 12  EstimatedSalary  10000 non-null  float64\n",
      " 13  Exited           10000 non-null  int64  \n",
      "dtypes: float64(3), int64(8), object(3)\n",
      "memory usage: 1.1+ MB\n"
     ]
    }
   ],
   "source": [
    "df.info()"
   ]
  },
  {
   "cell_type": "markdown",
   "metadata": {},
   "source": [
    "**Загрузили необходимые библиотеки и данные. Изучили общую информацию о таблице:**\n",
    "\n",
    "- Во всех столбах кроме прдолжительности обслуживания в банке (Tenure) заполнены без пропусков. В Tenure пропущено примерно 10% данных.\n",
    "- У столбов Geography и Gender тип данных object. Это категориальные признаки, которые необходимо преобразовать техникой OHE \n",
    "- Названия столбцов приведем к нижнему регистру, разделить слова в названиях нижним подчеркиванием\n",
    "- Удалить столбцы RowNumber, CustomerId, Surname, которые не несут информации, необходимой для обучения модели"
   ]
  },
  {
   "cell_type": "code",
   "execution_count": 5,
   "metadata": {},
   "outputs": [],
   "source": [
    "df = df.drop(['RowNumber', 'CustomerId','Surname'], axis=1)"
   ]
  },
  {
   "cell_type": "code",
   "execution_count": 6,
   "metadata": {},
   "outputs": [],
   "source": [
    "df.columns = [re.sub(r'(?<!^)(?=[A-Z])', '_', i).lower() for i in df.columns]"
   ]
  },
  {
   "cell_type": "markdown",
   "metadata": {},
   "source": [
    "Удалили столбцы **RowNumber, CustomerId, Surname**"
   ]
  },
  {
   "cell_type": "code",
   "execution_count": 7,
   "metadata": {},
   "outputs": [
    {
     "data": {
      "text/plain": [
       "array([350, 351, 358, 359, 363, 365, 367, 373, 376, 382, 383, 386, 395,\n",
       "       399, 401, 404, 405, 407, 408, 410, 411, 412, 413, 414, 415, 416,\n",
       "       417, 418, 419, 420, 421, 422, 423, 424, 425, 426, 427, 428, 429,\n",
       "       430, 431, 432, 433, 434, 435, 436, 437, 438, 439, 440, 441, 442,\n",
       "       443, 444, 445, 446, 447, 448, 449, 450, 451, 452, 453, 454, 455,\n",
       "       456, 457, 458, 459, 460, 461, 462, 463, 464, 465, 466, 467, 468,\n",
       "       469, 470, 471, 472, 473, 474, 475, 476, 477, 478, 479, 480, 481,\n",
       "       482, 483, 484, 485, 486, 487, 488, 489, 490, 491, 492, 493, 494,\n",
       "       495, 496, 497, 498, 499, 500, 501, 502, 503, 504, 505, 506, 507,\n",
       "       508, 509, 510, 511, 512, 513, 514, 515, 516, 517, 518, 519, 520,\n",
       "       521, 522, 523, 524, 525, 526, 527, 528, 529, 530, 531, 532, 533,\n",
       "       534, 535, 536, 537, 538, 539, 540, 541, 542, 543, 544, 545, 546,\n",
       "       547, 548, 549, 550, 551, 552, 553, 554, 555, 556, 557, 558, 559,\n",
       "       560, 561, 562, 563, 564, 565, 566, 567, 568, 569, 570, 571, 572,\n",
       "       573, 574, 575, 576, 577, 578, 579, 580, 581, 582, 583, 584, 585,\n",
       "       586, 587, 588, 589, 590, 591, 592, 593, 594, 595, 596, 597, 598,\n",
       "       599, 600, 601, 602, 603, 604, 605, 606, 607, 608, 609, 610, 611,\n",
       "       612, 613, 614, 615, 616, 617, 618, 619, 620, 621, 622, 623, 624,\n",
       "       625, 626, 627, 628, 629, 630, 631, 632, 633, 634, 635, 636, 637,\n",
       "       638, 639, 640, 641, 642, 643, 644, 645, 646, 647, 648, 649, 650,\n",
       "       651, 652, 653, 654, 655, 656, 657, 658, 659, 660, 661, 662, 663,\n",
       "       664, 665, 666, 667, 668, 669, 670, 671, 672, 673, 674, 675, 676,\n",
       "       677, 678, 679, 680, 681, 682, 683, 684, 685, 686, 687, 688, 689,\n",
       "       690, 691, 692, 693, 694, 695, 696, 697, 698, 699, 700, 701, 702,\n",
       "       703, 704, 705, 706, 707, 708, 709, 710, 711, 712, 713, 714, 715,\n",
       "       716, 717, 718, 719, 720, 721, 722, 723, 724, 725, 726, 727, 728,\n",
       "       729, 730, 731, 732, 733, 734, 735, 736, 737, 738, 739, 740, 741,\n",
       "       742, 743, 744, 745, 746, 747, 748, 749, 750, 751, 752, 753, 754,\n",
       "       755, 756, 757, 758, 759, 760, 761, 762, 763, 764, 765, 766, 767,\n",
       "       768, 769, 770, 771, 772, 773, 774, 775, 776, 777, 778, 779, 780,\n",
       "       781, 782, 783, 784, 785, 786, 787, 788, 789, 790, 791, 792, 793,\n",
       "       794, 795, 796, 797, 798, 799, 800, 801, 802, 803, 804, 805, 806,\n",
       "       807, 808, 809, 810, 811, 812, 813, 814, 815, 816, 817, 818, 819,\n",
       "       820, 821, 822, 823, 824, 825, 826, 827, 828, 829, 830, 831, 832,\n",
       "       833, 834, 835, 836, 837, 838, 839, 840, 841, 842, 843, 844, 845,\n",
       "       846, 847, 848, 849, 850], dtype=int64)"
      ]
     },
     "execution_count": 7,
     "metadata": {},
     "output_type": "execute_result"
    }
   ],
   "source": [
    "df['credit_score'].sort_values().unique()"
   ]
  },
  {
   "cell_type": "markdown",
   "metadata": {},
   "source": [
    "Столбец **credit_score** содержит информацию о кредитном рейтинге клиентов в диапазоне от 350 до 850"
   ]
  },
  {
   "cell_type": "code",
   "execution_count": 8,
   "metadata": {},
   "outputs": [
    {
     "data": {
      "text/plain": [
       "France     5014\n",
       "Germany    2509\n",
       "Spain      2477\n",
       "Name: geography, dtype: int64"
      ]
     },
     "execution_count": 8,
     "metadata": {},
     "output_type": "execute_result"
    }
   ],
   "source": [
    "df['geography'].value_counts()"
   ]
  },
  {
   "cell_type": "markdown",
   "metadata": {},
   "source": [
    "Клиенты представлены из трех **стран**. Примерно 50% из Франции и по 25% из Германии и Испании. Неявных дубликатов нет. "
   ]
  },
  {
   "cell_type": "code",
   "execution_count": 9,
   "metadata": {},
   "outputs": [
    {
     "data": {
      "text/plain": [
       "Male      5457\n",
       "Female    4543\n",
       "Name: gender, dtype: int64"
      ]
     },
     "execution_count": 9,
     "metadata": {},
     "output_type": "execute_result"
    }
   ],
   "source": [
    "df['gender'].value_counts()"
   ]
  },
  {
   "cell_type": "markdown",
   "metadata": {},
   "source": [
    "В столбце с **полом** неявных дубликатов также нет. Мажчин незначительно больше, чем женщин."
   ]
  },
  {
   "cell_type": "code",
   "execution_count": 10,
   "metadata": {},
   "outputs": [
    {
     "data": {
      "text/plain": [
       "array([18, 19, 20, 21, 22, 23, 24, 25, 26, 27, 28, 29, 30, 31, 32, 33, 34,\n",
       "       35, 36, 37, 38, 39, 40, 41, 42, 43, 44, 45, 46, 47, 48, 49, 50, 51,\n",
       "       52, 53, 54, 55, 56, 57, 58, 59, 60, 61, 62, 63, 64, 65, 66, 67, 68,\n",
       "       69, 70, 71, 72, 73, 74, 75, 76, 77, 78, 79, 80, 81, 82, 83, 84, 85,\n",
       "       88, 92], dtype=int64)"
      ]
     },
     "execution_count": 10,
     "metadata": {},
     "output_type": "execute_result"
    }
   ],
   "source": [
    "df['age'].sort_values().unique()"
   ]
  },
  {
   "cell_type": "markdown",
   "metadata": {},
   "source": [
    "**Возраст** клиентов в диапазоне от 18 до 92 лет."
   ]
  },
  {
   "cell_type": "code",
   "execution_count": 11,
   "metadata": {},
   "outputs": [
    {
     "data": {
      "text/plain": [
       "1    5084\n",
       "2    4590\n",
       "3     266\n",
       "4      60\n",
       "Name: num_of_products, dtype: int64"
      ]
     },
     "execution_count": 11,
     "metadata": {},
     "output_type": "execute_result"
    }
   ],
   "source": [
    "df['num_of_products'].value_counts()"
   ]
  },
  {
   "cell_type": "markdown",
   "metadata": {},
   "source": [
    "**Количество продуктов.** В основном клиенты используют по 1-2 продукта банка. Всего 2,7% используют 3 продукта и 0,6% - 4 продукта."
   ]
  },
  {
   "cell_type": "code",
   "execution_count": 12,
   "metadata": {
    "scrolled": true
   },
   "outputs": [
    {
     "data": {
      "text/plain": [
       "1    7055\n",
       "0    2945\n",
       "Name: has_cr_card, dtype: int64"
      ]
     },
     "execution_count": 12,
     "metadata": {},
     "output_type": "execute_result"
    }
   ],
   "source": [
    "df['has_cr_card'].value_counts()"
   ]
  },
  {
   "cell_type": "markdown",
   "metadata": {},
   "source": [
    "70% клиентов владеют **кредитной картой** банка "
   ]
  },
  {
   "cell_type": "code",
   "execution_count": 13,
   "metadata": {},
   "outputs": [
    {
     "data": {
      "text/plain": [
       "1    5151\n",
       "0    4849\n",
       "Name: is_active_member, dtype: int64"
      ]
     },
     "execution_count": 13,
     "metadata": {},
     "output_type": "execute_result"
    }
   ],
   "source": [
    "df['is_active_member'].value_counts()"
   ]
  },
  {
   "cell_type": "markdown",
   "metadata": {},
   "source": [
    "**Активных** и **неактиных** клиентов примерно пополам."
   ]
  },
  {
   "cell_type": "code",
   "execution_count": 14,
   "metadata": {},
   "outputs": [
    {
     "data": {
      "text/plain": [
       "0    7963\n",
       "1    2037\n",
       "Name: exited, dtype: int64"
      ]
     },
     "execution_count": 14,
     "metadata": {},
     "output_type": "execute_result"
    }
   ],
   "source": [
    "df['exited'].value_counts()"
   ]
  },
  {
   "cell_type": "markdown",
   "metadata": {},
   "source": [
    "В значениях **целевого признака**, видим, что 80% оставались клиентами банка на момент сбора данных, 20% уже расторгли договор."
   ]
  },
  {
   "cell_type": "markdown",
   "metadata": {},
   "source": [
    "Отдельно рассмотрим **Tenure**. Заполним пропуки для дальнейшей корректной работы формул"
   ]
  },
  {
   "cell_type": "code",
   "execution_count": 15,
   "metadata": {},
   "outputs": [
    {
     "data": {
      "text/plain": [
       "1.0     952\n",
       "2.0     950\n",
       "8.0     933\n",
       "3.0     928\n",
       "5.0     927\n",
       "7.0     925\n",
       "4.0     885\n",
       "9.0     882\n",
       "6.0     881\n",
       "10.0    446\n",
       "0.0     382\n",
       "Name: tenure, dtype: int64"
      ]
     },
     "execution_count": 15,
     "metadata": {},
     "output_type": "execute_result"
    }
   ],
   "source": [
    "df['tenure'].value_counts()"
   ]
  },
  {
   "cell_type": "markdown",
   "metadata": {},
   "source": [
    "**Tenure.** Меньше всего клиентов, которые обслуживаются в банке до 1 года или 10 лет. Примерно по 400 человек. Остальные годы обслуживания по 800-900 человек"
   ]
  },
  {
   "cell_type": "code",
   "execution_count": 16,
   "metadata": {
    "scrolled": false
   },
   "outputs": [
    {
     "data": {
      "text/plain": [
       "count    9091.000000\n",
       "mean        4.997690\n",
       "std         2.894723\n",
       "min         0.000000\n",
       "25%         2.000000\n",
       "50%         5.000000\n",
       "75%         7.000000\n",
       "max        10.000000\n",
       "Name: tenure, dtype: float64"
      ]
     },
     "execution_count": 16,
     "metadata": {},
     "output_type": "execute_result"
    }
   ],
   "source": [
    "df['tenure'].describe()"
   ]
  },
  {
   "cell_type": "markdown",
   "metadata": {},
   "source": [
    "50% значений - не более 5 лет обслуживания банком."
   ]
  },
  {
   "cell_type": "code",
   "execution_count": 17,
   "metadata": {},
   "outputs": [
    {
     "data": {
      "image/png": "[encoded data removed]",
      "text/plain": [
       "<Figure size 1000x400 with 1 Axes>"
      ]
     },
     "metadata": {},
     "output_type": "display_data"
    }
   ],
   "source": [
    "df['tenure'].hist(figsize=(10, 4))\n",
    "\n",
    "plt.xlabel('Сколько лет человек является клиентом банка')\n",
    "plt.ylabel('Количество клиентов')\n",
    "plt.title('tenure')\n",
    "plt.show()"
   ]
  },
  {
   "cell_type": "markdown",
   "metadata": {},
   "source": [
    "Построили гистограмму, чтобы после заполнения пропусков сравнить распределение."
   ]
  },
  {
   "cell_type": "code",
   "execution_count": 18,
   "metadata": {},
   "outputs": [],
   "source": [
    "median_tenure = df['tenure'].median()\n",
    "df['tenure'] = df['tenure'].fillna(median_tenure)"
   ]
  },
  {
   "cell_type": "code",
   "execution_count": 19,
   "metadata": {},
   "outputs": [
    {
     "data": {
      "text/plain": [
       "5.0     1836\n",
       "1.0      952\n",
       "2.0      950\n",
       "8.0      933\n",
       "3.0      928\n",
       "7.0      925\n",
       "4.0      885\n",
       "9.0      882\n",
       "6.0      881\n",
       "10.0     446\n",
       "0.0      382\n",
       "Name: tenure, dtype: int64"
      ]
     },
     "execution_count": 19,
     "metadata": {},
     "output_type": "execute_result"
    }
   ],
   "source": [
    "df['tenure'].value_counts()"
   ]
  },
  {
   "cell_type": "code",
   "execution_count": 20,
   "metadata": {},
   "outputs": [
    {
     "data": {
      "text/plain": [
       "count    10000.00000\n",
       "mean         4.99790\n",
       "std          2.76001\n",
       "min          0.00000\n",
       "25%          3.00000\n",
       "50%          5.00000\n",
       "75%          7.00000\n",
       "max         10.00000\n",
       "Name: tenure, dtype: float64"
      ]
     },
     "execution_count": 20,
     "metadata": {},
     "output_type": "execute_result"
    }
   ],
   "source": [
    "df['tenure'].describe()"
   ]
  },
  {
   "cell_type": "code",
   "execution_count": 21,
   "metadata": {},
   "outputs": [
    {
     "data": {
      "image/png": "[encoded data removed]",
      "text/plain": [
       "<Figure size 1000x400 with 1 Axes>"
      ]
     },
     "metadata": {},
     "output_type": "display_data"
    }
   ],
   "source": [
    "df['tenure'].hist(figsize=(10, 4))\n",
    "\n",
    "plt.xlabel('Сколько лет человек является клиентом банка')\n",
    "plt.ylabel('Количество клиентов')\n",
    "plt.title('tenure')\n",
    "plt.show()"
   ]
  },
  {
   "cell_type": "markdown",
   "metadata": {},
   "source": [
    "**Вывод**\n",
    "\n",
    "- Данные не потребовали трудоемкой обработки. Пропуски были только в столбце с продолжительностью обслуживания в банке. Заполнили медианой.\n",
    "- В данных не обнаружено неявных дубликатов.\n",
    "- Названия столбцов привели к нижнему регистру\n",
    "- Удалили столбцы с фамилиями и идентификационными номерами, так как не не нужны для обучения модели.\n",
    "- На следующем этапе предстоит преобразовать категориальные данные, разделить датасет на выборки, масштабировать признаки.\n",
    "\n"
   ]
  },
  {
   "cell_type": "markdown",
   "metadata": {},
   "source": [
    "## Исследование задачи"
   ]
  },
  {
   "cell_type": "markdown",
   "metadata": {},
   "source": [
    "### Разделение на выборки"
   ]
  },
  {
   "cell_type": "code",
   "execution_count": 22,
   "metadata": {},
   "outputs": [
    {
     "data": {
      "text/plain": [
       "(6000, 10)"
      ]
     },
     "metadata": {},
     "output_type": "display_data"
    },
    {
     "data": {
      "text/plain": [
       "(2000, 10)"
      ]
     },
     "metadata": {},
     "output_type": "display_data"
    },
    {
     "data": {
      "text/plain": [
       "(2000, 10)"
      ]
     },
     "metadata": {},
     "output_type": "display_data"
    }
   ],
   "source": [
    "features = df.drop(['exited'], axis=1)\n",
    "target = df['exited']  \n",
    "\n",
    "features_train, features_other, target_train, target_other = train_test_split(\n",
    "    features, target, test_size=0.4, random_state=12345)\n",
    "\n",
    "features_valid, features_test, target_valid, target_test =\\\n",
    "train_test_split(features_other, target_other, test_size=0.5, random_state=12345)\n",
    "\n",
    "\n",
    "display(features_train.shape, features_valid.shape, features_test.shape)"
   ]
  },
  {
   "cell_type": "markdown",
   "metadata": {},
   "source": [
    "Разделили выборки на обучающую, валидационную и тестовую в соотношении: 60, 20, 20."
   ]
  },
  {
   "cell_type": "markdown",
   "metadata": {},
   "source": [
    "### OHE - кодирование "
   ]
  },
  {
   "cell_type": "code",
   "execution_count": 23,
   "metadata": {},
   "outputs": [],
   "source": [
    "categorical = ['geography', 'gender']\n",
    "ohe = OneHotEncoder(drop='first', handle_unknown='ignore', sparse=False)"
   ]
  },
  {
   "cell_type": "code",
   "execution_count": 24,
   "metadata": {},
   "outputs": [],
   "source": [
    "ohe_train = ohe.fit_transform(features_train[categorical])\n",
    "ohe_valid = ohe.transform(features_valid[categorical])\n",
    "ohe_test = ohe.transform(features_test[categorical])"
   ]
  },
  {
   "cell_type": "code",
   "execution_count": 25,
   "metadata": {},
   "outputs": [],
   "source": [
    "ohe_train = pd.DataFrame(ohe_train, \n",
    "    index=features_train.index, columns=ohe.get_feature_names_out())\n",
    "\n",
    "ohe_valid = pd.DataFrame(ohe_valid, \n",
    "    index=features_valid.index, columns=ohe.get_feature_names_out())\n",
    "\n",
    "ohe_test = pd.DataFrame(ohe_test, \n",
    "    index=features_test.index, columns=ohe.get_feature_names_out())\n"
   ]
  },
  {
   "cell_type": "code",
   "execution_count": 26,
   "metadata": {},
   "outputs": [],
   "source": [
    "features_train = features_train.drop(categorical, axis=1)\n",
    "features_train = features_train.join(ohe_train) \n",
    "\n",
    "features_valid = features_valid.drop(categorical, axis=1)\n",
    "features_valid = features_valid.join(ohe_valid)\n",
    "\n",
    "features_test =features_test.drop(categorical, axis=1)\n",
    "features_test = features_test.join(ohe_test) "
   ]
  },
  {
   "cell_type": "markdown",
   "metadata": {},
   "source": [
    "Преобразовали категориальные данные (страна и пол) методом OHE. "
   ]
  },
  {
   "cell_type": "markdown",
   "metadata": {},
   "source": [
    "### Масштабирование"
   ]
  },
  {
   "cell_type": "code",
   "execution_count": 27,
   "metadata": {
    "scrolled": false
   },
   "outputs": [
    {
     "name": "stdout",
     "output_type": "stream",
     "text": [
      "      credit_score       age    tenure   balance  num_of_products  \\\n",
      "7479     -0.886751 -0.373192  1.082277  1.232271        -0.891560   \n",
      "3411      0.608663 -0.183385  1.082277  0.600563        -0.891560   \n",
      "6027      2.052152  0.480939 -0.737696  1.027098         0.830152   \n",
      "1247     -1.457915 -1.417129  0.354288 -1.233163         0.830152   \n",
      "3716      0.130961 -1.132419 -1.101690  1.140475        -0.891560   \n",
      "\n",
      "      has_cr_card  is_active_member  estimated_salary  geography_Germany  \\\n",
      "7479            1                 0         -0.187705                0.0   \n",
      "3411            0                 0         -0.333945                0.0   \n",
      "6027            0                 1          1.503095                1.0   \n",
      "1247            1                 0         -1.071061                0.0   \n",
      "3716            0                 0          1.524268                1.0   \n",
      "\n",
      "      geography_Spain  gender_Male  \n",
      "7479              1.0          1.0  \n",
      "3411              0.0          0.0  \n",
      "6027              0.0          1.0  \n",
      "1247              0.0          1.0  \n",
      "3716              0.0          0.0  \n"
     ]
    }
   ],
   "source": [
    "numeric = ['credit_score', 'age', 'tenure', 'balance', 'num_of_products', 'estimated_salary']\n",
    "\n",
    "scaler = StandardScaler()\n",
    "scaler.fit(features_train[numeric])\n",
    "features_train[numeric] = scaler.transform(features_train[numeric])\n",
    "features_valid[numeric] = scaler.transform(features_valid[numeric])\n",
    "features_test[numeric] = scaler.transform(features_test[numeric])\n",
    "\n",
    "print(features_train.head())\n",
    "\n",
    "import warnings\n",
    "warnings.filterwarnings('ignore')"
   ]
  },
  {
   "cell_type": "markdown",
   "metadata": {},
   "source": [
    "Масштабировали численные признаки методом стандартизации данных"
   ]
  },
  {
   "cell_type": "code",
   "execution_count": 28,
   "metadata": {},
   "outputs": [
    {
     "data": {
      "text/html": [
       "<div>\n",
       "<style scoped>\n",
       "    .dataframe tbody tr th:only-of-type {\n",
       "        vertical-align: middle;\n",
       "    }\n",
       "\n",
       "    .dataframe tbody tr th {\n",
       "        vertical-align: top;\n",
       "    }\n",
       "\n",
       "    .dataframe thead th {\n",
       "        text-align: right;\n",
       "    }\n",
       "</style>\n",
       "<table border=\"1\" class=\"dataframe\">\n",
       "  <thead>\n",
       "    <tr style=\"text-align: right;\">\n",
       "      <th></th>\n",
       "      <th>credit_score</th>\n",
       "      <th>age</th>\n",
       "      <th>tenure</th>\n",
       "      <th>balance</th>\n",
       "      <th>num_of_products</th>\n",
       "      <th>has_cr_card</th>\n",
       "      <th>is_active_member</th>\n",
       "      <th>estimated_salary</th>\n",
       "      <th>geography_Germany</th>\n",
       "      <th>geography_Spain</th>\n",
       "      <th>gender_Male</th>\n",
       "    </tr>\n",
       "  </thead>\n",
       "  <tbody>\n",
       "    <tr>\n",
       "      <th>7479</th>\n",
       "      <td>-0.886751</td>\n",
       "      <td>-0.373192</td>\n",
       "      <td>1.082277</td>\n",
       "      <td>1.232271</td>\n",
       "      <td>-0.891560</td>\n",
       "      <td>1</td>\n",
       "      <td>0</td>\n",
       "      <td>-0.187705</td>\n",
       "      <td>0.0</td>\n",
       "      <td>1.0</td>\n",
       "      <td>1.0</td>\n",
       "    </tr>\n",
       "    <tr>\n",
       "      <th>3411</th>\n",
       "      <td>0.608663</td>\n",
       "      <td>-0.183385</td>\n",
       "      <td>1.082277</td>\n",
       "      <td>0.600563</td>\n",
       "      <td>-0.891560</td>\n",
       "      <td>0</td>\n",
       "      <td>0</td>\n",
       "      <td>-0.333945</td>\n",
       "      <td>0.0</td>\n",
       "      <td>0.0</td>\n",
       "      <td>0.0</td>\n",
       "    </tr>\n",
       "    <tr>\n",
       "      <th>6027</th>\n",
       "      <td>2.052152</td>\n",
       "      <td>0.480939</td>\n",
       "      <td>-0.737696</td>\n",
       "      <td>1.027098</td>\n",
       "      <td>0.830152</td>\n",
       "      <td>0</td>\n",
       "      <td>1</td>\n",
       "      <td>1.503095</td>\n",
       "      <td>1.0</td>\n",
       "      <td>0.0</td>\n",
       "      <td>1.0</td>\n",
       "    </tr>\n",
       "    <tr>\n",
       "      <th>1247</th>\n",
       "      <td>-1.457915</td>\n",
       "      <td>-1.417129</td>\n",
       "      <td>0.354288</td>\n",
       "      <td>-1.233163</td>\n",
       "      <td>0.830152</td>\n",
       "      <td>1</td>\n",
       "      <td>0</td>\n",
       "      <td>-1.071061</td>\n",
       "      <td>0.0</td>\n",
       "      <td>0.0</td>\n",
       "      <td>1.0</td>\n",
       "    </tr>\n",
       "    <tr>\n",
       "      <th>3716</th>\n",
       "      <td>0.130961</td>\n",
       "      <td>-1.132419</td>\n",
       "      <td>-1.101690</td>\n",
       "      <td>1.140475</td>\n",
       "      <td>-0.891560</td>\n",
       "      <td>0</td>\n",
       "      <td>0</td>\n",
       "      <td>1.524268</td>\n",
       "      <td>1.0</td>\n",
       "      <td>0.0</td>\n",
       "      <td>0.0</td>\n",
       "    </tr>\n",
       "    <tr>\n",
       "      <th>...</th>\n",
       "      <td>...</td>\n",
       "      <td>...</td>\n",
       "      <td>...</td>\n",
       "      <td>...</td>\n",
       "      <td>...</td>\n",
       "      <td>...</td>\n",
       "      <td>...</td>\n",
       "      <td>...</td>\n",
       "      <td>...</td>\n",
       "      <td>...</td>\n",
       "      <td>...</td>\n",
       "    </tr>\n",
       "    <tr>\n",
       "      <th>4478</th>\n",
       "      <td>-1.073677</td>\n",
       "      <td>-0.752805</td>\n",
       "      <td>-0.373701</td>\n",
       "      <td>-1.233163</td>\n",
       "      <td>0.830152</td>\n",
       "      <td>0</td>\n",
       "      <td>1</td>\n",
       "      <td>-1.278361</td>\n",
       "      <td>0.0</td>\n",
       "      <td>0.0</td>\n",
       "      <td>1.0</td>\n",
       "    </tr>\n",
       "    <tr>\n",
       "      <th>4094</th>\n",
       "      <td>-1.447531</td>\n",
       "      <td>-0.942612</td>\n",
       "      <td>1.810266</td>\n",
       "      <td>-1.233163</td>\n",
       "      <td>0.830152</td>\n",
       "      <td>0</td>\n",
       "      <td>1</td>\n",
       "      <td>-1.281307</td>\n",
       "      <td>0.0</td>\n",
       "      <td>0.0</td>\n",
       "      <td>1.0</td>\n",
       "    </tr>\n",
       "    <tr>\n",
       "      <th>3492</th>\n",
       "      <td>0.027113</td>\n",
       "      <td>0.575842</td>\n",
       "      <td>-0.009707</td>\n",
       "      <td>-0.310229</td>\n",
       "      <td>-0.891560</td>\n",
       "      <td>0</td>\n",
       "      <td>1</td>\n",
       "      <td>-0.903158</td>\n",
       "      <td>0.0</td>\n",
       "      <td>0.0</td>\n",
       "      <td>0.0</td>\n",
       "    </tr>\n",
       "    <tr>\n",
       "      <th>2177</th>\n",
       "      <td>0.151731</td>\n",
       "      <td>-1.417129</td>\n",
       "      <td>-0.373701</td>\n",
       "      <td>-1.233163</td>\n",
       "      <td>0.830152</td>\n",
       "      <td>0</td>\n",
       "      <td>1</td>\n",
       "      <td>-1.128539</td>\n",
       "      <td>0.0</td>\n",
       "      <td>0.0</td>\n",
       "      <td>0.0</td>\n",
       "    </tr>\n",
       "    <tr>\n",
       "      <th>4578</th>\n",
       "      <td>0.400966</td>\n",
       "      <td>-0.088482</td>\n",
       "      <td>-1.465685</td>\n",
       "      <td>-1.233163</td>\n",
       "      <td>0.830152</td>\n",
       "      <td>0</td>\n",
       "      <td>0</td>\n",
       "      <td>-0.949841</td>\n",
       "      <td>0.0</td>\n",
       "      <td>0.0</td>\n",
       "      <td>1.0</td>\n",
       "    </tr>\n",
       "  </tbody>\n",
       "</table>\n",
       "<p>6000 rows × 11 columns</p>\n",
       "</div>"
      ],
      "text/plain": [
       "      credit_score       age    tenure   balance  num_of_products  \\\n",
       "7479     -0.886751 -0.373192  1.082277  1.232271        -0.891560   \n",
       "3411      0.608663 -0.183385  1.082277  0.600563        -0.891560   \n",
       "6027      2.052152  0.480939 -0.737696  1.027098         0.830152   \n",
       "1247     -1.457915 -1.417129  0.354288 -1.233163         0.830152   \n",
       "3716      0.130961 -1.132419 -1.101690  1.140475        -0.891560   \n",
       "...            ...       ...       ...       ...              ...   \n",
       "4478     -1.073677 -0.752805 -0.373701 -1.233163         0.830152   \n",
       "4094     -1.447531 -0.942612  1.810266 -1.233163         0.830152   \n",
       "3492      0.027113  0.575842 -0.009707 -0.310229        -0.891560   \n",
       "2177      0.151731 -1.417129 -0.373701 -1.233163         0.830152   \n",
       "4578      0.400966 -0.088482 -1.465685 -1.233163         0.830152   \n",
       "\n",
       "      has_cr_card  is_active_member  estimated_salary  geography_Germany  \\\n",
       "7479            1                 0         -0.187705                0.0   \n",
       "3411            0                 0         -0.333945                0.0   \n",
       "6027            0                 1          1.503095                1.0   \n",
       "1247            1                 0         -1.071061                0.0   \n",
       "3716            0                 0          1.524268                1.0   \n",
       "...           ...               ...               ...                ...   \n",
       "4478            0                 1         -1.278361                0.0   \n",
       "4094            0                 1         -1.281307                0.0   \n",
       "3492            0                 1         -0.903158                0.0   \n",
       "2177            0                 1         -1.128539                0.0   \n",
       "4578            0                 0         -0.949841                0.0   \n",
       "\n",
       "      geography_Spain  gender_Male  \n",
       "7479              1.0          1.0  \n",
       "3411              0.0          0.0  \n",
       "6027              0.0          1.0  \n",
       "1247              0.0          1.0  \n",
       "3716              0.0          0.0  \n",
       "...               ...          ...  \n",
       "4478              0.0          1.0  \n",
       "4094              0.0          1.0  \n",
       "3492              0.0          0.0  \n",
       "2177              0.0          0.0  \n",
       "4578              0.0          1.0  \n",
       "\n",
       "[6000 rows x 11 columns]"
      ]
     },
     "execution_count": 28,
     "metadata": {},
     "output_type": "execute_result"
    }
   ],
   "source": [
    "features_train"
   ]
  },
  {
   "cell_type": "code",
   "execution_count": 29,
   "metadata": {},
   "outputs": [
    {
     "data": {
      "text/html": [
       "<div>\n",
       "<style scoped>\n",
       "    .dataframe tbody tr th:only-of-type {\n",
       "        vertical-align: middle;\n",
       "    }\n",
       "\n",
       "    .dataframe tbody tr th {\n",
       "        vertical-align: top;\n",
       "    }\n",
       "\n",
       "    .dataframe thead th {\n",
       "        text-align: right;\n",
       "    }\n",
       "</style>\n",
       "<table border=\"1\" class=\"dataframe\">\n",
       "  <thead>\n",
       "    <tr style=\"text-align: right;\">\n",
       "      <th></th>\n",
       "      <th>credit_score</th>\n",
       "      <th>age</th>\n",
       "      <th>tenure</th>\n",
       "      <th>balance</th>\n",
       "      <th>num_of_products</th>\n",
       "      <th>has_cr_card</th>\n",
       "      <th>is_active_member</th>\n",
       "      <th>estimated_salary</th>\n",
       "      <th>geography_Germany</th>\n",
       "      <th>geography_Spain</th>\n",
       "      <th>gender_Male</th>\n",
       "    </tr>\n",
       "  </thead>\n",
       "  <tbody>\n",
       "    <tr>\n",
       "      <th>8532</th>\n",
       "      <td>-0.699824</td>\n",
       "      <td>-0.373192</td>\n",
       "      <td>-1.101690</td>\n",
       "      <td>-1.233163</td>\n",
       "      <td>0.830152</td>\n",
       "      <td>1</td>\n",
       "      <td>0</td>\n",
       "      <td>-0.015173</td>\n",
       "      <td>0.0</td>\n",
       "      <td>0.0</td>\n",
       "      <td>0.0</td>\n",
       "    </tr>\n",
       "    <tr>\n",
       "      <th>5799</th>\n",
       "      <td>-0.284431</td>\n",
       "      <td>0.575842</td>\n",
       "      <td>-0.737696</td>\n",
       "      <td>-1.233163</td>\n",
       "      <td>-0.891560</td>\n",
       "      <td>1</td>\n",
       "      <td>1</td>\n",
       "      <td>1.471724</td>\n",
       "      <td>0.0</td>\n",
       "      <td>0.0</td>\n",
       "      <td>0.0</td>\n",
       "    </tr>\n",
       "    <tr>\n",
       "      <th>5511</th>\n",
       "      <td>0.151731</td>\n",
       "      <td>-0.657902</td>\n",
       "      <td>-1.829679</td>\n",
       "      <td>0.438711</td>\n",
       "      <td>-0.891560</td>\n",
       "      <td>1</td>\n",
       "      <td>0</td>\n",
       "      <td>-1.367107</td>\n",
       "      <td>1.0</td>\n",
       "      <td>0.0</td>\n",
       "      <td>1.0</td>\n",
       "    </tr>\n",
       "    <tr>\n",
       "      <th>7365</th>\n",
       "      <td>-0.876366</td>\n",
       "      <td>-0.278288</td>\n",
       "      <td>1.810266</td>\n",
       "      <td>1.239884</td>\n",
       "      <td>-0.891560</td>\n",
       "      <td>1</td>\n",
       "      <td>1</td>\n",
       "      <td>-0.786517</td>\n",
       "      <td>0.0</td>\n",
       "      <td>1.0</td>\n",
       "      <td>0.0</td>\n",
       "    </tr>\n",
       "    <tr>\n",
       "      <th>7367</th>\n",
       "      <td>-0.481743</td>\n",
       "      <td>0.291132</td>\n",
       "      <td>1.810266</td>\n",
       "      <td>-1.233163</td>\n",
       "      <td>0.830152</td>\n",
       "      <td>1</td>\n",
       "      <td>0</td>\n",
       "      <td>1.358533</td>\n",
       "      <td>0.0</td>\n",
       "      <td>1.0</td>\n",
       "      <td>1.0</td>\n",
       "    </tr>\n",
       "    <tr>\n",
       "      <th>...</th>\n",
       "      <td>...</td>\n",
       "      <td>...</td>\n",
       "      <td>...</td>\n",
       "      <td>...</td>\n",
       "      <td>...</td>\n",
       "      <td>...</td>\n",
       "      <td>...</td>\n",
       "      <td>...</td>\n",
       "      <td>...</td>\n",
       "      <td>...</td>\n",
       "      <td>...</td>\n",
       "    </tr>\n",
       "    <tr>\n",
       "      <th>6480</th>\n",
       "      <td>0.276349</td>\n",
       "      <td>-1.417129</td>\n",
       "      <td>0.354288</td>\n",
       "      <td>0.617449</td>\n",
       "      <td>0.830152</td>\n",
       "      <td>0</td>\n",
       "      <td>1</td>\n",
       "      <td>0.628182</td>\n",
       "      <td>0.0</td>\n",
       "      <td>0.0</td>\n",
       "      <td>0.0</td>\n",
       "    </tr>\n",
       "    <tr>\n",
       "      <th>8194</th>\n",
       "      <td>-0.211738</td>\n",
       "      <td>0.291132</td>\n",
       "      <td>-0.373701</td>\n",
       "      <td>0.797229</td>\n",
       "      <td>-0.891560</td>\n",
       "      <td>1</td>\n",
       "      <td>0</td>\n",
       "      <td>0.026002</td>\n",
       "      <td>0.0</td>\n",
       "      <td>0.0</td>\n",
       "      <td>1.0</td>\n",
       "    </tr>\n",
       "    <tr>\n",
       "      <th>1279</th>\n",
       "      <td>-1.364452</td>\n",
       "      <td>0.006422</td>\n",
       "      <td>0.354288</td>\n",
       "      <td>-1.233163</td>\n",
       "      <td>0.830152</td>\n",
       "      <td>0</td>\n",
       "      <td>1</td>\n",
       "      <td>-1.249087</td>\n",
       "      <td>0.0</td>\n",
       "      <td>0.0</td>\n",
       "      <td>0.0</td>\n",
       "    </tr>\n",
       "    <tr>\n",
       "      <th>6532</th>\n",
       "      <td>1.075979</td>\n",
       "      <td>2.663716</td>\n",
       "      <td>-0.373701</td>\n",
       "      <td>-1.233163</td>\n",
       "      <td>2.551864</td>\n",
       "      <td>1</td>\n",
       "      <td>1</td>\n",
       "      <td>-0.111107</td>\n",
       "      <td>0.0</td>\n",
       "      <td>0.0</td>\n",
       "      <td>1.0</td>\n",
       "    </tr>\n",
       "    <tr>\n",
       "      <th>6895</th>\n",
       "      <td>-0.440204</td>\n",
       "      <td>0.955455</td>\n",
       "      <td>0.354288</td>\n",
       "      <td>0.600280</td>\n",
       "      <td>-0.891560</td>\n",
       "      <td>1</td>\n",
       "      <td>0</td>\n",
       "      <td>1.668116</td>\n",
       "      <td>1.0</td>\n",
       "      <td>0.0</td>\n",
       "      <td>1.0</td>\n",
       "    </tr>\n",
       "  </tbody>\n",
       "</table>\n",
       "<p>2000 rows × 11 columns</p>\n",
       "</div>"
      ],
      "text/plain": [
       "      credit_score       age    tenure   balance  num_of_products  \\\n",
       "8532     -0.699824 -0.373192 -1.101690 -1.233163         0.830152   \n",
       "5799     -0.284431  0.575842 -0.737696 -1.233163        -0.891560   \n",
       "5511      0.151731 -0.657902 -1.829679  0.438711        -0.891560   \n",
       "7365     -0.876366 -0.278288  1.810266  1.239884        -0.891560   \n",
       "7367     -0.481743  0.291132  1.810266 -1.233163         0.830152   \n",
       "...            ...       ...       ...       ...              ...   \n",
       "6480      0.276349 -1.417129  0.354288  0.617449         0.830152   \n",
       "8194     -0.211738  0.291132 -0.373701  0.797229        -0.891560   \n",
       "1279     -1.364452  0.006422  0.354288 -1.233163         0.830152   \n",
       "6532      1.075979  2.663716 -0.373701 -1.233163         2.551864   \n",
       "6895     -0.440204  0.955455  0.354288  0.600280        -0.891560   \n",
       "\n",
       "      has_cr_card  is_active_member  estimated_salary  geography_Germany  \\\n",
       "8532            1                 0         -0.015173                0.0   \n",
       "5799            1                 1          1.471724                0.0   \n",
       "5511            1                 0         -1.367107                1.0   \n",
       "7365            1                 1         -0.786517                0.0   \n",
       "7367            1                 0          1.358533                0.0   \n",
       "...           ...               ...               ...                ...   \n",
       "6480            0                 1          0.628182                0.0   \n",
       "8194            1                 0          0.026002                0.0   \n",
       "1279            0                 1         -1.249087                0.0   \n",
       "6532            1                 1         -0.111107                0.0   \n",
       "6895            1                 0          1.668116                1.0   \n",
       "\n",
       "      geography_Spain  gender_Male  \n",
       "8532              0.0          0.0  \n",
       "5799              0.0          0.0  \n",
       "5511              0.0          1.0  \n",
       "7365              1.0          0.0  \n",
       "7367              1.0          1.0  \n",
       "...               ...          ...  \n",
       "6480              0.0          0.0  \n",
       "8194              0.0          1.0  \n",
       "1279              0.0          0.0  \n",
       "6532              0.0          1.0  \n",
       "6895              0.0          1.0  \n",
       "\n",
       "[2000 rows x 11 columns]"
      ]
     },
     "execution_count": 29,
     "metadata": {},
     "output_type": "execute_result"
    }
   ],
   "source": [
    "features_valid"
   ]
  },
  {
   "cell_type": "code",
   "execution_count": 30,
   "metadata": {
    "scrolled": true
   },
   "outputs": [
    {
     "data": {
      "text/html": [
       "<div>\n",
       "<style scoped>\n",
       "    .dataframe tbody tr th:only-of-type {\n",
       "        vertical-align: middle;\n",
       "    }\n",
       "\n",
       "    .dataframe tbody tr th {\n",
       "        vertical-align: top;\n",
       "    }\n",
       "\n",
       "    .dataframe thead th {\n",
       "        text-align: right;\n",
       "    }\n",
       "</style>\n",
       "<table border=\"1\" class=\"dataframe\">\n",
       "  <thead>\n",
       "    <tr style=\"text-align: right;\">\n",
       "      <th></th>\n",
       "      <th>credit_score</th>\n",
       "      <th>age</th>\n",
       "      <th>tenure</th>\n",
       "      <th>balance</th>\n",
       "      <th>num_of_products</th>\n",
       "      <th>has_cr_card</th>\n",
       "      <th>is_active_member</th>\n",
       "      <th>estimated_salary</th>\n",
       "      <th>geography_Germany</th>\n",
       "      <th>geography_Spain</th>\n",
       "      <th>gender_Male</th>\n",
       "    </tr>\n",
       "  </thead>\n",
       "  <tbody>\n",
       "    <tr>\n",
       "      <th>7041</th>\n",
       "      <td>-2.226392</td>\n",
       "      <td>-0.088482</td>\n",
       "      <td>-1.101690</td>\n",
       "      <td>-1.233163</td>\n",
       "      <td>0.830152</td>\n",
       "      <td>1</td>\n",
       "      <td>0</td>\n",
       "      <td>0.647083</td>\n",
       "      <td>0.0</td>\n",
       "      <td>0.0</td>\n",
       "      <td>1.0</td>\n",
       "    </tr>\n",
       "    <tr>\n",
       "      <th>5709</th>\n",
       "      <td>-0.087120</td>\n",
       "      <td>0.006422</td>\n",
       "      <td>1.446272</td>\n",
       "      <td>-1.233163</td>\n",
       "      <td>-0.891560</td>\n",
       "      <td>1</td>\n",
       "      <td>0</td>\n",
       "      <td>-1.658410</td>\n",
       "      <td>0.0</td>\n",
       "      <td>0.0</td>\n",
       "      <td>0.0</td>\n",
       "    </tr>\n",
       "    <tr>\n",
       "      <th>7117</th>\n",
       "      <td>-0.917905</td>\n",
       "      <td>-0.752805</td>\n",
       "      <td>-0.009707</td>\n",
       "      <td>0.722307</td>\n",
       "      <td>-0.891560</td>\n",
       "      <td>1</td>\n",
       "      <td>1</td>\n",
       "      <td>-1.369334</td>\n",
       "      <td>0.0</td>\n",
       "      <td>1.0</td>\n",
       "      <td>1.0</td>\n",
       "    </tr>\n",
       "    <tr>\n",
       "      <th>7775</th>\n",
       "      <td>-0.253277</td>\n",
       "      <td>0.101325</td>\n",
       "      <td>1.810266</td>\n",
       "      <td>-1.233163</td>\n",
       "      <td>0.830152</td>\n",
       "      <td>1</td>\n",
       "      <td>0</td>\n",
       "      <td>0.075086</td>\n",
       "      <td>0.0</td>\n",
       "      <td>1.0</td>\n",
       "      <td>1.0</td>\n",
       "    </tr>\n",
       "    <tr>\n",
       "      <th>8735</th>\n",
       "      <td>0.785204</td>\n",
       "      <td>-0.847708</td>\n",
       "      <td>1.810266</td>\n",
       "      <td>0.615625</td>\n",
       "      <td>-0.891560</td>\n",
       "      <td>0</td>\n",
       "      <td>1</td>\n",
       "      <td>-1.070919</td>\n",
       "      <td>0.0</td>\n",
       "      <td>0.0</td>\n",
       "      <td>1.0</td>\n",
       "    </tr>\n",
       "    <tr>\n",
       "      <th>...</th>\n",
       "      <td>...</td>\n",
       "      <td>...</td>\n",
       "      <td>...</td>\n",
       "      <td>...</td>\n",
       "      <td>...</td>\n",
       "      <td>...</td>\n",
       "      <td>...</td>\n",
       "      <td>...</td>\n",
       "      <td>...</td>\n",
       "      <td>...</td>\n",
       "      <td>...</td>\n",
       "    </tr>\n",
       "    <tr>\n",
       "      <th>9335</th>\n",
       "      <td>0.878668</td>\n",
       "      <td>1.050359</td>\n",
       "      <td>-0.373701</td>\n",
       "      <td>0.820368</td>\n",
       "      <td>0.830152</td>\n",
       "      <td>1</td>\n",
       "      <td>0</td>\n",
       "      <td>-1.650024</td>\n",
       "      <td>1.0</td>\n",
       "      <td>0.0</td>\n",
       "      <td>1.0</td>\n",
       "    </tr>\n",
       "    <tr>\n",
       "      <th>7999</th>\n",
       "      <td>1.802916</td>\n",
       "      <td>-1.227322</td>\n",
       "      <td>-0.009707</td>\n",
       "      <td>1.063628</td>\n",
       "      <td>-0.891560</td>\n",
       "      <td>0</td>\n",
       "      <td>0</td>\n",
       "      <td>-0.679113</td>\n",
       "      <td>0.0</td>\n",
       "      <td>0.0</td>\n",
       "      <td>1.0</td>\n",
       "    </tr>\n",
       "    <tr>\n",
       "      <th>6139</th>\n",
       "      <td>-0.004041</td>\n",
       "      <td>-0.183385</td>\n",
       "      <td>-0.373701</td>\n",
       "      <td>-1.233163</td>\n",
       "      <td>0.830152</td>\n",
       "      <td>1</td>\n",
       "      <td>0</td>\n",
       "      <td>0.760240</td>\n",
       "      <td>0.0</td>\n",
       "      <td>0.0</td>\n",
       "      <td>0.0</td>\n",
       "    </tr>\n",
       "    <tr>\n",
       "      <th>9473</th>\n",
       "      <td>-0.460973</td>\n",
       "      <td>0.575842</td>\n",
       "      <td>-0.373701</td>\n",
       "      <td>-1.233163</td>\n",
       "      <td>0.830152</td>\n",
       "      <td>0</td>\n",
       "      <td>0</td>\n",
       "      <td>-1.087632</td>\n",
       "      <td>0.0</td>\n",
       "      <td>1.0</td>\n",
       "      <td>1.0</td>\n",
       "    </tr>\n",
       "    <tr>\n",
       "      <th>3366</th>\n",
       "      <td>-0.128659</td>\n",
       "      <td>3.328040</td>\n",
       "      <td>-1.101690</td>\n",
       "      <td>0.647257</td>\n",
       "      <td>-0.891560</td>\n",
       "      <td>1</td>\n",
       "      <td>1</td>\n",
       "      <td>-1.132091</td>\n",
       "      <td>1.0</td>\n",
       "      <td>0.0</td>\n",
       "      <td>0.0</td>\n",
       "    </tr>\n",
       "  </tbody>\n",
       "</table>\n",
       "<p>2000 rows × 11 columns</p>\n",
       "</div>"
      ],
      "text/plain": [
       "      credit_score       age    tenure   balance  num_of_products  \\\n",
       "7041     -2.226392 -0.088482 -1.101690 -1.233163         0.830152   \n",
       "5709     -0.087120  0.006422  1.446272 -1.233163        -0.891560   \n",
       "7117     -0.917905 -0.752805 -0.009707  0.722307        -0.891560   \n",
       "7775     -0.253277  0.101325  1.810266 -1.233163         0.830152   \n",
       "8735      0.785204 -0.847708  1.810266  0.615625        -0.891560   \n",
       "...            ...       ...       ...       ...              ...   \n",
       "9335      0.878668  1.050359 -0.373701  0.820368         0.830152   \n",
       "7999      1.802916 -1.227322 -0.009707  1.063628        -0.891560   \n",
       "6139     -0.004041 -0.183385 -0.373701 -1.233163         0.830152   \n",
       "9473     -0.460973  0.575842 -0.373701 -1.233163         0.830152   \n",
       "3366     -0.128659  3.328040 -1.101690  0.647257        -0.891560   \n",
       "\n",
       "      has_cr_card  is_active_member  estimated_salary  geography_Germany  \\\n",
       "7041            1                 0          0.647083                0.0   \n",
       "5709            1                 0         -1.658410                0.0   \n",
       "7117            1                 1         -1.369334                0.0   \n",
       "7775            1                 0          0.075086                0.0   \n",
       "8735            0                 1         -1.070919                0.0   \n",
       "...           ...               ...               ...                ...   \n",
       "9335            1                 0         -1.650024                1.0   \n",
       "7999            0                 0         -0.679113                0.0   \n",
       "6139            1                 0          0.760240                0.0   \n",
       "9473            0                 0         -1.087632                0.0   \n",
       "3366            1                 1         -1.132091                1.0   \n",
       "\n",
       "      geography_Spain  gender_Male  \n",
       "7041              0.0          1.0  \n",
       "5709              0.0          0.0  \n",
       "7117              1.0          1.0  \n",
       "7775              1.0          1.0  \n",
       "8735              0.0          1.0  \n",
       "...               ...          ...  \n",
       "9335              0.0          1.0  \n",
       "7999              0.0          1.0  \n",
       "6139              0.0          0.0  \n",
       "9473              1.0          1.0  \n",
       "3366              0.0          0.0  \n",
       "\n",
       "[2000 rows x 11 columns]"
      ]
     },
     "execution_count": 30,
     "metadata": {},
     "output_type": "execute_result"
    }
   ],
   "source": [
    "features_test"
   ]
  },
  {
   "cell_type": "markdown",
   "metadata": {},
   "source": [
    "Вывели выборки, чтобы убедиться, что код работал корректно"
   ]
  },
  {
   "cell_type": "markdown",
   "metadata": {},
   "source": [
    "На этапе исследования данных мы наблюдали дисбаланс классов. 80% - отрицательный класс = те, кто продолжает пользоваться услугами банка. 20% - положительный = те, кто расторгли договор. Для начала обучим модели  и рассчитаем F1 - меру без учета дисбаланса классов."
   ]
  },
  {
   "cell_type": "markdown",
   "metadata": {},
   "source": [
    "### Логистическая регрессия"
   ]
  },
  {
   "cell_type": "code",
   "execution_count": 31,
   "metadata": {
    "scrolled": true
   },
   "outputs": [
    {
     "name": "stdout",
     "output_type": "stream",
     "text": [
      "F1: 0.33108108108108103\n"
     ]
    }
   ],
   "source": [
    "model = LogisticRegression(random_state=12345, solver='liblinear', max_iter=1000) \n",
    "model.fit(features_train , target_train) \n",
    "predicted_valid = model.predict(features_valid)\n",
    "print(\"F1:\", f1_score(target_valid, predicted_valid))"
   ]
  },
  {
   "cell_type": "code",
   "execution_count": 32,
   "metadata": {},
   "outputs": [
    {
     "name": "stdout",
     "output_type": "stream",
     "text": [
      "0.7587512627102753\n"
     ]
    }
   ],
   "source": [
    "model = LogisticRegression(random_state=12345, solver='liblinear', max_iter=1000) \n",
    "model.fit(features_train , target_train) \n",
    "\n",
    "probabilities_valid = model.predict_proba(features_valid)\n",
    "probabilities_one_valid = probabilities_valid[:, 1]\n",
    "\n",
    "auc_roc =  roc_auc_score(target_valid, probabilities_one_valid)\n",
    "print(auc_roc)"
   ]
  },
  {
   "cell_type": "markdown",
   "metadata": {},
   "source": [
    "При логистической регрессии с максимальным количеством итераций 1000 получили F1 = 0,33. Результат невысокий. Чем ближе F1 к единице тем, лучше работает модель, соблюдается баланс полноты и точности.\n",
    "\n",
    "Вычислили AUC-ROC = 0.76. Значение больше, чем у случайной модели (0.5). Чем больше площадь под ROC-кривой, тем больше истинно-положительных значений выдает модель при изменении порога классификации. "
   ]
  },
  {
   "cell_type": "markdown",
   "metadata": {},
   "source": [
    "### Случайный лес"
   ]
  },
  {
   "cell_type": "code",
   "execution_count": 33,
   "metadata": {},
   "outputs": [
    {
     "name": "stdout",
     "output_type": "stream",
     "text": [
      "F1 наилучшей модели на валидационной выборке: 0.5999999999999999 n_estimators: 9 depth 14\n"
     ]
    }
   ],
   "source": [
    "best_model = None\n",
    "best_result = 0\n",
    "for depth in range(1, 30, 1):\n",
    "    for est in range(1, 30):\n",
    "        model = RandomForestClassifier(random_state=12345, n_estimators=est, max_depth=depth) \n",
    "        model.fit(features_train, target_train) \n",
    "        predicted_valid = model.predict(features_valid)\n",
    "        result = f1_score(target_valid, predicted_valid)\n",
    "        if result > best_result:\n",
    "            best_model = model\n",
    "            best_result =  result \n",
    "            best_est = est\n",
    "            best_depth = depth\n",
    "\n",
    "print(\"F1 наилучшей модели на валидационной выборке:\", best_result, 'n_estimators:',  best_est, 'depth', best_depth)"
   ]
  },
  {
   "cell_type": "code",
   "execution_count": 34,
   "metadata": {},
   "outputs": [
    {
     "name": "stdout",
     "output_type": "stream",
     "text": [
      "0.8222860046334661\n"
     ]
    }
   ],
   "source": [
    "model = RandomForestClassifier(random_state=12345, n_estimators=9, max_depth=14) \n",
    "model.fit(features_train, target_train) \n",
    "\n",
    "probabilities_valid = model.predict_proba(features_valid)\n",
    "probabilities_one_valid = probabilities_valid[:, 1]\n",
    "\n",
    "auc_roc =  roc_auc_score(target_valid, probabilities_one_valid)\n",
    "print(auc_roc)"
   ]
  },
  {
   "cell_type": "markdown",
   "metadata": {},
   "source": [
    "Применили модель \"Случайный лес\". В цикле перебрали значения n_estimators (количество деревьев) от 1 до 30, макисмальную глубину от 1 до 30. Лучший показатель F1 = 0,60 удалось достичь при n_estimators = 9, max_depth = 14\n",
    "AUC-ROC  = 0.82, показывает хорошее качество модели (выше 0.5 и стремится к 1)"
   ]
  },
  {
   "cell_type": "markdown",
   "metadata": {},
   "source": [
    "### Дерево решений"
   ]
  },
  {
   "cell_type": "code",
   "execution_count": 35,
   "metadata": {},
   "outputs": [
    {
     "name": "stdout",
     "output_type": "stream",
     "text": [
      "max_depth = 1 : 0.0\n",
      "max_depth = 2 : 0.5217391304347825\n",
      "max_depth = 3 : 0.4234875444839857\n",
      "max_depth = 4 : 0.5528700906344411\n",
      "max_depth = 5 : 0.5406249999999999\n",
      "max_depth = 6 : 0.5696969696969697\n",
      "max_depth = 7 : 0.5320813771517998\n",
      "max_depth = 8 : 0.5454545454545454\n",
      "max_depth = 9 : 0.5633802816901409\n"
     ]
    }
   ],
   "source": [
    "for depth in range(1, 10):\n",
    "    model = DecisionTreeClassifier(random_state=12345, max_depth=depth)\n",
    "    model.fit(features_train , target_train)\n",
    "    predictions_valid = model.predict(features_valid )\n",
    "\n",
    "    print(\"max_depth =\", depth, \": \", end='')\n",
    "    print(f1_score(target_valid, predictions_valid))"
   ]
  },
  {
   "cell_type": "code",
   "execution_count": 36,
   "metadata": {},
   "outputs": [
    {
     "name": "stdout",
     "output_type": "stream",
     "text": [
      "0.8164631712023421\n"
     ]
    }
   ],
   "source": [
    "model = DecisionTreeClassifier(random_state=12345, max_depth=6)\n",
    "model.fit(features_train, target_train) \n",
    "\n",
    "probabilities_valid = model.predict_proba(features_valid)\n",
    "probabilities_one_valid = probabilities_valid[:, 1]\n",
    "\n",
    "auc_roc =  roc_auc_score(target_valid, probabilities_one_valid)\n",
    "print(auc_roc)"
   ]
  },
  {
   "cell_type": "markdown",
   "metadata": {},
   "source": [
    "Применили модель \"Дерево решений\". С помощью цикла перебрали значения максимальной глубины от 1 до 10. Для каждого значения максимальной глуибины вывели значение F1. Самый высокий показатель = 0,57 удалось достичь при глубине = 6\n",
    "\n",
    "Рассчитали AUC-ROC для этой версии модели, получили значение 0.82, как и  у Случайного леса."
   ]
  },
  {
   "cell_type": "markdown",
   "metadata": {},
   "source": [
    "### Вывод"
   ]
  },
  {
   "cell_type": "markdown",
   "metadata": {},
   "source": [
    "На этапе исследования задачи:\n",
    "\n",
    "- разделили датасет на выборки: обучающая 60%, валидационная 20%, тестовая 20%\n",
    "- преобразовали категориальные данные (страна и пол клиента)\n",
    "- масштабировали численные признаки (кредитный рейтинг, возраст, продолжительность обслуживания, баланс на счете, количество используемых продуктов банка, предполагаемая зарплата.)\n",
    "- обратили внимание на дисбаланс классов: 80% - отрицательный, 20% - положительный\n",
    "- применили модели без учета дисбаланса, для каждой модели рассчитали F1- меру и AUC-ROC\n",
    "-- Логистическая регрессия, F1 = 0.33, AUC-ROC = 0.76\n",
    "-- Случаный лес, F1 = 0.60, AUC-ROC = 0.82 (n_estimators=9, max_depth=14)\n",
    "-- Дерево решений, F1 = 0.57, AUC-ROC = 0.82 (max_depth=6)\n",
    "- Лучшие результаты у Случайного леса. Их удалось добиться при относительно небольшом количестве деревьев и глубине."
   ]
  },
  {
   "cell_type": "markdown",
   "metadata": {},
   "source": [
    "## Борьба с дисбалансом"
   ]
  },
  {
   "cell_type": "markdown",
   "metadata": {},
   "source": [
    "### Взвешивание классов"
   ]
  },
  {
   "cell_type": "markdown",
   "metadata": {},
   "source": [
    "#### Логистическая регрессия"
   ]
  },
  {
   "cell_type": "code",
   "execution_count": 37,
   "metadata": {
    "scrolled": true
   },
   "outputs": [
    {
     "name": "stdout",
     "output_type": "stream",
     "text": [
      "F1: 0.4888507718696398\n"
     ]
    }
   ],
   "source": [
    "model = LogisticRegression(random_state=12345, solver='liblinear', max_iter=1000, class_weight='balanced') \n",
    "model.fit(features_train , target_train) \n",
    "predicted_valid = model.predict(features_valid)\n",
    "print(\"F1:\", f1_score(target_valid, predicted_valid))"
   ]
  },
  {
   "cell_type": "code",
   "execution_count": 38,
   "metadata": {},
   "outputs": [
    {
     "name": "stdout",
     "output_type": "stream",
     "text": [
      "0.7637310291013133\n"
     ]
    }
   ],
   "source": [
    "probabilities_valid = model.predict_proba(features_valid)\n",
    "probabilities_one_valid = probabilities_valid[:, 1]\n",
    "auc_roc =  roc_auc_score(target_valid, probabilities_one_valid)\n",
    "print(auc_roc)"
   ]
  },
  {
   "cell_type": "markdown",
   "metadata": {},
   "source": [
    "Для работы с дисбалансом применили взвешивание классов. Логистическая регрессия показала себя лучше, но также не дотиягивает до параметра F1, принятого за показатель качества в условиях задачи."
   ]
  },
  {
   "cell_type": "markdown",
   "metadata": {},
   "source": [
    "#### Случайный лес"
   ]
  },
  {
   "cell_type": "code",
   "execution_count": 39,
   "metadata": {
    "scrolled": true
   },
   "outputs": [
    {
     "name": "stdout",
     "output_type": "stream",
     "text": [
      "F1 наилучшей модели на валидационной выборке: 0.631236442516269 n_estimators: 47 depth 8\n"
     ]
    }
   ],
   "source": [
    "best_model = None\n",
    "best_result = 0\n",
    "for depth in range(1, 20, 1):\n",
    "    for est in range(1, 50):\n",
    "        model = RandomForestClassifier(random_state=12345, n_estimators=est, max_depth=depth, class_weight='balanced') \n",
    "        model.fit(features_train, target_train) \n",
    "        predicted_valid = model.predict(features_valid)\n",
    "        result = f1_score(target_valid, predicted_valid)\n",
    "        if result > best_result:\n",
    "            best_model = model\n",
    "            best_result =  result \n",
    "            best_est = est\n",
    "            best_depth = depth\n",
    "\n",
    "print(\"F1 наилучшей модели на валидационной выборке:\", best_result, 'n_estimators:',  best_est, 'depth', best_depth)"
   ]
  },
  {
   "cell_type": "code",
   "execution_count": 40,
   "metadata": {},
   "outputs": [
    {
     "name": "stdout",
     "output_type": "stream",
     "text": [
      "0.8553236470097206\n"
     ]
    }
   ],
   "source": [
    "model = RandomForestClassifier(random_state=12345, n_estimators=47, max_depth=8, class_weight='balanced') \n",
    "model.fit(features_train, target_train) \n",
    "\n",
    "probabilities_valid = model.predict_proba(features_valid)\n",
    "probabilities_one_valid = probabilities_valid[:, 1]\n",
    "\n",
    "auc_roc =  roc_auc_score(target_valid, probabilities_one_valid)\n",
    "print(auc_roc)"
   ]
  },
  {
   "cell_type": "markdown",
   "metadata": {},
   "source": [
    "Использовали взвешивание классов. Перебрали в цикле значения n_estimators (1-50) и max_depth (1-20). Получили F1 = 0.63, AUC-ROC = 0.86 при n_estimators: 47 depth 8. На данный момент самые высокие показатели, определяющие качества модели."
   ]
  },
  {
   "cell_type": "markdown",
   "metadata": {},
   "source": [
    "#### Дерево решений"
   ]
  },
  {
   "cell_type": "code",
   "execution_count": 41,
   "metadata": {},
   "outputs": [
    {
     "name": "stdout",
     "output_type": "stream",
     "text": [
      "max_depth = 1 : 0.4994903160040775\n",
      "max_depth = 2 : 0.541015625\n",
      "max_depth = 3 : 0.541015625\n",
      "max_depth = 4 : 0.5277777777777778\n",
      "max_depth = 5 : 0.5963791267305644\n",
      "max_depth = 6 : 0.5581835383159887\n",
      "max_depth = 7 : 0.5508390918065154\n",
      "max_depth = 8 : 0.5398058252427185\n",
      "max_depth = 9 : 0.5431119920713577\n"
     ]
    }
   ],
   "source": [
    "for depth in range(1, 10):\n",
    "    model = DecisionTreeClassifier(random_state=12345, max_depth=depth, class_weight='balanced')\n",
    "\n",
    "    model.fit(features_train , target_train)\n",
    "    predictions_valid = model.predict(features_valid )\n",
    "\n",
    "    print(\"max_depth =\", depth, \": \", end='')\n",
    "    print(f1_score(target_valid, predictions_valid))"
   ]
  },
  {
   "cell_type": "code",
   "execution_count": 42,
   "metadata": {},
   "outputs": [
    {
     "name": "stdout",
     "output_type": "stream",
     "text": [
      "0.8310244134068074\n"
     ]
    }
   ],
   "source": [
    "model = DecisionTreeClassifier(random_state=12345, max_depth=5, class_weight='balanced')\n",
    "model.fit(features_train , target_train)\n",
    "\n",
    "probabilities_valid = model.predict_proba(features_valid)\n",
    "probabilities_one_valid = probabilities_valid[:, 1]\n",
    "\n",
    "auc_roc =  roc_auc_score(target_valid, probabilities_one_valid)\n",
    "print(auc_roc)"
   ]
  },
  {
   "cell_type": "markdown",
   "metadata": {},
   "source": [
    "Взвешивание классов также повысило показатели качества у модели Дерево решений. "
   ]
  },
  {
   "cell_type": "markdown",
   "metadata": {},
   "source": [
    "#### Вывод"
   ]
  },
  {
   "cell_type": "markdown",
   "metadata": {},
   "source": [
    "Взвешивание классов помогло добиться хороших показателей качества на моделях Дерево решений и Случайный лес. Также увеличились показатели Логистической регресии, но недостаточно, чтобы использовать модель в работе.\n",
    "\n",
    "- Случайный лес  F1 = 0.63, AUC-ROC = 0.86 при n_estimators: 47 depth 8\n",
    "- Дерево решений F1 = 0.60, AUC-ROC = 0.83 при depth 5\n",
    "- Логистическая регрессия F1 = 0.49, AUC-ROC = 0.76\n",
    "\n",
    "Лидирует случайный лес"
   ]
  },
  {
   "cell_type": "markdown",
   "metadata": {},
   "source": [
    "### Увеличение выборки\n",
    "\n"
   ]
  },
  {
   "cell_type": "code",
   "execution_count": 43,
   "metadata": {
    "scrolled": false
   },
   "outputs": [
    {
     "data": {
      "text/plain": [
       "(1196,)"
      ]
     },
     "metadata": {},
     "output_type": "display_data"
    },
    {
     "data": {
      "text/plain": [
       "(4804,)"
      ]
     },
     "metadata": {},
     "output_type": "display_data"
    }
   ],
   "source": [
    "display(target_train[target == 1].shape)\n",
    "display(target_train[target == 0].shape)"
   ]
  },
  {
   "cell_type": "code",
   "execution_count": 44,
   "metadata": {},
   "outputs": [],
   "source": [
    "oversample = SMOTE(random_state=12345)\n",
    "features_train_up, target_train_up = oversample.fit_resample(features_train, target_train)\n"
   ]
  },
  {
   "cell_type": "code",
   "execution_count": 45,
   "metadata": {
    "scrolled": true
   },
   "outputs": [
    {
     "data": {
      "text/plain": [
       "(4804,)"
      ]
     },
     "metadata": {},
     "output_type": "display_data"
    },
    {
     "data": {
      "text/plain": [
       "(4804,)"
      ]
     },
     "metadata": {},
     "output_type": "display_data"
    }
   ],
   "source": [
    "display(target_train_up[target_train_up == 1].shape)\n",
    "display(target_train_up[target_train_up == 0].shape)"
   ]
  },
  {
   "cell_type": "markdown",
   "metadata": {},
   "source": [
    "Увеличили количество записей положительного класса до равенства с отрицательным"
   ]
  },
  {
   "cell_type": "markdown",
   "metadata": {},
   "source": [
    "#### Логистическая регрессия"
   ]
  },
  {
   "cell_type": "code",
   "execution_count": 46,
   "metadata": {},
   "outputs": [
    {
     "name": "stdout",
     "output_type": "stream",
     "text": [
      "F1: 0.48138528138528136\n"
     ]
    }
   ],
   "source": [
    "model = LogisticRegression(random_state=12345, solver='liblinear', max_iter=1000) \n",
    "model.fit(features_train_up, target_train_up) \n",
    "predicted_valid = model.predict(features_valid)\n",
    "print(\"F1:\", f1_score(target_valid, predicted_valid))"
   ]
  },
  {
   "cell_type": "code",
   "execution_count": 47,
   "metadata": {},
   "outputs": [
    {
     "name": "stdout",
     "output_type": "stream",
     "text": [
      "0.7515107156467193\n"
     ]
    }
   ],
   "source": [
    "probabilities_valid = model.predict_proba(features_valid)\n",
    "probabilities_one_valid = probabilities_valid[:, 1]\n",
    "\n",
    "auc_roc =  roc_auc_score(target_valid, probabilities_one_valid)\n",
    "print(auc_roc)"
   ]
  },
  {
   "cell_type": "markdown",
   "metadata": {},
   "source": [
    "Логистическая регрессия показывает почти одинаковые почти такие же значения метрик, как при взвешивании классов"
   ]
  },
  {
   "cell_type": "markdown",
   "metadata": {},
   "source": [
    "#### Случайный лес"
   ]
  },
  {
   "cell_type": "code",
   "execution_count": 48,
   "metadata": {},
   "outputs": [
    {
     "name": "stdout",
     "output_type": "stream",
     "text": [
      "F1 наилучшей модели на валидационной выборке: 0.616365568544102 n_estimators: 45 depth 7\n"
     ]
    }
   ],
   "source": [
    "best_model = None\n",
    "best_result = 0\n",
    "for depth in range(1, 30, 1):\n",
    "    for est in range(1, 60, 2):\n",
    "        model = RandomForestClassifier(random_state=12345, n_estimators=est, max_depth=depth) \n",
    "        model.fit(features_train_up, target_train_up) \n",
    "        predicted_valid = model.predict(features_valid)\n",
    "        result = f1_score(target_valid, predicted_valid)\n",
    "        if result > best_result:\n",
    "            best_model = model\n",
    "            best_result =  result \n",
    "            best_est = est\n",
    "            best_depth = depth\n",
    "\n",
    "print(\"F1 наилучшей модели на валидационной выборке:\", best_result, 'n_estimators:',  best_est, 'depth', best_depth)"
   ]
  },
  {
   "cell_type": "code",
   "execution_count": 49,
   "metadata": {
    "scrolled": true
   },
   "outputs": [
    {
     "name": "stdout",
     "output_type": "stream",
     "text": [
      "0.8430791379091332\n"
     ]
    }
   ],
   "source": [
    "model = RandomForestClassifier(random_state=12345, n_estimators=45, max_depth=7) \n",
    "model.fit(features_train_up, target_train_up) \n",
    "\n",
    "probabilities_valid = model.predict_proba(features_valid)\n",
    "probabilities_one_valid = probabilities_valid[:, 1]\n",
    "\n",
    "auc_roc =  roc_auc_score(target_valid, probabilities_one_valid)\n",
    "print(auc_roc)"
   ]
  },
  {
   "cell_type": "markdown",
   "metadata": {},
   "source": [
    "Применили метод увеличения выборки. Случайный лес показал чуть меньшее значение, чем при взешивании классов"
   ]
  },
  {
   "cell_type": "markdown",
   "metadata": {},
   "source": [
    "#### Дерево решений"
   ]
  },
  {
   "cell_type": "code",
   "execution_count": 50,
   "metadata": {},
   "outputs": [
    {
     "name": "stdout",
     "output_type": "stream",
     "text": [
      "max_depth = 1 : 0.4760456273764258\n",
      "max_depth = 2 : 0.4927536231884058\n",
      "max_depth = 3 : 0.5250544662309368\n",
      "max_depth = 4 : 0.5192761605035406\n",
      "max_depth = 5 : 0.5748116254036598\n",
      "max_depth = 6 : 0.5692454632282712\n",
      "max_depth = 7 : 0.5655577299412915\n",
      "max_depth = 8 : 0.5439838220424672\n",
      "max_depth = 9 : 0.5458207452165156\n"
     ]
    }
   ],
   "source": [
    "for depth in range(1, 10):\n",
    "    model = DecisionTreeClassifier(random_state=12345, max_depth=depth)\n",
    "    model.fit(features_train_up, target_train_up)\n",
    "    predictions_valid = model.predict(features_valid )\n",
    "\n",
    "    print(\"max_depth =\", depth, \": \", end='')\n",
    "    print(f1_score(target_valid, predictions_valid))"
   ]
  },
  {
   "cell_type": "code",
   "execution_count": 51,
   "metadata": {},
   "outputs": [
    {
     "name": "stdout",
     "output_type": "stream",
     "text": [
      "0.8256030764763882\n"
     ]
    }
   ],
   "source": [
    "model = DecisionTreeClassifier(random_state=12345, max_depth=5)\n",
    "model.fit(features_train_up , target_train_up)\n",
    "\n",
    "probabilities_valid = model.predict_proba(features_valid)\n",
    "probabilities_one_valid = probabilities_valid[:, 1]\n",
    "\n",
    "auc_roc =  roc_auc_score(target_valid, probabilities_one_valid)\n",
    "print(auc_roc)"
   ]
  },
  {
   "cell_type": "markdown",
   "metadata": {},
   "source": [
    "Дерево решений показало значение F1  = 0.57 , AUC-ROC = 0.83. Если сравнить с деревом при взвешивании классов, то F1 уменьшилось с 0.60 до 0.58, AUC-ROC также остался равен 0.83. Так как AUC-ROC это площадь, то она может оставаться такой же, если график приподнялся в одном месте и опустился в другом. Тем более изменение F1 незначительное"
   ]
  },
  {
   "cell_type": "markdown",
   "metadata": {},
   "source": [
    "#### Вывод"
   ]
  },
  {
   "cell_type": "markdown",
   "metadata": {},
   "source": [
    "При увеличении выборки Случайный лес также показывает лучшие значения метрик.\n",
    "\n",
    "- Случайный лес F1 = 0.62, AUC-ROC = 0.84 при n_estimators: 45 depth 7\n",
    "- Дерево решений F1 = 0.58, AUC-ROC = 0.83 при depth 5\n",
    "- Логистическая регрессия F1 = 0.48, AUC-ROC = 0.75\n",
    "\n",
    "Все модели показали незначительно меньшие значения метрик, чем при взвешивании классов"
   ]
  },
  {
   "cell_type": "markdown",
   "metadata": {},
   "source": [
    "### Уменьшение выборки\n"
   ]
  },
  {
   "cell_type": "code",
   "execution_count": 52,
   "metadata": {},
   "outputs": [],
   "source": [
    "rus = RandomUnderSampler(random_state=12345)\n",
    "features_train_dn, target_train_dn = rus.fit_resample(features_train, target_train)"
   ]
  },
  {
   "cell_type": "code",
   "execution_count": 53,
   "metadata": {},
   "outputs": [
    {
     "data": {
      "text/plain": [
       "(1196,)"
      ]
     },
     "metadata": {},
     "output_type": "display_data"
    },
    {
     "data": {
      "text/plain": [
       "(1196,)"
      ]
     },
     "metadata": {},
     "output_type": "display_data"
    }
   ],
   "source": [
    "display(target_train_dn[target_train_dn == 1].shape)\n",
    "display(target_train_dn[target_train_dn == 0].shape)"
   ]
  },
  {
   "cell_type": "markdown",
   "metadata": {},
   "source": [
    "Уменьшили количество записей отрицательного класса до равенства с положительным"
   ]
  },
  {
   "cell_type": "markdown",
   "metadata": {},
   "source": [
    "#### Логистическая регрессия"
   ]
  },
  {
   "cell_type": "code",
   "execution_count": 54,
   "metadata": {},
   "outputs": [
    {
     "name": "stdout",
     "output_type": "stream",
     "text": [
      "F1: 0.4853700516351119\n"
     ]
    }
   ],
   "source": [
    "model = LogisticRegression(random_state=12345, solver='liblinear', max_iter=1000) \n",
    "model.fit(features_train_dn, target_train_dn) \n",
    "predicted_valid = model.predict(features_valid)\n",
    "print(\"F1:\", f1_score(target_valid, predicted_valid))"
   ]
  },
  {
   "cell_type": "code",
   "execution_count": 55,
   "metadata": {},
   "outputs": [
    {
     "name": "stdout",
     "output_type": "stream",
     "text": [
      "0.7620524561605139\n"
     ]
    }
   ],
   "source": [
    "probabilities_valid = model.predict_proba(features_valid)\n",
    "probabilities_one_valid = probabilities_valid[:, 1]\n",
    "\n",
    "auc_roc =  roc_auc_score(target_valid, probabilities_one_valid)\n",
    "print(auc_roc)"
   ]
  },
  {
   "cell_type": "markdown",
   "metadata": {},
   "source": [
    "Логистическая регрессия продолжает показывать похожие значения метрик. Получились такие же цифры, как при взвешивании классов."
   ]
  },
  {
   "cell_type": "markdown",
   "metadata": {},
   "source": [
    "#### Случайный лес"
   ]
  },
  {
   "cell_type": "code",
   "execution_count": 56,
   "metadata": {},
   "outputs": [
    {
     "name": "stdout",
     "output_type": "stream",
     "text": [
      "F1 наилучшей модели на валидационной выборке: 0.5966228893058161 n_estimators: 13 depth 6\n"
     ]
    }
   ],
   "source": [
    "best_model = None\n",
    "best_result = 0\n",
    "for depth in range(1, 20, 1):\n",
    "    for est in range(1, 50):\n",
    "        model = RandomForestClassifier(random_state=12345, n_estimators=est, max_depth=depth) \n",
    "        model.fit(features_train_dn, target_train_dn) \n",
    "        predicted_valid = model.predict(features_valid)\n",
    "        result = f1_score(target_valid, predicted_valid)\n",
    "        if result > best_result:\n",
    "            best_model = model\n",
    "            best_result =  result \n",
    "            best_est = est\n",
    "            best_depth = depth\n",
    "\n",
    "print(\"F1 наилучшей модели на валидационной выборке:\", best_result, 'n_estimators:',  best_est, 'depth', best_depth)"
   ]
  },
  {
   "cell_type": "code",
   "execution_count": 57,
   "metadata": {
    "scrolled": true
   },
   "outputs": [
    {
     "name": "stdout",
     "output_type": "stream",
     "text": [
      "0.8393658623630678\n"
     ]
    }
   ],
   "source": [
    "model = RandomForestClassifier(random_state=12345, n_estimators=13, max_depth=6) \n",
    "model.fit(features_train_dn, target_train_dn) \n",
    "probabilities_valid = model.predict_proba(features_valid)\n",
    "probabilities_one_valid = probabilities_valid[:, 1]\n",
    "\n",
    "auc_roc =  roc_auc_score(target_valid, probabilities_one_valid)\n",
    "print(auc_roc)"
   ]
  },
  {
   "cell_type": "markdown",
   "metadata": {},
   "source": [
    "При уменьшении выборки Случайный лес еще немного уменьшил F1 (c 0.63 при увеличении до 0.60 при уменьшении). При этом все же высокого показателя удалось добиться при меньшем количестве деревьев и глубины леса."
   ]
  },
  {
   "cell_type": "markdown",
   "metadata": {},
   "source": [
    "#### Дерево решений"
   ]
  },
  {
   "cell_type": "code",
   "execution_count": 58,
   "metadata": {},
   "outputs": [
    {
     "name": "stdout",
     "output_type": "stream",
     "text": [
      "max_depth = 1 : 0.5061845861084681\n",
      "max_depth = 2 : 0.5394495412844036\n",
      "max_depth = 3 : 0.5555555555555556\n",
      "max_depth = 4 : 0.5357737104825291\n",
      "max_depth = 5 : 0.5943204868154158\n",
      "max_depth = 6 : 0.5749525616698292\n",
      "max_depth = 7 : 0.5304659498207885\n",
      "max_depth = 8 : 0.5181159420289856\n",
      "max_depth = 9 : 0.522911051212938\n"
     ]
    }
   ],
   "source": [
    "for depth in range(1, 10):\n",
    "    model = DecisionTreeClassifier(random_state=12345, max_depth=depth)\n",
    "    model.fit(features_train_dn, target_train_dn)\n",
    "    predictions_valid = model.predict(features_valid )\n",
    "\n",
    "    print(\"max_depth =\", depth, \": \", end='')\n",
    "    print(f1_score(target_valid, predictions_valid))"
   ]
  },
  {
   "cell_type": "code",
   "execution_count": 59,
   "metadata": {},
   "outputs": [
    {
     "name": "stdout",
     "output_type": "stream",
     "text": [
      "0.8256030764763882\n"
     ]
    }
   ],
   "source": [
    "model = DecisionTreeClassifier(random_state=12345, max_depth=5)\n",
    "model.fit(features_train_up , target_train_up)\n",
    "\n",
    "probabilities_valid = model.predict_proba(features_valid)\n",
    "probabilities_one_valid = probabilities_valid[:, 1]\n",
    "\n",
    "auc_roc =  roc_auc_score(target_valid, probabilities_one_valid)\n",
    "print(auc_roc)"
   ]
  },
  {
   "cell_type": "markdown",
   "metadata": {},
   "source": [
    "Дерево решений напротив, немного улучшило метрику F1 до 0.59 "
   ]
  },
  {
   "cell_type": "markdown",
   "metadata": {},
   "source": [
    "#### Вывод"
   ]
  },
  {
   "cell_type": "markdown",
   "metadata": {},
   "source": [
    "Получили следующие метрики при уменьшении выборки:\n",
    "- Случайный лес F1 = 0.60, AUC-ROC = 0.84 при n_estimators: 13 depth 6\n",
    "- Дерево решений F1 = 0.59, AUC-ROC = 0.83 при depth 5\n",
    "- Логистическая регрессия F1 = 0.49, AUC-ROC = 0.76"
   ]
  },
  {
   "cell_type": "markdown",
   "metadata": {},
   "source": [
    "### Вывод по работе с дисбалансом"
   ]
  },
  {
   "cell_type": "markdown",
   "metadata": {},
   "source": [
    "При работе с дисбалансом метрики всех моделей улучшились. Как и при дисбалансе Лидирует Случайный лес, за ним дерево решений. Отстает логистическая регрессия и не проходит, установленное значение F1 = 0.59\n",
    "\n",
    "**Случайный лес:**\n",
    "- взвешивание, F1=0.63, AUC-ROC = 0.86 (est 47, depth 8)\n",
    "- увеличение выборки, F1=0.62, AUC-ROC = 0.84 (est 45, depth 7)\n",
    "- уменьшение выборки,  F1 = 0.60, AUC-ROC = 0.84, (est 13, depth 6)\n",
    "\n",
    "**Дерево решений:**\n",
    "- взвешивание, F1=0.60, AUC-ROC = 0.83 (depth 5)\n",
    "- увеличение выборки, F1=0.58, AUC-ROC = 0.83 (depth 5)\n",
    "- уменьшение выборки,  F1 = 0.59, AUC-ROC = 0.83 (depth 5)\n",
    "\n",
    "**Логистическая регрессия:**\n",
    "- взвешивание, F1=0.49, AUC-ROC = 0.76  \n",
    "- увеличение выборки, F1=0.48, AUC-ROC = 0.75  \n",
    "- уменьшение выборки,  F1 = 0.49, AUC-ROC = 0.76\n",
    "\n",
    "Для тестовой выборки будем использовать модель Случайного лес с взвешиванием классов"
   ]
  },
  {
   "cell_type": "markdown",
   "metadata": {},
   "source": [
    "**Изменение порога классификации**"
   ]
  },
  {
   "cell_type": "code",
   "execution_count": 60,
   "metadata": {},
   "outputs": [
    {
     "name": "stdout",
     "output_type": "stream",
     "text": [
      "Порог = 0.00 | Точность = 0.209, Полнота = 1.000, F1 =  0.346\n",
      "Порог = 0.05 | Точность = 0.209, Полнота = 1.000, F1 =  0.346\n",
      "Порог = 0.10 | Точность = 0.223, Полнота = 1.000, F1 =  0.364\n",
      "Порог = 0.15 | Точность = 0.241, Полнота = 0.981, F1 =  0.387\n",
      "Порог = 0.20 | Точность = 0.262, Полнота = 0.955, F1 =  0.412\n",
      "Порог = 0.25 | Точность = 0.290, Полнота = 0.923, F1 =  0.442\n",
      "Порог = 0.30 | Точность = 0.329, Полнота = 0.892, F1 =  0.480\n",
      "Порог = 0.35 | Точность = 0.374, Полнота = 0.861, F1 =  0.521\n",
      "Порог = 0.40 | Точность = 0.429, Полнота = 0.821, F1 =  0.563\n",
      "Порог = 0.45 | Точность = 0.494, Полнота = 0.756, F1 =  0.597\n",
      "Порог = 0.50 | Точность = 0.553, Полнота = 0.677, F1 =  0.609\n",
      "Порог = 0.55 | Точность = 0.632, Полнота = 0.629, F1 =  0.631\n",
      "Порог = 0.60 | Точность = 0.671, Полнота = 0.557, F1 =  0.609\n",
      "Порог = 0.65 | Точность = 0.730, Полнота = 0.498, F1 =  0.592\n"
     ]
    }
   ],
   "source": [
    "model = RandomForestClassifier(random_state=12345, n_estimators=19, max_depth=7, class_weight='balanced') \n",
    "model.fit(features_train, target_train)  \n",
    "\n",
    "\n",
    "probabilities_valid = model.predict_proba(features_valid)\n",
    "probabilities_one_valid = probabilities_valid[:, 1]\n",
    "\n",
    "for threshold in np.arange(0, 0.7, 0.05):\n",
    "    predicted_valid = probabilities_one_valid > threshold \n",
    "    precision = precision_score(target_valid, predicted_valid)\n",
    "    recall = recall_score(target_valid, predicted_valid)\n",
    "    f_1 = f1_score(target_valid, predicted_valid)\n",
    "\n",
    "    print(\"Порог = {:.2f} | Точность = {:.3f}, Полнота = {:.3f}, F1 =  {:.3f}\".format(\n",
    "        threshold, precision, recall, f_1))"
   ]
  },
  {
   "cell_type": "markdown",
   "metadata": {},
   "source": [
    "С помощью цилка посмотрели, как изменение порога классификации влияет на значения метрик. Значение F1 >= 0.59 начинается с порога = 0.45. Здесь начинается относительный баланс полноты и точности предсказания."
   ]
  },
  {
   "cell_type": "markdown",
   "metadata": {},
   "source": [
    "**ROC-кривая**"
   ]
  },
  {
   "cell_type": "code",
   "execution_count": 61,
   "metadata": {},
   "outputs": [
    {
     "data": {
      "image/png": "[encoded data removed]",
      "text/plain": [
       "<Figure size 640x480 with 1 Axes>"
      ]
     },
     "metadata": {},
     "output_type": "display_data"
    }
   ],
   "source": [
    "probabilities_valid = model.predict_proba(features_valid)\n",
    "probabilities_one_valid = probabilities_valid[:, 1]\n",
    "\n",
    "fpr, tpr, thresholds =  roc_curve(target_valid, probabilities_one_valid) \n",
    "\n",
    "plt.figure()\n",
    "plt.plot(fpr, tpr)\n",
    "plt.xlim([0.0, 1.0])\n",
    "plt.ylim([0.0, 1.0])\n",
    "plt.xlabel('False Positive Rate')\n",
    "plt.ylabel('True Positive Rate')\n",
    "plt.title('ROC-кривая')\n",
    "plt.show() "
   ]
  },
  {
   "cell_type": "markdown",
   "metadata": {},
   "source": [
    "Постоили ROC-кривую. Кривая идет по дуге, выше, чем случайная модель. Это говорит о высоком качестве полученной модели"
   ]
  },
  {
   "cell_type": "markdown",
   "metadata": {},
   "source": [
    "**AUC-ROC**"
   ]
  },
  {
   "cell_type": "code",
   "execution_count": 62,
   "metadata": {},
   "outputs": [
    {
     "name": "stdout",
     "output_type": "stream",
     "text": [
      "0.8503968085942935\n"
     ]
    }
   ],
   "source": [
    "probabilities_valid = model.predict_proba(features_valid)\n",
    "probabilities_one_valid = probabilities_valid[:, 1]\n",
    "\n",
    "auc_roc =  roc_auc_score(target_valid, probabilities_one_valid)\n",
    "\n",
    "print(auc_roc)"
   ]
  },
  {
   "cell_type": "markdown",
   "metadata": {},
   "source": [
    "Посчитали AUC-ROC. Получили значение = 0.85. Также говорит о высоком качестве модели. Больше, чем AUC-ROC случайной модели равной 0.5 и стремится к 1."
   ]
  },
  {
   "cell_type": "markdown",
   "metadata": {},
   "source": [
    "## Тестирование модели"
   ]
  },
  {
   "cell_type": "code",
   "execution_count": 63,
   "metadata": {},
   "outputs": [
    {
     "name": "stdout",
     "output_type": "stream",
     "text": [
      "F1 = 0.5963791267305644\n"
     ]
    }
   ],
   "source": [
    "model = RandomForestClassifier(random_state=12345, n_estimators=47, max_depth=8, class_weight='balanced')  \n",
    "model.fit(features_train_up, target_train_up)  \n",
    "predicted_test = model.predict(features_test)\n",
    "print('F1 =', f1_score(target_test, predicted_test))"
   ]
  },
  {
   "cell_type": "code",
   "execution_count": 64,
   "metadata": {},
   "outputs": [
    {
     "data": {
      "image/png": "[encoded data removed]",
      "text/plain": [
       "<Figure size 640x480 with 1 Axes>"
      ]
     },
     "metadata": {},
     "output_type": "display_data"
    }
   ],
   "source": [
    "probabilities_test = model.predict_proba(features_test)\n",
    "probabilities_one_test = probabilities_test[:, 1]\n",
    "\n",
    "fpr, tpr, thresholds =  roc_curve(target_test, probabilities_one_test) \n",
    "\n",
    "plt.figure()\n",
    "plt.plot(fpr, tpr)\n",
    "plt.xlim([0.0, 1.0])\n",
    "plt.ylim([0.0, 1.0])\n",
    "plt.xlabel('False Positive Rate')\n",
    "plt.ylabel('True Positive Rate')\n",
    "plt.title('ROC-кривая')\n",
    "plt.show() "
   ]
  },
  {
   "cell_type": "code",
   "execution_count": 65,
   "metadata": {},
   "outputs": [
    {
     "name": "stdout",
     "output_type": "stream",
     "text": [
      "0.8401144705735971\n"
     ]
    }
   ],
   "source": [
    "auc_roc =  roc_auc_score(target_test, probabilities_one_test)\n",
    "print(auc_roc)"
   ]
  },
  {
   "cell_type": "code",
   "execution_count": 66,
   "metadata": {},
   "outputs": [
    {
     "data": {
      "text/plain": [
       "0.49760765550239233"
      ]
     },
     "execution_count": 66,
     "metadata": {},
     "output_type": "execute_result"
    }
   ],
   "source": [
    "recall_score(target_valid, predicted_valid)"
   ]
  },
  {
   "cell_type": "code",
   "execution_count": 67,
   "metadata": {},
   "outputs": [
    {
     "data": {
      "text/plain": [
       "0.3491539413949649"
      ]
     },
     "execution_count": 67,
     "metadata": {},
     "output_type": "execute_result"
    }
   ],
   "source": [
    "dummy_model = DummyClassifier(strategy='constant', constant=1)\n",
    "dummy_model.fit(features_train, target_train)\n",
    "f1_score(dummy_model.predict(features_test), target_test)"
   ]
  },
  {
   "cell_type": "markdown",
   "metadata": {},
   "source": [
    "Проверили выбранную модель на тестовой выборке. После округления F1 = 0.60, также построили ROC-кривую и рассчитали AUC-ROC = 0.84. Дополнительно рассчитали recall = 0.56 (доля верных предсказаний положительного класса). \n",
    "Модель имеет хорошее качество."
   ]
  },
  {
   "cell_type": "markdown",
   "metadata": {},
   "source": [
    "**Общий вывод**\n",
    "\n",
    "Заказчик исследования - \"Бета- банк\"\n",
    "\n",
    "Проблема : постепенный уход клиентов из банка\n",
    "\n",
    "Задача: спрогнозировать уход клиентов на основе исторических данных об их активности и статусе (продолжает обслуживание или расторгнут договор)\n",
    "\n",
    "**Датасет состоял из 10000 клиентов:** \n",
    "- все данные кроме продолжительности обслуживания в годах без пропусков (пропуски в годах обслуживания заполнены медианами)\n",
    "- отсутствуют неявные дубликаты \n",
    "- удалили столбцы с фамилиями и идентификационными номерами, так как не не нужны для обучения модели\n",
    "\n",
    "**На этапе исследования задачи проведено:**\n",
    "- кодирование категориальных признаков (страна и пол клиента) методом OHE\n",
    "- масштабироввание численных признаков (кредитный рейтинг, возраст, продолжительность обслуживания, баланс на счете, количество используемых продуктов банка, предполагаемая зарплата)\n",
    "- без учета дисбаланса классов обучены модели: логическая регрессия, случайный лес, дерево решений. Наилучшие показатели F1 меры получены на моделе Случайный лес = 0.60\n",
    "\n",
    "На этапе работы с дисбалансом классов испробованы 3 метода на трех моделях:\n",
    "\n",
    "**Случайный лес:**\n",
    "\n",
    "- взвешивание, F1=0.63, AUC-ROC = 0.86 (est 47, depth 8)\n",
    "- увеличение выборки, F1=0.62, AUC-ROC = 0.84 (est 45, depth 7)\n",
    "- уменьшение выборки, F1 = 0.60, AUC-ROC = 0.84, (est 13, depth 6)\n",
    "\n",
    "**Дерево решений:**\n",
    "\n",
    "- взвешивание, F1=0.60, AUC-ROC = 0.83 (depth 5)\n",
    "- увеличение выборки, F1=0.58, AUC-ROC = 0.83 (depth 5)\n",
    "- уменьшение выборки, F1 = 0.59, AUC-ROC = 0.83 (depth 5)\n",
    "\n",
    "**Логистическая регрессия:**\n",
    "\n",
    "- взвешивание, F1=0.49, AUC-ROC = 0.76\n",
    "- увеличение выборки, F1=0.48, AUC-ROC = 0.75\n",
    "- уменьшение выборки, F1 = 0.49, AUC-ROC = 0.76\n",
    "\n",
    "Для дальнейшей работы и проверки на тестовой выборке взята модель с наибольшим показателем F1 = 0.63 , взвешивание классов, случайный лес, количество деревьев - 47, максимальная глубина - 8. \n",
    "\n",
    "F1 на тестовой выборке = 0.60, построена ROC-кривая и расчитан AUC-ROC (0.84). Таким образом модель показала хорошее качество. \n",
    "Также рассчитали полноту = 0.56, то есть модель верно предсказывает более половины фактических представителей положительного класса (тех, кто планирует расторгнуть договор с банком)\n",
    "\n",
    "В заключении расчитали F1 для константной модели, чтобы убедитья, что наша модель работает лучше. Так и есть F1 константной модели = 0.35."
   ]
  }
 ],
 "metadata": {
  "ExecuteTimeLog": [
   {
    "duration": 1066,
    "start_time": "2023-01-11T15:41:47.417Z"
   },
   {
    "duration": 89,
    "start_time": "2023-01-11T15:42:05.258Z"
   },
   {
    "duration": 24,
    "start_time": "2023-01-11T15:42:36.475Z"
   },
   {
    "duration": 13,
    "start_time": "2023-01-11T15:42:45.860Z"
   },
   {
    "duration": 4,
    "start_time": "2023-01-11T15:48:29.964Z"
   },
   {
    "duration": 13,
    "start_time": "2023-01-11T15:48:34.041Z"
   },
   {
    "duration": 11,
    "start_time": "2023-01-11T15:53:08.297Z"
   },
   {
    "duration": 11,
    "start_time": "2023-01-11T15:53:14.735Z"
   },
   {
    "duration": 12,
    "start_time": "2023-01-11T15:53:19.315Z"
   },
   {
    "duration": 5,
    "start_time": "2023-01-11T17:00:50.957Z"
   },
   {
    "duration": 4,
    "start_time": "2023-01-11T17:01:34.718Z"
   },
   {
    "duration": 4,
    "start_time": "2023-01-11T17:01:47.312Z"
   },
   {
    "duration": 6,
    "start_time": "2023-01-11T17:02:00.013Z"
   },
   {
    "duration": 4,
    "start_time": "2023-01-11T17:02:16.627Z"
   },
   {
    "duration": 64,
    "start_time": "2023-01-11T17:03:11.713Z"
   },
   {
    "duration": 3,
    "start_time": "2023-01-11T17:04:38.179Z"
   },
   {
    "duration": 38,
    "start_time": "2023-01-11T17:04:39.070Z"
   },
   {
    "duration": 15,
    "start_time": "2023-01-11T17:04:39.220Z"
   },
   {
    "duration": 12,
    "start_time": "2023-01-11T17:04:39.390Z"
   },
   {
    "duration": 10,
    "start_time": "2023-01-11T17:04:39.540Z"
   },
   {
    "duration": 17,
    "start_time": "2023-01-11T17:04:39.730Z"
   },
   {
    "duration": 6,
    "start_time": "2023-01-11T17:04:39.911Z"
   },
   {
    "duration": 4,
    "start_time": "2023-01-11T17:04:40.085Z"
   },
   {
    "duration": 4,
    "start_time": "2023-01-11T17:04:40.237Z"
   },
   {
    "duration": 5,
    "start_time": "2023-01-11T17:04:40.407Z"
   },
   {
    "duration": 5,
    "start_time": "2023-01-11T17:04:40.611Z"
   },
   {
    "duration": 49,
    "start_time": "2023-01-11T17:04:40.797Z"
   },
   {
    "duration": 1130,
    "start_time": "2023-01-12T07:35:31.770Z"
   },
   {
    "duration": 195,
    "start_time": "2023-01-12T07:35:32.902Z"
   },
   {
    "duration": 23,
    "start_time": "2023-01-12T07:35:33.099Z"
   },
   {
    "duration": 12,
    "start_time": "2023-01-12T07:35:33.124Z"
   },
   {
    "duration": 9,
    "start_time": "2023-01-12T07:35:33.344Z"
   },
   {
    "duration": 12,
    "start_time": "2023-01-12T07:35:33.748Z"
   },
   {
    "duration": 4,
    "start_time": "2023-01-12T07:35:34.100Z"
   },
   {
    "duration": 5,
    "start_time": "2023-01-12T07:35:34.352Z"
   },
   {
    "duration": 5,
    "start_time": "2023-01-12T07:35:34.564Z"
   },
   {
    "duration": 4,
    "start_time": "2023-01-12T07:35:34.758Z"
   },
   {
    "duration": 5,
    "start_time": "2023-01-12T07:35:34.972Z"
   },
   {
    "duration": 69,
    "start_time": "2023-01-12T07:35:35.208Z"
   },
   {
    "duration": 3,
    "start_time": "2023-01-12T07:39:55.026Z"
   },
   {
    "duration": 39,
    "start_time": "2023-01-12T07:39:55.679Z"
   },
   {
    "duration": 15,
    "start_time": "2023-01-12T07:39:56.058Z"
   },
   {
    "duration": 14,
    "start_time": "2023-01-12T07:39:57.715Z"
   },
   {
    "duration": 13,
    "start_time": "2023-01-12T07:39:58.139Z"
   },
   {
    "duration": 16,
    "start_time": "2023-01-12T07:39:58.483Z"
   },
   {
    "duration": 5,
    "start_time": "2023-01-12T07:39:58.950Z"
   },
   {
    "duration": 5,
    "start_time": "2023-01-12T07:40:00.792Z"
   },
   {
    "duration": 17,
    "start_time": "2023-01-12T07:40:00.822Z"
   },
   {
    "duration": 4,
    "start_time": "2023-01-12T07:40:01.096Z"
   },
   {
    "duration": 5,
    "start_time": "2023-01-12T07:40:01.871Z"
   },
   {
    "duration": 138,
    "start_time": "2023-01-12T07:40:02.439Z"
   },
   {
    "duration": 9,
    "start_time": "2023-01-12T07:45:14.199Z"
   },
   {
    "duration": 1101,
    "start_time": "2023-01-12T07:45:37.288Z"
   },
   {
    "duration": 41,
    "start_time": "2023-01-12T07:45:38.391Z"
   },
   {
    "duration": 22,
    "start_time": "2023-01-12T07:45:38.433Z"
   },
   {
    "duration": 14,
    "start_time": "2023-01-12T07:45:38.456Z"
   },
   {
    "duration": 19,
    "start_time": "2023-01-12T07:45:38.472Z"
   },
   {
    "duration": 27,
    "start_time": "2023-01-12T07:45:38.493Z"
   },
   {
    "duration": 5,
    "start_time": "2023-01-12T07:45:38.522Z"
   },
   {
    "duration": 13,
    "start_time": "2023-01-12T07:45:38.529Z"
   },
   {
    "duration": 10,
    "start_time": "2023-01-12T07:45:38.543Z"
   },
   {
    "duration": 6,
    "start_time": "2023-01-12T07:45:38.555Z"
   },
   {
    "duration": 8,
    "start_time": "2023-01-12T07:45:38.562Z"
   },
   {
    "duration": 12,
    "start_time": "2023-01-12T07:45:38.571Z"
   },
   {
    "duration": 10,
    "start_time": "2023-01-12T07:46:28.403Z"
   },
   {
    "duration": 7,
    "start_time": "2023-01-12T07:47:12.276Z"
   },
   {
    "duration": 122,
    "start_time": "2023-01-12T07:52:06.301Z"
   },
   {
    "duration": 17,
    "start_time": "2023-01-12T07:52:25.551Z"
   },
   {
    "duration": 3,
    "start_time": "2023-01-12T07:52:36.482Z"
   },
   {
    "duration": 39,
    "start_time": "2023-01-12T07:52:36.626Z"
   },
   {
    "duration": 14,
    "start_time": "2023-01-12T07:52:36.800Z"
   },
   {
    "duration": 15,
    "start_time": "2023-01-12T07:52:36.965Z"
   },
   {
    "duration": 10,
    "start_time": "2023-01-12T07:52:37.121Z"
   },
   {
    "duration": 13,
    "start_time": "2023-01-12T07:52:37.287Z"
   },
   {
    "duration": 5,
    "start_time": "2023-01-12T07:52:37.456Z"
   },
   {
    "duration": 4,
    "start_time": "2023-01-12T07:52:37.632Z"
   },
   {
    "duration": 4,
    "start_time": "2023-01-12T07:52:37.783Z"
   },
   {
    "duration": 4,
    "start_time": "2023-01-12T07:52:38.001Z"
   },
   {
    "duration": 5,
    "start_time": "2023-01-12T07:52:38.211Z"
   },
   {
    "duration": 13,
    "start_time": "2023-01-12T07:52:38.653Z"
   },
   {
    "duration": 4,
    "start_time": "2023-01-12T07:55:16.784Z"
   },
   {
    "duration": 40,
    "start_time": "2023-01-12T07:55:16.997Z"
   },
   {
    "duration": 13,
    "start_time": "2023-01-12T07:55:17.131Z"
   },
   {
    "duration": 13,
    "start_time": "2023-01-12T07:55:17.306Z"
   },
   {
    "duration": 109,
    "start_time": "2023-01-12T07:55:17.505Z"
   },
   {
    "duration": 8,
    "start_time": "2023-01-12T07:55:18.715Z"
   },
   {
    "duration": 14,
    "start_time": "2023-01-12T07:55:24.251Z"
   },
   {
    "duration": 5,
    "start_time": "2023-01-12T07:55:31.035Z"
   },
   {
    "duration": 41,
    "start_time": "2023-01-12T07:55:31.183Z"
   },
   {
    "duration": 14,
    "start_time": "2023-01-12T07:55:31.350Z"
   },
   {
    "duration": 11,
    "start_time": "2023-01-12T07:55:31.504Z"
   },
   {
    "duration": 12,
    "start_time": "2023-01-12T07:55:31.675Z"
   },
   {
    "duration": 4,
    "start_time": "2023-01-12T07:55:49.723Z"
   },
   {
    "duration": 16,
    "start_time": "2023-01-12T07:56:14.225Z"
   },
   {
    "duration": 19,
    "start_time": "2023-01-12T07:56:19.598Z"
   },
   {
    "duration": 17,
    "start_time": "2023-01-12T07:56:19.754Z"
   },
   {
    "duration": 18,
    "start_time": "2023-01-12T07:56:19.920Z"
   },
   {
    "duration": 3,
    "start_time": "2023-01-12T07:57:04.434Z"
   },
   {
    "duration": 40,
    "start_time": "2023-01-12T07:57:04.621Z"
   },
   {
    "duration": 15,
    "start_time": "2023-01-12T07:57:04.782Z"
   },
   {
    "duration": 13,
    "start_time": "2023-01-12T07:57:05.060Z"
   },
   {
    "duration": 9,
    "start_time": "2023-01-12T07:57:05.744Z"
   },
   {
    "duration": 7,
    "start_time": "2023-01-12T07:57:08.967Z"
   },
   {
    "duration": 12,
    "start_time": "2023-01-12T07:57:09.193Z"
   },
   {
    "duration": 3,
    "start_time": "2023-01-12T07:58:45.880Z"
   },
   {
    "duration": 40,
    "start_time": "2023-01-12T07:58:46.056Z"
   },
   {
    "duration": 14,
    "start_time": "2023-01-12T07:58:46.216Z"
   },
   {
    "duration": 12,
    "start_time": "2023-01-12T07:58:46.378Z"
   },
   {
    "duration": 19,
    "start_time": "2023-01-12T07:58:46.664Z"
   },
   {
    "duration": 3,
    "start_time": "2023-01-12T07:59:13.806Z"
   },
   {
    "duration": 42,
    "start_time": "2023-01-12T07:59:13.988Z"
   },
   {
    "duration": 21,
    "start_time": "2023-01-12T07:59:14.139Z"
   },
   {
    "duration": 13,
    "start_time": "2023-01-12T07:59:14.309Z"
   },
   {
    "duration": 20,
    "start_time": "2023-01-12T07:59:14.461Z"
   },
   {
    "duration": 8,
    "start_time": "2023-01-12T07:59:15.141Z"
   },
   {
    "duration": 15,
    "start_time": "2023-01-12T07:59:15.971Z"
   },
   {
    "duration": 3,
    "start_time": "2023-01-12T07:59:28.575Z"
   },
   {
    "duration": 40,
    "start_time": "2023-01-12T07:59:28.860Z"
   },
   {
    "duration": 14,
    "start_time": "2023-01-12T07:59:29.125Z"
   },
   {
    "duration": 13,
    "start_time": "2023-01-12T07:59:29.372Z"
   },
   {
    "duration": 14,
    "start_time": "2023-01-12T07:59:29.896Z"
   },
   {
    "duration": 19,
    "start_time": "2023-01-12T07:59:34.605Z"
   },
   {
    "duration": 4,
    "start_time": "2023-01-12T08:00:01.216Z"
   },
   {
    "duration": 40,
    "start_time": "2023-01-12T08:00:01.535Z"
   },
   {
    "duration": 14,
    "start_time": "2023-01-12T08:00:01.807Z"
   },
   {
    "duration": 13,
    "start_time": "2023-01-12T08:00:02.117Z"
   },
   {
    "duration": 21,
    "start_time": "2023-01-12T08:00:02.327Z"
   },
   {
    "duration": 10,
    "start_time": "2023-01-12T08:00:02.521Z"
   },
   {
    "duration": 12,
    "start_time": "2023-01-12T08:00:04.815Z"
   },
   {
    "duration": 6,
    "start_time": "2023-01-12T08:00:04.976Z"
   },
   {
    "duration": 3,
    "start_time": "2023-01-12T08:00:29.769Z"
   },
   {
    "duration": 42,
    "start_time": "2023-01-12T08:00:29.927Z"
   },
   {
    "duration": 15,
    "start_time": "2023-01-12T08:00:30.084Z"
   },
   {
    "duration": 12,
    "start_time": "2023-01-12T08:00:30.252Z"
   },
   {
    "duration": 4,
    "start_time": "2023-01-12T08:00:30.646Z"
   },
   {
    "duration": 8,
    "start_time": "2023-01-12T08:00:31.429Z"
   },
   {
    "duration": 12,
    "start_time": "2023-01-12T08:00:32.396Z"
   },
   {
    "duration": 11,
    "start_time": "2023-01-12T08:00:48.848Z"
   },
   {
    "duration": 3,
    "start_time": "2023-01-12T08:23:44.804Z"
   },
   {
    "duration": 40,
    "start_time": "2023-01-12T08:23:44.970Z"
   },
   {
    "duration": 13,
    "start_time": "2023-01-12T08:23:45.140Z"
   },
   {
    "duration": 12,
    "start_time": "2023-01-12T08:23:45.316Z"
   },
   {
    "duration": 4,
    "start_time": "2023-01-12T08:23:45.516Z"
   },
   {
    "duration": 7,
    "start_time": "2023-01-12T08:23:45.694Z"
   },
   {
    "duration": 11,
    "start_time": "2023-01-12T08:23:45.968Z"
   },
   {
    "duration": 10,
    "start_time": "2023-01-12T08:23:46.140Z"
   },
   {
    "duration": 5,
    "start_time": "2023-01-12T08:23:46.327Z"
   },
   {
    "duration": 4,
    "start_time": "2023-01-12T08:23:46.782Z"
   },
   {
    "duration": 5,
    "start_time": "2023-01-12T08:23:46.947Z"
   },
   {
    "duration": 4,
    "start_time": "2023-01-12T08:23:47.102Z"
   },
   {
    "duration": 4,
    "start_time": "2023-01-12T08:23:47.278Z"
   },
   {
    "duration": 576,
    "start_time": "2023-01-12T08:24:40.417Z"
   },
   {
    "duration": 157,
    "start_time": "2023-01-12T08:25:04.069Z"
   },
   {
    "duration": 132,
    "start_time": "2023-01-12T08:28:58.437Z"
   },
   {
    "duration": 5,
    "start_time": "2023-01-12T08:29:39.460Z"
   },
   {
    "duration": 127,
    "start_time": "2023-01-12T08:30:01.838Z"
   },
   {
    "duration": 136,
    "start_time": "2023-01-12T08:30:10.577Z"
   },
   {
    "duration": 11,
    "start_time": "2023-01-12T08:30:41.926Z"
   },
   {
    "duration": 3,
    "start_time": "2023-01-12T08:36:30.180Z"
   },
   {
    "duration": 39,
    "start_time": "2023-01-12T08:36:30.328Z"
   },
   {
    "duration": 15,
    "start_time": "2023-01-12T08:36:30.501Z"
   },
   {
    "duration": 94,
    "start_time": "2023-01-12T08:36:30.675Z"
   },
   {
    "duration": 5,
    "start_time": "2023-01-12T08:36:30.857Z"
   },
   {
    "duration": 8,
    "start_time": "2023-01-12T08:36:31.034Z"
   },
   {
    "duration": 12,
    "start_time": "2023-01-12T08:36:31.212Z"
   },
   {
    "duration": 11,
    "start_time": "2023-01-12T08:36:31.409Z"
   },
   {
    "duration": 5,
    "start_time": "2023-01-12T08:36:31.600Z"
   },
   {
    "duration": 5,
    "start_time": "2023-01-12T08:36:31.791Z"
   },
   {
    "duration": 4,
    "start_time": "2023-01-12T08:36:31.979Z"
   },
   {
    "duration": 4,
    "start_time": "2023-01-12T08:36:32.165Z"
   },
   {
    "duration": 5,
    "start_time": "2023-01-12T08:36:32.352Z"
   },
   {
    "duration": 4,
    "start_time": "2023-01-12T08:36:32.535Z"
   },
   {
    "duration": 144,
    "start_time": "2023-01-12T08:36:32.739Z"
   },
   {
    "duration": 8,
    "start_time": "2023-01-12T08:36:32.947Z"
   },
   {
    "duration": 13,
    "start_time": "2023-01-12T08:36:34.865Z"
   },
   {
    "duration": 5,
    "start_time": "2023-01-12T08:46:39.623Z"
   },
   {
    "duration": 18,
    "start_time": "2023-01-12T08:46:54.785Z"
   },
   {
    "duration": 7,
    "start_time": "2023-01-12T08:47:04.441Z"
   },
   {
    "duration": 5,
    "start_time": "2023-01-12T08:47:25.946Z"
   },
   {
    "duration": 4,
    "start_time": "2023-01-12T08:47:49.574Z"
   },
   {
    "duration": 5,
    "start_time": "2023-01-12T08:47:57.733Z"
   },
   {
    "duration": 5,
    "start_time": "2023-01-12T08:48:30.822Z"
   },
   {
    "duration": 6,
    "start_time": "2023-01-12T08:49:02.649Z"
   },
   {
    "duration": 3,
    "start_time": "2023-01-12T09:16:46.764Z"
   },
   {
    "duration": 10,
    "start_time": "2023-01-12T09:17:48.533Z"
   },
   {
    "duration": 10,
    "start_time": "2023-01-12T09:17:54.343Z"
   },
   {
    "duration": 18,
    "start_time": "2023-01-12T09:17:59.235Z"
   },
   {
    "duration": 51,
    "start_time": "2023-01-13T08:36:22.858Z"
   },
   {
    "duration": 7,
    "start_time": "2023-01-13T08:36:38.360Z"
   },
   {
    "duration": 1268,
    "start_time": "2023-01-13T08:36:42.314Z"
   },
   {
    "duration": 82,
    "start_time": "2023-01-13T08:36:43.584Z"
   },
   {
    "duration": 24,
    "start_time": "2023-01-13T08:36:43.668Z"
   },
   {
    "duration": 17,
    "start_time": "2023-01-13T08:36:43.694Z"
   },
   {
    "duration": 6,
    "start_time": "2023-01-13T08:36:43.713Z"
   },
   {
    "duration": 18,
    "start_time": "2023-01-13T08:36:43.721Z"
   },
   {
    "duration": 46,
    "start_time": "2023-01-13T08:36:43.741Z"
   },
   {
    "duration": 23,
    "start_time": "2023-01-13T08:36:43.789Z"
   },
   {
    "duration": 20,
    "start_time": "2023-01-13T08:36:43.815Z"
   },
   {
    "duration": 4,
    "start_time": "2023-01-13T08:36:43.889Z"
   },
   {
    "duration": 6,
    "start_time": "2023-01-13T08:36:44.090Z"
   },
   {
    "duration": 6,
    "start_time": "2023-01-13T08:36:44.277Z"
   },
   {
    "duration": 5,
    "start_time": "2023-01-13T08:36:44.460Z"
   },
   {
    "duration": 5,
    "start_time": "2023-01-13T08:36:44.640Z"
   },
   {
    "duration": 5,
    "start_time": "2023-01-13T08:36:44.858Z"
   },
   {
    "duration": 4,
    "start_time": "2023-01-13T08:36:45.068Z"
   },
   {
    "duration": 5,
    "start_time": "2023-01-13T08:36:45.401Z"
   },
   {
    "duration": 6,
    "start_time": "2023-01-13T08:36:45.641Z"
   },
   {
    "duration": 4,
    "start_time": "2023-01-13T08:36:45.823Z"
   },
   {
    "duration": 597,
    "start_time": "2023-01-13T08:36:46.010Z"
   },
   {
    "duration": 10,
    "start_time": "2023-01-13T08:36:46.609Z"
   },
   {
    "duration": 7,
    "start_time": "2023-01-13T08:36:48.434Z"
   },
   {
    "duration": 13,
    "start_time": "2023-01-13T08:36:57.532Z"
   },
   {
    "duration": 234,
    "start_time": "2023-01-13T08:41:21.161Z"
   },
   {
    "duration": 4,
    "start_time": "2023-01-13T08:41:46.496Z"
   },
   {
    "duration": 43,
    "start_time": "2023-01-13T08:41:46.676Z"
   },
   {
    "duration": 14,
    "start_time": "2023-01-13T08:41:46.812Z"
   },
   {
    "duration": 12,
    "start_time": "2023-01-13T08:41:46.995Z"
   },
   {
    "duration": 6,
    "start_time": "2023-01-13T08:41:47.161Z"
   },
   {
    "duration": 8,
    "start_time": "2023-01-13T08:41:47.321Z"
   },
   {
    "duration": 12,
    "start_time": "2023-01-13T08:41:47.473Z"
   },
   {
    "duration": 14,
    "start_time": "2023-01-13T08:41:47.634Z"
   },
   {
    "duration": 6,
    "start_time": "2023-01-13T08:41:47.791Z"
   },
   {
    "duration": 6,
    "start_time": "2023-01-13T08:41:47.966Z"
   },
   {
    "duration": 5,
    "start_time": "2023-01-13T08:41:48.141Z"
   },
   {
    "duration": 6,
    "start_time": "2023-01-13T08:41:48.335Z"
   },
   {
    "duration": 5,
    "start_time": "2023-01-13T08:41:48.504Z"
   },
   {
    "duration": 5,
    "start_time": "2023-01-13T08:41:48.661Z"
   },
   {
    "duration": 4,
    "start_time": "2023-01-13T08:41:48.790Z"
   },
   {
    "duration": 4,
    "start_time": "2023-01-13T08:41:50.647Z"
   },
   {
    "duration": 5,
    "start_time": "2023-01-13T08:41:50.730Z"
   },
   {
    "duration": 6,
    "start_time": "2023-01-13T08:41:50.884Z"
   },
   {
    "duration": 5,
    "start_time": "2023-01-13T08:41:51.071Z"
   },
   {
    "duration": 136,
    "start_time": "2023-01-13T08:41:51.245Z"
   },
   {
    "duration": 10,
    "start_time": "2023-01-13T08:41:51.436Z"
   },
   {
    "duration": 171,
    "start_time": "2023-01-13T08:41:51.611Z"
   },
   {
    "duration": 221,
    "start_time": "2023-01-13T08:42:02.325Z"
   },
   {
    "duration": 7,
    "start_time": "2023-01-13T08:42:02.860Z"
   },
   {
    "duration": 296,
    "start_time": "2023-01-13T08:42:04.009Z"
   },
   {
    "duration": 14,
    "start_time": "2023-01-13T08:42:04.524Z"
   },
   {
    "duration": 187,
    "start_time": "2023-01-13T08:43:20.535Z"
   },
   {
    "duration": 229,
    "start_time": "2023-01-13T08:46:09.548Z"
   },
   {
    "duration": 142,
    "start_time": "2023-01-13T08:46:20.503Z"
   },
   {
    "duration": 139,
    "start_time": "2023-01-13T08:46:44.314Z"
   },
   {
    "duration": 145,
    "start_time": "2023-01-13T08:46:50.566Z"
   },
   {
    "duration": 163,
    "start_time": "2023-01-13T08:46:55.731Z"
   },
   {
    "duration": 3,
    "start_time": "2023-01-13T08:47:15.175Z"
   },
   {
    "duration": 39,
    "start_time": "2023-01-13T08:47:15.458Z"
   },
   {
    "duration": 16,
    "start_time": "2023-01-13T08:47:15.621Z"
   },
   {
    "duration": 13,
    "start_time": "2023-01-13T08:47:15.795Z"
   },
   {
    "duration": 4,
    "start_time": "2023-01-13T08:47:15.967Z"
   },
   {
    "duration": 9,
    "start_time": "2023-01-13T08:47:16.132Z"
   },
   {
    "duration": 13,
    "start_time": "2023-01-13T08:47:16.309Z"
   },
   {
    "duration": 12,
    "start_time": "2023-01-13T08:47:16.496Z"
   },
   {
    "duration": 7,
    "start_time": "2023-01-13T08:47:16.682Z"
   },
   {
    "duration": 4,
    "start_time": "2023-01-13T08:47:16.885Z"
   },
   {
    "duration": 5,
    "start_time": "2023-01-13T08:47:17.108Z"
   },
   {
    "duration": 5,
    "start_time": "2023-01-13T08:47:17.294Z"
   },
   {
    "duration": 5,
    "start_time": "2023-01-13T08:47:17.483Z"
   },
   {
    "duration": 5,
    "start_time": "2023-01-13T08:47:17.702Z"
   },
   {
    "duration": 5,
    "start_time": "2023-01-13T08:47:18.001Z"
   },
   {
    "duration": 5,
    "start_time": "2023-01-13T08:47:18.343Z"
   },
   {
    "duration": 5,
    "start_time": "2023-01-13T08:47:18.704Z"
   },
   {
    "duration": 7,
    "start_time": "2023-01-13T08:47:19.062Z"
   },
   {
    "duration": 5,
    "start_time": "2023-01-13T08:47:19.265Z"
   },
   {
    "duration": 142,
    "start_time": "2023-01-13T08:47:19.442Z"
   },
   {
    "duration": 9,
    "start_time": "2023-01-13T08:47:19.734Z"
   },
   {
    "duration": 155,
    "start_time": "2023-01-13T08:47:20.300Z"
   },
   {
    "duration": 147,
    "start_time": "2023-01-13T08:47:29.728Z"
   },
   {
    "duration": 7,
    "start_time": "2023-01-13T08:47:30.712Z"
   },
   {
    "duration": 155,
    "start_time": "2023-01-13T08:47:31.358Z"
   },
   {
    "duration": 15,
    "start_time": "2023-01-13T08:47:32.460Z"
   },
   {
    "duration": 25,
    "start_time": "2023-01-13T08:59:14.108Z"
   },
   {
    "duration": 13,
    "start_time": "2023-01-13T08:59:17.358Z"
   },
   {
    "duration": 25,
    "start_time": "2023-01-13T08:59:30.448Z"
   },
   {
    "duration": 3,
    "start_time": "2023-01-13T08:59:45.325Z"
   },
   {
    "duration": 138,
    "start_time": "2023-01-13T08:59:45.473Z"
   },
   {
    "duration": 16,
    "start_time": "2023-01-13T08:59:45.673Z"
   },
   {
    "duration": 13,
    "start_time": "2023-01-13T08:59:45.841Z"
   },
   {
    "duration": 5,
    "start_time": "2023-01-13T08:59:46.012Z"
   },
   {
    "duration": 10,
    "start_time": "2023-01-13T08:59:46.184Z"
   },
   {
    "duration": 12,
    "start_time": "2023-01-13T08:59:46.370Z"
   },
   {
    "duration": 14,
    "start_time": "2023-01-13T08:59:46.571Z"
   },
   {
    "duration": 7,
    "start_time": "2023-01-13T08:59:46.736Z"
   },
   {
    "duration": 5,
    "start_time": "2023-01-13T08:59:46.931Z"
   },
   {
    "duration": 5,
    "start_time": "2023-01-13T08:59:47.130Z"
   },
   {
    "duration": 6,
    "start_time": "2023-01-13T08:59:47.393Z"
   },
   {
    "duration": 5,
    "start_time": "2023-01-13T08:59:47.663Z"
   },
   {
    "duration": 6,
    "start_time": "2023-01-13T08:59:47.810Z"
   },
   {
    "duration": 5,
    "start_time": "2023-01-13T08:59:47.998Z"
   },
   {
    "duration": 5,
    "start_time": "2023-01-13T08:59:48.210Z"
   },
   {
    "duration": 5,
    "start_time": "2023-01-13T08:59:48.478Z"
   },
   {
    "duration": 7,
    "start_time": "2023-01-13T08:59:48.713Z"
   },
   {
    "duration": 4,
    "start_time": "2023-01-13T08:59:48.921Z"
   },
   {
    "duration": 159,
    "start_time": "2023-01-13T08:59:49.130Z"
   },
   {
    "duration": 9,
    "start_time": "2023-01-13T08:59:49.485Z"
   },
   {
    "duration": 153,
    "start_time": "2023-01-13T08:59:49.749Z"
   },
   {
    "duration": 7,
    "start_time": "2023-01-13T08:59:50.322Z"
   },
   {
    "duration": 155,
    "start_time": "2023-01-13T08:59:50.692Z"
   },
   {
    "duration": 13,
    "start_time": "2023-01-13T08:59:51.087Z"
   },
   {
    "duration": 23,
    "start_time": "2023-01-13T08:59:53.097Z"
   },
   {
    "duration": 17,
    "start_time": "2023-01-13T08:59:53.579Z"
   },
   {
    "duration": 12,
    "start_time": "2023-01-13T08:59:56.466Z"
   },
   {
    "duration": 4,
    "start_time": "2023-01-13T09:37:23.720Z"
   },
   {
    "duration": 23,
    "start_time": "2023-01-13T09:38:51.281Z"
   },
   {
    "duration": 21,
    "start_time": "2023-01-13T09:39:52.632Z"
   },
   {
    "duration": 25,
    "start_time": "2023-01-13T09:41:37.649Z"
   },
   {
    "duration": 20,
    "start_time": "2023-01-13T09:41:49.191Z"
   },
   {
    "duration": 29,
    "start_time": "2023-01-13T09:44:26.603Z"
   },
   {
    "duration": 10,
    "start_time": "2023-01-13T10:08:55.649Z"
   },
   {
    "duration": 11,
    "start_time": "2023-01-13T10:09:04.054Z"
   },
   {
    "duration": 5,
    "start_time": "2023-01-13T10:09:12.144Z"
   },
   {
    "duration": 7,
    "start_time": "2023-01-13T10:09:53.245Z"
   },
   {
    "duration": 5,
    "start_time": "2023-01-13T10:09:59.266Z"
   },
   {
    "duration": 8,
    "start_time": "2023-01-13T10:10:07.005Z"
   },
   {
    "duration": 5,
    "start_time": "2023-01-13T10:10:23.492Z"
   },
   {
    "duration": 5,
    "start_time": "2023-01-13T10:10:30.316Z"
   },
   {
    "duration": 6,
    "start_time": "2023-01-13T10:10:37.708Z"
   },
   {
    "duration": 7,
    "start_time": "2023-01-13T10:10:45.755Z"
   },
   {
    "duration": 6,
    "start_time": "2023-01-13T10:10:53.307Z"
   },
   {
    "duration": 6,
    "start_time": "2023-01-13T10:11:09.346Z"
   },
   {
    "duration": 6,
    "start_time": "2023-01-13T10:11:15.813Z"
   },
   {
    "duration": 67,
    "start_time": "2023-01-13T10:13:06.380Z"
   },
   {
    "duration": 330,
    "start_time": "2023-01-13T10:13:45.800Z"
   },
   {
    "duration": 257,
    "start_time": "2023-01-13T10:14:02.380Z"
   },
   {
    "duration": 3,
    "start_time": "2023-01-13T10:14:29.653Z"
   },
   {
    "duration": 40,
    "start_time": "2023-01-13T10:14:30.074Z"
   },
   {
    "duration": 14,
    "start_time": "2023-01-13T10:14:30.213Z"
   },
   {
    "duration": 12,
    "start_time": "2023-01-13T10:14:30.382Z"
   },
   {
    "duration": 5,
    "start_time": "2023-01-13T10:14:30.511Z"
   },
   {
    "duration": 8,
    "start_time": "2023-01-13T10:14:30.678Z"
   },
   {
    "duration": 10,
    "start_time": "2023-01-13T10:14:30.820Z"
   },
   {
    "duration": 11,
    "start_time": "2023-01-13T10:14:30.978Z"
   },
   {
    "duration": 6,
    "start_time": "2023-01-13T10:14:31.113Z"
   },
   {
    "duration": 6,
    "start_time": "2023-01-13T10:14:31.281Z"
   },
   {
    "duration": 7,
    "start_time": "2023-01-13T10:14:31.425Z"
   },
   {
    "duration": 5,
    "start_time": "2023-01-13T10:14:31.582Z"
   },
   {
    "duration": 6,
    "start_time": "2023-01-13T10:14:31.735Z"
   },
   {
    "duration": 5,
    "start_time": "2023-01-13T10:14:31.898Z"
   },
   {
    "duration": 5,
    "start_time": "2023-01-13T10:14:32.058Z"
   },
   {
    "duration": 5,
    "start_time": "2023-01-13T10:14:32.206Z"
   },
   {
    "duration": 5,
    "start_time": "2023-01-13T10:14:32.371Z"
   },
   {
    "duration": 161,
    "start_time": "2023-01-13T10:14:32.526Z"
   },
   {
    "duration": 9,
    "start_time": "2023-01-13T10:14:32.696Z"
   },
   {
    "duration": 139,
    "start_time": "2023-01-13T10:14:32.884Z"
   },
   {
    "duration": 6,
    "start_time": "2023-01-13T10:14:33.237Z"
   },
   {
    "duration": 141,
    "start_time": "2023-01-13T10:14:33.614Z"
   },
   {
    "duration": 12,
    "start_time": "2023-01-13T10:14:33.798Z"
   },
   {
    "duration": 24,
    "start_time": "2023-01-13T10:14:34.941Z"
   },
   {
    "duration": 15,
    "start_time": "2023-01-13T10:14:35.115Z"
   },
   {
    "duration": 15,
    "start_time": "2023-01-13T10:14:35.488Z"
   },
   {
    "duration": 20,
    "start_time": "2023-01-13T10:14:35.936Z"
   },
   {
    "duration": 67,
    "start_time": "2023-01-13T10:14:36.789Z"
   },
   {
    "duration": 296,
    "start_time": "2023-01-13T10:14:37.581Z"
   },
   {
    "duration": 369,
    "start_time": "2023-01-13T10:14:38.388Z"
   },
   {
    "duration": 1131,
    "start_time": "2023-01-13T11:08:08.212Z"
   },
   {
    "duration": 42,
    "start_time": "2023-01-13T11:08:09.345Z"
   },
   {
    "duration": 21,
    "start_time": "2023-01-13T11:08:09.389Z"
   },
   {
    "duration": 13,
    "start_time": "2023-01-13T11:08:09.412Z"
   },
   {
    "duration": 9,
    "start_time": "2023-01-13T11:08:09.427Z"
   },
   {
    "duration": 15,
    "start_time": "2023-01-13T11:08:09.438Z"
   },
   {
    "duration": 28,
    "start_time": "2023-01-13T11:08:09.454Z"
   },
   {
    "duration": 12,
    "start_time": "2023-01-13T11:08:09.484Z"
   },
   {
    "duration": 9,
    "start_time": "2023-01-13T11:08:09.498Z"
   },
   {
    "duration": 9,
    "start_time": "2023-01-13T11:08:09.510Z"
   },
   {
    "duration": 14,
    "start_time": "2023-01-13T11:08:09.521Z"
   },
   {
    "duration": 21,
    "start_time": "2023-01-13T11:08:09.537Z"
   },
   {
    "duration": 7,
    "start_time": "2023-01-13T11:08:09.560Z"
   },
   {
    "duration": 6,
    "start_time": "2023-01-13T11:08:09.569Z"
   },
   {
    "duration": 8,
    "start_time": "2023-01-13T11:08:09.577Z"
   },
   {
    "duration": 9,
    "start_time": "2023-01-13T11:08:09.586Z"
   },
   {
    "duration": 5,
    "start_time": "2023-01-13T11:08:09.597Z"
   },
   {
    "duration": 422,
    "start_time": "2023-01-13T11:08:09.604Z"
   },
   {
    "duration": 15,
    "start_time": "2023-01-13T11:08:10.029Z"
   },
   {
    "duration": 270,
    "start_time": "2023-01-13T11:08:10.046Z"
   },
   {
    "duration": 0,
    "start_time": "2023-01-13T11:08:10.318Z"
   },
   {
    "duration": 0,
    "start_time": "2023-01-13T11:08:10.319Z"
   },
   {
    "duration": 0,
    "start_time": "2023-01-13T11:08:10.320Z"
   },
   {
    "duration": 0,
    "start_time": "2023-01-13T11:08:10.321Z"
   },
   {
    "duration": 0,
    "start_time": "2023-01-13T11:08:10.322Z"
   },
   {
    "duration": 0,
    "start_time": "2023-01-13T11:08:10.323Z"
   },
   {
    "duration": 0,
    "start_time": "2023-01-13T11:08:10.335Z"
   },
   {
    "duration": 0,
    "start_time": "2023-01-13T11:08:10.336Z"
   },
   {
    "duration": 12,
    "start_time": "2023-01-13T11:12:24.797Z"
   },
   {
    "duration": 4,
    "start_time": "2023-01-13T11:12:40.985Z"
   },
   {
    "duration": 38,
    "start_time": "2023-01-13T11:12:41.310Z"
   },
   {
    "duration": 15,
    "start_time": "2023-01-13T11:12:41.514Z"
   },
   {
    "duration": 12,
    "start_time": "2023-01-13T11:12:41.694Z"
   },
   {
    "duration": 4,
    "start_time": "2023-01-13T11:12:41.876Z"
   },
   {
    "duration": 8,
    "start_time": "2023-01-13T11:12:42.349Z"
   },
   {
    "duration": 14,
    "start_time": "2023-01-13T11:12:42.527Z"
   },
   {
    "duration": 11,
    "start_time": "2023-01-13T11:12:42.779Z"
   },
   {
    "duration": 6,
    "start_time": "2023-01-13T11:12:43.003Z"
   },
   {
    "duration": 6,
    "start_time": "2023-01-13T11:12:43.232Z"
   },
   {
    "duration": 6,
    "start_time": "2023-01-13T11:12:43.449Z"
   },
   {
    "duration": 5,
    "start_time": "2023-01-13T11:12:43.679Z"
   },
   {
    "duration": 6,
    "start_time": "2023-01-13T11:12:43.882Z"
   },
   {
    "duration": 6,
    "start_time": "2023-01-13T11:12:44.068Z"
   },
   {
    "duration": 5,
    "start_time": "2023-01-13T11:12:44.274Z"
   },
   {
    "duration": 5,
    "start_time": "2023-01-13T11:12:44.485Z"
   },
   {
    "duration": 6,
    "start_time": "2023-01-13T11:12:44.687Z"
   },
   {
    "duration": 134,
    "start_time": "2023-01-13T11:12:44.869Z"
   },
   {
    "duration": 10,
    "start_time": "2023-01-13T11:12:45.063Z"
   },
   {
    "duration": 139,
    "start_time": "2023-01-13T11:12:45.274Z"
   },
   {
    "duration": 4,
    "start_time": "2023-01-13T11:17:26.517Z"
   },
   {
    "duration": 40,
    "start_time": "2023-01-13T11:17:26.654Z"
   },
   {
    "duration": 15,
    "start_time": "2023-01-13T11:17:26.805Z"
   },
   {
    "duration": 14,
    "start_time": "2023-01-13T11:17:26.981Z"
   },
   {
    "duration": 4,
    "start_time": "2023-01-13T11:17:27.143Z"
   },
   {
    "duration": 8,
    "start_time": "2023-01-13T11:17:27.306Z"
   },
   {
    "duration": 11,
    "start_time": "2023-01-13T11:17:27.488Z"
   },
   {
    "duration": 11,
    "start_time": "2023-01-13T11:17:27.710Z"
   },
   {
    "duration": 6,
    "start_time": "2023-01-13T11:17:27.813Z"
   },
   {
    "duration": 9,
    "start_time": "2023-01-13T11:17:28.003Z"
   },
   {
    "duration": 7,
    "start_time": "2023-01-13T11:17:28.198Z"
   },
   {
    "duration": 6,
    "start_time": "2023-01-13T11:17:28.464Z"
   },
   {
    "duration": 6,
    "start_time": "2023-01-13T11:17:28.543Z"
   },
   {
    "duration": 5,
    "start_time": "2023-01-13T11:17:28.797Z"
   },
   {
    "duration": 7,
    "start_time": "2023-01-13T11:17:28.924Z"
   },
   {
    "duration": 5,
    "start_time": "2023-01-13T11:17:29.125Z"
   },
   {
    "duration": 6,
    "start_time": "2023-01-13T11:17:29.387Z"
   },
   {
    "duration": 139,
    "start_time": "2023-01-13T11:17:29.527Z"
   },
   {
    "duration": 9,
    "start_time": "2023-01-13T11:17:29.750Z"
   },
   {
    "duration": 230,
    "start_time": "2023-01-13T11:17:29.936Z"
   },
   {
    "duration": 7,
    "start_time": "2023-01-13T11:17:30.770Z"
   },
   {
    "duration": 150,
    "start_time": "2023-01-13T11:17:31.181Z"
   },
   {
    "duration": 11,
    "start_time": "2023-01-13T11:17:31.540Z"
   },
   {
    "duration": 27,
    "start_time": "2023-01-13T11:17:32.924Z"
   },
   {
    "duration": 16,
    "start_time": "2023-01-13T11:17:33.116Z"
   },
   {
    "duration": 12,
    "start_time": "2023-01-13T11:17:33.507Z"
   },
   {
    "duration": 22,
    "start_time": "2023-01-13T11:17:34.428Z"
   },
   {
    "duration": 339,
    "start_time": "2023-01-13T11:17:35.789Z"
   },
   {
    "duration": 3,
    "start_time": "2023-01-13T11:17:47.745Z"
   },
   {
    "duration": 39,
    "start_time": "2023-01-13T11:17:47.898Z"
   },
   {
    "duration": 15,
    "start_time": "2023-01-13T11:17:48.053Z"
   },
   {
    "duration": 12,
    "start_time": "2023-01-13T11:17:48.218Z"
   },
   {
    "duration": 4,
    "start_time": "2023-01-13T11:17:48.373Z"
   },
   {
    "duration": 8,
    "start_time": "2023-01-13T11:17:48.534Z"
   },
   {
    "duration": 12,
    "start_time": "2023-01-13T11:17:48.741Z"
   },
   {
    "duration": 11,
    "start_time": "2023-01-13T11:17:48.870Z"
   },
   {
    "duration": 6,
    "start_time": "2023-01-13T11:17:49.042Z"
   },
   {
    "duration": 6,
    "start_time": "2023-01-13T11:17:49.222Z"
   },
   {
    "duration": 6,
    "start_time": "2023-01-13T11:17:49.417Z"
   },
   {
    "duration": 6,
    "start_time": "2023-01-13T11:17:49.587Z"
   },
   {
    "duration": 6,
    "start_time": "2023-01-13T11:17:49.764Z"
   },
   {
    "duration": 6,
    "start_time": "2023-01-13T11:17:49.958Z"
   },
   {
    "duration": 6,
    "start_time": "2023-01-13T11:17:50.148Z"
   },
   {
    "duration": 6,
    "start_time": "2023-01-13T11:17:50.362Z"
   },
   {
    "duration": 6,
    "start_time": "2023-01-13T11:17:50.544Z"
   },
   {
    "duration": 142,
    "start_time": "2023-01-13T11:17:50.730Z"
   },
   {
    "duration": 8,
    "start_time": "2023-01-13T11:17:50.936Z"
   },
   {
    "duration": 141,
    "start_time": "2023-01-13T11:17:51.126Z"
   },
   {
    "duration": 5,
    "start_time": "2023-01-13T11:17:51.944Z"
   },
   {
    "duration": 140,
    "start_time": "2023-01-13T11:17:52.778Z"
   },
   {
    "duration": 11,
    "start_time": "2023-01-13T11:17:53.069Z"
   },
   {
    "duration": 23,
    "start_time": "2023-01-13T11:17:55.587Z"
   },
   {
    "duration": 15,
    "start_time": "2023-01-13T11:17:55.798Z"
   },
   {
    "duration": 12,
    "start_time": "2023-01-13T11:17:57.070Z"
   },
   {
    "duration": 18,
    "start_time": "2023-01-13T11:17:57.413Z"
   },
   {
    "duration": 281,
    "start_time": "2023-01-13T11:17:59.404Z"
   },
   {
    "duration": 339,
    "start_time": "2023-01-13T11:18:14.915Z"
   },
   {
    "duration": 26,
    "start_time": "2023-01-13T11:19:12.446Z"
   },
   {
    "duration": 34,
    "start_time": "2023-01-13T11:22:06.180Z"
   },
   {
    "duration": 4,
    "start_time": "2023-01-13T11:22:16.612Z"
   },
   {
    "duration": 48,
    "start_time": "2023-01-13T11:22:21.643Z"
   },
   {
    "duration": 5,
    "start_time": "2023-01-13T11:30:20.845Z"
   },
   {
    "duration": 10,
    "start_time": "2023-01-13T11:32:59.252Z"
   },
   {
    "duration": 5,
    "start_time": "2023-01-13T11:43:30.760Z"
   },
   {
    "duration": 7,
    "start_time": "2023-01-13T11:43:58.298Z"
   },
   {
    "duration": 5,
    "start_time": "2023-01-13T11:45:54.158Z"
   },
   {
    "duration": 11,
    "start_time": "2023-01-13T11:46:18.779Z"
   },
   {
    "duration": 4,
    "start_time": "2023-01-13T11:47:32.036Z"
   },
   {
    "duration": 8,
    "start_time": "2023-01-13T11:48:02.299Z"
   },
   {
    "duration": 6,
    "start_time": "2023-01-13T11:48:04.622Z"
   },
   {
    "duration": 8,
    "start_time": "2023-01-13T13:28:21.196Z"
   },
   {
    "duration": 38,
    "start_time": "2023-01-13T13:36:58.803Z"
   },
   {
    "duration": 4,
    "start_time": "2023-01-13T13:37:09.125Z"
   },
   {
    "duration": 186,
    "start_time": "2023-01-13T13:37:13.701Z"
   },
   {
    "duration": 192,
    "start_time": "2023-01-13T13:41:09.708Z"
   },
   {
    "duration": 4,
    "start_time": "2023-01-13T13:47:42.861Z"
   },
   {
    "duration": 243,
    "start_time": "2023-01-13T13:48:37.298Z"
   },
   {
    "duration": 35,
    "start_time": "2023-01-13T13:56:25.817Z"
   },
   {
    "duration": 5,
    "start_time": "2023-01-13T13:56:37.270Z"
   },
   {
    "duration": 23,
    "start_time": "2023-01-13T13:56:41.068Z"
   },
   {
    "duration": 14,
    "start_time": "2023-01-13T13:57:45.563Z"
   },
   {
    "duration": 304,
    "start_time": "2023-01-13T13:58:13.049Z"
   },
   {
    "duration": 1470,
    "start_time": "2023-01-13T14:21:28.974Z"
   },
   {
    "duration": 52,
    "start_time": "2023-01-13T14:21:30.447Z"
   },
   {
    "duration": 17,
    "start_time": "2023-01-13T14:21:30.501Z"
   },
   {
    "duration": 54,
    "start_time": "2023-01-13T14:21:30.520Z"
   },
   {
    "duration": 16,
    "start_time": "2023-01-13T14:21:30.575Z"
   },
   {
    "duration": 25,
    "start_time": "2023-01-13T14:21:30.593Z"
   },
   {
    "duration": 53,
    "start_time": "2023-01-13T14:21:30.620Z"
   },
   {
    "duration": 25,
    "start_time": "2023-01-13T14:21:30.674Z"
   },
   {
    "duration": 20,
    "start_time": "2023-01-13T14:21:30.701Z"
   },
   {
    "duration": 44,
    "start_time": "2023-01-13T14:21:30.723Z"
   },
   {
    "duration": 29,
    "start_time": "2023-01-13T14:21:30.769Z"
   },
   {
    "duration": 78,
    "start_time": "2023-01-13T14:21:30.800Z"
   },
   {
    "duration": 29,
    "start_time": "2023-01-13T14:21:30.880Z"
   },
   {
    "duration": 47,
    "start_time": "2023-01-13T14:21:30.911Z"
   },
   {
    "duration": 29,
    "start_time": "2023-01-13T14:21:30.961Z"
   },
   {
    "duration": 68,
    "start_time": "2023-01-13T14:21:30.992Z"
   },
   {
    "duration": 25,
    "start_time": "2023-01-13T14:21:31.061Z"
   },
   {
    "duration": 217,
    "start_time": "2023-01-13T14:21:31.087Z"
   },
   {
    "duration": 9,
    "start_time": "2023-01-13T14:21:31.306Z"
   },
   {
    "duration": 183,
    "start_time": "2023-01-13T14:21:31.316Z"
   },
   {
    "duration": 6,
    "start_time": "2023-01-13T14:21:31.500Z"
   },
   {
    "duration": 228,
    "start_time": "2023-01-13T14:21:31.508Z"
   },
   {
    "duration": 21,
    "start_time": "2023-01-13T14:21:31.738Z"
   },
   {
    "duration": 30,
    "start_time": "2023-01-13T14:21:31.762Z"
   },
   {
    "duration": 17,
    "start_time": "2023-01-13T14:21:31.793Z"
   },
   {
    "duration": 45,
    "start_time": "2023-01-13T14:21:31.811Z"
   },
   {
    "duration": 29,
    "start_time": "2023-01-13T14:21:31.861Z"
   },
   {
    "duration": 398,
    "start_time": "2023-01-13T14:21:31.893Z"
   },
   {
    "duration": 52,
    "start_time": "2023-01-13T14:21:32.293Z"
   },
   {
    "duration": 154,
    "start_time": "2023-01-13T14:21:32.349Z"
   },
   {
    "duration": 630,
    "start_time": "2023-01-13T14:21:32.537Z"
   },
   {
    "duration": 7,
    "start_time": "2023-01-13T14:21:33.169Z"
   },
   {
    "duration": 16,
    "start_time": "2023-01-13T14:21:33.178Z"
   },
   {
    "duration": 174,
    "start_time": "2023-01-13T14:21:33.196Z"
   },
   {
    "duration": 16,
    "start_time": "2023-01-13T14:21:33.372Z"
   },
   {
    "duration": 204,
    "start_time": "2023-01-13T14:21:33.391Z"
   },
   {
    "duration": 287,
    "start_time": "2023-01-13T14:21:33.597Z"
   },
   {
    "duration": 65,
    "start_time": "2023-01-13T14:21:33.886Z"
   },
   {
    "duration": 26,
    "start_time": "2023-01-13T14:23:34.846Z"
   },
   {
    "duration": 73,
    "start_time": "2023-01-13T14:24:04.961Z"
   },
   {
    "duration": 484,
    "start_time": "2023-01-13T14:24:30.562Z"
   },
   {
    "duration": 910,
    "start_time": "2023-01-13T14:24:38.127Z"
   },
   {
    "duration": 631,
    "start_time": "2023-01-13T14:24:48.788Z"
   },
   {
    "duration": 330,
    "start_time": "2023-01-13T14:24:53.322Z"
   },
   {
    "duration": 526,
    "start_time": "2023-01-13T14:25:06.857Z"
   },
   {
    "duration": 1094,
    "start_time": "2023-01-13T14:25:11.668Z"
   },
   {
    "duration": 21,
    "start_time": "2023-01-13T14:25:28.468Z"
   },
   {
    "duration": 72,
    "start_time": "2023-01-13T14:25:44.407Z"
   },
   {
    "duration": 61,
    "start_time": "2023-01-13T14:25:59.411Z"
   },
   {
    "duration": 59,
    "start_time": "2023-01-13T14:26:05.492Z"
   },
   {
    "duration": 22,
    "start_time": "2023-01-13T14:26:12.229Z"
   },
   {
    "duration": 6,
    "start_time": "2023-01-13T14:26:12.821Z"
   },
   {
    "duration": 13,
    "start_time": "2023-01-13T14:26:13.619Z"
   },
   {
    "duration": 6,
    "start_time": "2023-01-13T14:26:21.073Z"
   },
   {
    "duration": 7,
    "start_time": "2023-01-13T14:26:22.163Z"
   },
   {
    "duration": 8,
    "start_time": "2023-01-13T14:26:23.261Z"
   },
   {
    "duration": 207,
    "start_time": "2023-01-13T14:26:35.984Z"
   },
   {
    "duration": 306,
    "start_time": "2023-01-13T14:26:45.862Z"
   },
   {
    "duration": 27,
    "start_time": "2023-01-13T14:26:48.191Z"
   },
   {
    "duration": 324,
    "start_time": "2023-01-13T14:42:58.684Z"
   },
   {
    "duration": 458,
    "start_time": "2023-01-13T14:43:12.056Z"
   },
   {
    "duration": 333,
    "start_time": "2023-01-13T14:43:41.276Z"
   },
   {
    "duration": 309,
    "start_time": "2023-01-13T14:43:53.788Z"
   },
   {
    "duration": 1607,
    "start_time": "2023-01-13T14:44:02.314Z"
   },
   {
    "duration": 61,
    "start_time": "2023-01-13T14:45:10.888Z"
   },
   {
    "duration": 75,
    "start_time": "2023-01-13T14:45:35.353Z"
   },
   {
    "duration": 155,
    "start_time": "2023-01-13T14:47:15.655Z"
   },
   {
    "duration": 39,
    "start_time": "2023-01-13T14:47:29.232Z"
   },
   {
    "duration": 338,
    "start_time": "2023-01-13T14:47:32.307Z"
   },
   {
    "duration": 1328,
    "start_time": "2023-01-13T14:47:39.631Z"
   },
   {
    "duration": 40,
    "start_time": "2023-01-13T14:47:40.961Z"
   },
   {
    "duration": 17,
    "start_time": "2023-01-13T14:47:41.002Z"
   },
   {
    "duration": 11,
    "start_time": "2023-01-13T14:47:41.021Z"
   },
   {
    "duration": 5,
    "start_time": "2023-01-13T14:47:41.033Z"
   },
   {
    "duration": 18,
    "start_time": "2023-01-13T14:47:41.040Z"
   },
   {
    "duration": 22,
    "start_time": "2023-01-13T14:47:41.060Z"
   },
   {
    "duration": 11,
    "start_time": "2023-01-13T14:47:41.084Z"
   },
   {
    "duration": 11,
    "start_time": "2023-01-13T14:47:41.096Z"
   },
   {
    "duration": 7,
    "start_time": "2023-01-13T14:47:41.109Z"
   },
   {
    "duration": 19,
    "start_time": "2023-01-13T14:47:41.117Z"
   },
   {
    "duration": 7,
    "start_time": "2023-01-13T14:47:41.139Z"
   },
   {
    "duration": 14,
    "start_time": "2023-01-13T14:47:41.148Z"
   },
   {
    "duration": 6,
    "start_time": "2023-01-13T14:47:41.163Z"
   },
   {
    "duration": 19,
    "start_time": "2023-01-13T14:47:41.171Z"
   },
   {
    "duration": 7,
    "start_time": "2023-01-13T14:47:41.191Z"
   },
   {
    "duration": 5,
    "start_time": "2023-01-13T14:47:41.200Z"
   },
   {
    "duration": 182,
    "start_time": "2023-01-13T14:47:41.206Z"
   },
   {
    "duration": 8,
    "start_time": "2023-01-13T14:47:41.390Z"
   },
   {
    "duration": 164,
    "start_time": "2023-01-13T14:47:41.400Z"
   },
   {
    "duration": 5,
    "start_time": "2023-01-13T14:47:41.566Z"
   },
   {
    "duration": 165,
    "start_time": "2023-01-13T14:47:41.573Z"
   },
   {
    "duration": 21,
    "start_time": "2023-01-13T14:47:41.740Z"
   },
   {
    "duration": 22,
    "start_time": "2023-01-13T14:47:41.763Z"
   },
   {
    "duration": 16,
    "start_time": "2023-01-13T14:47:41.787Z"
   },
   {
    "duration": 54,
    "start_time": "2023-01-13T14:47:41.804Z"
   },
   {
    "duration": 19,
    "start_time": "2023-01-13T14:47:41.860Z"
   },
   {
    "duration": 971,
    "start_time": "2023-01-13T14:47:41.882Z"
   },
   {
    "duration": 0,
    "start_time": "2023-01-13T14:47:42.855Z"
   },
   {
    "duration": 0,
    "start_time": "2023-01-13T14:47:42.856Z"
   },
   {
    "duration": 0,
    "start_time": "2023-01-13T14:47:42.858Z"
   },
   {
    "duration": 0,
    "start_time": "2023-01-13T14:47:42.858Z"
   },
   {
    "duration": 0,
    "start_time": "2023-01-13T14:47:42.860Z"
   },
   {
    "duration": 0,
    "start_time": "2023-01-13T14:47:42.861Z"
   },
   {
    "duration": 0,
    "start_time": "2023-01-13T14:47:42.862Z"
   },
   {
    "duration": 0,
    "start_time": "2023-01-13T14:47:42.863Z"
   },
   {
    "duration": 0,
    "start_time": "2023-01-13T14:47:42.864Z"
   },
   {
    "duration": 0,
    "start_time": "2023-01-13T14:47:42.865Z"
   },
   {
    "duration": 0,
    "start_time": "2023-01-13T14:47:42.866Z"
   },
   {
    "duration": 653,
    "start_time": "2023-01-13T14:48:08.099Z"
   },
   {
    "duration": 275,
    "start_time": "2023-01-13T14:49:03.888Z"
   },
   {
    "duration": 333,
    "start_time": "2023-01-13T14:49:04.989Z"
   },
   {
    "duration": 66,
    "start_time": "2023-01-13T14:49:05.565Z"
   },
   {
    "duration": 663,
    "start_time": "2023-01-13T14:49:27.574Z"
   },
   {
    "duration": 80,
    "start_time": "2023-01-13T14:50:00.798Z"
   },
   {
    "duration": 77,
    "start_time": "2023-01-13T14:50:18.497Z"
   },
   {
    "duration": 70,
    "start_time": "2023-01-13T14:50:53.099Z"
   },
   {
    "duration": 174,
    "start_time": "2023-01-13T14:51:16.426Z"
   },
   {
    "duration": 1515,
    "start_time": "2023-01-13T14:54:50.083Z"
   },
   {
    "duration": 1566,
    "start_time": "2023-01-13T14:55:19.980Z"
   },
   {
    "duration": 45,
    "start_time": "2023-01-13T14:56:13.239Z"
   },
   {
    "duration": 22774,
    "start_time": "2023-01-13T14:56:18.101Z"
   },
   {
    "duration": 16624,
    "start_time": "2023-01-13T14:56:45.068Z"
   },
   {
    "duration": 22700,
    "start_time": "2023-01-13T14:57:15.345Z"
   },
   {
    "duration": 23272,
    "start_time": "2023-01-13T14:57:48.905Z"
   },
   {
    "duration": 24,
    "start_time": "2023-01-13T14:58:51.210Z"
   },
   {
    "duration": 87,
    "start_time": "2023-01-13T14:58:53.047Z"
   },
   {
    "duration": 46,
    "start_time": "2023-01-13T14:59:05.699Z"
   },
   {
    "duration": 40580,
    "start_time": "2023-01-13T14:59:50.018Z"
   },
   {
    "duration": 5,
    "start_time": "2023-01-13T15:03:14.096Z"
   },
   {
    "duration": 42,
    "start_time": "2023-01-13T15:03:14.219Z"
   },
   {
    "duration": 16,
    "start_time": "2023-01-13T15:03:14.398Z"
   },
   {
    "duration": 13,
    "start_time": "2023-01-13T15:03:14.572Z"
   },
   {
    "duration": 5,
    "start_time": "2023-01-13T15:03:14.734Z"
   },
   {
    "duration": 8,
    "start_time": "2023-01-13T15:03:14.898Z"
   },
   {
    "duration": 11,
    "start_time": "2023-01-13T15:03:15.040Z"
   },
   {
    "duration": 11,
    "start_time": "2023-01-13T15:03:15.215Z"
   },
   {
    "duration": 9,
    "start_time": "2023-01-13T15:03:15.381Z"
   },
   {
    "duration": 8,
    "start_time": "2023-01-13T15:03:15.540Z"
   },
   {
    "duration": 7,
    "start_time": "2023-01-13T15:03:15.709Z"
   },
   {
    "duration": 5,
    "start_time": "2023-01-13T15:03:15.884Z"
   },
   {
    "duration": 6,
    "start_time": "2023-01-13T15:03:16.086Z"
   },
   {
    "duration": 6,
    "start_time": "2023-01-13T15:03:16.267Z"
   },
   {
    "duration": 6,
    "start_time": "2023-01-13T15:03:16.451Z"
   },
   {
    "duration": 7,
    "start_time": "2023-01-13T15:03:16.658Z"
   },
   {
    "duration": 6,
    "start_time": "2023-01-13T15:03:16.807Z"
   },
   {
    "duration": 141,
    "start_time": "2023-01-13T15:03:17.013Z"
   },
   {
    "duration": 9,
    "start_time": "2023-01-13T15:03:17.219Z"
   },
   {
    "duration": 148,
    "start_time": "2023-01-13T15:03:17.389Z"
   },
   {
    "duration": 6,
    "start_time": "2023-01-13T15:03:17.775Z"
   },
   {
    "duration": 148,
    "start_time": "2023-01-13T15:03:18.152Z"
   },
   {
    "duration": 11,
    "start_time": "2023-01-13T15:03:18.352Z"
   },
   {
    "duration": 25,
    "start_time": "2023-01-13T15:03:19.661Z"
   },
   {
    "duration": 17,
    "start_time": "2023-01-13T15:03:19.880Z"
   },
   {
    "duration": 12,
    "start_time": "2023-01-13T15:03:20.340Z"
   },
   {
    "duration": 21,
    "start_time": "2023-01-13T15:03:20.831Z"
   },
   {
    "duration": 188,
    "start_time": "2023-01-13T15:03:21.953Z"
   },
   {
    "duration": 21760,
    "start_time": "2023-01-13T15:03:24.185Z"
   },
   {
    "duration": 155,
    "start_time": "2023-01-13T15:03:55.366Z"
   },
   {
    "duration": 21,
    "start_time": "2023-01-13T15:04:02.351Z"
   },
   {
    "duration": 21785,
    "start_time": "2023-01-13T15:04:13.674Z"
   },
   {
    "duration": 49,
    "start_time": "2023-01-13T15:04:37.316Z"
   },
   {
    "duration": 39279,
    "start_time": "2023-01-13T15:05:10.450Z"
   },
   {
    "duration": 33,
    "start_time": "2023-01-13T15:06:35.310Z"
   },
   {
    "duration": 33,
    "start_time": "2023-01-13T15:06:37.769Z"
   },
   {
    "duration": 44,
    "start_time": "2023-01-13T15:06:41.395Z"
   },
   {
    "duration": 31,
    "start_time": "2023-01-13T15:06:44.092Z"
   },
   {
    "duration": 75,
    "start_time": "2023-01-13T15:07:17.763Z"
   },
   {
    "duration": 38,
    "start_time": "2023-01-13T15:07:20.671Z"
   },
   {
    "duration": 68,
    "start_time": "2023-01-13T15:14:51.571Z"
   },
   {
    "duration": 6,
    "start_time": "2023-01-13T15:16:14.412Z"
   },
   {
    "duration": 51,
    "start_time": "2023-01-13T15:16:56.988Z"
   },
   {
    "duration": 135,
    "start_time": "2023-01-13T15:17:06.102Z"
   },
   {
    "duration": 63,
    "start_time": "2023-01-13T15:17:28.285Z"
   },
   {
    "duration": 72,
    "start_time": "2023-01-13T15:18:00.072Z"
   },
   {
    "duration": 75,
    "start_time": "2023-01-13T15:18:09.678Z"
   },
   {
    "duration": 114,
    "start_time": "2023-01-13T15:18:24.334Z"
   },
   {
    "duration": 174,
    "start_time": "2023-01-13T15:18:27.762Z"
   },
   {
    "duration": 22,
    "start_time": "2023-01-13T15:18:32.229Z"
   },
   {
    "duration": 125,
    "start_time": "2023-01-13T15:18:36.223Z"
   },
   {
    "duration": 33556,
    "start_time": "2023-01-13T15:19:15.079Z"
   },
   {
    "duration": 31,
    "start_time": "2023-01-13T15:20:51.282Z"
   },
   {
    "duration": 27,
    "start_time": "2023-01-13T15:20:57.161Z"
   },
   {
    "duration": 87,
    "start_time": "2023-01-13T15:21:09.297Z"
   },
   {
    "duration": 133,
    "start_time": "2023-01-13T15:21:39.400Z"
   },
   {
    "duration": 27,
    "start_time": "2023-01-13T15:21:40.574Z"
   },
   {
    "duration": 55,
    "start_time": "2023-01-13T15:24:25.033Z"
   },
   {
    "duration": 48,
    "start_time": "2023-01-13T15:24:35.170Z"
   },
   {
    "duration": 163,
    "start_time": "2023-01-13T15:24:41.886Z"
   },
   {
    "duration": 163,
    "start_time": "2023-01-13T15:24:50.769Z"
   },
   {
    "duration": 1580,
    "start_time": "2023-01-13T15:34:17.698Z"
   },
   {
    "duration": 44,
    "start_time": "2023-01-13T15:34:19.280Z"
   },
   {
    "duration": 32,
    "start_time": "2023-01-13T15:34:19.326Z"
   },
   {
    "duration": 14,
    "start_time": "2023-01-13T15:34:19.361Z"
   },
   {
    "duration": 14,
    "start_time": "2023-01-13T15:34:19.379Z"
   },
   {
    "duration": 21,
    "start_time": "2023-01-13T15:34:19.395Z"
   },
   {
    "duration": 23,
    "start_time": "2023-01-13T15:34:19.418Z"
   },
   {
    "duration": 27,
    "start_time": "2023-01-13T15:34:19.444Z"
   },
   {
    "duration": 14,
    "start_time": "2023-01-13T15:34:19.472Z"
   },
   {
    "duration": 16,
    "start_time": "2023-01-13T15:34:19.488Z"
   },
   {
    "duration": 9,
    "start_time": "2023-01-13T15:34:19.506Z"
   },
   {
    "duration": 12,
    "start_time": "2023-01-13T15:34:19.516Z"
   },
   {
    "duration": 12,
    "start_time": "2023-01-13T15:34:19.536Z"
   },
   {
    "duration": 12,
    "start_time": "2023-01-13T15:34:19.553Z"
   },
   {
    "duration": 26,
    "start_time": "2023-01-13T15:34:19.567Z"
   },
   {
    "duration": 16,
    "start_time": "2023-01-13T15:34:19.595Z"
   },
   {
    "duration": 13,
    "start_time": "2023-01-13T15:34:19.613Z"
   },
   {
    "duration": 200,
    "start_time": "2023-01-13T15:34:19.628Z"
   },
   {
    "duration": 18,
    "start_time": "2023-01-13T15:34:19.830Z"
   },
   {
    "duration": 202,
    "start_time": "2023-01-13T15:34:19.851Z"
   },
   {
    "duration": 8,
    "start_time": "2023-01-13T15:34:20.056Z"
   },
   {
    "duration": 231,
    "start_time": "2023-01-13T15:34:20.066Z"
   },
   {
    "duration": 13,
    "start_time": "2023-01-13T15:34:20.299Z"
   },
   {
    "duration": 53,
    "start_time": "2023-01-13T15:34:20.314Z"
   },
   {
    "duration": 18,
    "start_time": "2023-01-13T15:34:20.368Z"
   },
   {
    "duration": 36,
    "start_time": "2023-01-13T15:34:20.387Z"
   },
   {
    "duration": 40,
    "start_time": "2023-01-13T15:34:20.424Z"
   },
   {
    "duration": 672,
    "start_time": "2023-01-13T15:34:20.466Z"
   },
   {
    "duration": 25965,
    "start_time": "2023-01-13T15:34:21.140Z"
   },
   {
    "duration": 197,
    "start_time": "2023-01-13T15:34:47.107Z"
   },
   {
    "duration": 54,
    "start_time": "2023-01-13T15:34:47.307Z"
   },
   {
    "duration": 215,
    "start_time": "2023-01-13T15:34:47.444Z"
   },
   {
    "duration": 34212,
    "start_time": "2023-01-13T15:34:47.661Z"
   },
   {
    "duration": 97,
    "start_time": "2023-01-13T15:35:21.874Z"
   },
   {
    "duration": 154,
    "start_time": "2023-01-13T15:35:21.973Z"
   },
   {
    "duration": 105,
    "start_time": "2023-01-13T15:35:22.129Z"
   },
   {
    "duration": 294,
    "start_time": "2023-01-13T15:35:22.255Z"
   },
   {
    "duration": 1567,
    "start_time": "2023-01-17T12:57:52.895Z"
   },
   {
    "duration": 88,
    "start_time": "2023-01-17T12:57:54.464Z"
   },
   {
    "duration": 18,
    "start_time": "2023-01-17T12:57:54.554Z"
   },
   {
    "duration": 14,
    "start_time": "2023-01-17T12:57:54.574Z"
   },
   {
    "duration": 4,
    "start_time": "2023-01-17T12:57:54.590Z"
   },
   {
    "duration": 10,
    "start_time": "2023-01-17T12:57:54.596Z"
   },
   {
    "duration": 18,
    "start_time": "2023-01-17T12:57:54.608Z"
   },
   {
    "duration": 14,
    "start_time": "2023-01-17T12:57:54.628Z"
   },
   {
    "duration": 14,
    "start_time": "2023-01-17T12:57:54.644Z"
   },
   {
    "duration": 6,
    "start_time": "2023-01-17T12:57:54.660Z"
   },
   {
    "duration": 11,
    "start_time": "2023-01-17T12:57:54.678Z"
   },
   {
    "duration": 10,
    "start_time": "2023-01-17T12:57:54.690Z"
   },
   {
    "duration": 11,
    "start_time": "2023-01-17T12:57:54.701Z"
   },
   {
    "duration": 8,
    "start_time": "2023-01-17T12:57:54.713Z"
   },
   {
    "duration": 7,
    "start_time": "2023-01-17T12:57:54.722Z"
   },
   {
    "duration": 7,
    "start_time": "2023-01-17T12:57:54.731Z"
   },
   {
    "duration": 7,
    "start_time": "2023-01-17T12:57:54.740Z"
   },
   {
    "duration": 167,
    "start_time": "2023-01-17T12:57:54.748Z"
   },
   {
    "duration": 9,
    "start_time": "2023-01-17T12:57:54.917Z"
   },
   {
    "duration": 161,
    "start_time": "2023-01-17T12:57:54.928Z"
   },
   {
    "duration": 6,
    "start_time": "2023-01-17T12:57:55.090Z"
   },
   {
    "duration": 157,
    "start_time": "2023-01-17T12:57:55.098Z"
   },
   {
    "duration": 21,
    "start_time": "2023-01-17T12:57:55.257Z"
   },
   {
    "duration": 25,
    "start_time": "2023-01-17T12:57:55.280Z"
   },
   {
    "duration": 17,
    "start_time": "2023-01-17T12:57:55.307Z"
   },
   {
    "duration": 15,
    "start_time": "2023-01-17T12:57:55.325Z"
   },
   {
    "duration": 40,
    "start_time": "2023-01-17T12:57:55.341Z"
   },
   {
    "duration": 194,
    "start_time": "2023-01-17T12:57:55.384Z"
   },
   {
    "duration": 21704,
    "start_time": "2023-01-17T12:57:55.580Z"
   },
   {
    "duration": 144,
    "start_time": "2023-01-17T12:58:17.286Z"
   },
   {
    "duration": 48,
    "start_time": "2023-01-17T12:58:17.431Z"
   },
   {
    "duration": 202,
    "start_time": "2023-01-17T12:58:17.481Z"
   },
   {
    "duration": 28456,
    "start_time": "2023-01-17T12:58:17.684Z"
   },
   {
    "duration": 100,
    "start_time": "2023-01-17T12:58:46.142Z"
   },
   {
    "duration": 209,
    "start_time": "2023-01-17T12:58:46.244Z"
   },
   {
    "duration": 28,
    "start_time": "2023-01-17T12:58:46.455Z"
   },
   {
    "duration": 347,
    "start_time": "2023-01-17T12:58:46.485Z"
   },
   {
    "duration": 4,
    "start_time": "2023-01-17T12:59:10.020Z"
   },
   {
    "duration": 35,
    "start_time": "2023-01-17T12:59:10.193Z"
   },
   {
    "duration": 14,
    "start_time": "2023-01-17T12:59:10.381Z"
   },
   {
    "duration": 12,
    "start_time": "2023-01-17T12:59:10.564Z"
   },
   {
    "duration": 4,
    "start_time": "2023-01-17T12:59:10.716Z"
   },
   {
    "duration": 8,
    "start_time": "2023-01-17T12:59:10.871Z"
   },
   {
    "duration": 11,
    "start_time": "2023-01-17T12:59:11.040Z"
   },
   {
    "duration": 11,
    "start_time": "2023-01-17T12:59:11.209Z"
   },
   {
    "duration": 6,
    "start_time": "2023-01-17T12:59:11.384Z"
   },
   {
    "duration": 7,
    "start_time": "2023-01-17T12:59:11.545Z"
   },
   {
    "duration": 7,
    "start_time": "2023-01-17T12:59:11.720Z"
   },
   {
    "duration": 6,
    "start_time": "2023-01-17T12:59:11.915Z"
   },
   {
    "duration": 6,
    "start_time": "2023-01-17T12:59:12.075Z"
   },
   {
    "duration": 5,
    "start_time": "2023-01-17T12:59:12.268Z"
   },
   {
    "duration": 5,
    "start_time": "2023-01-17T12:59:12.444Z"
   },
   {
    "duration": 6,
    "start_time": "2023-01-17T12:59:12.618Z"
   },
   {
    "duration": 6,
    "start_time": "2023-01-17T12:59:12.780Z"
   },
   {
    "duration": 145,
    "start_time": "2023-01-17T12:59:12.956Z"
   },
   {
    "duration": 11,
    "start_time": "2023-01-17T12:59:13.132Z"
   },
   {
    "duration": 160,
    "start_time": "2023-01-17T12:59:13.327Z"
   },
   {
    "duration": 7,
    "start_time": "2023-01-17T12:59:13.919Z"
   },
   {
    "duration": 158,
    "start_time": "2023-01-17T12:59:14.772Z"
   },
   {
    "duration": 13,
    "start_time": "2023-01-17T12:59:14.988Z"
   },
   {
    "duration": 21,
    "start_time": "2023-01-17T12:59:16.900Z"
   },
   {
    "duration": 16,
    "start_time": "2023-01-17T12:59:17.328Z"
   },
   {
    "duration": 12,
    "start_time": "2023-01-17T12:59:18.140Z"
   },
   {
    "duration": 19,
    "start_time": "2023-01-17T12:59:18.661Z"
   },
   {
    "duration": 39,
    "start_time": "2023-01-17T12:59:20.047Z"
   },
   {
    "duration": 8183,
    "start_time": "2023-01-17T12:59:21.056Z"
   },
   {
    "duration": 147,
    "start_time": "2023-01-17T12:59:32.831Z"
   },
   {
    "duration": 21,
    "start_time": "2023-01-17T12:59:37.894Z"
   },
   {
    "duration": 127,
    "start_time": "2023-01-17T12:59:41.054Z"
   },
   {
    "duration": 28316,
    "start_time": "2023-01-17T12:59:48.760Z"
   },
   {
    "duration": 19,
    "start_time": "2023-01-17T13:03:09.230Z"
   },
   {
    "duration": 253,
    "start_time": "2023-01-17T13:03:27.797Z"
   },
   {
    "duration": 23,
    "start_time": "2023-01-17T13:03:36.681Z"
   },
   {
    "duration": 23,
    "start_time": "2023-01-17T13:03:59.415Z"
   },
   {
    "duration": 25,
    "start_time": "2023-01-17T13:04:25.512Z"
   },
   {
    "duration": 32,
    "start_time": "2023-01-17T13:04:32.551Z"
   },
   {
    "duration": 61,
    "start_time": "2023-01-17T13:05:29.522Z"
   },
   {
    "duration": 26,
    "start_time": "2023-01-17T13:05:33.706Z"
   },
   {
    "duration": 58,
    "start_time": "2023-01-17T13:05:39.019Z"
   },
   {
    "duration": 66,
    "start_time": "2023-01-17T13:05:44.513Z"
   },
   {
    "duration": 24,
    "start_time": "2023-01-17T13:05:56.700Z"
   },
   {
    "duration": 27,
    "start_time": "2023-01-17T13:06:00.200Z"
   },
   {
    "duration": 96,
    "start_time": "2023-01-17T13:06:03.385Z"
   },
   {
    "duration": 27,
    "start_time": "2023-01-17T13:06:12.551Z"
   },
   {
    "duration": 109,
    "start_time": "2023-01-17T13:13:53.371Z"
   },
   {
    "duration": 65,
    "start_time": "2023-01-17T13:13:56.313Z"
   },
   {
    "duration": 14038,
    "start_time": "2023-01-17T13:14:59.766Z"
   },
   {
    "duration": 27,
    "start_time": "2023-01-17T13:17:11.282Z"
   },
   {
    "duration": 34,
    "start_time": "2023-01-17T13:17:16.644Z"
   },
   {
    "duration": 29,
    "start_time": "2023-01-17T13:17:20.050Z"
   },
   {
    "duration": 24,
    "start_time": "2023-01-17T13:17:24.569Z"
   },
   {
    "duration": 27,
    "start_time": "2023-01-17T13:17:29.029Z"
   },
   {
    "duration": 14030,
    "start_time": "2023-01-17T13:17:30.919Z"
   },
   {
    "duration": 69,
    "start_time": "2023-01-17T13:18:34.340Z"
   },
   {
    "duration": 88,
    "start_time": "2023-01-17T13:24:42.057Z"
   },
   {
    "duration": 1346,
    "start_time": "2023-01-17T13:43:49.041Z"
   },
   {
    "duration": 37,
    "start_time": "2023-01-17T13:43:50.392Z"
   },
   {
    "duration": 19,
    "start_time": "2023-01-17T13:43:50.431Z"
   },
   {
    "duration": 14,
    "start_time": "2023-01-17T13:43:50.452Z"
   },
   {
    "duration": 5,
    "start_time": "2023-01-17T13:43:50.468Z"
   },
   {
    "duration": 17,
    "start_time": "2023-01-17T13:43:50.475Z"
   },
   {
    "duration": 28,
    "start_time": "2023-01-17T13:43:50.494Z"
   },
   {
    "duration": 18,
    "start_time": "2023-01-17T13:43:50.524Z"
   },
   {
    "duration": 9,
    "start_time": "2023-01-17T13:43:50.544Z"
   },
   {
    "duration": 8,
    "start_time": "2023-01-17T13:43:50.556Z"
   },
   {
    "duration": 21,
    "start_time": "2023-01-17T13:43:50.577Z"
   },
   {
    "duration": 19,
    "start_time": "2023-01-17T13:43:50.599Z"
   },
   {
    "duration": 8,
    "start_time": "2023-01-17T13:43:50.619Z"
   },
   {
    "duration": 15,
    "start_time": "2023-01-17T13:43:50.628Z"
   },
   {
    "duration": 8,
    "start_time": "2023-01-17T13:43:50.645Z"
   },
   {
    "duration": 9,
    "start_time": "2023-01-17T13:43:50.655Z"
   },
   {
    "duration": 11,
    "start_time": "2023-01-17T13:43:50.665Z"
   },
   {
    "duration": 175,
    "start_time": "2023-01-17T13:43:50.678Z"
   },
   {
    "duration": 9,
    "start_time": "2023-01-17T13:43:50.855Z"
   },
   {
    "duration": 171,
    "start_time": "2023-01-17T13:43:50.879Z"
   },
   {
    "duration": 8,
    "start_time": "2023-01-17T13:43:51.052Z"
   },
   {
    "duration": 234,
    "start_time": "2023-01-17T13:43:51.062Z"
   },
   {
    "duration": 13,
    "start_time": "2023-01-17T13:43:51.298Z"
   },
   {
    "duration": 24,
    "start_time": "2023-01-17T13:43:51.312Z"
   },
   {
    "duration": 16,
    "start_time": "2023-01-17T13:43:51.338Z"
   },
   {
    "duration": 39,
    "start_time": "2023-01-17T13:43:51.356Z"
   },
   {
    "duration": 33,
    "start_time": "2023-01-17T13:43:51.397Z"
   },
   {
    "duration": 246,
    "start_time": "2023-01-17T13:43:51.434Z"
   },
   {
    "duration": 9040,
    "start_time": "2023-01-17T13:43:51.683Z"
   },
   {
    "duration": 185,
    "start_time": "2023-01-17T13:44:00.725Z"
   },
   {
    "duration": 81,
    "start_time": "2023-01-17T13:44:00.912Z"
   },
   {
    "duration": 207,
    "start_time": "2023-01-17T13:44:00.996Z"
   },
   {
    "duration": 29383,
    "start_time": "2023-01-17T13:44:01.279Z"
   },
   {
    "duration": 42,
    "start_time": "2023-01-17T13:44:30.664Z"
   },
   {
    "duration": 14995,
    "start_time": "2023-01-17T13:44:30.778Z"
   },
   {
    "duration": 69,
    "start_time": "2023-01-17T13:44:45.775Z"
   },
   {
    "duration": 148,
    "start_time": "2023-01-17T13:44:45.845Z"
   },
   {
    "duration": 22,
    "start_time": "2023-01-17T13:44:45.995Z"
   },
   {
    "duration": 241,
    "start_time": "2023-01-17T13:44:46.077Z"
   },
   {
    "duration": 94,
    "start_time": "2023-01-17T14:06:19.740Z"
   },
   {
    "duration": 5,
    "start_time": "2023-01-17T15:00:19.532Z"
   },
   {
    "duration": 35,
    "start_time": "2023-01-17T15:00:19.679Z"
   },
   {
    "duration": 14,
    "start_time": "2023-01-17T15:00:19.863Z"
   },
   {
    "duration": 12,
    "start_time": "2023-01-17T15:00:20.005Z"
   },
   {
    "duration": 4,
    "start_time": "2023-01-17T15:00:20.311Z"
   },
   {
    "duration": 8,
    "start_time": "2023-01-17T15:00:20.469Z"
   },
   {
    "duration": 7,
    "start_time": "2023-01-17T15:00:20.881Z"
   },
   {
    "duration": 5,
    "start_time": "2023-01-17T15:00:21.158Z"
   },
   {
    "duration": 7,
    "start_time": "2023-01-17T15:00:21.496Z"
   },
   {
    "duration": 5,
    "start_time": "2023-01-17T15:00:21.952Z"
   },
   {
    "duration": 7,
    "start_time": "2023-01-17T15:00:22.307Z"
   },
   {
    "duration": 5,
    "start_time": "2023-01-17T15:00:22.688Z"
   },
   {
    "duration": 5,
    "start_time": "2023-01-17T15:00:23.078Z"
   },
   {
    "duration": 5,
    "start_time": "2023-01-17T15:00:23.478Z"
   },
   {
    "duration": 6,
    "start_time": "2023-01-17T15:00:23.870Z"
   },
   {
    "duration": 202,
    "start_time": "2023-01-17T15:00:24.290Z"
   },
   {
    "duration": 9,
    "start_time": "2023-01-17T15:00:24.494Z"
   },
   {
    "duration": 145,
    "start_time": "2023-01-17T15:00:24.708Z"
   },
   {
    "duration": 160,
    "start_time": "2023-01-17T15:00:25.696Z"
   },
   {
    "duration": 11,
    "start_time": "2023-01-17T15:00:26.049Z"
   },
   {
    "duration": 103,
    "start_time": "2023-01-17T15:00:28.621Z"
   },
   {
    "duration": 10,
    "start_time": "2023-01-17T15:07:41.801Z"
   },
   {
    "duration": 13,
    "start_time": "2023-01-17T15:07:47.235Z"
   },
   {
    "duration": 6,
    "start_time": "2023-01-17T15:08:15.229Z"
   },
   {
    "duration": 12,
    "start_time": "2023-01-17T15:08:26.756Z"
   },
   {
    "duration": 4,
    "start_time": "2023-01-17T15:08:43.567Z"
   },
   {
    "duration": 4,
    "start_time": "2023-01-17T15:08:56.469Z"
   },
   {
    "duration": 41,
    "start_time": "2023-01-17T15:08:56.656Z"
   },
   {
    "duration": 15,
    "start_time": "2023-01-17T15:08:56.817Z"
   },
   {
    "duration": 15,
    "start_time": "2023-01-17T15:08:56.978Z"
   },
   {
    "duration": 4,
    "start_time": "2023-01-17T15:08:57.294Z"
   },
   {
    "duration": 8,
    "start_time": "2023-01-17T15:08:57.459Z"
   },
   {
    "duration": 6,
    "start_time": "2023-01-17T15:08:57.809Z"
   },
   {
    "duration": 18,
    "start_time": "2023-01-17T15:08:58.175Z"
   },
   {
    "duration": 6,
    "start_time": "2023-01-17T15:08:58.571Z"
   },
   {
    "duration": 7,
    "start_time": "2023-01-17T15:08:58.890Z"
   },
   {
    "duration": 6,
    "start_time": "2023-01-17T15:08:59.251Z"
   },
   {
    "duration": 5,
    "start_time": "2023-01-17T15:08:59.634Z"
   },
   {
    "duration": 7,
    "start_time": "2023-01-17T15:09:00.040Z"
   },
   {
    "duration": 7,
    "start_time": "2023-01-17T15:09:00.412Z"
   },
   {
    "duration": 6,
    "start_time": "2023-01-17T15:09:00.802Z"
   },
   {
    "duration": 163,
    "start_time": "2023-01-17T15:09:01.438Z"
   },
   {
    "duration": 10,
    "start_time": "2023-01-17T15:09:01.828Z"
   },
   {
    "duration": 143,
    "start_time": "2023-01-17T15:09:03.095Z"
   },
   {
    "duration": 6,
    "start_time": "2023-01-17T15:09:06.545Z"
   },
   {
    "duration": 10,
    "start_time": "2023-01-17T15:09:08.120Z"
   },
   {
    "duration": 8,
    "start_time": "2023-01-17T15:09:18.596Z"
   },
   {
    "duration": 5,
    "start_time": "2023-01-17T15:09:27.037Z"
   },
   {
    "duration": 12,
    "start_time": "2023-01-17T15:09:28.302Z"
   },
   {
    "duration": 10,
    "start_time": "2023-01-17T15:09:31.211Z"
   },
   {
    "duration": 149,
    "start_time": "2023-01-17T15:09:41.598Z"
   },
   {
    "duration": 6,
    "start_time": "2023-01-17T15:10:10.014Z"
   },
   {
    "duration": 7,
    "start_time": "2023-01-17T15:10:14.022Z"
   },
   {
    "duration": 16,
    "start_time": "2023-01-17T15:10:14.401Z"
   },
   {
    "duration": 6,
    "start_time": "2023-01-17T15:10:14.566Z"
   },
   {
    "duration": 4,
    "start_time": "2023-01-17T15:10:33.839Z"
   },
   {
    "duration": 43,
    "start_time": "2023-01-17T15:10:34.045Z"
   },
   {
    "duration": 20,
    "start_time": "2023-01-17T15:10:34.110Z"
   },
   {
    "duration": 13,
    "start_time": "2023-01-17T15:10:34.346Z"
   },
   {
    "duration": 4,
    "start_time": "2023-01-17T15:10:34.742Z"
   },
   {
    "duration": 8,
    "start_time": "2023-01-17T15:10:34.878Z"
   },
   {
    "duration": 8,
    "start_time": "2023-01-17T15:10:35.221Z"
   },
   {
    "duration": 8,
    "start_time": "2023-01-17T15:10:35.588Z"
   },
   {
    "duration": 10,
    "start_time": "2023-01-17T15:10:35.978Z"
   },
   {
    "duration": 8,
    "start_time": "2023-01-17T15:10:36.323Z"
   },
   {
    "duration": 6,
    "start_time": "2023-01-17T15:10:36.628Z"
   },
   {
    "duration": 6,
    "start_time": "2023-01-17T15:10:36.965Z"
   },
   {
    "duration": 6,
    "start_time": "2023-01-17T15:10:37.282Z"
   },
   {
    "duration": 7,
    "start_time": "2023-01-17T15:10:37.608Z"
   },
   {
    "duration": 7,
    "start_time": "2023-01-17T15:10:37.981Z"
   },
   {
    "duration": 153,
    "start_time": "2023-01-17T15:10:38.414Z"
   },
   {
    "duration": 10,
    "start_time": "2023-01-17T15:10:38.599Z"
   },
   {
    "duration": 161,
    "start_time": "2023-01-17T15:10:38.787Z"
   },
   {
    "duration": 6,
    "start_time": "2023-01-17T15:10:40.120Z"
   },
   {
    "duration": 14,
    "start_time": "2023-01-17T15:10:41.959Z"
   },
   {
    "duration": 5,
    "start_time": "2023-01-17T15:10:42.608Z"
   },
   {
    "duration": 9,
    "start_time": "2023-01-17T15:10:43.345Z"
   },
   {
    "duration": 148,
    "start_time": "2023-01-17T15:10:45.221Z"
   },
   {
    "duration": 8,
    "start_time": "2023-01-17T15:11:31.736Z"
   },
   {
    "duration": 7,
    "start_time": "2023-01-17T15:12:10.860Z"
   },
   {
    "duration": 7,
    "start_time": "2023-01-17T15:12:16.163Z"
   },
   {
    "duration": 6,
    "start_time": "2023-01-17T15:12:16.978Z"
   },
   {
    "duration": 8,
    "start_time": "2023-01-17T15:13:09.714Z"
   },
   {
    "duration": 4,
    "start_time": "2023-01-17T15:13:14.815Z"
   },
   {
    "duration": 37,
    "start_time": "2023-01-17T15:13:14.985Z"
   },
   {
    "duration": 15,
    "start_time": "2023-01-17T15:13:15.175Z"
   },
   {
    "duration": 15,
    "start_time": "2023-01-17T15:13:15.322Z"
   },
   {
    "duration": 5,
    "start_time": "2023-01-17T15:13:15.627Z"
   },
   {
    "duration": 11,
    "start_time": "2023-01-17T15:13:15.803Z"
   },
   {
    "duration": 8,
    "start_time": "2023-01-17T15:13:16.165Z"
   },
   {
    "duration": 6,
    "start_time": "2023-01-17T15:13:16.508Z"
   },
   {
    "duration": 7,
    "start_time": "2023-01-17T15:13:16.863Z"
   },
   {
    "duration": 7,
    "start_time": "2023-01-17T15:13:17.363Z"
   },
   {
    "duration": 7,
    "start_time": "2023-01-17T15:13:18.089Z"
   },
   {
    "duration": 6,
    "start_time": "2023-01-17T15:13:18.461Z"
   },
   {
    "duration": 6,
    "start_time": "2023-01-17T15:13:23.282Z"
   },
   {
    "duration": 6,
    "start_time": "2023-01-17T15:13:23.844Z"
   },
   {
    "duration": 6,
    "start_time": "2023-01-17T15:13:25.213Z"
   },
   {
    "duration": 6,
    "start_time": "2023-01-17T15:15:30.611Z"
   },
   {
    "duration": 6,
    "start_time": "2023-01-17T15:15:31.572Z"
   },
   {
    "duration": 11,
    "start_time": "2023-01-17T15:15:31.732Z"
   },
   {
    "duration": 5,
    "start_time": "2023-01-17T15:15:43.173Z"
   },
   {
    "duration": 72,
    "start_time": "2023-01-17T15:16:38.641Z"
   },
   {
    "duration": 5,
    "start_time": "2023-01-17T15:16:59.856Z"
   },
   {
    "duration": 5,
    "start_time": "2023-01-17T15:17:23.259Z"
   },
   {
    "duration": 7,
    "start_time": "2023-01-17T15:17:28.593Z"
   },
   {
    "duration": 6,
    "start_time": "2023-01-17T15:17:42.276Z"
   },
   {
    "duration": 6,
    "start_time": "2023-01-17T15:17:43.537Z"
   },
   {
    "duration": 4,
    "start_time": "2023-01-17T15:17:57.531Z"
   },
   {
    "duration": 36,
    "start_time": "2023-01-17T15:17:57.680Z"
   },
   {
    "duration": 15,
    "start_time": "2023-01-17T15:17:57.838Z"
   },
   {
    "duration": 13,
    "start_time": "2023-01-17T15:17:58.013Z"
   },
   {
    "duration": 4,
    "start_time": "2023-01-17T15:17:58.329Z"
   },
   {
    "duration": 8,
    "start_time": "2023-01-17T15:17:58.507Z"
   },
   {
    "duration": 7,
    "start_time": "2023-01-17T15:17:58.868Z"
   },
   {
    "duration": 8,
    "start_time": "2023-01-17T15:17:59.229Z"
   },
   {
    "duration": 7,
    "start_time": "2023-01-17T15:17:59.567Z"
   },
   {
    "duration": 6,
    "start_time": "2023-01-17T15:17:59.925Z"
   },
   {
    "duration": 7,
    "start_time": "2023-01-17T15:18:00.273Z"
   },
   {
    "duration": 7,
    "start_time": "2023-01-17T15:18:00.626Z"
   },
   {
    "duration": 6,
    "start_time": "2023-01-17T15:18:00.986Z"
   },
   {
    "duration": 6,
    "start_time": "2023-01-17T15:18:01.333Z"
   },
   {
    "duration": 8,
    "start_time": "2023-01-17T15:18:02.038Z"
   },
   {
    "duration": 9,
    "start_time": "2023-01-17T15:18:02.459Z"
   },
   {
    "duration": 144,
    "start_time": "2023-01-17T15:18:03.645Z"
   },
   {
    "duration": 14,
    "start_time": "2023-01-17T15:18:05.276Z"
   },
   {
    "duration": 14,
    "start_time": "2023-01-17T15:18:32.410Z"
   },
   {
    "duration": 15,
    "start_time": "2023-01-17T15:18:47.475Z"
   },
   {
    "duration": 14,
    "start_time": "2023-01-17T15:18:53.423Z"
   },
   {
    "duration": 15,
    "start_time": "2023-01-17T15:18:58.647Z"
   },
   {
    "duration": 8,
    "start_time": "2023-01-17T15:20:04.921Z"
   },
   {
    "duration": 6,
    "start_time": "2023-01-17T15:20:06.733Z"
   },
   {
    "duration": 5,
    "start_time": "2023-01-17T15:20:12.296Z"
   },
   {
    "duration": 8,
    "start_time": "2023-01-17T15:20:13.949Z"
   },
   {
    "duration": 4,
    "start_time": "2023-01-17T15:20:19.176Z"
   },
   {
    "duration": 34,
    "start_time": "2023-01-17T15:20:19.358Z"
   },
   {
    "duration": 14,
    "start_time": "2023-01-17T15:20:19.502Z"
   },
   {
    "duration": 14,
    "start_time": "2023-01-17T15:20:19.669Z"
   },
   {
    "duration": 4,
    "start_time": "2023-01-17T15:20:19.921Z"
   },
   {
    "duration": 8,
    "start_time": "2023-01-17T15:20:20.062Z"
   },
   {
    "duration": 7,
    "start_time": "2023-01-17T15:20:20.402Z"
   },
   {
    "duration": 7,
    "start_time": "2023-01-17T15:20:20.681Z"
   },
   {
    "duration": 5,
    "start_time": "2023-01-17T15:20:21.012Z"
   },
   {
    "duration": 6,
    "start_time": "2023-01-17T15:20:21.358Z"
   },
   {
    "duration": 6,
    "start_time": "2023-01-17T15:20:21.733Z"
   },
   {
    "duration": 6,
    "start_time": "2023-01-17T15:20:22.125Z"
   },
   {
    "duration": 5,
    "start_time": "2023-01-17T15:20:22.536Z"
   },
   {
    "duration": 5,
    "start_time": "2023-01-17T15:20:23.007Z"
   },
   {
    "duration": 7,
    "start_time": "2023-01-17T15:20:23.679Z"
   },
   {
    "duration": 10,
    "start_time": "2023-01-17T15:20:24.126Z"
   },
   {
    "duration": 144,
    "start_time": "2023-01-17T15:20:24.750Z"
   },
   {
    "duration": 8,
    "start_time": "2023-01-17T15:20:25.669Z"
   },
   {
    "duration": 7,
    "start_time": "2023-01-17T15:20:26.830Z"
   },
   {
    "duration": 8,
    "start_time": "2023-01-17T15:20:38.648Z"
   },
   {
    "duration": 23,
    "start_time": "2023-01-17T15:26:01.905Z"
   },
   {
    "duration": 21,
    "start_time": "2023-01-17T15:31:11.792Z"
   },
   {
    "duration": 15,
    "start_time": "2023-01-17T15:31:11.962Z"
   },
   {
    "duration": 11,
    "start_time": "2023-01-17T15:32:27.432Z"
   },
   {
    "duration": 26,
    "start_time": "2023-01-17T15:34:08.936Z"
   },
   {
    "duration": 101,
    "start_time": "2023-01-17T15:34:10.585Z"
   },
   {
    "duration": 8052,
    "start_time": "2023-01-17T15:34:11.063Z"
   },
   {
    "duration": 172,
    "start_time": "2023-01-17T15:34:19.118Z"
   },
   {
    "duration": 88,
    "start_time": "2023-01-17T15:34:19.292Z"
   },
   {
    "duration": 197,
    "start_time": "2023-01-17T15:34:19.383Z"
   },
   {
    "duration": 28459,
    "start_time": "2023-01-17T15:34:19.582Z"
   },
   {
    "duration": 44,
    "start_time": "2023-01-17T15:34:48.043Z"
   },
   {
    "duration": 13901,
    "start_time": "2023-01-17T15:34:48.089Z"
   },
   {
    "duration": 73,
    "start_time": "2023-01-17T15:35:01.992Z"
   },
   {
    "duration": 134,
    "start_time": "2023-01-17T15:35:02.078Z"
   },
   {
    "duration": 63,
    "start_time": "2023-01-17T15:35:02.216Z"
   },
   {
    "duration": 251,
    "start_time": "2023-01-17T15:35:02.281Z"
   },
   {
    "duration": 78,
    "start_time": "2023-01-17T15:36:01.507Z"
   },
   {
    "duration": 71,
    "start_time": "2023-01-17T15:36:09.912Z"
   },
   {
    "duration": 158,
    "start_time": "2023-01-17T15:36:10.063Z"
   },
   {
    "duration": 70,
    "start_time": "2023-01-17T15:42:44.909Z"
   },
   {
    "duration": 20,
    "start_time": "2023-01-17T15:42:49.850Z"
   },
   {
    "duration": 22,
    "start_time": "2023-01-17T15:43:14.250Z"
   },
   {
    "duration": 27,
    "start_time": "2023-01-17T15:52:30.441Z"
   },
   {
    "duration": 96,
    "start_time": "2023-01-17T16:17:38.886Z"
   },
   {
    "duration": 27784,
    "start_time": "2023-01-17T16:17:42.198Z"
   },
   {
    "duration": 4,
    "start_time": "2023-01-17T16:18:13.702Z"
   },
   {
    "duration": 39,
    "start_time": "2023-01-17T16:18:13.935Z"
   },
   {
    "duration": 17,
    "start_time": "2023-01-17T16:18:14.088Z"
   },
   {
    "duration": 12,
    "start_time": "2023-01-17T16:18:14.522Z"
   },
   {
    "duration": 4,
    "start_time": "2023-01-17T16:18:14.844Z"
   },
   {
    "duration": 8,
    "start_time": "2023-01-17T16:18:15.006Z"
   },
   {
    "duration": 7,
    "start_time": "2023-01-17T16:18:15.325Z"
   },
   {
    "duration": 7,
    "start_time": "2023-01-17T16:18:15.649Z"
   },
   {
    "duration": 6,
    "start_time": "2023-01-17T16:18:15.995Z"
   },
   {
    "duration": 6,
    "start_time": "2023-01-17T16:18:16.348Z"
   },
   {
    "duration": 5,
    "start_time": "2023-01-17T16:18:16.717Z"
   },
   {
    "duration": 6,
    "start_time": "2023-01-17T16:18:17.082Z"
   },
   {
    "duration": 6,
    "start_time": "2023-01-17T16:18:17.453Z"
   },
   {
    "duration": 6,
    "start_time": "2023-01-17T16:18:17.800Z"
   },
   {
    "duration": 7,
    "start_time": "2023-01-17T16:18:18.330Z"
   },
   {
    "duration": 8,
    "start_time": "2023-01-17T16:18:18.656Z"
   },
   {
    "duration": 172,
    "start_time": "2023-01-17T16:18:19.005Z"
   },
   {
    "duration": 6,
    "start_time": "2023-01-17T16:18:19.393Z"
   },
   {
    "duration": 8,
    "start_time": "2023-01-17T16:18:19.758Z"
   },
   {
    "duration": 10,
    "start_time": "2023-01-17T16:18:19.951Z"
   },
   {
    "duration": 167,
    "start_time": "2023-01-17T16:18:20.143Z"
   },
   {
    "duration": 23,
    "start_time": "2023-01-17T16:18:21.011Z"
   },
   {
    "duration": 16,
    "start_time": "2023-01-17T16:18:21.104Z"
   },
   {
    "duration": 14,
    "start_time": "2023-01-17T16:18:21.517Z"
   },
   {
    "duration": 23,
    "start_time": "2023-01-17T16:18:21.924Z"
   },
   {
    "duration": 24,
    "start_time": "2023-01-17T16:18:22.960Z"
   },
   {
    "duration": 8051,
    "start_time": "2023-01-17T16:18:23.663Z"
   },
   {
    "duration": 147,
    "start_time": "2023-01-17T16:18:31.716Z"
   },
   {
    "duration": 31,
    "start_time": "2023-01-17T16:18:31.865Z"
   },
   {
    "duration": 152,
    "start_time": "2023-01-17T16:19:16.548Z"
   },
   {
    "duration": 4,
    "start_time": "2023-01-17T16:19:31.448Z"
   },
   {
    "duration": 36,
    "start_time": "2023-01-17T16:19:31.748Z"
   },
   {
    "duration": 14,
    "start_time": "2023-01-17T16:19:31.975Z"
   },
   {
    "duration": 11,
    "start_time": "2023-01-17T16:19:32.155Z"
   },
   {
    "duration": 5,
    "start_time": "2023-01-17T16:19:32.486Z"
   },
   {
    "duration": 9,
    "start_time": "2023-01-17T16:19:32.668Z"
   },
   {
    "duration": 8,
    "start_time": "2023-01-17T16:19:33.030Z"
   },
   {
    "duration": 6,
    "start_time": "2023-01-17T16:19:33.472Z"
   },
   {
    "duration": 8,
    "start_time": "2023-01-17T16:19:33.897Z"
   },
   {
    "duration": 5,
    "start_time": "2023-01-17T16:19:34.253Z"
   },
   {
    "duration": 5,
    "start_time": "2023-01-17T16:19:34.621Z"
   },
   {
    "duration": 5,
    "start_time": "2023-01-17T16:19:34.978Z"
   },
   {
    "duration": 6,
    "start_time": "2023-01-17T16:19:35.316Z"
   },
   {
    "duration": 8,
    "start_time": "2023-01-17T16:19:35.662Z"
   },
   {
    "duration": 7,
    "start_time": "2023-01-17T16:19:36.173Z"
   },
   {
    "duration": 8,
    "start_time": "2023-01-17T16:19:36.556Z"
   },
   {
    "duration": 162,
    "start_time": "2023-01-17T16:19:36.862Z"
   },
   {
    "duration": 6,
    "start_time": "2023-01-17T16:19:37.230Z"
   },
   {
    "duration": 9,
    "start_time": "2023-01-17T16:19:38.363Z"
   },
   {
    "duration": 12,
    "start_time": "2023-01-17T16:19:38.551Z"
   },
   {
    "duration": 168,
    "start_time": "2023-01-17T16:19:38.788Z"
   },
   {
    "duration": 21,
    "start_time": "2023-01-17T16:19:40.425Z"
   },
   {
    "duration": 19,
    "start_time": "2023-01-17T16:19:40.915Z"
   },
   {
    "duration": 12,
    "start_time": "2023-01-17T16:19:42.495Z"
   },
   {
    "duration": 26,
    "start_time": "2023-01-17T16:19:44.129Z"
   },
   {
    "duration": 27,
    "start_time": "2023-01-17T16:19:46.969Z"
   },
   {
    "duration": 8617,
    "start_time": "2023-01-17T16:19:52.896Z"
   },
   {
    "duration": 143,
    "start_time": "2023-01-17T16:20:25.491Z"
   },
   {
    "duration": 82,
    "start_time": "2023-01-17T16:20:39.009Z"
   },
   {
    "duration": 8847,
    "start_time": "2023-01-17T16:21:53.813Z"
   },
   {
    "duration": 8032,
    "start_time": "2023-01-17T16:22:15.021Z"
   },
   {
    "duration": 15,
    "start_time": "2023-01-17T16:23:03.140Z"
   },
   {
    "duration": 11091,
    "start_time": "2023-01-17T16:25:10.447Z"
   },
   {
    "duration": 8388,
    "start_time": "2023-01-17T16:25:23.686Z"
   },
   {
    "duration": 11080,
    "start_time": "2023-01-17T16:25:45.362Z"
   },
   {
    "duration": 14,
    "start_time": "2023-01-17T16:26:34.561Z"
   },
   {
    "duration": 15216,
    "start_time": "2023-01-17T16:26:36.050Z"
   },
   {
    "duration": 5795,
    "start_time": "2023-01-17T16:27:11.511Z"
   },
   {
    "duration": 133,
    "start_time": "2023-01-17T16:33:06.585Z"
   },
   {
    "duration": 93,
    "start_time": "2023-01-17T16:33:30.721Z"
   },
   {
    "duration": 77,
    "start_time": "2023-01-17T16:33:50.824Z"
   },
   {
    "duration": 96,
    "start_time": "2023-01-17T16:33:55.042Z"
   },
   {
    "duration": 62,
    "start_time": "2023-01-17T16:35:29.609Z"
   },
   {
    "duration": 131,
    "start_time": "2023-01-17T16:35:46.836Z"
   },
   {
    "duration": 131,
    "start_time": "2023-01-17T16:36:24.290Z"
   },
   {
    "duration": 134,
    "start_time": "2023-01-17T16:36:25.641Z"
   },
   {
    "duration": 97,
    "start_time": "2023-01-17T16:36:53.473Z"
   },
   {
    "duration": 55,
    "start_time": "2023-01-17T16:37:28.621Z"
   },
   {
    "duration": 10883,
    "start_time": "2023-01-17T16:38:09.263Z"
   },
   {
    "duration": 24,
    "start_time": "2023-01-17T16:39:12.564Z"
   },
   {
    "duration": 10751,
    "start_time": "2023-01-17T16:39:12.994Z"
   },
   {
    "duration": 18,
    "start_time": "2023-01-17T16:39:37.598Z"
   },
   {
    "duration": 5719,
    "start_time": "2023-01-17T16:39:41.305Z"
   },
   {
    "duration": 29123,
    "start_time": "2023-01-17T16:40:18.492Z"
   },
   {
    "duration": 21799,
    "start_time": "2023-01-17T16:41:08.964Z"
   },
   {
    "duration": 14897,
    "start_time": "2023-01-17T16:41:50.272Z"
   },
   {
    "duration": 151,
    "start_time": "2023-01-17T16:42:55.576Z"
   },
   {
    "duration": 13,
    "start_time": "2023-01-17T16:43:16.749Z"
   },
   {
    "duration": 57,
    "start_time": "2023-01-17T16:43:28.164Z"
   },
   {
    "duration": 104,
    "start_time": "2023-01-17T16:43:51.392Z"
   },
   {
    "duration": 16,
    "start_time": "2023-01-17T16:53:44.342Z"
   },
   {
    "duration": 14260,
    "start_time": "2023-01-17T16:53:45.412Z"
   },
   {
    "duration": 140,
    "start_time": "2023-01-17T16:54:17.128Z"
   },
   {
    "duration": 122,
    "start_time": "2023-01-17T16:54:23.111Z"
   },
   {
    "duration": 14,
    "start_time": "2023-01-17T16:54:23.650Z"
   },
   {
    "duration": 70,
    "start_time": "2023-01-17T16:54:30.144Z"
   },
   {
    "duration": 149,
    "start_time": "2023-01-17T16:56:38.321Z"
   },
   {
    "duration": 14,
    "start_time": "2023-01-17T17:04:08.228Z"
   },
   {
    "duration": 1428,
    "start_time": "2023-01-17T17:11:29.114Z"
   },
   {
    "duration": 47,
    "start_time": "2023-01-17T17:11:30.544Z"
   },
   {
    "duration": 20,
    "start_time": "2023-01-17T17:11:30.593Z"
   },
   {
    "duration": 41,
    "start_time": "2023-01-17T17:11:30.614Z"
   },
   {
    "duration": 27,
    "start_time": "2023-01-17T17:11:30.657Z"
   },
   {
    "duration": 49,
    "start_time": "2023-01-17T17:11:30.689Z"
   },
   {
    "duration": 70,
    "start_time": "2023-01-17T17:11:30.740Z"
   },
   {
    "duration": 42,
    "start_time": "2023-01-17T17:11:30.812Z"
   },
   {
    "duration": 39,
    "start_time": "2023-01-17T17:11:30.856Z"
   },
   {
    "duration": 70,
    "start_time": "2023-01-17T17:11:30.896Z"
   },
   {
    "duration": 26,
    "start_time": "2023-01-17T17:11:30.968Z"
   },
   {
    "duration": 32,
    "start_time": "2023-01-17T17:11:30.995Z"
   },
   {
    "duration": 43,
    "start_time": "2023-01-17T17:11:31.028Z"
   },
   {
    "duration": 36,
    "start_time": "2023-01-17T17:11:31.074Z"
   },
   {
    "duration": 52,
    "start_time": "2023-01-17T17:11:31.112Z"
   },
   {
    "duration": 32,
    "start_time": "2023-01-17T17:11:31.166Z"
   },
   {
    "duration": 205,
    "start_time": "2023-01-17T17:11:31.199Z"
   },
   {
    "duration": 7,
    "start_time": "2023-01-17T17:11:31.406Z"
   },
   {
    "duration": 46,
    "start_time": "2023-01-17T17:11:31.414Z"
   },
   {
    "duration": 48,
    "start_time": "2023-01-17T17:11:31.462Z"
   },
   {
    "duration": 162,
    "start_time": "2023-01-17T17:11:31.512Z"
   },
   {
    "duration": 26,
    "start_time": "2023-01-17T17:11:31.676Z"
   },
   {
    "duration": 27,
    "start_time": "2023-01-17T17:11:31.704Z"
   },
   {
    "duration": 20,
    "start_time": "2023-01-17T17:11:31.733Z"
   },
   {
    "duration": 75,
    "start_time": "2023-01-17T17:11:31.756Z"
   },
   {
    "duration": 56,
    "start_time": "2023-01-17T17:11:31.833Z"
   },
   {
    "duration": 9227,
    "start_time": "2023-01-17T17:11:31.898Z"
   },
   {
    "duration": 169,
    "start_time": "2023-01-17T17:11:41.126Z"
   },
   {
    "duration": 23357,
    "start_time": "2023-01-17T17:11:41.296Z"
   },
   {
    "duration": 30,
    "start_time": "2023-01-17T17:12:04.654Z"
   },
   {
    "duration": 30438,
    "start_time": "2023-01-17T17:12:04.686Z"
   },
   {
    "duration": 16,
    "start_time": "2023-01-17T17:12:35.126Z"
   },
   {
    "duration": 16149,
    "start_time": "2023-01-17T17:12:35.145Z"
   },
   {
    "duration": 158,
    "start_time": "2023-01-17T17:12:51.296Z"
   },
   {
    "duration": 148,
    "start_time": "2023-01-17T17:12:51.456Z"
   },
   {
    "duration": 14,
    "start_time": "2023-01-17T17:12:51.606Z"
   },
   {
    "duration": 97,
    "start_time": "2023-01-17T17:12:51.622Z"
   },
   {
    "duration": 1545,
    "start_time": "2023-01-17T18:04:08.993Z"
   },
   {
    "duration": 181,
    "start_time": "2023-01-17T18:04:12.025Z"
   },
   {
    "duration": 20,
    "start_time": "2023-01-17T18:04:12.618Z"
   },
   {
    "duration": 16,
    "start_time": "2023-01-17T18:04:13.179Z"
   },
   {
    "duration": 6,
    "start_time": "2023-01-17T18:04:14.457Z"
   },
   {
    "duration": 10,
    "start_time": "2023-01-17T18:04:14.669Z"
   },
   {
    "duration": 10,
    "start_time": "2023-01-17T18:04:15.029Z"
   },
   {
    "duration": 6,
    "start_time": "2023-01-17T18:04:15.381Z"
   },
   {
    "duration": 7,
    "start_time": "2023-01-17T18:04:15.743Z"
   },
   {
    "duration": 8,
    "start_time": "2023-01-17T18:04:16.124Z"
   },
   {
    "duration": 5,
    "start_time": "2023-01-17T18:04:16.440Z"
   },
   {
    "duration": 5,
    "start_time": "2023-01-17T18:04:16.836Z"
   },
   {
    "duration": 6,
    "start_time": "2023-01-17T18:04:17.217Z"
   },
   {
    "duration": 7,
    "start_time": "2023-01-17T18:04:17.581Z"
   },
   {
    "duration": 6,
    "start_time": "2023-01-17T18:04:18.138Z"
   },
   {
    "duration": 9,
    "start_time": "2023-01-17T18:04:18.522Z"
   },
   {
    "duration": 175,
    "start_time": "2023-01-17T18:04:18.916Z"
   },
   {
    "duration": 7,
    "start_time": "2023-01-17T18:04:19.275Z"
   },
   {
    "duration": 8,
    "start_time": "2023-01-17T18:04:19.640Z"
   },
   {
    "duration": 9,
    "start_time": "2023-01-17T18:04:19.826Z"
   },
   {
    "duration": 168,
    "start_time": "2023-01-17T18:04:20.018Z"
   },
   {
    "duration": 23,
    "start_time": "2023-01-17T18:04:21.349Z"
   },
   {
    "duration": 17,
    "start_time": "2023-01-17T18:04:22.016Z"
   },
   {
    "duration": 14,
    "start_time": "2023-01-17T18:04:23.513Z"
   },
   {
    "duration": 27,
    "start_time": "2023-01-17T18:04:26.616Z"
   },
   {
    "duration": 103,
    "start_time": "2023-01-17T18:04:28.518Z"
   },
   {
    "duration": 8774,
    "start_time": "2023-01-17T18:04:34.489Z"
   },
   {
    "duration": 168,
    "start_time": "2023-01-17T18:05:37.521Z"
   },
   {
    "duration": 24147,
    "start_time": "2023-01-17T18:05:55.409Z"
   },
   {
    "duration": 16,
    "start_time": "2023-01-17T18:06:35.712Z"
   },
   {
    "duration": 31444,
    "start_time": "2023-01-17T18:06:40.243Z"
   },
   {
    "duration": 16,
    "start_time": "2023-01-17T18:07:34.339Z"
   },
   {
    "duration": 16489,
    "start_time": "2023-01-17T18:07:37.235Z"
   },
   {
    "duration": 250,
    "start_time": "2023-01-17T18:10:30.853Z"
   },
   {
    "duration": 138,
    "start_time": "2023-01-17T18:10:35.528Z"
   },
   {
    "duration": 16,
    "start_time": "2023-01-17T18:10:38.471Z"
   },
   {
    "duration": 115,
    "start_time": "2023-01-17T18:10:55.093Z"
   },
   {
    "duration": 130,
    "start_time": "2023-01-17T18:15:13.680Z"
   },
   {
    "duration": 7,
    "start_time": "2023-01-17T18:16:05.611Z"
   },
   {
    "duration": 1717,
    "start_time": "2023-01-17T19:02:41.650Z"
   },
   {
    "duration": 173,
    "start_time": "2023-01-17T19:02:43.369Z"
   },
   {
    "duration": 20,
    "start_time": "2023-01-17T19:02:43.544Z"
   },
   {
    "duration": 23,
    "start_time": "2023-01-17T19:02:43.567Z"
   },
   {
    "duration": 4,
    "start_time": "2023-01-17T19:02:43.592Z"
   },
   {
    "duration": 16,
    "start_time": "2023-01-17T19:02:43.598Z"
   },
   {
    "duration": 12,
    "start_time": "2023-01-17T19:02:43.615Z"
   },
   {
    "duration": 6,
    "start_time": "2023-01-17T19:02:43.629Z"
   },
   {
    "duration": 16,
    "start_time": "2023-01-17T19:02:43.637Z"
   },
   {
    "duration": 7,
    "start_time": "2023-01-17T19:02:43.656Z"
   },
   {
    "duration": 7,
    "start_time": "2023-01-17T19:02:43.665Z"
   },
   {
    "duration": 6,
    "start_time": "2023-01-17T19:02:43.674Z"
   },
   {
    "duration": 7,
    "start_time": "2023-01-17T19:02:43.681Z"
   },
   {
    "duration": 7,
    "start_time": "2023-01-17T19:02:43.690Z"
   },
   {
    "duration": 8,
    "start_time": "2023-01-17T19:02:43.699Z"
   },
   {
    "duration": 44,
    "start_time": "2023-01-17T19:02:43.708Z"
   },
   {
    "duration": 183,
    "start_time": "2023-01-17T19:02:43.753Z"
   },
   {
    "duration": 13,
    "start_time": "2023-01-17T19:02:43.938Z"
   },
   {
    "duration": 10,
    "start_time": "2023-01-17T19:02:43.952Z"
   },
   {
    "duration": 8,
    "start_time": "2023-01-17T19:02:43.964Z"
   },
   {
    "duration": 160,
    "start_time": "2023-01-17T19:02:43.974Z"
   },
   {
    "duration": 29,
    "start_time": "2023-01-17T19:02:44.136Z"
   },
   {
    "duration": 21,
    "start_time": "2023-01-17T19:02:44.167Z"
   },
   {
    "duration": 12,
    "start_time": "2023-01-17T19:02:44.190Z"
   },
   {
    "duration": 22,
    "start_time": "2023-01-17T19:02:44.204Z"
   },
   {
    "duration": 43,
    "start_time": "2023-01-17T19:02:44.228Z"
   },
   {
    "duration": 8165,
    "start_time": "2023-01-17T19:02:44.349Z"
   },
   {
    "duration": 149,
    "start_time": "2023-01-17T19:02:52.517Z"
   },
   {
    "duration": 20889,
    "start_time": "2023-01-17T19:02:52.668Z"
   },
   {
    "duration": 16,
    "start_time": "2023-01-17T19:03:13.559Z"
   },
   {
    "duration": 27224,
    "start_time": "2023-01-17T19:03:13.577Z"
   },
   {
    "duration": 12,
    "start_time": "2023-01-17T19:03:40.803Z"
   },
   {
    "duration": 13919,
    "start_time": "2023-01-17T19:03:40.817Z"
   },
   {
    "duration": 163,
    "start_time": "2023-01-17T19:03:54.738Z"
   },
   {
    "duration": 128,
    "start_time": "2023-01-17T19:03:54.903Z"
   },
   {
    "duration": 18,
    "start_time": "2023-01-17T19:03:55.033Z"
   },
   {
    "duration": 103,
    "start_time": "2023-01-17T19:03:55.053Z"
   },
   {
    "duration": 196,
    "start_time": "2023-01-17T19:03:55.158Z"
   },
   {
    "duration": 5,
    "start_time": "2023-01-17T19:03:55.356Z"
   },
   {
    "duration": 302,
    "start_time": "2023-01-17T19:28:51.976Z"
   },
   {
    "duration": 582,
    "start_time": "2023-01-17T19:28:57.897Z"
   },
   {
    "duration": 613,
    "start_time": "2023-01-17T19:29:11.202Z"
   },
   {
    "duration": 577,
    "start_time": "2023-01-17T19:29:17.955Z"
   },
   {
    "duration": 587,
    "start_time": "2023-01-17T19:29:24.134Z"
   },
   {
    "duration": 100,
    "start_time": "2023-01-17T19:29:38.227Z"
   },
   {
    "duration": 81,
    "start_time": "2023-01-18T10:09:42.605Z"
   },
   {
    "duration": 1552,
    "start_time": "2023-01-18T10:13:44.860Z"
   },
   {
    "duration": 77,
    "start_time": "2023-01-18T10:17:38.812Z"
   },
   {
    "duration": 75,
    "start_time": "2023-01-18T10:17:42.648Z"
   },
   {
    "duration": 121,
    "start_time": "2023-01-18T10:17:46.272Z"
   },
   {
    "duration": 4,
    "start_time": "2023-01-18T10:17:59.982Z"
   },
   {
    "duration": 75,
    "start_time": "2023-01-18T10:18:02.815Z"
   },
   {
    "duration": 20,
    "start_time": "2023-01-18T10:18:03.125Z"
   },
   {
    "duration": 13,
    "start_time": "2023-01-18T10:18:04.982Z"
   },
   {
    "duration": 5,
    "start_time": "2023-01-18T10:18:07.433Z"
   },
   {
    "duration": 15,
    "start_time": "2023-01-18T10:18:09.042Z"
   },
   {
    "duration": 15,
    "start_time": "2023-01-18T10:23:01.602Z"
   },
   {
    "duration": 15,
    "start_time": "2023-01-18T10:23:07.843Z"
   },
   {
    "duration": 3,
    "start_time": "2023-01-18T10:24:41.326Z"
   },
   {
    "duration": 13,
    "start_time": "2023-01-18T10:24:53.834Z"
   },
   {
    "duration": 4,
    "start_time": "2023-01-18T10:25:10.269Z"
   },
   {
    "duration": 3,
    "start_time": "2023-01-18T10:25:16.243Z"
   },
   {
    "duration": 14,
    "start_time": "2023-01-18T10:31:38.470Z"
   },
   {
    "duration": 5,
    "start_time": "2023-01-18T10:31:40.726Z"
   },
   {
    "duration": 5,
    "start_time": "2023-01-18T10:31:50.081Z"
   },
   {
    "duration": 34,
    "start_time": "2023-01-18T10:31:50.968Z"
   },
   {
    "duration": 17,
    "start_time": "2023-01-18T10:31:51.171Z"
   },
   {
    "duration": 18,
    "start_time": "2023-01-18T10:31:51.337Z"
   },
   {
    "duration": 6,
    "start_time": "2023-01-18T10:31:52.069Z"
   },
   {
    "duration": 5,
    "start_time": "2023-01-18T10:31:52.422Z"
   },
   {
    "duration": 7,
    "start_time": "2023-01-18T10:31:53.175Z"
   },
   {
    "duration": 7,
    "start_time": "2023-01-18T10:31:53.546Z"
   },
   {
    "duration": 7,
    "start_time": "2023-01-18T10:31:53.938Z"
   },
   {
    "duration": 7,
    "start_time": "2023-01-18T10:31:54.304Z"
   },
   {
    "duration": 6,
    "start_time": "2023-01-18T10:31:54.694Z"
   },
   {
    "duration": 7,
    "start_time": "2023-01-18T10:31:55.185Z"
   },
   {
    "duration": 7,
    "start_time": "2023-01-18T10:31:55.581Z"
   },
   {
    "duration": 5,
    "start_time": "2023-01-18T10:31:55.995Z"
   },
   {
    "duration": 7,
    "start_time": "2023-01-18T10:31:57.100Z"
   },
   {
    "duration": 9,
    "start_time": "2023-01-18T10:31:57.528Z"
   },
   {
    "duration": 165,
    "start_time": "2023-01-18T10:32:00.906Z"
   },
   {
    "duration": 6,
    "start_time": "2023-01-18T10:32:04.975Z"
   },
   {
    "duration": 6,
    "start_time": "2023-01-18T10:32:16.164Z"
   },
   {
    "duration": 9,
    "start_time": "2023-01-18T10:32:23.065Z"
   },
   {
    "duration": 151,
    "start_time": "2023-01-18T10:32:32.100Z"
   },
   {
    "duration": 12,
    "start_time": "2023-01-18T10:54:50.147Z"
   },
   {
    "duration": 22,
    "start_time": "2023-01-18T10:54:57.334Z"
   },
   {
    "duration": 18,
    "start_time": "2023-01-18T10:54:57.493Z"
   },
   {
    "duration": 16,
    "start_time": "2023-01-18T10:54:57.846Z"
   },
   {
    "duration": 24,
    "start_time": "2023-01-18T10:54:59.630Z"
   },
   {
    "duration": 24,
    "start_time": "2023-01-18T10:55:11.900Z"
   },
   {
    "duration": 22,
    "start_time": "2023-01-18T10:56:32.844Z"
   },
   {
    "duration": 14,
    "start_time": "2023-01-18T11:08:52.739Z"
   },
   {
    "duration": 4,
    "start_time": "2023-01-18T11:41:03.653Z"
   },
   {
    "duration": 4,
    "start_time": "2023-01-18T12:07:03.967Z"
   },
   {
    "duration": 2,
    "start_time": "2023-01-18T12:14:29.786Z"
   },
   {
    "duration": 11,
    "start_time": "2023-01-18T12:15:16.097Z"
   },
   {
    "duration": 12,
    "start_time": "2023-01-18T12:16:32.953Z"
   },
   {
    "duration": 12,
    "start_time": "2023-01-18T12:16:50.470Z"
   },
   {
    "duration": 15,
    "start_time": "2023-01-18T12:19:51.633Z"
   },
   {
    "duration": 20,
    "start_time": "2023-01-18T12:20:20.163Z"
   },
   {
    "duration": 19,
    "start_time": "2023-01-18T12:23:03.997Z"
   },
   {
    "duration": 3,
    "start_time": "2023-01-18T12:23:31.465Z"
   },
   {
    "duration": 10,
    "start_time": "2023-01-18T12:23:42.235Z"
   },
   {
    "duration": 10,
    "start_time": "2023-01-18T12:23:48.075Z"
   },
   {
    "duration": 83,
    "start_time": "2023-01-18T12:26:01.235Z"
   },
   {
    "duration": 3,
    "start_time": "2023-01-18T12:26:05.786Z"
   },
   {
    "duration": 14,
    "start_time": "2023-01-18T12:26:08.945Z"
   },
   {
    "duration": 5,
    "start_time": "2023-01-18T12:26:51.498Z"
   },
   {
    "duration": 2198,
    "start_time": "2023-01-18T12:26:51.504Z"
   },
   {
    "duration": 39,
    "start_time": "2023-01-18T12:26:53.705Z"
   },
   {
    "duration": 22,
    "start_time": "2023-01-18T12:26:53.746Z"
   },
   {
    "duration": 17,
    "start_time": "2023-01-18T12:26:53.769Z"
   },
   {
    "duration": 4,
    "start_time": "2023-01-18T12:26:59.224Z"
   },
   {
    "duration": 3,
    "start_time": "2023-01-18T12:27:01.615Z"
   },
   {
    "duration": 8,
    "start_time": "2023-01-18T12:27:04.132Z"
   },
   {
    "duration": 7,
    "start_time": "2023-01-18T12:27:06.887Z"
   },
   {
    "duration": 7,
    "start_time": "2023-01-18T12:27:07.763Z"
   },
   {
    "duration": 5,
    "start_time": "2023-01-18T12:27:08.075Z"
   },
   {
    "duration": 6,
    "start_time": "2023-01-18T12:27:08.379Z"
   },
   {
    "duration": 5,
    "start_time": "2023-01-18T12:27:08.738Z"
   },
   {
    "duration": 6,
    "start_time": "2023-01-18T12:27:09.195Z"
   },
   {
    "duration": 6,
    "start_time": "2023-01-18T12:27:09.459Z"
   },
   {
    "duration": 6,
    "start_time": "2023-01-18T12:27:10.207Z"
   },
   {
    "duration": 9,
    "start_time": "2023-01-18T12:27:10.555Z"
   },
   {
    "duration": 156,
    "start_time": "2023-01-18T12:27:11.139Z"
   },
   {
    "duration": 4,
    "start_time": "2023-01-18T12:27:11.476Z"
   },
   {
    "duration": 8,
    "start_time": "2023-01-18T12:27:11.659Z"
   },
   {
    "duration": 10,
    "start_time": "2023-01-18T12:27:12.165Z"
   },
   {
    "duration": 156,
    "start_time": "2023-01-18T12:27:12.331Z"
   },
   {
    "duration": 15,
    "start_time": "2023-01-18T12:27:14.548Z"
   },
   {
    "duration": 3,
    "start_time": "2023-01-18T12:27:18.474Z"
   },
   {
    "duration": 17,
    "start_time": "2023-01-18T12:27:19.270Z"
   },
   {
    "duration": 2015,
    "start_time": "2023-01-18T12:27:39.934Z"
   },
   {
    "duration": 1226,
    "start_time": "2023-01-18T12:27:46.363Z"
   },
   {
    "duration": 2088,
    "start_time": "2023-01-18T12:27:47.591Z"
   },
   {
    "duration": 39,
    "start_time": "2023-01-18T12:27:49.681Z"
   },
   {
    "duration": 22,
    "start_time": "2023-01-18T12:27:49.723Z"
   },
   {
    "duration": 13,
    "start_time": "2023-01-18T12:27:49.747Z"
   },
   {
    "duration": 5,
    "start_time": "2023-01-18T12:27:49.762Z"
   },
   {
    "duration": 9,
    "start_time": "2023-01-18T12:27:49.769Z"
   },
   {
    "duration": 9,
    "start_time": "2023-01-18T12:27:49.779Z"
   },
   {
    "duration": 37,
    "start_time": "2023-01-18T12:27:49.790Z"
   },
   {
    "duration": 14,
    "start_time": "2023-01-18T12:27:49.830Z"
   },
   {
    "duration": 18,
    "start_time": "2023-01-18T12:27:49.850Z"
   },
   {
    "duration": 9,
    "start_time": "2023-01-18T12:27:49.870Z"
   },
   {
    "duration": 7,
    "start_time": "2023-01-18T12:27:49.881Z"
   },
   {
    "duration": 10,
    "start_time": "2023-01-18T12:27:49.889Z"
   },
   {
    "duration": 25,
    "start_time": "2023-01-18T12:27:49.901Z"
   },
   {
    "duration": 6,
    "start_time": "2023-01-18T12:27:49.927Z"
   },
   {
    "duration": 13,
    "start_time": "2023-01-18T12:27:49.935Z"
   },
   {
    "duration": 181,
    "start_time": "2023-01-18T12:27:49.949Z"
   },
   {
    "duration": 5,
    "start_time": "2023-01-18T12:27:50.132Z"
   },
   {
    "duration": 8,
    "start_time": "2023-01-18T12:27:50.139Z"
   },
   {
    "duration": 9,
    "start_time": "2023-01-18T12:27:50.148Z"
   },
   {
    "duration": 177,
    "start_time": "2023-01-18T12:27:50.159Z"
   },
   {
    "duration": 122,
    "start_time": "2023-01-18T12:27:50.338Z"
   },
   {
    "duration": 0,
    "start_time": "2023-01-18T12:27:50.463Z"
   },
   {
    "duration": 0,
    "start_time": "2023-01-18T12:27:50.464Z"
   },
   {
    "duration": 0,
    "start_time": "2023-01-18T12:27:50.466Z"
   },
   {
    "duration": 0,
    "start_time": "2023-01-18T12:27:50.468Z"
   },
   {
    "duration": 0,
    "start_time": "2023-01-18T12:27:50.469Z"
   },
   {
    "duration": 0,
    "start_time": "2023-01-18T12:27:50.470Z"
   },
   {
    "duration": 0,
    "start_time": "2023-01-18T12:27:50.472Z"
   },
   {
    "duration": 0,
    "start_time": "2023-01-18T12:27:50.473Z"
   },
   {
    "duration": 0,
    "start_time": "2023-01-18T12:27:50.474Z"
   },
   {
    "duration": 0,
    "start_time": "2023-01-18T12:27:50.476Z"
   },
   {
    "duration": 0,
    "start_time": "2023-01-18T12:27:50.478Z"
   },
   {
    "duration": 0,
    "start_time": "2023-01-18T12:27:50.479Z"
   },
   {
    "duration": 0,
    "start_time": "2023-01-18T12:27:50.481Z"
   },
   {
    "duration": 0,
    "start_time": "2023-01-18T12:27:50.482Z"
   },
   {
    "duration": 0,
    "start_time": "2023-01-18T12:27:50.483Z"
   },
   {
    "duration": 0,
    "start_time": "2023-01-18T12:27:50.485Z"
   },
   {
    "duration": 0,
    "start_time": "2023-01-18T12:27:50.523Z"
   },
   {
    "duration": 0,
    "start_time": "2023-01-18T12:27:50.525Z"
   },
   {
    "duration": 0,
    "start_time": "2023-01-18T12:27:50.528Z"
   },
   {
    "duration": 12,
    "start_time": "2023-01-18T12:28:26.603Z"
   },
   {
    "duration": 3,
    "start_time": "2023-01-18T12:28:29.036Z"
   },
   {
    "duration": 13,
    "start_time": "2023-01-18T12:28:29.895Z"
   },
   {
    "duration": 227,
    "start_time": "2023-01-18T12:28:32.190Z"
   },
   {
    "duration": 3,
    "start_time": "2023-01-18T12:30:18.920Z"
   },
   {
    "duration": 13,
    "start_time": "2023-01-18T12:30:19.637Z"
   },
   {
    "duration": 5,
    "start_time": "2023-01-18T12:30:20.345Z"
   },
   {
    "duration": 12,
    "start_time": "2023-01-18T12:30:23.011Z"
   },
   {
    "duration": 14,
    "start_time": "2023-01-18T12:30:35.260Z"
   },
   {
    "duration": 13,
    "start_time": "2023-01-18T12:33:32.346Z"
   },
   {
    "duration": 9,
    "start_time": "2023-01-18T12:33:47.312Z"
   },
   {
    "duration": 76,
    "start_time": "2023-01-18T12:33:57.159Z"
   },
   {
    "duration": 85,
    "start_time": "2023-01-18T12:34:00.017Z"
   },
   {
    "duration": 11,
    "start_time": "2023-01-18T12:34:02.867Z"
   },
   {
    "duration": 9,
    "start_time": "2023-01-18T12:35:07.533Z"
   },
   {
    "duration": 11,
    "start_time": "2023-01-18T12:37:10.662Z"
   },
   {
    "duration": 21,
    "start_time": "2023-01-18T12:38:37.492Z"
   },
   {
    "duration": 20,
    "start_time": "2023-01-18T12:39:48.738Z"
   },
   {
    "duration": 20,
    "start_time": "2023-01-18T12:39:58.757Z"
   },
   {
    "duration": 11,
    "start_time": "2023-01-18T12:40:31.603Z"
   },
   {
    "duration": 3,
    "start_time": "2023-01-18T12:40:34.886Z"
   },
   {
    "duration": 13,
    "start_time": "2023-01-18T12:40:35.092Z"
   },
   {
    "duration": 13,
    "start_time": "2023-01-18T12:40:35.557Z"
   },
   {
    "duration": 4,
    "start_time": "2023-01-18T12:40:52.828Z"
   },
   {
    "duration": 2107,
    "start_time": "2023-01-18T12:40:53.025Z"
   },
   {
    "duration": 39,
    "start_time": "2023-01-18T12:40:55.135Z"
   },
   {
    "duration": 16,
    "start_time": "2023-01-18T12:40:55.175Z"
   },
   {
    "duration": 20,
    "start_time": "2023-01-18T12:40:55.193Z"
   },
   {
    "duration": 5,
    "start_time": "2023-01-18T12:40:55.214Z"
   },
   {
    "duration": 11,
    "start_time": "2023-01-18T12:40:55.220Z"
   },
   {
    "duration": 7,
    "start_time": "2023-01-18T12:40:55.360Z"
   },
   {
    "duration": 6,
    "start_time": "2023-01-18T12:40:55.685Z"
   },
   {
    "duration": 6,
    "start_time": "2023-01-18T12:40:56.031Z"
   },
   {
    "duration": 7,
    "start_time": "2023-01-18T12:40:56.373Z"
   },
   {
    "duration": 5,
    "start_time": "2023-01-18T12:40:56.737Z"
   },
   {
    "duration": 6,
    "start_time": "2023-01-18T12:40:57.116Z"
   },
   {
    "duration": 6,
    "start_time": "2023-01-18T12:40:57.489Z"
   },
   {
    "duration": 7,
    "start_time": "2023-01-18T12:40:57.906Z"
   },
   {
    "duration": 7,
    "start_time": "2023-01-18T12:40:58.720Z"
   },
   {
    "duration": 9,
    "start_time": "2023-01-18T12:40:59.133Z"
   },
   {
    "duration": 153,
    "start_time": "2023-01-18T12:40:59.608Z"
   },
   {
    "duration": 5,
    "start_time": "2023-01-18T12:40:59.998Z"
   },
   {
    "duration": 6,
    "start_time": "2023-01-18T12:41:00.205Z"
   },
   {
    "duration": 9,
    "start_time": "2023-01-18T12:41:00.414Z"
   },
   {
    "duration": 162,
    "start_time": "2023-01-18T12:41:00.669Z"
   },
   {
    "duration": 14,
    "start_time": "2023-01-18T12:41:02.902Z"
   },
   {
    "duration": 3,
    "start_time": "2023-01-18T12:41:05.376Z"
   },
   {
    "duration": 13,
    "start_time": "2023-01-18T12:41:06.236Z"
   },
   {
    "duration": 7,
    "start_time": "2023-01-18T12:41:08.046Z"
   },
   {
    "duration": 10,
    "start_time": "2023-01-18T12:41:08.831Z"
   },
   {
    "duration": 23,
    "start_time": "2023-01-18T12:41:09.521Z"
   },
   {
    "duration": 20,
    "start_time": "2023-01-18T12:41:10.182Z"
   },
   {
    "duration": 24,
    "start_time": "2023-01-18T12:41:11.404Z"
   },
   {
    "duration": 22,
    "start_time": "2023-01-18T12:42:35.596Z"
   },
   {
    "duration": 5,
    "start_time": "2023-01-18T12:42:48.823Z"
   },
   {
    "duration": 2252,
    "start_time": "2023-01-18T12:42:48.874Z"
   },
   {
    "duration": 37,
    "start_time": "2023-01-18T12:42:51.128Z"
   },
   {
    "duration": 163,
    "start_time": "2023-01-18T12:42:51.167Z"
   },
   {
    "duration": 12,
    "start_time": "2023-01-18T12:42:51.332Z"
   },
   {
    "duration": 4,
    "start_time": "2023-01-18T12:42:51.346Z"
   },
   {
    "duration": 4,
    "start_time": "2023-01-18T12:42:51.396Z"
   },
   {
    "duration": 23,
    "start_time": "2023-01-18T12:42:51.402Z"
   },
   {
    "duration": 6,
    "start_time": "2023-01-18T12:42:51.767Z"
   },
   {
    "duration": 7,
    "start_time": "2023-01-18T12:42:52.146Z"
   },
   {
    "duration": 6,
    "start_time": "2023-01-18T12:42:52.543Z"
   },
   {
    "duration": 7,
    "start_time": "2023-01-18T12:42:52.925Z"
   },
   {
    "duration": 6,
    "start_time": "2023-01-18T12:42:53.326Z"
   },
   {
    "duration": 6,
    "start_time": "2023-01-18T12:42:53.695Z"
   },
   {
    "duration": 7,
    "start_time": "2023-01-18T12:42:54.081Z"
   },
   {
    "duration": 7,
    "start_time": "2023-01-18T12:42:55.007Z"
   },
   {
    "duration": 9,
    "start_time": "2023-01-18T12:42:55.363Z"
   },
   {
    "duration": 152,
    "start_time": "2023-01-18T12:42:55.880Z"
   },
   {
    "duration": 5,
    "start_time": "2023-01-18T12:42:56.242Z"
   },
   {
    "duration": 7,
    "start_time": "2023-01-18T12:42:56.497Z"
   },
   {
    "duration": 10,
    "start_time": "2023-01-18T12:42:56.722Z"
   },
   {
    "duration": 169,
    "start_time": "2023-01-18T12:42:56.907Z"
   },
   {
    "duration": 14,
    "start_time": "2023-01-18T12:42:59.220Z"
   },
   {
    "duration": 3,
    "start_time": "2023-01-18T12:43:02.845Z"
   },
   {
    "duration": 15,
    "start_time": "2023-01-18T12:43:05.292Z"
   },
   {
    "duration": 5,
    "start_time": "2023-01-18T12:43:06.769Z"
   },
   {
    "duration": 11,
    "start_time": "2023-01-18T12:43:12.195Z"
   },
   {
    "duration": 22,
    "start_time": "2023-01-18T12:43:17.434Z"
   },
   {
    "duration": 22,
    "start_time": "2023-01-18T12:43:19.047Z"
   },
   {
    "duration": 20,
    "start_time": "2023-01-18T12:43:20.620Z"
   },
   {
    "duration": 13,
    "start_time": "2023-01-18T12:44:50.163Z"
   },
   {
    "duration": 4,
    "start_time": "2023-01-18T12:45:35.435Z"
   },
   {
    "duration": 2000,
    "start_time": "2023-01-18T12:45:35.597Z"
   },
   {
    "duration": 36,
    "start_time": "2023-01-18T12:45:37.600Z"
   },
   {
    "duration": 16,
    "start_time": "2023-01-18T12:45:37.638Z"
   },
   {
    "duration": 14,
    "start_time": "2023-01-18T12:45:37.656Z"
   },
   {
    "duration": 4,
    "start_time": "2023-01-18T12:45:37.672Z"
   },
   {
    "duration": 8,
    "start_time": "2023-01-18T12:45:37.677Z"
   },
   {
    "duration": 7,
    "start_time": "2023-01-18T12:45:38.091Z"
   },
   {
    "duration": 6,
    "start_time": "2023-01-18T12:45:38.476Z"
   },
   {
    "duration": 7,
    "start_time": "2023-01-18T12:45:38.898Z"
   },
   {
    "duration": 5,
    "start_time": "2023-01-18T12:45:39.726Z"
   },
   {
    "duration": 6,
    "start_time": "2023-01-18T12:45:40.047Z"
   },
   {
    "duration": 6,
    "start_time": "2023-01-18T12:45:40.710Z"
   },
   {
    "duration": 6,
    "start_time": "2023-01-18T12:45:41.273Z"
   },
   {
    "duration": 6,
    "start_time": "2023-01-18T12:45:41.886Z"
   },
   {
    "duration": 6,
    "start_time": "2023-01-18T12:45:42.896Z"
   },
   {
    "duration": 10,
    "start_time": "2023-01-18T12:45:43.513Z"
   },
   {
    "duration": 194,
    "start_time": "2023-01-18T12:45:44.062Z"
   },
   {
    "duration": 4,
    "start_time": "2023-01-18T12:45:44.481Z"
   },
   {
    "duration": 8,
    "start_time": "2023-01-18T12:45:44.962Z"
   },
   {
    "duration": 10,
    "start_time": "2023-01-18T12:45:45.143Z"
   },
   {
    "duration": 155,
    "start_time": "2023-01-18T12:45:45.351Z"
   },
   {
    "duration": 14,
    "start_time": "2023-01-18T12:45:48.729Z"
   },
   {
    "duration": 3,
    "start_time": "2023-01-18T12:45:51.272Z"
   },
   {
    "duration": 13,
    "start_time": "2023-01-18T12:45:52.029Z"
   },
   {
    "duration": 5,
    "start_time": "2023-01-18T12:45:53.936Z"
   },
   {
    "duration": 12,
    "start_time": "2023-01-18T12:45:54.731Z"
   },
   {
    "duration": 25,
    "start_time": "2023-01-18T12:45:55.486Z"
   },
   {
    "duration": 20,
    "start_time": "2023-01-18T12:45:56.448Z"
   },
   {
    "duration": 21,
    "start_time": "2023-01-18T12:45:58.438Z"
   },
   {
    "duration": 5,
    "start_time": "2023-01-18T12:47:25.140Z"
   },
   {
    "duration": 2052,
    "start_time": "2023-01-18T12:47:25.296Z"
   },
   {
    "duration": 40,
    "start_time": "2023-01-18T12:47:27.350Z"
   },
   {
    "duration": 15,
    "start_time": "2023-01-18T12:47:27.391Z"
   },
   {
    "duration": 21,
    "start_time": "2023-01-18T12:47:27.408Z"
   },
   {
    "duration": 13,
    "start_time": "2023-01-18T12:47:27.430Z"
   },
   {
    "duration": 7,
    "start_time": "2023-01-18T12:47:27.446Z"
   },
   {
    "duration": 7,
    "start_time": "2023-01-18T12:47:27.904Z"
   },
   {
    "duration": 6,
    "start_time": "2023-01-18T12:47:28.284Z"
   },
   {
    "duration": 6,
    "start_time": "2023-01-18T12:47:28.693Z"
   },
   {
    "duration": 6,
    "start_time": "2023-01-18T12:47:29.066Z"
   },
   {
    "duration": 6,
    "start_time": "2023-01-18T12:47:29.432Z"
   },
   {
    "duration": 5,
    "start_time": "2023-01-18T12:47:29.852Z"
   },
   {
    "duration": 6,
    "start_time": "2023-01-18T12:47:30.204Z"
   },
   {
    "duration": 6,
    "start_time": "2023-01-18T12:47:30.601Z"
   },
   {
    "duration": 6,
    "start_time": "2023-01-18T12:47:31.476Z"
   },
   {
    "duration": 9,
    "start_time": "2023-01-18T12:47:31.887Z"
   },
   {
    "duration": 141,
    "start_time": "2023-01-18T12:47:32.341Z"
   },
   {
    "duration": 5,
    "start_time": "2023-01-18T12:47:32.732Z"
   },
   {
    "duration": 6,
    "start_time": "2023-01-18T12:47:32.954Z"
   },
   {
    "duration": 10,
    "start_time": "2023-01-18T12:47:33.162Z"
   },
   {
    "duration": 155,
    "start_time": "2023-01-18T12:47:33.354Z"
   },
   {
    "duration": 14,
    "start_time": "2023-01-18T12:47:35.201Z"
   },
   {
    "duration": 4,
    "start_time": "2023-01-18T12:47:37.173Z"
   },
   {
    "duration": 14,
    "start_time": "2023-01-18T12:47:42.036Z"
   },
   {
    "duration": 5,
    "start_time": "2023-01-18T12:47:42.915Z"
   },
   {
    "duration": 30,
    "start_time": "2023-01-18T12:47:44.141Z"
   },
   {
    "duration": 23,
    "start_time": "2023-01-18T12:47:46.730Z"
   },
   {
    "duration": 28,
    "start_time": "2023-01-18T12:47:49.064Z"
   },
   {
    "duration": 4,
    "start_time": "2023-01-18T12:48:23.736Z"
   },
   {
    "duration": 26,
    "start_time": "2023-01-18T12:48:24.366Z"
   },
   {
    "duration": 18,
    "start_time": "2023-01-18T12:48:28.509Z"
   },
   {
    "duration": 24,
    "start_time": "2023-01-18T12:48:33.287Z"
   },
   {
    "duration": 4,
    "start_time": "2023-01-18T12:48:49.982Z"
   },
   {
    "duration": 2228,
    "start_time": "2023-01-18T12:48:50.130Z"
   },
   {
    "duration": 40,
    "start_time": "2023-01-18T12:48:52.361Z"
   },
   {
    "duration": 18,
    "start_time": "2023-01-18T12:48:52.403Z"
   },
   {
    "duration": 22,
    "start_time": "2023-01-18T12:48:52.423Z"
   },
   {
    "duration": 5,
    "start_time": "2023-01-18T12:48:52.446Z"
   },
   {
    "duration": 12,
    "start_time": "2023-01-18T12:48:52.453Z"
   },
   {
    "duration": 6,
    "start_time": "2023-01-18T12:48:52.715Z"
   },
   {
    "duration": 6,
    "start_time": "2023-01-18T12:48:53.085Z"
   },
   {
    "duration": 7,
    "start_time": "2023-01-18T12:48:53.460Z"
   },
   {
    "duration": 6,
    "start_time": "2023-01-18T12:48:53.841Z"
   },
   {
    "duration": 7,
    "start_time": "2023-01-18T12:48:54.212Z"
   },
   {
    "duration": 5,
    "start_time": "2023-01-18T12:48:54.592Z"
   },
   {
    "duration": 6,
    "start_time": "2023-01-18T12:48:55.265Z"
   },
   {
    "duration": 6,
    "start_time": "2023-01-18T12:48:55.616Z"
   },
   {
    "duration": 6,
    "start_time": "2023-01-18T12:48:56.412Z"
   },
   {
    "duration": 9,
    "start_time": "2023-01-18T12:48:56.828Z"
   },
   {
    "duration": 147,
    "start_time": "2023-01-18T12:48:57.282Z"
   },
   {
    "duration": 4,
    "start_time": "2023-01-18T12:48:57.658Z"
   },
   {
    "duration": 6,
    "start_time": "2023-01-18T12:48:57.875Z"
   },
   {
    "duration": 9,
    "start_time": "2023-01-18T12:48:58.075Z"
   },
   {
    "duration": 154,
    "start_time": "2023-01-18T12:48:58.273Z"
   },
   {
    "duration": 14,
    "start_time": "2023-01-18T12:49:00.272Z"
   },
   {
    "duration": 4,
    "start_time": "2023-01-18T12:49:02.025Z"
   },
   {
    "duration": 14,
    "start_time": "2023-01-18T12:49:02.455Z"
   },
   {
    "duration": 5,
    "start_time": "2023-01-18T12:49:02.809Z"
   },
   {
    "duration": 22,
    "start_time": "2023-01-18T12:49:03.391Z"
   },
   {
    "duration": 22,
    "start_time": "2023-01-18T12:49:05.715Z"
   },
   {
    "duration": 17,
    "start_time": "2023-01-18T12:49:08.590Z"
   },
   {
    "duration": 27,
    "start_time": "2023-01-18T12:49:10.295Z"
   },
   {
    "duration": 4,
    "start_time": "2023-01-18T12:50:36.959Z"
   },
   {
    "duration": 2027,
    "start_time": "2023-01-18T12:50:37.175Z"
   },
   {
    "duration": 37,
    "start_time": "2023-01-18T12:50:39.204Z"
   },
   {
    "duration": 16,
    "start_time": "2023-01-18T12:50:39.242Z"
   },
   {
    "duration": 18,
    "start_time": "2023-01-18T12:50:39.261Z"
   },
   {
    "duration": 5,
    "start_time": "2023-01-18T12:50:39.281Z"
   },
   {
    "duration": 5,
    "start_time": "2023-01-18T12:50:39.288Z"
   },
   {
    "duration": 7,
    "start_time": "2023-01-18T12:50:39.805Z"
   },
   {
    "duration": 7,
    "start_time": "2023-01-18T12:50:40.156Z"
   },
   {
    "duration": 8,
    "start_time": "2023-01-18T12:50:40.451Z"
   },
   {
    "duration": 6,
    "start_time": "2023-01-18T12:50:40.817Z"
   },
   {
    "duration": 6,
    "start_time": "2023-01-18T12:50:41.082Z"
   },
   {
    "duration": 6,
    "start_time": "2023-01-18T12:50:41.417Z"
   },
   {
    "duration": 6,
    "start_time": "2023-01-18T12:50:41.800Z"
   },
   {
    "duration": 5,
    "start_time": "2023-01-18T12:50:42.153Z"
   },
   {
    "duration": 7,
    "start_time": "2023-01-18T12:50:42.864Z"
   },
   {
    "duration": 10,
    "start_time": "2023-01-18T12:50:43.241Z"
   },
   {
    "duration": 150,
    "start_time": "2023-01-18T12:50:43.654Z"
   },
   {
    "duration": 6,
    "start_time": "2023-01-18T12:50:44.063Z"
   },
   {
    "duration": 7,
    "start_time": "2023-01-18T12:50:44.387Z"
   },
   {
    "duration": 9,
    "start_time": "2023-01-18T12:50:44.564Z"
   },
   {
    "duration": 157,
    "start_time": "2023-01-18T12:50:44.767Z"
   },
   {
    "duration": 13,
    "start_time": "2023-01-18T12:50:46.793Z"
   },
   {
    "duration": 4,
    "start_time": "2023-01-18T12:50:49.081Z"
   },
   {
    "duration": 15,
    "start_time": "2023-01-18T12:50:49.528Z"
   },
   {
    "duration": 5,
    "start_time": "2023-01-18T12:50:51.338Z"
   },
   {
    "duration": 13,
    "start_time": "2023-01-18T12:50:51.734Z"
   },
   {
    "duration": 12,
    "start_time": "2023-01-18T12:50:54.849Z"
   },
   {
    "duration": 12,
    "start_time": "2023-01-18T12:50:56.528Z"
   },
   {
    "duration": 38,
    "start_time": "2023-01-18T12:51:20.567Z"
   },
   {
    "duration": 23,
    "start_time": "2023-01-18T12:51:26.083Z"
   },
   {
    "duration": 16,
    "start_time": "2023-01-18T12:51:30.251Z"
   },
   {
    "duration": 28,
    "start_time": "2023-01-18T12:51:34.712Z"
   },
   {
    "duration": 25,
    "start_time": "2023-01-18T12:52:16.223Z"
   },
   {
    "duration": 37,
    "start_time": "2023-01-18T12:52:25.490Z"
   },
   {
    "duration": 4,
    "start_time": "2023-01-18T12:52:54.053Z"
   },
   {
    "duration": 2123,
    "start_time": "2023-01-18T12:52:54.225Z"
   },
   {
    "duration": 42,
    "start_time": "2023-01-18T12:52:56.351Z"
   },
   {
    "duration": 19,
    "start_time": "2023-01-18T12:52:56.394Z"
   },
   {
    "duration": 19,
    "start_time": "2023-01-18T12:52:56.416Z"
   },
   {
    "duration": 5,
    "start_time": "2023-01-18T12:52:56.436Z"
   },
   {
    "duration": 7,
    "start_time": "2023-01-18T12:52:56.443Z"
   },
   {
    "duration": 7,
    "start_time": "2023-01-18T12:52:57.088Z"
   },
   {
    "duration": 7,
    "start_time": "2023-01-18T12:52:57.452Z"
   },
   {
    "duration": 6,
    "start_time": "2023-01-18T12:52:57.827Z"
   },
   {
    "duration": 6,
    "start_time": "2023-01-18T12:52:58.195Z"
   },
   {
    "duration": 6,
    "start_time": "2023-01-18T12:52:58.554Z"
   },
   {
    "duration": 6,
    "start_time": "2023-01-18T12:52:58.929Z"
   },
   {
    "duration": 6,
    "start_time": "2023-01-18T12:52:59.293Z"
   },
   {
    "duration": 6,
    "start_time": "2023-01-18T12:52:59.692Z"
   },
   {
    "duration": 7,
    "start_time": "2023-01-18T12:53:00.500Z"
   },
   {
    "duration": 9,
    "start_time": "2023-01-18T12:53:00.885Z"
   },
   {
    "duration": 172,
    "start_time": "2023-01-18T12:53:01.301Z"
   },
   {
    "duration": 5,
    "start_time": "2023-01-18T12:53:01.673Z"
   },
   {
    "duration": 7,
    "start_time": "2023-01-18T12:53:01.886Z"
   },
   {
    "duration": 9,
    "start_time": "2023-01-18T12:53:02.104Z"
   },
   {
    "duration": 313,
    "start_time": "2023-01-18T12:53:02.319Z"
   },
   {
    "duration": 14,
    "start_time": "2023-01-18T12:53:04.496Z"
   },
   {
    "duration": 4,
    "start_time": "2023-01-18T12:53:07.734Z"
   },
   {
    "duration": 14,
    "start_time": "2023-01-18T12:53:08.657Z"
   },
   {
    "duration": 5,
    "start_time": "2023-01-18T12:53:13.137Z"
   },
   {
    "duration": 13,
    "start_time": "2023-01-18T12:53:14.402Z"
   },
   {
    "duration": 13,
    "start_time": "2023-01-18T12:53:16.064Z"
   },
   {
    "duration": 12,
    "start_time": "2023-01-18T12:53:16.668Z"
   },
   {
    "duration": 24,
    "start_time": "2023-01-18T12:53:22.384Z"
   },
   {
    "duration": 20,
    "start_time": "2023-01-18T12:53:24.731Z"
   },
   {
    "duration": 24,
    "start_time": "2023-01-18T12:53:26.435Z"
   },
   {
    "duration": 4,
    "start_time": "2023-01-18T12:55:10.610Z"
   },
   {
    "duration": 2208,
    "start_time": "2023-01-18T12:55:10.780Z"
   },
   {
    "duration": 40,
    "start_time": "2023-01-18T12:55:12.990Z"
   },
   {
    "duration": 15,
    "start_time": "2023-01-18T12:55:13.032Z"
   },
   {
    "duration": 16,
    "start_time": "2023-01-18T12:55:13.049Z"
   },
   {
    "duration": 4,
    "start_time": "2023-01-18T12:55:13.067Z"
   },
   {
    "duration": 9,
    "start_time": "2023-01-18T12:55:13.073Z"
   },
   {
    "duration": 6,
    "start_time": "2023-01-18T12:55:13.351Z"
   },
   {
    "duration": 7,
    "start_time": "2023-01-18T12:55:13.739Z"
   },
   {
    "duration": 6,
    "start_time": "2023-01-18T12:55:14.074Z"
   },
   {
    "duration": 6,
    "start_time": "2023-01-18T12:55:14.382Z"
   },
   {
    "duration": 6,
    "start_time": "2023-01-18T12:55:14.680Z"
   },
   {
    "duration": 6,
    "start_time": "2023-01-18T12:55:14.919Z"
   },
   {
    "duration": 8,
    "start_time": "2023-01-18T12:55:15.247Z"
   },
   {
    "duration": 5,
    "start_time": "2023-01-18T12:55:15.576Z"
   },
   {
    "duration": 8,
    "start_time": "2023-01-18T12:55:16.280Z"
   },
   {
    "duration": 9,
    "start_time": "2023-01-18T12:55:16.665Z"
   },
   {
    "duration": 158,
    "start_time": "2023-01-18T12:55:17.052Z"
   },
   {
    "duration": 5,
    "start_time": "2023-01-18T12:55:17.430Z"
   },
   {
    "duration": 6,
    "start_time": "2023-01-18T12:55:17.629Z"
   },
   {
    "duration": 12,
    "start_time": "2023-01-18T12:55:17.836Z"
   },
   {
    "duration": 154,
    "start_time": "2023-01-18T12:55:18.033Z"
   },
   {
    "duration": 12,
    "start_time": "2023-01-18T12:55:19.699Z"
   },
   {
    "duration": 4,
    "start_time": "2023-01-18T12:55:21.125Z"
   },
   {
    "duration": 20,
    "start_time": "2023-01-18T12:55:22.451Z"
   },
   {
    "duration": 18,
    "start_time": "2023-01-18T12:55:23.280Z"
   },
   {
    "duration": 4,
    "start_time": "2023-01-18T12:55:45.888Z"
   },
   {
    "duration": 13,
    "start_time": "2023-01-18T12:55:47.530Z"
   },
   {
    "duration": 4,
    "start_time": "2023-01-18T12:55:52.347Z"
   },
   {
    "duration": 2218,
    "start_time": "2023-01-18T12:55:52.518Z"
   },
   {
    "duration": 40,
    "start_time": "2023-01-18T12:55:54.739Z"
   },
   {
    "duration": 16,
    "start_time": "2023-01-18T12:55:54.780Z"
   },
   {
    "duration": 16,
    "start_time": "2023-01-18T12:55:54.798Z"
   },
   {
    "duration": 7,
    "start_time": "2023-01-18T12:55:54.815Z"
   },
   {
    "duration": 8,
    "start_time": "2023-01-18T12:55:54.823Z"
   },
   {
    "duration": 12,
    "start_time": "2023-01-18T12:55:54.833Z"
   },
   {
    "duration": 7,
    "start_time": "2023-01-18T12:55:54.847Z"
   },
   {
    "duration": 11,
    "start_time": "2023-01-18T12:55:54.855Z"
   },
   {
    "duration": 12,
    "start_time": "2023-01-18T12:55:54.869Z"
   },
   {
    "duration": 5,
    "start_time": "2023-01-18T12:55:54.883Z"
   },
   {
    "duration": 8,
    "start_time": "2023-01-18T12:55:54.889Z"
   },
   {
    "duration": 5,
    "start_time": "2023-01-18T12:55:54.923Z"
   },
   {
    "duration": 13,
    "start_time": "2023-01-18T12:55:54.931Z"
   },
   {
    "duration": 12,
    "start_time": "2023-01-18T12:55:54.946Z"
   },
   {
    "duration": 11,
    "start_time": "2023-01-18T12:55:54.960Z"
   },
   {
    "duration": 175,
    "start_time": "2023-01-18T12:55:54.972Z"
   },
   {
    "duration": 5,
    "start_time": "2023-01-18T12:55:55.149Z"
   },
   {
    "duration": 12,
    "start_time": "2023-01-18T12:55:55.156Z"
   },
   {
    "duration": 12,
    "start_time": "2023-01-18T12:55:55.170Z"
   },
   {
    "duration": 176,
    "start_time": "2023-01-18T12:55:55.184Z"
   },
   {
    "duration": 14,
    "start_time": "2023-01-18T12:55:55.362Z"
   },
   {
    "duration": 9,
    "start_time": "2023-01-18T12:55:55.378Z"
   },
   {
    "duration": 16,
    "start_time": "2023-01-18T12:55:55.448Z"
   },
   {
    "duration": 19,
    "start_time": "2023-01-18T12:55:55.503Z"
   },
   {
    "duration": 3,
    "start_time": "2023-01-18T12:55:55.799Z"
   },
   {
    "duration": 19,
    "start_time": "2023-01-18T12:55:55.850Z"
   },
   {
    "duration": 15,
    "start_time": "2023-01-18T12:55:55.899Z"
   },
   {
    "duration": 18,
    "start_time": "2023-01-18T12:55:55.956Z"
   },
   {
    "duration": 32,
    "start_time": "2023-01-18T12:55:56.190Z"
   },
   {
    "duration": 4,
    "start_time": "2023-01-18T12:56:19.495Z"
   },
   {
    "duration": 2041,
    "start_time": "2023-01-18T12:56:19.674Z"
   },
   {
    "duration": 37,
    "start_time": "2023-01-18T12:56:21.718Z"
   },
   {
    "duration": 17,
    "start_time": "2023-01-18T12:56:21.757Z"
   },
   {
    "duration": 28,
    "start_time": "2023-01-18T12:56:21.776Z"
   },
   {
    "duration": 20,
    "start_time": "2023-01-18T12:56:21.806Z"
   },
   {
    "duration": 16,
    "start_time": "2023-01-18T12:56:21.828Z"
   },
   {
    "duration": 6,
    "start_time": "2023-01-18T12:56:22.432Z"
   },
   {
    "duration": 7,
    "start_time": "2023-01-18T12:56:22.780Z"
   },
   {
    "duration": 6,
    "start_time": "2023-01-18T12:56:23.105Z"
   },
   {
    "duration": 6,
    "start_time": "2023-01-18T12:56:23.460Z"
   },
   {
    "duration": 6,
    "start_time": "2023-01-18T12:56:23.795Z"
   },
   {
    "duration": 5,
    "start_time": "2023-01-18T12:56:24.269Z"
   },
   {
    "duration": 6,
    "start_time": "2023-01-18T12:56:24.636Z"
   },
   {
    "duration": 6,
    "start_time": "2023-01-18T12:56:25.006Z"
   },
   {
    "duration": 6,
    "start_time": "2023-01-18T12:56:25.762Z"
   },
   {
    "duration": 10,
    "start_time": "2023-01-18T12:56:26.157Z"
   },
   {
    "duration": 157,
    "start_time": "2023-01-18T12:56:26.720Z"
   },
   {
    "duration": 6,
    "start_time": "2023-01-18T12:56:27.064Z"
   },
   {
    "duration": 7,
    "start_time": "2023-01-18T12:56:27.272Z"
   },
   {
    "duration": 10,
    "start_time": "2023-01-18T12:56:27.852Z"
   },
   {
    "duration": 155,
    "start_time": "2023-01-18T12:56:28.010Z"
   },
   {
    "duration": 14,
    "start_time": "2023-01-18T12:56:33.736Z"
   },
   {
    "duration": 3,
    "start_time": "2023-01-18T12:56:36.516Z"
   },
   {
    "duration": 15,
    "start_time": "2023-01-18T12:56:37.637Z"
   },
   {
    "duration": 21,
    "start_time": "2023-01-18T12:56:43.118Z"
   },
   {
    "duration": 4,
    "start_time": "2023-01-18T12:58:31.899Z"
   },
   {
    "duration": 2103,
    "start_time": "2023-01-18T12:58:32.068Z"
   },
   {
    "duration": 37,
    "start_time": "2023-01-18T12:58:34.173Z"
   },
   {
    "duration": 16,
    "start_time": "2023-01-18T12:58:34.212Z"
   },
   {
    "duration": 24,
    "start_time": "2023-01-18T12:58:34.230Z"
   },
   {
    "duration": 4,
    "start_time": "2023-01-18T12:58:34.256Z"
   },
   {
    "duration": 11,
    "start_time": "2023-01-18T12:58:34.262Z"
   },
   {
    "duration": 7,
    "start_time": "2023-01-18T12:58:34.619Z"
   },
   {
    "duration": 7,
    "start_time": "2023-01-18T12:58:34.970Z"
   },
   {
    "duration": 6,
    "start_time": "2023-01-18T12:58:35.295Z"
   },
   {
    "duration": 5,
    "start_time": "2023-01-18T12:58:35.629Z"
   },
   {
    "duration": 6,
    "start_time": "2023-01-18T12:58:35.960Z"
   },
   {
    "duration": 6,
    "start_time": "2023-01-18T12:58:36.312Z"
   },
   {
    "duration": 7,
    "start_time": "2023-01-18T12:58:36.649Z"
   },
   {
    "duration": 6,
    "start_time": "2023-01-18T12:58:36.977Z"
   },
   {
    "duration": 7,
    "start_time": "2023-01-18T12:58:37.664Z"
   },
   {
    "duration": 9,
    "start_time": "2023-01-18T12:58:38.011Z"
   },
   {
    "duration": 161,
    "start_time": "2023-01-18T12:58:38.369Z"
   },
   {
    "duration": 5,
    "start_time": "2023-01-18T12:58:38.703Z"
   },
   {
    "duration": 7,
    "start_time": "2023-01-18T12:58:38.877Z"
   },
   {
    "duration": 9,
    "start_time": "2023-01-18T12:58:39.061Z"
   },
   {
    "duration": 155,
    "start_time": "2023-01-18T12:58:39.247Z"
   },
   {
    "duration": 13,
    "start_time": "2023-01-18T12:58:40.661Z"
   },
   {
    "duration": 3,
    "start_time": "2023-01-18T12:58:42.002Z"
   },
   {
    "duration": 15,
    "start_time": "2023-01-18T12:58:42.898Z"
   },
   {
    "duration": 4,
    "start_time": "2023-01-18T12:58:43.379Z"
   },
   {
    "duration": 12,
    "start_time": "2023-01-18T12:58:44.183Z"
   },
   {
    "duration": 23,
    "start_time": "2023-01-18T12:58:49.021Z"
   },
   {
    "duration": 22,
    "start_time": "2023-01-18T12:58:52.595Z"
   },
   {
    "duration": 21,
    "start_time": "2023-01-18T12:58:56.898Z"
   },
   {
    "duration": 4,
    "start_time": "2023-01-18T13:04:02.994Z"
   },
   {
    "duration": 2041,
    "start_time": "2023-01-18T13:04:03.153Z"
   },
   {
    "duration": 38,
    "start_time": "2023-01-18T13:04:05.197Z"
   },
   {
    "duration": 16,
    "start_time": "2023-01-18T13:04:05.237Z"
   },
   {
    "duration": 16,
    "start_time": "2023-01-18T13:04:05.256Z"
   },
   {
    "duration": 4,
    "start_time": "2023-01-18T13:04:05.273Z"
   },
   {
    "duration": 12,
    "start_time": "2023-01-18T13:04:05.279Z"
   },
   {
    "duration": 8,
    "start_time": "2023-01-18T13:04:05.762Z"
   },
   {
    "duration": 7,
    "start_time": "2023-01-18T13:04:06.187Z"
   },
   {
    "duration": 7,
    "start_time": "2023-01-18T13:04:06.551Z"
   },
   {
    "duration": 6,
    "start_time": "2023-01-18T13:04:06.909Z"
   },
   {
    "duration": 6,
    "start_time": "2023-01-18T13:04:07.283Z"
   },
   {
    "duration": 6,
    "start_time": "2023-01-18T13:04:07.689Z"
   },
   {
    "duration": 6,
    "start_time": "2023-01-18T13:04:08.145Z"
   },
   {
    "duration": 6,
    "start_time": "2023-01-18T13:04:08.607Z"
   },
   {
    "duration": 7,
    "start_time": "2023-01-18T13:04:09.443Z"
   },
   {
    "duration": 9,
    "start_time": "2023-01-18T13:04:10.471Z"
   },
   {
    "duration": 154,
    "start_time": "2023-01-18T13:04:11.466Z"
   },
   {
    "duration": 7,
    "start_time": "2023-01-18T13:04:12.765Z"
   },
   {
    "duration": 7,
    "start_time": "2023-01-18T13:04:13.062Z"
   },
   {
    "duration": 9,
    "start_time": "2023-01-18T13:04:13.234Z"
   },
   {
    "duration": 168,
    "start_time": "2023-01-18T13:04:13.313Z"
   },
   {
    "duration": 14,
    "start_time": "2023-01-18T13:04:14.883Z"
   },
   {
    "duration": 3,
    "start_time": "2023-01-18T13:04:16.601Z"
   },
   {
    "duration": 16,
    "start_time": "2023-01-18T13:04:17.374Z"
   },
   {
    "duration": 5,
    "start_time": "2023-01-18T13:04:17.812Z"
   },
   {
    "duration": 11,
    "start_time": "2023-01-18T13:04:18.324Z"
   },
   {
    "duration": 38,
    "start_time": "2023-01-18T13:04:20.604Z"
   },
   {
    "duration": 24,
    "start_time": "2023-01-18T13:04:32.900Z"
   },
   {
    "duration": 21,
    "start_time": "2023-01-18T13:04:53.757Z"
   },
   {
    "duration": 20,
    "start_time": "2023-01-18T13:05:00.957Z"
   },
   {
    "duration": 288,
    "start_time": "2023-01-18T13:08:27.313Z"
   },
   {
    "duration": 21,
    "start_time": "2023-01-18T13:08:56.059Z"
   },
   {
    "duration": 11,
    "start_time": "2023-01-18T13:09:37.182Z"
   },
   {
    "duration": 4,
    "start_time": "2023-01-18T13:58:57.276Z"
   },
   {
    "duration": 1982,
    "start_time": "2023-01-18T13:58:58.079Z"
   },
   {
    "duration": 39,
    "start_time": "2023-01-18T13:59:00.064Z"
   },
   {
    "duration": 15,
    "start_time": "2023-01-18T13:59:00.105Z"
   },
   {
    "duration": 25,
    "start_time": "2023-01-18T13:59:00.122Z"
   },
   {
    "duration": 40,
    "start_time": "2023-01-18T13:59:00.149Z"
   },
   {
    "duration": 23,
    "start_time": "2023-01-18T13:59:00.191Z"
   },
   {
    "duration": 6,
    "start_time": "2023-01-18T13:59:00.819Z"
   },
   {
    "duration": 7,
    "start_time": "2023-01-18T13:59:00.889Z"
   },
   {
    "duration": 7,
    "start_time": "2023-01-18T13:59:01.244Z"
   },
   {
    "duration": 6,
    "start_time": "2023-01-18T13:59:01.615Z"
   },
   {
    "duration": 6,
    "start_time": "2023-01-18T13:59:01.971Z"
   },
   {
    "duration": 6,
    "start_time": "2023-01-18T13:59:02.345Z"
   },
   {
    "duration": 6,
    "start_time": "2023-01-18T13:59:02.730Z"
   },
   {
    "duration": 5,
    "start_time": "2023-01-18T13:59:03.106Z"
   },
   {
    "duration": 7,
    "start_time": "2023-01-18T13:59:03.834Z"
   },
   {
    "duration": 11,
    "start_time": "2023-01-18T13:59:04.205Z"
   },
   {
    "duration": 173,
    "start_time": "2023-01-18T13:59:04.580Z"
   },
   {
    "duration": 6,
    "start_time": "2023-01-18T13:59:05.039Z"
   },
   {
    "duration": 8,
    "start_time": "2023-01-18T13:59:05.164Z"
   },
   {
    "duration": 11,
    "start_time": "2023-01-18T13:59:05.399Z"
   },
   {
    "duration": 157,
    "start_time": "2023-01-18T13:59:05.563Z"
   },
   {
    "duration": 14,
    "start_time": "2023-01-18T13:59:07.025Z"
   },
   {
    "duration": 3,
    "start_time": "2023-01-18T13:59:07.696Z"
   },
   {
    "duration": 15,
    "start_time": "2023-01-18T13:59:07.893Z"
   },
   {
    "duration": 4,
    "start_time": "2023-01-18T13:59:08.089Z"
   },
   {
    "duration": 12,
    "start_time": "2023-01-18T13:59:08.272Z"
   },
   {
    "duration": 35,
    "start_time": "2023-01-18T13:59:08.674Z"
   },
   {
    "duration": 20,
    "start_time": "2023-01-18T13:59:09.118Z"
   },
   {
    "duration": 20,
    "start_time": "2023-01-18T13:59:09.301Z"
   },
   {
    "duration": 21,
    "start_time": "2023-01-18T13:59:09.522Z"
   },
   {
    "duration": 24,
    "start_time": "2023-01-18T13:59:11.169Z"
   },
   {
    "duration": 78,
    "start_time": "2023-01-18T13:59:11.330Z"
   },
   {
    "duration": 8176,
    "start_time": "2023-01-18T13:59:12.663Z"
   },
   {
    "duration": 21848,
    "start_time": "2023-01-18T13:59:34.414Z"
   },
   {
    "duration": 163,
    "start_time": "2023-01-18T14:00:37.641Z"
   },
   {
    "duration": 22091,
    "start_time": "2023-01-18T14:01:07.687Z"
   },
   {
    "duration": 30,
    "start_time": "2023-01-18T14:01:29.780Z"
   },
   {
    "duration": 22,
    "start_time": "2023-01-18T14:02:45.898Z"
   },
   {
    "duration": 18,
    "start_time": "2023-01-18T14:03:05.694Z"
   },
   {
    "duration": 76,
    "start_time": "2023-01-18T14:03:13.109Z"
   },
   {
    "duration": 24,
    "start_time": "2023-01-18T14:03:44.085Z"
   },
   {
    "duration": 2058,
    "start_time": "2023-01-18T14:05:10.509Z"
   },
   {
    "duration": 3686,
    "start_time": "2023-01-18T14:05:12.570Z"
   },
   {
    "duration": 49,
    "start_time": "2023-01-18T14:05:37.119Z"
   },
   {
    "duration": 19,
    "start_time": "2023-01-18T14:06:24.494Z"
   },
   {
    "duration": 10,
    "start_time": "2023-01-18T14:06:31.326Z"
   },
   {
    "duration": 53,
    "start_time": "2023-01-18T14:06:44.364Z"
   },
   {
    "duration": 4,
    "start_time": "2023-01-18T14:06:57.152Z"
   },
   {
    "duration": 11,
    "start_time": "2023-01-18T14:08:52.505Z"
   },
   {
    "duration": 21708,
    "start_time": "2023-01-18T14:09:33.932Z"
   },
   {
    "duration": 23,
    "start_time": "2023-01-18T14:11:31.377Z"
   },
   {
    "duration": 166,
    "start_time": "2023-01-18T14:14:22.053Z"
   },
   {
    "duration": 8,
    "start_time": "2023-01-18T14:15:05.987Z"
   },
   {
    "duration": 69,
    "start_time": "2023-01-18T14:15:34.348Z"
   },
   {
    "duration": 13,
    "start_time": "2023-01-18T14:15:42.982Z"
   },
   {
    "duration": 87,
    "start_time": "2023-01-18T14:15:58.678Z"
   },
   {
    "duration": 26,
    "start_time": "2023-01-18T14:16:27.150Z"
   },
   {
    "duration": 2129,
    "start_time": "2023-01-18T14:22:23.651Z"
   },
   {
    "duration": 2058,
    "start_time": "2023-01-18T14:22:25.783Z"
   },
   {
    "duration": 5,
    "start_time": "2023-01-18T14:22:27.844Z"
   },
   {
    "duration": 44,
    "start_time": "2023-01-18T14:22:27.851Z"
   },
   {
    "duration": 18,
    "start_time": "2023-01-18T14:22:27.896Z"
   },
   {
    "duration": 18,
    "start_time": "2023-01-18T14:22:27.916Z"
   },
   {
    "duration": 5,
    "start_time": "2023-01-18T14:22:27.937Z"
   },
   {
    "duration": 7,
    "start_time": "2023-01-18T14:22:27.944Z"
   },
   {
    "duration": 12,
    "start_time": "2023-01-18T14:22:27.953Z"
   },
   {
    "duration": 6,
    "start_time": "2023-01-18T14:22:27.968Z"
   },
   {
    "duration": 6,
    "start_time": "2023-01-18T14:22:28.004Z"
   },
   {
    "duration": 8,
    "start_time": "2023-01-18T14:22:28.012Z"
   },
   {
    "duration": 6,
    "start_time": "2023-01-18T14:22:28.021Z"
   },
   {
    "duration": 6,
    "start_time": "2023-01-18T14:22:28.029Z"
   },
   {
    "duration": 10,
    "start_time": "2023-01-18T14:22:28.036Z"
   },
   {
    "duration": 6,
    "start_time": "2023-01-18T14:22:28.048Z"
   },
   {
    "duration": 8,
    "start_time": "2023-01-18T14:22:28.056Z"
   },
   {
    "duration": 42,
    "start_time": "2023-01-18T14:22:28.067Z"
   },
   {
    "duration": 151,
    "start_time": "2023-01-18T14:22:28.323Z"
   },
   {
    "duration": 5,
    "start_time": "2023-01-18T14:22:28.577Z"
   },
   {
    "duration": 7,
    "start_time": "2023-01-18T14:22:28.734Z"
   },
   {
    "duration": 8,
    "start_time": "2023-01-18T14:22:28.892Z"
   },
   {
    "duration": 161,
    "start_time": "2023-01-18T14:22:29.107Z"
   },
   {
    "duration": 13,
    "start_time": "2023-01-18T14:22:30.281Z"
   },
   {
    "duration": 3,
    "start_time": "2023-01-18T14:22:31.020Z"
   },
   {
    "duration": 18,
    "start_time": "2023-01-18T14:22:31.217Z"
   },
   {
    "duration": 5,
    "start_time": "2023-01-18T14:22:31.396Z"
   },
   {
    "duration": 10,
    "start_time": "2023-01-18T14:22:31.601Z"
   },
   {
    "duration": 34,
    "start_time": "2023-01-18T14:22:32.134Z"
   },
   {
    "duration": 19,
    "start_time": "2023-01-18T14:22:32.504Z"
   },
   {
    "duration": 23,
    "start_time": "2023-01-18T14:22:32.984Z"
   },
   {
    "duration": 20,
    "start_time": "2023-01-18T14:22:33.145Z"
   },
   {
    "duration": 25,
    "start_time": "2023-01-18T14:22:34.779Z"
   },
   {
    "duration": 23,
    "start_time": "2023-01-18T14:22:35.083Z"
   },
   {
    "duration": 21584,
    "start_time": "2023-01-18T14:22:36.245Z"
   },
   {
    "duration": 82,
    "start_time": "2023-01-18T14:22:57.831Z"
   },
   {
    "duration": 166,
    "start_time": "2023-01-18T14:22:57.914Z"
   },
   {
    "duration": 30,
    "start_time": "2023-01-18T14:22:58.083Z"
   },
   {
    "duration": 88,
    "start_time": "2023-01-18T14:22:58.115Z"
   },
   {
    "duration": 99,
    "start_time": "2023-01-18T14:22:58.206Z"
   },
   {
    "duration": 22540,
    "start_time": "2023-01-18T14:22:58.307Z"
   },
   {
    "duration": 100,
    "start_time": "2023-01-18T14:23:20.849Z"
   },
   {
    "duration": 179,
    "start_time": "2023-01-18T14:23:20.952Z"
   },
   {
    "duration": 24,
    "start_time": "2023-01-18T14:23:21.133Z"
   },
   {
    "duration": 22,
    "start_time": "2023-01-18T14:23:21.158Z"
   },
   {
    "duration": 9,
    "start_time": "2023-01-18T14:23:26.581Z"
   },
   {
    "duration": 34,
    "start_time": "2023-01-18T14:23:35.749Z"
   },
   {
    "duration": 8,
    "start_time": "2023-01-18T14:23:36.548Z"
   },
   {
    "duration": 9,
    "start_time": "2023-01-18T14:28:46.008Z"
   },
   {
    "duration": 33,
    "start_time": "2023-01-18T14:28:53.684Z"
   },
   {
    "duration": 9,
    "start_time": "2023-01-18T14:28:55.312Z"
   },
   {
    "duration": 38,
    "start_time": "2023-01-18T14:30:06.645Z"
   },
   {
    "duration": 34,
    "start_time": "2023-01-18T14:30:49.479Z"
   },
   {
    "duration": 10,
    "start_time": "2023-01-18T14:31:02.185Z"
   },
   {
    "duration": 51,
    "start_time": "2023-01-18T14:31:52.383Z"
   },
   {
    "duration": 8,
    "start_time": "2023-01-18T14:32:00.320Z"
   },
   {
    "duration": 8,
    "start_time": "2023-01-18T14:32:15.452Z"
   },
   {
    "duration": 2100,
    "start_time": "2023-01-18T14:33:24.083Z"
   },
   {
    "duration": 2012,
    "start_time": "2023-01-18T14:33:26.185Z"
   },
   {
    "duration": 5,
    "start_time": "2023-01-18T14:33:28.199Z"
   },
   {
    "duration": 57,
    "start_time": "2023-01-18T14:33:28.206Z"
   },
   {
    "duration": 15,
    "start_time": "2023-01-18T14:33:28.265Z"
   },
   {
    "duration": 29,
    "start_time": "2023-01-18T14:33:28.282Z"
   },
   {
    "duration": 9,
    "start_time": "2023-01-18T14:33:28.313Z"
   },
   {
    "duration": 18,
    "start_time": "2023-01-18T14:33:28.323Z"
   },
   {
    "duration": 22,
    "start_time": "2023-01-18T14:33:28.342Z"
   },
   {
    "duration": 7,
    "start_time": "2023-01-18T14:33:28.452Z"
   },
   {
    "duration": 7,
    "start_time": "2023-01-18T14:33:28.797Z"
   },
   {
    "duration": 6,
    "start_time": "2023-01-18T14:33:29.392Z"
   },
   {
    "duration": 6,
    "start_time": "2023-01-18T14:33:29.498Z"
   },
   {
    "duration": 7,
    "start_time": "2023-01-18T14:33:29.581Z"
   },
   {
    "duration": 6,
    "start_time": "2023-01-18T14:33:29.690Z"
   },
   {
    "duration": 6,
    "start_time": "2023-01-18T14:33:29.787Z"
   },
   {
    "duration": 7,
    "start_time": "2023-01-18T14:33:29.955Z"
   },
   {
    "duration": 9,
    "start_time": "2023-01-18T14:33:30.044Z"
   },
   {
    "duration": 163,
    "start_time": "2023-01-18T14:33:30.154Z"
   },
   {
    "duration": 5,
    "start_time": "2023-01-18T14:33:30.320Z"
   },
   {
    "duration": 26,
    "start_time": "2023-01-18T14:33:30.327Z"
   },
   {
    "duration": 15,
    "start_time": "2023-01-18T14:33:30.356Z"
   },
   {
    "duration": 158,
    "start_time": "2023-01-18T14:33:30.480Z"
   },
   {
    "duration": 14,
    "start_time": "2023-01-18T14:33:30.782Z"
   },
   {
    "duration": 4,
    "start_time": "2023-01-18T14:33:30.905Z"
   },
   {
    "duration": 17,
    "start_time": "2023-01-18T14:33:30.952Z"
   },
   {
    "duration": 5,
    "start_time": "2023-01-18T14:33:31.012Z"
   },
   {
    "duration": 13,
    "start_time": "2023-01-18T14:33:31.080Z"
   },
   {
    "duration": 34,
    "start_time": "2023-01-18T14:33:31.197Z"
   },
   {
    "duration": 20,
    "start_time": "2023-01-18T14:33:31.287Z"
   },
   {
    "duration": 20,
    "start_time": "2023-01-18T14:33:31.505Z"
   },
   {
    "duration": 20,
    "start_time": "2023-01-18T14:33:31.582Z"
   },
   {
    "duration": 24,
    "start_time": "2023-01-18T14:33:32.728Z"
   },
   {
    "duration": 22,
    "start_time": "2023-01-18T14:33:33.229Z"
   },
   {
    "duration": 21753,
    "start_time": "2023-01-18T14:33:34.353Z"
   },
   {
    "duration": 72,
    "start_time": "2023-01-18T14:33:56.108Z"
   },
   {
    "duration": 172,
    "start_time": "2023-01-18T14:33:56.182Z"
   },
   {
    "duration": 22,
    "start_time": "2023-01-18T14:33:56.356Z"
   },
   {
    "duration": 37,
    "start_time": "2023-01-18T14:33:56.380Z"
   },
   {
    "duration": 89,
    "start_time": "2023-01-18T14:33:56.420Z"
   },
   {
    "duration": 22438,
    "start_time": "2023-01-18T14:33:56.512Z"
   },
   {
    "duration": 96,
    "start_time": "2023-01-18T14:34:18.952Z"
   },
   {
    "duration": 189,
    "start_time": "2023-01-18T14:34:19.050Z"
   },
   {
    "duration": 26,
    "start_time": "2023-01-18T14:34:19.242Z"
   },
   {
    "duration": 9,
    "start_time": "2023-01-18T14:34:19.269Z"
   },
   {
    "duration": 35,
    "start_time": "2023-01-18T14:34:30.281Z"
   },
   {
    "duration": 9,
    "start_time": "2023-01-18T14:34:33.082Z"
   },
   {
    "duration": 14,
    "start_time": "2023-01-18T14:35:42.181Z"
   },
   {
    "duration": 14,
    "start_time": "2023-01-18T14:37:31.910Z"
   },
   {
    "duration": 37,
    "start_time": "2023-01-18T14:40:23.227Z"
   },
   {
    "duration": 8,
    "start_time": "2023-01-18T14:40:28.631Z"
   },
   {
    "duration": 9,
    "start_time": "2023-01-18T14:41:16.819Z"
   },
   {
    "duration": 32,
    "start_time": "2023-01-18T14:41:18.285Z"
   },
   {
    "duration": 9,
    "start_time": "2023-01-18T14:41:19.147Z"
   },
   {
    "duration": 50,
    "start_time": "2023-01-18T14:41:50.791Z"
   },
   {
    "duration": 35,
    "start_time": "2023-01-18T14:41:56.883Z"
   },
   {
    "duration": 105,
    "start_time": "2023-01-18T14:45:13.406Z"
   },
   {
    "duration": 11,
    "start_time": "2023-01-18T14:45:32.571Z"
   },
   {
    "duration": 8,
    "start_time": "2023-01-18T14:45:55.447Z"
   },
   {
    "duration": 8,
    "start_time": "2023-01-18T14:46:04.674Z"
   },
   {
    "duration": 7,
    "start_time": "2023-01-18T14:49:23.546Z"
   },
   {
    "duration": 33,
    "start_time": "2023-01-18T14:49:38.239Z"
   },
   {
    "duration": 6,
    "start_time": "2023-01-18T14:49:39.395Z"
   },
   {
    "duration": 30,
    "start_time": "2023-01-18T14:51:52.914Z"
   },
   {
    "duration": 10,
    "start_time": "2023-01-18T14:52:09.921Z"
   },
   {
    "duration": 33604,
    "start_time": "2023-01-18T14:53:00.760Z"
   },
   {
    "duration": 168,
    "start_time": "2023-01-18T14:54:46.253Z"
   },
   {
    "duration": 262,
    "start_time": "2023-01-18T14:55:37.359Z"
   },
   {
    "duration": 35,
    "start_time": "2023-01-18T14:56:16.813Z"
   },
   {
    "duration": 4,
    "start_time": "2023-01-18T15:01:11.052Z"
   },
   {
    "duration": 10,
    "start_time": "2023-01-18T15:01:33.322Z"
   },
   {
    "duration": 6,
    "start_time": "2023-01-18T15:01:35.036Z"
   },
   {
    "duration": 12,
    "start_time": "2023-01-18T15:01:46.788Z"
   },
   {
    "duration": 7,
    "start_time": "2023-01-18T15:01:47.140Z"
   },
   {
    "duration": 15,
    "start_time": "2023-01-18T15:02:45.161Z"
   },
   {
    "duration": 9,
    "start_time": "2023-01-18T15:02:49.247Z"
   },
   {
    "duration": 8,
    "start_time": "2023-01-18T15:02:52.003Z"
   },
   {
    "duration": 12772,
    "start_time": "2023-01-18T15:03:37.480Z"
   },
   {
    "duration": 43,
    "start_time": "2023-01-18T15:04:13.058Z"
   },
   {
    "duration": 101,
    "start_time": "2023-01-18T15:05:53.355Z"
   },
   {
    "duration": 35,
    "start_time": "2023-01-18T15:05:56.292Z"
   },
   {
    "duration": 245,
    "start_time": "2023-01-18T15:06:18.711Z"
   },
   {
    "duration": 93,
    "start_time": "2023-01-18T15:06:26.742Z"
   },
   {
    "duration": 33,
    "start_time": "2023-01-18T15:06:28.304Z"
   },
   {
    "duration": 2078,
    "start_time": "2023-01-18T16:47:04.636Z"
   },
   {
    "duration": 2070,
    "start_time": "2023-01-18T16:47:06.717Z"
   },
   {
    "duration": 1220,
    "start_time": "2023-01-18T16:47:08.788Z"
   },
   {
    "duration": 37,
    "start_time": "2023-01-18T16:47:10.010Z"
   },
   {
    "duration": 18,
    "start_time": "2023-01-18T16:47:10.048Z"
   },
   {
    "duration": 15,
    "start_time": "2023-01-18T16:47:10.068Z"
   },
   {
    "duration": 4,
    "start_time": "2023-01-18T16:47:10.084Z"
   },
   {
    "duration": 13,
    "start_time": "2023-01-18T16:47:10.090Z"
   },
   {
    "duration": 9,
    "start_time": "2023-01-18T16:47:10.105Z"
   },
   {
    "duration": 6,
    "start_time": "2023-01-18T16:47:10.116Z"
   },
   {
    "duration": 6,
    "start_time": "2023-01-18T16:47:10.123Z"
   },
   {
    "duration": 6,
    "start_time": "2023-01-18T16:47:10.131Z"
   },
   {
    "duration": 5,
    "start_time": "2023-01-18T16:47:10.138Z"
   },
   {
    "duration": 9,
    "start_time": "2023-01-18T16:47:10.144Z"
   },
   {
    "duration": 6,
    "start_time": "2023-01-18T16:47:10.154Z"
   },
   {
    "duration": 6,
    "start_time": "2023-01-18T16:47:10.162Z"
   },
   {
    "duration": 35,
    "start_time": "2023-01-18T16:47:10.169Z"
   },
   {
    "duration": 8,
    "start_time": "2023-01-18T16:47:10.206Z"
   },
   {
    "duration": 188,
    "start_time": "2023-01-18T16:47:10.216Z"
   },
   {
    "duration": 5,
    "start_time": "2023-01-18T16:47:10.406Z"
   },
   {
    "duration": 7,
    "start_time": "2023-01-18T16:47:10.412Z"
   },
   {
    "duration": 9,
    "start_time": "2023-01-18T16:47:10.421Z"
   },
   {
    "duration": 168,
    "start_time": "2023-01-18T16:47:10.432Z"
   },
   {
    "duration": 13,
    "start_time": "2023-01-18T16:47:10.602Z"
   },
   {
    "duration": 13,
    "start_time": "2023-01-18T16:47:10.617Z"
   },
   {
    "duration": 15,
    "start_time": "2023-01-18T16:47:10.632Z"
   },
   {
    "duration": 4,
    "start_time": "2023-01-18T16:47:10.649Z"
   },
   {
    "duration": 13,
    "start_time": "2023-01-18T16:47:10.656Z"
   },
   {
    "duration": 53,
    "start_time": "2023-01-18T16:47:10.671Z"
   },
   {
    "duration": 20,
    "start_time": "2023-01-18T16:47:10.725Z"
   },
   {
    "duration": 21,
    "start_time": "2023-01-18T16:47:10.746Z"
   },
   {
    "duration": 49,
    "start_time": "2023-01-18T16:47:10.769Z"
   },
   {
    "duration": 84,
    "start_time": "2023-01-18T16:47:10.820Z"
   },
   {
    "duration": 109,
    "start_time": "2023-01-18T16:47:10.907Z"
   },
   {
    "duration": 20899,
    "start_time": "2023-01-18T16:47:11.018Z"
   },
   {
    "duration": 71,
    "start_time": "2023-01-18T16:47:31.919Z"
   },
   {
    "duration": 154,
    "start_time": "2023-01-18T16:47:32.002Z"
   },
   {
    "duration": 24,
    "start_time": "2023-01-18T16:47:32.158Z"
   },
   {
    "duration": 38,
    "start_time": "2023-01-18T16:47:32.183Z"
   },
   {
    "duration": 184,
    "start_time": "2023-01-18T16:47:32.223Z"
   },
   {
    "duration": 21248,
    "start_time": "2023-01-18T16:47:32.409Z"
   },
   {
    "duration": 100,
    "start_time": "2023-01-18T16:47:53.660Z"
   },
   {
    "duration": 180,
    "start_time": "2023-01-18T16:47:53.762Z"
   },
   {
    "duration": 23,
    "start_time": "2023-01-18T16:47:53.944Z"
   },
   {
    "duration": 10,
    "start_time": "2023-01-18T16:47:53.968Z"
   },
   {
    "duration": 52,
    "start_time": "2023-01-18T16:47:53.980Z"
   },
   {
    "duration": 7,
    "start_time": "2023-01-18T16:47:54.034Z"
   },
   {
    "duration": 61,
    "start_time": "2023-01-18T16:47:54.043Z"
   },
   {
    "duration": 98,
    "start_time": "2023-01-18T16:47:54.106Z"
   },
   {
    "duration": 32842,
    "start_time": "2023-01-18T16:47:54.206Z"
   },
   {
    "duration": 179,
    "start_time": "2023-01-18T16:48:27.050Z"
   },
   {
    "duration": 249,
    "start_time": "2023-01-18T16:48:27.231Z"
   },
   {
    "duration": 42,
    "start_time": "2023-01-18T16:48:27.481Z"
   },
   {
    "duration": 8,
    "start_time": "2023-01-18T16:48:27.525Z"
   },
   {
    "duration": 5,
    "start_time": "2023-01-18T16:48:27.535Z"
   },
   {
    "duration": 62,
    "start_time": "2023-01-18T16:48:27.541Z"
   },
   {
    "duration": 98,
    "start_time": "2023-01-18T16:48:27.605Z"
   },
   {
    "duration": 12342,
    "start_time": "2023-01-18T16:48:27.705Z"
   },
   {
    "duration": 44,
    "start_time": "2023-01-18T16:48:40.049Z"
   },
   {
    "duration": 87,
    "start_time": "2023-01-18T16:48:40.104Z"
   },
   {
    "duration": 32,
    "start_time": "2023-01-18T16:48:40.202Z"
   },
   {
    "duration": 167,
    "start_time": "2023-01-18T16:48:40.236Z"
   },
   {
    "duration": 129,
    "start_time": "2023-01-18T16:48:40.404Z"
   },
   {
    "duration": 13,
    "start_time": "2023-01-18T16:48:40.535Z"
   },
   {
    "duration": 112,
    "start_time": "2023-01-18T16:48:40.550Z"
   },
   {
    "duration": 136,
    "start_time": "2023-01-18T16:48:40.664Z"
   },
   {
    "duration": 6,
    "start_time": "2023-01-18T16:48:40.803Z"
   },
   {
    "duration": 118,
    "start_time": "2023-01-18T16:51:20.913Z"
   },
   {
    "duration": 77448,
    "start_time": "2023-01-18T16:55:47.906Z"
   },
   {
    "duration": 77,
    "start_time": "2023-01-18T16:57:05.357Z"
   },
   {
    "duration": 2004,
    "start_time": "2023-01-18T16:58:55.813Z"
   },
   {
    "duration": 1995,
    "start_time": "2023-01-18T16:58:57.820Z"
   },
   {
    "duration": 5,
    "start_time": "2023-01-18T16:58:59.817Z"
   },
   {
    "duration": 37,
    "start_time": "2023-01-18T16:58:59.824Z"
   },
   {
    "duration": 16,
    "start_time": "2023-01-18T16:58:59.863Z"
   },
   {
    "duration": 15,
    "start_time": "2023-01-18T16:58:59.880Z"
   },
   {
    "duration": 4,
    "start_time": "2023-01-18T16:58:59.897Z"
   },
   {
    "duration": 5,
    "start_time": "2023-01-18T16:58:59.903Z"
   },
   {
    "duration": 9,
    "start_time": "2023-01-18T16:58:59.910Z"
   },
   {
    "duration": 6,
    "start_time": "2023-01-18T16:58:59.922Z"
   },
   {
    "duration": 7,
    "start_time": "2023-01-18T16:58:59.929Z"
   },
   {
    "duration": 6,
    "start_time": "2023-01-18T16:59:00.138Z"
   },
   {
    "duration": 7,
    "start_time": "2023-01-18T16:59:01.058Z"
   },
   {
    "duration": 27,
    "start_time": "2023-01-18T16:59:01.078Z"
   },
   {
    "duration": 6,
    "start_time": "2023-01-18T16:59:01.544Z"
   },
   {
    "duration": 6,
    "start_time": "2023-01-18T16:59:02.269Z"
   },
   {
    "duration": 7,
    "start_time": "2023-01-18T16:59:03.626Z"
   },
   {
    "duration": 9,
    "start_time": "2023-01-18T16:59:04.075Z"
   },
   {
    "duration": 149,
    "start_time": "2023-01-18T16:59:04.721Z"
   },
   {
    "duration": 5,
    "start_time": "2023-01-18T16:59:05.081Z"
   },
   {
    "duration": 7,
    "start_time": "2023-01-18T16:59:05.482Z"
   },
   {
    "duration": 9,
    "start_time": "2023-01-18T16:59:05.820Z"
   },
   {
    "duration": 155,
    "start_time": "2023-01-18T16:59:06.037Z"
   },
   {
    "duration": 12,
    "start_time": "2023-01-18T16:59:12.258Z"
   },
   {
    "duration": 3,
    "start_time": "2023-01-18T16:59:14.707Z"
   },
   {
    "duration": 14,
    "start_time": "2023-01-18T16:59:14.929Z"
   },
   {
    "duration": 5,
    "start_time": "2023-01-18T16:59:15.342Z"
   },
   {
    "duration": 10,
    "start_time": "2023-01-18T16:59:15.633Z"
   },
   {
    "duration": 38,
    "start_time": "2023-01-18T16:59:17.186Z"
   },
   {
    "duration": 18,
    "start_time": "2023-01-18T16:59:17.857Z"
   },
   {
    "duration": 19,
    "start_time": "2023-01-18T16:59:18.065Z"
   },
   {
    "duration": 19,
    "start_time": "2023-01-18T16:59:20.785Z"
   },
   {
    "duration": 61,
    "start_time": "2023-01-18T16:59:27.343Z"
   },
   {
    "duration": 21,
    "start_time": "2023-01-18T16:59:31.044Z"
   },
   {
    "duration": 78082,
    "start_time": "2023-01-18T16:59:40.027Z"
   },
   {
    "duration": 72,
    "start_time": "2023-01-18T17:01:12.582Z"
   },
   {
    "duration": 147,
    "start_time": "2023-01-18T17:02:04.950Z"
   },
   {
    "duration": 24,
    "start_time": "2023-01-18T17:02:08.765Z"
   },
   {
    "duration": 147,
    "start_time": "2023-01-18T17:02:48.062Z"
   },
   {
    "duration": 23,
    "start_time": "2023-01-18T17:02:48.443Z"
   },
   {
    "duration": 24,
    "start_time": "2023-01-18T17:09:48.571Z"
   },
   {
    "duration": 8,
    "start_time": "2023-01-18T17:09:48.926Z"
   },
   {
    "duration": 24,
    "start_time": "2023-01-18T17:10:41.772Z"
   },
   {
    "duration": 20,
    "start_time": "2023-01-18T17:10:46.770Z"
   },
   {
    "duration": 22,
    "start_time": "2023-01-18T17:10:49.355Z"
   },
   {
    "duration": 11,
    "start_time": "2023-01-18T17:11:17.642Z"
   },
   {
    "duration": 383973,
    "start_time": "2023-01-18T17:12:09.630Z"
   },
   {
    "duration": 83,
    "start_time": "2023-01-18T17:18:33.605Z"
   },
   {
    "duration": 229,
    "start_time": "2023-01-18T17:19:10.245Z"
   },
   {
    "duration": 165,
    "start_time": "2023-01-18T17:22:02.437Z"
   },
   {
    "duration": 24,
    "start_time": "2023-01-18T17:22:08.078Z"
   },
   {
    "duration": 9,
    "start_time": "2023-01-18T17:25:49.474Z"
   },
   {
    "duration": 30,
    "start_time": "2023-01-18T17:25:49.820Z"
   },
   {
    "duration": 6,
    "start_time": "2023-01-18T17:25:50.216Z"
   },
   {
    "duration": 29,
    "start_time": "2023-01-18T17:27:03.252Z"
   },
   {
    "duration": 8,
    "start_time": "2023-01-18T17:27:03.432Z"
   },
   {
    "duration": 8,
    "start_time": "2023-01-18T17:27:49.876Z"
   },
   {
    "duration": 202600,
    "start_time": "2023-01-18T17:39:45.937Z"
   },
   {
    "duration": 126331,
    "start_time": "2023-01-18T17:44:11.081Z"
   },
   {
    "duration": 350,
    "start_time": "2023-01-18T17:47:12.531Z"
   },
   {
    "duration": 236,
    "start_time": "2023-01-18T17:47:49.744Z"
   },
   {
    "duration": 30,
    "start_time": "2023-01-18T17:47:53.844Z"
   },
   {
    "duration": 53,
    "start_time": "2023-01-18T17:58:50.453Z"
   },
   {
    "duration": 10,
    "start_time": "2023-01-18T17:58:51.068Z"
   },
   {
    "duration": 8,
    "start_time": "2023-01-18T17:58:57.561Z"
   },
   {
    "duration": 73002,
    "start_time": "2023-01-18T18:00:11.846Z"
   },
   {
    "duration": 46,
    "start_time": "2023-01-18T18:02:15.260Z"
   },
   {
    "duration": 97,
    "start_time": "2023-01-18T18:03:56.295Z"
   },
   {
    "duration": 44,
    "start_time": "2023-01-18T18:04:00.407Z"
   },
   {
    "duration": 75101,
    "start_time": "2023-01-18T18:05:37.496Z"
   },
   {
    "duration": 158,
    "start_time": "2023-01-18T18:18:08.715Z"
   },
   {
    "duration": 129,
    "start_time": "2023-01-18T18:18:11.806Z"
   },
   {
    "duration": 15,
    "start_time": "2023-01-18T18:18:14.295Z"
   },
   {
    "duration": 45,
    "start_time": "2023-01-18T18:21:57.577Z"
   },
   {
    "duration": 364,
    "start_time": "2023-01-18T18:22:22.757Z"
   },
   {
    "duration": 247143,
    "start_time": "2023-01-18T18:31:23.506Z"
   },
   {
    "duration": 138,
    "start_time": "2023-01-18T18:42:10.878Z"
   },
   {
    "duration": 6,
    "start_time": "2023-01-18T18:42:11.947Z"
   },
   {
    "duration": 5,
    "start_time": "2023-01-18T18:42:46.056Z"
   },
   {
    "duration": 7,
    "start_time": "2023-01-18T18:44:57.679Z"
   },
   {
    "duration": 379,
    "start_time": "2023-01-18T18:46:35.071Z"
   },
   {
    "duration": 129,
    "start_time": "2023-01-18T18:47:21.740Z"
   },
   {
    "duration": 6,
    "start_time": "2023-01-18T18:47:22.559Z"
   },
   {
    "duration": 6,
    "start_time": "2023-01-18T18:47:24.308Z"
   },
   {
    "duration": 110,
    "start_time": "2023-01-18T19:00:53.070Z"
   },
   {
    "duration": 4,
    "start_time": "2023-01-18T19:01:22.881Z"
   },
   {
    "duration": 6,
    "start_time": "2023-01-18T19:01:28.404Z"
   }
  ],
  "kernelspec": {
   "display_name": "Python 3 (ipykernel)",
   "language": "python",
   "name": "python3"
  },
  "language_info": {
   "codemirror_mode": {
    "name": "ipython",
    "version": 3
   },
   "file_extension": ".py",
   "mimetype": "text/x-python",
   "name": "python",
   "nbconvert_exporter": "python",
   "pygments_lexer": "ipython3",
   "version": "3.10.9"
  },
  "toc": {
   "base_numbering": 1,
   "nav_menu": {},
   "number_sections": true,
   "sideBar": true,
   "skip_h1_title": true,
   "title_cell": "Содержание",
   "title_sidebar": "Contents",
   "toc_cell": true,
   "toc_position": {
    "height": "calc(100% - 180px)",
    "left": "10px",
    "top": "150px",
    "width": "384.25px"
   },
   "toc_section_display": true,
   "toc_window_display": true
  }
 },
 "nbformat": 4,
 "nbformat_minor": 2
}
