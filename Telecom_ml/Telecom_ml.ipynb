{
 "cells": [
  {
   "cell_type": "markdown",
   "metadata": {
    "toc": true
   },
   "source": [
    "<h1>Table of Contents<span class=\"tocSkip\"></span></h1>\n",
    "<div class=\"toc\"><ul class=\"toc-item\"><li><span><a href=\"#Откройте-и-изучите-файл\" data-toc-modified-id=\"Откройте-и-изучите-файл-1\"><span class=\"toc-item-num\">1&nbsp;&nbsp;</span>Откройте и изучите файл</a></span></li><li><span><a href=\"#Разбейте-данные-на-выборки\" data-toc-modified-id=\"Разбейте-данные-на-выборки-2\"><span class=\"toc-item-num\">2&nbsp;&nbsp;</span>Разбейте данные на выборки</a></span></li><li><span><a href=\"#Исследуйте-модели\" data-toc-modified-id=\"Исследуйте-модели-3\"><span class=\"toc-item-num\">3&nbsp;&nbsp;</span>Исследуйте модели</a></span><ul class=\"toc-item\"><li><span><a href=\"#Дерево-решений\" data-toc-modified-id=\"Дерево-решений-3.1\"><span class=\"toc-item-num\">3.1&nbsp;&nbsp;</span>Дерево решений</a></span></li><li><span><a href=\"#Случайный-лес\" data-toc-modified-id=\"Случайный-лес-3.2\"><span class=\"toc-item-num\">3.2&nbsp;&nbsp;</span>Случайный лес</a></span></li><li><span><a href=\"#Логистическая-регрессия\" data-toc-modified-id=\"Логистическая-регрессия-3.3\"><span class=\"toc-item-num\">3.3&nbsp;&nbsp;</span>Логистическая регрессия</a></span></li></ul></li><li><span><a href=\"#Проверьте-модель-на-тестовой-выборке\" data-toc-modified-id=\"Проверьте-модель-на-тестовой-выборке-4\"><span class=\"toc-item-num\">4&nbsp;&nbsp;</span>Проверьте модель на тестовой выборке</a></span></li><li><span><a href=\"#Вывод\" data-toc-modified-id=\"Вывод-5\"><span class=\"toc-item-num\">5&nbsp;&nbsp;</span>Вывод</a></span></li><li><span><a href=\"#(бонус)-Проверьте-модели-на-адекватность\" data-toc-modified-id=\"(бонус)-Проверьте-модели-на-адекватность-6\"><span class=\"toc-item-num\">6&nbsp;&nbsp;</span>(бонус) Проверьте модели на адекватность</a></span></li></ul></div>"
   ]
  },
  {
   "cell_type": "markdown",
   "metadata": {},
   "source": [
    "# Рекомендация тарифов"
   ]
  },
  {
   "cell_type": "markdown",
   "metadata": {},
   "source": [
    "В нашем распоряжении данные о поведении клиентов, которые уже перешли на новые тарифы. Нужно построить модель для задачи классификации, которая выберет подходящий тариф."
   ]
  },
  {
   "cell_type": "markdown",
   "metadata": {},
   "source": [
    "## Откройте и изучите файл"
   ]
  },
  {
   "cell_type": "code",
   "execution_count": 1,
   "metadata": {},
   "outputs": [],
   "source": [
    "import pandas as pd\n",
    "from sklearn.tree import DecisionTreeClassifier\n",
    "from sklearn.ensemble import RandomForestClassifier\n",
    "from sklearn.linear_model import LogisticRegression \n",
    "from sklearn.metrics import accuracy_score\n",
    "from sklearn.model_selection import train_test_split\n",
    "from sklearn.metrics import mean_squared_error\n",
    "from joblib import dump\n",
    "import numpy as np\n",
    "from sklearn.metrics import precision_score\n",
    "from sklearn.metrics import recall_score\n"
   ]
  },
  {
   "cell_type": "code",
   "execution_count": 2,
   "metadata": {},
   "outputs": [],
   "source": [
    "try:\n",
    "     df = pd.read_csv(r\"C:\\Проекты Яндекс.Практикум\\6. Введение в машинное обучение. Мобильная связь\\Датасет\\users_behavior.csv\")\n",
    "except: \n",
    "    df = pd.read_csv('/datasets/users_behavior.csv')"
   ]
  },
  {
   "cell_type": "code",
   "execution_count": 3,
   "metadata": {
    "scrolled": false
   },
   "outputs": [
    {
     "data": {
      "text/html": [
       "<div>\n",
       "<style scoped>\n",
       "    .dataframe tbody tr th:only-of-type {\n",
       "        vertical-align: middle;\n",
       "    }\n",
       "\n",
       "    .dataframe tbody tr th {\n",
       "        vertical-align: top;\n",
       "    }\n",
       "\n",
       "    .dataframe thead th {\n",
       "        text-align: right;\n",
       "    }\n",
       "</style>\n",
       "<table border=\"1\" class=\"dataframe\">\n",
       "  <thead>\n",
       "    <tr style=\"text-align: right;\">\n",
       "      <th></th>\n",
       "      <th>calls</th>\n",
       "      <th>minutes</th>\n",
       "      <th>messages</th>\n",
       "      <th>mb_used</th>\n",
       "      <th>is_ultra</th>\n",
       "    </tr>\n",
       "  </thead>\n",
       "  <tbody>\n",
       "    <tr>\n",
       "      <th>0</th>\n",
       "      <td>40.0</td>\n",
       "      <td>311.90</td>\n",
       "      <td>83.0</td>\n",
       "      <td>19915.42</td>\n",
       "      <td>0</td>\n",
       "    </tr>\n",
       "    <tr>\n",
       "      <th>1</th>\n",
       "      <td>85.0</td>\n",
       "      <td>516.75</td>\n",
       "      <td>56.0</td>\n",
       "      <td>22696.96</td>\n",
       "      <td>0</td>\n",
       "    </tr>\n",
       "    <tr>\n",
       "      <th>2</th>\n",
       "      <td>77.0</td>\n",
       "      <td>467.66</td>\n",
       "      <td>86.0</td>\n",
       "      <td>21060.45</td>\n",
       "      <td>0</td>\n",
       "    </tr>\n",
       "    <tr>\n",
       "      <th>3</th>\n",
       "      <td>106.0</td>\n",
       "      <td>745.53</td>\n",
       "      <td>81.0</td>\n",
       "      <td>8437.39</td>\n",
       "      <td>1</td>\n",
       "    </tr>\n",
       "    <tr>\n",
       "      <th>4</th>\n",
       "      <td>66.0</td>\n",
       "      <td>418.74</td>\n",
       "      <td>1.0</td>\n",
       "      <td>14502.75</td>\n",
       "      <td>0</td>\n",
       "    </tr>\n",
       "  </tbody>\n",
       "</table>\n",
       "</div>"
      ],
      "text/plain": [
       "   calls  minutes  messages   mb_used  is_ultra\n",
       "0   40.0   311.90      83.0  19915.42         0\n",
       "1   85.0   516.75      56.0  22696.96         0\n",
       "2   77.0   467.66      86.0  21060.45         0\n",
       "3  106.0   745.53      81.0   8437.39         1\n",
       "4   66.0   418.74       1.0  14502.75         0"
      ]
     },
     "execution_count": 3,
     "metadata": {},
     "output_type": "execute_result"
    }
   ],
   "source": [
    "df.head()"
   ]
  },
  {
   "cell_type": "code",
   "execution_count": 4,
   "metadata": {
    "scrolled": true
   },
   "outputs": [
    {
     "name": "stdout",
     "output_type": "stream",
     "text": [
      "<class 'pandas.core.frame.DataFrame'>\n",
      "RangeIndex: 3214 entries, 0 to 3213\n",
      "Data columns (total 5 columns):\n",
      " #   Column    Non-Null Count  Dtype  \n",
      "---  ------    --------------  -----  \n",
      " 0   calls     3214 non-null   float64\n",
      " 1   minutes   3214 non-null   float64\n",
      " 2   messages  3214 non-null   float64\n",
      " 3   mb_used   3214 non-null   float64\n",
      " 4   is_ultra  3214 non-null   int64  \n",
      "dtypes: float64(4), int64(1)\n",
      "memory usage: 125.7 KB\n"
     ]
    }
   ],
   "source": [
    "df.info()"
   ]
  },
  {
   "cell_type": "markdown",
   "metadata": {},
   "source": [
    "Импортировали библиотеки\n",
    "\n",
    "Загрузили и открыли файл с данными\n",
    "\n",
    "Датасет состоит из 3214 строк и 5 столбцов. Есть данные:\n",
    "\n",
    "calls - количество звонков за месяц;\n",
    "minutes — суммарная длительность звонков в минутах за месяц,\n",
    "messages — количество sms-сообщений за месяц,\n",
    "mb_used — израсходованный интернет-трафик в Мб за месяц,\n",
    "is_ultra — каким тарифом пользовался в течение месяца («Ультра» — 1, «Смарт» — 0).\n",
    "\n",
    "Все столбцы кроме \"is_ultra\" имеют тип данных float. \"is_ultra\" типа данных - int. Пропусков нет\n"
   ]
  },
  {
   "cell_type": "code",
   "execution_count": 5,
   "metadata": {
    "scrolled": true
   },
   "outputs": [
    {
     "data": {
      "text/plain": [
       "0"
      ]
     },
     "execution_count": 5,
     "metadata": {},
     "output_type": "execute_result"
    }
   ],
   "source": [
    "df.duplicated().sum()"
   ]
  },
  {
   "cell_type": "markdown",
   "metadata": {},
   "source": [
    "Не найдено явных дубликатов\n"
   ]
  },
  {
   "cell_type": "code",
   "execution_count": 6,
   "metadata": {},
   "outputs": [
    {
     "data": {
      "text/plain": [
       "array([0, 1])"
      ]
     },
     "execution_count": 6,
     "metadata": {},
     "output_type": "execute_result"
    }
   ],
   "source": [
    "df['is_ultra'].unique()"
   ]
  },
  {
   "cell_type": "markdown",
   "metadata": {},
   "source": [
    "Убедились, что столбец is_ultra заполнен только значениями тарифов 0 и 1"
   ]
  },
  {
   "cell_type": "code",
   "execution_count": 7,
   "metadata": {},
   "outputs": [
    {
     "data": {
      "text/plain": [
       "count    3214.000000\n",
       "mean       63.038892\n",
       "std        33.236368\n",
       "min         0.000000\n",
       "25%        40.000000\n",
       "50%        62.000000\n",
       "75%        82.000000\n",
       "max       244.000000\n",
       "Name: calls, dtype: float64"
      ]
     },
     "execution_count": 7,
     "metadata": {},
     "output_type": "execute_result"
    }
   ],
   "source": [
    "df['calls'].describe()"
   ]
  },
  {
   "cell_type": "markdown",
   "metadata": {},
   "source": [
    "Изучили столбец с количеством звонков. Медианное и среднее практически совпадают 62 и 63 звонка в месяц, т. е. выбросов нет. Максимальное количество звонков 244, минимальное 0 (звонки не совершались)"
   ]
  },
  {
   "cell_type": "code",
   "execution_count": 8,
   "metadata": {},
   "outputs": [
    {
     "data": {
      "text/plain": [
       "count    3214.000000\n",
       "mean      438.208787\n",
       "std       234.569872\n",
       "min         0.000000\n",
       "25%       274.575000\n",
       "50%       430.600000\n",
       "75%       571.927500\n",
       "max      1632.060000\n",
       "Name: minutes, dtype: float64"
      ]
     },
     "execution_count": 8,
     "metadata": {},
     "output_type": "execute_result"
    }
   ],
   "source": [
    "df['minutes'].describe()"
   ]
  },
  {
   "cell_type": "markdown",
   "metadata": {},
   "source": [
    "Изучили столбец с общей продолжительностью звонков за месяц. Медиана и средняя также близки: 430 и 438 (около 7 часов). Максимальная общая продолжительность за месяц составила 1632 минуты, т. е. 27 часов. То есть из 30 суток некий абонент проговорил в общей сложности сутки. "
   ]
  },
  {
   "cell_type": "code",
   "execution_count": 9,
   "metadata": {},
   "outputs": [
    {
     "data": {
      "text/plain": [
       "count    3214.000000\n",
       "mean       38.281269\n",
       "std        36.148326\n",
       "min         0.000000\n",
       "25%         9.000000\n",
       "50%        30.000000\n",
       "75%        57.000000\n",
       "max       224.000000\n",
       "Name: messages, dtype: float64"
      ]
     },
     "execution_count": 9,
     "metadata": {},
     "output_type": "execute_result"
    }
   ],
   "source": [
    "df['messages'].describe()"
   ]
  },
  {
   "cell_type": "markdown",
   "metadata": {},
   "source": [
    "Изучили столбец с количеством отправленных за месяц сообщений. В среднем абоненты отправляют 30-38 сообщений в месяц. Немного, так как в основном люди пользуются мессенджерами вроде whatsapp и whatsapp и telegram."
   ]
  },
  {
   "cell_type": "code",
   "execution_count": 10,
   "metadata": {},
   "outputs": [
    {
     "data": {
      "text/plain": [
       "count     3214.000000\n",
       "mean     17207.673836\n",
       "std       7570.968246\n",
       "min          0.000000\n",
       "25%      12491.902500\n",
       "50%      16943.235000\n",
       "75%      21424.700000\n",
       "max      49745.730000\n",
       "Name: mb_used, dtype: float64"
      ]
     },
     "execution_count": 10,
     "metadata": {},
     "output_type": "execute_result"
    }
   ],
   "source": [
    "df['mb_used'].describe()"
   ]
  },
  {
   "cell_type": "markdown",
   "metadata": {},
   "source": [
    "Изучили стобец с количеством потраченных Мб. Медианное значение 16943 Мб, в 2,9 меньше, чем максимальное 49745 Мб. Возможно, пользователи, которые используют почти 50 Гб не имеют возможности пользоваться wifi"
   ]
  },
  {
   "cell_type": "markdown",
   "metadata": {},
   "source": [
    "**Вывод** \n",
    "\n",
    "Датасет заполнен корректно: нет явных дубликатов, пропусков, типы данных не требуют изменений. Всего для анализа 3214 записей. Информация представлена по основным характеристикам тарифов, на которые пользователи опираются при выборе. "
   ]
  },
  {
   "cell_type": "markdown",
   "metadata": {},
   "source": [
    "## Разбейте данные на выборки"
   ]
  },
  {
   "cell_type": "code",
   "execution_count": 11,
   "metadata": {},
   "outputs": [],
   "source": [
    "features = df.drop(['is_ultra'], axis=1)\n",
    "target = df['is_ultra']  \n",
    "\n",
    "features_train, features_other, target_train, target_other = train_test_split(\n",
    "    features, target, test_size=0.4, random_state=12345)\n",
    "\n",
    "features_valid, features_test, target_valid, target_test =\\\n",
    "train_test_split(features_other, target_other, test_size=0.5, random_state=12345)"
   ]
  },
  {
   "cell_type": "code",
   "execution_count": 12,
   "metadata": {},
   "outputs": [
    {
     "name": "stdout",
     "output_type": "stream",
     "text": [
      "(1928, 4) (643, 4) (643, 4)\n"
     ]
    }
   ],
   "source": [
    "# Код ревьюера\n",
    "print(features_train.shape, features_valid.shape, features_test.shape)"
   ]
  },
  {
   "cell_type": "markdown",
   "metadata": {},
   "source": [
    "Разделили данные на 3 выборки: обучающую (60%), валидационную (20%) и тестовую (20%). Целевым признаком выбран солбец is_ultra, обозначающий название тарифа \"Смарт\" или \"Ультра\"\n",
    "\n",
    "\n"
   ]
  },
  {
   "cell_type": "markdown",
   "metadata": {},
   "source": [
    "## Исследуйте модели"
   ]
  },
  {
   "cell_type": "markdown",
   "metadata": {},
   "source": [
    "### Дерево решений"
   ]
  },
  {
   "cell_type": "code",
   "execution_count": 13,
   "metadata": {},
   "outputs": [
    {
     "name": "stdout",
     "output_type": "stream",
     "text": [
      "max_depth = 1 : 0.7542768273716952\n",
      "max_depth = 2 : 0.7822706065318819\n",
      "max_depth = 3 : 0.7853810264385692\n",
      "max_depth = 4 : 0.7791601866251944\n",
      "max_depth = 5 : 0.7791601866251944\n"
     ]
    }
   ],
   "source": [
    "for depth in range(1, 6):\n",
    "    model = DecisionTreeClassifier(random_state=12345, max_depth=depth)\n",
    "\n",
    "    model.fit(features_train , target_train)\n",
    "\n",
    "    predictions_valid = model.predict(features_valid )\n",
    "\n",
    "    print(\"max_depth =\", depth, \": \", end='')\n",
    "    print(accuracy_score(target_valid, predictions_valid))"
   ]
  },
  {
   "cell_type": "markdown",
   "metadata": {},
   "source": [
    "Применили модель \"Дерево решений\". С помощью цикла перебрали значения максимальной глубины от 1 до 5. Для каждого значения максимальной глуибины вывели значение accuracy (доля правильных ответов). Самый высокий показатель accuracy = 0,785 удалось достичь при глубине = 3"
   ]
  },
  {
   "cell_type": "markdown",
   "metadata": {},
   "source": [
    "### Случайный лес"
   ]
  },
  {
   "cell_type": "code",
   "execution_count": 21,
   "metadata": {},
   "outputs": [
    {
     "name": "stdout",
     "output_type": "stream",
     "text": [
      "Accuracy наилучшей модели на валидационной выборке: 0.7807153965785381 n_estimators: 6\n"
     ]
    }
   ],
   "source": [
    "best_model = None\n",
    "best_result = 0\n",
    "for est in range(1, 8):\n",
    "    model = RandomForestClassifier(random_state=12345, n_estimators=est) \n",
    "    model.fit(features_train, target_train) \n",
    "    result = model.score(features_valid, target_valid)\n",
    "    if result > best_result:\n",
    "        best_model = model\n",
    "        best_result =  result \n",
    "        best_est = est\n",
    "\n",
    "print(\"Accuracy наилучшей модели на валидационной выборке:\", best_result, 'n_estimators:',  best_est)"
   ]
  },
  {
   "cell_type": "markdown",
   "metadata": {},
   "source": [
    "Применили модель \"Случайный лес\". В цикле перебрали значения n_estimators (количество деревьев) от 1 до 8. Лучший показатель accuracy = 0,782 удалось достичь при количестве деревьев = 8. "
   ]
  },
  {
   "cell_type": "markdown",
   "metadata": {},
   "source": [
    "### Логистическая регрессия"
   ]
  },
  {
   "cell_type": "code",
   "execution_count": 15,
   "metadata": {},
   "outputs": [
    {
     "name": "stdout",
     "output_type": "stream",
     "text": [
      "0.7107309486780715\n"
     ]
    }
   ],
   "source": [
    "model = LogisticRegression(random_state=12345, solver='lbfgs', max_iter=1000) \n",
    "model.fit(features_train , target_train) \n",
    "model.predict(features_train ) \n",
    "\n",
    "\n",
    "dump(model, 'model_9_1.joblib')\n",
    "print(model.score(features_valid, target_valid)  )"
   ]
  },
  {
   "cell_type": "markdown",
   "metadata": {},
   "source": [
    "Применили модель \"Логическая регрессия\". Выбрали алгоритм lbfgs для построения модели, как самый распространенный. Максимальное количество итераций сделали равным 1000. В результате получили долю правильных ответов = 0,71"
   ]
  },
  {
   "cell_type": "markdown",
   "metadata": {},
   "source": [
    "## Проверьте модель на тестовой выборке"
   ]
  },
  {
   "cell_type": "markdown",
   "metadata": {},
   "source": [
    "Наиболее эффективной моделью в рамках данного задания считаем \"Случайный лес\". У нее высокий показатель доли правильных ответов = 0,782. Это немного меньше, чем у Решающего дерева, но мы знаем про склонность дерева к переобучению. Accuracy случайного леса выше, чем у Логической регрессии. \n",
    "\n",
    "Мы знаем, что при большом количестве деревьев Лес медленнее работает. В нашей задачи высоких показателей accuracy удалось достичь при 8 деревьях, поэтому считаем, что в данном случае медленная работа нам не грозит\n"
   ]
  },
  {
   "cell_type": "code",
   "execution_count": 16,
   "metadata": {
    "scrolled": true
   },
   "outputs": [
    {
     "name": "stdout",
     "output_type": "stream",
     "text": [
      "Accuracy модели на тестовой выборке: 0.7869362363919129\n"
     ]
    }
   ],
   "source": [
    "model = RandomForestClassifier(random_state=12345, n_estimators=8) \n",
    "model.fit(features_train, target_train) \n",
    "result = model.score(features_test, target_test)\n",
    "\n",
    "predictions_test = model.predict(features_test)\n",
    "print(\"Accuracy модели на тестовой выборке:\", result)\n",
    "\n"
   ]
  },
  {
   "cell_type": "code",
   "execution_count": 17,
   "metadata": {
    "scrolled": false
   },
   "outputs": [
    {
     "name": "stdout",
     "output_type": "stream",
     "text": [
      "Ошибок: 137\n"
     ]
    }
   ],
   "source": [
    "def error_count(targets, predictions):\n",
    "    targets = targets.tolist()\n",
    "    predictions = predictions.tolist()\n",
    "    err = 0\n",
    "    for i in range(len(targets)):\n",
    "        if targets[i] != predictions[i]:\n",
    "            err+=1\n",
    "    return err\n",
    "\n",
    "print(\"Ошибок:\", error_count(target_test, predictions_test))"
   ]
  },
  {
   "cell_type": "markdown",
   "metadata": {},
   "source": [
    "Проверили модель Случаный лес с 8 деревьями на тестовой выборке. Показатель accuracy по прежнему высокий = 0,787. Количество ошибок 137. "
   ]
  },
  {
   "cell_type": "markdown",
   "metadata": {},
   "source": [
    "## Вывод"
   ]
  },
  {
   "cell_type": "markdown",
   "metadata": {},
   "source": [
    "В результате исследования был изучен датасет с данными о поведение пользователей мобильной связи. Данные представлены корректно, без явных дубликатов и пропусков. \n",
    "\n",
    "Предоставлена информация по затратам в месяц: количество звонков, общая продолжительность звонков, количество сообщений, объем истраченного интернета, используемый тариф. \n",
    "\n",
    "Данные были разделены на 3 выборки: обучающую (60%), валидационную (20%) и тестовую (20%). Целевым признаком выбрано название тарифа \"Смарт\" или \"Ультра\"\n",
    "\n",
    "Применены три модели машинного обучения: Дерево решений (добились доли правильных ответов (accuracy) = 0,785), Случайный лес (accuracy=0,782), Логистическая регрессия (accuracy=0,71).\n",
    "\n",
    "Для дальнейшей работы и проверки на тестовой выборке взяли модель Случайный лес со значением гиперпараметра \"количество деревьев\" = 8. Отказались от модели Дерево решений из-за ее склонности к переобучению. Отказались от логистической регресси по причине более низкого значения accuracy. \n",
    "\n",
    "На тестовой выборке получили высокое значение accuracy = 0,787. \n",
    "\n",
    "\n"
   ]
  },
  {
   "cell_type": "markdown",
   "metadata": {},
   "source": [
    "## (бонус) Проверьте модели на адекватность"
   ]
  },
  {
   "cell_type": "markdown",
   "metadata": {},
   "source": [
    "Если я правильно понимаю метрики полноты и точности работают только с двумя вариантами ответов (бинарная классификация). И функции ниже посчитались, так как тарифы в датасете равны 1 или 0.\n",
    "\n",
    "1 = тариф Ультра, 0 = тариф Смарт\n",
    "\n",
    "Полагаю, что 1 по умолчанию является значением Positive\n",
    "\n",
    "Если бы в столбце с тарифом значение имело бы тип object: 'ultra'  и 'smart', то нужно было бы как-то предварительно обозначить, что считать Positive"
   ]
  },
  {
   "cell_type": "code",
   "execution_count": 18,
   "metadata": {},
   "outputs": [
    {
     "data": {
      "text/plain": [
       "0.7115384615384616"
      ]
     },
     "execution_count": 18,
     "metadata": {},
     "output_type": "execute_result"
    }
   ],
   "source": [
    "precision = precision_score(target_test, predictions_test)\n",
    "precision"
   ]
  },
  {
   "cell_type": "markdown",
   "metadata": {},
   "source": [
    "Для проверки модели на точность взяли тестовый набор данных. Применили функцию для расчета точности. Получили 0,71. \n",
    "\n",
    "71% ответов, обозначенных, как тариф Ультра, действительно, являются тарифом Ультра"
   ]
  },
  {
   "cell_type": "code",
   "execution_count": 19,
   "metadata": {},
   "outputs": [
    {
     "data": {
      "text/plain": [
       "0.5467980295566502"
      ]
     },
     "execution_count": 19,
     "metadata": {},
     "output_type": "execute_result"
    }
   ],
   "source": [
    "recall = recall_score(target_test, predictions_test)\n",
    "recall"
   ]
  },
  {
   "cell_type": "markdown",
   "metadata": {},
   "source": [
    "Для проверки модели на полноту также взяли тестовый набор данных. Полнота = 0,55. \n",
    "\n",
    "Из всех значений Ультра модель только 55% предсказала правильно"
   ]
  },
  {
   "cell_type": "markdown",
   "metadata": {},
   "source": [
    "**Похоже модель старается как можно чаще предсказать тариф Ультра, но попадает только в половине случаев.**\n",
    "\n",
    "**В датасете изначально было 75% строк с тарифом Ультра. Но мы не знаем, как модель разделила выборки и в какую из них Ультра и Смарт в каком соотношении попали.**"
   ]
  }
 ],
 "metadata": {
  "ExecuteTimeLog": [
   {
    "duration": 1116,
    "start_time": "2022-12-16T12:12:02.833Z"
   },
   {
    "duration": 80,
    "start_time": "2022-12-16T12:12:25.618Z"
   },
   {
    "duration": 41,
    "start_time": "2022-12-16T12:12:34.143Z"
   },
   {
    "duration": 1058,
    "start_time": "2022-12-18T10:32:56.397Z"
   },
   {
    "duration": 152,
    "start_time": "2022-12-18T10:32:57.457Z"
   },
   {
    "duration": 114,
    "start_time": "2022-12-18T10:32:58.376Z"
   },
   {
    "duration": 9,
    "start_time": "2022-12-18T10:53:34.723Z"
   },
   {
    "duration": 8,
    "start_time": "2022-12-18T11:10:43.081Z"
   },
   {
    "duration": 4,
    "start_time": "2022-12-18T11:11:06.718Z"
   },
   {
    "duration": 39,
    "start_time": "2022-12-18T11:11:07.123Z"
   },
   {
    "duration": 7,
    "start_time": "2022-12-18T11:11:07.427Z"
   },
   {
    "duration": 14,
    "start_time": "2022-12-18T11:11:07.750Z"
   },
   {
    "duration": 7,
    "start_time": "2022-12-18T11:11:52.903Z"
   },
   {
    "duration": 38,
    "start_time": "2022-12-18T11:11:52.991Z"
   },
   {
    "duration": 8,
    "start_time": "2022-12-18T11:11:53.291Z"
   },
   {
    "duration": 30,
    "start_time": "2022-12-18T11:11:53.591Z"
   },
   {
    "duration": 3,
    "start_time": "2022-12-18T11:12:31.962Z"
   },
   {
    "duration": 39,
    "start_time": "2022-12-18T11:12:32.119Z"
   },
   {
    "duration": 6,
    "start_time": "2022-12-18T11:12:32.392Z"
   },
   {
    "duration": 30,
    "start_time": "2022-12-18T11:12:32.670Z"
   },
   {
    "duration": 241,
    "start_time": "2022-12-18T11:13:58.427Z"
   },
   {
    "duration": 3,
    "start_time": "2022-12-18T11:15:20.659Z"
   },
   {
    "duration": 39,
    "start_time": "2022-12-18T11:15:20.853Z"
   },
   {
    "duration": 8,
    "start_time": "2022-12-18T11:15:21.129Z"
   },
   {
    "duration": 30,
    "start_time": "2022-12-18T11:15:21.552Z"
   },
   {
    "duration": 273,
    "start_time": "2022-12-18T11:15:21.995Z"
   },
   {
    "duration": 2582,
    "start_time": "2022-12-18T11:16:32.219Z"
   },
   {
    "duration": 3,
    "start_time": "2022-12-18T11:16:44.374Z"
   },
   {
    "duration": 1614,
    "start_time": "2022-12-18T11:16:46.899Z"
   },
   {
    "duration": 280,
    "start_time": "2022-12-18T11:34:34.470Z"
   },
   {
    "duration": 263,
    "start_time": "2022-12-18T11:35:38.319Z"
   },
   {
    "duration": 43,
    "start_time": "2022-12-18T11:36:59.619Z"
   },
   {
    "duration": 43,
    "start_time": "2022-12-18T11:37:41.745Z"
   },
   {
    "duration": 8,
    "start_time": "2022-12-18T11:38:48.913Z"
   },
   {
    "duration": 7,
    "start_time": "2022-12-18T11:38:57.368Z"
   },
   {
    "duration": 14,
    "start_time": "2022-12-18T11:41:15.668Z"
   },
   {
    "duration": 743,
    "start_time": "2022-12-18T11:41:41.142Z"
   },
   {
    "duration": 12,
    "start_time": "2022-12-18T11:46:12.580Z"
   },
   {
    "duration": 13,
    "start_time": "2022-12-18T11:46:19.464Z"
   },
   {
    "duration": 13,
    "start_time": "2022-12-18T11:47:00.430Z"
   },
   {
    "duration": 15,
    "start_time": "2022-12-18T11:49:24.625Z"
   },
   {
    "duration": 12,
    "start_time": "2022-12-18T11:49:28.560Z"
   },
   {
    "duration": 16,
    "start_time": "2022-12-18T11:49:44.104Z"
   },
   {
    "duration": 13,
    "start_time": "2022-12-18T11:56:21.790Z"
   },
   {
    "duration": 3,
    "start_time": "2022-12-18T12:00:38.071Z"
   },
   {
    "duration": 36,
    "start_time": "2022-12-18T12:00:38.220Z"
   },
   {
    "duration": 7,
    "start_time": "2022-12-18T12:00:38.522Z"
   },
   {
    "duration": 30,
    "start_time": "2022-12-18T12:00:38.971Z"
   },
   {
    "duration": 235,
    "start_time": "2022-12-18T12:00:39.463Z"
   },
   {
    "duration": 621,
    "start_time": "2022-12-18T12:00:39.980Z"
   },
   {
    "duration": 43,
    "start_time": "2022-12-18T12:00:40.696Z"
   },
   {
    "duration": 12,
    "start_time": "2022-12-18T12:00:40.741Z"
   },
   {
    "duration": 9,
    "start_time": "2022-12-18T12:03:11.709Z"
   },
   {
    "duration": 13,
    "start_time": "2022-12-18T12:03:21.107Z"
   },
   {
    "duration": 704,
    "start_time": "2022-12-18T12:03:31.663Z"
   },
   {
    "duration": 12,
    "start_time": "2022-12-18T12:04:05.546Z"
   },
   {
    "duration": 55,
    "start_time": "2022-12-18T12:04:43.535Z"
   },
   {
    "duration": 71,
    "start_time": "2022-12-18T12:05:00.420Z"
   },
   {
    "duration": 55,
    "start_time": "2022-12-18T12:05:04.922Z"
   },
   {
    "duration": 68,
    "start_time": "2022-12-18T12:07:25.820Z"
   },
   {
    "duration": 47,
    "start_time": "2022-12-18T12:07:32.043Z"
   },
   {
    "duration": 35,
    "start_time": "2022-12-18T12:07:43.007Z"
   },
   {
    "duration": 52,
    "start_time": "2022-12-18T12:07:59.735Z"
   },
   {
    "duration": 54,
    "start_time": "2022-12-18T12:08:11.233Z"
   },
   {
    "duration": 53,
    "start_time": "2022-12-18T12:16:20.307Z"
   },
   {
    "duration": 60,
    "start_time": "2022-12-18T12:16:36.565Z"
   },
   {
    "duration": 47,
    "start_time": "2022-12-18T12:20:14.135Z"
   },
   {
    "duration": 44,
    "start_time": "2022-12-18T12:20:22.820Z"
   },
   {
    "duration": 47,
    "start_time": "2022-12-18T12:27:08.256Z"
   },
   {
    "duration": 50,
    "start_time": "2022-12-18T12:27:26.530Z"
   },
   {
    "duration": 50,
    "start_time": "2022-12-18T12:27:33.371Z"
   },
   {
    "duration": 46,
    "start_time": "2022-12-18T12:28:06.379Z"
   },
   {
    "duration": 44,
    "start_time": "2022-12-18T12:28:33.898Z"
   },
   {
    "duration": 46,
    "start_time": "2022-12-18T12:28:46.113Z"
   },
   {
    "duration": 44,
    "start_time": "2022-12-18T12:30:58.214Z"
   },
   {
    "duration": 1058,
    "start_time": "2022-12-21T13:33:36.535Z"
   },
   {
    "duration": 147,
    "start_time": "2022-12-21T13:33:37.595Z"
   },
   {
    "duration": 7,
    "start_time": "2022-12-21T13:33:37.743Z"
   },
   {
    "duration": 30,
    "start_time": "2022-12-21T13:33:38.549Z"
   },
   {
    "duration": 260,
    "start_time": "2022-12-21T13:33:39.095Z"
   },
   {
    "duration": 1447,
    "start_time": "2022-12-21T13:33:39.658Z"
   },
   {
    "duration": 225,
    "start_time": "2022-12-21T13:33:41.109Z"
   },
   {
    "duration": 140,
    "start_time": "2022-12-21T13:33:41.335Z"
   },
   {
    "duration": 11,
    "start_time": "2022-12-21T13:36:06.813Z"
   },
   {
    "duration": 9,
    "start_time": "2022-12-21T13:36:12.259Z"
   },
   {
    "duration": 30,
    "start_time": "2022-12-21T13:40:26.118Z"
   },
   {
    "duration": 7,
    "start_time": "2022-12-21T13:40:27.076Z"
   },
   {
    "duration": 8,
    "start_time": "2022-12-21T13:40:27.539Z"
   },
   {
    "duration": 3,
    "start_time": "2022-12-21T13:40:34.111Z"
   },
   {
    "duration": 29,
    "start_time": "2022-12-21T13:40:35.322Z"
   },
   {
    "duration": 7,
    "start_time": "2022-12-21T13:40:39.754Z"
   },
   {
    "duration": 10,
    "start_time": "2022-12-21T13:40:40.772Z"
   },
   {
    "duration": 9,
    "start_time": "2022-12-21T13:40:44.882Z"
   },
   {
    "duration": 34,
    "start_time": "2022-12-21T13:40:45.423Z"
   },
   {
    "duration": 251,
    "start_time": "2022-12-21T13:40:46.001Z"
   },
   {
    "duration": 1822,
    "start_time": "2022-12-21T13:40:46.708Z"
   },
   {
    "duration": 201,
    "start_time": "2022-12-21T13:40:48.535Z"
   },
   {
    "duration": 74,
    "start_time": "2022-12-21T13:40:48.737Z"
   },
   {
    "duration": 9,
    "start_time": "2022-12-21T13:41:07.508Z"
   },
   {
    "duration": 10,
    "start_time": "2022-12-21T13:41:18.246Z"
   },
   {
    "duration": 9,
    "start_time": "2022-12-21T13:41:45.180Z"
   },
   {
    "duration": 47,
    "start_time": "2022-12-21T13:42:33.711Z"
   },
   {
    "duration": 45,
    "start_time": "2022-12-21T13:45:57.249Z"
   },
   {
    "duration": 47,
    "start_time": "2022-12-21T13:46:04.320Z"
   },
   {
    "duration": 6,
    "start_time": "2022-12-21T13:52:34.836Z"
   },
   {
    "duration": 4,
    "start_time": "2022-12-21T13:52:47.461Z"
   },
   {
    "duration": 8,
    "start_time": "2022-12-21T13:53:06.212Z"
   },
   {
    "duration": 5,
    "start_time": "2022-12-21T13:53:19.112Z"
   },
   {
    "duration": 7,
    "start_time": "2022-12-21T13:53:35.808Z"
   },
   {
    "duration": 7,
    "start_time": "2022-12-21T13:54:10.352Z"
   },
   {
    "duration": 5,
    "start_time": "2022-12-21T13:54:17.978Z"
   },
   {
    "duration": 4,
    "start_time": "2022-12-21T13:54:31.811Z"
   },
   {
    "duration": 4,
    "start_time": "2022-12-21T13:56:08.694Z"
   },
   {
    "duration": 4,
    "start_time": "2022-12-21T13:56:16.408Z"
   },
   {
    "duration": 2,
    "start_time": "2022-12-21T13:56:24.669Z"
   },
   {
    "duration": 33,
    "start_time": "2022-12-21T13:56:24.827Z"
   },
   {
    "duration": 9,
    "start_time": "2022-12-21T13:56:25.002Z"
   },
   {
    "duration": 10,
    "start_time": "2022-12-21T13:56:25.157Z"
   },
   {
    "duration": 8,
    "start_time": "2022-12-21T13:56:25.313Z"
   },
   {
    "duration": 9,
    "start_time": "2022-12-21T13:56:25.669Z"
   },
   {
    "duration": 7,
    "start_time": "2022-12-21T13:56:25.854Z"
   },
   {
    "duration": 4,
    "start_time": "2022-12-21T13:56:26.060Z"
   },
   {
    "duration": 34,
    "start_time": "2022-12-21T13:56:26.826Z"
   },
   {
    "duration": 249,
    "start_time": "2022-12-21T13:56:27.438Z"
   },
   {
    "duration": 699,
    "start_time": "2022-12-21T13:56:28.202Z"
   },
   {
    "duration": 49,
    "start_time": "2022-12-21T13:56:34.951Z"
   },
   {
    "duration": 4,
    "start_time": "2022-12-21T13:56:45.718Z"
   },
   {
    "duration": 4,
    "start_time": "2022-12-21T13:56:49.549Z"
   },
   {
    "duration": 45,
    "start_time": "2022-12-21T13:56:57.548Z"
   },
   {
    "duration": 4,
    "start_time": "2022-12-21T13:57:45.373Z"
   },
   {
    "duration": 31,
    "start_time": "2022-12-21T13:57:45.540Z"
   },
   {
    "duration": 10,
    "start_time": "2022-12-21T13:57:45.704Z"
   },
   {
    "duration": 13,
    "start_time": "2022-12-21T13:57:45.867Z"
   },
   {
    "duration": 7,
    "start_time": "2022-12-21T13:57:46.025Z"
   },
   {
    "duration": 7,
    "start_time": "2022-12-21T13:57:46.338Z"
   },
   {
    "duration": 7,
    "start_time": "2022-12-21T13:57:46.492Z"
   },
   {
    "duration": 4,
    "start_time": "2022-12-21T13:57:46.631Z"
   },
   {
    "duration": 30,
    "start_time": "2022-12-21T13:57:47.243Z"
   },
   {
    "duration": 240,
    "start_time": "2022-12-21T13:57:47.773Z"
   },
   {
    "duration": 670,
    "start_time": "2022-12-21T13:57:48.334Z"
   },
   {
    "duration": 140,
    "start_time": "2022-12-21T13:57:49.097Z"
   },
   {
    "duration": 59,
    "start_time": "2022-12-21T13:57:49.239Z"
   },
   {
    "duration": 48,
    "start_time": "2022-12-21T14:00:29.390Z"
   },
   {
    "duration": 42,
    "start_time": "2022-12-21T14:01:40.324Z"
   },
   {
    "duration": 47,
    "start_time": "2022-12-21T14:02:25.321Z"
   },
   {
    "duration": 55,
    "start_time": "2022-12-21T14:02:30.280Z"
   },
   {
    "duration": 48,
    "start_time": "2022-12-21T14:02:41.978Z"
   },
   {
    "duration": 51,
    "start_time": "2022-12-21T14:03:52.710Z"
   },
   {
    "duration": 56,
    "start_time": "2022-12-21T14:04:01.474Z"
   },
   {
    "duration": 3,
    "start_time": "2022-12-21T14:13:19.658Z"
   },
   {
    "duration": 7,
    "start_time": "2022-12-21T14:13:33.280Z"
   },
   {
    "duration": 3,
    "start_time": "2022-12-21T14:13:36.841Z"
   },
   {
    "duration": 7,
    "start_time": "2022-12-21T14:13:37.158Z"
   },
   {
    "duration": 22,
    "start_time": "2022-12-21T14:18:40.623Z"
   },
   {
    "duration": 0,
    "start_time": "2022-12-21T14:18:40.646Z"
   },
   {
    "duration": 3,
    "start_time": "2022-12-21T14:18:57.554Z"
   },
   {
    "duration": 3,
    "start_time": "2022-12-21T14:18:59.010Z"
   },
   {
    "duration": 8,
    "start_time": "2022-12-21T14:19:07.363Z"
   },
   {
    "duration": 4,
    "start_time": "2022-12-21T14:19:07.489Z"
   },
   {
    "duration": 3,
    "start_time": "2022-12-21T14:19:38.155Z"
   },
   {
    "duration": 3,
    "start_time": "2022-12-21T14:19:42.475Z"
   },
   {
    "duration": 32,
    "start_time": "2022-12-21T14:19:42.658Z"
   },
   {
    "duration": 9,
    "start_time": "2022-12-21T14:19:42.815Z"
   },
   {
    "duration": 10,
    "start_time": "2022-12-21T14:19:42.961Z"
   },
   {
    "duration": 10,
    "start_time": "2022-12-21T14:19:43.109Z"
   },
   {
    "duration": 8,
    "start_time": "2022-12-21T14:19:43.407Z"
   },
   {
    "duration": 7,
    "start_time": "2022-12-21T14:19:43.570Z"
   },
   {
    "duration": 6,
    "start_time": "2022-12-21T14:19:43.720Z"
   },
   {
    "duration": 33,
    "start_time": "2022-12-21T14:19:44.352Z"
   },
   {
    "duration": 326,
    "start_time": "2022-12-21T14:19:44.874Z"
   },
   {
    "duration": 1325,
    "start_time": "2022-12-21T14:19:45.478Z"
   },
   {
    "duration": 231,
    "start_time": "2022-12-21T14:19:46.806Z"
   },
   {
    "duration": 7,
    "start_time": "2022-12-21T14:19:47.039Z"
   },
   {
    "duration": 5,
    "start_time": "2022-12-21T14:19:55.953Z"
   },
   {
    "duration": 9,
    "start_time": "2022-12-21T14:20:10.465Z"
   },
   {
    "duration": 9,
    "start_time": "2022-12-21T14:20:16.862Z"
   },
   {
    "duration": 7,
    "start_time": "2022-12-21T14:20:20.720Z"
   },
   {
    "duration": 3,
    "start_time": "2022-12-21T14:23:13.657Z"
   },
   {
    "duration": 14,
    "start_time": "2022-12-21T14:23:14.698Z"
   },
   {
    "duration": 8,
    "start_time": "2022-12-21T14:23:22.014Z"
   },
   {
    "duration": 4,
    "start_time": "2022-12-21T14:23:37.543Z"
   },
   {
    "duration": 51,
    "start_time": "2022-12-21T14:24:43.795Z"
   },
   {
    "duration": 46,
    "start_time": "2022-12-21T14:24:53.515Z"
   },
   {
    "duration": 51,
    "start_time": "2022-12-21T14:25:00.644Z"
   },
   {
    "duration": 974,
    "start_time": "2022-12-21T14:26:38.575Z"
   },
   {
    "duration": 17,
    "start_time": "2022-12-21T14:27:08.927Z"
   },
   {
    "duration": 12,
    "start_time": "2022-12-21T14:27:09.319Z"
   },
   {
    "duration": 1083,
    "start_time": "2022-12-21T14:27:14.713Z"
   },
   {
    "duration": 5,
    "start_time": "2022-12-21T14:27:19.217Z"
   },
   {
    "duration": 30,
    "start_time": "2022-12-21T14:27:19.347Z"
   },
   {
    "duration": 14,
    "start_time": "2022-12-21T14:27:19.511Z"
   },
   {
    "duration": 12,
    "start_time": "2022-12-21T14:27:19.650Z"
   },
   {
    "duration": 8,
    "start_time": "2022-12-21T14:27:19.813Z"
   },
   {
    "duration": 18,
    "start_time": "2022-12-21T14:27:20.099Z"
   },
   {
    "duration": 8,
    "start_time": "2022-12-21T14:27:20.259Z"
   },
   {
    "duration": 4,
    "start_time": "2022-12-21T14:27:20.415Z"
   },
   {
    "duration": 30,
    "start_time": "2022-12-21T14:27:21.054Z"
   },
   {
    "duration": 245,
    "start_time": "2022-12-21T14:27:21.583Z"
   },
   {
    "duration": 777,
    "start_time": "2022-12-21T14:27:22.145Z"
   },
   {
    "duration": 202,
    "start_time": "2022-12-21T14:27:22.924Z"
   },
   {
    "duration": 7,
    "start_time": "2022-12-21T14:27:23.127Z"
   },
   {
    "duration": 28,
    "start_time": "2022-12-21T14:27:23.136Z"
   },
   {
    "duration": 12,
    "start_time": "2022-12-21T14:27:23.252Z"
   },
   {
    "duration": 9,
    "start_time": "2022-12-21T14:27:23.451Z"
   },
   {
    "duration": 934,
    "start_time": "2022-12-21T14:27:23.831Z"
   },
   {
    "duration": 58,
    "start_time": "2022-12-21T14:33:53.236Z"
   },
   {
    "duration": 50,
    "start_time": "2022-12-21T14:33:57.430Z"
   },
   {
    "duration": 70,
    "start_time": "2022-12-21T14:48:32.839Z"
   },
   {
    "duration": 94,
    "start_time": "2022-12-21T14:49:02.280Z"
   },
   {
    "duration": 72,
    "start_time": "2022-12-21T14:49:08.653Z"
   },
   {
    "duration": 75,
    "start_time": "2022-12-21T14:55:10.519Z"
   },
   {
    "duration": 4,
    "start_time": "2022-12-21T14:55:30.375Z"
   },
   {
    "duration": 49,
    "start_time": "2022-12-21T14:55:30.679Z"
   },
   {
    "duration": 16,
    "start_time": "2022-12-21T14:55:30.917Z"
   },
   {
    "duration": 15,
    "start_time": "2022-12-21T14:55:31.123Z"
   },
   {
    "duration": 10,
    "start_time": "2022-12-21T14:55:32.277Z"
   },
   {
    "duration": 7,
    "start_time": "2022-12-21T14:55:32.588Z"
   },
   {
    "duration": 8,
    "start_time": "2022-12-21T14:55:32.749Z"
   },
   {
    "duration": 5,
    "start_time": "2022-12-21T14:55:32.920Z"
   },
   {
    "duration": 44,
    "start_time": "2022-12-21T14:55:33.544Z"
   },
   {
    "duration": 293,
    "start_time": "2022-12-21T14:55:34.043Z"
   },
   {
    "duration": 2325,
    "start_time": "2022-12-21T14:55:34.584Z"
   },
   {
    "duration": 226,
    "start_time": "2022-12-21T14:55:36.911Z"
   },
   {
    "duration": 4,
    "start_time": "2022-12-21T14:55:37.138Z"
   },
   {
    "duration": 10,
    "start_time": "2022-12-21T14:55:37.144Z"
   },
   {
    "duration": 20,
    "start_time": "2022-12-21T14:55:37.156Z"
   },
   {
    "duration": 12,
    "start_time": "2022-12-21T14:55:37.177Z"
   },
   {
    "duration": 85,
    "start_time": "2022-12-21T14:55:37.203Z"
   },
   {
    "duration": 4,
    "start_time": "2022-12-21T17:15:08.592Z"
   },
   {
    "duration": 30,
    "start_time": "2022-12-21T17:15:08.766Z"
   },
   {
    "duration": 9,
    "start_time": "2022-12-21T17:15:08.951Z"
   },
   {
    "duration": 10,
    "start_time": "2022-12-21T17:15:09.159Z"
   },
   {
    "duration": 8,
    "start_time": "2022-12-21T17:15:09.355Z"
   },
   {
    "duration": 9,
    "start_time": "2022-12-21T17:15:13.741Z"
   },
   {
    "duration": 8,
    "start_time": "2022-12-21T17:15:13.752Z"
   },
   {
    "duration": 5,
    "start_time": "2022-12-21T17:15:13.762Z"
   },
   {
    "duration": 30,
    "start_time": "2022-12-21T17:15:13.769Z"
   },
   {
    "duration": 304,
    "start_time": "2022-12-21T17:15:13.801Z"
   },
   {
    "duration": 413,
    "start_time": "2022-12-21T17:15:14.107Z"
   },
   {
    "duration": 210,
    "start_time": "2022-12-21T17:15:14.521Z"
   },
   {
    "duration": 3,
    "start_time": "2022-12-21T17:15:14.733Z"
   },
   {
    "duration": 14,
    "start_time": "2022-12-21T17:15:14.738Z"
   },
   {
    "duration": 24,
    "start_time": "2022-12-21T17:15:14.754Z"
   },
   {
    "duration": 19,
    "start_time": "2022-12-21T17:15:14.780Z"
   },
   {
    "duration": 77,
    "start_time": "2022-12-21T17:15:14.800Z"
   },
   {
    "duration": 49,
    "start_time": "2022-12-21T17:15:45.215Z"
   },
   {
    "duration": 3,
    "start_time": "2022-12-21T17:16:03.349Z"
   },
   {
    "duration": 30,
    "start_time": "2022-12-21T17:16:04.010Z"
   },
   {
    "duration": 9,
    "start_time": "2022-12-21T17:16:04.355Z"
   },
   {
    "duration": 8,
    "start_time": "2022-12-21T17:16:11.056Z"
   },
   {
    "duration": 7,
    "start_time": "2022-12-21T17:16:11.268Z"
   },
   {
    "duration": 8,
    "start_time": "2022-12-21T17:16:17.331Z"
   },
   {
    "duration": 32,
    "start_time": "2022-12-21T17:16:18.062Z"
   },
   {
    "duration": 275,
    "start_time": "2022-12-21T17:16:18.922Z"
   },
   {
    "duration": 1321,
    "start_time": "2022-12-21T17:16:20.103Z"
   },
   {
    "duration": 50,
    "start_time": "2022-12-21T17:16:22.257Z"
   },
   {
    "duration": 4,
    "start_time": "2022-12-21T17:16:22.438Z"
   },
   {
    "duration": 5,
    "start_time": "2022-12-21T17:16:23.964Z"
   },
   {
    "duration": 14,
    "start_time": "2022-12-21T17:16:24.139Z"
   },
   {
    "duration": 9,
    "start_time": "2022-12-21T17:16:24.312Z"
   },
   {
    "duration": 4,
    "start_time": "2022-12-21T17:16:33.270Z"
   },
   {
    "duration": 29,
    "start_time": "2022-12-21T17:16:33.359Z"
   },
   {
    "duration": 7,
    "start_time": "2022-12-21T17:16:33.698Z"
   },
   {
    "duration": 29,
    "start_time": "2022-12-21T17:16:34.469Z"
   },
   {
    "duration": 235,
    "start_time": "2022-12-21T17:16:34.983Z"
   },
   {
    "duration": 679,
    "start_time": "2022-12-21T17:16:35.522Z"
   },
   {
    "duration": 237,
    "start_time": "2022-12-21T17:16:36.203Z"
   },
   {
    "duration": 46,
    "start_time": "2022-12-21T17:16:36.532Z"
   },
   {
    "duration": 45,
    "start_time": "2022-12-21T17:16:59.030Z"
   },
   {
    "duration": 48,
    "start_time": "2022-12-21T17:22:44.005Z"
   },
   {
    "duration": 60,
    "start_time": "2022-12-21T17:33:44.814Z"
   },
   {
    "duration": 56,
    "start_time": "2022-12-21T17:34:13.303Z"
   },
   {
    "duration": 48,
    "start_time": "2022-12-21T17:34:51.206Z"
   },
   {
    "duration": 40,
    "start_time": "2022-12-21T17:34:56.962Z"
   },
   {
    "duration": 47,
    "start_time": "2022-12-21T17:35:59.139Z"
   },
   {
    "duration": 58,
    "start_time": "2022-12-21T17:39:25.658Z"
   },
   {
    "duration": 59,
    "start_time": "2022-12-21T17:40:47.233Z"
   },
   {
    "duration": 1127,
    "start_time": "2022-12-22T09:05:07.813Z"
   },
   {
    "duration": 82,
    "start_time": "2022-12-22T09:05:08.942Z"
   },
   {
    "duration": 9,
    "start_time": "2022-12-22T09:05:09.026Z"
   },
   {
    "duration": 36,
    "start_time": "2022-12-22T09:05:09.036Z"
   },
   {
    "duration": 268,
    "start_time": "2022-12-22T09:05:09.559Z"
   },
   {
    "duration": 2493,
    "start_time": "2022-12-22T09:05:10.106Z"
   },
   {
    "duration": 221,
    "start_time": "2022-12-22T09:05:12.601Z"
   },
   {
    "duration": 42,
    "start_time": "2022-12-22T09:05:12.824Z"
   },
   {
    "duration": 24,
    "start_time": "2022-12-22T09:06:35.144Z"
   },
   {
    "duration": 510,
    "start_time": "2022-12-22T09:17:59.498Z"
   },
   {
    "duration": 1182,
    "start_time": "2022-12-22T09:21:54.133Z"
   },
   {
    "duration": 777,
    "start_time": "2022-12-22T09:21:59.443Z"
   },
   {
    "duration": 1071,
    "start_time": "2022-12-22T09:22:05.340Z"
   },
   {
    "duration": 58,
    "start_time": "2022-12-22T09:24:27.608Z"
   },
   {
    "duration": 55,
    "start_time": "2022-12-22T09:24:33.239Z"
   },
   {
    "duration": 78,
    "start_time": "2022-12-22T09:24:35.861Z"
   },
   {
    "duration": 115,
    "start_time": "2022-12-22T09:28:45.951Z"
   },
   {
    "duration": 254,
    "start_time": "2022-12-22T09:28:53.646Z"
   },
   {
    "duration": 240,
    "start_time": "2022-12-22T09:28:59.961Z"
   },
   {
    "duration": 193,
    "start_time": "2022-12-22T09:29:11.915Z"
   },
   {
    "duration": 52,
    "start_time": "2022-12-22T09:29:41.074Z"
   },
   {
    "duration": 44,
    "start_time": "2022-12-22T09:34:45.580Z"
   },
   {
    "duration": 45,
    "start_time": "2022-12-22T09:35:30.779Z"
   },
   {
    "duration": 35,
    "start_time": "2022-12-22T09:35:32.012Z"
   },
   {
    "duration": 3,
    "start_time": "2022-12-22T09:40:14.611Z"
   },
   {
    "duration": 34,
    "start_time": "2022-12-22T09:40:14.860Z"
   },
   {
    "duration": 14,
    "start_time": "2022-12-22T09:40:15.084Z"
   },
   {
    "duration": 11,
    "start_time": "2022-12-22T09:41:15.822Z"
   },
   {
    "duration": 972,
    "start_time": "2022-12-22T09:42:07.714Z"
   },
   {
    "duration": 4,
    "start_time": "2022-12-22T09:42:17.064Z"
   },
   {
    "duration": 38,
    "start_time": "2022-12-22T09:42:32.667Z"
   },
   {
    "duration": 52,
    "start_time": "2022-12-22T09:42:34.239Z"
   },
   {
    "duration": 3,
    "start_time": "2022-12-22T09:42:37.631Z"
   },
   {
    "duration": 38,
    "start_time": "2022-12-22T09:42:37.778Z"
   },
   {
    "duration": 10,
    "start_time": "2022-12-22T09:42:37.934Z"
   },
   {
    "duration": 11,
    "start_time": "2022-12-22T09:42:38.476Z"
   },
   {
    "duration": 47,
    "start_time": "2022-12-22T09:42:39.179Z"
   },
   {
    "duration": 191,
    "start_time": "2022-12-22T09:42:39.714Z"
   },
   {
    "duration": 1493,
    "start_time": "2022-12-22T09:42:40.231Z"
   },
   {
    "duration": 174,
    "start_time": "2022-12-22T09:42:41.727Z"
   },
   {
    "duration": 38,
    "start_time": "2022-12-22T09:42:41.903Z"
   },
   {
    "duration": 44,
    "start_time": "2022-12-22T09:43:00.392Z"
   },
   {
    "duration": 6,
    "start_time": "2022-12-22T09:43:00.592Z"
   },
   {
    "duration": 3,
    "start_time": "2022-12-22T13:09:08.719Z"
   },
   {
    "duration": 113,
    "start_time": "2022-12-22T13:10:46.986Z"
   },
   {
    "duration": 14,
    "start_time": "2022-12-22T13:13:04.402Z"
   },
   {
    "duration": 15,
    "start_time": "2022-12-22T13:13:08.040Z"
   },
   {
    "duration": 14,
    "start_time": "2022-12-22T13:13:10.745Z"
   },
   {
    "duration": 14,
    "start_time": "2022-12-22T13:13:14.730Z"
   },
   {
    "duration": 3,
    "start_time": "2022-12-22T13:18:07.288Z"
   },
   {
    "duration": 13,
    "start_time": "2022-12-22T13:18:16.448Z"
   },
   {
    "duration": 6,
    "start_time": "2022-12-22T13:19:42.344Z"
   },
   {
    "duration": 4,
    "start_time": "2022-12-22T13:19:46.277Z"
   },
   {
    "duration": 30,
    "start_time": "2022-12-22T13:19:46.413Z"
   },
   {
    "duration": 11,
    "start_time": "2022-12-22T13:19:46.593Z"
   },
   {
    "duration": 9,
    "start_time": "2022-12-22T13:19:47.012Z"
   },
   {
    "duration": 38,
    "start_time": "2022-12-22T13:19:47.667Z"
   },
   {
    "duration": 202,
    "start_time": "2022-12-22T13:19:48.190Z"
   },
   {
    "duration": 572,
    "start_time": "2022-12-22T13:19:48.730Z"
   },
   {
    "duration": 44,
    "start_time": "2022-12-22T13:19:49.479Z"
   },
   {
    "duration": 4,
    "start_time": "2022-12-22T13:19:49.646Z"
   },
   {
    "duration": 5,
    "start_time": "2022-12-22T13:19:51.284Z"
   },
   {
    "duration": 8,
    "start_time": "2022-12-22T13:20:33.747Z"
   },
   {
    "duration": 4,
    "start_time": "2022-12-22T13:20:39.146Z"
   },
   {
    "duration": 4,
    "start_time": "2022-12-22T13:20:43.272Z"
   },
   {
    "duration": 5,
    "start_time": "2022-12-22T13:20:52.384Z"
   },
   {
    "duration": 6,
    "start_time": "2022-12-22T13:20:56.338Z"
   },
   {
    "duration": 3,
    "start_time": "2022-12-22T13:21:10.613Z"
   },
   {
    "duration": 31,
    "start_time": "2022-12-22T13:21:10.767Z"
   },
   {
    "duration": 9,
    "start_time": "2022-12-22T13:21:10.955Z"
   },
   {
    "duration": 11,
    "start_time": "2022-12-22T13:21:12.587Z"
   },
   {
    "duration": 29,
    "start_time": "2022-12-22T13:21:22.755Z"
   },
   {
    "duration": 172,
    "start_time": "2022-12-22T13:21:23.251Z"
   },
   {
    "duration": 1602,
    "start_time": "2022-12-22T13:21:23.782Z"
   },
   {
    "duration": 225,
    "start_time": "2022-12-22T13:21:25.390Z"
   },
   {
    "duration": 4,
    "start_time": "2022-12-22T13:21:25.617Z"
   },
   {
    "duration": 6,
    "start_time": "2022-12-22T13:21:36.144Z"
   },
   {
    "duration": 6,
    "start_time": "2022-12-22T13:37:20.640Z"
   },
   {
    "duration": 6,
    "start_time": "2022-12-22T14:13:42.828Z"
   },
   {
    "duration": 4,
    "start_time": "2022-12-22T14:14:22.651Z"
   },
   {
    "duration": 30,
    "start_time": "2022-12-22T14:14:22.790Z"
   },
   {
    "duration": 10,
    "start_time": "2022-12-22T14:14:22.986Z"
   },
   {
    "duration": 5,
    "start_time": "2022-12-22T14:14:46.830Z"
   },
   {
    "duration": 9,
    "start_time": "2022-12-22T14:14:52.949Z"
   },
   {
    "duration": 84,
    "start_time": "2022-12-22T14:15:01.636Z"
   },
   {
    "duration": 9,
    "start_time": "2022-12-22T14:15:04.532Z"
   },
   {
    "duration": 9,
    "start_time": "2022-12-22T14:15:11.715Z"
   },
   {
    "duration": 3,
    "start_time": "2022-12-22T14:15:27.743Z"
   },
   {
    "duration": 30,
    "start_time": "2022-12-22T14:15:27.894Z"
   },
   {
    "duration": 13,
    "start_time": "2022-12-22T14:15:28.052Z"
   },
   {
    "duration": 10,
    "start_time": "2022-12-22T14:15:28.542Z"
   },
   {
    "duration": 45,
    "start_time": "2022-12-22T14:15:29.223Z"
   },
   {
    "duration": 166,
    "start_time": "2022-12-22T14:15:29.756Z"
   },
   {
    "duration": 800,
    "start_time": "2022-12-22T14:15:30.321Z"
   },
   {
    "duration": 173,
    "start_time": "2022-12-22T14:15:31.123Z"
   },
   {
    "duration": 4,
    "start_time": "2022-12-22T14:15:31.298Z"
   },
   {
    "duration": 7,
    "start_time": "2022-12-22T14:15:31.977Z"
   },
   {
    "duration": 6,
    "start_time": "2022-12-22T14:15:32.352Z"
   },
   {
    "duration": 3,
    "start_time": "2022-12-22T14:28:21.099Z"
   },
   {
    "duration": 3,
    "start_time": "2022-12-22T14:28:24.398Z"
   },
   {
    "duration": 30,
    "start_time": "2022-12-22T14:28:24.564Z"
   },
   {
    "duration": 9,
    "start_time": "2022-12-22T14:28:24.743Z"
   },
   {
    "duration": 8,
    "start_time": "2022-12-22T14:28:25.225Z"
   },
   {
    "duration": 35,
    "start_time": "2022-12-22T14:28:25.905Z"
   },
   {
    "duration": 173,
    "start_time": "2022-12-22T14:28:26.440Z"
   },
   {
    "duration": 559,
    "start_time": "2022-12-22T14:28:26.944Z"
   },
   {
    "duration": 43,
    "start_time": "2022-12-22T14:28:27.679Z"
   },
   {
    "duration": 4,
    "start_time": "2022-12-22T14:28:28.110Z"
   },
   {
    "duration": 6,
    "start_time": "2022-12-22T14:28:28.498Z"
   },
   {
    "duration": 6,
    "start_time": "2022-12-22T14:28:28.868Z"
   },
   {
    "duration": 1056,
    "start_time": "2022-12-22T14:30:19.799Z"
   },
   {
    "duration": 31,
    "start_time": "2022-12-22T14:30:20.856Z"
   },
   {
    "duration": 21,
    "start_time": "2022-12-22T14:30:20.890Z"
   },
   {
    "duration": 8,
    "start_time": "2022-12-22T14:30:20.914Z"
   },
   {
    "duration": 58,
    "start_time": "2022-12-22T14:30:20.924Z"
   },
   {
    "duration": 194,
    "start_time": "2022-12-22T14:30:20.984Z"
   },
   {
    "duration": 602,
    "start_time": "2022-12-22T14:30:21.179Z"
   },
   {
    "duration": 220,
    "start_time": "2022-12-22T14:30:21.783Z"
   },
   {
    "duration": 4,
    "start_time": "2022-12-22T14:30:22.005Z"
   },
   {
    "duration": 19,
    "start_time": "2022-12-22T14:30:22.011Z"
   },
   {
    "duration": 11,
    "start_time": "2022-12-22T14:30:22.032Z"
   },
   {
    "duration": 1929,
    "start_time": "2022-12-22T17:24:47.857Z"
   },
   {
    "duration": 107,
    "start_time": "2022-12-22T17:24:49.788Z"
   },
   {
    "duration": 15,
    "start_time": "2022-12-22T17:24:49.896Z"
   },
   {
    "duration": 6,
    "start_time": "2022-12-22T17:24:49.912Z"
   },
   {
    "duration": 30,
    "start_time": "2022-12-22T17:24:49.920Z"
   },
   {
    "duration": 166,
    "start_time": "2022-12-22T17:24:49.951Z"
   },
   {
    "duration": 604,
    "start_time": "2022-12-22T17:24:50.121Z"
   },
   {
    "duration": 221,
    "start_time": "2022-12-22T17:24:50.727Z"
   },
   {
    "duration": 3,
    "start_time": "2022-12-22T17:24:50.950Z"
   },
   {
    "duration": 10,
    "start_time": "2022-12-22T17:24:50.955Z"
   },
   {
    "duration": 12,
    "start_time": "2022-12-22T17:24:50.966Z"
   },
   {
    "duration": 3,
    "start_time": "2022-12-22T17:25:40.898Z"
   },
   {
    "duration": 1174,
    "start_time": "2022-12-26T14:53:37.104Z"
   },
   {
    "duration": 117,
    "start_time": "2022-12-26T14:53:38.280Z"
   },
   {
    "duration": 12,
    "start_time": "2022-12-26T14:53:49.876Z"
   },
   {
    "duration": 12,
    "start_time": "2022-12-26T14:54:24.085Z"
   },
   {
    "duration": 9,
    "start_time": "2022-12-26T14:54:47.439Z"
   },
   {
    "duration": 52,
    "start_time": "2022-12-26T15:03:20.194Z"
   },
   {
    "duration": 53,
    "start_time": "2022-12-26T15:03:22.918Z"
   },
   {
    "duration": 6,
    "start_time": "2022-12-26T15:03:24.977Z"
   },
   {
    "duration": 5,
    "start_time": "2022-12-26T15:03:33.404Z"
   },
   {
    "duration": 7,
    "start_time": "2022-12-26T15:04:44.075Z"
   },
   {
    "duration": 9,
    "start_time": "2022-12-26T15:07:13.151Z"
   },
   {
    "duration": 10,
    "start_time": "2022-12-26T15:10:01.783Z"
   },
   {
    "duration": 10,
    "start_time": "2022-12-26T15:15:16.359Z"
   },
   {
    "duration": 9,
    "start_time": "2022-12-26T15:20:26.880Z"
   },
   {
    "duration": 46,
    "start_time": "2022-12-26T15:21:34.834Z"
   },
   {
    "duration": 106,
    "start_time": "2022-12-26T15:21:39.303Z"
   },
   {
    "duration": 5,
    "start_time": "2022-12-26T15:21:47.503Z"
   },
   {
    "duration": 11,
    "start_time": "2022-12-26T15:27:30.249Z"
   },
   {
    "duration": 14,
    "start_time": "2022-12-26T15:27:43.069Z"
   },
   {
    "duration": 4,
    "start_time": "2022-12-26T15:28:19.078Z"
   },
   {
    "duration": 30,
    "start_time": "2022-12-26T15:28:19.201Z"
   },
   {
    "duration": 15,
    "start_time": "2022-12-26T15:28:19.491Z"
   },
   {
    "duration": 14,
    "start_time": "2022-12-26T15:28:19.622Z"
   },
   {
    "duration": 6,
    "start_time": "2022-12-26T15:28:19.883Z"
   },
   {
    "duration": 4,
    "start_time": "2022-12-26T15:28:20.167Z"
   },
   {
    "duration": 9,
    "start_time": "2022-12-26T15:28:20.443Z"
   },
   {
    "duration": 9,
    "start_time": "2022-12-26T15:28:20.728Z"
   },
   {
    "duration": 8,
    "start_time": "2022-12-26T15:28:21.052Z"
   },
   {
    "duration": 10,
    "start_time": "2022-12-26T15:28:21.361Z"
   },
   {
    "duration": 9,
    "start_time": "2022-12-26T15:28:22.343Z"
   },
   {
    "duration": 5,
    "start_time": "2022-12-26T15:28:22.492Z"
   },
   {
    "duration": 35,
    "start_time": "2022-12-26T15:28:23.419Z"
   },
   {
    "duration": 188,
    "start_time": "2022-12-26T15:28:24.424Z"
   },
   {
    "duration": 83,
    "start_time": "2022-12-26T15:28:25.166Z"
   },
   {
    "duration": 1138,
    "start_time": "2022-12-26T15:44:38.578Z"
   },
   {
    "duration": 30,
    "start_time": "2022-12-26T15:44:39.719Z"
   },
   {
    "duration": 17,
    "start_time": "2022-12-26T15:44:39.751Z"
   },
   {
    "duration": 31,
    "start_time": "2022-12-26T15:44:39.770Z"
   },
   {
    "duration": 26,
    "start_time": "2022-12-26T15:44:39.804Z"
   },
   {
    "duration": 11,
    "start_time": "2022-12-26T15:44:39.832Z"
   },
   {
    "duration": 19,
    "start_time": "2022-12-26T15:44:39.845Z"
   },
   {
    "duration": 11,
    "start_time": "2022-12-26T15:44:39.866Z"
   },
   {
    "duration": 13,
    "start_time": "2022-12-26T15:44:39.879Z"
   },
   {
    "duration": 22,
    "start_time": "2022-12-26T15:44:39.895Z"
   },
   {
    "duration": 26,
    "start_time": "2022-12-26T15:44:39.919Z"
   },
   {
    "duration": 34,
    "start_time": "2022-12-26T15:44:39.948Z"
   },
   {
    "duration": 65,
    "start_time": "2022-12-26T15:44:39.984Z"
   },
   {
    "duration": 191,
    "start_time": "2022-12-26T15:44:40.051Z"
   },
   {
    "duration": 71,
    "start_time": "2022-12-26T15:44:40.243Z"
   },
   {
    "duration": 46,
    "start_time": "2022-12-26T15:44:40.316Z"
   },
   {
    "duration": 5,
    "start_time": "2022-12-26T15:44:40.365Z"
   },
   {
    "duration": 10,
    "start_time": "2022-12-26T15:44:40.372Z"
   },
   {
    "duration": 7,
    "start_time": "2022-12-26T15:44:40.384Z"
   },
   {
    "duration": 1081,
    "start_time": "2023-01-11T17:04:58.809Z"
   },
   {
    "duration": 120,
    "start_time": "2023-01-11T17:04:59.892Z"
   },
   {
    "duration": 18,
    "start_time": "2023-01-11T17:05:00.014Z"
   },
   {
    "duration": 12,
    "start_time": "2023-01-11T17:05:00.034Z"
   },
   {
    "duration": 12,
    "start_time": "2023-01-11T17:05:00.049Z"
   },
   {
    "duration": 5,
    "start_time": "2023-01-11T17:05:00.252Z"
   },
   {
    "duration": 9,
    "start_time": "2023-01-11T17:05:00.629Z"
   },
   {
    "duration": 9,
    "start_time": "2023-01-11T17:05:01.013Z"
   },
   {
    "duration": 8,
    "start_time": "2023-01-11T17:05:01.435Z"
   },
   {
    "duration": 9,
    "start_time": "2023-01-11T17:05:01.919Z"
   },
   {
    "duration": 51,
    "start_time": "2023-01-11T17:05:04.140Z"
   },
   {
    "duration": 109,
    "start_time": "2023-01-11T17:05:05.046Z"
   },
   {
    "duration": 1082,
    "start_time": "2023-01-12T07:40:23.024Z"
   },
   {
    "duration": 85,
    "start_time": "2023-01-12T07:40:24.109Z"
   },
   {
    "duration": 21,
    "start_time": "2023-01-12T07:40:24.243Z"
   },
   {
    "duration": 13,
    "start_time": "2023-01-12T07:40:24.473Z"
   },
   {
    "duration": 7,
    "start_time": "2023-01-12T07:40:25.427Z"
   },
   {
    "duration": 5,
    "start_time": "2023-01-12T07:40:25.812Z"
   },
   {
    "duration": 9,
    "start_time": "2023-01-12T07:40:26.557Z"
   },
   {
    "duration": 7,
    "start_time": "2023-01-12T07:40:26.895Z"
   },
   {
    "duration": 8,
    "start_time": "2023-01-12T07:40:27.262Z"
   },
   {
    "duration": 9,
    "start_time": "2023-01-12T07:40:27.672Z"
   },
   {
    "duration": 98,
    "start_time": "2023-01-12T07:40:30.172Z"
   },
   {
    "duration": 92,
    "start_time": "2023-01-12T07:40:30.410Z"
   },
   {
    "duration": 73,
    "start_time": "2023-01-12T07:46:11.979Z"
   },
   {
    "duration": 3,
    "start_time": "2023-01-12T07:47:19.879Z"
   },
   {
    "duration": 33,
    "start_time": "2023-01-12T07:47:20.215Z"
   },
   {
    "duration": 9,
    "start_time": "2023-01-12T07:47:20.707Z"
   },
   {
    "duration": 11,
    "start_time": "2023-01-12T07:47:20.883Z"
   },
   {
    "duration": 6,
    "start_time": "2023-01-12T07:47:21.230Z"
   },
   {
    "duration": 4,
    "start_time": "2023-01-12T07:47:21.572Z"
   },
   {
    "duration": 9,
    "start_time": "2023-01-12T07:47:21.928Z"
   },
   {
    "duration": 8,
    "start_time": "2023-01-12T07:47:22.333Z"
   },
   {
    "duration": 9,
    "start_time": "2023-01-12T07:47:22.957Z"
   },
   {
    "duration": 11,
    "start_time": "2023-01-12T07:47:23.308Z"
   },
   {
    "duration": 75,
    "start_time": "2023-01-12T07:47:25.145Z"
   },
   {
    "duration": 9,
    "start_time": "2023-01-12T07:48:25.310Z"
   },
   {
    "duration": 4,
    "start_time": "2023-01-12T07:48:26.572Z"
   },
   {
    "duration": 1104,
    "start_time": "2023-01-12T07:48:39.576Z"
   },
   {
    "duration": 31,
    "start_time": "2023-01-12T07:48:40.681Z"
   },
   {
    "duration": 17,
    "start_time": "2023-01-12T07:48:40.714Z"
   },
   {
    "duration": 13,
    "start_time": "2023-01-12T07:48:40.732Z"
   },
   {
    "duration": 10,
    "start_time": "2023-01-12T07:48:40.747Z"
   },
   {
    "duration": 8,
    "start_time": "2023-01-12T07:48:40.759Z"
   },
   {
    "duration": 14,
    "start_time": "2023-01-12T07:48:40.768Z"
   },
   {
    "duration": 11,
    "start_time": "2023-01-12T07:48:40.784Z"
   },
   {
    "duration": 8,
    "start_time": "2023-01-12T07:48:40.797Z"
   },
   {
    "duration": 8,
    "start_time": "2023-01-12T07:48:40.807Z"
   },
   {
    "duration": 12,
    "start_time": "2023-01-12T07:48:40.817Z"
   },
   {
    "duration": 7,
    "start_time": "2023-01-12T07:48:40.831Z"
   },
   {
    "duration": 57,
    "start_time": "2023-01-12T07:48:40.844Z"
   },
   {
    "duration": 190,
    "start_time": "2023-01-12T07:48:40.903Z"
   },
   {
    "duration": 76,
    "start_time": "2023-01-12T07:48:41.095Z"
   },
   {
    "duration": 44,
    "start_time": "2023-01-12T07:48:41.173Z"
   },
   {
    "duration": 5,
    "start_time": "2023-01-12T07:48:41.219Z"
   },
   {
    "duration": 9,
    "start_time": "2023-01-12T07:48:41.226Z"
   },
   {
    "duration": 10,
    "start_time": "2023-01-12T07:48:41.237Z"
   },
   {
    "duration": 9,
    "start_time": "2023-01-12T07:50:11.345Z"
   },
   {
    "duration": 4,
    "start_time": "2023-01-12T07:50:13.395Z"
   },
   {
    "duration": 7,
    "start_time": "2023-01-12T07:51:02.970Z"
   },
   {
    "duration": 4,
    "start_time": "2023-01-12T07:51:03.827Z"
   },
   {
    "duration": 1124,
    "start_time": "2023-01-12T07:51:12.593Z"
   },
   {
    "duration": 30,
    "start_time": "2023-01-12T07:51:13.719Z"
   },
   {
    "duration": 19,
    "start_time": "2023-01-12T07:51:13.751Z"
   },
   {
    "duration": 13,
    "start_time": "2023-01-12T07:51:13.772Z"
   },
   {
    "duration": 11,
    "start_time": "2023-01-12T07:51:13.787Z"
   },
   {
    "duration": 5,
    "start_time": "2023-01-12T07:51:13.799Z"
   },
   {
    "duration": 11,
    "start_time": "2023-01-12T07:51:13.805Z"
   },
   {
    "duration": 7,
    "start_time": "2023-01-12T07:51:13.818Z"
   },
   {
    "duration": 8,
    "start_time": "2023-01-12T07:51:13.827Z"
   },
   {
    "duration": 15,
    "start_time": "2023-01-12T07:51:13.836Z"
   },
   {
    "duration": 33,
    "start_time": "2023-01-12T07:51:13.852Z"
   },
   {
    "duration": 14,
    "start_time": "2023-01-12T07:51:13.887Z"
   },
   {
    "duration": 51,
    "start_time": "2023-01-12T07:51:13.902Z"
   },
   {
    "duration": 230,
    "start_time": "2023-01-12T07:51:13.956Z"
   },
   {
    "duration": 82,
    "start_time": "2023-01-12T07:51:14.187Z"
   },
   {
    "duration": 43,
    "start_time": "2023-01-12T07:51:14.271Z"
   },
   {
    "duration": 5,
    "start_time": "2023-01-12T07:51:14.316Z"
   },
   {
    "duration": 8,
    "start_time": "2023-01-12T07:51:14.323Z"
   },
   {
    "duration": 6,
    "start_time": "2023-01-12T07:51:14.333Z"
   },
   {
    "duration": 60,
    "start_time": "2023-01-13T14:46:35.841Z"
   },
   {
    "duration": 1179,
    "start_time": "2023-01-13T14:46:43.039Z"
   },
   {
    "duration": 114,
    "start_time": "2023-01-13T14:46:44.220Z"
   },
   {
    "duration": 21,
    "start_time": "2023-01-13T14:46:44.336Z"
   },
   {
    "duration": 11,
    "start_time": "2023-01-13T14:46:44.360Z"
   },
   {
    "duration": 8,
    "start_time": "2023-01-13T14:46:44.373Z"
   },
   {
    "duration": 6,
    "start_time": "2023-01-13T14:46:44.383Z"
   },
   {
    "duration": 8,
    "start_time": "2023-01-13T14:46:44.391Z"
   },
   {
    "duration": 36,
    "start_time": "2023-01-13T14:46:44.401Z"
   },
   {
    "duration": 12,
    "start_time": "2023-01-13T14:46:44.439Z"
   },
   {
    "duration": 23,
    "start_time": "2023-01-13T14:46:44.453Z"
   },
   {
    "duration": 12,
    "start_time": "2023-01-13T14:46:44.477Z"
   },
   {
    "duration": 9,
    "start_time": "2023-01-13T14:46:44.490Z"
   },
   {
    "duration": 46,
    "start_time": "2023-01-13T14:46:44.501Z"
   },
   {
    "duration": 212,
    "start_time": "2023-01-13T14:46:44.549Z"
   },
   {
    "duration": 70,
    "start_time": "2023-01-13T14:46:44.763Z"
   },
   {
    "duration": 56,
    "start_time": "2023-01-13T14:46:44.835Z"
   },
   {
    "duration": 4,
    "start_time": "2023-01-13T14:46:44.893Z"
   },
   {
    "duration": 9,
    "start_time": "2023-01-13T14:46:44.898Z"
   },
   {
    "duration": 11,
    "start_time": "2023-01-13T14:46:44.909Z"
   },
   {
    "duration": 815,
    "start_time": "2023-01-13T14:54:25.123Z"
   },
   {
    "duration": 174,
    "start_time": "2023-01-13T14:54:36.007Z"
   }
  ],
  "kernelspec": {
   "display_name": "Python 3 (ipykernel)",
   "language": "python",
   "name": "python3"
  },
  "language_info": {
   "codemirror_mode": {
    "name": "ipython",
    "version": 3
   },
   "file_extension": ".py",
   "mimetype": "text/x-python",
   "name": "python",
   "nbconvert_exporter": "python",
   "pygments_lexer": "ipython3",
   "version": "3.10.9"
  },
  "toc": {
   "base_numbering": 1,
   "nav_menu": {},
   "number_sections": true,
   "sideBar": true,
   "skip_h1_title": true,
   "title_cell": "Table of Contents",
   "title_sidebar": "Contents",
   "toc_cell": true,
   "toc_position": {
    "height": "calc(100% - 180px)",
    "left": "10px",
    "top": "150px",
    "width": "409.6px"
   },
   "toc_section_display": true,
   "toc_window_display": true
  }
 },
 "nbformat": 4,
 "nbformat_minor": 2
}
