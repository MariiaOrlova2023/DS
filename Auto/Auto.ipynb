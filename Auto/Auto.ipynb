{
 "cells": [
  {
   "cell_type": "markdown",
   "metadata": {
    "toc": true
   },
   "source": [
    "<h1>Table of Contents<span class=\"tocSkip\"></span></h1>\n",
    "<div class=\"toc\"><ul class=\"toc-item\"><li><span><a href=\"#Подготовка-данных\" data-toc-modified-id=\"Подготовка-данных-1\"><span class=\"toc-item-num\">1&nbsp;&nbsp;</span>Подготовка данных</a></span><ul class=\"toc-item\"><li><span><a href=\"#date_crawled---дата-скачивания-анкеты-из-базы\" data-toc-modified-id=\"date_crawled---дата-скачивания-анкеты-из-базы-1.1\"><span class=\"toc-item-num\">1.1&nbsp;&nbsp;</span>date_crawled - дата скачивания анкеты из базы</a></span></li><li><span><a href=\"#vehicle_type----тип-автомобильного-кузова\" data-toc-modified-id=\"vehicle_type----тип-автомобильного-кузова-1.2\"><span class=\"toc-item-num\">1.2&nbsp;&nbsp;</span>vehicle_type  - тип автомобильного кузова</a></span></li><li><span><a href=\"#registration_year---год-регистрации-автомобиля\" data-toc-modified-id=\"registration_year---год-регистрации-автомобиля-1.3\"><span class=\"toc-item-num\">1.3&nbsp;&nbsp;</span>registration_year - год регистрации автомобиля</a></span></li><li><span><a href=\"#gearbox---тип-коробки-передач\" data-toc-modified-id=\"gearbox---тип-коробки-передач-1.4\"><span class=\"toc-item-num\">1.4&nbsp;&nbsp;</span>gearbox - тип коробки передач</a></span></li><li><span><a href=\"#brand---марка-автомобиля\" data-toc-modified-id=\"brand---марка-автомобиля-1.5\"><span class=\"toc-item-num\">1.5&nbsp;&nbsp;</span>brand - марка автомобиля</a></span></li><li><span><a href=\"#model---модель-автомобиля\" data-toc-modified-id=\"model---модель-автомобиля-1.6\"><span class=\"toc-item-num\">1.6&nbsp;&nbsp;</span>model - модель автомобиля</a></span></li><li><span><a href=\"#power---мощность-(л.-с.)\" data-toc-modified-id=\"power---мощность-(л.-с.)-1.7\"><span class=\"toc-item-num\">1.7&nbsp;&nbsp;</span>power - мощность (л. с.)</a></span></li><li><span><a href=\"#kilometer---пробег-(км)\" data-toc-modified-id=\"kilometer---пробег-(км)-1.8\"><span class=\"toc-item-num\">1.8&nbsp;&nbsp;</span>kilometer - пробег (км)</a></span></li><li><span><a href=\"#registration_month---месяц-регистрации-автомобиля\" data-toc-modified-id=\"registration_month---месяц-регистрации-автомобиля-1.9\"><span class=\"toc-item-num\">1.9&nbsp;&nbsp;</span>registration_month - месяц регистрации автомобиля</a></span></li><li><span><a href=\"#fuel_type---тип-топлива\" data-toc-modified-id=\"fuel_type---тип-топлива-1.10\"><span class=\"toc-item-num\">1.10&nbsp;&nbsp;</span>fuel_type - тип топлива</a></span></li><li><span><a href=\"#repaired---была-машина-в-ремонте-или-нет\" data-toc-modified-id=\"repaired---была-машина-в-ремонте-или-нет-1.11\"><span class=\"toc-item-num\">1.11&nbsp;&nbsp;</span>repaired - была машина в ремонте или нет</a></span></li><li><span><a href=\"#date_created---дата-создания-анкеты\" data-toc-modified-id=\"date_created---дата-создания-анкеты-1.12\"><span class=\"toc-item-num\">1.12&nbsp;&nbsp;</span>date_created - дата создания анкеты</a></span></li><li><span><a href=\"#number_of_pictures---количество-фотографий-автомобиля\" data-toc-modified-id=\"number_of_pictures---количество-фотографий-автомобиля-1.13\"><span class=\"toc-item-num\">1.13&nbsp;&nbsp;</span>number_of_pictures - количество фотографий автомобиля</a></span></li><li><span><a href=\"#postal_code---почтовый-индекс-владельца-анкеты-(пользователя)\" data-toc-modified-id=\"postal_code---почтовый-индекс-владельца-анкеты-(пользователя)-1.14\"><span class=\"toc-item-num\">1.14&nbsp;&nbsp;</span>postal_code - почтовый индекс владельца анкеты (пользователя)</a></span></li><li><span><a href=\"#last_seen----дата-последней-активности-пользователя\" data-toc-modified-id=\"last_seen----дата-последней-активности-пользователя-1.15\"><span class=\"toc-item-num\">1.15&nbsp;&nbsp;</span>last_seen -  дата последней активности пользователя</a></span></li><li><span><a href=\"#price----цена-(евро)\" data-toc-modified-id=\"price----цена-(евро)-1.16\"><span class=\"toc-item-num\">1.16&nbsp;&nbsp;</span>price -  цена (евро)</a></span></li><li><span><a href=\"#Удаление-неинформативных-столбцов\" data-toc-modified-id=\"Удаление-неинформативных-столбцов-1.17\"><span class=\"toc-item-num\">1.17&nbsp;&nbsp;</span>Удаление неинформативных столбцов</a></span></li><li><span><a href=\"#Корреляция\" data-toc-modified-id=\"Корреляция-1.18\"><span class=\"toc-item-num\">1.18&nbsp;&nbsp;</span>Корреляция</a></span></li><li><span><a href=\"#Вывод\" data-toc-modified-id=\"Вывод-1.19\"><span class=\"toc-item-num\">1.19&nbsp;&nbsp;</span>Вывод</a></span></li></ul></li><li><span><a href=\"#Обучение-моделей\" data-toc-modified-id=\"Обучение-моделей-2\"><span class=\"toc-item-num\">2&nbsp;&nbsp;</span>Обучение моделей</a></span><ul class=\"toc-item\"><li><span><a href=\"#Подготовка-выборок-для-обучения-модели\" data-toc-modified-id=\"Подготовка-выборок-для-обучения-модели-2.1\"><span class=\"toc-item-num\">2.1&nbsp;&nbsp;</span>Подготовка выборок для обучения модели</a></span></li><li><span><a href=\"#OrdinalEncoder\" data-toc-modified-id=\"OrdinalEncoder-2.2\"><span class=\"toc-item-num\">2.2&nbsp;&nbsp;</span>OrdinalEncoder</a></span></li><li><span><a href=\"#OHE---кодирование\" data-toc-modified-id=\"OHE---кодирование-2.3\"><span class=\"toc-item-num\">2.3&nbsp;&nbsp;</span>OHE - кодирование</a></span></li><li><span><a href=\"#Масштабирование-численных-признаков\" data-toc-modified-id=\"Масштабирование-численных-признаков-2.4\"><span class=\"toc-item-num\">2.4&nbsp;&nbsp;</span>Масштабирование численных признаков</a></span></li><li><span><a href=\"#LightGBM\" data-toc-modified-id=\"LightGBM-2.5\"><span class=\"toc-item-num\">2.5&nbsp;&nbsp;</span>LightGBM</a></span></li><li><span><a href=\"#Случайный-лес\" data-toc-modified-id=\"Случайный-лес-2.6\"><span class=\"toc-item-num\">2.6&nbsp;&nbsp;</span>Случайный лес</a></span></li><li><span><a href=\"#Линейная-регрессия\" data-toc-modified-id=\"Линейная-регрессия-2.7\"><span class=\"toc-item-num\">2.7&nbsp;&nbsp;</span>Линейная регрессия</a></span></li></ul></li><li><span><a href=\"#Анализ-моделей\" data-toc-modified-id=\"Анализ-моделей-3\"><span class=\"toc-item-num\">3&nbsp;&nbsp;</span>Анализ моделей</a></span></li><li><span><a href=\"#Общий-вывод\" data-toc-modified-id=\"Общий-вывод-4\"><span class=\"toc-item-num\">4&nbsp;&nbsp;</span>Общий вывод</a></span></li></ul></div>"
   ]
  },
  {
   "cell_type": "markdown",
   "metadata": {},
   "source": [
    "# Определение стоимости автомобилей"
   ]
  },
  {
   "cell_type": "markdown",
   "metadata": {},
   "source": [
    "Сервис по продаже автомобилей с пробегом «Не бит, не крашен» разрабатывает приложение для привлечения новых клиентов. В нём можно быстро узнать рыночную стоимость своего автомобиля. В нашем распоряжении исторические данные: технические характеристики, комплектации и цены автомобилей. Нужно построить модель для определения стоимости. \n",
    "\n",
    "Заказчику важны:\n",
    "\n",
    "- качество предсказания;\n",
    "- скорость предсказания;\n",
    "- время обучения.\n",
    "\n",
    "Признаки\n",
    "- DateCrawled — дата скачивания анкеты из базы\n",
    "- VehicleType — тип автомобильного кузова\n",
    "- RegistrationYear — год регистрации автомобиля\n",
    "- Gearbox — тип коробки передач\n",
    "- Power — мощность (л. с.)\n",
    "- Model — модель автомобиля\n",
    "- Kilometer — пробег (км)\n",
    "- RegistrationMonth — месяц регистрации автомобиля\n",
    "- FuelType — тип топлива\n",
    "- Brand — марка автомобиля\n",
    "- Repaired — была машина в ремонте или нет\n",
    "- DateCreated — дата создания анкеты\n",
    "- NumberOfPictures — количество фотографий автомобиля\n",
    "- PostalCode — почтовый индекс владельца анкеты (пользователя)\n",
    "- LastSeen — дата последней активности пользователя\n",
    "\n",
    "Целевой признак\n",
    "- Price — цена (евро)"
   ]
  },
  {
   "cell_type": "markdown",
   "metadata": {},
   "source": [
    "## Подготовка данных"
   ]
  },
  {
   "cell_type": "code",
   "execution_count": 1,
   "metadata": {},
   "outputs": [
    {
     "name": "stdout",
     "output_type": "stream",
     "text": [
      "Requirement already satisfied: lightgbm in /opt/conda/lib/python3.9/site-packages (3.3.1)\n",
      "Requirement already satisfied: wheel in /opt/conda/lib/python3.9/site-packages (from lightgbm) (0.36.2)\n",
      "Requirement already satisfied: scikit-learn!=0.22.0 in /opt/conda/lib/python3.9/site-packages (from lightgbm) (0.24.1)\n",
      "Requirement already satisfied: numpy in /opt/conda/lib/python3.9/site-packages (from lightgbm) (1.21.1)\n",
      "Requirement already satisfied: scipy in /opt/conda/lib/python3.9/site-packages (from lightgbm) (1.9.1)\n",
      "Requirement already satisfied: threadpoolctl>=2.0.0 in /opt/conda/lib/python3.9/site-packages (from scikit-learn!=0.22.0->lightgbm) (3.1.0)\n",
      "Requirement already satisfied: joblib>=0.11 in /opt/conda/lib/python3.9/site-packages (from scikit-learn!=0.22.0->lightgbm) (1.1.0)\n",
      "Note: you may need to restart the kernel to use updated packages.\n"
     ]
    }
   ],
   "source": [
    "pip install lightgbm"
   ]
  },
  {
   "cell_type": "code",
   "execution_count": 2,
   "metadata": {},
   "outputs": [],
   "source": [
    "import re\n",
    "import time\n",
    "\n",
    "import matplotlib.pyplot as plt\n",
    "import numpy as np\n",
    "import pandas as pd\n",
    "import seaborn as sns\n",
    "\n",
    "import warnings\n",
    "warnings.filterwarnings('ignore')\n",
    "\n",
    "from lightgbm import LGBMRegressor\n",
    "\n",
    "from sklearn.ensemble import RandomForestRegressor\n",
    "from sklearn.linear_model import LinearRegression\n",
    "from sklearn.metrics import mean_squared_error\n",
    "from sklearn.model_selection import train_test_split\n",
    "from sklearn.preprocessing import OneHotEncoder, OrdinalEncoder, StandardScaler\n",
    "\n",
    "from scipy.stats import spearmanr"
   ]
  },
  {
   "cell_type": "code",
   "execution_count": 3,
   "metadata": {},
   "outputs": [],
   "source": [
    "try:\n",
    "     df = pd.read_csv(r\"C:\\Проекты Яндекс.Практикум\\11. Численные методы. Продажа авто\\Датасет\\autos.csv\")\n",
    "except: \n",
    "    df = pd.read_csv('/datasets/autos.csv')"
   ]
  },
  {
   "cell_type": "markdown",
   "metadata": {},
   "source": [
    "Загрузили необходимые библиотеки и датасет"
   ]
  },
  {
   "cell_type": "code",
   "execution_count": 4,
   "metadata": {},
   "outputs": [
    {
     "data": {
      "text/html": [
       "<div>\n",
       "<style scoped>\n",
       "    .dataframe tbody tr th:only-of-type {\n",
       "        vertical-align: middle;\n",
       "    }\n",
       "\n",
       "    .dataframe tbody tr th {\n",
       "        vertical-align: top;\n",
       "    }\n",
       "\n",
       "    .dataframe thead th {\n",
       "        text-align: right;\n",
       "    }\n",
       "</style>\n",
       "<table border=\"1\" class=\"dataframe\">\n",
       "  <thead>\n",
       "    <tr style=\"text-align: right;\">\n",
       "      <th></th>\n",
       "      <th>DateCrawled</th>\n",
       "      <th>Price</th>\n",
       "      <th>VehicleType</th>\n",
       "      <th>RegistrationYear</th>\n",
       "      <th>Gearbox</th>\n",
       "      <th>Power</th>\n",
       "      <th>Model</th>\n",
       "      <th>Kilometer</th>\n",
       "      <th>RegistrationMonth</th>\n",
       "      <th>FuelType</th>\n",
       "      <th>Brand</th>\n",
       "      <th>Repaired</th>\n",
       "      <th>DateCreated</th>\n",
       "      <th>NumberOfPictures</th>\n",
       "      <th>PostalCode</th>\n",
       "      <th>LastSeen</th>\n",
       "    </tr>\n",
       "  </thead>\n",
       "  <tbody>\n",
       "    <tr>\n",
       "      <th>0</th>\n",
       "      <td>2016-03-24 11:52:17</td>\n",
       "      <td>480</td>\n",
       "      <td>NaN</td>\n",
       "      <td>1993</td>\n",
       "      <td>manual</td>\n",
       "      <td>0</td>\n",
       "      <td>golf</td>\n",
       "      <td>150000</td>\n",
       "      <td>0</td>\n",
       "      <td>petrol</td>\n",
       "      <td>volkswagen</td>\n",
       "      <td>NaN</td>\n",
       "      <td>2016-03-24 00:00:00</td>\n",
       "      <td>0</td>\n",
       "      <td>70435</td>\n",
       "      <td>2016-04-07 03:16:57</td>\n",
       "    </tr>\n",
       "    <tr>\n",
       "      <th>1</th>\n",
       "      <td>2016-03-24 10:58:45</td>\n",
       "      <td>18300</td>\n",
       "      <td>coupe</td>\n",
       "      <td>2011</td>\n",
       "      <td>manual</td>\n",
       "      <td>190</td>\n",
       "      <td>NaN</td>\n",
       "      <td>125000</td>\n",
       "      <td>5</td>\n",
       "      <td>gasoline</td>\n",
       "      <td>audi</td>\n",
       "      <td>yes</td>\n",
       "      <td>2016-03-24 00:00:00</td>\n",
       "      <td>0</td>\n",
       "      <td>66954</td>\n",
       "      <td>2016-04-07 01:46:50</td>\n",
       "    </tr>\n",
       "    <tr>\n",
       "      <th>2</th>\n",
       "      <td>2016-03-14 12:52:21</td>\n",
       "      <td>9800</td>\n",
       "      <td>suv</td>\n",
       "      <td>2004</td>\n",
       "      <td>auto</td>\n",
       "      <td>163</td>\n",
       "      <td>grand</td>\n",
       "      <td>125000</td>\n",
       "      <td>8</td>\n",
       "      <td>gasoline</td>\n",
       "      <td>jeep</td>\n",
       "      <td>NaN</td>\n",
       "      <td>2016-03-14 00:00:00</td>\n",
       "      <td>0</td>\n",
       "      <td>90480</td>\n",
       "      <td>2016-04-05 12:47:46</td>\n",
       "    </tr>\n",
       "    <tr>\n",
       "      <th>3</th>\n",
       "      <td>2016-03-17 16:54:04</td>\n",
       "      <td>1500</td>\n",
       "      <td>small</td>\n",
       "      <td>2001</td>\n",
       "      <td>manual</td>\n",
       "      <td>75</td>\n",
       "      <td>golf</td>\n",
       "      <td>150000</td>\n",
       "      <td>6</td>\n",
       "      <td>petrol</td>\n",
       "      <td>volkswagen</td>\n",
       "      <td>no</td>\n",
       "      <td>2016-03-17 00:00:00</td>\n",
       "      <td>0</td>\n",
       "      <td>91074</td>\n",
       "      <td>2016-03-17 17:40:17</td>\n",
       "    </tr>\n",
       "    <tr>\n",
       "      <th>4</th>\n",
       "      <td>2016-03-31 17:25:20</td>\n",
       "      <td>3600</td>\n",
       "      <td>small</td>\n",
       "      <td>2008</td>\n",
       "      <td>manual</td>\n",
       "      <td>69</td>\n",
       "      <td>fabia</td>\n",
       "      <td>90000</td>\n",
       "      <td>7</td>\n",
       "      <td>gasoline</td>\n",
       "      <td>skoda</td>\n",
       "      <td>no</td>\n",
       "      <td>2016-03-31 00:00:00</td>\n",
       "      <td>0</td>\n",
       "      <td>60437</td>\n",
       "      <td>2016-04-06 10:17:21</td>\n",
       "    </tr>\n",
       "  </tbody>\n",
       "</table>\n",
       "</div>"
      ],
      "text/plain": [
       "           DateCrawled  Price VehicleType  RegistrationYear Gearbox  Power  \\\n",
       "0  2016-03-24 11:52:17    480         NaN              1993  manual      0   \n",
       "1  2016-03-24 10:58:45  18300       coupe              2011  manual    190   \n",
       "2  2016-03-14 12:52:21   9800         suv              2004    auto    163   \n",
       "3  2016-03-17 16:54:04   1500       small              2001  manual     75   \n",
       "4  2016-03-31 17:25:20   3600       small              2008  manual     69   \n",
       "\n",
       "   Model  Kilometer  RegistrationMonth  FuelType       Brand Repaired  \\\n",
       "0   golf     150000                  0    petrol  volkswagen      NaN   \n",
       "1    NaN     125000                  5  gasoline        audi      yes   \n",
       "2  grand     125000                  8  gasoline        jeep      NaN   \n",
       "3   golf     150000                  6    petrol  volkswagen       no   \n",
       "4  fabia      90000                  7  gasoline       skoda       no   \n",
       "\n",
       "           DateCreated  NumberOfPictures  PostalCode             LastSeen  \n",
       "0  2016-03-24 00:00:00                 0       70435  2016-04-07 03:16:57  \n",
       "1  2016-03-24 00:00:00                 0       66954  2016-04-07 01:46:50  \n",
       "2  2016-03-14 00:00:00                 0       90480  2016-04-05 12:47:46  \n",
       "3  2016-03-17 00:00:00                 0       91074  2016-03-17 17:40:17  \n",
       "4  2016-03-31 00:00:00                 0       60437  2016-04-06 10:17:21  "
      ]
     },
     "execution_count": 4,
     "metadata": {},
     "output_type": "execute_result"
    }
   ],
   "source": [
    "df.head()"
   ]
  },
  {
   "cell_type": "code",
   "execution_count": 5,
   "metadata": {
    "scrolled": true
   },
   "outputs": [
    {
     "name": "stdout",
     "output_type": "stream",
     "text": [
      "<class 'pandas.core.frame.DataFrame'>\n",
      "RangeIndex: 354369 entries, 0 to 354368\n",
      "Data columns (total 16 columns):\n",
      " #   Column             Non-Null Count   Dtype \n",
      "---  ------             --------------   ----- \n",
      " 0   DateCrawled        354369 non-null  object\n",
      " 1   Price              354369 non-null  int64 \n",
      " 2   VehicleType        316879 non-null  object\n",
      " 3   RegistrationYear   354369 non-null  int64 \n",
      " 4   Gearbox            334536 non-null  object\n",
      " 5   Power              354369 non-null  int64 \n",
      " 6   Model              334664 non-null  object\n",
      " 7   Kilometer          354369 non-null  int64 \n",
      " 8   RegistrationMonth  354369 non-null  int64 \n",
      " 9   FuelType           321474 non-null  object\n",
      " 10  Brand              354369 non-null  object\n",
      " 11  Repaired           283215 non-null  object\n",
      " 12  DateCreated        354369 non-null  object\n",
      " 13  NumberOfPictures   354369 non-null  int64 \n",
      " 14  PostalCode         354369 non-null  int64 \n",
      " 15  LastSeen           354369 non-null  object\n",
      "dtypes: int64(7), object(9)\n",
      "memory usage: 43.3+ MB\n"
     ]
    }
   ],
   "source": [
    "df.info()"
   ]
  },
  {
   "cell_type": "markdown",
   "metadata": {},
   "source": [
    "Датасет состоит из 16 столбцов и 354369 строк. Есть столбцы с пропущенными значениями. Даты имеют тип данных object вместо datetime. Также названия столбцов в некоррекном формате"
   ]
  },
  {
   "cell_type": "code",
   "execution_count": 6,
   "metadata": {},
   "outputs": [],
   "source": [
    "df.columns = [re.sub(r'(?<!^)(?=[A-Z])', '_', i).lower() for i in df.columns]"
   ]
  },
  {
   "cell_type": "markdown",
   "metadata": {},
   "source": [
    "Привели названия к нижнему регистру, разделили слова в названии нижним подчеркиванием"
   ]
  },
  {
   "cell_type": "code",
   "execution_count": 7,
   "metadata": {},
   "outputs": [
    {
     "data": {
      "text/plain": [
       "4"
      ]
     },
     "execution_count": 7,
     "metadata": {},
     "output_type": "execute_result"
    }
   ],
   "source": [
    "df.duplicated().sum()"
   ]
  },
  {
   "cell_type": "markdown",
   "metadata": {},
   "source": [
    "Удалили 4 явных дубликата"
   ]
  },
  {
   "cell_type": "code",
   "execution_count": 8,
   "metadata": {},
   "outputs": [
    {
     "name": "stdout",
     "output_type": "stream",
     "text": [
      "<class 'pandas.core.frame.DataFrame'>\n",
      "Int64Index: 354365 entries, 0 to 354368\n",
      "Data columns (total 16 columns):\n",
      " #   Column              Non-Null Count   Dtype \n",
      "---  ------              --------------   ----- \n",
      " 0   date_crawled        354365 non-null  object\n",
      " 1   price               354365 non-null  int64 \n",
      " 2   vehicle_type        316875 non-null  object\n",
      " 3   registration_year   354365 non-null  int64 \n",
      " 4   gearbox             334532 non-null  object\n",
      " 5   power               354365 non-null  int64 \n",
      " 6   model               334660 non-null  object\n",
      " 7   kilometer           354365 non-null  int64 \n",
      " 8   registration_month  354365 non-null  int64 \n",
      " 9   fuel_type           321470 non-null  object\n",
      " 10  brand               354365 non-null  object\n",
      " 11  repaired            283211 non-null  object\n",
      " 12  date_created        354365 non-null  object\n",
      " 13  number_of_pictures  354365 non-null  int64 \n",
      " 14  postal_code         354365 non-null  int64 \n",
      " 15  last_seen           354365 non-null  object\n",
      "dtypes: int64(7), object(9)\n",
      "memory usage: 46.0+ MB\n"
     ]
    }
   ],
   "source": [
    "df.drop_duplicates(inplace = True)\n",
    "df.info()"
   ]
  },
  {
   "cell_type": "markdown",
   "metadata": {},
   "source": [
    "### date_crawled - дата скачивания анкеты из базы"
   ]
  },
  {
   "cell_type": "code",
   "execution_count": 9,
   "metadata": {
    "scrolled": false
   },
   "outputs": [
    {
     "data": {
      "text/plain": [
       "count                  354365\n",
       "unique                 271174\n",
       "top       2016-03-24 14:49:47\n",
       "freq                        7\n",
       "Name: date_crawled, dtype: object"
      ]
     },
     "execution_count": 9,
     "metadata": {},
     "output_type": "execute_result"
    }
   ],
   "source": [
    "df['date_crawled'].describe()"
   ]
  },
  {
   "cell_type": "code",
   "execution_count": 10,
   "metadata": {},
   "outputs": [
    {
     "data": {
      "text/plain": [
       "0        2016-03-24\n",
       "1        2016-03-24\n",
       "2        2016-03-14\n",
       "3        2016-03-17\n",
       "4        2016-03-31\n",
       "            ...    \n",
       "354364   2016-03-21\n",
       "354365   2016-03-14\n",
       "354366   2016-03-05\n",
       "354367   2016-03-19\n",
       "354368   2016-03-20\n",
       "Name: date_crawled, Length: 354365, dtype: datetime64[ns]"
      ]
     },
     "execution_count": 10,
     "metadata": {},
     "output_type": "execute_result"
    }
   ],
   "source": [
    "df['date_crawled'] = pd.to_datetime(df['date_crawled']). dt.date\n",
    "df['date_crawled'] = df['date_crawled'].astype('datetime64')\n",
    "df['date_crawled']"
   ]
  },
  {
   "cell_type": "code",
   "execution_count": 11,
   "metadata": {},
   "outputs": [
    {
     "data": {
      "text/plain": [
       "Timestamp('2016-03-05 00:00:00')"
      ]
     },
     "execution_count": 11,
     "metadata": {},
     "output_type": "execute_result"
    }
   ],
   "source": [
    "df['date_crawled'].min()"
   ]
  },
  {
   "cell_type": "code",
   "execution_count": 12,
   "metadata": {},
   "outputs": [
    {
     "data": {
      "text/plain": [
       "Timestamp('2016-04-07 00:00:00')"
      ]
     },
     "execution_count": 12,
     "metadata": {},
     "output_type": "execute_result"
    }
   ],
   "source": [
    "df['date_crawled'].max()"
   ]
  },
  {
   "cell_type": "markdown",
   "metadata": {},
   "source": [
    "Изменили тип данных с object на datetime. Обнулили время. \n",
    "Анкеты скачивались в период с 05.03.2016 по 07.04.2016 включительно. То есть примерно месяц."
   ]
  },
  {
   "cell_type": "markdown",
   "metadata": {},
   "source": [
    "### vehicle_type  - тип автомобильного кузова"
   ]
  },
  {
   "cell_type": "code",
   "execution_count": 13,
   "metadata": {
    "scrolled": true
   },
   "outputs": [
    {
     "data": {
      "text/plain": [
       "count     316875\n",
       "unique         8\n",
       "top        sedan\n",
       "freq       91457\n",
       "Name: vehicle_type, dtype: object"
      ]
     },
     "execution_count": 13,
     "metadata": {},
     "output_type": "execute_result"
    }
   ],
   "source": [
    "df['vehicle_type'].describe()"
   ]
  },
  {
   "cell_type": "code",
   "execution_count": 14,
   "metadata": {},
   "outputs": [
    {
     "data": {
      "text/plain": [
       "sedan          91457\n",
       "small          79830\n",
       "wagon          65165\n",
       "bus            28775\n",
       "convertible    20203\n",
       "coupe          16161\n",
       "suv            11996\n",
       "other           3288\n",
       "Name: vehicle_type, dtype: int64"
      ]
     },
     "execution_count": 14,
     "metadata": {},
     "output_type": "execute_result"
    }
   ],
   "source": [
    "df['vehicle_type'].value_counts().sort_values(ascending = False)"
   ]
  },
  {
   "cell_type": "markdown",
   "metadata": {},
   "source": [
    "Пропусков - 37 486, 8 уникальных значений кузова:\n",
    "\n",
    "- other - другой\n",
    "- suv - внедорожник\n",
    "- coupe - купе\n",
    "- convertible - кабриолет\n",
    "- bus - автобус\n",
    "- wagon - универсал\n",
    "- small - уменьшенная длина кузова\n",
    "- sedan - седан "
   ]
  },
  {
   "cell_type": "code",
   "execution_count": 15,
   "metadata": {
    "scrolled": true
   },
   "outputs": [
    {
     "data": {
      "text/plain": [
       "sedan          91457\n",
       "small          79830\n",
       "wagon          65165\n",
       "other          40778\n",
       "bus            28775\n",
       "convertible    20203\n",
       "coupe          16161\n",
       "suv            11996\n",
       "Name: vehicle_type, dtype: int64"
      ]
     },
     "execution_count": 15,
     "metadata": {},
     "output_type": "execute_result"
    }
   ],
   "source": [
    "df['vehicle_type'] = df['vehicle_type'].fillna('other')\n",
    "df['vehicle_type'].value_counts().sort_values(ascending = False)"
   ]
  },
  {
   "cell_type": "markdown",
   "metadata": {},
   "source": [
    "Заполнили пропуски типом other. \"Другой\" тип кузова поднялся с последнего (восьмого) места на четвертое"
   ]
  },
  {
   "cell_type": "code",
   "execution_count": 16,
   "metadata": {
    "scrolled": true
   },
   "outputs": [
    {
     "data": {
      "image/png": "[encoded data removed]",
      "text/plain": [
       "<Figure size 504x216 with 1 Axes>"
      ]
     },
     "metadata": {
      "needs_background": "light"
     },
     "output_type": "display_data"
    }
   ],
   "source": [
    "plt.figure(figsize=(7,3))\n",
    "df['vehicle_type'].value_counts().plot.bar()\n",
    "\n",
    "plt.xlabel('Название типа кузова')\n",
    "plt.ylabel('Количество')\n",
    "plt.title('Количество автомобилей каждого типа кузова')\n",
    "plt.show()"
   ]
  },
  {
   "cell_type": "markdown",
   "metadata": {},
   "source": [
    "Построили гистограмму, чтобы посмотреть распределение типов кузова. Больше всего продается седанов и небольших атвомобилей (обычные городские автомобили, выглядит логично). На последних местах купе и внедорожники"
   ]
  },
  {
   "cell_type": "markdown",
   "metadata": {},
   "source": [
    "### registration_year - год регистрации автомобиля\t"
   ]
  },
  {
   "cell_type": "code",
   "execution_count": 17,
   "metadata": {
    "scrolled": true
   },
   "outputs": [
    {
     "data": {
      "text/plain": [
       "array([1000, 1001, 1039, 1111, 1200, 1234, 1253, 1255, 1300, 1400, 1500,\n",
       "       1600, 1602, 1688, 1800, 1910, 1915, 1919, 1920, 1923, 1925, 1927,\n",
       "       1928, 1929, 1930, 1931, 1932, 1933, 1934, 1935, 1936, 1937, 1938,\n",
       "       1940, 1941, 1942, 1943, 1944, 1945, 1946, 1947, 1948, 1949, 1950,\n",
       "       1951, 1952, 1953, 1954, 1955, 1956, 1957, 1958, 1959, 1960, 1961,\n",
       "       1962, 1963, 1964, 1965, 1966, 1967, 1968, 1969, 1970, 1971, 1972,\n",
       "       1973, 1974, 1975, 1976, 1977, 1978, 1979, 1980, 1981, 1982, 1983,\n",
       "       1984, 1985, 1986, 1987, 1988, 1989, 1990, 1991, 1992, 1993, 1994,\n",
       "       1995, 1996, 1997, 1998, 1999, 2000, 2001, 2002, 2003, 2004, 2005,\n",
       "       2006, 2007, 2008, 2009, 2010, 2011, 2012, 2013, 2014, 2015, 2016,\n",
       "       2017, 2018, 2019, 2066, 2200, 2222, 2290, 2500, 2800, 2900, 3000,\n",
       "       3200, 3500, 3700, 3800, 4000, 4100, 4500, 4800, 5000, 5300, 5555,\n",
       "       5600, 5900, 5911, 6000, 6500, 7000, 7100, 7500, 7800, 8000, 8200,\n",
       "       8455, 8500, 8888, 9000, 9229, 9450, 9996, 9999])"
      ]
     },
     "execution_count": 17,
     "metadata": {},
     "output_type": "execute_result"
    }
   ],
   "source": [
    "df['registration_year'].sort_values().unique()"
   ]
  },
  {
   "cell_type": "code",
   "execution_count": 18,
   "metadata": {},
   "outputs": [
    {
     "data": {
      "text/html": [
       "<div>\n",
       "<style scoped>\n",
       "    .dataframe tbody tr th:only-of-type {\n",
       "        vertical-align: middle;\n",
       "    }\n",
       "\n",
       "    .dataframe tbody tr th {\n",
       "        vertical-align: top;\n",
       "    }\n",
       "\n",
       "    .dataframe thead th {\n",
       "        text-align: right;\n",
       "    }\n",
       "</style>\n",
       "<table border=\"1\" class=\"dataframe\">\n",
       "  <thead>\n",
       "    <tr style=\"text-align: right;\">\n",
       "      <th></th>\n",
       "      <th>date_crawled</th>\n",
       "      <th>price</th>\n",
       "      <th>vehicle_type</th>\n",
       "      <th>registration_year</th>\n",
       "      <th>gearbox</th>\n",
       "      <th>power</th>\n",
       "      <th>model</th>\n",
       "      <th>kilometer</th>\n",
       "      <th>registration_month</th>\n",
       "      <th>fuel_type</th>\n",
       "      <th>brand</th>\n",
       "      <th>repaired</th>\n",
       "      <th>date_created</th>\n",
       "      <th>number_of_pictures</th>\n",
       "      <th>postal_code</th>\n",
       "      <th>last_seen</th>\n",
       "    </tr>\n",
       "  </thead>\n",
       "  <tbody>\n",
       "    <tr>\n",
       "      <th>151725</th>\n",
       "      <td>2016-04-03</td>\n",
       "      <td>400</td>\n",
       "      <td>other</td>\n",
       "      <td>1000</td>\n",
       "      <td>NaN</td>\n",
       "      <td>0</td>\n",
       "      <td>NaN</td>\n",
       "      <td>5000</td>\n",
       "      <td>0</td>\n",
       "      <td>NaN</td>\n",
       "      <td>mercedes_benz</td>\n",
       "      <td>NaN</td>\n",
       "      <td>2016-04-03 00:00:00</td>\n",
       "      <td>0</td>\n",
       "      <td>8060</td>\n",
       "      <td>2016-04-07 13:16:56</td>\n",
       "    </tr>\n",
       "    <tr>\n",
       "      <th>119442</th>\n",
       "      <td>2016-03-18</td>\n",
       "      <td>1</td>\n",
       "      <td>other</td>\n",
       "      <td>1000</td>\n",
       "      <td>NaN</td>\n",
       "      <td>1000</td>\n",
       "      <td>3er</td>\n",
       "      <td>5000</td>\n",
       "      <td>0</td>\n",
       "      <td>NaN</td>\n",
       "      <td>bmw</td>\n",
       "      <td>NaN</td>\n",
       "      <td>2016-03-18 00:00:00</td>\n",
       "      <td>0</td>\n",
       "      <td>94086</td>\n",
       "      <td>2016-04-05 22:16:13</td>\n",
       "    </tr>\n",
       "    <tr>\n",
       "      <th>242233</th>\n",
       "      <td>2016-03-14</td>\n",
       "      <td>0</td>\n",
       "      <td>other</td>\n",
       "      <td>1000</td>\n",
       "      <td>NaN</td>\n",
       "      <td>0</td>\n",
       "      <td>NaN</td>\n",
       "      <td>5000</td>\n",
       "      <td>0</td>\n",
       "      <td>NaN</td>\n",
       "      <td>mercedes_benz</td>\n",
       "      <td>NaN</td>\n",
       "      <td>2016-03-14 00:00:00</td>\n",
       "      <td>0</td>\n",
       "      <td>53783</td>\n",
       "      <td>2016-03-21 17:49:41</td>\n",
       "    </tr>\n",
       "    <tr>\n",
       "      <th>129221</th>\n",
       "      <td>2016-03-23</td>\n",
       "      <td>0</td>\n",
       "      <td>other</td>\n",
       "      <td>1000</td>\n",
       "      <td>manual</td>\n",
       "      <td>70</td>\n",
       "      <td>NaN</td>\n",
       "      <td>5000</td>\n",
       "      <td>6</td>\n",
       "      <td>NaN</td>\n",
       "      <td>volkswagen</td>\n",
       "      <td>yes</td>\n",
       "      <td>2016-03-23 00:00:00</td>\n",
       "      <td>0</td>\n",
       "      <td>65614</td>\n",
       "      <td>2016-03-24 12:50:29</td>\n",
       "    </tr>\n",
       "    <tr>\n",
       "      <th>233631</th>\n",
       "      <td>2016-04-03</td>\n",
       "      <td>65</td>\n",
       "      <td>other</td>\n",
       "      <td>1000</td>\n",
       "      <td>NaN</td>\n",
       "      <td>0</td>\n",
       "      <td>NaN</td>\n",
       "      <td>5000</td>\n",
       "      <td>1</td>\n",
       "      <td>NaN</td>\n",
       "      <td>sonstige_autos</td>\n",
       "      <td>NaN</td>\n",
       "      <td>2016-04-03 00:00:00</td>\n",
       "      <td>0</td>\n",
       "      <td>66121</td>\n",
       "      <td>2016-04-05 15:16:17</td>\n",
       "    </tr>\n",
       "    <tr>\n",
       "      <th>...</th>\n",
       "      <td>...</td>\n",
       "      <td>...</td>\n",
       "      <td>...</td>\n",
       "      <td>...</td>\n",
       "      <td>...</td>\n",
       "      <td>...</td>\n",
       "      <td>...</td>\n",
       "      <td>...</td>\n",
       "      <td>...</td>\n",
       "      <td>...</td>\n",
       "      <td>...</td>\n",
       "      <td>...</td>\n",
       "      <td>...</td>\n",
       "      <td>...</td>\n",
       "      <td>...</td>\n",
       "      <td>...</td>\n",
       "    </tr>\n",
       "    <tr>\n",
       "      <th>195855</th>\n",
       "      <td>2016-03-28</td>\n",
       "      <td>1</td>\n",
       "      <td>other</td>\n",
       "      <td>1800</td>\n",
       "      <td>NaN</td>\n",
       "      <td>0</td>\n",
       "      <td>zafira</td>\n",
       "      <td>5000</td>\n",
       "      <td>0</td>\n",
       "      <td>NaN</td>\n",
       "      <td>opel</td>\n",
       "      <td>NaN</td>\n",
       "      <td>2016-03-28 00:00:00</td>\n",
       "      <td>0</td>\n",
       "      <td>50171</td>\n",
       "      <td>2016-04-05 03:44:47</td>\n",
       "    </tr>\n",
       "    <tr>\n",
       "      <th>139360</th>\n",
       "      <td>2016-04-02</td>\n",
       "      <td>450</td>\n",
       "      <td>other</td>\n",
       "      <td>1800</td>\n",
       "      <td>NaN</td>\n",
       "      <td>1800</td>\n",
       "      <td>NaN</td>\n",
       "      <td>5000</td>\n",
       "      <td>2</td>\n",
       "      <td>NaN</td>\n",
       "      <td>mitsubishi</td>\n",
       "      <td>no</td>\n",
       "      <td>2016-04-02 00:00:00</td>\n",
       "      <td>0</td>\n",
       "      <td>63322</td>\n",
       "      <td>2016-04-04 14:46:21</td>\n",
       "    </tr>\n",
       "    <tr>\n",
       "      <th>34332</th>\n",
       "      <td>2016-04-01</td>\n",
       "      <td>450</td>\n",
       "      <td>other</td>\n",
       "      <td>1800</td>\n",
       "      <td>NaN</td>\n",
       "      <td>1800</td>\n",
       "      <td>NaN</td>\n",
       "      <td>5000</td>\n",
       "      <td>2</td>\n",
       "      <td>NaN</td>\n",
       "      <td>mitsubishi</td>\n",
       "      <td>no</td>\n",
       "      <td>2016-04-01 00:00:00</td>\n",
       "      <td>0</td>\n",
       "      <td>63322</td>\n",
       "      <td>2016-04-01 09:42:30</td>\n",
       "    </tr>\n",
       "    <tr>\n",
       "      <th>218241</th>\n",
       "      <td>2016-03-16</td>\n",
       "      <td>7999</td>\n",
       "      <td>other</td>\n",
       "      <td>1800</td>\n",
       "      <td>NaN</td>\n",
       "      <td>290</td>\n",
       "      <td>golf</td>\n",
       "      <td>5000</td>\n",
       "      <td>6</td>\n",
       "      <td>NaN</td>\n",
       "      <td>volkswagen</td>\n",
       "      <td>NaN</td>\n",
       "      <td>2016-03-16 00:00:00</td>\n",
       "      <td>0</td>\n",
       "      <td>15827</td>\n",
       "      <td>2016-03-29 20:47:40</td>\n",
       "    </tr>\n",
       "    <tr>\n",
       "      <th>351682</th>\n",
       "      <td>2016-03-12</td>\n",
       "      <td>11500</td>\n",
       "      <td>other</td>\n",
       "      <td>1800</td>\n",
       "      <td>NaN</td>\n",
       "      <td>16</td>\n",
       "      <td>other</td>\n",
       "      <td>5000</td>\n",
       "      <td>6</td>\n",
       "      <td>petrol</td>\n",
       "      <td>fiat</td>\n",
       "      <td>NaN</td>\n",
       "      <td>2016-03-11 00:00:00</td>\n",
       "      <td>0</td>\n",
       "      <td>16515</td>\n",
       "      <td>2016-04-05 19:47:27</td>\n",
       "    </tr>\n",
       "  </tbody>\n",
       "</table>\n",
       "<p>66 rows × 16 columns</p>\n",
       "</div>"
      ],
      "text/plain": [
       "       date_crawled  price vehicle_type  registration_year gearbox  power  \\\n",
       "151725   2016-04-03    400        other               1000     NaN      0   \n",
       "119442   2016-03-18      1        other               1000     NaN   1000   \n",
       "242233   2016-03-14      0        other               1000     NaN      0   \n",
       "129221   2016-03-23      0        other               1000  manual     70   \n",
       "233631   2016-04-03     65        other               1000     NaN      0   \n",
       "...             ...    ...          ...                ...     ...    ...   \n",
       "195855   2016-03-28      1        other               1800     NaN      0   \n",
       "139360   2016-04-02    450        other               1800     NaN   1800   \n",
       "34332    2016-04-01    450        other               1800     NaN   1800   \n",
       "218241   2016-03-16   7999        other               1800     NaN    290   \n",
       "351682   2016-03-12  11500        other               1800     NaN     16   \n",
       "\n",
       "         model  kilometer  registration_month fuel_type           brand  \\\n",
       "151725     NaN       5000                   0       NaN   mercedes_benz   \n",
       "119442     3er       5000                   0       NaN             bmw   \n",
       "242233     NaN       5000                   0       NaN   mercedes_benz   \n",
       "129221     NaN       5000                   6       NaN      volkswagen   \n",
       "233631     NaN       5000                   1       NaN  sonstige_autos   \n",
       "...        ...        ...                 ...       ...             ...   \n",
       "195855  zafira       5000                   0       NaN            opel   \n",
       "139360     NaN       5000                   2       NaN      mitsubishi   \n",
       "34332      NaN       5000                   2       NaN      mitsubishi   \n",
       "218241    golf       5000                   6       NaN      volkswagen   \n",
       "351682   other       5000                   6    petrol            fiat   \n",
       "\n",
       "       repaired         date_created  number_of_pictures  postal_code  \\\n",
       "151725      NaN  2016-04-03 00:00:00                   0         8060   \n",
       "119442      NaN  2016-03-18 00:00:00                   0        94086   \n",
       "242233      NaN  2016-03-14 00:00:00                   0        53783   \n",
       "129221      yes  2016-03-23 00:00:00                   0        65614   \n",
       "233631      NaN  2016-04-03 00:00:00                   0        66121   \n",
       "...         ...                  ...                 ...          ...   \n",
       "195855      NaN  2016-03-28 00:00:00                   0        50171   \n",
       "139360       no  2016-04-02 00:00:00                   0        63322   \n",
       "34332        no  2016-04-01 00:00:00                   0        63322   \n",
       "218241      NaN  2016-03-16 00:00:00                   0        15827   \n",
       "351682      NaN  2016-03-11 00:00:00                   0        16515   \n",
       "\n",
       "                  last_seen  \n",
       "151725  2016-04-07 13:16:56  \n",
       "119442  2016-04-05 22:16:13  \n",
       "242233  2016-03-21 17:49:41  \n",
       "129221  2016-03-24 12:50:29  \n",
       "233631  2016-04-05 15:16:17  \n",
       "...                     ...  \n",
       "195855  2016-04-05 03:44:47  \n",
       "139360  2016-04-04 14:46:21  \n",
       "34332   2016-04-01 09:42:30  \n",
       "218241  2016-03-29 20:47:40  \n",
       "351682  2016-04-05 19:47:27  \n",
       "\n",
       "[66 rows x 16 columns]"
      ]
     },
     "execution_count": 18,
     "metadata": {},
     "output_type": "execute_result"
    }
   ],
   "source": [
    "df.query('1910 > registration_year').sort_values(by = 'registration_year')"
   ]
  },
  {
   "cell_type": "code",
   "execution_count": 19,
   "metadata": {},
   "outputs": [
    {
     "data": {
      "text/html": [
       "<div>\n",
       "<style scoped>\n",
       "    .dataframe tbody tr th:only-of-type {\n",
       "        vertical-align: middle;\n",
       "    }\n",
       "\n",
       "    .dataframe tbody tr th {\n",
       "        vertical-align: top;\n",
       "    }\n",
       "\n",
       "    .dataframe thead th {\n",
       "        text-align: right;\n",
       "    }\n",
       "</style>\n",
       "<table border=\"1\" class=\"dataframe\">\n",
       "  <thead>\n",
       "    <tr style=\"text-align: right;\">\n",
       "      <th></th>\n",
       "      <th>date_crawled</th>\n",
       "      <th>price</th>\n",
       "      <th>vehicle_type</th>\n",
       "      <th>registration_year</th>\n",
       "      <th>gearbox</th>\n",
       "      <th>power</th>\n",
       "      <th>model</th>\n",
       "      <th>kilometer</th>\n",
       "      <th>registration_month</th>\n",
       "      <th>fuel_type</th>\n",
       "      <th>brand</th>\n",
       "      <th>repaired</th>\n",
       "      <th>date_created</th>\n",
       "      <th>number_of_pictures</th>\n",
       "      <th>postal_code</th>\n",
       "      <th>last_seen</th>\n",
       "    </tr>\n",
       "  </thead>\n",
       "  <tbody>\n",
       "    <tr>\n",
       "      <th>354289</th>\n",
       "      <td>2016-03-05</td>\n",
       "      <td>5000</td>\n",
       "      <td>other</td>\n",
       "      <td>2017</td>\n",
       "      <td>manual</td>\n",
       "      <td>120</td>\n",
       "      <td>other</td>\n",
       "      <td>150000</td>\n",
       "      <td>7</td>\n",
       "      <td>NaN</td>\n",
       "      <td>citroen</td>\n",
       "      <td>yes</td>\n",
       "      <td>2016-03-05 00:00:00</td>\n",
       "      <td>0</td>\n",
       "      <td>15518</td>\n",
       "      <td>2016-04-05 11:48:09</td>\n",
       "    </tr>\n",
       "    <tr>\n",
       "      <th>303580</th>\n",
       "      <td>2016-04-02</td>\n",
       "      <td>2000</td>\n",
       "      <td>other</td>\n",
       "      <td>2017</td>\n",
       "      <td>manual</td>\n",
       "      <td>0</td>\n",
       "      <td>zafira</td>\n",
       "      <td>150000</td>\n",
       "      <td>0</td>\n",
       "      <td>NaN</td>\n",
       "      <td>opel</td>\n",
       "      <td>no</td>\n",
       "      <td>2016-04-02 00:00:00</td>\n",
       "      <td>0</td>\n",
       "      <td>30952</td>\n",
       "      <td>2016-04-04 10:46:03</td>\n",
       "    </tr>\n",
       "    <tr>\n",
       "      <th>182362</th>\n",
       "      <td>2016-03-29</td>\n",
       "      <td>699</td>\n",
       "      <td>other</td>\n",
       "      <td>2017</td>\n",
       "      <td>NaN</td>\n",
       "      <td>0</td>\n",
       "      <td>golf</td>\n",
       "      <td>150000</td>\n",
       "      <td>0</td>\n",
       "      <td>NaN</td>\n",
       "      <td>volkswagen</td>\n",
       "      <td>NaN</td>\n",
       "      <td>2016-03-29 00:00:00</td>\n",
       "      <td>0</td>\n",
       "      <td>51147</td>\n",
       "      <td>2016-04-06 07:46:26</td>\n",
       "    </tr>\n",
       "    <tr>\n",
       "      <th>182370</th>\n",
       "      <td>2016-03-12</td>\n",
       "      <td>650</td>\n",
       "      <td>other</td>\n",
       "      <td>2017</td>\n",
       "      <td>manual</td>\n",
       "      <td>60</td>\n",
       "      <td>punto</td>\n",
       "      <td>150000</td>\n",
       "      <td>5</td>\n",
       "      <td>petrol</td>\n",
       "      <td>fiat</td>\n",
       "      <td>NaN</td>\n",
       "      <td>2016-03-12 00:00:00</td>\n",
       "      <td>0</td>\n",
       "      <td>66538</td>\n",
       "      <td>2016-03-23 12:18:30</td>\n",
       "    </tr>\n",
       "    <tr>\n",
       "      <th>303577</th>\n",
       "      <td>2016-03-24</td>\n",
       "      <td>12900</td>\n",
       "      <td>other</td>\n",
       "      <td>2017</td>\n",
       "      <td>manual</td>\n",
       "      <td>175</td>\n",
       "      <td>s_max</td>\n",
       "      <td>150000</td>\n",
       "      <td>0</td>\n",
       "      <td>gasoline</td>\n",
       "      <td>ford</td>\n",
       "      <td>NaN</td>\n",
       "      <td>2016-03-24 00:00:00</td>\n",
       "      <td>0</td>\n",
       "      <td>84030</td>\n",
       "      <td>2016-04-03 15:45:25</td>\n",
       "    </tr>\n",
       "    <tr>\n",
       "      <th>...</th>\n",
       "      <td>...</td>\n",
       "      <td>...</td>\n",
       "      <td>...</td>\n",
       "      <td>...</td>\n",
       "      <td>...</td>\n",
       "      <td>...</td>\n",
       "      <td>...</td>\n",
       "      <td>...</td>\n",
       "      <td>...</td>\n",
       "      <td>...</td>\n",
       "      <td>...</td>\n",
       "      <td>...</td>\n",
       "      <td>...</td>\n",
       "      <td>...</td>\n",
       "      <td>...</td>\n",
       "      <td>...</td>\n",
       "    </tr>\n",
       "    <tr>\n",
       "      <th>326725</th>\n",
       "      <td>2016-03-14</td>\n",
       "      <td>60</td>\n",
       "      <td>other</td>\n",
       "      <td>9999</td>\n",
       "      <td>NaN</td>\n",
       "      <td>0</td>\n",
       "      <td>c4</td>\n",
       "      <td>10000</td>\n",
       "      <td>0</td>\n",
       "      <td>NaN</td>\n",
       "      <td>citroen</td>\n",
       "      <td>NaN</td>\n",
       "      <td>2016-03-14 00:00:00</td>\n",
       "      <td>0</td>\n",
       "      <td>53879</td>\n",
       "      <td>2016-03-22 08:15:56</td>\n",
       "    </tr>\n",
       "    <tr>\n",
       "      <th>257793</th>\n",
       "      <td>2016-03-19</td>\n",
       "      <td>50</td>\n",
       "      <td>other</td>\n",
       "      <td>9999</td>\n",
       "      <td>NaN</td>\n",
       "      <td>0</td>\n",
       "      <td>other</td>\n",
       "      <td>10000</td>\n",
       "      <td>0</td>\n",
       "      <td>NaN</td>\n",
       "      <td>hyundai</td>\n",
       "      <td>NaN</td>\n",
       "      <td>2016-03-19 00:00:00</td>\n",
       "      <td>0</td>\n",
       "      <td>18569</td>\n",
       "      <td>2016-03-27 04:17:10</td>\n",
       "    </tr>\n",
       "    <tr>\n",
       "      <th>224832</th>\n",
       "      <td>2016-03-23</td>\n",
       "      <td>0</td>\n",
       "      <td>other</td>\n",
       "      <td>9999</td>\n",
       "      <td>NaN</td>\n",
       "      <td>0</td>\n",
       "      <td>NaN</td>\n",
       "      <td>10000</td>\n",
       "      <td>0</td>\n",
       "      <td>NaN</td>\n",
       "      <td>volkswagen</td>\n",
       "      <td>NaN</td>\n",
       "      <td>2016-03-23 00:00:00</td>\n",
       "      <td>0</td>\n",
       "      <td>9437</td>\n",
       "      <td>2016-03-23 16:52:02</td>\n",
       "    </tr>\n",
       "    <tr>\n",
       "      <th>306578</th>\n",
       "      <td>2016-03-22</td>\n",
       "      <td>350</td>\n",
       "      <td>other</td>\n",
       "      <td>9999</td>\n",
       "      <td>NaN</td>\n",
       "      <td>0</td>\n",
       "      <td>kaefer</td>\n",
       "      <td>10000</td>\n",
       "      <td>1</td>\n",
       "      <td>NaN</td>\n",
       "      <td>volkswagen</td>\n",
       "      <td>NaN</td>\n",
       "      <td>2016-03-22 00:00:00</td>\n",
       "      <td>0</td>\n",
       "      <td>27432</td>\n",
       "      <td>2016-04-06 05:45:40</td>\n",
       "    </tr>\n",
       "    <tr>\n",
       "      <th>151228</th>\n",
       "      <td>2016-03-20</td>\n",
       "      <td>0</td>\n",
       "      <td>other</td>\n",
       "      <td>9999</td>\n",
       "      <td>NaN</td>\n",
       "      <td>0</td>\n",
       "      <td>NaN</td>\n",
       "      <td>10000</td>\n",
       "      <td>7</td>\n",
       "      <td>NaN</td>\n",
       "      <td>mazda</td>\n",
       "      <td>NaN</td>\n",
       "      <td>2016-03-20 00:00:00</td>\n",
       "      <td>0</td>\n",
       "      <td>40822</td>\n",
       "      <td>2016-03-20 19:53:26</td>\n",
       "    </tr>\n",
       "  </tbody>\n",
       "</table>\n",
       "<p>14530 rows × 16 columns</p>\n",
       "</div>"
      ],
      "text/plain": [
       "       date_crawled  price vehicle_type  registration_year gearbox  power  \\\n",
       "354289   2016-03-05   5000        other               2017  manual    120   \n",
       "303580   2016-04-02   2000        other               2017  manual      0   \n",
       "182362   2016-03-29    699        other               2017     NaN      0   \n",
       "182370   2016-03-12    650        other               2017  manual     60   \n",
       "303577   2016-03-24  12900        other               2017  manual    175   \n",
       "...             ...    ...          ...                ...     ...    ...   \n",
       "326725   2016-03-14     60        other               9999     NaN      0   \n",
       "257793   2016-03-19     50        other               9999     NaN      0   \n",
       "224832   2016-03-23      0        other               9999     NaN      0   \n",
       "306578   2016-03-22    350        other               9999     NaN      0   \n",
       "151228   2016-03-20      0        other               9999     NaN      0   \n",
       "\n",
       "         model  kilometer  registration_month fuel_type       brand repaired  \\\n",
       "354289   other     150000                   7       NaN     citroen      yes   \n",
       "303580  zafira     150000                   0       NaN        opel       no   \n",
       "182362    golf     150000                   0       NaN  volkswagen      NaN   \n",
       "182370   punto     150000                   5    petrol        fiat      NaN   \n",
       "303577   s_max     150000                   0  gasoline        ford      NaN   \n",
       "...        ...        ...                 ...       ...         ...      ...   \n",
       "326725      c4      10000                   0       NaN     citroen      NaN   \n",
       "257793   other      10000                   0       NaN     hyundai      NaN   \n",
       "224832     NaN      10000                   0       NaN  volkswagen      NaN   \n",
       "306578  kaefer      10000                   1       NaN  volkswagen      NaN   \n",
       "151228     NaN      10000                   7       NaN       mazda      NaN   \n",
       "\n",
       "               date_created  number_of_pictures  postal_code  \\\n",
       "354289  2016-03-05 00:00:00                   0        15518   \n",
       "303580  2016-04-02 00:00:00                   0        30952   \n",
       "182362  2016-03-29 00:00:00                   0        51147   \n",
       "182370  2016-03-12 00:00:00                   0        66538   \n",
       "303577  2016-03-24 00:00:00                   0        84030   \n",
       "...                     ...                 ...          ...   \n",
       "326725  2016-03-14 00:00:00                   0        53879   \n",
       "257793  2016-03-19 00:00:00                   0        18569   \n",
       "224832  2016-03-23 00:00:00                   0         9437   \n",
       "306578  2016-03-22 00:00:00                   0        27432   \n",
       "151228  2016-03-20 00:00:00                   0        40822   \n",
       "\n",
       "                  last_seen  \n",
       "354289  2016-04-05 11:48:09  \n",
       "303580  2016-04-04 10:46:03  \n",
       "182362  2016-04-06 07:46:26  \n",
       "182370  2016-03-23 12:18:30  \n",
       "303577  2016-04-03 15:45:25  \n",
       "...                     ...  \n",
       "326725  2016-03-22 08:15:56  \n",
       "257793  2016-03-27 04:17:10  \n",
       "224832  2016-03-23 16:52:02  \n",
       "306578  2016-04-06 05:45:40  \n",
       "151228  2016-03-20 19:53:26  \n",
       "\n",
       "[14530 rows x 16 columns]"
      ]
     },
     "execution_count": 19,
     "metadata": {},
     "output_type": "execute_result"
    }
   ],
   "source": [
    "df.query('registration_year > 2016').sort_values(by = 'registration_year')"
   ]
  },
  {
   "cell_type": "markdown",
   "metadata": {},
   "source": [
    "В столбец с годом регистрации закралась ошибка. Есть значения до 1901 года (гугл утверждает, что именно в этом году в США зарегистрирован первый автомобиль и после 2016. А мы знаем, что анкеты скачивали и создавались в 2016, пропусков в датах нет, значит автомобилей зарегистрированных после 2016 года в датасете быть не может. Вероятно, пользователи ошибались и указывали вместо года регистрации, например, цену. Но в этих строках цены не похожи на год, заменить не удастся. Данных с нереальными годами примерно 4%. Немало. Но заменить неким медианными годом (посчитанным по машинам с такими же маркой и моделью) выглядит нелогично, одни и те же модели выпускаютс десятки лет. А от свежести автомобиля цена зависит очень сильно. Корреляция еще не посчитана, но это известно по опыту. Принимаем решение удалить 4% вводящей в заблуждение информации."
   ]
  },
  {
   "cell_type": "code",
   "execution_count": 20,
   "metadata": {},
   "outputs": [],
   "source": [
    "df = df[df.registration_year > 1909 ]"
   ]
  },
  {
   "cell_type": "code",
   "execution_count": 21,
   "metadata": {},
   "outputs": [],
   "source": [
    "df = df[df.registration_year < 2017 ]"
   ]
  },
  {
   "cell_type": "code",
   "execution_count": 22,
   "metadata": {
    "scrolled": true
   },
   "outputs": [
    {
     "data": {
      "text/plain": [
       "array([1910, 1915, 1919, 1920, 1923, 1925, 1927, 1928, 1929, 1930, 1931,\n",
       "       1932, 1933, 1934, 1935, 1936, 1937, 1938, 1940, 1941, 1942, 1943,\n",
       "       1944, 1945, 1946, 1947, 1948, 1949, 1950, 1951, 1952, 1953, 1954,\n",
       "       1955, 1956, 1957, 1958, 1959, 1960, 1961, 1962, 1963, 1964, 1965,\n",
       "       1966, 1967, 1968, 1969, 1970, 1971, 1972, 1973, 1974, 1975, 1976,\n",
       "       1977, 1978, 1979, 1980, 1981, 1982, 1983, 1984, 1985, 1986, 1987,\n",
       "       1988, 1989, 1990, 1991, 1992, 1993, 1994, 1995, 1996, 1997, 1998,\n",
       "       1999, 2000, 2001, 2002, 2003, 2004, 2005, 2006, 2007, 2008, 2009,\n",
       "       2010, 2011, 2012, 2013, 2014, 2015, 2016])"
      ]
     },
     "execution_count": 22,
     "metadata": {},
     "output_type": "execute_result"
    }
   ],
   "source": [
    "df['registration_year'].sort_values().unique()"
   ]
  },
  {
   "cell_type": "code",
   "execution_count": 23,
   "metadata": {
    "scrolled": true
   },
   "outputs": [
    {
     "name": "stdout",
     "output_type": "stream",
     "text": [
      "<class 'pandas.core.frame.DataFrame'>\n",
      "Int64Index: 339769 entries, 0 to 354368\n",
      "Data columns (total 16 columns):\n",
      " #   Column              Non-Null Count   Dtype         \n",
      "---  ------              --------------   -----         \n",
      " 0   date_crawled        339769 non-null  datetime64[ns]\n",
      " 1   price               339769 non-null  int64         \n",
      " 2   vehicle_type        339769 non-null  object        \n",
      " 3   registration_year   339769 non-null  int64         \n",
      " 4   gearbox             321860 non-null  object        \n",
      " 5   power               339769 non-null  int64         \n",
      " 6   model               322144 non-null  object        \n",
      " 7   kilometer           339769 non-null  int64         \n",
      " 8   registration_month  339769 non-null  int64         \n",
      " 9   fuel_type           312520 non-null  object        \n",
      " 10  brand               339769 non-null  object        \n",
      " 11  repaired            274970 non-null  object        \n",
      " 12  date_created        339769 non-null  object        \n",
      " 13  number_of_pictures  339769 non-null  int64         \n",
      " 14  postal_code         339769 non-null  int64         \n",
      " 15  last_seen           339769 non-null  object        \n",
      "dtypes: datetime64[ns](1), int64(7), object(8)\n",
      "memory usage: 44.1+ MB\n"
     ]
    }
   ],
   "source": [
    "df.info()"
   ]
  },
  {
   "cell_type": "markdown",
   "metadata": {},
   "source": [
    "### gearbox - тип коробки передач"
   ]
  },
  {
   "cell_type": "code",
   "execution_count": 24,
   "metadata": {},
   "outputs": [
    {
     "data": {
      "text/plain": [
       "manual    257560\n",
       "auto       64300\n",
       "Name: gearbox, dtype: int64"
      ]
     },
     "execution_count": 24,
     "metadata": {},
     "output_type": "execute_result"
    }
   ],
   "source": [
    "df['gearbox'].value_counts().sort_values(ascending = False)"
   ]
  },
  {
   "cell_type": "code",
   "execution_count": 25,
   "metadata": {
    "scrolled": true
   },
   "outputs": [
    {
     "data": {
      "text/plain": [
       "manual     257560\n",
       "auto        64300\n",
       "unknown     17909\n",
       "Name: gearbox, dtype: int64"
      ]
     },
     "execution_count": 25,
     "metadata": {},
     "output_type": "execute_result"
    }
   ],
   "source": [
    "df['gearbox'] = df['gearbox'].fillna('unknown')\n",
    "df['gearbox'].value_counts().sort_values(ascending = False)"
   ]
  },
  {
   "cell_type": "markdown",
   "metadata": {},
   "source": [
    "Пропусков 17 909 Механика 80%, автомат 20%. \n",
    "\n",
    "Заполнили пропуски значением unknown, чтобы избавиться от Nan для корректной работы моделей. "
   ]
  },
  {
   "cell_type": "markdown",
   "metadata": {},
   "source": [
    "### brand - марка автомобиля"
   ]
  },
  {
   "cell_type": "code",
   "execution_count": 26,
   "metadata": {},
   "outputs": [
    {
     "data": {
      "text/plain": [
       "volkswagen        73186\n",
       "opel              38000\n",
       "bmw               35800\n",
       "mercedes_benz     31002\n",
       "audi              28478\n",
       "ford              24170\n",
       "renault           16928\n",
       "peugeot           10624\n",
       "fiat               9159\n",
       "seat               6535\n",
       "mazda              5397\n",
       "skoda              5358\n",
       "smart              5029\n",
       "citroen            4916\n",
       "nissan             4747\n",
       "toyota             4460\n",
       "hyundai            3448\n",
       "sonstige_autos     3197\n",
       "volvo              3142\n",
       "mini               3094\n",
       "mitsubishi         2910\n",
       "honda              2688\n",
       "kia                2364\n",
       "suzuki             2248\n",
       "alfa_romeo         2234\n",
       "chevrolet          1703\n",
       "chrysler           1393\n",
       "dacia               874\n",
       "daihatsu            780\n",
       "porsche             747\n",
       "subaru              741\n",
       "jeep                652\n",
       "trabant             576\n",
       "land_rover          537\n",
       "saab                514\n",
       "daewoo              513\n",
       "jaguar              500\n",
       "rover               459\n",
       "lancia              448\n",
       "lada                218\n",
       "Name: brand, dtype: int64"
      ]
     },
     "execution_count": 26,
     "metadata": {},
     "output_type": "execute_result"
    }
   ],
   "source": [
    "df['brand'].value_counts().sort_values(ascending = False)"
   ]
  },
  {
   "cell_type": "markdown",
   "metadata": {},
   "source": [
    "Вывели список уникальных значений марки а/м. Пропусков нет. Неявных дубликатов нет. \"sonstige_autos\" - похоже, обозначение марки автомобиля, которой не было в списке, аналог \"другой\"."
   ]
  },
  {
   "cell_type": "markdown",
   "metadata": {},
   "source": [
    "### model - модель автомобиля"
   ]
  },
  {
   "cell_type": "code",
   "execution_count": 27,
   "metadata": {
    "scrolled": true
   },
   "outputs": [
    {
     "data": {
      "text/plain": [
       "count     322144\n",
       "unique       250\n",
       "top         golf\n",
       "freq       27614\n",
       "Name: model, dtype: object"
      ]
     },
     "execution_count": 27,
     "metadata": {},
     "output_type": "execute_result"
    }
   ],
   "source": [
    "df['model'].describe()"
   ]
  },
  {
   "cell_type": "markdown",
   "metadata": {},
   "source": [
    "Пропусков - 17 625. Заменим их на unknown"
   ]
  },
  {
   "cell_type": "code",
   "execution_count": 28,
   "metadata": {
    "scrolled": true
   },
   "outputs": [
    {
     "data": {
      "text/plain": [
       "other                 41494\n",
       "golf                  27614\n",
       "3er                   19225\n",
       "polo                  12452\n",
       "corsa                 11938\n",
       "                      ...  \n",
       "kalina                    6\n",
       "serie_3                   4\n",
       "rangerover                3\n",
       "serie_1                   2\n",
       "range_rover_evoque        2\n",
       "Name: model, Length: 250, dtype: int64"
      ]
     },
     "execution_count": 28,
     "metadata": {},
     "output_type": "execute_result"
    }
   ],
   "source": [
    "df['model'] = df['model'].fillna('other')\n",
    "df['model'].value_counts().sort_values(ascending = False)"
   ]
  },
  {
   "cell_type": "code",
   "execution_count": 29,
   "metadata": {},
   "outputs": [
    {
     "data": {
      "text/plain": [
       "count     339769\n",
       "unique       250\n",
       "top        other\n",
       "freq       41494\n",
       "Name: model, dtype: object"
      ]
     },
     "execution_count": 29,
     "metadata": {},
     "output_type": "execute_result"
    }
   ],
   "source": [
    "df['model'].describe()"
   ]
  },
  {
   "cell_type": "markdown",
   "metadata": {},
   "source": [
    "### power - мощность (л. с.)"
   ]
  },
  {
   "cell_type": "code",
   "execution_count": 30,
   "metadata": {
    "scrolled": true
   },
   "outputs": [
    {
     "data": {
      "text/plain": [
       "count    339769.000000\n",
       "mean        111.002178\n",
       "std         186.880169\n",
       "min           0.000000\n",
       "25%          69.000000\n",
       "50%         105.000000\n",
       "75%         143.000000\n",
       "max       20000.000000\n",
       "Name: power, dtype: float64"
      ]
     },
     "execution_count": 30,
     "metadata": {},
     "output_type": "execute_result"
    }
   ],
   "source": [
    "df['power'].describe()"
   ]
  },
  {
   "cell_type": "code",
   "execution_count": 31,
   "metadata": {
    "scrolled": true
   },
   "outputs": [
    {
     "data": {
      "image/png": "[encoded data removed]",
      "text/plain": [
       "<Figure size 576x576 with 1 Axes>"
      ]
     },
     "metadata": {
      "needs_background": "light"
     },
     "output_type": "display_data"
    }
   ],
   "source": [
    "plt.figure(figsize=(8,8))\n",
    "df.boxplot('power')\n",
    "\n",
    "plt.xlabel('_')\n",
    "plt.ylabel('Мощность')\n",
    "plt.title('Диаграмма размаха по мощности автомобиля')\n",
    "plt.show()"
   ]
  },
  {
   "cell_type": "markdown",
   "metadata": {},
   "source": [
    "Посмотрели на мощность а/м через описание и диаграмму размаха. Есть а/м с мощностью - 0 л. с. 75% значений до 143 л.с. Максимальное значние - 20 000 л.с. Гугл подсказал, что бываеют а/м с мощностью около 1000, но обычно встречаются до 500-600. Также попытка перевести данные в другие единицы измерения не привела к результату."
   ]
  },
  {
   "cell_type": "code",
   "execution_count": 32,
   "metadata": {},
   "outputs": [
    {
     "data": {
      "text/html": [
       "<div>\n",
       "<style scoped>\n",
       "    .dataframe tbody tr th:only-of-type {\n",
       "        vertical-align: middle;\n",
       "    }\n",
       "\n",
       "    .dataframe tbody tr th {\n",
       "        vertical-align: top;\n",
       "    }\n",
       "\n",
       "    .dataframe thead th {\n",
       "        text-align: right;\n",
       "    }\n",
       "</style>\n",
       "<table border=\"1\" class=\"dataframe\">\n",
       "  <thead>\n",
       "    <tr style=\"text-align: right;\">\n",
       "      <th></th>\n",
       "      <th>date_crawled</th>\n",
       "      <th>price</th>\n",
       "      <th>vehicle_type</th>\n",
       "      <th>registration_year</th>\n",
       "      <th>gearbox</th>\n",
       "      <th>power</th>\n",
       "      <th>model</th>\n",
       "      <th>kilometer</th>\n",
       "      <th>registration_month</th>\n",
       "      <th>fuel_type</th>\n",
       "      <th>brand</th>\n",
       "      <th>repaired</th>\n",
       "      <th>date_created</th>\n",
       "      <th>number_of_pictures</th>\n",
       "      <th>postal_code</th>\n",
       "      <th>last_seen</th>\n",
       "    </tr>\n",
       "  </thead>\n",
       "  <tbody>\n",
       "    <tr>\n",
       "      <th>1816</th>\n",
       "      <td>2016-03-22</td>\n",
       "      <td>3200</td>\n",
       "      <td>small</td>\n",
       "      <td>2004</td>\n",
       "      <td>manual</td>\n",
       "      <td>1398</td>\n",
       "      <td>corolla</td>\n",
       "      <td>5000</td>\n",
       "      <td>6</td>\n",
       "      <td>petrol</td>\n",
       "      <td>toyota</td>\n",
       "      <td>no</td>\n",
       "      <td>2016-03-22 00:00:00</td>\n",
       "      <td>0</td>\n",
       "      <td>22043</td>\n",
       "      <td>2016-03-22 21:43:26</td>\n",
       "    </tr>\n",
       "    <tr>\n",
       "      <th>2102</th>\n",
       "      <td>2016-03-21</td>\n",
       "      <td>0</td>\n",
       "      <td>sedan</td>\n",
       "      <td>1999</td>\n",
       "      <td>unknown</td>\n",
       "      <td>1799</td>\n",
       "      <td>vectra</td>\n",
       "      <td>150000</td>\n",
       "      <td>1</td>\n",
       "      <td>petrol</td>\n",
       "      <td>opel</td>\n",
       "      <td>yes</td>\n",
       "      <td>2016-03-21 00:00:00</td>\n",
       "      <td>0</td>\n",
       "      <td>1723</td>\n",
       "      <td>2016-04-04 04:49:06</td>\n",
       "    </tr>\n",
       "    <tr>\n",
       "      <th>4060</th>\n",
       "      <td>2016-04-03</td>\n",
       "      <td>3100</td>\n",
       "      <td>sedan</td>\n",
       "      <td>2005</td>\n",
       "      <td>manual</td>\n",
       "      <td>953</td>\n",
       "      <td>colt</td>\n",
       "      <td>150000</td>\n",
       "      <td>4</td>\n",
       "      <td>gasoline</td>\n",
       "      <td>mitsubishi</td>\n",
       "      <td>no</td>\n",
       "      <td>2016-04-03 00:00:00</td>\n",
       "      <td>0</td>\n",
       "      <td>60326</td>\n",
       "      <td>2016-04-07 14:56:46</td>\n",
       "    </tr>\n",
       "    <tr>\n",
       "      <th>5328</th>\n",
       "      <td>2016-03-29</td>\n",
       "      <td>500</td>\n",
       "      <td>wagon</td>\n",
       "      <td>1999</td>\n",
       "      <td>manual</td>\n",
       "      <td>1001</td>\n",
       "      <td>astra</td>\n",
       "      <td>150000</td>\n",
       "      <td>7</td>\n",
       "      <td>petrol</td>\n",
       "      <td>opel</td>\n",
       "      <td>NaN</td>\n",
       "      <td>2016-03-29 00:00:00</td>\n",
       "      <td>0</td>\n",
       "      <td>33154</td>\n",
       "      <td>2016-04-06 05:44:36</td>\n",
       "    </tr>\n",
       "    <tr>\n",
       "      <th>6296</th>\n",
       "      <td>2016-03-31</td>\n",
       "      <td>599</td>\n",
       "      <td>small</td>\n",
       "      <td>2002</td>\n",
       "      <td>manual</td>\n",
       "      <td>603</td>\n",
       "      <td>matiz</td>\n",
       "      <td>5000</td>\n",
       "      <td>11</td>\n",
       "      <td>petrol</td>\n",
       "      <td>chevrolet</td>\n",
       "      <td>yes</td>\n",
       "      <td>2016-03-31 00:00:00</td>\n",
       "      <td>0</td>\n",
       "      <td>44379</td>\n",
       "      <td>2016-04-01 03:41:52</td>\n",
       "    </tr>\n",
       "    <tr>\n",
       "      <th>...</th>\n",
       "      <td>...</td>\n",
       "      <td>...</td>\n",
       "      <td>...</td>\n",
       "      <td>...</td>\n",
       "      <td>...</td>\n",
       "      <td>...</td>\n",
       "      <td>...</td>\n",
       "      <td>...</td>\n",
       "      <td>...</td>\n",
       "      <td>...</td>\n",
       "      <td>...</td>\n",
       "      <td>...</td>\n",
       "      <td>...</td>\n",
       "      <td>...</td>\n",
       "      <td>...</td>\n",
       "      <td>...</td>\n",
       "    </tr>\n",
       "    <tr>\n",
       "      <th>348883</th>\n",
       "      <td>2016-03-13</td>\n",
       "      <td>7500</td>\n",
       "      <td>sedan</td>\n",
       "      <td>2011</td>\n",
       "      <td>manual</td>\n",
       "      <td>1548</td>\n",
       "      <td>scenic</td>\n",
       "      <td>90000</td>\n",
       "      <td>4</td>\n",
       "      <td>petrol</td>\n",
       "      <td>renault</td>\n",
       "      <td>NaN</td>\n",
       "      <td>2016-03-13 00:00:00</td>\n",
       "      <td>0</td>\n",
       "      <td>24568</td>\n",
       "      <td>2016-04-06 15:17:39</td>\n",
       "    </tr>\n",
       "    <tr>\n",
       "      <th>348968</th>\n",
       "      <td>2016-04-04</td>\n",
       "      <td>250</td>\n",
       "      <td>small</td>\n",
       "      <td>1999</td>\n",
       "      <td>manual</td>\n",
       "      <td>1241</td>\n",
       "      <td>ypsilon</td>\n",
       "      <td>150000</td>\n",
       "      <td>5</td>\n",
       "      <td>petrol</td>\n",
       "      <td>lancia</td>\n",
       "      <td>yes</td>\n",
       "      <td>2016-04-04 00:00:00</td>\n",
       "      <td>0</td>\n",
       "      <td>28259</td>\n",
       "      <td>2016-04-04 18:53:25</td>\n",
       "    </tr>\n",
       "    <tr>\n",
       "      <th>351947</th>\n",
       "      <td>2016-03-07</td>\n",
       "      <td>1500</td>\n",
       "      <td>bus</td>\n",
       "      <td>2001</td>\n",
       "      <td>manual</td>\n",
       "      <td>1001</td>\n",
       "      <td>zafira</td>\n",
       "      <td>5000</td>\n",
       "      <td>7</td>\n",
       "      <td>gasoline</td>\n",
       "      <td>opel</td>\n",
       "      <td>no</td>\n",
       "      <td>2016-03-07 00:00:00</td>\n",
       "      <td>0</td>\n",
       "      <td>66117</td>\n",
       "      <td>2016-03-09 12:47:08</td>\n",
       "    </tr>\n",
       "    <tr>\n",
       "      <th>353633</th>\n",
       "      <td>2016-03-23</td>\n",
       "      <td>2400</td>\n",
       "      <td>sedan</td>\n",
       "      <td>2007</td>\n",
       "      <td>manual</td>\n",
       "      <td>650</td>\n",
       "      <td>c2</td>\n",
       "      <td>150000</td>\n",
       "      <td>8</td>\n",
       "      <td>petrol</td>\n",
       "      <td>citroen</td>\n",
       "      <td>NaN</td>\n",
       "      <td>2016-03-23 00:00:00</td>\n",
       "      <td>0</td>\n",
       "      <td>45277</td>\n",
       "      <td>2016-03-27 01:15:17</td>\n",
       "    </tr>\n",
       "    <tr>\n",
       "      <th>354260</th>\n",
       "      <td>2016-03-09</td>\n",
       "      <td>399</td>\n",
       "      <td>other</td>\n",
       "      <td>1994</td>\n",
       "      <td>unknown</td>\n",
       "      <td>1103</td>\n",
       "      <td>3er</td>\n",
       "      <td>150000</td>\n",
       "      <td>0</td>\n",
       "      <td>NaN</td>\n",
       "      <td>bmw</td>\n",
       "      <td>NaN</td>\n",
       "      <td>2016-03-09 00:00:00</td>\n",
       "      <td>0</td>\n",
       "      <td>56235</td>\n",
       "      <td>2016-03-17 09:17:08</td>\n",
       "    </tr>\n",
       "  </tbody>\n",
       "</table>\n",
       "<p>421 rows × 16 columns</p>\n",
       "</div>"
      ],
      "text/plain": [
       "       date_crawled  price vehicle_type  registration_year  gearbox  power  \\\n",
       "1816     2016-03-22   3200        small               2004   manual   1398   \n",
       "2102     2016-03-21      0        sedan               1999  unknown   1799   \n",
       "4060     2016-04-03   3100        sedan               2005   manual    953   \n",
       "5328     2016-03-29    500        wagon               1999   manual   1001   \n",
       "6296     2016-03-31    599        small               2002   manual    603   \n",
       "...             ...    ...          ...                ...      ...    ...   \n",
       "348883   2016-03-13   7500        sedan               2011   manual   1548   \n",
       "348968   2016-04-04    250        small               1999   manual   1241   \n",
       "351947   2016-03-07   1500          bus               2001   manual   1001   \n",
       "353633   2016-03-23   2400        sedan               2007   manual    650   \n",
       "354260   2016-03-09    399        other               1994  unknown   1103   \n",
       "\n",
       "          model  kilometer  registration_month fuel_type       brand repaired  \\\n",
       "1816    corolla       5000                   6    petrol      toyota       no   \n",
       "2102     vectra     150000                   1    petrol        opel      yes   \n",
       "4060       colt     150000                   4  gasoline  mitsubishi       no   \n",
       "5328      astra     150000                   7    petrol        opel      NaN   \n",
       "6296      matiz       5000                  11    petrol   chevrolet      yes   \n",
       "...         ...        ...                 ...       ...         ...      ...   \n",
       "348883   scenic      90000                   4    petrol     renault      NaN   \n",
       "348968  ypsilon     150000                   5    petrol      lancia      yes   \n",
       "351947   zafira       5000                   7  gasoline        opel       no   \n",
       "353633       c2     150000                   8    petrol     citroen      NaN   \n",
       "354260      3er     150000                   0       NaN         bmw      NaN   \n",
       "\n",
       "               date_created  number_of_pictures  postal_code  \\\n",
       "1816    2016-03-22 00:00:00                   0        22043   \n",
       "2102    2016-03-21 00:00:00                   0         1723   \n",
       "4060    2016-04-03 00:00:00                   0        60326   \n",
       "5328    2016-03-29 00:00:00                   0        33154   \n",
       "6296    2016-03-31 00:00:00                   0        44379   \n",
       "...                     ...                 ...          ...   \n",
       "348883  2016-03-13 00:00:00                   0        24568   \n",
       "348968  2016-04-04 00:00:00                   0        28259   \n",
       "351947  2016-03-07 00:00:00                   0        66117   \n",
       "353633  2016-03-23 00:00:00                   0        45277   \n",
       "354260  2016-03-09 00:00:00                   0        56235   \n",
       "\n",
       "                  last_seen  \n",
       "1816    2016-03-22 21:43:26  \n",
       "2102    2016-04-04 04:49:06  \n",
       "4060    2016-04-07 14:56:46  \n",
       "5328    2016-04-06 05:44:36  \n",
       "6296    2016-04-01 03:41:52  \n",
       "...                     ...  \n",
       "348883  2016-04-06 15:17:39  \n",
       "348968  2016-04-04 18:53:25  \n",
       "351947  2016-03-09 12:47:08  \n",
       "353633  2016-03-27 01:15:17  \n",
       "354260  2016-03-17 09:17:08  \n",
       "\n",
       "[421 rows x 16 columns]"
      ]
     },
     "execution_count": 32,
     "metadata": {},
     "output_type": "execute_result"
    }
   ],
   "source": [
    "df.query('power > 500')"
   ]
  },
  {
   "cell_type": "code",
   "execution_count": 33,
   "metadata": {
    "scrolled": true
   },
   "outputs": [
    {
     "data": {
      "text/html": [
       "<div>\n",
       "<style scoped>\n",
       "    .dataframe tbody tr th:only-of-type {\n",
       "        vertical-align: middle;\n",
       "    }\n",
       "\n",
       "    .dataframe tbody tr th {\n",
       "        vertical-align: top;\n",
       "    }\n",
       "\n",
       "    .dataframe thead th {\n",
       "        text-align: right;\n",
       "    }\n",
       "</style>\n",
       "<table border=\"1\" class=\"dataframe\">\n",
       "  <thead>\n",
       "    <tr style=\"text-align: right;\">\n",
       "      <th></th>\n",
       "      <th>date_crawled</th>\n",
       "      <th>price</th>\n",
       "      <th>vehicle_type</th>\n",
       "      <th>registration_year</th>\n",
       "      <th>gearbox</th>\n",
       "      <th>power</th>\n",
       "      <th>model</th>\n",
       "      <th>kilometer</th>\n",
       "      <th>registration_month</th>\n",
       "      <th>fuel_type</th>\n",
       "      <th>brand</th>\n",
       "      <th>repaired</th>\n",
       "      <th>date_created</th>\n",
       "      <th>number_of_pictures</th>\n",
       "      <th>postal_code</th>\n",
       "      <th>last_seen</th>\n",
       "    </tr>\n",
       "  </thead>\n",
       "  <tbody>\n",
       "    <tr>\n",
       "      <th>0</th>\n",
       "      <td>2016-03-24</td>\n",
       "      <td>480</td>\n",
       "      <td>other</td>\n",
       "      <td>1993</td>\n",
       "      <td>manual</td>\n",
       "      <td>0</td>\n",
       "      <td>golf</td>\n",
       "      <td>150000</td>\n",
       "      <td>0</td>\n",
       "      <td>petrol</td>\n",
       "      <td>volkswagen</td>\n",
       "      <td>NaN</td>\n",
       "      <td>2016-03-24 00:00:00</td>\n",
       "      <td>0</td>\n",
       "      <td>70435</td>\n",
       "      <td>2016-04-07 03:16:57</td>\n",
       "    </tr>\n",
       "    <tr>\n",
       "      <th>15</th>\n",
       "      <td>2016-03-11</td>\n",
       "      <td>450</td>\n",
       "      <td>small</td>\n",
       "      <td>1910</td>\n",
       "      <td>unknown</td>\n",
       "      <td>0</td>\n",
       "      <td>ka</td>\n",
       "      <td>5000</td>\n",
       "      <td>0</td>\n",
       "      <td>petrol</td>\n",
       "      <td>ford</td>\n",
       "      <td>NaN</td>\n",
       "      <td>2016-03-11 00:00:00</td>\n",
       "      <td>0</td>\n",
       "      <td>24148</td>\n",
       "      <td>2016-03-19 08:46:47</td>\n",
       "    </tr>\n",
       "    <tr>\n",
       "      <th>32</th>\n",
       "      <td>2016-03-15</td>\n",
       "      <td>245</td>\n",
       "      <td>sedan</td>\n",
       "      <td>1994</td>\n",
       "      <td>unknown</td>\n",
       "      <td>0</td>\n",
       "      <td>golf</td>\n",
       "      <td>150000</td>\n",
       "      <td>2</td>\n",
       "      <td>petrol</td>\n",
       "      <td>volkswagen</td>\n",
       "      <td>no</td>\n",
       "      <td>2016-03-15 00:00:00</td>\n",
       "      <td>0</td>\n",
       "      <td>44145</td>\n",
       "      <td>2016-03-17 18:17:43</td>\n",
       "    </tr>\n",
       "    <tr>\n",
       "      <th>37</th>\n",
       "      <td>2016-03-28</td>\n",
       "      <td>1500</td>\n",
       "      <td>other</td>\n",
       "      <td>2016</td>\n",
       "      <td>unknown</td>\n",
       "      <td>0</td>\n",
       "      <td>kangoo</td>\n",
       "      <td>150000</td>\n",
       "      <td>1</td>\n",
       "      <td>gasoline</td>\n",
       "      <td>renault</td>\n",
       "      <td>no</td>\n",
       "      <td>2016-03-28 00:00:00</td>\n",
       "      <td>0</td>\n",
       "      <td>46483</td>\n",
       "      <td>2016-03-30 09:18:02</td>\n",
       "    </tr>\n",
       "    <tr>\n",
       "      <th>40</th>\n",
       "      <td>2016-03-26</td>\n",
       "      <td>0</td>\n",
       "      <td>other</td>\n",
       "      <td>1990</td>\n",
       "      <td>unknown</td>\n",
       "      <td>0</td>\n",
       "      <td>corsa</td>\n",
       "      <td>150000</td>\n",
       "      <td>1</td>\n",
       "      <td>petrol</td>\n",
       "      <td>opel</td>\n",
       "      <td>NaN</td>\n",
       "      <td>2016-03-26 00:00:00</td>\n",
       "      <td>0</td>\n",
       "      <td>56412</td>\n",
       "      <td>2016-03-27 17:43:34</td>\n",
       "    </tr>\n",
       "    <tr>\n",
       "      <th>...</th>\n",
       "      <td>...</td>\n",
       "      <td>...</td>\n",
       "      <td>...</td>\n",
       "      <td>...</td>\n",
       "      <td>...</td>\n",
       "      <td>...</td>\n",
       "      <td>...</td>\n",
       "      <td>...</td>\n",
       "      <td>...</td>\n",
       "      <td>...</td>\n",
       "      <td>...</td>\n",
       "      <td>...</td>\n",
       "      <td>...</td>\n",
       "      <td>...</td>\n",
       "      <td>...</td>\n",
       "      <td>...</td>\n",
       "    </tr>\n",
       "    <tr>\n",
       "      <th>354346</th>\n",
       "      <td>2016-03-07</td>\n",
       "      <td>2600</td>\n",
       "      <td>other</td>\n",
       "      <td>2005</td>\n",
       "      <td>auto</td>\n",
       "      <td>0</td>\n",
       "      <td>c_klasse</td>\n",
       "      <td>150000</td>\n",
       "      <td>9</td>\n",
       "      <td>NaN</td>\n",
       "      <td>mercedes_benz</td>\n",
       "      <td>NaN</td>\n",
       "      <td>2016-03-07 00:00:00</td>\n",
       "      <td>0</td>\n",
       "      <td>61169</td>\n",
       "      <td>2016-03-08 21:28:38</td>\n",
       "    </tr>\n",
       "    <tr>\n",
       "      <th>354360</th>\n",
       "      <td>2016-04-02</td>\n",
       "      <td>3999</td>\n",
       "      <td>wagon</td>\n",
       "      <td>2005</td>\n",
       "      <td>manual</td>\n",
       "      <td>3</td>\n",
       "      <td>3er</td>\n",
       "      <td>150000</td>\n",
       "      <td>5</td>\n",
       "      <td>gasoline</td>\n",
       "      <td>bmw</td>\n",
       "      <td>no</td>\n",
       "      <td>2016-04-02 00:00:00</td>\n",
       "      <td>0</td>\n",
       "      <td>81825</td>\n",
       "      <td>2016-04-06 20:47:12</td>\n",
       "    </tr>\n",
       "    <tr>\n",
       "      <th>354363</th>\n",
       "      <td>2016-03-27</td>\n",
       "      <td>1150</td>\n",
       "      <td>bus</td>\n",
       "      <td>2000</td>\n",
       "      <td>manual</td>\n",
       "      <td>0</td>\n",
       "      <td>zafira</td>\n",
       "      <td>150000</td>\n",
       "      <td>3</td>\n",
       "      <td>petrol</td>\n",
       "      <td>opel</td>\n",
       "      <td>no</td>\n",
       "      <td>2016-03-27 00:00:00</td>\n",
       "      <td>0</td>\n",
       "      <td>26624</td>\n",
       "      <td>2016-03-29 10:17:23</td>\n",
       "    </tr>\n",
       "    <tr>\n",
       "      <th>354364</th>\n",
       "      <td>2016-03-21</td>\n",
       "      <td>0</td>\n",
       "      <td>other</td>\n",
       "      <td>2005</td>\n",
       "      <td>manual</td>\n",
       "      <td>0</td>\n",
       "      <td>colt</td>\n",
       "      <td>150000</td>\n",
       "      <td>7</td>\n",
       "      <td>petrol</td>\n",
       "      <td>mitsubishi</td>\n",
       "      <td>yes</td>\n",
       "      <td>2016-03-21 00:00:00</td>\n",
       "      <td>0</td>\n",
       "      <td>2694</td>\n",
       "      <td>2016-03-21 10:42:49</td>\n",
       "    </tr>\n",
       "    <tr>\n",
       "      <th>354365</th>\n",
       "      <td>2016-03-14</td>\n",
       "      <td>2200</td>\n",
       "      <td>other</td>\n",
       "      <td>2005</td>\n",
       "      <td>unknown</td>\n",
       "      <td>0</td>\n",
       "      <td>other</td>\n",
       "      <td>20000</td>\n",
       "      <td>1</td>\n",
       "      <td>NaN</td>\n",
       "      <td>sonstige_autos</td>\n",
       "      <td>NaN</td>\n",
       "      <td>2016-03-14 00:00:00</td>\n",
       "      <td>0</td>\n",
       "      <td>39576</td>\n",
       "      <td>2016-04-06 00:46:52</td>\n",
       "    </tr>\n",
       "  </tbody>\n",
       "</table>\n",
       "<p>42172 rows × 16 columns</p>\n",
       "</div>"
      ],
      "text/plain": [
       "       date_crawled  price vehicle_type  registration_year  gearbox  power  \\\n",
       "0        2016-03-24    480        other               1993   manual      0   \n",
       "15       2016-03-11    450        small               1910  unknown      0   \n",
       "32       2016-03-15    245        sedan               1994  unknown      0   \n",
       "37       2016-03-28   1500        other               2016  unknown      0   \n",
       "40       2016-03-26      0        other               1990  unknown      0   \n",
       "...             ...    ...          ...                ...      ...    ...   \n",
       "354346   2016-03-07   2600        other               2005     auto      0   \n",
       "354360   2016-04-02   3999        wagon               2005   manual      3   \n",
       "354363   2016-03-27   1150          bus               2000   manual      0   \n",
       "354364   2016-03-21      0        other               2005   manual      0   \n",
       "354365   2016-03-14   2200        other               2005  unknown      0   \n",
       "\n",
       "           model  kilometer  registration_month fuel_type           brand  \\\n",
       "0           golf     150000                   0    petrol      volkswagen   \n",
       "15            ka       5000                   0    petrol            ford   \n",
       "32          golf     150000                   2    petrol      volkswagen   \n",
       "37        kangoo     150000                   1  gasoline         renault   \n",
       "40         corsa     150000                   1    petrol            opel   \n",
       "...          ...        ...                 ...       ...             ...   \n",
       "354346  c_klasse     150000                   9       NaN   mercedes_benz   \n",
       "354360       3er     150000                   5  gasoline             bmw   \n",
       "354363    zafira     150000                   3    petrol            opel   \n",
       "354364      colt     150000                   7    petrol      mitsubishi   \n",
       "354365     other      20000                   1       NaN  sonstige_autos   \n",
       "\n",
       "       repaired         date_created  number_of_pictures  postal_code  \\\n",
       "0           NaN  2016-03-24 00:00:00                   0        70435   \n",
       "15          NaN  2016-03-11 00:00:00                   0        24148   \n",
       "32           no  2016-03-15 00:00:00                   0        44145   \n",
       "37           no  2016-03-28 00:00:00                   0        46483   \n",
       "40          NaN  2016-03-26 00:00:00                   0        56412   \n",
       "...         ...                  ...                 ...          ...   \n",
       "354346      NaN  2016-03-07 00:00:00                   0        61169   \n",
       "354360       no  2016-04-02 00:00:00                   0        81825   \n",
       "354363       no  2016-03-27 00:00:00                   0        26624   \n",
       "354364      yes  2016-03-21 00:00:00                   0         2694   \n",
       "354365      NaN  2016-03-14 00:00:00                   0        39576   \n",
       "\n",
       "                  last_seen  \n",
       "0       2016-04-07 03:16:57  \n",
       "15      2016-03-19 08:46:47  \n",
       "32      2016-03-17 18:17:43  \n",
       "37      2016-03-30 09:18:02  \n",
       "40      2016-03-27 17:43:34  \n",
       "...                     ...  \n",
       "354346  2016-03-08 21:28:38  \n",
       "354360  2016-04-06 20:47:12  \n",
       "354363  2016-03-29 10:17:23  \n",
       "354364  2016-03-21 10:42:49  \n",
       "354365  2016-04-06 00:46:52  \n",
       "\n",
       "[42172 rows x 16 columns]"
      ]
     },
     "execution_count": 33,
     "metadata": {},
     "output_type": "execute_result"
    }
   ],
   "source": [
    "df.query('power < 50')"
   ]
  },
  {
   "cell_type": "markdown",
   "metadata": {},
   "source": [
    "Вывели значения больше 500 л. с. и меньше 50 л.с. Есть строки, в которых реалистичное значение мощности можно было бы получить разделив его на 10 (строка 6296 chevrolet matiz). Но также есть bmw, уменьшив, значение которой на 10, получим слишком низкое значение мощности для этого автомобяли. \n",
    "\n",
    "Заменим все значения мощности до 50 л.с. и более 50 л.с. на медианные по аналогичным марке и бренду"
   ]
  },
  {
   "cell_type": "code",
   "execution_count": 34,
   "metadata": {},
   "outputs": [],
   "source": [
    "for value in df['brand'].unique():\n",
    "    for val in df['model'].unique():\n",
    "        median_power_brand = df[(df['brand'] == value) & (df['model'] == val)]['power'].median()\n",
    "        df.loc[(df['brand'] == value) & (df['model'] == val) & (df['power'] > 500), 'power'] =  median_power_brand\n",
    "        df.loc[(df['brand'] == value) & (df['model'] == val) & (df['power'] == 0), 'power'] =  median_power_brand"
   ]
  },
  {
   "cell_type": "code",
   "execution_count": 35,
   "metadata": {},
   "outputs": [
    {
     "data": {
      "text/plain": [
       "count    339769.000000\n",
       "mean        118.391956\n",
       "std          52.610322\n",
       "min           0.000000\n",
       "25%          75.000000\n",
       "50%         109.000000\n",
       "75%         145.000000\n",
       "max         500.000000\n",
       "Name: power, dtype: float64"
      ]
     },
     "execution_count": 35,
     "metadata": {},
     "output_type": "execute_result"
    }
   ],
   "source": [
    "df['power'].describe()"
   ]
  },
  {
   "cell_type": "code",
   "execution_count": 36,
   "metadata": {
    "scrolled": true
   },
   "outputs": [
    {
     "data": {
      "text/html": [
       "<div>\n",
       "<style scoped>\n",
       "    .dataframe tbody tr th:only-of-type {\n",
       "        vertical-align: middle;\n",
       "    }\n",
       "\n",
       "    .dataframe tbody tr th {\n",
       "        vertical-align: top;\n",
       "    }\n",
       "\n",
       "    .dataframe thead th {\n",
       "        text-align: right;\n",
       "    }\n",
       "</style>\n",
       "<table border=\"1\" class=\"dataframe\">\n",
       "  <thead>\n",
       "    <tr style=\"text-align: right;\">\n",
       "      <th></th>\n",
       "      <th>date_crawled</th>\n",
       "      <th>price</th>\n",
       "      <th>vehicle_type</th>\n",
       "      <th>registration_year</th>\n",
       "      <th>gearbox</th>\n",
       "      <th>power</th>\n",
       "      <th>model</th>\n",
       "      <th>kilometer</th>\n",
       "      <th>registration_month</th>\n",
       "      <th>fuel_type</th>\n",
       "      <th>brand</th>\n",
       "      <th>repaired</th>\n",
       "      <th>date_created</th>\n",
       "      <th>number_of_pictures</th>\n",
       "      <th>postal_code</th>\n",
       "      <th>last_seen</th>\n",
       "    </tr>\n",
       "  </thead>\n",
       "  <tbody>\n",
       "    <tr>\n",
       "      <th>69320</th>\n",
       "      <td>2016-03-11</td>\n",
       "      <td>20</td>\n",
       "      <td>other</td>\n",
       "      <td>1910</td>\n",
       "      <td>unknown</td>\n",
       "      <td>0.0</td>\n",
       "      <td>other</td>\n",
       "      <td>5000</td>\n",
       "      <td>0</td>\n",
       "      <td>NaN</td>\n",
       "      <td>trabant</td>\n",
       "      <td>NaN</td>\n",
       "      <td>2016-03-11 00:00:00</td>\n",
       "      <td>0</td>\n",
       "      <td>6618</td>\n",
       "      <td>2016-03-25 16:16:54</td>\n",
       "    </tr>\n",
       "    <tr>\n",
       "      <th>150021</th>\n",
       "      <td>2016-03-11</td>\n",
       "      <td>20</td>\n",
       "      <td>other</td>\n",
       "      <td>1910</td>\n",
       "      <td>unknown</td>\n",
       "      <td>0.0</td>\n",
       "      <td>other</td>\n",
       "      <td>5000</td>\n",
       "      <td>0</td>\n",
       "      <td>NaN</td>\n",
       "      <td>trabant</td>\n",
       "      <td>NaN</td>\n",
       "      <td>2016-03-11 00:00:00</td>\n",
       "      <td>0</td>\n",
       "      <td>6618</td>\n",
       "      <td>2016-03-26 06:46:01</td>\n",
       "    </tr>\n",
       "    <tr>\n",
       "      <th>155833</th>\n",
       "      <td>2016-03-11</td>\n",
       "      <td>15</td>\n",
       "      <td>other</td>\n",
       "      <td>1910</td>\n",
       "      <td>unknown</td>\n",
       "      <td>0.0</td>\n",
       "      <td>other</td>\n",
       "      <td>5000</td>\n",
       "      <td>0</td>\n",
       "      <td>NaN</td>\n",
       "      <td>trabant</td>\n",
       "      <td>NaN</td>\n",
       "      <td>2016-03-11 00:00:00</td>\n",
       "      <td>0</td>\n",
       "      <td>90491</td>\n",
       "      <td>2016-03-25 11:18:57</td>\n",
       "    </tr>\n",
       "    <tr>\n",
       "      <th>190238</th>\n",
       "      <td>2016-03-11</td>\n",
       "      <td>15</td>\n",
       "      <td>other</td>\n",
       "      <td>1910</td>\n",
       "      <td>unknown</td>\n",
       "      <td>0.0</td>\n",
       "      <td>other</td>\n",
       "      <td>5000</td>\n",
       "      <td>0</td>\n",
       "      <td>NaN</td>\n",
       "      <td>trabant</td>\n",
       "      <td>NaN</td>\n",
       "      <td>2016-03-11 00:00:00</td>\n",
       "      <td>0</td>\n",
       "      <td>6618</td>\n",
       "      <td>2016-03-26 06:46:38</td>\n",
       "    </tr>\n",
       "    <tr>\n",
       "      <th>212091</th>\n",
       "      <td>2016-04-02</td>\n",
       "      <td>200</td>\n",
       "      <td>other</td>\n",
       "      <td>1910</td>\n",
       "      <td>unknown</td>\n",
       "      <td>0.0</td>\n",
       "      <td>other</td>\n",
       "      <td>5000</td>\n",
       "      <td>0</td>\n",
       "      <td>NaN</td>\n",
       "      <td>trabant</td>\n",
       "      <td>NaN</td>\n",
       "      <td>2016-04-02 00:00:00</td>\n",
       "      <td>0</td>\n",
       "      <td>2627</td>\n",
       "      <td>2016-04-06 22:44:37</td>\n",
       "    </tr>\n",
       "    <tr>\n",
       "      <th>225151</th>\n",
       "      <td>2016-03-09</td>\n",
       "      <td>0</td>\n",
       "      <td>other</td>\n",
       "      <td>1910</td>\n",
       "      <td>unknown</td>\n",
       "      <td>0.0</td>\n",
       "      <td>other</td>\n",
       "      <td>150000</td>\n",
       "      <td>0</td>\n",
       "      <td>NaN</td>\n",
       "      <td>trabant</td>\n",
       "      <td>NaN</td>\n",
       "      <td>2016-03-09 00:00:00</td>\n",
       "      <td>0</td>\n",
       "      <td>26676</td>\n",
       "      <td>2016-03-09 17:48:23</td>\n",
       "    </tr>\n",
       "  </tbody>\n",
       "</table>\n",
       "</div>"
      ],
      "text/plain": [
       "       date_crawled  price vehicle_type  registration_year  gearbox  power  \\\n",
       "69320    2016-03-11     20        other               1910  unknown    0.0   \n",
       "150021   2016-03-11     20        other               1910  unknown    0.0   \n",
       "155833   2016-03-11     15        other               1910  unknown    0.0   \n",
       "190238   2016-03-11     15        other               1910  unknown    0.0   \n",
       "212091   2016-04-02    200        other               1910  unknown    0.0   \n",
       "225151   2016-03-09      0        other               1910  unknown    0.0   \n",
       "\n",
       "        model  kilometer  registration_month fuel_type    brand repaired  \\\n",
       "69320   other       5000                   0       NaN  trabant      NaN   \n",
       "150021  other       5000                   0       NaN  trabant      NaN   \n",
       "155833  other       5000                   0       NaN  trabant      NaN   \n",
       "190238  other       5000                   0       NaN  trabant      NaN   \n",
       "212091  other       5000                   0       NaN  trabant      NaN   \n",
       "225151  other     150000                   0       NaN  trabant      NaN   \n",
       "\n",
       "               date_created  number_of_pictures  postal_code  \\\n",
       "69320   2016-03-11 00:00:00                   0         6618   \n",
       "150021  2016-03-11 00:00:00                   0         6618   \n",
       "155833  2016-03-11 00:00:00                   0        90491   \n",
       "190238  2016-03-11 00:00:00                   0         6618   \n",
       "212091  2016-04-02 00:00:00                   0         2627   \n",
       "225151  2016-03-09 00:00:00                   0        26676   \n",
       "\n",
       "                  last_seen  \n",
       "69320   2016-03-25 16:16:54  \n",
       "150021  2016-03-26 06:46:01  \n",
       "155833  2016-03-25 11:18:57  \n",
       "190238  2016-03-26 06:46:38  \n",
       "212091  2016-04-06 22:44:37  \n",
       "225151  2016-03-09 17:48:23  "
      ]
     },
     "execution_count": 36,
     "metadata": {},
     "output_type": "execute_result"
    }
   ],
   "source": [
    "df.query('registration_year < 1950 & power == 0')"
   ]
  },
  {
   "cell_type": "markdown",
   "metadata": {},
   "source": [
    "После заполнения завышенных и заниженных значений получили срез из 6 строк, для которых заполнить мощность чем-то кроме нуля не удалось. Все это автомобили марки \ttrabant\t 1910 года. Скорее всего это редкий экземпляр, неизвестно насколько они на ходу. Не будем подставлять значение даже из интернета, оставим 0, как есть."
   ]
  },
  {
   "cell_type": "code",
   "execution_count": 37,
   "metadata": {
    "scrolled": false
   },
   "outputs": [
    {
     "data": {
      "image/png": "[encoded data removed]",
      "text/plain": [
       "<Figure size 360x360 with 1 Axes>"
      ]
     },
     "metadata": {
      "needs_background": "light"
     },
     "output_type": "display_data"
    }
   ],
   "source": [
    "plt.figure(figsize=(5,5))\n",
    "df['power'].hist()\n",
    "\n",
    "plt.xlabel('Мощность')\n",
    "plt.ylabel('Количество')\n",
    "plt.title('Распределение автомобилей по мощности')\n",
    "plt.show()"
   ]
  },
  {
   "cell_type": "markdown",
   "metadata": {},
   "source": [
    "После всех изменений построили гистограмму, чтобы посмотреть на получившееся распределение. Данные выглядят реалистично."
   ]
  },
  {
   "cell_type": "code",
   "execution_count": 38,
   "metadata": {},
   "outputs": [],
   "source": [
    "df['power'] = round(df['power']).astype(np.int16)"
   ]
  },
  {
   "cell_type": "markdown",
   "metadata": {},
   "source": [
    "Привели столбце power  к типу данных int16 для экономии ресурсов"
   ]
  },
  {
   "cell_type": "markdown",
   "metadata": {},
   "source": [
    "### kilometer - пробег (км)"
   ]
  },
  {
   "cell_type": "code",
   "execution_count": 39,
   "metadata": {},
   "outputs": [
    {
     "data": {
      "text/plain": [
       "count    339769.000000\n",
       "mean     128086.317469\n",
       "std       37895.379213\n",
       "min        5000.000000\n",
       "25%      125000.000000\n",
       "50%      150000.000000\n",
       "75%      150000.000000\n",
       "max      150000.000000\n",
       "Name: kilometer, dtype: float64"
      ]
     },
     "execution_count": 39,
     "metadata": {},
     "output_type": "execute_result"
    }
   ],
   "source": [
    "df['kilometer'].describe()"
   ]
  },
  {
   "cell_type": "code",
   "execution_count": 40,
   "metadata": {
    "scrolled": true
   },
   "outputs": [
    {
     "data": {
      "image/png": "[encoded data removed]",
      "text/plain": [
       "<Figure size 576x360 with 1 Axes>"
      ]
     },
     "metadata": {
      "needs_background": "light"
     },
     "output_type": "display_data"
    }
   ],
   "source": [
    "plt.figure(figsize=(8,5))\n",
    "df['kilometer'].hist()\n",
    "\n",
    "plt.xlabel('Пробег (км)')\n",
    "plt.ylabel('Количество')\n",
    "plt.title('Распределение автомобилей по пробегу')\n",
    "plt.show()"
   ]
  },
  {
   "cell_type": "markdown",
   "metadata": {},
   "source": [
    "Вывели описание столбца с пробегом в км. Пропусков нет, нет нулевых значений. Разброс от 5 000 до 150 000 км. Выглядит правдоподобно, оставляем столбец без изменений."
   ]
  },
  {
   "cell_type": "code",
   "execution_count": 41,
   "metadata": {},
   "outputs": [
    {
     "data": {
      "text/plain": [
       "array([  5000,  10000,  20000,  30000,  40000,  50000,  60000,  70000,\n",
       "        80000,  90000, 100000, 125000, 150000])"
      ]
     },
     "execution_count": 41,
     "metadata": {},
     "output_type": "execute_result"
    }
   ],
   "source": [
    "df['kilometer'].sort_values().unique()"
   ]
  },
  {
   "cell_type": "markdown",
   "metadata": {},
   "source": [
    "### registration_month - месяц регистрации автомобиля"
   ]
  },
  {
   "cell_type": "code",
   "execution_count": 42,
   "metadata": {},
   "outputs": [
    {
     "data": {
      "text/plain": [
       "array([ 0,  1,  2,  3,  4,  5,  6,  7,  8,  9, 10, 11, 12])"
      ]
     },
     "execution_count": 42,
     "metadata": {},
     "output_type": "execute_result"
    }
   ],
   "source": [
    "df['registration_month'].sort_values().unique()"
   ]
  },
  {
   "cell_type": "markdown",
   "metadata": {},
   "source": [
    "В столбце с месяцем регистрации автомобиля нет пропусков. В уникальные значения месяца закрался ноль. То есть кто-то не указал месяц. Так как это столбец не несет важного значения для расчета цены , то и заполнять  другим значением не будем."
   ]
  },
  {
   "cell_type": "markdown",
   "metadata": {},
   "source": [
    "### fuel_type - тип топлива"
   ]
  },
  {
   "cell_type": "code",
   "execution_count": 43,
   "metadata": {},
   "outputs": [
    {
     "data": {
      "text/plain": [
       "petrol      210003\n",
       "gasoline     96306\n",
       "lpg           5159\n",
       "cng            542\n",
       "hybrid         225\n",
       "other          196\n",
       "electric        89\n",
       "Name: fuel_type, dtype: int64"
      ]
     },
     "execution_count": 43,
     "metadata": {},
     "output_type": "execute_result"
    }
   ],
   "source": [
    "df['fuel_type'].value_counts()"
   ]
  },
  {
   "cell_type": "code",
   "execution_count": 44,
   "metadata": {
    "scrolled": false
   },
   "outputs": [
    {
     "data": {
      "text/plain": [
       "petrol      210003\n",
       "gasoline     96306\n",
       "other        27445\n",
       "lpg           5159\n",
       "cng            542\n",
       "hybrid         225\n",
       "electric        89\n",
       "Name: fuel_type, dtype: int64"
      ]
     },
     "execution_count": 44,
     "metadata": {},
     "output_type": "execute_result"
    }
   ],
   "source": [
    "df['fuel_type'] = df['fuel_type'].fillna('other')\n",
    "df['fuel_type'].value_counts().sort_values(ascending = False)"
   ]
  },
  {
   "cell_type": "markdown",
   "metadata": {},
   "source": [
    "У вида топлива 32 767 пропусков. Среди уникальных значений в том числе есть other, им и заполнили пропуски. "
   ]
  },
  {
   "cell_type": "markdown",
   "metadata": {},
   "source": [
    "### repaired - была машина в ремонте или нет"
   ]
  },
  {
   "cell_type": "code",
   "execution_count": 45,
   "metadata": {},
   "outputs": [
    {
     "data": {
      "text/plain": [
       "no     240084\n",
       "yes     34886\n",
       "Name: repaired, dtype: int64"
      ]
     },
     "execution_count": 45,
     "metadata": {},
     "output_type": "execute_result"
    }
   ],
   "source": [
    "df['repaired'].value_counts()"
   ]
  },
  {
   "cell_type": "markdown",
   "metadata": {},
   "source": [
    "Пропусков 64 799. Информация о ремонте важная. Можно предположить, что раз человек не заполнил этот пункт, то ремонта не было. Но это только предположение. Заменим пропуски на unknown"
   ]
  },
  {
   "cell_type": "code",
   "execution_count": 46,
   "metadata": {},
   "outputs": [
    {
     "data": {
      "text/plain": [
       "no         240084\n",
       "unknown     64799\n",
       "yes         34886\n",
       "Name: repaired, dtype: int64"
      ]
     },
     "execution_count": 46,
     "metadata": {},
     "output_type": "execute_result"
    }
   ],
   "source": [
    "df['repaired'] = df['repaired'].fillna('unknown')\n",
    "df['repaired'].value_counts().sort_values(ascending = False)"
   ]
  },
  {
   "cell_type": "markdown",
   "metadata": {},
   "source": [
    "### date_created - дата создания анкеты"
   ]
  },
  {
   "cell_type": "code",
   "execution_count": 47,
   "metadata": {},
   "outputs": [
    {
     "data": {
      "text/plain": [
       "0        2016-03-24\n",
       "1        2016-03-24\n",
       "2        2016-03-14\n",
       "3        2016-03-17\n",
       "4        2016-03-31\n",
       "            ...    \n",
       "354364   2016-03-21\n",
       "354365   2016-03-14\n",
       "354366   2016-03-05\n",
       "354367   2016-03-19\n",
       "354368   2016-03-20\n",
       "Name: date_created, Length: 339769, dtype: datetime64[ns]"
      ]
     },
     "execution_count": 47,
     "metadata": {},
     "output_type": "execute_result"
    }
   ],
   "source": [
    "df['date_created'] = pd.to_datetime(df['date_created']). dt.date\n",
    "df['date_created'] = df['date_created'].astype('datetime64')\n",
    "df['date_created']"
   ]
  },
  {
   "cell_type": "code",
   "execution_count": 48,
   "metadata": {},
   "outputs": [
    {
     "data": {
      "text/plain": [
       "Timestamp('2014-03-10 00:00:00')"
      ]
     },
     "execution_count": 48,
     "metadata": {},
     "output_type": "execute_result"
    }
   ],
   "source": [
    "df['date_created'].min()"
   ]
  },
  {
   "cell_type": "code",
   "execution_count": 49,
   "metadata": {
    "scrolled": true
   },
   "outputs": [
    {
     "data": {
      "text/plain": [
       "Timestamp('2016-04-07 00:00:00')"
      ]
     },
     "execution_count": 49,
     "metadata": {},
     "output_type": "execute_result"
    }
   ],
   "source": [
    "df['date_created'].max()"
   ]
  },
  {
   "cell_type": "markdown",
   "metadata": {},
   "source": [
    "Изменили тип данных с object на datetime. Обнулили время. \n",
    "Анкеты создавались в период с 10.03.2014 по 07.04.2016 включительно. Получается создание анкет - действие, предшествующее скачиванию. И получается, что есть пользователи, которые создали анкету в 2014, но скачали в 2016. Либо допущена ошибка в годах. И на самом деле люди скачивали анкету в период 05.03.2016-07.04.2016, и спустя 5 дней после первого скачивания начались первые создания (загрузки заполненной анкеты на сайт) в период 10.03.16-07.04.2016. В целом информация о дате скачивания и создания анкеты, скорее несет для нас ознакомительный характер. И для обучения модели эти столбцы будут удалены"
   ]
  },
  {
   "cell_type": "markdown",
   "metadata": {},
   "source": [
    "### number_of_pictures - количество фотографий автомобиля"
   ]
  },
  {
   "cell_type": "code",
   "execution_count": 50,
   "metadata": {},
   "outputs": [
    {
     "data": {
      "text/plain": [
       "array([0])"
      ]
     },
     "execution_count": 50,
     "metadata": {},
     "output_type": "execute_result"
    }
   ],
   "source": [
    "df['number_of_pictures'].sort_values().unique()"
   ]
  },
  {
   "cell_type": "markdown",
   "metadata": {},
   "source": [
    "Проверили, что ни один пользователь не загрузил фотографии. Странно, но выдумать количество фото мы не можем. Поэтому в дальнейшем удалим столбец для обучения"
   ]
  },
  {
   "cell_type": "markdown",
   "metadata": {},
   "source": [
    "### postal_code - почтовый индекс владельца анкеты (пользователя)"
   ]
  },
  {
   "cell_type": "code",
   "execution_count": 51,
   "metadata": {
    "scrolled": true
   },
   "outputs": [
    {
     "data": {
      "text/plain": [
       "array([ 1067,  1068,  1069, ..., 99994, 99996, 99998])"
      ]
     },
     "execution_count": 51,
     "metadata": {},
     "output_type": "execute_result"
    }
   ],
   "source": [
    "df['postal_code'].sort_values().unique()"
   ]
  },
  {
   "cell_type": "code",
   "execution_count": 52,
   "metadata": {
    "scrolled": false
   },
   "outputs": [
    {
     "data": {
      "text/plain": [
       "10115    815\n",
       "65428    575\n",
       "66333    326\n",
       "44145    300\n",
       "32257    299\n",
       "        ... \n",
       "91465      1\n",
       "25882      1\n",
       "29361      1\n",
       "85071      1\n",
       "26906      1\n",
       "Name: postal_code, Length: 8138, dtype: int64"
      ]
     },
     "execution_count": 52,
     "metadata": {},
     "output_type": "execute_result"
    }
   ],
   "source": [
    "df['postal_code'].value_counts()"
   ]
  },
  {
   "cell_type": "code",
   "execution_count": 53,
   "metadata": {},
   "outputs": [],
   "source": [
    "df['postal_code']  = df['postal_code'].astype('str')\n",
    "\n",
    "index = []\n",
    "for i in np.array(df['postal_code']):\n",
    "    first_3 = int(str(i)[:2])\n",
    "    index.append(first_3)\n",
    "df['postal_code_index'] = index\n",
    "df['postal_code_index']=df['postal_code_index'].astype('int')"
   ]
  },
  {
   "cell_type": "code",
   "execution_count": 54,
   "metadata": {
    "scrolled": true
   },
   "outputs": [
    {
     "data": {
      "text/plain": [
       "45    8215\n",
       "26    7584\n",
       "66    7204\n",
       "65    7067\n",
       "44    6510\n",
       "      ... \n",
       "98     930\n",
       "20     839\n",
       "11     503\n",
       "43     481\n",
       "62     464\n",
       "Name: postal_code_index, Length: 90, dtype: int64"
      ]
     },
     "execution_count": 54,
     "metadata": {},
     "output_type": "execute_result"
    }
   ],
   "source": [
    "df['postal_code_index'].value_counts()"
   ]
  },
  {
   "cell_type": "code",
   "execution_count": 55,
   "metadata": {},
   "outputs": [
    {
     "data": {
      "text/html": [
       "<div>\n",
       "<style scoped>\n",
       "    .dataframe tbody tr th:only-of-type {\n",
       "        vertical-align: middle;\n",
       "    }\n",
       "\n",
       "    .dataframe tbody tr th {\n",
       "        vertical-align: top;\n",
       "    }\n",
       "\n",
       "    .dataframe thead th {\n",
       "        text-align: right;\n",
       "    }\n",
       "</style>\n",
       "<table border=\"1\" class=\"dataframe\">\n",
       "  <thead>\n",
       "    <tr style=\"text-align: right;\">\n",
       "      <th></th>\n",
       "      <th>date_crawled</th>\n",
       "      <th>price</th>\n",
       "      <th>vehicle_type</th>\n",
       "      <th>registration_year</th>\n",
       "      <th>gearbox</th>\n",
       "      <th>power</th>\n",
       "      <th>model</th>\n",
       "      <th>kilometer</th>\n",
       "      <th>registration_month</th>\n",
       "      <th>fuel_type</th>\n",
       "      <th>brand</th>\n",
       "      <th>repaired</th>\n",
       "      <th>date_created</th>\n",
       "      <th>number_of_pictures</th>\n",
       "      <th>postal_code</th>\n",
       "      <th>last_seen</th>\n",
       "      <th>postal_code_index</th>\n",
       "    </tr>\n",
       "  </thead>\n",
       "  <tbody>\n",
       "    <tr>\n",
       "      <th>0</th>\n",
       "      <td>2016-03-24</td>\n",
       "      <td>480</td>\n",
       "      <td>other</td>\n",
       "      <td>1993</td>\n",
       "      <td>manual</td>\n",
       "      <td>98</td>\n",
       "      <td>golf</td>\n",
       "      <td>150000</td>\n",
       "      <td>0</td>\n",
       "      <td>petrol</td>\n",
       "      <td>volkswagen</td>\n",
       "      <td>unknown</td>\n",
       "      <td>2016-03-24</td>\n",
       "      <td>0</td>\n",
       "      <td>70435</td>\n",
       "      <td>2016-04-07 03:16:57</td>\n",
       "      <td>70</td>\n",
       "    </tr>\n",
       "    <tr>\n",
       "      <th>1</th>\n",
       "      <td>2016-03-24</td>\n",
       "      <td>18300</td>\n",
       "      <td>coupe</td>\n",
       "      <td>2011</td>\n",
       "      <td>manual</td>\n",
       "      <td>190</td>\n",
       "      <td>other</td>\n",
       "      <td>125000</td>\n",
       "      <td>5</td>\n",
       "      <td>gasoline</td>\n",
       "      <td>audi</td>\n",
       "      <td>yes</td>\n",
       "      <td>2016-03-24</td>\n",
       "      <td>0</td>\n",
       "      <td>66954</td>\n",
       "      <td>2016-04-07 01:46:50</td>\n",
       "      <td>66</td>\n",
       "    </tr>\n",
       "    <tr>\n",
       "      <th>2</th>\n",
       "      <td>2016-03-14</td>\n",
       "      <td>9800</td>\n",
       "      <td>suv</td>\n",
       "      <td>2004</td>\n",
       "      <td>auto</td>\n",
       "      <td>163</td>\n",
       "      <td>grand</td>\n",
       "      <td>125000</td>\n",
       "      <td>8</td>\n",
       "      <td>gasoline</td>\n",
       "      <td>jeep</td>\n",
       "      <td>unknown</td>\n",
       "      <td>2016-03-14</td>\n",
       "      <td>0</td>\n",
       "      <td>90480</td>\n",
       "      <td>2016-04-05 12:47:46</td>\n",
       "      <td>90</td>\n",
       "    </tr>\n",
       "    <tr>\n",
       "      <th>3</th>\n",
       "      <td>2016-03-17</td>\n",
       "      <td>1500</td>\n",
       "      <td>small</td>\n",
       "      <td>2001</td>\n",
       "      <td>manual</td>\n",
       "      <td>75</td>\n",
       "      <td>golf</td>\n",
       "      <td>150000</td>\n",
       "      <td>6</td>\n",
       "      <td>petrol</td>\n",
       "      <td>volkswagen</td>\n",
       "      <td>no</td>\n",
       "      <td>2016-03-17</td>\n",
       "      <td>0</td>\n",
       "      <td>91074</td>\n",
       "      <td>2016-03-17 17:40:17</td>\n",
       "      <td>91</td>\n",
       "    </tr>\n",
       "    <tr>\n",
       "      <th>4</th>\n",
       "      <td>2016-03-31</td>\n",
       "      <td>3600</td>\n",
       "      <td>small</td>\n",
       "      <td>2008</td>\n",
       "      <td>manual</td>\n",
       "      <td>69</td>\n",
       "      <td>fabia</td>\n",
       "      <td>90000</td>\n",
       "      <td>7</td>\n",
       "      <td>gasoline</td>\n",
       "      <td>skoda</td>\n",
       "      <td>no</td>\n",
       "      <td>2016-03-31</td>\n",
       "      <td>0</td>\n",
       "      <td>60437</td>\n",
       "      <td>2016-04-06 10:17:21</td>\n",
       "      <td>60</td>\n",
       "    </tr>\n",
       "  </tbody>\n",
       "</table>\n",
       "</div>"
      ],
      "text/plain": [
       "  date_crawled  price vehicle_type  registration_year gearbox  power  model  \\\n",
       "0   2016-03-24    480        other               1993  manual     98   golf   \n",
       "1   2016-03-24  18300        coupe               2011  manual    190  other   \n",
       "2   2016-03-14   9800          suv               2004    auto    163  grand   \n",
       "3   2016-03-17   1500        small               2001  manual     75   golf   \n",
       "4   2016-03-31   3600        small               2008  manual     69  fabia   \n",
       "\n",
       "   kilometer  registration_month fuel_type       brand repaired date_created  \\\n",
       "0     150000                   0    petrol  volkswagen  unknown   2016-03-24   \n",
       "1     125000                   5  gasoline        audi      yes   2016-03-24   \n",
       "2     125000                   8  gasoline        jeep  unknown   2016-03-14   \n",
       "3     150000                   6    petrol  volkswagen       no   2016-03-17   \n",
       "4      90000                   7  gasoline       skoda       no   2016-03-31   \n",
       "\n",
       "   number_of_pictures postal_code            last_seen  postal_code_index  \n",
       "0                   0       70435  2016-04-07 03:16:57                 70  \n",
       "1                   0       66954  2016-04-07 01:46:50                 66  \n",
       "2                   0       90480  2016-04-05 12:47:46                 90  \n",
       "3                   0       91074  2016-03-17 17:40:17                 91  \n",
       "4                   0       60437  2016-04-06 10:17:21                 60  "
      ]
     },
     "execution_count": 55,
     "metadata": {},
     "output_type": "execute_result"
    }
   ],
   "source": [
    "df.head()"
   ]
  },
  {
   "cell_type": "markdown",
   "metadata": {},
   "source": [
    "Почтовый индекс заполнен у всех объектов. Всего 8138 уникальных индекса. Информация важная, так как от страны и города пребывания владельца (соответственно и машины), может меняться цена. Добавили столбец с категорией индекса postal_code_index, в который отфильтровали только первые дце цифры из postal_code. Получилось 90 уникальных значений"
   ]
  },
  {
   "cell_type": "markdown",
   "metadata": {},
   "source": [
    "### last_seen -  дата последней активности пользователя"
   ]
  },
  {
   "cell_type": "code",
   "execution_count": 56,
   "metadata": {},
   "outputs": [
    {
     "data": {
      "text/plain": [
       "0        2016-04-07\n",
       "1        2016-04-07\n",
       "2        2016-04-05\n",
       "3        2016-03-17\n",
       "4        2016-04-06\n",
       "            ...    \n",
       "354364   2016-03-21\n",
       "354365   2016-04-06\n",
       "354366   2016-03-11\n",
       "354367   2016-04-07\n",
       "354368   2016-03-24\n",
       "Name: last_seen, Length: 339769, dtype: datetime64[ns]"
      ]
     },
     "execution_count": 56,
     "metadata": {},
     "output_type": "execute_result"
    }
   ],
   "source": [
    "df['last_seen'] = pd.to_datetime(df['last_seen']). dt.date\n",
    "df['last_seen'] = df['last_seen'].astype('datetime64')\n",
    "df['last_seen']"
   ]
  },
  {
   "cell_type": "code",
   "execution_count": 57,
   "metadata": {},
   "outputs": [
    {
     "data": {
      "text/plain": [
       "Timestamp('2016-03-05 00:00:00')"
      ]
     },
     "execution_count": 57,
     "metadata": {},
     "output_type": "execute_result"
    }
   ],
   "source": [
    "df['last_seen'].min()"
   ]
  },
  {
   "cell_type": "code",
   "execution_count": 58,
   "metadata": {},
   "outputs": [
    {
     "data": {
      "text/plain": [
       "Timestamp('2016-04-07 00:00:00')"
      ]
     },
     "execution_count": 58,
     "metadata": {},
     "output_type": "execute_result"
    }
   ],
   "source": [
    "df['last_seen'].max()"
   ]
  },
  {
   "cell_type": "markdown",
   "metadata": {},
   "source": [
    "Изменили тип данных с object на datetime. Обнулили время. \n",
    "Период последних активностей пользователей в период с 05.03.2016 по 07.04.2016 включительно. Совпадает с датой скачивания анкеты."
   ]
  },
  {
   "cell_type": "markdown",
   "metadata": {},
   "source": [
    "### price -  цена (евро)"
   ]
  },
  {
   "cell_type": "code",
   "execution_count": 59,
   "metadata": {},
   "outputs": [
    {
     "data": {
      "text/plain": [
       "count    339769.000000\n",
       "mean       4471.332061\n",
       "std        4546.037804\n",
       "min           0.000000\n",
       "25%        1099.000000\n",
       "50%        2799.000000\n",
       "75%        6500.000000\n",
       "max       20000.000000\n",
       "Name: price, dtype: float64"
      ]
     },
     "execution_count": 59,
     "metadata": {},
     "output_type": "execute_result"
    }
   ],
   "source": [
    "df['price'].describe()"
   ]
  },
  {
   "cell_type": "markdown",
   "metadata": {},
   "source": [
    "Цены разнятся от 0 до 20 000 евро. Довольно большая разница между средним значением (4471) и медианным (2799). Это говорит о выбросах. Также нужно проверить цену 0 и рядом с ней. \n",
    "\n",
    "Цены берем исходя из текущего курса, в 2016 году в апреле евро около 76 рублей, сейчас 81 рубль, разница не принципиальная"
   ]
  },
  {
   "cell_type": "code",
   "execution_count": 60,
   "metadata": {
    "scrolled": true
   },
   "outputs": [
    {
     "data": {
      "text/html": [
       "<div>\n",
       "<style scoped>\n",
       "    .dataframe tbody tr th:only-of-type {\n",
       "        vertical-align: middle;\n",
       "    }\n",
       "\n",
       "    .dataframe tbody tr th {\n",
       "        vertical-align: top;\n",
       "    }\n",
       "\n",
       "    .dataframe thead th {\n",
       "        text-align: right;\n",
       "    }\n",
       "</style>\n",
       "<table border=\"1\" class=\"dataframe\">\n",
       "  <thead>\n",
       "    <tr style=\"text-align: right;\">\n",
       "      <th></th>\n",
       "      <th>date_crawled</th>\n",
       "      <th>price</th>\n",
       "      <th>vehicle_type</th>\n",
       "      <th>registration_year</th>\n",
       "      <th>gearbox</th>\n",
       "      <th>power</th>\n",
       "      <th>model</th>\n",
       "      <th>kilometer</th>\n",
       "      <th>registration_month</th>\n",
       "      <th>fuel_type</th>\n",
       "      <th>brand</th>\n",
       "      <th>repaired</th>\n",
       "      <th>date_created</th>\n",
       "      <th>number_of_pictures</th>\n",
       "      <th>postal_code</th>\n",
       "      <th>last_seen</th>\n",
       "      <th>postal_code_index</th>\n",
       "    </tr>\n",
       "  </thead>\n",
       "  <tbody>\n",
       "    <tr>\n",
       "      <th>0</th>\n",
       "      <td>2016-03-24</td>\n",
       "      <td>480</td>\n",
       "      <td>other</td>\n",
       "      <td>1993</td>\n",
       "      <td>manual</td>\n",
       "      <td>98</td>\n",
       "      <td>golf</td>\n",
       "      <td>150000</td>\n",
       "      <td>0</td>\n",
       "      <td>petrol</td>\n",
       "      <td>volkswagen</td>\n",
       "      <td>unknown</td>\n",
       "      <td>2016-03-24</td>\n",
       "      <td>0</td>\n",
       "      <td>70435</td>\n",
       "      <td>2016-04-07</td>\n",
       "      <td>70</td>\n",
       "    </tr>\n",
       "    <tr>\n",
       "      <th>7</th>\n",
       "      <td>2016-03-21</td>\n",
       "      <td>0</td>\n",
       "      <td>sedan</td>\n",
       "      <td>1980</td>\n",
       "      <td>manual</td>\n",
       "      <td>50</td>\n",
       "      <td>other</td>\n",
       "      <td>40000</td>\n",
       "      <td>7</td>\n",
       "      <td>petrol</td>\n",
       "      <td>volkswagen</td>\n",
       "      <td>no</td>\n",
       "      <td>2016-03-21</td>\n",
       "      <td>0</td>\n",
       "      <td>19348</td>\n",
       "      <td>2016-03-25</td>\n",
       "      <td>19</td>\n",
       "    </tr>\n",
       "    <tr>\n",
       "      <th>15</th>\n",
       "      <td>2016-03-11</td>\n",
       "      <td>450</td>\n",
       "      <td>small</td>\n",
       "      <td>1910</td>\n",
       "      <td>unknown</td>\n",
       "      <td>60</td>\n",
       "      <td>ka</td>\n",
       "      <td>5000</td>\n",
       "      <td>0</td>\n",
       "      <td>petrol</td>\n",
       "      <td>ford</td>\n",
       "      <td>unknown</td>\n",
       "      <td>2016-03-11</td>\n",
       "      <td>0</td>\n",
       "      <td>24148</td>\n",
       "      <td>2016-03-19</td>\n",
       "      <td>24</td>\n",
       "    </tr>\n",
       "    <tr>\n",
       "      <th>16</th>\n",
       "      <td>2016-04-01</td>\n",
       "      <td>300</td>\n",
       "      <td>other</td>\n",
       "      <td>2016</td>\n",
       "      <td>unknown</td>\n",
       "      <td>60</td>\n",
       "      <td>polo</td>\n",
       "      <td>150000</td>\n",
       "      <td>0</td>\n",
       "      <td>petrol</td>\n",
       "      <td>volkswagen</td>\n",
       "      <td>unknown</td>\n",
       "      <td>2016-04-01</td>\n",
       "      <td>0</td>\n",
       "      <td>38871</td>\n",
       "      <td>2016-04-01</td>\n",
       "      <td>38</td>\n",
       "    </tr>\n",
       "    <tr>\n",
       "      <th>23</th>\n",
       "      <td>2016-03-12</td>\n",
       "      <td>450</td>\n",
       "      <td>small</td>\n",
       "      <td>1997</td>\n",
       "      <td>manual</td>\n",
       "      <td>50</td>\n",
       "      <td>arosa</td>\n",
       "      <td>150000</td>\n",
       "      <td>5</td>\n",
       "      <td>petrol</td>\n",
       "      <td>seat</td>\n",
       "      <td>no</td>\n",
       "      <td>2016-03-12</td>\n",
       "      <td>0</td>\n",
       "      <td>9526</td>\n",
       "      <td>2016-03-21</td>\n",
       "      <td>95</td>\n",
       "    </tr>\n",
       "    <tr>\n",
       "      <th>...</th>\n",
       "      <td>...</td>\n",
       "      <td>...</td>\n",
       "      <td>...</td>\n",
       "      <td>...</td>\n",
       "      <td>...</td>\n",
       "      <td>...</td>\n",
       "      <td>...</td>\n",
       "      <td>...</td>\n",
       "      <td>...</td>\n",
       "      <td>...</td>\n",
       "      <td>...</td>\n",
       "      <td>...</td>\n",
       "      <td>...</td>\n",
       "      <td>...</td>\n",
       "      <td>...</td>\n",
       "      <td>...</td>\n",
       "      <td>...</td>\n",
       "    </tr>\n",
       "    <tr>\n",
       "      <th>354318</th>\n",
       "      <td>2016-03-15</td>\n",
       "      <td>400</td>\n",
       "      <td>wagon</td>\n",
       "      <td>1991</td>\n",
       "      <td>manual</td>\n",
       "      <td>125</td>\n",
       "      <td>legacy</td>\n",
       "      <td>150000</td>\n",
       "      <td>0</td>\n",
       "      <td>petrol</td>\n",
       "      <td>subaru</td>\n",
       "      <td>unknown</td>\n",
       "      <td>2016-03-15</td>\n",
       "      <td>0</td>\n",
       "      <td>24558</td>\n",
       "      <td>2016-03-19</td>\n",
       "      <td>24</td>\n",
       "    </tr>\n",
       "    <tr>\n",
       "      <th>354329</th>\n",
       "      <td>2016-03-30</td>\n",
       "      <td>350</td>\n",
       "      <td>small</td>\n",
       "      <td>1996</td>\n",
       "      <td>unknown</td>\n",
       "      <td>65</td>\n",
       "      <td>punto</td>\n",
       "      <td>150000</td>\n",
       "      <td>0</td>\n",
       "      <td>other</td>\n",
       "      <td>fiat</td>\n",
       "      <td>unknown</td>\n",
       "      <td>2016-03-30</td>\n",
       "      <td>0</td>\n",
       "      <td>25436</td>\n",
       "      <td>2016-04-07</td>\n",
       "      <td>25</td>\n",
       "    </tr>\n",
       "    <tr>\n",
       "      <th>354335</th>\n",
       "      <td>2016-04-04</td>\n",
       "      <td>390</td>\n",
       "      <td>small</td>\n",
       "      <td>1997</td>\n",
       "      <td>auto</td>\n",
       "      <td>60</td>\n",
       "      <td>corsa</td>\n",
       "      <td>100000</td>\n",
       "      <td>6</td>\n",
       "      <td>petrol</td>\n",
       "      <td>opel</td>\n",
       "      <td>yes</td>\n",
       "      <td>2016-04-04</td>\n",
       "      <td>0</td>\n",
       "      <td>17509</td>\n",
       "      <td>2016-04-06</td>\n",
       "      <td>17</td>\n",
       "    </tr>\n",
       "    <tr>\n",
       "      <th>354338</th>\n",
       "      <td>2016-03-31</td>\n",
       "      <td>180</td>\n",
       "      <td>other</td>\n",
       "      <td>1995</td>\n",
       "      <td>unknown</td>\n",
       "      <td>90</td>\n",
       "      <td>other</td>\n",
       "      <td>125000</td>\n",
       "      <td>3</td>\n",
       "      <td>petrol</td>\n",
       "      <td>opel</td>\n",
       "      <td>unknown</td>\n",
       "      <td>2016-03-31</td>\n",
       "      <td>0</td>\n",
       "      <td>41470</td>\n",
       "      <td>2016-04-06</td>\n",
       "      <td>41</td>\n",
       "    </tr>\n",
       "    <tr>\n",
       "      <th>354364</th>\n",
       "      <td>2016-03-21</td>\n",
       "      <td>0</td>\n",
       "      <td>other</td>\n",
       "      <td>2005</td>\n",
       "      <td>manual</td>\n",
       "      <td>75</td>\n",
       "      <td>colt</td>\n",
       "      <td>150000</td>\n",
       "      <td>7</td>\n",
       "      <td>petrol</td>\n",
       "      <td>mitsubishi</td>\n",
       "      <td>yes</td>\n",
       "      <td>2016-03-21</td>\n",
       "      <td>0</td>\n",
       "      <td>2694</td>\n",
       "      <td>2016-03-21</td>\n",
       "      <td>26</td>\n",
       "    </tr>\n",
       "  </tbody>\n",
       "</table>\n",
       "<p>34523 rows × 17 columns</p>\n",
       "</div>"
      ],
      "text/plain": [
       "       date_crawled  price vehicle_type  registration_year  gearbox  power  \\\n",
       "0        2016-03-24    480        other               1993   manual     98   \n",
       "7        2016-03-21      0        sedan               1980   manual     50   \n",
       "15       2016-03-11    450        small               1910  unknown     60   \n",
       "16       2016-04-01    300        other               2016  unknown     60   \n",
       "23       2016-03-12    450        small               1997   manual     50   \n",
       "...             ...    ...          ...                ...      ...    ...   \n",
       "354318   2016-03-15    400        wagon               1991   manual    125   \n",
       "354329   2016-03-30    350        small               1996  unknown     65   \n",
       "354335   2016-04-04    390        small               1997     auto     60   \n",
       "354338   2016-03-31    180        other               1995  unknown     90   \n",
       "354364   2016-03-21      0        other               2005   manual     75   \n",
       "\n",
       "         model  kilometer  registration_month fuel_type       brand repaired  \\\n",
       "0         golf     150000                   0    petrol  volkswagen  unknown   \n",
       "7        other      40000                   7    petrol  volkswagen       no   \n",
       "15          ka       5000                   0    petrol        ford  unknown   \n",
       "16        polo     150000                   0    petrol  volkswagen  unknown   \n",
       "23       arosa     150000                   5    petrol        seat       no   \n",
       "...        ...        ...                 ...       ...         ...      ...   \n",
       "354318  legacy     150000                   0    petrol      subaru  unknown   \n",
       "354329   punto     150000                   0     other        fiat  unknown   \n",
       "354335   corsa     100000                   6    petrol        opel      yes   \n",
       "354338   other     125000                   3    petrol        opel  unknown   \n",
       "354364    colt     150000                   7    petrol  mitsubishi      yes   \n",
       "\n",
       "       date_created  number_of_pictures postal_code  last_seen  \\\n",
       "0        2016-03-24                   0       70435 2016-04-07   \n",
       "7        2016-03-21                   0       19348 2016-03-25   \n",
       "15       2016-03-11                   0       24148 2016-03-19   \n",
       "16       2016-04-01                   0       38871 2016-04-01   \n",
       "23       2016-03-12                   0        9526 2016-03-21   \n",
       "...             ...                 ...         ...        ...   \n",
       "354318   2016-03-15                   0       24558 2016-03-19   \n",
       "354329   2016-03-30                   0       25436 2016-04-07   \n",
       "354335   2016-04-04                   0       17509 2016-04-06   \n",
       "354338   2016-03-31                   0       41470 2016-04-06   \n",
       "354364   2016-03-21                   0        2694 2016-03-21   \n",
       "\n",
       "        postal_code_index  \n",
       "0                      70  \n",
       "7                      19  \n",
       "15                     24  \n",
       "16                     38  \n",
       "23                     95  \n",
       "...                   ...  \n",
       "354318                 24  \n",
       "354329                 25  \n",
       "354335                 17  \n",
       "354338                 41  \n",
       "354364                 26  \n",
       "\n",
       "[34523 rows x 17 columns]"
      ]
     },
     "execution_count": 60,
     "metadata": {},
     "output_type": "execute_result"
    }
   ],
   "source": [
    "df.query('price < 500')"
   ]
  },
  {
   "cell_type": "markdown",
   "metadata": {},
   "source": [
    "Видим, что до 500 евро (некий минимальный порог, который сделали исходя из цен около 40 000 на Авито) 35 423 объекта. Есть цены и по 0  и по 180 евро (14 600). "
   ]
  },
  {
   "cell_type": "code",
   "execution_count": 61,
   "metadata": {},
   "outputs": [
    {
     "data": {
      "text/plain": [
       "count    339769.000000\n",
       "mean       4471.332061\n",
       "std        4546.037804\n",
       "min           0.000000\n",
       "25%        1099.000000\n",
       "50%        2799.000000\n",
       "75%        6500.000000\n",
       "max       20000.000000\n",
       "Name: price, dtype: float64"
      ]
     },
     "execution_count": 61,
     "metadata": {},
     "output_type": "execute_result"
    }
   ],
   "source": [
    "df['price'].describe()"
   ]
  },
  {
   "cell_type": "code",
   "execution_count": 62,
   "metadata": {},
   "outputs": [
    {
     "data": {
      "image/png": "[encoded data removed]",
      "text/plain": [
       "<Figure size 576x576 with 1 Axes>"
      ]
     },
     "metadata": {
      "needs_background": "light"
     },
     "output_type": "display_data"
    }
   ],
   "source": [
    "plt.figure(figsize=(8,8))\n",
    "df.boxplot('price')\n",
    "\n",
    "plt.xlabel('_')\n",
    "plt.ylabel('Цена')\n",
    "plt.title('Диаграмма размаха по цене автомобиля')\n",
    "plt.show()"
   ]
  },
  {
   "cell_type": "code",
   "execution_count": 63,
   "metadata": {
    "scrolled": true
   },
   "outputs": [
    {
     "data": {
      "image/png": "[encoded data removed]",
      "text/plain": [
       "<Figure size 720x360 with 1 Axes>"
      ]
     },
     "metadata": {
      "needs_background": "light"
     },
     "output_type": "display_data"
    }
   ],
   "source": [
    "plt.figure(figsize=(10,5))\n",
    "df['price'].hist()\n",
    "\n",
    "plt.xlabel('Цена (евро)')\n",
    "plt.ylabel('Количество')\n",
    "plt.title('Распределение автомобилей по цене')\n",
    "plt.show()"
   ]
  },
  {
   "cell_type": "markdown",
   "metadata": {},
   "source": [
    "Построили диаграмму размаха и гистограмму. На диаграмме размаха выбросы начинаются примерно от 14 000 до  20 000 евро (1 млн 600 тыс рублей, цены выглядят небольшими, повода считать их аномалиями - нет. На гисторграмме распределение цен в сторону увеличения идет плавно"
   ]
  },
  {
   "cell_type": "code",
   "execution_count": 64,
   "metadata": {},
   "outputs": [],
   "source": [
    "for value in df['brand'].unique():\n",
    "    for val in df['model'].unique():\n",
    "        median_power_brand = df[(df['brand'] == value) & (df['model'] == val)]['price'].median()\n",
    "        df.loc[(df['brand'] == value) & (df['model'] == val) & (df['price'] < 100), 'price'] =  median_power_brand"
   ]
  },
  {
   "cell_type": "markdown",
   "metadata": {},
   "source": [
    "Убрали нули и подозрительно низкие значения цен. Заполнили их медианами по соответствующим марке и моделе автомобиля. Обработали все значения ниже 100 евро."
   ]
  },
  {
   "cell_type": "code",
   "execution_count": 65,
   "metadata": {},
   "outputs": [
    {
     "data": {
      "text/plain": [
       "count    339769.000000\n",
       "mean       4571.243374\n",
       "std        4493.317352\n",
       "min         100.000000\n",
       "25%        1250.000000\n",
       "50%        2900.000000\n",
       "75%        6500.000000\n",
       "max       20000.000000\n",
       "Name: price, dtype: float64"
      ]
     },
     "execution_count": 65,
     "metadata": {},
     "output_type": "execute_result"
    }
   ],
   "source": [
    "df['price'].describe()"
   ]
  },
  {
   "cell_type": "code",
   "execution_count": 66,
   "metadata": {},
   "outputs": [],
   "source": [
    "df['price'] = round(df['price']).astype(np.int16)"
   ]
  },
  {
   "cell_type": "markdown",
   "metadata": {},
   "source": [
    "Привели столбце price к типу данных int16 для экономии ресурсов"
   ]
  },
  {
   "cell_type": "markdown",
   "metadata": {},
   "source": [
    "### Удаление неинформативных столбцов"
   ]
  },
  {
   "cell_type": "code",
   "execution_count": 67,
   "metadata": {
    "scrolled": false
   },
   "outputs": [
    {
     "data": {
      "text/html": [
       "<div>\n",
       "<style scoped>\n",
       "    .dataframe tbody tr th:only-of-type {\n",
       "        vertical-align: middle;\n",
       "    }\n",
       "\n",
       "    .dataframe tbody tr th {\n",
       "        vertical-align: top;\n",
       "    }\n",
       "\n",
       "    .dataframe thead th {\n",
       "        text-align: right;\n",
       "    }\n",
       "</style>\n",
       "<table border=\"1\" class=\"dataframe\">\n",
       "  <thead>\n",
       "    <tr style=\"text-align: right;\">\n",
       "      <th></th>\n",
       "      <th>price</th>\n",
       "      <th>vehicle_type</th>\n",
       "      <th>registration_year</th>\n",
       "      <th>gearbox</th>\n",
       "      <th>power</th>\n",
       "      <th>model</th>\n",
       "      <th>kilometer</th>\n",
       "      <th>fuel_type</th>\n",
       "      <th>brand</th>\n",
       "      <th>repaired</th>\n",
       "      <th>postal_code_index</th>\n",
       "    </tr>\n",
       "  </thead>\n",
       "  <tbody>\n",
       "    <tr>\n",
       "      <th>0</th>\n",
       "      <td>480</td>\n",
       "      <td>other</td>\n",
       "      <td>1993</td>\n",
       "      <td>manual</td>\n",
       "      <td>98</td>\n",
       "      <td>golf</td>\n",
       "      <td>150000</td>\n",
       "      <td>petrol</td>\n",
       "      <td>volkswagen</td>\n",
       "      <td>unknown</td>\n",
       "      <td>70</td>\n",
       "    </tr>\n",
       "    <tr>\n",
       "      <th>1</th>\n",
       "      <td>18300</td>\n",
       "      <td>coupe</td>\n",
       "      <td>2011</td>\n",
       "      <td>manual</td>\n",
       "      <td>190</td>\n",
       "      <td>other</td>\n",
       "      <td>125000</td>\n",
       "      <td>gasoline</td>\n",
       "      <td>audi</td>\n",
       "      <td>yes</td>\n",
       "      <td>66</td>\n",
       "    </tr>\n",
       "    <tr>\n",
       "      <th>2</th>\n",
       "      <td>9800</td>\n",
       "      <td>suv</td>\n",
       "      <td>2004</td>\n",
       "      <td>auto</td>\n",
       "      <td>163</td>\n",
       "      <td>grand</td>\n",
       "      <td>125000</td>\n",
       "      <td>gasoline</td>\n",
       "      <td>jeep</td>\n",
       "      <td>unknown</td>\n",
       "      <td>90</td>\n",
       "    </tr>\n",
       "    <tr>\n",
       "      <th>3</th>\n",
       "      <td>1500</td>\n",
       "      <td>small</td>\n",
       "      <td>2001</td>\n",
       "      <td>manual</td>\n",
       "      <td>75</td>\n",
       "      <td>golf</td>\n",
       "      <td>150000</td>\n",
       "      <td>petrol</td>\n",
       "      <td>volkswagen</td>\n",
       "      <td>no</td>\n",
       "      <td>91</td>\n",
       "    </tr>\n",
       "    <tr>\n",
       "      <th>4</th>\n",
       "      <td>3600</td>\n",
       "      <td>small</td>\n",
       "      <td>2008</td>\n",
       "      <td>manual</td>\n",
       "      <td>69</td>\n",
       "      <td>fabia</td>\n",
       "      <td>90000</td>\n",
       "      <td>gasoline</td>\n",
       "      <td>skoda</td>\n",
       "      <td>no</td>\n",
       "      <td>60</td>\n",
       "    </tr>\n",
       "  </tbody>\n",
       "</table>\n",
       "</div>"
      ],
      "text/plain": [
       "   price vehicle_type  registration_year gearbox  power  model  kilometer  \\\n",
       "0    480        other               1993  manual     98   golf     150000   \n",
       "1  18300        coupe               2011  manual    190  other     125000   \n",
       "2   9800          suv               2004    auto    163  grand     125000   \n",
       "3   1500        small               2001  manual     75   golf     150000   \n",
       "4   3600        small               2008  manual     69  fabia      90000   \n",
       "\n",
       "  fuel_type       brand repaired  postal_code_index  \n",
       "0    petrol  volkswagen  unknown                 70  \n",
       "1  gasoline        audi      yes                 66  \n",
       "2  gasoline        jeep  unknown                 90  \n",
       "3    petrol  volkswagen       no                 91  \n",
       "4  gasoline       skoda       no                 60  "
      ]
     },
     "execution_count": 67,
     "metadata": {},
     "output_type": "execute_result"
    }
   ],
   "source": [
    "df_1= df.drop(['date_crawled' , 'registration_month', 'date_created', 'number_of_pictures', 'last_seen','postal_code' ], axis=1)\n",
    "df_1.head()"
   ]
  },
  {
   "cell_type": "markdown",
   "metadata": {},
   "source": [
    "Удалили неинформативные столбцы: даты скачивания и загрузки анкеты, дата последней активности, количество фотографий, месяц регистрации, а также почтовый индекс в шестизначном формате"
   ]
  },
  {
   "cell_type": "markdown",
   "metadata": {},
   "source": [
    "### Корреляция"
   ]
  },
  {
   "cell_type": "code",
   "execution_count": 68,
   "metadata": {},
   "outputs": [
    {
     "data": {
      "image/png": "[encoded data removed]",
      "text/plain": [
       "<Figure size 432x288 with 2 Axes>"
      ]
     },
     "metadata": {
      "needs_background": "light"
     },
     "output_type": "display_data"
    }
   ],
   "source": [
    "corr_mat = round(df_1.corr(),2)\n",
    "\n",
    "for x in range(corr_mat.shape[0]):\n",
    "    corr_mat.iloc[x,x] = 0.0\n",
    "    \n",
    "sns.heatmap(corr_mat,  annot=True)\n",
    "plt.title('Корреляция Пирсона')\n",
    "plt.show()"
   ]
  },
  {
   "cell_type": "code",
   "execution_count": 69,
   "metadata": {},
   "outputs": [
    {
     "data": {
      "image/png": "[encoded data removed]",
      "text/plain": [
       "<Figure size 432x288 with 2 Axes>"
      ]
     },
     "metadata": {
      "needs_background": "light"
     },
     "output_type": "display_data"
    }
   ],
   "source": [
    "my_r = round(df_1.corr(method=\"spearman\"), 2)\n",
    "for x in range(my_r.shape[0]):\n",
    "    my_r.iloc[x,x] = 0.0\n",
    "    \n",
    "sns.heatmap(my_r,  annot=True)\n",
    "plt.title('Корреляция Спирмена')\n",
    "plt.show()"
   ]
  },
  {
   "cell_type": "markdown",
   "metadata": {},
   "source": [
    "Построили матриця корреляции Пирсона и Спирмена. Обе матрицы показывают корреляцию 0.51-0.52 между ценой и мощностью двигателя. Также видим, корреляцию Спирмена 0.62 между ценой и годом регистрации (выглядит логично). Остальные зависимости не значительны. "
   ]
  },
  {
   "cell_type": "markdown",
   "metadata": {},
   "source": [
    "### Вывод"
   ]
  },
  {
   "cell_type": "markdown",
   "metadata": {},
   "source": [
    "Проанализирован датасет с данными о технических характеристиках, комплектации и ценах автомобилей.\n",
    "\n",
    "- DateCrawled — дата скачивания анкеты из базы\n",
    "- VehicleType — тип автомобильного кузова\n",
    "- RegistrationYear — год регистрации автомобиля\n",
    "- Gearbox — тип коробки передач\n",
    "- Power — мощность (л. с.)\n",
    "- Model — модель автомобиля\n",
    "- Kilometer — пробег (км)\n",
    "- RegistrationMonth — месяц регистрации автомобиля\n",
    "- FuelType — тип топлива\n",
    "- Brand — марка автомобиля\n",
    "- Repaired — была машина в ремонте или нет\n",
    "- DateCreated — дата создания анкеты\n",
    "- NumberOfPictures — количество фотографий автомобиля\n",
    "- PostalCode — почтовый индекс владельца анкеты (пользователя)\n",
    "- LastSeen — дата последней активности пользователя\n",
    "\n",
    "Целевой признак\n",
    "\n",
    "- Price — цена (евро)\n",
    "\n",
    "В процессе анализа проведено:\n",
    "1. заполнены пропуски в столбцах: \n",
    "- тип кузова (other)\n",
    "- тип коробки передач (unknown)\n",
    "- модель (unknown)\n",
    "- тип топлива (other)\n",
    "- наличие ремонта (unknown)\n",
    "2. Обработаны аномалии:\n",
    "- мощность (заполнены медианами по марке и моделе значения = 0 и более 500)\n",
    "- цена (заполнены медианами по марке и моделе значения меньше 100)\n",
    "3. Удалены столбцы, которые не понадобятся для обучения:\n",
    "- дата скачивания анкеты\n",
    "- дата загрузки анкеты\n",
    "- дата последней активности пользователя\n",
    "- количество фотографий\n",
    "- месяц регистрации а/м \n",
    "4. Построена матрица корреляции. Максимальное значение зависимости 0.51 (зависимость цены от мощности а/м)."
   ]
  },
  {
   "cell_type": "markdown",
   "metadata": {},
   "source": [
    "## Обучение моделей"
   ]
  },
  {
   "cell_type": "markdown",
   "metadata": {},
   "source": [
    "### Подготовка выборок для обучения модели "
   ]
  },
  {
   "cell_type": "code",
   "execution_count": 70,
   "metadata": {},
   "outputs": [
    {
     "data": {
      "text/plain": [
       "(203861, 10)"
      ]
     },
     "metadata": {},
     "output_type": "display_data"
    },
    {
     "data": {
      "text/plain": [
       "(67954, 10)"
      ]
     },
     "metadata": {},
     "output_type": "display_data"
    },
    {
     "data": {
      "text/plain": [
       "(67954, 10)"
      ]
     },
     "metadata": {},
     "output_type": "display_data"
    }
   ],
   "source": [
    "features = df_1.drop(['price'], axis=1)\n",
    "target = df_1['price']  \n",
    "\n",
    "features_train, features_other, target_train, target_other = train_test_split(\n",
    "    features, target, test_size=0.4, random_state=12345)\n",
    "\n",
    "features_valid, features_test, target_valid, target_test =\\\n",
    "train_test_split(features_other, target_other, test_size=0.5, random_state=12345)\n",
    "\n",
    "\n",
    "display(features_train.shape, features_valid.shape, features_test.shape) "
   ]
  },
  {
   "cell_type": "markdown",
   "metadata": {},
   "source": [
    "### OrdinalEncoder"
   ]
  },
  {
   "cell_type": "code",
   "execution_count": 71,
   "metadata": {},
   "outputs": [],
   "source": [
    "encoder = OrdinalEncoder()\n",
    "categorical = ['vehicle_type', 'gearbox', 'model', 'fuel_type', 'brand', 'repaired'] \n",
    "\n",
    "features_train_ord = features_train.copy()\n",
    "features_valid_ord = features_valid.copy()\n",
    "features_test_ord = features_test.copy()\n",
    "\n",
    "ord_train = encoder.fit_transform(features_train_ord[categorical])\n",
    "ord_valid = encoder.transform(features_valid_ord[categorical])\n",
    "ord_test = encoder.transform(features_test_ord[categorical])"
   ]
  },
  {
   "cell_type": "code",
   "execution_count": 72,
   "metadata": {
    "scrolled": true
   },
   "outputs": [
    {
     "data": {
      "text/html": [
       "<div>\n",
       "<style scoped>\n",
       "    .dataframe tbody tr th:only-of-type {\n",
       "        vertical-align: middle;\n",
       "    }\n",
       "\n",
       "    .dataframe tbody tr th {\n",
       "        vertical-align: top;\n",
       "    }\n",
       "\n",
       "    .dataframe thead th {\n",
       "        text-align: right;\n",
       "    }\n",
       "</style>\n",
       "<table border=\"1\" class=\"dataframe\">\n",
       "  <thead>\n",
       "    <tr style=\"text-align: right;\">\n",
       "      <th></th>\n",
       "      <th>vehicle_type</th>\n",
       "      <th>registration_year</th>\n",
       "      <th>gearbox</th>\n",
       "      <th>power</th>\n",
       "      <th>model</th>\n",
       "      <th>kilometer</th>\n",
       "      <th>fuel_type</th>\n",
       "      <th>brand</th>\n",
       "      <th>repaired</th>\n",
       "      <th>postal_code_index</th>\n",
       "    </tr>\n",
       "  </thead>\n",
       "  <tbody>\n",
       "    <tr>\n",
       "      <th>194574</th>\n",
       "      <td>sedan</td>\n",
       "      <td>1998</td>\n",
       "      <td>auto</td>\n",
       "      <td>110</td>\n",
       "      <td>other</td>\n",
       "      <td>125000</td>\n",
       "      <td>petrol</td>\n",
       "      <td>ford</td>\n",
       "      <td>yes</td>\n",
       "      <td>51</td>\n",
       "    </tr>\n",
       "    <tr>\n",
       "      <th>41905</th>\n",
       "      <td>coupe</td>\n",
       "      <td>1994</td>\n",
       "      <td>manual</td>\n",
       "      <td>140</td>\n",
       "      <td>3er</td>\n",
       "      <td>150000</td>\n",
       "      <td>petrol</td>\n",
       "      <td>bmw</td>\n",
       "      <td>no</td>\n",
       "      <td>16</td>\n",
       "    </tr>\n",
       "    <tr>\n",
       "      <th>27229</th>\n",
       "      <td>small</td>\n",
       "      <td>2005</td>\n",
       "      <td>manual</td>\n",
       "      <td>58</td>\n",
       "      <td>twingo</td>\n",
       "      <td>150000</td>\n",
       "      <td>petrol</td>\n",
       "      <td>renault</td>\n",
       "      <td>no</td>\n",
       "      <td>26</td>\n",
       "    </tr>\n",
       "    <tr>\n",
       "      <th>140703</th>\n",
       "      <td>small</td>\n",
       "      <td>1996</td>\n",
       "      <td>manual</td>\n",
       "      <td>41</td>\n",
       "      <td>other</td>\n",
       "      <td>125000</td>\n",
       "      <td>petrol</td>\n",
       "      <td>fiat</td>\n",
       "      <td>yes</td>\n",
       "      <td>37</td>\n",
       "    </tr>\n",
       "    <tr>\n",
       "      <th>300175</th>\n",
       "      <td>wagon</td>\n",
       "      <td>1998</td>\n",
       "      <td>auto</td>\n",
       "      <td>170</td>\n",
       "      <td>e_klasse</td>\n",
       "      <td>150000</td>\n",
       "      <td>petrol</td>\n",
       "      <td>mercedes_benz</td>\n",
       "      <td>yes</td>\n",
       "      <td>89</td>\n",
       "    </tr>\n",
       "  </tbody>\n",
       "</table>\n",
       "</div>"
      ],
      "text/plain": [
       "       vehicle_type  registration_year gearbox  power     model  kilometer  \\\n",
       "194574        sedan               1998    auto    110     other     125000   \n",
       "41905         coupe               1994  manual    140       3er     150000   \n",
       "27229         small               2005  manual     58    twingo     150000   \n",
       "140703        small               1996  manual     41     other     125000   \n",
       "300175        wagon               1998    auto    170  e_klasse     150000   \n",
       "\n",
       "       fuel_type          brand repaired  postal_code_index  \n",
       "194574    petrol           ford      yes                 51  \n",
       "41905     petrol            bmw       no                 16  \n",
       "27229     petrol        renault       no                 26  \n",
       "140703    petrol           fiat      yes                 37  \n",
       "300175    petrol  mercedes_benz      yes                 89  "
      ]
     },
     "execution_count": 72,
     "metadata": {},
     "output_type": "execute_result"
    }
   ],
   "source": [
    "features_valid_ord.head()"
   ]
  },
  {
   "cell_type": "code",
   "execution_count": 73,
   "metadata": {},
   "outputs": [
    {
     "data": {
      "text/html": [
       "<div>\n",
       "<style scoped>\n",
       "    .dataframe tbody tr th:only-of-type {\n",
       "        vertical-align: middle;\n",
       "    }\n",
       "\n",
       "    .dataframe tbody tr th {\n",
       "        vertical-align: top;\n",
       "    }\n",
       "\n",
       "    .dataframe thead th {\n",
       "        text-align: right;\n",
       "    }\n",
       "</style>\n",
       "<table border=\"1\" class=\"dataframe\">\n",
       "  <thead>\n",
       "    <tr style=\"text-align: right;\">\n",
       "      <th></th>\n",
       "      <th>vehicle_type</th>\n",
       "      <th>registration_year</th>\n",
       "      <th>gearbox</th>\n",
       "      <th>power</th>\n",
       "      <th>model</th>\n",
       "      <th>kilometer</th>\n",
       "      <th>fuel_type</th>\n",
       "      <th>brand</th>\n",
       "      <th>repaired</th>\n",
       "      <th>postal_code_index</th>\n",
       "    </tr>\n",
       "  </thead>\n",
       "  <tbody>\n",
       "    <tr>\n",
       "      <th>194574</th>\n",
       "      <td>sedan</td>\n",
       "      <td>1998</td>\n",
       "      <td>auto</td>\n",
       "      <td>110</td>\n",
       "      <td>other</td>\n",
       "      <td>125000</td>\n",
       "      <td>petrol</td>\n",
       "      <td>ford</td>\n",
       "      <td>yes</td>\n",
       "      <td>51</td>\n",
       "    </tr>\n",
       "    <tr>\n",
       "      <th>41905</th>\n",
       "      <td>coupe</td>\n",
       "      <td>1994</td>\n",
       "      <td>manual</td>\n",
       "      <td>140</td>\n",
       "      <td>3er</td>\n",
       "      <td>150000</td>\n",
       "      <td>petrol</td>\n",
       "      <td>bmw</td>\n",
       "      <td>no</td>\n",
       "      <td>16</td>\n",
       "    </tr>\n",
       "    <tr>\n",
       "      <th>27229</th>\n",
       "      <td>small</td>\n",
       "      <td>2005</td>\n",
       "      <td>manual</td>\n",
       "      <td>58</td>\n",
       "      <td>twingo</td>\n",
       "      <td>150000</td>\n",
       "      <td>petrol</td>\n",
       "      <td>renault</td>\n",
       "      <td>no</td>\n",
       "      <td>26</td>\n",
       "    </tr>\n",
       "    <tr>\n",
       "      <th>140703</th>\n",
       "      <td>small</td>\n",
       "      <td>1996</td>\n",
       "      <td>manual</td>\n",
       "      <td>41</td>\n",
       "      <td>other</td>\n",
       "      <td>125000</td>\n",
       "      <td>petrol</td>\n",
       "      <td>fiat</td>\n",
       "      <td>yes</td>\n",
       "      <td>37</td>\n",
       "    </tr>\n",
       "    <tr>\n",
       "      <th>300175</th>\n",
       "      <td>wagon</td>\n",
       "      <td>1998</td>\n",
       "      <td>auto</td>\n",
       "      <td>170</td>\n",
       "      <td>e_klasse</td>\n",
       "      <td>150000</td>\n",
       "      <td>petrol</td>\n",
       "      <td>mercedes_benz</td>\n",
       "      <td>yes</td>\n",
       "      <td>89</td>\n",
       "    </tr>\n",
       "  </tbody>\n",
       "</table>\n",
       "</div>"
      ],
      "text/plain": [
       "       vehicle_type  registration_year gearbox  power     model  kilometer  \\\n",
       "194574        sedan               1998    auto    110     other     125000   \n",
       "41905         coupe               1994  manual    140       3er     150000   \n",
       "27229         small               2005  manual     58    twingo     150000   \n",
       "140703        small               1996  manual     41     other     125000   \n",
       "300175        wagon               1998    auto    170  e_klasse     150000   \n",
       "\n",
       "       fuel_type          brand repaired  postal_code_index  \n",
       "194574    petrol           ford      yes                 51  \n",
       "41905     petrol            bmw       no                 16  \n",
       "27229     petrol        renault       no                 26  \n",
       "140703    petrol           fiat      yes                 37  \n",
       "300175    petrol  mercedes_benz      yes                 89  "
      ]
     },
     "execution_count": 73,
     "metadata": {},
     "output_type": "execute_result"
    }
   ],
   "source": [
    "features_valid.head()"
   ]
  },
  {
   "cell_type": "code",
   "execution_count": 74,
   "metadata": {},
   "outputs": [
    {
     "ename": "AttributeError",
     "evalue": "'OrdinalEncoder' object has no attribute 'get_feature_names_out'",
     "output_type": "error",
     "traceback": [
      "\u001b[0;31m---------------------------------------------------------------------------\u001b[0m",
      "\u001b[0;31mAttributeError\u001b[0m                            Traceback (most recent call last)",
      "\u001b[0;32m/tmp/ipykernel_109/3722676586.py\u001b[0m in \u001b[0;36m<module>\u001b[0;34m\u001b[0m\n\u001b[1;32m      1\u001b[0m ord_train = pd.DataFrame(ord_train, \n\u001b[0;32m----> 2\u001b[0;31m     index=features_train_ord.index, columns=encoder.get_feature_names_out())\n\u001b[0m\u001b[1;32m      3\u001b[0m \u001b[0;34m\u001b[0m\u001b[0m\n\u001b[1;32m      4\u001b[0m ord_valid  = pd.DataFrame(ord_valid , \n\u001b[1;32m      5\u001b[0m     index=features_valid_ord.index, columns=encoder.get_feature_names_out())\n",
      "\u001b[0;31mAttributeError\u001b[0m: 'OrdinalEncoder' object has no attribute 'get_feature_names_out'"
     ]
    }
   ],
   "source": [
    "ord_train = pd.DataFrame(ord_train, \n",
    "    index=features_train_ord.index, columns=encoder.get_feature_names_out())\n",
    "\n",
    "ord_valid  = pd.DataFrame(ord_valid , \n",
    "    index=features_valid_ord.index, columns=encoder.get_feature_names_out())\n",
    "\n",
    "ord_test = pd.DataFrame(ord_test, \n",
    "    index=features_test_ord.index, columns=encoder.get_feature_names_out())"
   ]
  },
  {
   "cell_type": "code",
   "execution_count": null,
   "metadata": {},
   "outputs": [],
   "source": [
    "features_train_ord= features_train_ord.drop(categorical, axis=1)\n",
    "features_train_ord = features_train_ord.join(ord_train)\n",
    "\n",
    "features_valid_ord = features_valid_ord.drop(categorical, axis=1)\n",
    "features_valid_ord = features_valid_ord.join(ord_valid)\n",
    "\n",
    "features_test_ord = features_test_ord.drop(categorical, axis=1)\n",
    "features_test_ord = features_test_ord.join(ord_test) \n"
   ]
  },
  {
   "cell_type": "code",
   "execution_count": null,
   "metadata": {
    "scrolled": true
   },
   "outputs": [],
   "source": [
    "features_valid_ord.head()"
   ]
  },
  {
   "cell_type": "markdown",
   "metadata": {},
   "source": [
    "### OHE - кодирование "
   ]
  },
  {
   "cell_type": "code",
   "execution_count": null,
   "metadata": {},
   "outputs": [],
   "source": [
    "categorical = ['vehicle_type', 'gearbox', 'model', 'fuel_type', 'brand', 'repaired']\n",
    "ohe = OneHotEncoder(drop='first', handle_unknown = 'ignore',  sparse=False)"
   ]
  },
  {
   "cell_type": "code",
   "execution_count": null,
   "metadata": {},
   "outputs": [],
   "source": [
    "features_train_ohe = features_train.copy()\n",
    "features_valid_ohe = features_valid.copy()\n",
    "features_test_ohe = features_test.copy()\n",
    "\n",
    "ohe_train = ohe.fit_transform(features_train_ohe[categorical])\n",
    "ohe_valid = ohe.transform(features_valid_ohe[categorical])\n",
    "ohe_test = ohe.transform(features_test_ohe[categorical])"
   ]
  },
  {
   "cell_type": "code",
   "execution_count": null,
   "metadata": {
    "scrolled": true
   },
   "outputs": [],
   "source": [
    "features_valid.head()"
   ]
  },
  {
   "cell_type": "code",
   "execution_count": null,
   "metadata": {},
   "outputs": [],
   "source": [
    "features_valid_ohe.head()"
   ]
  },
  {
   "cell_type": "code",
   "execution_count": null,
   "metadata": {},
   "outputs": [],
   "source": [
    "ohe_train = pd.DataFrame(ohe_train, \n",
    "    index=features_train_ohe.index, columns=ohe.get_feature_names_out())\n",
    "\n",
    "ohe_valid = pd.DataFrame(ohe_valid, \n",
    "    index=features_valid_ohe.index, columns=ohe.get_feature_names_out())\n",
    "\n",
    "ohe_test = pd.DataFrame(ohe_test, \n",
    "    index=features_test_ohe.index, columns=ohe.get_feature_names_out())"
   ]
  },
  {
   "cell_type": "code",
   "execution_count": null,
   "metadata": {},
   "outputs": [],
   "source": [
    "features_train_ohe = features_train_ohe.drop(categorical, axis=1)\n",
    "features_train_ohe = features_train_ohe.join(ohe_train) \n",
    "\n",
    "features_valid_ohe = features_valid_ohe.drop(categorical, axis=1)\n",
    "features_valid_ohe = features_valid_ohe.join(ohe_valid)\n",
    "\n",
    "features_test_ohe =features_test_ohe.drop(categorical, axis=1)\n",
    "features_test_ohe = features_test_ohe.join(ohe_test) "
   ]
  },
  {
   "cell_type": "code",
   "execution_count": null,
   "metadata": {},
   "outputs": [],
   "source": [
    "features_valid_ohe.head()"
   ]
  },
  {
   "cell_type": "markdown",
   "metadata": {},
   "source": [
    "Провели OHE - кодирование категориальных признаков."
   ]
  },
  {
   "cell_type": "markdown",
   "metadata": {},
   "source": [
    "### Масштабирование численных признаков"
   ]
  },
  {
   "cell_type": "code",
   "execution_count": null,
   "metadata": {},
   "outputs": [],
   "source": [
    "numeric = ['power', 'kilometer', 'registration_year']\n",
    "\n",
    "scaler = StandardScaler()\n",
    "scaler.fit(features_train_ohe[numeric])\n",
    "\n",
    "features_train_ohe[numeric] = scaler.transform(features_train_ohe[numeric])\n",
    "features_valid_ohe[numeric] = scaler.transform(features_valid_ohe[numeric])\n",
    "features_test_ohe[numeric] = scaler.transform(features_test_ohe[numeric])\n",
    "\n",
    "features_train_ord[numeric] = scaler.transform(features_train_ord[numeric])\n",
    "features_valid_ord[numeric] = scaler.transform(features_valid_ord[numeric])\n",
    "features_test_ord[numeric] = scaler.transform(features_test_ord[numeric])"
   ]
  },
  {
   "cell_type": "markdown",
   "metadata": {},
   "source": [
    "Стандартизировали численные признаки."
   ]
  },
  {
   "cell_type": "markdown",
   "metadata": {},
   "source": [
    "### LightGBM"
   ]
  },
  {
   "cell_type": "code",
   "execution_count": null,
   "metadata": {},
   "outputs": [],
   "source": [
    "%%time\n",
    "start = time.time()\n",
    "model_gbm = LGBMRegressor(boosting_type='gbdt', max_depth=10, n_estimators=200, num_leaves=31,learning_rate=0.1, random_state = 12345)\n",
    "model_gbm.fit(features_train_ord, target_train)\n",
    "end = time.time()\n",
    "time_gbm_fit=round(end-start,2)"
   ]
  },
  {
   "cell_type": "code",
   "execution_count": null,
   "metadata": {},
   "outputs": [],
   "source": [
    "%%time\n",
    "start = time.time()\n",
    "predict_gbm = model_gbm.predict(features_valid_ord)\n",
    "rmse_gbm = mean_squared_error(target_valid, predict_gbm )**0.5\n",
    "end = time.time()\n",
    "time_gbm_predict=round(end-start,2)"
   ]
  },
  {
   "cell_type": "code",
   "execution_count": null,
   "metadata": {},
   "outputs": [],
   "source": [
    "print(\"RMSE на градиентном бустинге :\", rmse_gbm)"
   ]
  },
  {
   "cell_type": "markdown",
   "metadata": {},
   "source": [
    "Применили модель градиентного бустинга LightGBM. Измерили время обучения и предсказания модели. Рассчитали RMSE на тестовой выборке = 1690 (подходит под условия задачи, т к RMSE должно быть меньше 2500)."
   ]
  },
  {
   "cell_type": "markdown",
   "metadata": {},
   "source": [
    "### Случайный лес"
   ]
  },
  {
   "cell_type": "code",
   "execution_count": null,
   "metadata": {},
   "outputs": [],
   "source": [
    "best_model = None\n",
    "best_result = 5000\n",
    "best_est = 0\n",
    "best_depth = 0\n",
    "for depth in range(1, 10, 2):\n",
    "    for est in range(1, 100, 10):\n",
    "        model = RandomForestRegressor(random_state=12345, n_estimators=est, max_depth=depth) \n",
    "        model.fit(features_train_ord, target_train) \n",
    "        predicted_valid = model.predict(features_valid_ord)\n",
    "        result = (mean_squared_error(target_valid, predicted_valid))**0.5\n",
    "        if result < best_result:\n",
    "            best_model = model\n",
    "            best_result=  result \n",
    "            best_est_for = est\n",
    "            best_depth_for = depth\n",
    "model_for = best_model\n",
    "rmse_for = best_result\n",
    "\n",
    "print(\"RMSE наилучшей модели на валидационной выборке:\",rmse_for, 'n_estimators:',  best_est_for, 'depth', best_depth_for)"
   ]
  },
  {
   "cell_type": "code",
   "execution_count": null,
   "metadata": {},
   "outputs": [],
   "source": [
    "%%time\n",
    "start = time.time() \n",
    "model_for = RandomForestRegressor(random_state=12345, n_estimators=best_est_for, max_depth=best_depth_for) \n",
    "model_for.fit(features_train_ord, target_train)\n",
    "end = time.time()\n",
    "time_for_fit=round(end-start,2)"
   ]
  },
  {
   "cell_type": "code",
   "execution_count": null,
   "metadata": {},
   "outputs": [],
   "source": [
    "%%time\n",
    "start = time.time() \n",
    "predicted_valid_for = model_for.predict(features_valid_ord)\n",
    "end = time.time()\n",
    "time_for_predict=round(end-start,2)"
   ]
  },
  {
   "cell_type": "markdown",
   "metadata": {},
   "source": [
    "Применили модель Случайного леса. Измерили время обучения и предсказания модели. Рассчитали RMSE на тестовой выборке = 1980 (подходит под условия задачи, т к RMSE должно быть меньше 2500)."
   ]
  },
  {
   "cell_type": "markdown",
   "metadata": {},
   "source": [
    "### Линейная регрессия"
   ]
  },
  {
   "cell_type": "code",
   "execution_count": null,
   "metadata": {},
   "outputs": [],
   "source": [
    "%%time\n",
    "start = time.time()\n",
    "model_lin = LinearRegression()\n",
    "model_lin.fit(features_train_ohe, target_train)\n",
    "end = time.time()\n",
    "time_lin_fit=round(end-start,2)"
   ]
  },
  {
   "cell_type": "code",
   "execution_count": null,
   "metadata": {},
   "outputs": [],
   "source": [
    "%%time\n",
    "start = time.time()\n",
    "predict_valid_lin = model_lin.predict(features_valid_ohe)\n",
    "end = time.time()\n",
    "time_lin_predict=round(end-start,2)"
   ]
  },
  {
   "cell_type": "code",
   "execution_count": null,
   "metadata": {
    "scrolled": false
   },
   "outputs": [],
   "source": [
    "rmse_lin = (mean_squared_error(target_valid, predict_valid_lin))**0.5\n",
    "print('RMSE на линейной регрессии:', rmse_lin)"
   ]
  },
  {
   "cell_type": "markdown",
   "metadata": {},
   "source": [
    "Применили модель линейной регрессии. Измерили время обучения и предсказания. Рассчитали RMSE на тестовой выборке (2651). Не подходит под условие задачи, так как больше 2500."
   ]
  },
  {
   "cell_type": "markdown",
   "metadata": {},
   "source": [
    "## Анализ моделей"
   ]
  },
  {
   "cell_type": "code",
   "execution_count": null,
   "metadata": {
    "scrolled": true
   },
   "outputs": [],
   "source": [
    "columns = ['Model', 'Time_fit', 'Time_pred', 'RMSE']\n",
    "result= [['LightGBM', time_gbm_fit, time_gbm_predict, round(rmse_gbm)],['Random_Forest', time_for_fit,  time_for_predict,\\\n",
    "                                                                        round(rmse_for)], ['Linear_Regression', time_lin_fit,\\\n",
    "                                                                                           time_lin_predict, round(rmse_lin)]]\n",
    "pd.DataFrame(data = result, columns = columns)"
   ]
  },
  {
   "cell_type": "markdown",
   "metadata": {},
   "source": [
    "Построили таблицу с результатами времени  обучения, предсказания и RMSE моделей.\n",
    "\n",
    "- Самое долгое обучение (31.75) у Случайного леса\n",
    "- Самое высокое RMSE (2651) у линейной рергрессии. Из-за RMSE больше 2500, не можем рекомендровать эту модель.\n",
    "- Самое быстрое предсказание (0.42) с учетом пропуска по RMSE (меньше 2500) у Градиентного бустинга\n",
    "- Градиентный бустинг быстрее всех убучился (1.91), и показал лучшее RMSE (1695).\n",
    "\n",
    "Для работы рекомедуется использовать градиентный бустинг."
   ]
  },
  {
   "cell_type": "code",
   "execution_count": null,
   "metadata": {},
   "outputs": [],
   "source": [
    "%%time\n",
    "start = time.time() \n",
    "predicted_test = model_gbm.predict(features_test_ord)\n",
    "end = time.time()\n",
    "time_for_test=round(end-start,2)"
   ]
  },
  {
   "cell_type": "code",
   "execution_count": null,
   "metadata": {},
   "outputs": [],
   "source": [
    "rmse_for_test= (mean_squared_error(target_test, predicted_test))**0.5\n",
    "print (rmse_for_test)"
   ]
  },
  {
   "cell_type": "markdown",
   "metadata": {},
   "source": [
    "Проверили Градиентный бустинг на тестовой выборке. Время предсказания 0.48 сек, RMSE 1679, подходит под критерий (меньше 2500)."
   ]
  },
  {
   "cell_type": "markdown",
   "metadata": {},
   "source": [
    "## Общий вывод"
   ]
  },
  {
   "cell_type": "markdown",
   "metadata": {},
   "source": [
    "Проведены три этапа работы:\n",
    "\n",
    "- Подготовка данных\n",
    "- Обучение моделей\n",
    "- Анализ моделей и рекомендации по выбору рабочего варианта.\n",
    "\n",
    "1. На стадии подготовки: заполнены пропуски, обработаны аномалии, изучена корреляция, удалены неинформативные столбцы. Пропуски заполнены заглушками unknown/other. Аномальные значения цены а/м (до 100 евро) и мощности а/м (0 или более 500) заполненые медианами по марке и моделе а/м. Построена матрица корреляции. Максимальное значение зависимости 0.51 (зависимость цены от мощности а/м) и 0.62 (зависимость цены от года регистрации).\n",
    "\n",
    "\n",
    "2. Перед обучением моделей проведено OHE-кодирование категориальных признаков, стандартизация численных признаков. \n",
    "\n",
    "Обучены три модели:\n",
    "- Градиентный бустинг (LGBMRegressor)\n",
    "- Случайный лес\n",
    "- Линейная регрессия\n",
    "\n",
    "У всех моделей измерено время обучения и предсказания, а также выбранная для оценки метрика RMSE.\n",
    "\n",
    "3. В процессе анализа сравнили время время обучения и предсказания и RMSE моделей. \n",
    "Самое долгое обучение (31.75) у Случайного леса\n",
    "Самое высокое RMSE (2651) у линейной рергрессии. Из-за RMSE больше 2500, не можем рекомендровать эту модель.\n",
    "Самое быстрое предсказание (0.42) с учетом пропуска по RMSE (меньше 2500) у Градиентного бустинга\n",
    "Градиентный бустинг быстрее всех убучился (1.91), и показал лучшее RMSE (1695).\n",
    "Для работы рекомедуется использовать градиентный бустинг.\n",
    "\n",
    "Для предсказания цен автомобилей рекомендуется использовать градиентный бустинг. Проверена на тестовой выборке. RMSE 1679, время предсказания (0.48 сек)."
   ]
  }
 ],
 "metadata": {
  "ExecuteTimeLog": [
   {
    "duration": 2986,
    "start_time": "2023-03-24T19:35:08.166Z"
   },
   {
    "duration": 2134,
    "start_time": "2023-03-24T19:35:11.155Z"
   },
   {
    "duration": 1246,
    "start_time": "2023-03-24T19:35:13.291Z"
   },
   {
    "duration": 876,
    "start_time": "2023-03-24T19:35:14.540Z"
   },
   {
    "duration": 19,
    "start_time": "2023-03-24T19:35:15.418Z"
   },
   {
    "duration": 126,
    "start_time": "2023-03-24T19:35:15.439Z"
   },
   {
    "duration": 6,
    "start_time": "2023-03-24T19:35:15.567Z"
   },
   {
    "duration": 450,
    "start_time": "2023-03-24T19:35:15.575Z"
   },
   {
    "duration": 610,
    "start_time": "2023-03-24T19:35:16.027Z"
   },
   {
    "duration": 270,
    "start_time": "2023-03-24T19:35:16.639Z"
   },
   {
    "duration": 289,
    "start_time": "2023-03-24T19:35:16.911Z"
   },
   {
    "duration": 5,
    "start_time": "2023-03-24T19:35:17.202Z"
   },
   {
    "duration": 10,
    "start_time": "2023-03-24T19:35:17.208Z"
   },
   {
    "duration": 88,
    "start_time": "2023-03-24T19:35:17.220Z"
   },
   {
    "duration": 65,
    "start_time": "2023-03-24T19:35:17.310Z"
   },
   {
    "duration": 86,
    "start_time": "2023-03-24T19:35:17.377Z"
   },
   {
    "duration": 214,
    "start_time": "2023-03-24T19:35:17.465Z"
   },
   {
    "duration": 29,
    "start_time": "2023-03-24T19:35:17.681Z"
   },
   {
    "duration": 36,
    "start_time": "2023-03-24T19:35:17.712Z"
   },
   {
    "duration": 51,
    "start_time": "2023-03-24T19:35:17.750Z"
   },
   {
    "duration": 86,
    "start_time": "2023-03-24T19:35:17.804Z"
   },
   {
    "duration": 54,
    "start_time": "2023-03-24T19:35:17.893Z"
   },
   {
    "duration": 49,
    "start_time": "2023-03-24T19:35:17.950Z"
   },
   {
    "duration": 105,
    "start_time": "2023-03-24T19:35:18.000Z"
   },
   {
    "duration": 28,
    "start_time": "2023-03-24T19:35:18.107Z"
   },
   {
    "duration": 70,
    "start_time": "2023-03-24T19:35:18.136Z"
   },
   {
    "duration": 31,
    "start_time": "2023-03-24T19:35:18.210Z"
   },
   {
    "duration": 50,
    "start_time": "2023-03-24T19:35:18.246Z"
   },
   {
    "duration": 48,
    "start_time": "2023-03-24T19:35:18.298Z"
   },
   {
    "duration": 55,
    "start_time": "2023-03-24T19:35:18.348Z"
   },
   {
    "duration": 18,
    "start_time": "2023-03-24T19:35:18.405Z"
   },
   {
    "duration": 363,
    "start_time": "2023-03-24T19:35:18.424Z"
   },
   {
    "duration": 24,
    "start_time": "2023-03-24T19:35:18.789Z"
   },
   {
    "duration": 64,
    "start_time": "2023-03-24T19:35:18.816Z"
   },
   {
    "duration": 992133,
    "start_time": "2023-03-24T19:35:18.882Z"
   },
   {
    "duration": 20,
    "start_time": "2023-03-24T19:51:51.017Z"
   },
   {
    "duration": 18,
    "start_time": "2023-03-24T19:51:51.038Z"
   },
   {
    "duration": 133,
    "start_time": "2023-03-24T19:51:51.073Z"
   },
   {
    "duration": 4,
    "start_time": "2023-03-24T19:51:51.208Z"
   },
   {
    "duration": 21,
    "start_time": "2023-03-24T19:51:51.214Z"
   },
   {
    "duration": 156,
    "start_time": "2023-03-24T19:51:51.236Z"
   },
   {
    "duration": 30,
    "start_time": "2023-03-24T19:51:51.394Z"
   },
   {
    "duration": 56,
    "start_time": "2023-03-24T19:51:51.426Z"
   },
   {
    "duration": 77,
    "start_time": "2023-03-24T19:51:51.484Z"
   },
   {
    "duration": 34,
    "start_time": "2023-03-24T19:51:51.563Z"
   },
   {
    "duration": 57,
    "start_time": "2023-03-24T19:51:51.599Z"
   },
   {
    "duration": 220,
    "start_time": "2023-03-24T19:51:51.657Z"
   },
   {
    "duration": 5,
    "start_time": "2023-03-24T19:51:51.879Z"
   },
   {
    "duration": 11,
    "start_time": "2023-03-24T19:51:51.885Z"
   },
   {
    "duration": 28,
    "start_time": "2023-03-24T19:51:51.898Z"
   },
   {
    "duration": 51,
    "start_time": "2023-03-24T19:51:51.927Z"
   },
   {
    "duration": 9,
    "start_time": "2023-03-24T19:51:51.979Z"
   },
   {
    "duration": 219,
    "start_time": "2023-03-24T19:51:51.989Z"
   },
   {
    "duration": 4,
    "start_time": "2023-03-24T19:51:52.210Z"
   },
   {
    "duration": 18,
    "start_time": "2023-03-24T19:51:52.216Z"
   },
   {
    "duration": 22,
    "start_time": "2023-03-24T19:51:52.235Z"
   },
   {
    "duration": 47,
    "start_time": "2023-03-24T19:51:52.259Z"
   },
   {
    "duration": 16,
    "start_time": "2023-03-24T19:51:52.308Z"
   },
   {
    "duration": 371,
    "start_time": "2023-03-24T19:51:52.326Z"
   },
   {
    "duration": 235,
    "start_time": "2023-03-24T19:51:52.698Z"
   },
   {
    "duration": 624466,
    "start_time": "2023-03-24T19:51:52.935Z"
   },
   {
    "duration": 19,
    "start_time": "2023-03-24T20:02:17.402Z"
   },
   {
    "duration": 3,
    "start_time": "2023-03-24T20:02:17.423Z"
   },
   {
    "duration": 536,
    "start_time": "2023-03-24T20:02:17.428Z"
   },
   {
    "duration": 27,
    "start_time": "2023-03-24T20:02:17.966Z"
   },
   {
    "duration": 98,
    "start_time": "2023-03-24T20:02:17.996Z"
   },
   {
    "duration": 3,
    "start_time": "2023-03-24T20:02:18.096Z"
   },
   {
    "duration": 1374,
    "start_time": "2023-03-24T20:02:18.101Z"
   },
   {
    "duration": 5,
    "start_time": "2023-03-24T20:02:19.477Z"
   },
   {
    "duration": 1522,
    "start_time": "2023-03-24T20:02:19.483Z"
   },
   {
    "duration": 161,
    "start_time": "2023-03-24T20:02:21.007Z"
   },
   {
    "duration": 3,
    "start_time": "2023-03-24T20:02:21.170Z"
   },
   {
    "duration": 52,
    "start_time": "2023-03-24T20:38:14.915Z"
   },
   {
    "duration": 6,
    "start_time": "2023-03-24T20:38:27.584Z"
   },
   {
    "duration": 2670,
    "start_time": "2023-03-25T13:53:41.022Z"
   },
   {
    "duration": 1809,
    "start_time": "2023-03-25T13:53:43.694Z"
   },
   {
    "duration": 1475,
    "start_time": "2023-03-25T13:53:45.505Z"
   },
   {
    "duration": 110,
    "start_time": "2023-03-25T13:53:46.982Z"
   },
   {
    "duration": 0,
    "start_time": "2023-03-25T13:53:47.093Z"
   },
   {
    "duration": 890,
    "start_time": "2023-03-25T13:53:53.393Z"
   },
   {
    "duration": 14,
    "start_time": "2023-03-25T13:53:54.285Z"
   },
   {
    "duration": 104,
    "start_time": "2023-03-25T13:53:54.861Z"
   },
   {
    "duration": 3,
    "start_time": "2023-03-25T13:53:56.157Z"
   },
   {
    "duration": 368,
    "start_time": "2023-03-25T13:53:57.231Z"
   },
   {
    "duration": 421,
    "start_time": "2023-03-25T13:53:59.805Z"
   },
   {
    "duration": 401,
    "start_time": "2023-03-25T13:54:03.381Z"
   },
   {
    "duration": 523,
    "start_time": "2023-03-25T13:54:09.573Z"
   },
   {
    "duration": 1839,
    "start_time": "2023-03-25T14:29:32.177Z"
   },
   {
    "duration": 1850,
    "start_time": "2023-03-25T14:29:34.018Z"
   },
   {
    "duration": 4,
    "start_time": "2023-03-25T14:29:35.869Z"
   },
   {
    "duration": 700,
    "start_time": "2023-03-25T14:29:35.875Z"
   },
   {
    "duration": 12,
    "start_time": "2023-03-25T14:29:36.576Z"
   },
   {
    "duration": 128,
    "start_time": "2023-03-25T14:29:36.590Z"
   },
   {
    "duration": 3,
    "start_time": "2023-03-25T14:29:36.719Z"
   },
   {
    "duration": 331,
    "start_time": "2023-03-25T14:29:36.723Z"
   },
   {
    "duration": 444,
    "start_time": "2023-03-25T14:29:37.056Z"
   },
   {
    "duration": 219,
    "start_time": "2023-03-25T14:29:37.503Z"
   },
   {
    "duration": 198,
    "start_time": "2023-03-25T14:29:37.724Z"
   },
   {
    "duration": 4,
    "start_time": "2023-03-25T14:29:37.923Z"
   },
   {
    "duration": 12,
    "start_time": "2023-03-25T14:29:37.929Z"
   },
   {
    "duration": 37,
    "start_time": "2023-03-25T14:29:37.948Z"
   },
   {
    "duration": 32,
    "start_time": "2023-03-25T14:29:37.986Z"
   },
   {
    "duration": 51,
    "start_time": "2023-03-25T14:29:38.020Z"
   },
   {
    "duration": 156,
    "start_time": "2023-03-25T14:29:38.073Z"
   },
   {
    "duration": 31,
    "start_time": "2023-03-25T14:29:38.231Z"
   },
   {
    "duration": 23,
    "start_time": "2023-03-25T14:29:38.295Z"
   },
   {
    "duration": 27,
    "start_time": "2023-03-25T14:29:38.498Z"
   },
   {
    "duration": 33,
    "start_time": "2023-03-25T14:29:38.852Z"
   },
   {
    "duration": 32,
    "start_time": "2023-03-25T14:29:39.044Z"
   },
   {
    "duration": 23,
    "start_time": "2023-03-25T14:29:39.226Z"
   },
   {
    "duration": 86,
    "start_time": "2023-03-25T14:29:39.577Z"
   },
   {
    "duration": 27,
    "start_time": "2023-03-25T14:29:39.906Z"
   },
   {
    "duration": 37,
    "start_time": "2023-03-25T14:29:40.073Z"
   },
   {
    "duration": 28,
    "start_time": "2023-03-25T14:29:40.819Z"
   },
   {
    "duration": 38,
    "start_time": "2023-03-25T14:29:41.381Z"
   },
   {
    "duration": 41,
    "start_time": "2023-03-25T14:29:41.776Z"
   },
   {
    "duration": 36,
    "start_time": "2023-03-25T14:29:41.952Z"
   },
   {
    "duration": 20,
    "start_time": "2023-03-25T14:29:42.516Z"
   },
   {
    "duration": 294,
    "start_time": "2023-03-25T14:29:42.721Z"
   },
   {
    "duration": 22,
    "start_time": "2023-03-25T14:29:43.111Z"
   },
   {
    "duration": 27,
    "start_time": "2023-03-25T14:29:43.312Z"
   },
   {
    "duration": 891874,
    "start_time": "2023-03-25T14:29:43.745Z"
   },
   {
    "duration": 17,
    "start_time": "2023-03-25T14:44:35.620Z"
   },
   {
    "duration": 27,
    "start_time": "2023-03-25T14:44:35.638Z"
   },
   {
    "duration": 131,
    "start_time": "2023-03-25T14:44:35.666Z"
   },
   {
    "duration": 3,
    "start_time": "2023-03-25T14:44:35.799Z"
   },
   {
    "duration": 13,
    "start_time": "2023-03-25T14:44:35.804Z"
   },
   {
    "duration": 153,
    "start_time": "2023-03-25T14:44:35.818Z"
   },
   {
    "duration": 21,
    "start_time": "2023-03-25T14:44:35.973Z"
   },
   {
    "duration": 25,
    "start_time": "2023-03-25T14:44:35.995Z"
   },
   {
    "duration": 58,
    "start_time": "2023-03-25T14:44:36.022Z"
   },
   {
    "duration": 24,
    "start_time": "2023-03-25T14:44:36.082Z"
   },
   {
    "duration": 59,
    "start_time": "2023-03-25T14:44:36.107Z"
   },
   {
    "duration": 181,
    "start_time": "2023-03-25T14:44:36.168Z"
   },
   {
    "duration": 4,
    "start_time": "2023-03-25T14:44:36.350Z"
   },
   {
    "duration": 20,
    "start_time": "2023-03-25T14:44:36.355Z"
   },
   {
    "duration": 21,
    "start_time": "2023-03-25T14:44:36.376Z"
   },
   {
    "duration": 41,
    "start_time": "2023-03-25T14:44:36.398Z"
   },
   {
    "duration": 8,
    "start_time": "2023-03-25T14:44:36.441Z"
   },
   {
    "duration": 190,
    "start_time": "2023-03-25T14:44:36.451Z"
   },
   {
    "duration": 7,
    "start_time": "2023-03-25T14:44:36.642Z"
   },
   {
    "duration": 13,
    "start_time": "2023-03-25T14:44:36.650Z"
   },
   {
    "duration": 23,
    "start_time": "2023-03-25T14:44:36.664Z"
   },
   {
    "duration": 36,
    "start_time": "2023-03-25T14:44:36.689Z"
   },
   {
    "duration": 14,
    "start_time": "2023-03-25T14:44:36.726Z"
   },
   {
    "duration": 347,
    "start_time": "2023-03-25T14:44:36.742Z"
   },
   {
    "duration": 145,
    "start_time": "2023-03-25T14:44:37.090Z"
   },
   {
    "duration": 580071,
    "start_time": "2023-03-25T14:44:37.236Z"
   },
   {
    "duration": 19,
    "start_time": "2023-03-25T14:54:17.311Z"
   },
   {
    "duration": 4,
    "start_time": "2023-03-25T14:54:17.331Z"
   },
   {
    "duration": 586,
    "start_time": "2023-03-25T14:54:17.348Z"
   },
   {
    "duration": 27,
    "start_time": "2023-03-25T14:54:17.935Z"
   },
   {
    "duration": 4,
    "start_time": "2023-03-25T14:54:17.963Z"
   },
   {
    "duration": 70,
    "start_time": "2023-03-25T14:54:17.968Z"
   },
   {
    "duration": 61,
    "start_time": "2023-03-25T14:54:18.049Z"
   },
   {
    "duration": 0,
    "start_time": "2023-03-25T14:54:18.112Z"
   },
   {
    "duration": 0,
    "start_time": "2023-03-25T14:54:18.113Z"
   },
   {
    "duration": 0,
    "start_time": "2023-03-25T14:54:18.114Z"
   },
   {
    "duration": 0,
    "start_time": "2023-03-25T14:54:18.116Z"
   },
   {
    "duration": 711,
    "start_time": "2023-03-25T14:54:29.261Z"
   },
   {
    "duration": 2,
    "start_time": "2023-03-25T14:54:31.466Z"
   },
   {
    "duration": 23,
    "start_time": "2023-03-25T14:54:31.771Z"
   },
   {
    "duration": 8,
    "start_time": "2023-03-25T14:54:32.005Z"
   },
   {
    "duration": 19,
    "start_time": "2023-03-25T14:55:25.517Z"
   },
   {
    "duration": 81,
    "start_time": "2023-03-25T14:56:43.434Z"
   },
   {
    "duration": 3,
    "start_time": "2023-03-25T14:56:44.546Z"
   },
   {
    "duration": 16,
    "start_time": "2023-03-25T14:56:44.851Z"
   },
   {
    "duration": 3,
    "start_time": "2023-03-25T14:57:08.084Z"
   },
   {
    "duration": 3,
    "start_time": "2023-03-25T14:57:10.857Z"
   },
   {
    "duration": 1513,
    "start_time": "2023-03-25T14:57:11.134Z"
   },
   {
    "duration": 9,
    "start_time": "2023-03-25T14:57:14.352Z"
   },
   {
    "duration": 3,
    "start_time": "2023-03-25T14:57:33.558Z"
   },
   {
    "duration": 16,
    "start_time": "2023-03-25T14:57:34.032Z"
   },
   {
    "duration": 10,
    "start_time": "2023-03-25T14:57:48.118Z"
   },
   {
    "duration": 24,
    "start_time": "2023-03-25T14:58:14.877Z"
   },
   {
    "duration": 669,
    "start_time": "2023-03-25T14:58:20.750Z"
   },
   {
    "duration": 61,
    "start_time": "2023-03-25T14:58:24.325Z"
   },
   {
    "duration": 2,
    "start_time": "2023-03-25T14:58:27.271Z"
   },
   {
    "duration": 16,
    "start_time": "2023-03-25T14:58:47.313Z"
   },
   {
    "duration": 33,
    "start_time": "2023-03-25T14:59:41.563Z"
   },
   {
    "duration": 67,
    "start_time": "2023-03-25T14:59:45.021Z"
   },
   {
    "duration": 2,
    "start_time": "2023-03-25T14:59:47.662Z"
   },
   {
    "duration": 8,
    "start_time": "2023-03-25T14:59:47.908Z"
   },
   {
    "duration": 21,
    "start_time": "2023-03-25T15:00:02.145Z"
   },
   {
    "duration": 60,
    "start_time": "2023-03-25T15:00:06.219Z"
   },
   {
    "duration": 2,
    "start_time": "2023-03-25T15:00:08.851Z"
   },
   {
    "duration": 21,
    "start_time": "2023-03-25T15:00:09.031Z"
   },
   {
    "duration": 9,
    "start_time": "2023-03-25T15:00:09.196Z"
   },
   {
    "duration": 66,
    "start_time": "2023-03-25T15:00:10.168Z"
   },
   {
    "duration": 10,
    "start_time": "2023-03-25T15:01:44.034Z"
   },
   {
    "duration": 67,
    "start_time": "2023-03-25T15:03:47.445Z"
   },
   {
    "duration": 74,
    "start_time": "2023-03-25T15:04:20.141Z"
   },
   {
    "duration": 10,
    "start_time": "2023-03-25T15:04:24.403Z"
   },
   {
    "duration": 3,
    "start_time": "2023-03-25T15:04:33.793Z"
   },
   {
    "duration": 20,
    "start_time": "2023-03-25T15:04:34.997Z"
   },
   {
    "duration": 9,
    "start_time": "2023-03-25T15:04:57.863Z"
   },
   {
    "duration": 102,
    "start_time": "2023-03-25T15:05:32.628Z"
   },
   {
    "duration": 12,
    "start_time": "2023-03-25T15:12:21.395Z"
   },
   {
    "duration": 3,
    "start_time": "2023-03-25T15:12:36.129Z"
   },
   {
    "duration": 27,
    "start_time": "2023-03-25T15:12:37.367Z"
   },
   {
    "duration": 3,
    "start_time": "2023-03-25T15:12:46.378Z"
   },
   {
    "duration": 22,
    "start_time": "2023-03-25T15:12:47.096Z"
   },
   {
    "duration": 3,
    "start_time": "2023-03-25T15:15:44.882Z"
   },
   {
    "duration": 1343,
    "start_time": "2023-03-25T15:15:45.069Z"
   },
   {
    "duration": 73,
    "start_time": "2023-03-25T15:15:46.414Z"
   },
   {
    "duration": 2,
    "start_time": "2023-03-25T15:15:54.998Z"
   },
   {
    "duration": 16,
    "start_time": "2023-03-25T15:15:55.208Z"
   },
   {
    "duration": 758,
    "start_time": "2023-03-25T15:21:24.139Z"
   },
   {
    "duration": 1940,
    "start_time": "2023-03-25T15:24:02.764Z"
   },
   {
    "duration": 2023,
    "start_time": "2023-03-25T15:24:04.707Z"
   },
   {
    "duration": 4,
    "start_time": "2023-03-25T15:24:06.732Z"
   },
   {
    "duration": 821,
    "start_time": "2023-03-25T15:24:06.738Z"
   },
   {
    "duration": 15,
    "start_time": "2023-03-25T15:24:07.561Z"
   },
   {
    "duration": 123,
    "start_time": "2023-03-25T15:24:07.578Z"
   },
   {
    "duration": 3,
    "start_time": "2023-03-25T15:24:07.703Z"
   },
   {
    "duration": 336,
    "start_time": "2023-03-25T15:24:07.707Z"
   },
   {
    "duration": 467,
    "start_time": "2023-03-25T15:24:08.045Z"
   },
   {
    "duration": 1879,
    "start_time": "2023-03-25T15:24:32.284Z"
   },
   {
    "duration": 1958,
    "start_time": "2023-03-25T15:24:34.166Z"
   },
   {
    "duration": 4,
    "start_time": "2023-03-25T15:24:36.125Z"
   },
   {
    "duration": 723,
    "start_time": "2023-03-25T15:24:36.132Z"
   },
   {
    "duration": 13,
    "start_time": "2023-03-25T15:24:36.860Z"
   },
   {
    "duration": 120,
    "start_time": "2023-03-25T15:24:36.874Z"
   },
   {
    "duration": 3,
    "start_time": "2023-03-25T15:24:36.996Z"
   },
   {
    "duration": 355,
    "start_time": "2023-03-25T15:24:37.000Z"
   },
   {
    "duration": 455,
    "start_time": "2023-03-25T15:24:37.356Z"
   },
   {
    "duration": 239,
    "start_time": "2023-03-25T15:24:42.761Z"
   },
   {
    "duration": 274,
    "start_time": "2023-03-25T15:24:43.021Z"
   },
   {
    "duration": 5,
    "start_time": "2023-03-25T15:24:43.297Z"
   },
   {
    "duration": 4,
    "start_time": "2023-03-25T15:24:43.513Z"
   },
   {
    "duration": 38,
    "start_time": "2023-03-25T15:24:44.095Z"
   },
   {
    "duration": 28,
    "start_time": "2023-03-25T15:24:44.285Z"
   },
   {
    "duration": 63,
    "start_time": "2023-03-25T15:24:44.662Z"
   },
   {
    "duration": 150,
    "start_time": "2023-03-25T15:24:45.046Z"
   },
   {
    "duration": 44,
    "start_time": "2023-03-25T15:24:45.924Z"
   },
   {
    "duration": 34,
    "start_time": "2023-03-25T15:24:46.167Z"
   },
   {
    "duration": 27,
    "start_time": "2023-03-25T15:24:46.894Z"
   },
   {
    "duration": 41,
    "start_time": "2023-03-25T15:24:47.240Z"
   },
   {
    "duration": 37,
    "start_time": "2023-03-25T15:24:47.622Z"
   },
   {
    "duration": 24,
    "start_time": "2023-03-25T15:24:47.821Z"
   },
   {
    "duration": 95,
    "start_time": "2023-03-25T15:25:03.469Z"
   },
   {
    "duration": 58,
    "start_time": "2023-03-25T15:25:04.507Z"
   },
   {
    "duration": 40,
    "start_time": "2023-03-25T15:25:05.502Z"
   },
   {
    "duration": 54,
    "start_time": "2023-03-25T15:25:06.888Z"
   },
   {
    "duration": 47,
    "start_time": "2023-03-25T15:25:08.168Z"
   },
   {
    "duration": 52,
    "start_time": "2023-03-25T15:25:08.728Z"
   },
   {
    "duration": 45,
    "start_time": "2023-03-25T15:25:09.011Z"
   },
   {
    "duration": 16,
    "start_time": "2023-03-25T15:26:31.292Z"
   },
   {
    "duration": 319,
    "start_time": "2023-03-25T15:26:31.473Z"
   },
   {
    "duration": 21,
    "start_time": "2023-03-25T15:26:31.821Z"
   },
   {
    "duration": 29,
    "start_time": "2023-03-25T15:26:33.840Z"
   },
   {
    "duration": 996785,
    "start_time": "2023-03-25T15:26:34.723Z"
   },
   {
    "duration": 29,
    "start_time": "2023-03-25T15:43:11.510Z"
   },
   {
    "duration": 20,
    "start_time": "2023-03-25T15:43:11.559Z"
   },
   {
    "duration": 151,
    "start_time": "2023-03-25T15:43:11.583Z"
   },
   {
    "duration": 23,
    "start_time": "2023-03-25T15:43:11.736Z"
   },
   {
    "duration": 18,
    "start_time": "2023-03-25T15:43:11.768Z"
   },
   {
    "duration": 164,
    "start_time": "2023-03-25T15:43:11.788Z"
   },
   {
    "duration": 28,
    "start_time": "2023-03-25T15:43:11.953Z"
   },
   {
    "duration": 24,
    "start_time": "2023-03-25T15:43:11.983Z"
   },
   {
    "duration": 46,
    "start_time": "2023-03-25T15:43:12.009Z"
   },
   {
    "duration": 49,
    "start_time": "2023-03-25T15:43:12.063Z"
   },
   {
    "duration": 50,
    "start_time": "2023-03-25T15:43:12.114Z"
   },
   {
    "duration": 54,
    "start_time": "2023-03-25T15:43:12.166Z"
   },
   {
    "duration": 222,
    "start_time": "2023-03-25T15:43:12.221Z"
   },
   {
    "duration": 7,
    "start_time": "2023-03-25T15:43:12.444Z"
   },
   {
    "duration": 28,
    "start_time": "2023-03-25T15:43:12.452Z"
   },
   {
    "duration": 17,
    "start_time": "2023-03-25T15:43:12.482Z"
   },
   {
    "duration": 44,
    "start_time": "2023-03-25T15:43:12.501Z"
   },
   {
    "duration": 18,
    "start_time": "2023-03-25T15:43:12.551Z"
   },
   {
    "duration": 207,
    "start_time": "2023-03-25T15:52:05.639Z"
   },
   {
    "duration": 5,
    "start_time": "2023-03-25T15:52:05.878Z"
   },
   {
    "duration": 5,
    "start_time": "2023-03-25T15:52:06.095Z"
   },
   {
    "duration": 17,
    "start_time": "2023-03-25T15:52:06.831Z"
   },
   {
    "duration": 236,
    "start_time": "2023-03-25T16:16:27.690Z"
   },
   {
    "duration": 109,
    "start_time": "2023-03-25T16:16:40.509Z"
   },
   {
    "duration": 20,
    "start_time": "2023-03-25T16:16:56.292Z"
   },
   {
    "duration": 28,
    "start_time": "2023-03-25T16:17:09.906Z"
   },
   {
    "duration": 236,
    "start_time": "2023-03-25T16:22:54.325Z"
   },
   {
    "duration": 37,
    "start_time": "2023-03-25T16:22:55.514Z"
   },
   {
    "duration": 11,
    "start_time": "2023-03-25T16:23:08.492Z"
   },
   {
    "duration": 228,
    "start_time": "2023-03-25T16:23:36.511Z"
   },
   {
    "duration": 26,
    "start_time": "2023-03-25T16:23:36.741Z"
   },
   {
    "duration": 111,
    "start_time": "2023-03-25T16:23:44.487Z"
   },
   {
    "duration": 15,
    "start_time": "2023-03-25T16:23:54.666Z"
   },
   {
    "duration": 236,
    "start_time": "2023-03-25T16:26:18.169Z"
   },
   {
    "duration": 7,
    "start_time": "2023-03-25T16:26:18.407Z"
   },
   {
    "duration": 13,
    "start_time": "2023-03-25T16:26:22.631Z"
   },
   {
    "duration": 72,
    "start_time": "2023-03-25T16:30:53.904Z"
   },
   {
    "duration": 88,
    "start_time": "2023-03-25T16:30:55.380Z"
   },
   {
    "duration": 101,
    "start_time": "2023-03-25T16:31:03.509Z"
   },
   {
    "duration": 89,
    "start_time": "2023-03-25T16:31:07.819Z"
   },
   {
    "duration": 4,
    "start_time": "2023-03-25T16:31:16.518Z"
   },
   {
    "duration": 97,
    "start_time": "2023-03-25T16:31:18.774Z"
   },
   {
    "duration": 24,
    "start_time": "2023-03-25T16:31:19.669Z"
   },
   {
    "duration": 667,
    "start_time": "2023-03-25T17:22:57.255Z"
   },
   {
    "duration": 765,
    "start_time": "2023-03-25T17:24:58.522Z"
   },
   {
    "duration": 100,
    "start_time": "2023-03-25T17:25:32.169Z"
   },
   {
    "duration": 3,
    "start_time": "2023-03-25T17:25:57.773Z"
   },
   {
    "duration": 7,
    "start_time": "2023-03-25T17:28:23.748Z"
   },
   {
    "duration": 18,
    "start_time": "2023-03-25T17:30:37.045Z"
   },
   {
    "duration": 3,
    "start_time": "2023-03-25T17:30:40.212Z"
   },
   {
    "duration": 4,
    "start_time": "2023-03-25T17:30:40.481Z"
   },
   {
    "duration": 10,
    "start_time": "2023-03-25T17:30:40.967Z"
   },
   {
    "duration": 12,
    "start_time": "2023-03-25T17:30:41.296Z"
   },
   {
    "duration": 3,
    "start_time": "2023-03-25T17:30:57.630Z"
   },
   {
    "duration": 6,
    "start_time": "2023-03-25T17:30:57.848Z"
   },
   {
    "duration": 2,
    "start_time": "2023-03-25T17:30:58.188Z"
   },
   {
    "duration": 10,
    "start_time": "2023-03-25T17:30:59.278Z"
   },
   {
    "duration": 2372,
    "start_time": "2023-03-25T17:46:42.691Z"
   },
   {
    "duration": 1441,
    "start_time": "2023-03-25T17:46:45.066Z"
   },
   {
    "duration": 828,
    "start_time": "2023-03-25T17:46:46.508Z"
   },
   {
    "duration": 19,
    "start_time": "2023-03-25T17:46:47.338Z"
   },
   {
    "duration": 141,
    "start_time": "2023-03-25T17:46:47.358Z"
   },
   {
    "duration": 3,
    "start_time": "2023-03-25T17:46:47.501Z"
   },
   {
    "duration": 432,
    "start_time": "2023-03-25T17:46:47.505Z"
   },
   {
    "duration": 591,
    "start_time": "2023-03-25T17:46:47.938Z"
   },
   {
    "duration": 311,
    "start_time": "2023-03-25T17:46:48.530Z"
   },
   {
    "duration": 259,
    "start_time": "2023-03-25T17:46:48.843Z"
   },
   {
    "duration": 5,
    "start_time": "2023-03-25T17:46:49.104Z"
   },
   {
    "duration": 6,
    "start_time": "2023-03-25T17:46:49.110Z"
   },
   {
    "duration": 80,
    "start_time": "2023-03-25T17:46:49.117Z"
   },
   {
    "duration": 29,
    "start_time": "2023-03-25T17:46:49.200Z"
   },
   {
    "duration": 76,
    "start_time": "2023-03-25T17:46:49.230Z"
   },
   {
    "duration": 175,
    "start_time": "2023-03-25T17:46:49.308Z"
   },
   {
    "duration": 26,
    "start_time": "2023-03-25T17:46:49.487Z"
   },
   {
    "duration": 22,
    "start_time": "2023-03-25T17:46:49.514Z"
   },
   {
    "duration": 54,
    "start_time": "2023-03-25T17:46:49.537Z"
   },
   {
    "duration": 48,
    "start_time": "2023-03-25T17:46:49.593Z"
   },
   {
    "duration": 51,
    "start_time": "2023-03-25T17:46:49.642Z"
   },
   {
    "duration": 27,
    "start_time": "2023-03-25T17:46:49.695Z"
   },
   {
    "duration": 159,
    "start_time": "2023-03-25T17:46:49.724Z"
   },
   {
    "duration": 39,
    "start_time": "2023-03-25T17:46:49.886Z"
   },
   {
    "duration": 61,
    "start_time": "2023-03-25T17:46:49.926Z"
   },
   {
    "duration": 28,
    "start_time": "2023-03-25T17:46:49.988Z"
   },
   {
    "duration": 66,
    "start_time": "2023-03-25T17:46:50.017Z"
   },
   {
    "duration": 79,
    "start_time": "2023-03-25T17:46:50.084Z"
   },
   {
    "duration": 47,
    "start_time": "2023-03-25T17:46:50.164Z"
   },
   {
    "duration": 20,
    "start_time": "2023-03-25T17:46:50.212Z"
   },
   {
    "duration": 379,
    "start_time": "2023-03-25T17:46:50.234Z"
   },
   {
    "duration": 21,
    "start_time": "2023-03-25T17:46:50.614Z"
   },
   {
    "duration": 46,
    "start_time": "2023-03-25T17:46:50.637Z"
   },
   {
    "duration": 1075331,
    "start_time": "2023-03-25T17:46:50.684Z"
   },
   {
    "duration": 25,
    "start_time": "2023-03-25T18:04:46.017Z"
   },
   {
    "duration": 45,
    "start_time": "2023-03-25T18:04:46.044Z"
   },
   {
    "duration": 193,
    "start_time": "2023-03-25T18:04:46.092Z"
   },
   {
    "duration": 5,
    "start_time": "2023-03-25T18:04:46.289Z"
   },
   {
    "duration": 20,
    "start_time": "2023-03-25T18:04:46.296Z"
   },
   {
    "duration": 244,
    "start_time": "2023-03-25T18:04:46.318Z"
   },
   {
    "duration": 27,
    "start_time": "2023-03-25T18:04:46.568Z"
   },
   {
    "duration": 32,
    "start_time": "2023-03-25T18:04:46.596Z"
   },
   {
    "duration": 71,
    "start_time": "2023-03-25T18:04:46.631Z"
   },
   {
    "duration": 76,
    "start_time": "2023-03-25T18:04:46.704Z"
   },
   {
    "duration": 38,
    "start_time": "2023-03-25T18:04:46.782Z"
   },
   {
    "duration": 72,
    "start_time": "2023-03-25T18:04:46.822Z"
   },
   {
    "duration": 282,
    "start_time": "2023-03-25T18:04:46.897Z"
   },
   {
    "duration": 6,
    "start_time": "2023-03-25T18:04:47.185Z"
   },
   {
    "duration": 6,
    "start_time": "2023-03-25T18:04:47.193Z"
   },
   {
    "duration": 23,
    "start_time": "2023-03-25T18:04:47.200Z"
   },
   {
    "duration": 59,
    "start_time": "2023-03-25T18:04:47.224Z"
   },
   {
    "duration": 10,
    "start_time": "2023-03-25T18:04:47.284Z"
   },
   {
    "duration": 626,
    "start_time": "2023-03-25T18:04:47.296Z"
   },
   {
    "duration": 9,
    "start_time": "2023-03-25T18:04:47.924Z"
   },
   {
    "duration": 40,
    "start_time": "2023-03-25T18:04:47.935Z"
   },
   {
    "duration": 264,
    "start_time": "2023-03-25T18:04:47.976Z"
   },
   {
    "duration": 14,
    "start_time": "2023-03-25T18:04:48.242Z"
   },
   {
    "duration": 35,
    "start_time": "2023-03-25T18:04:48.258Z"
   },
   {
    "duration": 25,
    "start_time": "2023-03-25T18:04:48.295Z"
   },
   {
    "duration": 145,
    "start_time": "2023-03-25T18:04:48.322Z"
   },
   {
    "duration": 21,
    "start_time": "2023-03-25T18:04:48.477Z"
   },
   {
    "duration": 503,
    "start_time": "2023-03-25T18:04:48.500Z"
   },
   {
    "duration": 186,
    "start_time": "2023-03-25T18:04:49.005Z"
   },
   {
    "duration": 732224,
    "start_time": "2023-03-25T18:04:49.192Z"
   },
   {
    "duration": 22,
    "start_time": "2023-03-25T18:17:01.418Z"
   },
   {
    "duration": 51,
    "start_time": "2023-03-25T18:17:01.442Z"
   },
   {
    "duration": 620,
    "start_time": "2023-03-25T18:17:01.495Z"
   },
   {
    "duration": 23,
    "start_time": "2023-03-25T18:17:02.117Z"
   },
   {
    "duration": 90,
    "start_time": "2023-03-25T18:17:02.141Z"
   },
   {
    "duration": 108,
    "start_time": "2023-03-25T18:17:02.233Z"
   },
   {
    "duration": 77,
    "start_time": "2023-03-25T18:17:02.343Z"
   },
   {
    "duration": 790,
    "start_time": "2023-03-25T18:17:02.422Z"
   },
   {
    "duration": 3,
    "start_time": "2023-03-25T18:17:03.213Z"
   },
   {
    "duration": 84,
    "start_time": "2023-03-25T18:17:03.217Z"
   },
   {
    "duration": 123,
    "start_time": "2023-03-25T18:17:03.302Z"
   },
   {
    "duration": 0,
    "start_time": "2023-03-25T18:17:03.426Z"
   },
   {
    "duration": 0,
    "start_time": "2023-03-25T18:17:03.427Z"
   },
   {
    "duration": 0,
    "start_time": "2023-03-25T18:17:03.428Z"
   },
   {
    "duration": 0,
    "start_time": "2023-03-25T18:17:03.428Z"
   },
   {
    "duration": 0,
    "start_time": "2023-03-25T18:17:03.429Z"
   },
   {
    "duration": 0,
    "start_time": "2023-03-25T18:17:03.430Z"
   },
   {
    "duration": 0,
    "start_time": "2023-03-25T18:17:03.431Z"
   },
   {
    "duration": 0,
    "start_time": "2023-03-25T18:17:03.431Z"
   },
   {
    "duration": 0,
    "start_time": "2023-03-25T18:17:03.432Z"
   },
   {
    "duration": 0,
    "start_time": "2023-03-25T18:17:03.433Z"
   },
   {
    "duration": 0,
    "start_time": "2023-03-25T18:17:03.449Z"
   },
   {
    "duration": 0,
    "start_time": "2023-03-25T18:17:03.449Z"
   },
   {
    "duration": 0,
    "start_time": "2023-03-25T18:17:03.450Z"
   },
   {
    "duration": 0,
    "start_time": "2023-03-25T18:17:03.450Z"
   },
   {
    "duration": 0,
    "start_time": "2023-03-25T18:17:03.451Z"
   },
   {
    "duration": 85,
    "start_time": "2023-03-25T18:19:04.802Z"
   },
   {
    "duration": 3,
    "start_time": "2023-03-25T18:19:07.409Z"
   },
   {
    "duration": 2,
    "start_time": "2023-03-25T18:19:10.703Z"
   },
   {
    "duration": 81,
    "start_time": "2023-03-25T18:19:11.374Z"
   },
   {
    "duration": 62,
    "start_time": "2023-03-25T18:19:17.374Z"
   },
   {
    "duration": 42,
    "start_time": "2023-03-25T18:19:24.981Z"
   },
   {
    "duration": 78,
    "start_time": "2023-03-25T18:19:27.829Z"
   },
   {
    "duration": 207,
    "start_time": "2023-03-25T18:19:34.728Z"
   },
   {
    "duration": 10,
    "start_time": "2023-03-25T18:19:38.473Z"
   },
   {
    "duration": 8,
    "start_time": "2023-03-25T18:19:39.974Z"
   },
   {
    "duration": 10752299,
    "start_time": "2023-03-25T18:19:40.751Z"
   },
   {
    "duration": 10,
    "start_time": "2023-03-25T21:18:53.053Z"
   },
   {
    "duration": 3,
    "start_time": "2023-03-25T21:20:13.487Z"
   },
   {
    "duration": 2621,
    "start_time": "2023-03-29T00:46:24.744Z"
   },
   {
    "duration": 1585,
    "start_time": "2023-03-29T00:46:27.368Z"
   },
   {
    "duration": 976,
    "start_time": "2023-03-29T00:46:28.955Z"
   },
   {
    "duration": 23,
    "start_time": "2023-03-29T00:46:29.933Z"
   },
   {
    "duration": 125,
    "start_time": "2023-03-29T00:46:29.958Z"
   },
   {
    "duration": 5,
    "start_time": "2023-03-29T00:46:30.084Z"
   },
   {
    "duration": 609,
    "start_time": "2023-03-29T00:46:30.091Z"
   },
   {
    "duration": 722,
    "start_time": "2023-03-29T00:46:30.702Z"
   },
   {
    "duration": 431,
    "start_time": "2023-03-29T00:46:31.426Z"
   },
   {
    "duration": 282,
    "start_time": "2023-03-29T00:46:31.859Z"
   },
   {
    "duration": 7,
    "start_time": "2023-03-29T00:46:32.142Z"
   },
   {
    "duration": 11,
    "start_time": "2023-03-29T00:46:32.150Z"
   },
   {
    "duration": 43,
    "start_time": "2023-03-29T00:46:32.163Z"
   },
   {
    "duration": 50,
    "start_time": "2023-03-29T00:46:32.208Z"
   },
   {
    "duration": 60,
    "start_time": "2023-03-29T00:46:32.260Z"
   },
   {
    "duration": 192,
    "start_time": "2023-03-29T00:46:32.322Z"
   },
   {
    "duration": 45,
    "start_time": "2023-03-29T00:46:32.516Z"
   },
   {
    "duration": 27,
    "start_time": "2023-03-29T00:46:32.563Z"
   },
   {
    "duration": 59,
    "start_time": "2023-03-29T00:46:32.591Z"
   },
   {
    "duration": 63,
    "start_time": "2023-03-29T00:46:32.652Z"
   },
   {
    "duration": 80,
    "start_time": "2023-03-29T00:46:32.717Z"
   },
   {
    "duration": 44,
    "start_time": "2023-03-29T00:46:32.799Z"
   },
   {
    "duration": 105,
    "start_time": "2023-03-29T00:46:32.846Z"
   },
   {
    "duration": 28,
    "start_time": "2023-03-29T00:46:32.953Z"
   },
   {
    "duration": 61,
    "start_time": "2023-03-29T00:46:32.983Z"
   },
   {
    "duration": 32,
    "start_time": "2023-03-29T00:46:33.046Z"
   },
   {
    "duration": 62,
    "start_time": "2023-03-29T00:46:33.080Z"
   },
   {
    "duration": 43,
    "start_time": "2023-03-29T00:46:33.148Z"
   },
   {
    "duration": 63,
    "start_time": "2023-03-29T00:46:33.193Z"
   },
   {
    "duration": 19,
    "start_time": "2023-03-29T00:46:33.258Z"
   },
   {
    "duration": 362,
    "start_time": "2023-03-29T00:46:33.280Z"
   },
   {
    "duration": 28,
    "start_time": "2023-03-29T00:46:33.645Z"
   },
   {
    "duration": 36,
    "start_time": "2023-03-29T00:46:33.676Z"
   },
   {
    "duration": 997133,
    "start_time": "2023-03-29T00:46:33.714Z"
   },
   {
    "duration": 22,
    "start_time": "2023-03-29T01:03:10.849Z"
   },
   {
    "duration": 21,
    "start_time": "2023-03-29T01:03:10.873Z"
   },
   {
    "duration": 193,
    "start_time": "2023-03-29T01:03:10.895Z"
   },
   {
    "duration": 5,
    "start_time": "2023-03-29T01:03:11.091Z"
   },
   {
    "duration": 45,
    "start_time": "2023-03-29T01:03:11.097Z"
   },
   {
    "duration": 268,
    "start_time": "2023-03-29T01:03:11.144Z"
   },
   {
    "duration": 31,
    "start_time": "2023-03-29T01:03:11.414Z"
   },
   {
    "duration": 30,
    "start_time": "2023-03-29T01:03:11.447Z"
   },
   {
    "duration": 43,
    "start_time": "2023-03-29T01:03:11.479Z"
   },
   {
    "duration": 51,
    "start_time": "2023-03-29T01:03:11.542Z"
   },
   {
    "duration": 46,
    "start_time": "2023-03-29T01:03:11.595Z"
   },
   {
    "duration": 45,
    "start_time": "2023-03-29T01:03:11.643Z"
   },
   {
    "duration": 245,
    "start_time": "2023-03-29T01:03:11.690Z"
   },
   {
    "duration": 6,
    "start_time": "2023-03-29T01:03:11.937Z"
   },
   {
    "duration": 13,
    "start_time": "2023-03-29T01:03:11.945Z"
   },
   {
    "duration": 17,
    "start_time": "2023-03-29T01:03:11.960Z"
   },
   {
    "duration": 73,
    "start_time": "2023-03-29T01:03:11.978Z"
   },
   {
    "duration": 10,
    "start_time": "2023-03-29T01:03:12.053Z"
   },
   {
    "duration": 429,
    "start_time": "2023-03-29T01:03:12.065Z"
   },
   {
    "duration": 8,
    "start_time": "2023-03-29T01:03:12.496Z"
   },
   {
    "duration": 35,
    "start_time": "2023-03-29T01:03:12.507Z"
   },
   {
    "duration": 237,
    "start_time": "2023-03-29T01:03:12.545Z"
   },
   {
    "duration": 6,
    "start_time": "2023-03-29T01:03:12.784Z"
   },
   {
    "duration": 13,
    "start_time": "2023-03-29T01:03:12.792Z"
   },
   {
    "duration": 36,
    "start_time": "2023-03-29T01:03:12.807Z"
   },
   {
    "duration": 135,
    "start_time": "2023-03-29T01:03:12.845Z"
   },
   {
    "duration": 19,
    "start_time": "2023-03-29T01:03:12.983Z"
   },
   {
    "duration": 480,
    "start_time": "2023-03-29T01:03:13.004Z"
   },
   {
    "duration": 191,
    "start_time": "2023-03-29T01:03:13.486Z"
   },
   {
    "duration": 644321,
    "start_time": "2023-03-29T01:03:13.680Z"
   },
   {
    "duration": 22,
    "start_time": "2023-03-29T01:13:58.003Z"
   },
   {
    "duration": 17,
    "start_time": "2023-03-29T01:13:58.027Z"
   },
   {
    "duration": 55,
    "start_time": "2023-03-29T01:13:58.045Z"
   },
   {
    "duration": 419,
    "start_time": "2023-03-29T01:13:58.101Z"
   },
   {
    "duration": 584,
    "start_time": "2023-03-29T01:13:58.522Z"
   },
   {
    "duration": 163,
    "start_time": "2023-03-29T01:13:59.107Z"
   },
   {
    "duration": 492,
    "start_time": "2023-03-29T01:13:59.272Z"
   },
   {
    "duration": 11,
    "start_time": "2023-03-29T01:13:59.765Z"
   },
   {
    "duration": 18,
    "start_time": "2023-03-29T01:13:59.777Z"
   },
   {
    "duration": 131,
    "start_time": "2023-03-29T01:13:59.796Z"
   },
   {
    "duration": 0,
    "start_time": "2023-03-29T01:13:59.929Z"
   },
   {
    "duration": 0,
    "start_time": "2023-03-29T01:13:59.930Z"
   },
   {
    "duration": 0,
    "start_time": "2023-03-29T01:13:59.932Z"
   },
   {
    "duration": 0,
    "start_time": "2023-03-29T01:13:59.941Z"
   },
   {
    "duration": 0,
    "start_time": "2023-03-29T01:13:59.941Z"
   },
   {
    "duration": 0,
    "start_time": "2023-03-29T01:13:59.942Z"
   },
   {
    "duration": 0,
    "start_time": "2023-03-29T01:13:59.943Z"
   },
   {
    "duration": 0,
    "start_time": "2023-03-29T01:13:59.944Z"
   },
   {
    "duration": 0,
    "start_time": "2023-03-29T01:13:59.944Z"
   },
   {
    "duration": 0,
    "start_time": "2023-03-29T01:13:59.945Z"
   },
   {
    "duration": 0,
    "start_time": "2023-03-29T01:13:59.946Z"
   },
   {
    "duration": 0,
    "start_time": "2023-03-29T01:13:59.947Z"
   },
   {
    "duration": 0,
    "start_time": "2023-03-29T01:13:59.948Z"
   },
   {
    "duration": 0,
    "start_time": "2023-03-29T01:13:59.948Z"
   },
   {
    "duration": 0,
    "start_time": "2023-03-29T01:13:59.950Z"
   },
   {
    "duration": 0,
    "start_time": "2023-03-29T01:13:59.951Z"
   },
   {
    "duration": 0,
    "start_time": "2023-03-29T01:13:59.952Z"
   },
   {
    "duration": 0,
    "start_time": "2023-03-29T01:13:59.953Z"
   },
   {
    "duration": 0,
    "start_time": "2023-03-29T01:13:59.954Z"
   },
   {
    "duration": 0,
    "start_time": "2023-03-29T01:13:59.955Z"
   },
   {
    "duration": 0,
    "start_time": "2023-03-29T01:13:59.956Z"
   },
   {
    "duration": 0,
    "start_time": "2023-03-29T01:13:59.957Z"
   },
   {
    "duration": 11,
    "start_time": "2023-03-29T01:15:41.277Z"
   }
  ],
  "kernelspec": {
   "display_name": "Python 3 (ipykernel)",
   "language": "python",
   "name": "python3"
  },
  "language_info": {
   "codemirror_mode": {
    "name": "ipython",
    "version": 3
   },
   "file_extension": ".py",
   "mimetype": "text/x-python",
   "name": "python",
   "nbconvert_exporter": "python",
   "pygments_lexer": "ipython3",
   "version": "3.10.9"
  },
  "toc": {
   "base_numbering": 1,
   "nav_menu": {},
   "number_sections": true,
   "sideBar": true,
   "skip_h1_title": true,
   "title_cell": "Table of Contents",
   "title_sidebar": "Contents",
   "toc_cell": true,
   "toc_position": {
    "height": "calc(100% - 180px)",
    "left": "10px",
    "top": "150px",
    "width": "390px"
   },
   "toc_section_display": true,
   "toc_window_display": true
  }
 },
 "nbformat": 4,
 "nbformat_minor": 2
}
